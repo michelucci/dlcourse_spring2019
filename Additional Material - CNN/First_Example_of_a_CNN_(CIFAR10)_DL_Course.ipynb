{
  "nbformat": 4,
  "nbformat_minor": 0,
  "metadata": {
    "colab": {
      "name": "First Example of a CNN (CIFAR10) - DL Course.ipynb",
      "version": "0.3.2",
      "provenance": [],
      "collapsed_sections": [],
      "include_colab_link": true
    },
    "kernelspec": {
      "name": "python3",
      "display_name": "Python 3"
    },
    "accelerator": "GPU"
  },
  "cells": [
    {
      "cell_type": "markdown",
      "metadata": {
        "id": "view-in-github",
        "colab_type": "text"
      },
      "source": [
        "<a href=\"https://colab.research.google.com/github/michelucci/zhaw-dlcourse-spring2019/blob/master/Additional%20Material%20-%20CNN/First_Example_of_a_CNN_(CIFAR10)_DL_Course.ipynb\" target=\"_parent\"><img src=\"https://colab.research.google.com/assets/colab-badge.svg\" alt=\"Open In Colab\"/></a>"
      ]
    },
    {
      "cell_type": "markdown",
      "metadata": {
        "id": "GIPHkImaoZzn",
        "colab_type": "text"
      },
      "source": [
        "# First example of a CNN with the CIFAR10 dataset\n",
        "\n",
        "Created on 24/4/2019 21:00\n",
        "\n",
        "(C) Umberto Michelucci"
      ]
    },
    {
      "cell_type": "markdown",
      "metadata": {
        "id": "2f4lu30OuocC",
        "colab_type": "text"
      },
      "source": [
        "## Import of libraries"
      ]
    },
    {
      "cell_type": "code",
      "metadata": {
        "id": "1tkbZ5CjoZzu",
        "colab_type": "code",
        "outputId": "dd5b954a-b686-4290-a0b0-3ab1186ad800",
        "colab": {
          "base_uri": "https://localhost:8080/",
          "height": 34
        }
      },
      "source": [
        "from keras.models import Sequential\n",
        "from keras.layers import Dense, Conv2D, MaxPooling2D, Dropout, Flatten\n",
        "\n",
        "from keras.optimizers import adam\n",
        "from keras.callbacks import Callback\n",
        "\n",
        "from keras.utils import np_utils # To transform labels in categorical\n",
        "from keras.datasets import cifar10 # To load the dataset\n",
        "\n",
        "\n",
        "import numpy as np\n",
        "import matplotlib.pyplot as plt\n",
        "\n",
        "\n",
        "from keras import backend as K\n",
        "K.set_image_dim_ordering('tf') # To tell TensorFlow the right order of dims\n",
        "\n",
        "# if using google colab and wants to upload or download files\n",
        "from google.colab import files"
      ],
      "execution_count": 1,
      "outputs": [
        {
          "output_type": "stream",
          "text": [
            "Using TensorFlow backend.\n"
          ],
          "name": "stderr"
        }
      ]
    },
    {
      "cell_type": "code",
      "metadata": {
        "id": "SzfEacUQyY9I",
        "colab_type": "code",
        "colab": {}
      },
      "source": [
        "# Just to set some standard plot format\n",
        "import matplotlib as mpl\n",
        "mpl.style.use('classic')"
      ],
      "execution_count": 0,
      "outputs": []
    },
    {
      "cell_type": "markdown",
      "metadata": {
        "id": "Wcvno0hYtqKa",
        "colab_type": "text"
      },
      "source": [
        "## Preparation of the data"
      ]
    },
    {
      "cell_type": "code",
      "metadata": {
        "id": "WdVAo769oZ0G",
        "colab_type": "code",
        "outputId": "23a16d2e-5199-4910-8b41-271ddd6e84bf",
        "colab": {
          "base_uri": "https://localhost:8080/",
          "height": 51
        }
      },
      "source": [
        "(x_train, y_train), (x_test, y_test) = cifar10.load_data()\n",
        "x_train = x_train.astype('float32')\n",
        "x_test = x_test.astype('float32')"
      ],
      "execution_count": 3,
      "outputs": [
        {
          "output_type": "stream",
          "text": [
            "Downloading data from https://www.cs.toronto.edu/~kriz/cifar-10-python.tar.gz\n",
            "170500096/170498071 [==============================] - 8s 0us/step\n"
          ],
          "name": "stdout"
        }
      ]
    },
    {
      "cell_type": "code",
      "metadata": {
        "id": "U5-tlL69oZ0M",
        "colab_type": "code",
        "colab": {}
      },
      "source": [
        "mean = np.mean(x_train,axis=(0,1,2,3))\n",
        "std = np.std(x_train,axis=(0,1,2,3))\n",
        "x_train = (x_train-mean)/(std+1e-7)\n",
        "x_test = (x_test-mean)/(std+1e-7)"
      ],
      "execution_count": 0,
      "outputs": []
    },
    {
      "cell_type": "code",
      "metadata": {
        "id": "VhbpF0a5oZ0Q",
        "colab_type": "code",
        "colab": {}
      },
      "source": [
        "nClasses = 10\n",
        "y_train = np_utils.to_categorical(y_train,nClasses)\n",
        "y_test = np_utils.to_categorical(y_test,nClasses)"
      ],
      "execution_count": 0,
      "outputs": []
    },
    {
      "cell_type": "code",
      "metadata": {
        "id": "WNE2vS46oZ06",
        "colab_type": "code",
        "outputId": "a786ed37-c42b-46f8-9efe-9c97f804b2e7",
        "colab": {
          "base_uri": "https://localhost:8080/",
          "height": 51
        }
      },
      "source": [
        "print(x_train.shape)\n",
        "print(y_train.shape)"
      ],
      "execution_count": 6,
      "outputs": [
        {
          "output_type": "stream",
          "text": [
            "(50000, 32, 32, 3)\n",
            "(50000, 10)\n"
          ],
          "name": "stdout"
        }
      ]
    },
    {
      "cell_type": "markdown",
      "metadata": {
        "id": "oi9L4zskoZz4",
        "colab_type": "text"
      },
      "source": [
        "## Neural Network Model"
      ]
    },
    {
      "cell_type": "markdown",
      "metadata": {
        "id": "4BJrWQYUu1Ho",
        "colab_type": "text"
      },
      "source": [
        "### Creation of the model"
      ]
    },
    {
      "cell_type": "code",
      "metadata": {
        "id": "U22K_-PsmghP",
        "colab_type": "code",
        "colab": {}
      },
      "source": [
        "input_shape = (32,32,3)"
      ],
      "execution_count": 0,
      "outputs": []
    },
    {
      "cell_type": "code",
      "metadata": {
        "id": "eo4Ag1PsoZz6",
        "colab_type": "code",
        "colab": {}
      },
      "source": [
        "def createModel():\n",
        "    model = Sequential()\n",
        "    model.add(Conv2D(32, (3, 3), padding='same', activation='relu', input_shape=input_shape))\n",
        "    model.add(Conv2D(32, (3, 3), activation='relu'))\n",
        "    model.add(MaxPooling2D(pool_size=(2, 2)))\n",
        "    model.add(Dropout(0.4))\n",
        " \n",
        "    model.add(Conv2D(64, (3, 3), padding='same', activation='relu'))\n",
        "    model.add(Conv2D(64, (3, 3), activation='relu'))\n",
        "    model.add(MaxPooling2D(pool_size=(2, 2)))\n",
        "    model.add(Dropout(0.4))\n",
        " \n",
        "    model.add(Conv2D(64, (3, 3), padding='same', activation='relu'))\n",
        "    model.add(Conv2D(64, (3, 3), activation='relu'))\n",
        "    model.add(MaxPooling2D(pool_size=(2, 2)))\n",
        "    model.add(Dropout(0.4))\n",
        " \n",
        "    model.add(Flatten())\n",
        "    model.add(Dense(512, activation='relu'))\n",
        "    model.add(Dropout(0.5))\n",
        "    model.add(Dense(nClasses, activation='softmax'))\n",
        "     \n",
        "    return model"
      ],
      "execution_count": 0,
      "outputs": []
    },
    {
      "cell_type": "code",
      "metadata": {
        "id": "GTlsSHMboZ0o",
        "colab_type": "code",
        "outputId": "914db4fb-0365-4e1b-a4fd-60045fb905f9",
        "colab": {
          "base_uri": "https://localhost:8080/",
          "height": 179
        }
      },
      "source": [
        "K.clear_session()\n",
        "model = createModel()"
      ],
      "execution_count": 9,
      "outputs": [
        {
          "output_type": "stream",
          "text": [
            "WARNING:tensorflow:From /usr/local/lib/python3.6/dist-packages/tensorflow/python/framework/op_def_library.py:263: colocate_with (from tensorflow.python.framework.ops) is deprecated and will be removed in a future version.\n",
            "Instructions for updating:\n",
            "Colocations handled automatically by placer.\n",
            "WARNING:tensorflow:From /usr/local/lib/python3.6/dist-packages/keras/backend/tensorflow_backend.py:3445: calling dropout (from tensorflow.python.ops.nn_ops) with keep_prob is deprecated and will be removed in a future version.\n",
            "Instructions for updating:\n",
            "Please use `rate` instead of `keep_prob`. Rate should be set to `rate = 1 - keep_prob`.\n"
          ],
          "name": "stdout"
        }
      ]
    },
    {
      "cell_type": "code",
      "metadata": {
        "id": "5c2I8KOioZ0v",
        "colab_type": "code",
        "colab": {}
      },
      "source": [
        "AdamOpt = adam(lr=0.001)\n",
        "model.compile(optimizer=AdamOpt, loss='categorical_crossentropy', \n",
        "              metrics=['accuracy'])"
      ],
      "execution_count": 0,
      "outputs": []
    },
    {
      "cell_type": "code",
      "metadata": {
        "id": "GDiX5YhuxdAU",
        "colab_type": "code",
        "outputId": "417107df-adde-4362-a835-c4e578620544",
        "colab": {
          "base_uri": "https://localhost:8080/",
          "height": 680
        }
      },
      "source": [
        "model.summary()"
      ],
      "execution_count": 11,
      "outputs": [
        {
          "output_type": "stream",
          "text": [
            "_________________________________________________________________\n",
            "Layer (type)                 Output Shape              Param #   \n",
            "=================================================================\n",
            "conv2d_1 (Conv2D)            (None, 32, 32, 32)        896       \n",
            "_________________________________________________________________\n",
            "conv2d_2 (Conv2D)            (None, 30, 30, 32)        9248      \n",
            "_________________________________________________________________\n",
            "max_pooling2d_1 (MaxPooling2 (None, 15, 15, 32)        0         \n",
            "_________________________________________________________________\n",
            "dropout_1 (Dropout)          (None, 15, 15, 32)        0         \n",
            "_________________________________________________________________\n",
            "conv2d_3 (Conv2D)            (None, 15, 15, 64)        18496     \n",
            "_________________________________________________________________\n",
            "conv2d_4 (Conv2D)            (None, 13, 13, 64)        36928     \n",
            "_________________________________________________________________\n",
            "max_pooling2d_2 (MaxPooling2 (None, 6, 6, 64)          0         \n",
            "_________________________________________________________________\n",
            "dropout_2 (Dropout)          (None, 6, 6, 64)          0         \n",
            "_________________________________________________________________\n",
            "conv2d_5 (Conv2D)            (None, 6, 6, 64)          36928     \n",
            "_________________________________________________________________\n",
            "conv2d_6 (Conv2D)            (None, 4, 4, 64)          36928     \n",
            "_________________________________________________________________\n",
            "max_pooling2d_3 (MaxPooling2 (None, 2, 2, 64)          0         \n",
            "_________________________________________________________________\n",
            "dropout_3 (Dropout)          (None, 2, 2, 64)          0         \n",
            "_________________________________________________________________\n",
            "flatten_1 (Flatten)          (None, 256)               0         \n",
            "_________________________________________________________________\n",
            "dense_1 (Dense)              (None, 512)               131584    \n",
            "_________________________________________________________________\n",
            "dropout_4 (Dropout)          (None, 512)               0         \n",
            "_________________________________________________________________\n",
            "dense_2 (Dense)              (None, 10)                5130      \n",
            "=================================================================\n",
            "Total params: 276,138\n",
            "Trainable params: 276,138\n",
            "Non-trainable params: 0\n",
            "_________________________________________________________________\n"
          ],
          "name": "stdout"
        }
      ]
    },
    {
      "cell_type": "markdown",
      "metadata": {
        "id": "LFt3ieShu6H3",
        "colab_type": "text"
      },
      "source": [
        "### ```CustomCallBack``` class for logging"
      ]
    },
    {
      "cell_type": "code",
      "metadata": {
        "id": "8YlxnovupqOc",
        "colab_type": "code",
        "colab": {}
      },
      "source": [
        "class CustomCallback(Callback):\n",
        "    def on_epoch_end(self, epoch, logs={}):\n",
        "        if (epoch % 5 == 0):\n",
        "          print (\"Just finished epoch\", epoch)\n",
        "          print (\"--------------------------------\")\n",
        "          print ('Loss evaluated on the validation dataset =',\n",
        "                 logs.get('val_loss'))\n",
        "          print ('Accuracy reached train is', \n",
        "                 logs.get('acc'))\n",
        "          print ('Accuracy reached Val   is', \n",
        "                 logs.get('val_acc'))\n",
        "          return"
      ],
      "execution_count": 0,
      "outputs": []
    },
    {
      "cell_type": "markdown",
      "metadata": {
        "id": "NL_uVCiovGoH",
        "colab_type": "text"
      },
      "source": [
        "### Training of the network"
      ]
    },
    {
      "cell_type": "code",
      "metadata": {
        "id": "3FV2D08UoZ1G",
        "colab_type": "code",
        "outputId": "73f09e37-0eef-4793-82e6-ba2ff586de67",
        "colab": {
          "base_uri": "https://localhost:8080/",
          "height": 985
        }
      },
      "source": [
        "batch_size = 256\n",
        "epochs = 50\n",
        "\n",
        "CC = CustomCallback()\n",
        "history = model.fit(x_train, y_train, batch_size=batch_size, epochs=epochs, \n",
        "                    verbose=0, \n",
        "                    validation_data=(x_test, y_test),\n",
        "          callbacks = [CC])"
      ],
      "execution_count": 0,
      "outputs": [
        {
          "output_type": "stream",
          "text": [
            "WARNING:tensorflow:From /usr/local/lib/python3.6/dist-packages/tensorflow/python/ops/math_ops.py:3066: to_int32 (from tensorflow.python.ops.math_ops) is deprecated and will be removed in a future version.\n",
            "Instructions for updating:\n",
            "Use tf.cast instead.\n",
            "Just finished epoch 0\n",
            "--------------------------------\n",
            "Loss evaluated on the validation dataset = 1.4959655670166017\n",
            "Accuracy reached train is 0.2864199999809265\n",
            "Accuracy reached Val   is 0.4394\n",
            "Just finished epoch 5\n",
            "--------------------------------\n",
            "Loss evaluated on the validation dataset = 0.8970609375\n",
            "Accuracy reached train is 0.6494599999809265\n",
            "Accuracy reached Val   is 0.6899\n",
            "Just finished epoch 10\n",
            "--------------------------------\n",
            "Loss evaluated on the validation dataset = 0.7176825339317322\n",
            "Accuracy reached train is 0.716839999961853\n",
            "Accuracy reached Val   is 0.7543\n",
            "Just finished epoch 15\n",
            "--------------------------------\n",
            "Loss evaluated on the validation dataset = 0.64702516040802\n",
            "Accuracy reached train is 0.7492799999809265\n",
            "Accuracy reached Val   is 0.7757\n",
            "Just finished epoch 20\n",
            "--------------------------------\n",
            "Loss evaluated on the validation dataset = 0.6201654735565185\n",
            "Accuracy reached train is 0.7679399999809265\n",
            "Accuracy reached Val   is 0.7853\n",
            "Just finished epoch 25\n",
            "--------------------------------\n",
            "Loss evaluated on the validation dataset = 0.5776691034317016\n",
            "Accuracy reached train is 0.783539999961853\n",
            "Accuracy reached Val   is 0.8029\n",
            "Just finished epoch 30\n",
            "--------------------------------\n",
            "Loss evaluated on the validation dataset = 0.5769206933975219\n",
            "Accuracy reached train is 0.792780000038147\n",
            "Accuracy reached Val   is 0.8005\n",
            "Just finished epoch 35\n",
            "--------------------------------\n",
            "Loss evaluated on the validation dataset = 0.5776689708709717\n",
            "Accuracy reached train is 0.8018400000190735\n",
            "Accuracy reached Val   is 0.8068\n",
            "Just finished epoch 40\n",
            "--------------------------------\n",
            "Loss evaluated on the validation dataset = 0.558317541885376\n",
            "Accuracy reached train is 0.8067799999809265\n",
            "Accuracy reached Val   is 0.814\n",
            "Just finished epoch 45\n",
            "--------------------------------\n",
            "Loss evaluated on the validation dataset = 0.5443133306503296\n",
            "Accuracy reached train is 0.81132\n",
            "Accuracy reached Val   is 0.8176\n"
          ],
          "name": "stdout"
        }
      ]
    },
    {
      "cell_type": "markdown",
      "metadata": {
        "id": "h7jgBcjYuBKV",
        "colab_type": "text"
      },
      "source": [
        "## Plots"
      ]
    },
    {
      "cell_type": "code",
      "metadata": {
        "id": "t0ETi-P4oZ1I",
        "colab_type": "code",
        "outputId": "59cf663c-f240-47f0-db57-dcc37ea12518",
        "colab": {
          "base_uri": "https://localhost:8080/",
          "height": 501
        }
      },
      "source": [
        "# Loss Curves\n",
        "plt.figure(figsize=[8,6])\n",
        "plt.plot(history.history['loss'],'black',linewidth=3.0)\n",
        "plt.plot(history.history['val_loss'],'black',ls = '--', linewidth=3.0)\n",
        "plt.legend(['Training loss', 'Validation Loss'],fontsize=18)\n",
        "plt.xlabel('Epochs ',fontsize=16)\n",
        "plt.ylabel('Loss',fontsize=16)\n",
        "#plt.title('Loss Curves',fontsize=16)\n",
        "\n",
        "#plt.savefig('loss.png', bbox_inches='tight', dpi = 300)\n",
        "#files.download('loss.png')"
      ],
      "execution_count": 0,
      "outputs": [
        {
          "output_type": "execute_result",
          "data": {
            "text/plain": [
              "Text(0, 0.5, 'Loss')"
            ]
          },
          "metadata": {
            "tags": []
          },
          "execution_count": 16
        },
        {
          "output_type": "display_data",
          "data": {
            "image/png": "[encoded data removed]",
            "text/plain": [
              "<Figure size 640x480 with 1 Axes>"
            ]
          },
          "metadata": {
            "tags": []
          }
        }
      ]
    },
    {
      "cell_type": "code",
      "metadata": {
        "id": "Vsa4cwWopVBh",
        "colab_type": "code",
        "outputId": "930b3bca-5634-4493-938c-b8c3b3c44aa2",
        "colab": {
          "base_uri": "https://localhost:8080/",
          "height": 501
        }
      },
      "source": [
        "# Accuracy Curves\n",
        "plt.figure(figsize=[8,6])\n",
        "plt.plot(history.history['acc'],'black',linewidth=3.0)\n",
        "plt.plot(history.history['val_acc'],'black',ls = '--',linewidth=3.0)\n",
        "plt.legend(['Training Accuracy', 'Validation Accuracy'],fontsize=18, \n",
        "           loc = 'lower right')\n",
        "plt.xlabel('Epochs ',fontsize=16)\n",
        "plt.ylabel('Accuracy',fontsize=16)\n",
        "#plt.title('Accuracy Curves',fontsize=16)\n",
        "\n",
        "#plt.savefig('accuracy.png', bbox_inches='tight', dpi = 300)\n",
        "#files.download('accuracy.png')"
      ],
      "execution_count": 0,
      "outputs": [
        {
          "output_type": "execute_result",
          "data": {
            "text/plain": [
              "Text(0, 0.5, 'Accuracy')"
            ]
          },
          "metadata": {
            "tags": []
          },
          "execution_count": 17
        },
        {
          "output_type": "display_data",
          "data": {
            "image/png": "[encoded data removed]",
            "text/plain": [
              "<Figure size 640x480 with 1 Axes>"
            ]
          },
          "metadata": {
            "tags": []
          }
        }
      ]
    }
  ]
}