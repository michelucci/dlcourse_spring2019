{
  "nbformat": 4,
  "nbformat_minor": 0,
  "metadata": {
    "colab": {
      "name": "RNN Basic Example.ipynb",
      "version": "0.3.2",
      "provenance": [],
      "include_colab_link": true
    },
    "kernelspec": {
      "display_name": "Python 3",
      "language": "python",
      "name": "python3"
    }
  },
  "cells": [
    {
      "cell_type": "markdown",
      "metadata": {
        "id": "view-in-github",
        "colab_type": "text"
      },
      "source": [
        "<a href=\"https://colab.research.google.com/github/michelucci/zhaw-dlcourse-spring2019/blob/master/Additional%20Material%20-%20RNN/RNN%20Basic%20Example.ipynb\" target=\"_parent\"><img src=\"https://colab.research.google.com/assets/colab-badge.svg\" alt=\"Open In Colab\"/></a>"
      ]
    },
    {
      "metadata": {
        "id": "uvsmtK2BBiB-",
        "colab_type": "text"
      },
      "cell_type": "markdown",
      "source": [
        "# Neural Networks and Deep Learning for Life Sciences and Health Applications - An introductory course about theoretical fundamentals, case studies and implementations in python and tensorflow"
      ]
    },
    {
      "metadata": {
        "id": "fOmhsBa2BiCA",
        "colab_type": "text"
      },
      "cell_type": "markdown",
      "source": [
        "(C) Umberto Michelucci 2018 - umberto.michelucci@gmail.com \n",
        "\n",
        "github repository: https://github.com/michelucci/zhaw-dlcourse-spring2019\n",
        "\n",
        "Spring Semester 2019"
      ]
    },
    {
      "metadata": {
        "id": "yHeoBYm5BiCB",
        "colab_type": "code",
        "colab": {}
      },
      "cell_type": "code",
      "source": [
        "import numpy as np\n",
        "import tensorflow as tf"
      ],
      "execution_count": 0,
      "outputs": []
    },
    {
      "metadata": {
        "id": "eMVA-FdEBiCE",
        "colab_type": "code",
        "colab": {}
      },
      "cell_type": "code",
      "source": [
        "from random import shuffle"
      ],
      "execution_count": 0,
      "outputs": []
    },
    {
      "metadata": {
        "id": "-LLRf9KjBiCH",
        "colab_type": "text"
      },
      "cell_type": "markdown",
      "source": [
        "# Explanation of data preparation"
      ]
    },
    {
      "metadata": {
        "id": "i9VhjoLVBiCH",
        "colab_type": "code",
        "colab": {},
        "outputId": "5d549df0-bc68-491a-eefa-a8a72e02a8ba"
      },
      "cell_type": "code",
      "source": [
        " ['{0:04b}'.format(i) for i in range(2**4)]"
      ],
      "execution_count": 0,
      "outputs": [
        {
          "output_type": "execute_result",
          "data": {
            "text/plain": [
              "['0000',\n",
              " '0001',\n",
              " '0010',\n",
              " '0011',\n",
              " '0100',\n",
              " '0101',\n",
              " '0110',\n",
              " '0111',\n",
              " '1000',\n",
              " '1001',\n",
              " '1010',\n",
              " '1011',\n",
              " '1100',\n",
              " '1101',\n",
              " '1110',\n",
              " '1111']"
            ]
          },
          "metadata": {
            "tags": []
          },
          "execution_count": 3
        }
      ]
    },
    {
      "metadata": {
        "id": "F7GBFvDUBiCM",
        "colab_type": "text"
      },
      "cell_type": "markdown",
      "source": [
        "# Data preparation"
      ]
    },
    {
      "metadata": {
        "id": "GC6fYOxoBiCM",
        "colab_type": "code",
        "colab": {}
      },
      "cell_type": "code",
      "source": [
        "nn = 15\n",
        "ll = 2**15"
      ],
      "execution_count": 0,
      "outputs": []
    },
    {
      "metadata": {
        "id": "tIm2eEodBiCP",
        "colab_type": "code",
        "colab": {}
      },
      "cell_type": "code",
      "source": [
        "train_input = ['{0:015b}'.format(i) for i in range(ll)]\n",
        "shuffle(train_input)\n",
        "train_input = [map(int,i) for i in train_input]\n",
        "ti  = []\n",
        "for i in train_input:\n",
        "    temp_list = []\n",
        "    for j in i:\n",
        "            temp_list.append([j])\n",
        "    ti.append(np.array(temp_list))\n",
        "train_input = ti"
      ],
      "execution_count": 0,
      "outputs": []
    },
    {
      "metadata": {
        "id": "x49LKvpbBiCR",
        "colab_type": "code",
        "colab": {},
        "outputId": "f8fb66ae-ddc4-4d6a-e38a-0ccdf8c2f233"
      },
      "cell_type": "code",
      "source": [
        "np.asarray(train_input).shape"
      ],
      "execution_count": 0,
      "outputs": [
        {
          "output_type": "execute_result",
          "data": {
            "text/plain": [
              "(32768, 15, 1)"
            ]
          },
          "metadata": {
            "tags": []
          },
          "execution_count": 6
        }
      ]
    },
    {
      "metadata": {
        "id": "rDpyp3nLBiCV",
        "colab_type": "code",
        "colab": {},
        "outputId": "fc7066a6-d567-4904-86e7-54d9b1354d30"
      },
      "cell_type": "code",
      "source": [
        "np.asarray(train_input).reshape(ll,nn)"
      ],
      "execution_count": 0,
      "outputs": [
        {
          "output_type": "execute_result",
          "data": {
            "text/plain": [
              "array([[0, 1, 1, ..., 0, 0, 1],\n",
              "       [1, 1, 1, ..., 1, 1, 1],\n",
              "       [1, 1, 0, ..., 1, 0, 0],\n",
              "       ...,\n",
              "       [1, 1, 1, ..., 0, 0, 1],\n",
              "       [0, 1, 0, ..., 0, 0, 1],\n",
              "       [1, 0, 0, ..., 1, 1, 1]])"
            ]
          },
          "metadata": {
            "tags": []
          },
          "execution_count": 7
        }
      ]
    },
    {
      "metadata": {
        "id": "-4Jt4vPkBiCX",
        "colab_type": "code",
        "colab": {}
      },
      "cell_type": "code",
      "source": [
        "train_output = []\n",
        " \n",
        "for i in train_input:\n",
        "    count = 0\n",
        "    for j in i:\n",
        "        if j[0] == 1:\n",
        "            count+=1\n",
        "    temp_list = ([0]*(nn+1))\n",
        "    temp_list[count]=1\n",
        "    train_output.append(temp_list)"
      ],
      "execution_count": 0,
      "outputs": []
    },
    {
      "metadata": {
        "id": "nyq-iMMtBiCZ",
        "colab_type": "code",
        "colab": {},
        "outputId": "fdd69889-8e27-47b7-dc0b-03e8aa6b2973"
      },
      "cell_type": "code",
      "source": [
        "np.asarray(train_output).shape"
      ],
      "execution_count": 0,
      "outputs": [
        {
          "output_type": "execute_result",
          "data": {
            "text/plain": [
              "(32768, 16)"
            ]
          },
          "metadata": {
            "tags": []
          },
          "execution_count": 9
        }
      ]
    },
    {
      "metadata": {
        "id": "_2V1FqtuBiCb",
        "colab_type": "code",
        "colab": {}
      },
      "cell_type": "code",
      "source": [
        "NUM_EXAMPLES = ll-2000\n",
        "test_input = train_input[NUM_EXAMPLES:]\n",
        "test_output = train_output[NUM_EXAMPLES:] #everything beyond 10,000\n",
        " \n",
        "train_input = train_input[:NUM_EXAMPLES]\n",
        "train_output = train_output[:NUM_EXAMPLES] #till 10,000"
      ],
      "execution_count": 0,
      "outputs": []
    },
    {
      "metadata": {
        "id": "4GoygtJtBiCd",
        "colab_type": "code",
        "colab": {},
        "outputId": "aca890c7-4ce5-4f0d-9c9b-88fa90e09c9e"
      },
      "cell_type": "code",
      "source": [
        "np.asarray(test_input).shape"
      ],
      "execution_count": 0,
      "outputs": [
        {
          "output_type": "execute_result",
          "data": {
            "text/plain": [
              "(2000, 15, 1)"
            ]
          },
          "metadata": {
            "tags": []
          },
          "execution_count": 11
        }
      ]
    },
    {
      "metadata": {
        "id": "B0nS9BkNBiCg",
        "colab_type": "code",
        "colab": {},
        "outputId": "5db3efe5-be55-428b-ca5b-e038076e7a42"
      },
      "cell_type": "code",
      "source": [
        "np.asarray(train_input).shape"
      ],
      "execution_count": 0,
      "outputs": [
        {
          "output_type": "execute_result",
          "data": {
            "text/plain": [
              "(30768, 15, 1)"
            ]
          },
          "metadata": {
            "tags": []
          },
          "execution_count": 12
        }
      ]
    },
    {
      "metadata": {
        "scrolled": false,
        "id": "lgQd6uKCBiCj",
        "colab_type": "code",
        "colab": {}
      },
      "cell_type": "code",
      "source": [
        "tf.reset_default_graph()\n",
        "\n",
        "data = tf.placeholder(tf.float32, [None, nn,1])\n",
        "target = tf.placeholder(tf.float32, [None, (nn+1)])\n",
        "\n",
        "num_hidden = 24\n",
        "cell = tf.nn.rnn_cell.LSTMCell(num_hidden,state_is_tuple=True)\n",
        "\n",
        "val, state = tf.nn.dynamic_rnn(cell, data, dtype=tf.float32)\n",
        "val = tf.transpose(val, [1, 0, 2])\n",
        "last = tf.gather(val, int(val.get_shape()[0]) - 1)\n",
        "\n",
        "weight = tf.Variable(tf.truncated_normal([num_hidden, int(target.get_shape()[1])]))\n",
        "bias = tf.Variable(tf.constant(0.1, shape=[target.get_shape()[1]]))\n",
        "\n",
        "prediction = tf.nn.softmax(tf.matmul(last, weight) + bias)"
      ],
      "execution_count": 0,
      "outputs": []
    },
    {
      "metadata": {
        "id": "SXJ_H7LtBiCm",
        "colab_type": "code",
        "colab": {}
      },
      "cell_type": "code",
      "source": [
        "cross_entropy = -tf.reduce_sum(target * tf.log(tf.clip_by_value(prediction,1e-10,1.0)))"
      ],
      "execution_count": 0,
      "outputs": []
    },
    {
      "metadata": {
        "id": "kDEVjp9lBiCp",
        "colab_type": "code",
        "colab": {},
        "outputId": "1ffe66a0-c1e7-4df6-c13f-3521262410f1"
      },
      "cell_type": "code",
      "source": [
        "optimizer = tf.train.AdamOptimizer()\n",
        "minimize = optimizer.minimize(cross_entropy)"
      ],
      "execution_count": 0,
      "outputs": [
        {
          "output_type": "stream",
          "text": [
            "C:\\Users\\umber\\Anaconda3\\envs\\tensorflow Keras\\lib\\site-packages\\tensorflow\\python\\ops\\gradients_impl.py:112: UserWarning: Converting sparse IndexedSlices to a dense Tensor of unknown shape. This may consume a large amount of memory.\n",
            "  \"Converting sparse IndexedSlices to a dense Tensor of unknown shape. \"\n"
          ],
          "name": "stderr"
        }
      ]
    },
    {
      "metadata": {
        "id": "IHFSsQwQBiCs",
        "colab_type": "code",
        "colab": {}
      },
      "cell_type": "code",
      "source": [
        "mistakes = tf.not_equal(tf.argmax(target, 1), tf.argmax(prediction, 1))\n",
        "error = tf.reduce_mean(tf.cast(mistakes, tf.float32))"
      ],
      "execution_count": 0,
      "outputs": []
    },
    {
      "metadata": {
        "id": "LlPDfXCLBiCw",
        "colab_type": "code",
        "colab": {}
      },
      "cell_type": "code",
      "source": [
        "init_op = tf.global_variables_initializer()\n",
        "sess = tf.Session()\n",
        "sess.run(init_op)"
      ],
      "execution_count": 0,
      "outputs": []
    },
    {
      "metadata": {
        "id": "TLcVdyKXBiCz",
        "colab_type": "code",
        "colab": {},
        "outputId": "f525efbf-e584-4091-85a9-e932d602469f"
      },
      "cell_type": "code",
      "source": [
        "len(train_input)"
      ],
      "execution_count": 0,
      "outputs": [
        {
          "output_type": "execute_result",
          "data": {
            "text/plain": [
              "30768"
            ]
          },
          "metadata": {
            "tags": []
          },
          "execution_count": 18
        }
      ]
    },
    {
      "metadata": {
        "scrolled": false,
        "id": "2YiEMN7MBiC2",
        "colab_type": "code",
        "colab": {},
        "outputId": "54213359-8c45-4c47-cfc1-155e88b85bfb"
      },
      "cell_type": "code",
      "source": [
        "batch_size = 1000\n",
        "no_of_batches = int(len(train_input)/batch_size)\n",
        "epoch = 100\n",
        "for i in range(epoch):\n",
        "    ptr = 0\n",
        "    for j in range(no_of_batches):\n",
        "        inp, out = train_input[ptr:ptr+batch_size], train_output[ptr:ptr+batch_size]\n",
        "        ptr+=batch_size\n",
        "        sess.run(minimize,{data: inp, target: out})\n",
        "    if (i % 10 == 0):\n",
        "        print (\"Epoch - \",str(i))\n",
        "        incorrect = sess.run(error,{data: test_input, target: test_output})\n",
        "        print('Epoch {:2d} error {:3.1f}%'.format(i + 1, 100 * incorrect))\n",
        "incorrect = sess.run(error,{data: test_input, target: test_output})\n",
        "print('Epoch {:2d} error {:3.1f}%'.format(i + 1, 100 * incorrect))\n",
        "#sess.close()"
      ],
      "execution_count": 0,
      "outputs": [
        {
          "output_type": "stream",
          "text": [
            "Epoch -  0\n",
            "Epoch  1 error 89.3%\n",
            "Epoch -  10\n",
            "Epoch 11 error 29.3%\n",
            "Epoch -  20\n",
            "Epoch 21 error 16.0%\n",
            "Epoch -  30\n",
            "Epoch 31 error 8.6%\n",
            "Epoch -  40\n",
            "Epoch 41 error 3.7%\n",
            "Epoch -  50\n",
            "Epoch 51 error 2.9%\n",
            "Epoch -  60\n",
            "Epoch 61 error 2.6%\n",
            "Epoch -  70\n",
            "Epoch 71 error 2.0%\n",
            "Epoch -  80\n",
            "Epoch 81 error 1.9%\n",
            "Epoch -  90\n",
            "Epoch 91 error 1.7%\n",
            "Epoch 100 error 1.4%\n"
          ],
          "name": "stdout"
        }
      ]
    },
    {
      "metadata": {
        "id": "Zn7TzQ_8BiC4",
        "colab_type": "code",
        "colab": {},
        "outputId": "9c735140-22cc-4156-e9eb-1a53f6c209ab"
      },
      "cell_type": "code",
      "source": [
        "print (sess.run(tf.argmax(prediction, 1),{data: [[[1],[0],[0],[1],[1],[0],[1],[1],[1],[0],[1],[0],[0],[1],[1]]]}))"
      ],
      "execution_count": 0,
      "outputs": [
        {
          "output_type": "stream",
          "text": [
            "[9]\n"
          ],
          "name": "stdout"
        }
      ]
    },
    {
      "metadata": {
        "id": "cShPT1NKBiC7",
        "colab_type": "text"
      },
      "cell_type": "markdown",
      "source": [
        "# Normal network (that does not learn)"
      ]
    },
    {
      "metadata": {
        "id": "e5GQFza1BiC7",
        "colab_type": "code",
        "colab": {}
      },
      "cell_type": "code",
      "source": [
        "n_dim = 15\n",
        "tf.reset_default_graph()\n",
        "\n",
        "# Number of neurons in the layers\n",
        "n1 = 15 # Number of neurons in layer 1\n",
        "n2 = 16 # Number of neurons in output layer \n",
        "\n",
        "cost_history = np.empty(shape=[1], dtype = float)\n",
        "learning_rate = tf.placeholder(tf.float32, shape=())\n",
        "\n",
        "X = tf.placeholder(tf.float32, [15, None])\n",
        "Y = tf.placeholder(tf.float32, [16, None])\n",
        "W1 = tf.Variable(tf.truncated_normal([n1, n_dim], stddev=.1)) \n",
        "b1 = tf.Variable(tf.constant(0.1, shape = [n1,1]) )\n",
        "W2 = tf.Variable(tf.truncated_normal([n2, n1], stddev=.1)) \n",
        "b2 = tf.Variable(tf.constant(0.1, shape = [n2,1])) \n",
        "                 \n",
        "# Let's build our network...\n",
        "Z1 = tf.nn.relu(tf.matmul(W1, X) + b1) # n1 x n_dim * n_dim x n_obs = n1 x n_obs\n",
        "Z2 = tf.matmul(W2, Z1) + b2 # n2 x n1 * n1 * n_obs = n2 x n_obs\n",
        "y_ = tf.nn.softmax(Z2,0) # n2 x n_obs (10 x None)\n",
        "\n",
        "\n",
        "prediction = tf.nn.softmax(y_)\n",
        "\n",
        "cost = - tf.reduce_mean(Y * tf.log(y_)+(1-Y) * tf.log(1-y_))\n",
        "optimizer = tf.train.GradientDescentOptimizer(learning_rate).minimize(cost)\n",
        "\n",
        "mistakes = tf.not_equal(tf.argmax(Y, 1), tf.argmax(prediction, 1))\n",
        "error = tf.reduce_mean(tf.cast(mistakes, tf.float32))\n",
        "\n",
        "init = tf.global_variables_initializer()"
      ],
      "execution_count": 0,
      "outputs": []
    },
    {
      "metadata": {
        "id": "RJvEYhl8BiC9",
        "colab_type": "code",
        "colab": {},
        "outputId": "c87cb3b2-85cf-4d4c-f078-efe3ed2f1fdb"
      },
      "cell_type": "code",
      "source": [
        "train_size = 30768\n",
        "test_size = 2000\n",
        "\n",
        "sess = tf.Session()\n",
        "sess.run(tf.global_variables_initializer())\n",
        "\n",
        "training_epochs = 20\n",
        "    \n",
        "cost_history = []\n",
        "for epoch in range(training_epochs+1):\n",
        "\n",
        "    sess.run(optimizer, feed_dict = {X: np.asarray(train_input).reshape(15,30768), \n",
        "                                     Y: np.asarray(train_output).reshape(16,30768), learning_rate: .1})\n",
        "    cost_ = sess.run(cost, feed_dict={ X:np.asarray(train_input).reshape(15,30768), \n",
        "                                      Y: np.asarray(train_output).reshape(16,30768), learning_rate: .1})\n",
        "    cost_history = np.append(cost_history, cost_)\n",
        "    \n",
        "    if (epoch % 10 == 0):\n",
        "        print(\"Reached epoch\",epoch,\"cost J =\", cost_)\n",
        "        incorrect = sess.run(error,{X: np.asarray(test_input).reshape(15,test_size), \n",
        "                                    Y: np.asarray(test_output).reshape(16,test_size)})\n",
        "        print(100 * incorrect)"
      ],
      "execution_count": 0,
      "outputs": [
        {
          "output_type": "stream",
          "text": [
            "Reached epoch 0 cost J = 0.23398738\n",
            "100.0\n",
            "Reached epoch 10 cost J = 0.23398362\n",
            "100.0\n",
            "Reached epoch 20 cost J = 0.23398054\n",
            "100.0\n"
          ],
          "name": "stdout"
        }
      ]
    },
    {
      "metadata": {
        "id": "h0AETaXZBiDA",
        "colab_type": "code",
        "colab": {},
        "outputId": "9433f465-aa6a-446f-9af0-aeb644c98848"
      },
      "cell_type": "code",
      "source": [
        "np.asarray(train_input).reshape(15,30768)"
      ],
      "execution_count": 0,
      "outputs": [
        {
          "output_type": "execute_result",
          "data": {
            "text/plain": [
              "array([[0, 1, 1, ..., 0, 1, 1],\n",
              "       [1, 1, 0, ..., 0, 0, 0],\n",
              "       [1, 0, 1, ..., 1, 1, 0],\n",
              "       ...,\n",
              "       [1, 1, 1, ..., 0, 0, 1],\n",
              "       [0, 1, 0, ..., 1, 0, 1],\n",
              "       [0, 1, 1, ..., 0, 1, 0]])"
            ]
          },
          "metadata": {
            "tags": []
          },
          "execution_count": 33
        }
      ]
    }
  ]
}