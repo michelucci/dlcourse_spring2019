{
  "nbformat": 4,
  "nbformat_minor": 0,
  "metadata": {
    "colab": {
      "name": "Week 1 - Linear Algebra and Python Introduction.ipynb",
      "version": "0.3.2",
      "provenance": [],
      "include_colab_link": true
    },
    "kernelspec": {
      "display_name": "Python 3",
      "language": "python",
      "name": "python3"
    }
  },
  "cells": [
    {
      "cell_type": "markdown",
      "metadata": {
        "id": "view-in-github",
        "colab_type": "text"
      },
      "source": [
        "<a href=\"https://colab.research.google.com/github/michelucci/zhaw-dlcourse-spring2019/blob/master/Week%201%20-%20Mathematic%20introduction/Week%201%20-%20Linear%20Algebra%20and%20Python%20Introduction.ipynb\" target=\"_parent\"><img src=\"https://colab.research.google.com/assets/colab-badge.svg\" alt=\"Open In Colab\"/></a>"
      ]
    },
    {
      "metadata": {
        "id": "guPKYuI32TTD",
        "colab_type": "text"
      },
      "cell_type": "markdown",
      "source": [
        "# Neural Networks and Deep Learning for Life Sciences and Health Applications - An introductory course about theoretical fundamentals, case studies and implementations in python and tensorflow "
      ]
    },
    {
      "metadata": {
        "id": "99u_G94V2TTG",
        "colab_type": "text"
      },
      "cell_type": "markdown",
      "source": [
        "(C) Umberto Michelucci 2018 - umberto.michelucci@gmail.com \n",
        "\n",
        "github repository: https://github.com/michelucci/zhaw-dlcourse-spring2019\n",
        "\n",
        "Spring Semester 2019"
      ]
    },
    {
      "metadata": {
        "id": "LhhhxjQj2TTH",
        "colab_type": "text"
      },
      "cell_type": "markdown",
      "source": [
        "# Linear Algebra Introduction"
      ]
    },
    {
      "metadata": {
        "id": "biv8ET342TTH",
        "colab_type": "text"
      },
      "cell_type": "markdown",
      "source": [
        "# Import of libraries"
      ]
    },
    {
      "metadata": {
        "id": "n2rd_8oa2TTI",
        "colab_type": "text"
      },
      "cell_type": "markdown",
      "source": [
        "First of all let's import the libraries we will need afterwards. They are not necessary to deal with lists in Python, but we will use them to prepare lists full of random values, plot results, and so on."
      ]
    },
    {
      "metadata": {
        "id": "fdvHRmhb2TTJ",
        "colab_type": "code",
        "colab": {}
      },
      "cell_type": "code",
      "source": [
        "import random\n",
        "import math\n",
        "import numpy as np\n",
        "import pandas as pd\n",
        "import matplotlib.pyplot as plt\n",
        "\n",
        "from pandas.plotting import scatter_matrix"
      ],
      "execution_count": 0,
      "outputs": []
    },
    {
      "metadata": {
        "id": "pKTFCuYp2TTM",
        "colab_type": "text"
      },
      "cell_type": "markdown",
      "source": [
        "# Vectors"
      ]
    },
    {
      "metadata": {
        "id": "0NKwarAo2TTN",
        "colab_type": "text"
      },
      "cell_type": "markdown",
      "source": [
        "## Quick mathematical introduction"
      ]
    },
    {
      "metadata": {
        "id": "1IGBqEca2TTO",
        "colab_type": "text"
      },
      "cell_type": "markdown",
      "source": [
        "First of all let's start with the easiest entity that you will encounter in linear algebra: the vector. The vector is nothing else than an ordered list of elements. It is typically indicated with bold face symbols or letters with a small arrow on top. For example the following are vectors\n",
        "\n",
        "$$\n",
        "{\\bf v} = (1,2,3)\n",
        "$$\n",
        "\n",
        "or\n",
        "\n",
        "$$\n",
        "\\vec{v} = (1,2,3)\n",
        "$$\n",
        "\n",
        "a vector can have as many elements as you need. Typically we don't talk about vectors with just one element, we talk about scalars. \n",
        "\n",
        "A vector has a **dimension**, and that is the number of elements it has. So for example the vector ${\\bf v}$ has dimension $3$, since it has 3 elements. In \"basic Python\" (without using any library as numpy for example) you can build a vector with a list. For example our vector ${\\bf v}$ can be written as"
      ]
    },
    {
      "metadata": {
        "id": "3_Src2VK2TTO",
        "colab_type": "code",
        "colab": {}
      },
      "cell_type": "code",
      "source": [
        "v = [1,2,3]"
      ],
      "execution_count": 0,
      "outputs": []
    },
    {
      "metadata": {
        "id": "LoM32P5d2TTR",
        "colab_type": "text"
      },
      "cell_type": "markdown",
      "source": [
        "if you ask Python to print it you get the following representation"
      ]
    },
    {
      "metadata": {
        "id": "kafJO_iU2TTR",
        "colab_type": "code",
        "colab": {},
        "outputId": "549ce7e2-ce7f-45ca-bfa7-6f72bfcf6311"
      },
      "cell_type": "code",
      "source": [
        "print(v)"
      ],
      "execution_count": 0,
      "outputs": [
        {
          "output_type": "stream",
          "text": [
            "[1, 2, 3]\n"
          ],
          "name": "stdout"
        }
      ]
    },
    {
      "metadata": {
        "id": "GmfqrT2q2TTX",
        "colab_type": "text"
      },
      "cell_type": "markdown",
      "source": [
        "Another example of a vector with dimension equal to $5$ is\n",
        "\n",
        "$$\n",
        "{\\bf b} = (1,2,3,4,5)\n",
        "$$\n",
        "\n",
        "and in Python"
      ]
    },
    {
      "metadata": {
        "id": "j-Hg6FFw2TTX",
        "colab_type": "code",
        "colab": {}
      },
      "cell_type": "code",
      "source": [
        "b = [1,2,3,4,5]"
      ],
      "execution_count": 0,
      "outputs": []
    },
    {
      "metadata": {
        "id": "SAHV_WID2TTa",
        "colab_type": "text"
      },
      "cell_type": "markdown",
      "source": [
        "In case you need to review the Python data type check out what a ```list``` is here: https://docs.python.org/2/tutorial/introduction.htm"
      ]
    },
    {
      "metadata": {
        "id": "Suyzvpur2TTa",
        "colab_type": "text"
      },
      "cell_type": "markdown",
      "source": [
        "### Accessing elements in Python lists"
      ]
    },
    {
      "metadata": {
        "id": "M4y3aeJN2TTb",
        "colab_type": "text"
      },
      "cell_type": "markdown",
      "source": [
        "To access elements of a list in Python you can use an index. Keep in mind that in Python indeces start with 0. So for example the element at position 0 in ```b``` is ```1``` "
      ]
    },
    {
      "metadata": {
        "id": "nuU_IeJZ2TTc",
        "colab_type": "code",
        "colab": {},
        "outputId": "67a1d843-3482-458c-a32b-a00873d85ba6"
      },
      "cell_type": "code",
      "source": [
        "b[0]"
      ],
      "execution_count": 0,
      "outputs": [
        {
          "output_type": "execute_result",
          "data": {
            "text/plain": [
              "1"
            ]
          },
          "metadata": {
            "tags": []
          },
          "execution_count": 5
        }
      ]
    },
    {
      "metadata": {
        "id": "eF2t9BEg2TTg",
        "colab_type": "text"
      },
      "cell_type": "markdown",
      "source": [
        "and for example the last element of ```b``` that has $5$ elements has an index equal to 4 and not 5"
      ]
    },
    {
      "metadata": {
        "id": "KKee-UHG2TTh",
        "colab_type": "code",
        "colab": {},
        "outputId": "81713a51-637c-4b2b-b202-bd98a468cc55"
      },
      "cell_type": "code",
      "source": [
        "b[4]"
      ],
      "execution_count": 0,
      "outputs": [
        {
          "output_type": "execute_result",
          "data": {
            "text/plain": [
              "5"
            ]
          },
          "metadata": {
            "tags": []
          },
          "execution_count": 6
        }
      ]
    },
    {
      "metadata": {
        "id": "3MwrVYbR2TTk",
        "colab_type": "text"
      },
      "cell_type": "markdown",
      "source": [
        "If you try to use an index that is greater than the number of elements in a list minus 1 you get an error"
      ]
    },
    {
      "metadata": {
        "id": "9pzXGpOr2TTl",
        "colab_type": "code",
        "colab": {},
        "outputId": "b259df19-adcf-4408-bd66-ad97e47639c0"
      },
      "cell_type": "code",
      "source": [
        "b[5]"
      ],
      "execution_count": 0,
      "outputs": [
        {
          "output_type": "error",
          "ename": "IndexError",
          "evalue": "list index out of range",
          "traceback": [
            "\u001b[1;31m---------------------------------------------------------------------------\u001b[0m",
            "\u001b[1;31mIndexError\u001b[0m                                Traceback (most recent call last)",
            "\u001b[1;32m<ipython-input-6-c133823c3717>\u001b[0m in \u001b[0;36m<module>\u001b[1;34m()\u001b[0m\n\u001b[1;32m----> 1\u001b[1;33m \u001b[0mb\u001b[0m\u001b[1;33m[\u001b[0m\u001b[1;36m5\u001b[0m\u001b[1;33m]\u001b[0m\u001b[1;33m\u001b[0m\u001b[0m\n\u001b[0m",
            "\u001b[1;31mIndexError\u001b[0m: list index out of range"
          ]
        }
      ]
    },
    {
      "metadata": {
        "id": "pWmpQNb62TTo",
        "colab_type": "text"
      },
      "cell_type": "markdown",
      "source": [
        "The dimension of a list can be calculated in Python with ```len()```"
      ]
    },
    {
      "metadata": {
        "id": "oEPH5po12TTp",
        "colab_type": "code",
        "colab": {},
        "outputId": "881809ec-395d-40e7-82b0-a8da8d03c34b"
      },
      "cell_type": "code",
      "source": [
        "len(b)"
      ],
      "execution_count": 0,
      "outputs": [
        {
          "output_type": "execute_result",
          "data": {
            "text/plain": [
              "5"
            ]
          },
          "metadata": {
            "tags": []
          },
          "execution_count": 7
        }
      ]
    },
    {
      "metadata": {
        "id": "j19LK3Dz2TTr",
        "colab_type": "text"
      },
      "cell_type": "markdown",
      "source": [
        "> Remember indeces in Python start with 0 and not with 1"
      ]
    },
    {
      "metadata": {
        "id": "P1fCf3wn2TTs",
        "colab_type": "text"
      },
      "cell_type": "markdown",
      "source": [
        "### Creating lists and adding elements"
      ]
    },
    {
      "metadata": {
        "id": "xxA64zuT2TTt",
        "colab_type": "text"
      },
      "cell_type": "markdown",
      "source": [
        "To create an empty list you can use the following syntax"
      ]
    },
    {
      "metadata": {
        "id": "ZiTSz_gD2TTu",
        "colab_type": "code",
        "colab": {}
      },
      "cell_type": "code",
      "source": [
        "vec = []"
      ],
      "execution_count": 0,
      "outputs": []
    },
    {
      "metadata": {
        "id": "TnlPqaoJ2TTw",
        "colab_type": "text"
      },
      "cell_type": "markdown",
      "source": [
        "This has a dimension of zero and contains no elements."
      ]
    },
    {
      "metadata": {
        "id": "YvvZ8y5J2TTx",
        "colab_type": "code",
        "colab": {},
        "outputId": "293858ad-c4a5-4e04-b926-b7cca66c40ff"
      },
      "cell_type": "code",
      "source": [
        "print(vec)\n",
        "print(len(vec))"
      ],
      "execution_count": 0,
      "outputs": [
        {
          "output_type": "stream",
          "text": [
            "[]\n",
            "0\n"
          ],
          "name": "stdout"
        }
      ]
    },
    {
      "metadata": {
        "id": "lAdiPcDv2TT1",
        "colab_type": "text"
      },
      "cell_type": "markdown",
      "source": [
        "When you create an empty list and you want to add elements you need to use the method ```.append()``` as in the following example"
      ]
    },
    {
      "metadata": {
        "id": "zZZ7KCQw2TT3",
        "colab_type": "code",
        "colab": {}
      },
      "cell_type": "code",
      "source": [
        "vec.append(1)"
      ],
      "execution_count": 0,
      "outputs": []
    },
    {
      "metadata": {
        "id": "B2ZiRlEM2TT5",
        "colab_type": "text"
      },
      "cell_type": "markdown",
      "source": [
        "Now the list ```vec``` contains the element ```1```"
      ]
    },
    {
      "metadata": {
        "id": "S17cStD42TT6",
        "colab_type": "code",
        "colab": {},
        "outputId": "2efa3c2e-6f1b-4831-93ad-ec29a27cde74"
      },
      "cell_type": "code",
      "source": [
        "print(vec)"
      ],
      "execution_count": 0,
      "outputs": [
        {
          "output_type": "stream",
          "text": [
            "[1]\n"
          ],
          "name": "stdout"
        }
      ]
    },
    {
      "metadata": {
        "id": "UnaXR-su2TT9",
        "colab_type": "text"
      },
      "cell_type": "markdown",
      "source": [
        "we can add more elements to the list"
      ]
    },
    {
      "metadata": {
        "id": "xZIgpxvR2TT-",
        "colab_type": "code",
        "colab": {}
      },
      "cell_type": "code",
      "source": [
        "vec.append(2)\n",
        "vec.append(3)\n",
        "vec.append(4)"
      ],
      "execution_count": 0,
      "outputs": []
    },
    {
      "metadata": {
        "id": "LA-CVzmt2TUA",
        "colab_type": "code",
        "colab": {},
        "outputId": "a6cbba97-61f6-4579-da0f-712187fc9ed7"
      },
      "cell_type": "code",
      "source": [
        "print(vec)"
      ],
      "execution_count": 0,
      "outputs": [
        {
          "output_type": "stream",
          "text": [
            "[1, 2, 3, 4]\n"
          ],
          "name": "stdout"
        }
      ]
    },
    {
      "metadata": {
        "id": "JH79FRhI2TUC",
        "colab_type": "text"
      },
      "cell_type": "markdown",
      "source": [
        "### Loops of lists"
      ]
    },
    {
      "metadata": {
        "id": "eJrDvLmq2TUD",
        "colab_type": "text"
      },
      "cell_type": "markdown",
      "source": [
        "Very often you want to loop over the elements of a list (or a vector in mathematical notation). There are several ways of doing this. The easiest way is of course using the index"
      ]
    },
    {
      "metadata": {
        "id": "XK6nvhmN2TUE",
        "colab_type": "code",
        "colab": {},
        "outputId": "171cd53d-06a1-4453-c509-76fd4862e71b"
      },
      "cell_type": "code",
      "source": [
        "for i in range(0, len(b)):\n",
        "    print (b[i])"
      ],
      "execution_count": 0,
      "outputs": [
        {
          "output_type": "stream",
          "text": [
            "1\n",
            "2\n",
            "3\n",
            "4\n",
            "5\n"
          ],
          "name": "stdout"
        }
      ]
    },
    {
      "metadata": {
        "id": "kl3vnvEq2TUG",
        "colab_type": "text"
      },
      "cell_type": "markdown",
      "source": [
        "An even easier way of doing that (and a much more elegant) is to use the following syntax"
      ]
    },
    {
      "metadata": {
        "id": "f0SV_apk2TUH",
        "colab_type": "code",
        "colab": {},
        "outputId": "0bccfed6-a49f-45a1-fc35-97cef8b8488f"
      },
      "cell_type": "code",
      "source": [
        "for b_ in b:\n",
        "    print(b_)"
      ],
      "execution_count": 0,
      "outputs": [
        {
          "output_type": "stream",
          "text": [
            "1\n",
            "2\n",
            "3\n",
            "4\n",
            "5\n"
          ],
          "name": "stdout"
        }
      ]
    },
    {
      "metadata": {
        "id": "94LvPVk82TUJ",
        "colab_type": "text"
      },
      "cell_type": "markdown",
      "source": [
        "This is less artificial and you don't have to calcualte the ```len(b)``` to run it."
      ]
    },
    {
      "metadata": {
        "id": "58mRMxyx2TUK",
        "colab_type": "text"
      },
      "cell_type": "markdown",
      "source": [
        "Now let's create a list with $10^6$ elements and let's see how the two methods compare"
      ]
    },
    {
      "metadata": {
        "id": "4kBHZC-T2TUL",
        "colab_type": "code",
        "colab": {}
      },
      "cell_type": "code",
      "source": [
        "vec = []\n",
        "for x in range(10**6):\n",
        "  vec.append(random.randint(1,101))"
      ],
      "execution_count": 0,
      "outputs": []
    },
    {
      "metadata": {
        "scrolled": true,
        "id": "WUJcIJi82TUO",
        "colab_type": "code",
        "colab": {},
        "outputId": "65842767-8062-49fc-a63a-c62b154c3c8a"
      },
      "cell_type": "code",
      "source": [
        "%%timeit\n",
        "length = 0\n",
        "for vec_ in vec:\n",
        "    length = length + 1"
      ],
      "execution_count": 0,
      "outputs": [
        {
          "output_type": "stream",
          "text": [
            "95.9 ms ± 10.6 ms per loop (mean ± std. dev. of 7 runs, 10 loops each)\n"
          ],
          "name": "stdout"
        }
      ]
    },
    {
      "metadata": {
        "id": "3fVrbDyI2TUQ",
        "colab_type": "code",
        "colab": {},
        "outputId": "a8e15f08-3d8e-43d5-ed61-b1ac897b95f8"
      },
      "cell_type": "code",
      "source": [
        "%%timeit\n",
        "length = 0\n",
        "for i in range(0, len(vec)):\n",
        "    length = length + 1"
      ],
      "execution_count": 0,
      "outputs": [
        {
          "output_type": "stream",
          "text": [
            "112 ms ± 1.4 ms per loop (mean ± std. dev. of 7 runs, 10 loops each)\n"
          ],
          "name": "stdout"
        }
      ]
    },
    {
      "metadata": {
        "id": "qE1U9w3G2TUS",
        "colab_type": "text"
      },
      "cell_type": "markdown",
      "source": [
        "as mentioned the first one (the one that does not require the ```len(vec)```) is ca. $15\\%$ faster than the other."
      ]
    },
    {
      "metadata": {
        "id": "itmjT1uC2TUT",
        "colab_type": "text"
      },
      "cell_type": "markdown",
      "source": [
        "### ```range()```"
      ]
    },
    {
      "metadata": {
        "id": "_IKRYc002TUT",
        "colab_type": "text"
      },
      "cell_type": "markdown",
      "source": [
        "The ```range(n)``` function yields the numbers 0, 1, ... n-1, and ```range(a, b)``` returns a, a+1, ... b-1 -- up to but not including the last number. This function can be easily used for loops."
      ]
    },
    {
      "metadata": {
        "id": "hcYpWkgM2TUU",
        "colab_type": "code",
        "colab": {},
        "outputId": "81945c50-12bc-41e7-815f-16795b64010c"
      },
      "cell_type": "code",
      "source": [
        "for i in range(5):\n",
        "    print(i)"
      ],
      "execution_count": 0,
      "outputs": [
        {
          "output_type": "stream",
          "text": [
            "0\n",
            "1\n",
            "2\n",
            "3\n",
            "4\n"
          ],
          "name": "stdout"
        }
      ]
    },
    {
      "metadata": {
        "id": "RlBg9tmH2TUW",
        "colab_type": "text"
      },
      "cell_type": "markdown",
      "source": [
        "Note how the last number (the $5$) is not included in ```range(5)```."
      ]
    },
    {
      "metadata": {
        "id": "iV9hnysY2TUW",
        "colab_type": "text"
      },
      "cell_type": "markdown",
      "source": [
        "# Exercises"
      ]
    },
    {
      "metadata": {
        "id": "3S0LpXWw2TUX",
        "colab_type": "text"
      },
      "cell_type": "markdown",
      "source": [
        "## Exercise 1 (Difficulty: Easy)"
      ]
    },
    {
      "metadata": {
        "id": "5pu2WieK2TUX",
        "colab_type": "text"
      },
      "cell_type": "markdown",
      "source": [
        "Given the list"
      ]
    },
    {
      "metadata": {
        "id": "hk3qlEgK2TUY",
        "colab_type": "code",
        "colab": {}
      },
      "cell_type": "code",
      "source": [
        "vec = [1,2,3,4,5,6,7,8,10]"
      ],
      "execution_count": 0,
      "outputs": []
    },
    {
      "metadata": {
        "id": "9rOe9PSU2TUZ",
        "colab_type": "text"
      },
      "cell_type": "markdown",
      "source": [
        "Write a function that returns a list with the elements squared. So in this exercise your function should return the list ```vec2 = [1, 4, 9, 16, 25, 36, 49, 64, 100]```"
      ]
    },
    {
      "metadata": {
        "id": "VvEePQ742TUZ",
        "colab_type": "code",
        "colab": {}
      },
      "cell_type": "code",
      "source": [
        "def squarelist (li):\n",
        "    #\n",
        "    # YOUR CODE HERE\n",
        "    #"
      ],
      "execution_count": 0,
      "outputs": []
    },
    {
      "metadata": {
        "id": "YmUFBwo42TUa",
        "colab_type": "text"
      },
      "cell_type": "markdown",
      "source": [
        "the following call to your function should return the right vector"
      ]
    },
    {
      "metadata": {
        "scrolled": false,
        "id": "Mma86isg2TUb",
        "colab_type": "code",
        "colab": {},
        "outputId": "c24dfe5e-9a49-4f14-bcfd-5292e0769fd4"
      },
      "cell_type": "code",
      "source": [
        "print(squarelist(vec))"
      ],
      "execution_count": 0,
      "outputs": [
        {
          "output_type": "stream",
          "text": [
            "[1, 4, 9, 16, 25, 36, 49, 64, 100]\n"
          ],
          "name": "stdout"
        }
      ]
    },
    {
      "metadata": {
        "id": "gRd6arEn2TUd",
        "colab_type": "text"
      },
      "cell_type": "markdown",
      "source": [
        "## Exercise 2 (Difficulty: Hard)"
      ]
    },
    {
      "metadata": {
        "id": "Pd0TKCX82TUe",
        "colab_type": "text"
      },
      "cell_type": "markdown",
      "source": [
        "Given the following list"
      ]
    },
    {
      "metadata": {
        "id": "a1lqvqlI2TUf",
        "colab_type": "code",
        "colab": {}
      },
      "cell_type": "code",
      "source": [
        "vec = [10,9,8,7,6,5,4,3,2,1]"
      ],
      "execution_count": 0,
      "outputs": []
    },
    {
      "metadata": {
        "id": "bt3KYzUu2TUh",
        "colab_type": "text"
      },
      "cell_type": "markdown",
      "source": [
        "Write a routine that sorts the numbers in ascending order and the return a list with the sorted numbers"
      ]
    },
    {
      "metadata": {
        "id": "wUoPTKAu2TUi",
        "colab_type": "code",
        "colab": {}
      },
      "cell_type": "code",
      "source": [
        "#\n",
        "# YOUR CODE HERE\n",
        "#"
      ],
      "execution_count": 0,
      "outputs": []
    },
    {
      "metadata": {
        "id": "k1Ao6koe2TUk",
        "colab_type": "text"
      },
      "cell_type": "markdown",
      "source": [
        "By the way you can do it like this in Python"
      ]
    },
    {
      "metadata": {
        "id": "YF2nxt192TUk",
        "colab_type": "code",
        "colab": {},
        "outputId": "fdbfe3ab-67e3-4348-c3ad-45ab31622e3a"
      },
      "cell_type": "code",
      "source": [
        "sorted(vec)"
      ],
      "execution_count": 0,
      "outputs": [
        {
          "output_type": "execute_result",
          "data": {
            "text/plain": [
              "[1, 2, 3, 4, 5, 6, 7, 8, 9, 10]"
            ]
          },
          "metadata": {
            "tags": []
          },
          "execution_count": 51
        }
      ]
    },
    {
      "metadata": {
        "id": "td0dcXv32TUo",
        "colab_type": "text"
      },
      "cell_type": "markdown",
      "source": [
        "or like this"
      ]
    },
    {
      "metadata": {
        "id": "F_iWwi-h2TUo",
        "colab_type": "code",
        "colab": {},
        "outputId": "396fd494-6269-47a6-c1b9-14149c80ccaa"
      },
      "cell_type": "code",
      "source": [
        "vec.sort()\n",
        "print(vec)"
      ],
      "execution_count": 0,
      "outputs": [
        {
          "output_type": "stream",
          "text": [
            "[1, 2, 3, 4, 5, 6, 7, 8, 9, 10]\n"
          ],
          "name": "stdout"
        }
      ]
    },
    {
      "metadata": {
        "id": "UIkYm7oQ2TUr",
        "colab_type": "text"
      },
      "cell_type": "markdown",
      "source": [
        "Please note that the method ```.sort()``` will change the original list."
      ]
    },
    {
      "metadata": {
        "id": "8yMXqdLl2TUr",
        "colab_type": "text"
      },
      "cell_type": "markdown",
      "source": [
        "## Exercise 3 (Difficulty: Medium)"
      ]
    },
    {
      "metadata": {
        "id": "2JumYH7U2TUs",
        "colab_type": "text"
      },
      "cell_type": "markdown",
      "source": [
        "Write a program which will find all such numbers which are divisible by 7 but are not a multiple of 5,\n",
        "between 2000 and 3200 (both included)."
      ]
    },
    {
      "metadata": {
        "id": "mS8y2vgb2TUs",
        "colab_type": "code",
        "colab": {}
      },
      "cell_type": "code",
      "source": [
        "#\n",
        "# YOUR CODE HERE\n",
        "#"
      ],
      "execution_count": 0,
      "outputs": []
    },
    {
      "metadata": {
        "id": "lEbYdYb52TUu",
        "colab_type": "text"
      },
      "cell_type": "markdown",
      "source": [
        "Your solution should be"
      ]
    },
    {
      "metadata": {
        "id": "oSJwylLS2TUu",
        "colab_type": "code",
        "colab": {}
      },
      "cell_type": "code",
      "source": [
        "result = [2002, 2009, 2016, 2023, 2037, 2044, 2051, 2058, 2072, 2079, 2086, 2093, 2107, \n",
        " 2114, 2121, 2128, 2142, 2149, 2156, 2163, 2177, 2184, 2191, 2198, 2212, 2219, \n",
        " 2226, 2233, 2247, 2254, 2261, 2268, 2282, 2289, 2296, 2303, 2317, 2324, 2331, \n",
        " 2338, 2352, 2359, 2366, 2373, 2387, 2394, 2401, 2408, 2422, 2429, 2436, 2443, \n",
        " 2457, 2464, 2471, 2478, 2492, 2499, 2506, 2513, 2527, 2534, 2541, 2548, 2562, \n",
        " 2569, 2576, 2583, 2597, 2604, 2611, 2618, 2632, 2639, 2646, 2653, 2667, 2674, \n",
        " 2681, 2688, 2702, 2709, 2716, 2723, 2737, 2744, 2751, 2758, 2772, 2779, 2786, \n",
        " 2793, 2807, 2814, 2821, 2828, 2842, 2849, 2856, 2863, 2877, 2884, 2891, 2898, \n",
        " 2912, 2919, 2926, 2933, 2947, 2954, 2961, 2968, 2982, 2989, 2996, 3003, 3017, \n",
        " 3024, 3031, 3038, 3052, 3059, 3066, 3073, 3087, 3094, 3101, 3108, 3122, 3129, \n",
        " 3136, 3143, 3157, 3164, 3171, 3178, 3192, 3199]"
      ],
      "execution_count": 0,
      "outputs": []
    },
    {
      "metadata": {
        "id": "uFgXPmLu2TUw",
        "colab_type": "text"
      },
      "cell_type": "markdown",
      "source": [
        "## Exercise 4 (Difficulty: Hard)"
      ]
    },
    {
      "metadata": {
        "id": "-tDZs__p2TUw",
        "colab_type": "text"
      },
      "cell_type": "markdown",
      "source": [
        "Write a program that calculates and prints the value according to the given formula:\n",
        "\n",
        "```Q = Square root of [(2 * C * D)/H]```\n",
        "\n",
        "Following are the fixed values of C and H:"
      ]
    },
    {
      "metadata": {
        "id": "wSPiMik_2TUx",
        "colab_type": "code",
        "colab": {}
      },
      "cell_type": "code",
      "source": [
        "c= 50\n",
        "h = 30"
      ],
      "execution_count": 0,
      "outputs": []
    },
    {
      "metadata": {
        "id": "BaVKKQAy2TUy",
        "colab_type": "text"
      },
      "cell_type": "markdown",
      "source": [
        "Your input should be\n",
        "\n",
        "```'100,150,180'``` as a single string. \n",
        "\n",
        "Example\n",
        "\n",
        "Let us assume the following comma separated input sequence is given to the program:\n",
        "\n",
        "100,150,180\n",
        "\n",
        "The output of the program should be:\n",
        "\n",
        "18,22,24"
      ]
    },
    {
      "metadata": {
        "id": "DJQJwltz2TUz",
        "colab_type": "text"
      },
      "cell_type": "markdown",
      "source": [
        "**HINT**: you need to import the math library to calcualte the square root so we have done it for you at the beginning."
      ]
    },
    {
      "metadata": {
        "id": "71eWh6Y12TUz",
        "colab_type": "code",
        "colab": {}
      },
      "cell_type": "code",
      "source": [
        "c=50\n",
        "h=30\n",
        "def myfunc(sequence):\n",
        "    #\n",
        "    # YOUR CODE HERE\n",
        "    #"
      ],
      "execution_count": 0,
      "outputs": []
    },
    {
      "metadata": {
        "id": "iPai_Eci2TU2",
        "colab_type": "text"
      },
      "cell_type": "markdown",
      "source": [
        "You can test your function with the call"
      ]
    },
    {
      "metadata": {
        "id": "ijslo8Y72TU3",
        "colab_type": "code",
        "colab": {}
      },
      "cell_type": "code",
      "source": [
        "myfunc('100,150,180')"
      ],
      "execution_count": 0,
      "outputs": []
    },
    {
      "metadata": {
        "id": "QV0B-on32TU4",
        "colab_type": "text"
      },
      "cell_type": "markdown",
      "source": [
        "you should get ```[18, 22, 24]```"
      ]
    },
    {
      "metadata": {
        "id": "FANEYFZa2TU5",
        "colab_type": "text"
      },
      "cell_type": "markdown",
      "source": [
        "## Exercise 5 (Difficulty level: FUN)"
      ]
    },
    {
      "metadata": {
        "id": "O5j_ytQc2TU5",
        "colab_type": "text"
      },
      "cell_type": "markdown",
      "source": [
        "A sorted array is a permutation of the unsorted array (or vice-versa). So if you shuffle the elements of the array, there is a chance that it may become sorted – especially if the array is quite small. This is called **Bogosort**, and is more suitable for programmer humour than actual use! \n",
        "**Bogosort** is a perversely inefficient algorithm only used as an in-joke. Its average run-time is $O(n!)$ because the chance that any given shuffle of a set will end up in sorted order is about one in n factorial, and the worst case is infinite since there’s no guarantee that a random shuffling will ever produce a sorted sequence. Its best case is $O(n)$ since a single pass through the elements may suffice to order them."
      ]
    },
    {
      "metadata": {
        "id": "8NHGBSEL2TU6",
        "colab_type": "text"
      },
      "cell_type": "markdown",
      "source": [
        "Develop the **Bogosort** algorithm in Python and measure how long it takes to sort our ten elements"
      ]
    },
    {
      "metadata": {
        "id": "uldKGk4f2TU7",
        "colab_type": "code",
        "colab": {}
      },
      "cell_type": "code",
      "source": [
        "vec = [10,9,8,7,6,5,4,3,2,1]"
      ],
      "execution_count": 0,
      "outputs": []
    },
    {
      "metadata": {
        "id": "5gP9Kcri2TU9",
        "colab_type": "text"
      },
      "cell_type": "markdown",
      "source": [
        "Your result should be the list ```vec``` sorted, in other words you should get"
      ]
    },
    {
      "metadata": {
        "id": "_ogrbelv2TU9",
        "colab_type": "code",
        "colab": {}
      },
      "cell_type": "code",
      "source": [
        "result = [1,2,3,4,5,6,7,8,9,10]"
      ],
      "execution_count": 0,
      "outputs": []
    },
    {
      "metadata": {
        "id": "py9F6NGd2TVA",
        "colab_type": "text"
      },
      "cell_type": "markdown",
      "source": [
        "# Operations on vectors"
      ]
    },
    {
      "metadata": {
        "id": "KafgaDeM2TVA",
        "colab_type": "text"
      },
      "cell_type": "markdown",
      "source": [
        "Let's define two vectors ${\\bf v}=(v_x, v_y)$ and ${\\bf w} = (w_x, w_y)$. The sum is defined as\n",
        "$$\n",
        "{\\bf v}+{\\bf w}=(v_x+w_x, v_y+w_y)\n",
        "$$\n",
        "the subtraction as\n",
        "$$\n",
        "{\\bf v}-{\\bf w}=(v_x-w_x, v_y-w_y)\n",
        "$$\n",
        "and any vector can be multiplied by a scalar $a$ as\n",
        "$$\n",
        "a{\\bf v} = (av_x, av_y)\n",
        "$$"
      ]
    },
    {
      "metadata": {
        "id": "k22KwNlj2TVB",
        "colab_type": "text"
      },
      "cell_type": "markdown",
      "source": [
        "Now there are two multiplication operations you can perform between vectors: a dot product that is defined between two vectors ${\\bf v}=(v_x, v_y)$ and ${\\bf w} = (w_x, w_y)$ as\n",
        "$$\n",
        "{\\bf v} \\cdot {\\bf w} = v_x w_x+v_y w_y\n",
        "$$\n",
        "and then a cross product. In this course, and typically in machine learning the cross product is never used. If you are interested in knowing how is defined you can check it here https://en.wikipedia.org/wiki/Multiplication_of_vectors"
      ]
    },
    {
      "metadata": {
        "id": "heLQJINA2TVB",
        "colab_type": "text"
      },
      "cell_type": "markdown",
      "source": [
        "Let's define in Python our two vectors to try some examples.    "
      ]
    },
    {
      "metadata": {
        "id": "GlQq9J5l2TVC",
        "colab_type": "code",
        "colab": {}
      },
      "cell_type": "code",
      "source": [
        "v = [10,11]\n",
        "w = [20,21]"
      ],
      "execution_count": 0,
      "outputs": []
    },
    {
      "metadata": {
        "id": "0nSBuv192TVF",
        "colab_type": "text"
      },
      "cell_type": "markdown",
      "source": [
        "Now let's sum, subtract and do a dot-product between them"
      ]
    },
    {
      "metadata": {
        "id": "NM-dOV_L2TVF",
        "colab_type": "code",
        "colab": {},
        "outputId": "cb8b7e78-30a6-4559-f989-c18f86c35696"
      },
      "cell_type": "code",
      "source": [
        "v+w"
      ],
      "execution_count": 0,
      "outputs": [
        {
          "output_type": "execute_result",
          "data": {
            "text/plain": [
              "[10, 11, 20, 21]"
            ]
          },
          "metadata": {
            "tags": []
          },
          "execution_count": 2
        }
      ]
    },
    {
      "metadata": {
        "id": "6_SwCTaE2TVH",
        "colab_type": "text"
      },
      "cell_type": "markdown",
      "source": [
        "Wait a second. What happened? Well we defined our vectors as lists, and summing two lists does not perform as we imagined. The ```+``` has the effect of concatenating the lists, not summing element by element. Now in classical Python there are several ways, all very involuted. For example you could do it this way"
      ]
    },
    {
      "metadata": {
        "id": "sv0Gx6N62TVH",
        "colab_type": "code",
        "colab": {},
        "outputId": "b464ff47-fcd9-48c7-ee7a-ed3b80e952fb"
      },
      "cell_type": "code",
      "source": [
        "[sum(x) for x in zip(v, w)]"
      ],
      "execution_count": 0,
      "outputs": [
        {
          "output_type": "execute_result",
          "data": {
            "text/plain": [
              "[30, 32]"
            ]
          },
          "metadata": {
            "tags": []
          },
          "execution_count": 3
        }
      ]
    },
    {
      "metadata": {
        "id": "CKYIR-3R2TVK",
        "colab_type": "text"
      },
      "cell_type": "markdown",
      "source": [
        "But that would be very cumbersone when developing machine learning models, since we will have to sum vectors and matrices element by element a LOT of times. This is where ```numpy``` comes to rescue. The library is built with exactly this goal: to make working with matrices and vectors easy and to have the same results as in classical mathematics. For example if we transform the list in numpy arrays"
      ]
    },
    {
      "metadata": {
        "id": "Oh9TB0sE2TVK",
        "colab_type": "code",
        "colab": {}
      },
      "cell_type": "code",
      "source": [
        "varray = np.array(v)\n",
        "warray = np.array(w)"
      ],
      "execution_count": 0,
      "outputs": []
    },
    {
      "metadata": {
        "id": "ER3s_KH42TVL",
        "colab_type": "text"
      },
      "cell_type": "markdown",
      "source": [
        "then look what happens when we sum the arrays"
      ]
    },
    {
      "metadata": {
        "id": "BSXkQ_pi2TVL",
        "colab_type": "code",
        "colab": {},
        "outputId": "50676f11-8f0f-45a0-8e0c-5d9f7ef42dff"
      },
      "cell_type": "code",
      "source": [
        "varray + warray"
      ],
      "execution_count": 0,
      "outputs": [
        {
          "output_type": "execute_result",
          "data": {
            "text/plain": [
              "array([30, 32])"
            ]
          },
          "metadata": {
            "tags": []
          },
          "execution_count": 7
        }
      ]
    },
    {
      "metadata": {
        "id": "t0q8j_0T2TVN",
        "colab_type": "text"
      },
      "cell_type": "markdown",
      "source": [
        "exactly what we expected."
      ]
    },
    {
      "metadata": {
        "id": "VmeD7rvo2TVN",
        "colab_type": "text"
      },
      "cell_type": "markdown",
      "source": [
        "Now let's try to subtract lists"
      ]
    },
    {
      "metadata": {
        "id": "OwjGfokJ2TVN",
        "colab_type": "code",
        "colab": {},
        "outputId": "33ae72f6-0277-4cca-e30f-bf10e94cf7eb"
      },
      "cell_type": "code",
      "source": [
        "v-w"
      ],
      "execution_count": 0,
      "outputs": [
        {
          "output_type": "error",
          "ename": "TypeError",
          "evalue": "unsupported operand type(s) for -: 'list' and 'list'",
          "traceback": [
            "\u001b[1;31m---------------------------------------------------------------------------\u001b[0m",
            "\u001b[1;31mTypeError\u001b[0m                                 Traceback (most recent call last)",
            "\u001b[1;32m<ipython-input-8-5ac136b58ef4>\u001b[0m in \u001b[0;36m<module>\u001b[1;34m()\u001b[0m\n\u001b[1;32m----> 1\u001b[1;33m \u001b[0mv\u001b[0m\u001b[1;33m-\u001b[0m\u001b[0mw\u001b[0m\u001b[1;33m\u001b[0m\u001b[0m\n\u001b[0m",
            "\u001b[1;31mTypeError\u001b[0m: unsupported operand type(s) for -: 'list' and 'list'"
          ]
        }
      ]
    },
    {
      "metadata": {
        "id": "Jg_lcQHV2TVP",
        "colab_type": "text"
      },
      "cell_type": "markdown",
      "source": [
        "That is not even possible. Let's try with numpy"
      ]
    },
    {
      "metadata": {
        "id": "zlzdLTAH2TVP",
        "colab_type": "code",
        "colab": {},
        "outputId": "c093eaea-8d59-40f7-dd52-0555f0ac373f"
      },
      "cell_type": "code",
      "source": [
        "varray - warray"
      ],
      "execution_count": 0,
      "outputs": [
        {
          "output_type": "execute_result",
          "data": {
            "text/plain": [
              "array([-10, -10])"
            ]
          },
          "metadata": {
            "tags": []
          },
          "execution_count": 9
        }
      ]
    },
    {
      "metadata": {
        "id": "yqUqTaBI2TVR",
        "colab_type": "text"
      },
      "cell_type": "markdown",
      "source": [
        "That is much better."
      ]
    },
    {
      "metadata": {
        "id": "IfnIWKgX2TVR",
        "colab_type": "text"
      },
      "cell_type": "markdown",
      "source": [
        "Multiplication goes in a similar way"
      ]
    },
    {
      "metadata": {
        "id": "W67R2cak2TVS",
        "colab_type": "code",
        "colab": {},
        "outputId": "a187bdcc-995b-40c7-8b77-de644755c7c4"
      },
      "cell_type": "code",
      "source": [
        "v*w"
      ],
      "execution_count": 0,
      "outputs": [
        {
          "output_type": "error",
          "ename": "TypeError",
          "evalue": "can't multiply sequence by non-int of type 'list'",
          "traceback": [
            "\u001b[1;31m---------------------------------------------------------------------------\u001b[0m",
            "\u001b[1;31mTypeError\u001b[0m                                 Traceback (most recent call last)",
            "\u001b[1;32m<ipython-input-10-7a53b363d2fc>\u001b[0m in \u001b[0;36m<module>\u001b[1;34m()\u001b[0m\n\u001b[1;32m----> 1\u001b[1;33m \u001b[0mv\u001b[0m\u001b[1;33m*\u001b[0m\u001b[0mw\u001b[0m\u001b[1;33m\u001b[0m\u001b[0m\n\u001b[0m",
            "\u001b[1;31mTypeError\u001b[0m: can't multiply sequence by non-int of type 'list'"
          ]
        }
      ]
    },
    {
      "metadata": {
        "id": "FK9-9U5E2TVU",
        "colab_type": "code",
        "colab": {},
        "outputId": "d5bb8d40-ecf6-478b-8c10-2af1a06cd17b"
      },
      "cell_type": "code",
      "source": [
        "varray*warray"
      ],
      "execution_count": 0,
      "outputs": [
        {
          "output_type": "execute_result",
          "data": {
            "text/plain": [
              "array([200, 231])"
            ]
          },
          "metadata": {
            "tags": []
          },
          "execution_count": 11
        }
      ]
    },
    {
      "metadata": {
        "id": "SAlNt-Ew2TVV",
        "colab_type": "text"
      },
      "cell_type": "markdown",
      "source": [
        "As you can see numpy multiply element by element. That is very confortable when we will build our models"
      ]
    },
    {
      "metadata": {
        "id": "H5QkjYFH2TVV",
        "colab_type": "text"
      },
      "cell_type": "markdown",
      "source": [
        "# Matrices"
      ]
    },
    {
      "metadata": {
        "id": "XgoOd7Ws2TVW",
        "colab_type": "text"
      },
      "cell_type": "markdown",
      "source": [
        "Matrices are simply two-dimensional vectors. So a matrix X could look like this\n",
        "\n",
        "$$\n",
        "X = \n",
        "\\begin{bmatrix}\n",
        "1 & 2 & 3  \\\\\n",
        "4 & 5 & 6  \\\\\n",
        "7 & 8 & 9 \n",
        "\\end{bmatrix}\n",
        "$$\n",
        "\n",
        "Each element of the matrix has two indexes to identify its position: one giving the row and one the column. For example the number $2$ is identified with the symbol $x_{12}$, where the first subscript $1$ indicates the row, and the second $2$ identifies the column. Typically the elements of the matrix $X$ could be identified as\n",
        "\n",
        "$$\n",
        "X = \n",
        "\\begin{bmatrix}\n",
        "x_{11} & x_{12} & x_{13}  \\\\\n",
        "x_{21} & x_{22} & x_{23}  \\\\\n",
        "x_{31} & x_{23} & x_{33} \n",
        "\\end{bmatrix}\n",
        "$$"
      ]
    },
    {
      "metadata": {
        "id": "mA36XR3a2TVW",
        "colab_type": "text"
      },
      "cell_type": "markdown",
      "source": [
        "In Python matrices could also be defined as lists as"
      ]
    },
    {
      "metadata": {
        "id": "VIOjYt0I2TVW",
        "colab_type": "code",
        "colab": {},
        "outputId": "d16057c1-85ad-4afd-f63b-dd4e0dd4cf83"
      },
      "cell_type": "code",
      "source": [
        "X = [[1,2,3],[4,5,6],[7,8,9]]\n",
        "print(X)"
      ],
      "execution_count": 0,
      "outputs": [
        {
          "output_type": "stream",
          "text": [
            "[[1, 2, 3], [4, 5, 6], [7, 8, 9]]\n"
          ],
          "name": "stdout"
        }
      ]
    },
    {
      "metadata": {
        "id": "_-Kg42ia2TVZ",
        "colab_type": "text"
      },
      "cell_type": "markdown",
      "source": [
        "And you can access the elements of the matrix again with indexes like this"
      ]
    },
    {
      "metadata": {
        "id": "GSbv7MLR2TVa",
        "colab_type": "code",
        "colab": {},
        "outputId": "26f6175f-05e3-4e22-885b-f86d2b450714"
      },
      "cell_type": "code",
      "source": [
        "X[1][1]"
      ],
      "execution_count": 0,
      "outputs": [
        {
          "output_type": "execute_result",
          "data": {
            "text/plain": [
              "5"
            ]
          },
          "metadata": {
            "tags": []
          },
          "execution_count": 21
        }
      ]
    },
    {
      "metadata": {
        "id": "XrxgBluE2TVb",
        "colab_type": "text"
      },
      "cell_type": "markdown",
      "source": [
        "# Matrix size"
      ]
    },
    {
      "metadata": {
        "id": "4vy655bD2TVc",
        "colab_type": "text"
      },
      "cell_type": "markdown",
      "source": [
        "The dimensions of a matrix is given as a couple of two numbers: one giving the number of lines and one the number of columns. For example our matrix $X$ has a dimensions $3\\times 3$."
      ]
    },
    {
      "metadata": {
        "id": "gPlt98IT2TVc",
        "colab_type": "text"
      },
      "cell_type": "markdown",
      "source": [
        "# Operation on matrices"
      ]
    },
    {
      "metadata": {
        "id": "CD_AuCn42TVe",
        "colab_type": "text"
      },
      "cell_type": "markdown",
      "source": [
        "As with vectors, lists are not the best way of representing matrices for scientific calculations. Mathematically can sum or subtract two matrices $X$ and $Y$. Note that for the operation to be possible the two matrices $X$ and $Y$ must have the same size. "
      ]
    },
    {
      "metadata": {
        "id": "W2aomsS-2TVe",
        "colab_type": "text"
      },
      "cell_type": "markdown",
      "source": [
        "Let's define two matrices"
      ]
    },
    {
      "metadata": {
        "id": "DIIuNW6F2TVf",
        "colab_type": "code",
        "colab": {}
      },
      "cell_type": "code",
      "source": [
        "X = [[1,2,3],[4,5,6],[7,8,9]]\n",
        "Y = [[10,20,30],[40,50,60],[70,80,90]]"
      ],
      "execution_count": 0,
      "outputs": []
    },
    {
      "metadata": {
        "id": "fuhiIsfJ2TVf",
        "colab_type": "code",
        "colab": {},
        "outputId": "aea7c8ea-cf9c-4bd2-b9f0-a1eb6481c50c"
      },
      "cell_type": "code",
      "source": [
        "X+Y"
      ],
      "execution_count": 0,
      "outputs": [
        {
          "output_type": "execute_result",
          "data": {
            "text/plain": [
              "[[1, 2, 3], [4, 5, 6], [7, 8, 9], [10, 20, 30], [40, 50, 60], [70, 80, 90]]"
            ]
          },
          "metadata": {
            "tags": []
          },
          "execution_count": 24
        }
      ]
    },
    {
      "metadata": {
        "id": "lB4PQMbx2TVg",
        "colab_type": "text"
      },
      "cell_type": "markdown",
      "source": [
        "Again using the + sign simply concatenates the lists. Not what we wanted. Mathematically the sum should give the following result\n",
        "\n",
        "$$\n",
        "X +Y= \n",
        "\\begin{bmatrix}\n",
        "x_{11}+y_{11} & x_{12}+y_{12} & x_{13}+y_{13}  \\\\\n",
        "x_{21}+y_{21} & x_{22}+y_{22} & x_{23}+y_{23}  \\\\\n",
        "x_{31}+y_{31} & x_{23}+y_{22} & x_{33}+y_{33} \n",
        "\\end{bmatrix}\n",
        "$$"
      ]
    },
    {
      "metadata": {
        "id": "0G3BXTTX2TVh",
        "colab_type": "text"
      },
      "cell_type": "markdown",
      "source": [
        "The solution is to use numpy, that will give the right result"
      ]
    },
    {
      "metadata": {
        "id": "mWyRAKWq2TVh",
        "colab_type": "code",
        "colab": {},
        "outputId": "a096e682-b0a0-4340-9eb3-cda29e9878cc"
      },
      "cell_type": "code",
      "source": [
        "Xarray = np.array(X)\n",
        "Yarray = np.array(Y)\n",
        "print(Xarray + Yarray)"
      ],
      "execution_count": 0,
      "outputs": [
        {
          "output_type": "stream",
          "text": [
            "[[11 22 33]\n",
            " [44 55 66]\n",
            " [77 88 99]]\n"
          ],
          "name": "stdout"
        }
      ]
    },
    {
      "metadata": {
        "id": "EJvXvIA22TVj",
        "colab_type": "text"
      },
      "cell_type": "markdown",
      "source": [
        "now we have the right result. Also the subtraction in nunmpy work as expected and gives the following result as expected\n",
        "\n",
        "$$\n",
        "X -Y= \n",
        "\\begin{bmatrix}\n",
        "x_{11}-y_{11} & x_{12}-y_{12} & x_{13}-y_{13}  \\\\\n",
        "x_{21}-y_{21} & x_{22}-y_{22} & x_{23}-y_{23}  \\\\\n",
        "x_{31}-y_{31} & x_{23}-y_{22} & x_{33}-y_{33} \n",
        "\\end{bmatrix}\n",
        "$$"
      ]
    },
    {
      "metadata": {
        "id": "jidgqvBQ2TVk",
        "colab_type": "code",
        "colab": {},
        "outputId": "1ff62ea3-9774-475f-d13d-5d724f3fbe6b"
      },
      "cell_type": "code",
      "source": [
        "print(Xarray - Yarray)"
      ],
      "execution_count": 0,
      "outputs": [
        {
          "output_type": "stream",
          "text": [
            "[[ -9 -18 -27]\n",
            " [-36 -45 -54]\n",
            " [-63 -72 -81]]\n"
          ],
          "name": "stdout"
        }
      ]
    },
    {
      "metadata": {
        "id": "gKfsmlmK2TVm",
        "colab_type": "text"
      },
      "cell_type": "markdown",
      "source": [
        "Now the multiplication of matrices is slightly more complex. First of all we can multiply even matrices of different dimensions. The only constraint is that the number of columns of the matrix on the left must be equal to the number of rows of the matrix on the right. So given two generic matrices $X$ of dimensions $n\\times m$ and $Y$ of dimensions $m\\times p$, we write $C=XY$ and the elements of $C$ are given by\n",
        "\n",
        "$$\n",
        "C_{ij} = (XY)_{ij} = \\sum_{k=1}^m X_{ik} Y_{kj}\n",
        "$$\n",
        "\n",
        "The resulting matrix has dimensions $n\\times p$. As a trick to know what the dimensions of the resulting matrix is, you can write the dimensions close to each other as\n",
        "\n",
        "$$\n",
        "n\\times m \\ \\ m\\times p \n",
        "$$\n",
        "\n",
        "and simply take only the most left value (in this case $n$) and the most right (in this case $p$), simply ignoring the two equal values (in this case $m$). So in this case the resulting dimensions are $n\\times p$."
      ]
    },
    {
      "metadata": {
        "id": "ZHjDw-Rm2TVm",
        "colab_type": "text"
      },
      "cell_type": "markdown",
      "source": [
        "Now this multiplication needs some library (or you can try to implement yourself). For example with numpy you can do the following"
      ]
    },
    {
      "metadata": {
        "id": "vRjJ0KXB2TVn",
        "colab_type": "code",
        "colab": {},
        "outputId": "b542a008-5e6f-491c-e30d-376420cea0e8"
      },
      "cell_type": "code",
      "source": [
        "np.dot(Xarray, Yarray)"
      ],
      "execution_count": 0,
      "outputs": [
        {
          "output_type": "execute_result",
          "data": {
            "text/plain": [
              "array([[ 300,  360,  420],\n",
              "       [ 660,  810,  960],\n",
              "       [1020, 1260, 1500]])"
            ]
          },
          "metadata": {
            "tags": []
          },
          "execution_count": 27
        }
      ]
    },
    {
      "metadata": {
        "id": "9hQEOBHm2TVo",
        "colab_type": "text"
      },
      "cell_type": "markdown",
      "source": [
        "You can also use ```matmul``` but it has some differences, like for example you cannot multiply by scalars. For example this line"
      ]
    },
    {
      "metadata": {
        "id": "jOZLpIUJ2TVo",
        "colab_type": "code",
        "colab": {},
        "outputId": "d187a299-caf0-4285-ab19-ecb041d3a2f1"
      },
      "cell_type": "code",
      "source": [
        "np.dot(Xarray, 2)"
      ],
      "execution_count": 0,
      "outputs": [
        {
          "output_type": "execute_result",
          "data": {
            "text/plain": [
              "array([[ 2,  4,  6],\n",
              "       [ 8, 10, 12],\n",
              "       [14, 16, 18]])"
            ]
          },
          "metadata": {
            "tags": []
          },
          "execution_count": 28
        }
      ]
    },
    {
      "metadata": {
        "id": "_x-Qggg62TVp",
        "colab_type": "text"
      },
      "cell_type": "markdown",
      "source": [
        "works, but this"
      ]
    },
    {
      "metadata": {
        "id": "TEqgjfeI2TVq",
        "colab_type": "code",
        "colab": {},
        "outputId": "eb2dc953-cba3-42e6-bfef-d690381aa23d"
      },
      "cell_type": "code",
      "source": [
        "np.matmul(Xarray, 2)"
      ],
      "execution_count": 0,
      "outputs": [
        {
          "output_type": "error",
          "ename": "ValueError",
          "evalue": "Scalar operands are not allowed, use '*' instead",
          "traceback": [
            "\u001b[1;31m---------------------------------------------------------------------------\u001b[0m",
            "\u001b[1;31mValueError\u001b[0m                                Traceback (most recent call last)",
            "\u001b[1;32m<ipython-input-29-103f0dcd1c9a>\u001b[0m in \u001b[0;36m<module>\u001b[1;34m()\u001b[0m\n\u001b[1;32m----> 1\u001b[1;33m \u001b[0mnp\u001b[0m\u001b[1;33m.\u001b[0m\u001b[0mmatmul\u001b[0m\u001b[1;33m(\u001b[0m\u001b[0mXarray\u001b[0m\u001b[1;33m,\u001b[0m \u001b[1;36m2\u001b[0m\u001b[1;33m)\u001b[0m\u001b[1;33m\u001b[0m\u001b[0m\n\u001b[0m",
            "\u001b[1;31mValueError\u001b[0m: Scalar operands are not allowed, use '*' instead"
          ]
        }
      ]
    },
    {
      "metadata": {
        "id": "HUnck7pH2TVs",
        "colab_type": "text"
      },
      "cell_type": "markdown",
      "source": [
        "is not. You can check ```matmul``` on the official documentation."
      ]
    },
    {
      "metadata": {
        "id": "2wWn-jKM2TVs",
        "colab_type": "text"
      },
      "cell_type": "markdown",
      "source": [
        "# Example: linear regression with numpy"
      ]
    },
    {
      "metadata": {
        "id": "tSdtoDGc2TVt",
        "colab_type": "text"
      },
      "cell_type": "markdown",
      "source": [
        "## Theory"
      ]
    },
    {
      "metadata": {
        "id": "mc2jh_lB2TVt",
        "colab_type": "text"
      },
      "cell_type": "markdown",
      "source": [
        "https://onlinecourses.science.psu.edu/stat501/node/382/"
      ]
    },
    {
      "metadata": {
        "id": "K2HTR4XF2TVt",
        "colab_type": "text"
      },
      "cell_type": "markdown",
      "source": [
        "We want to find the best parameters $p_0$ and $p_1$ that minimise the MSE (mean squared error) for a certain dataset, in other words we want to do a linear regression on data in this form $(x,y)$. Given that a matrix solution to find the best parameter is\n",
        "\n",
        "$$\n",
        "{\\bf p} =(X^TX)^{-1} X^T Y\n",
        "$$\n",
        "\n",
        "where $X^T$ is the transpose of the matrix $X$. The matrix $X$ is defined as\n",
        "\n",
        "$$\n",
        "X = \n",
        "\\begin{bmatrix}\n",
        "1 & x_1  \\\\\n",
        "... &  ...  \\\\\n",
        "1 &  x_n \n",
        "\\end{bmatrix}\n",
        "$$\n",
        "\n",
        "The matrix $Y$ is simply a matrix $n\\times 1$ containing the values $y_i$.\n",
        "\n",
        "dimensions are:\n",
        "\n",
        "- $X$ has dimensions $n\\times 2$\n",
        "- $Y$ has dimensions $n\\times 1$\n",
        "- ${\\bf p}$ has dimensions $2\\times 1$"
      ]
    },
    {
      "metadata": {
        "id": "8s1ZF91U2TVu",
        "colab_type": "text"
      },
      "cell_type": "markdown",
      "source": [
        "This can be easily generalized to a case when your input data has more dimensions. Let's suppose your input data has two dimensions, so each observations is characterized by two values $(x^{[1]}, x^{[2]})$. Then our $X$ matrix would look like this \n",
        "\n",
        "$$\n",
        "X = \n",
        "\\begin{bmatrix}\n",
        "1 & x^{[1]}_1 & x^{[2]}_1 \\\\\n",
        "... &  ...  & ... \\\\\n",
        "1 &  x^{[1]}_n & ^{[2]}_n\n",
        "\\end{bmatrix}\n",
        "$$\n",
        "\n",
        "This can of course be generalized to a case where your observations has more than two values easily."
      ]
    },
    {
      "metadata": {
        "id": "Eaen0br02TVu",
        "colab_type": "text"
      },
      "cell_type": "markdown",
      "source": [
        "## Dataset"
      ]
    },
    {
      "metadata": {
        "id": "Q_PEJ1ZX2TVv",
        "colab_type": "text"
      },
      "cell_type": "markdown",
      "source": [
        "![](https://github.com/michelucci/zhaw-dlcourse-spring2019/blob/master/Week%201%20-%20Mathematic%20introduction/brain.jpg?raw=1)"
      ]
    },
    {
      "metadata": {
        "id": "IKbYJ0FH2TVv",
        "colab_type": "text"
      },
      "cell_type": "markdown",
      "source": [
        "The question we want to answer is:\n",
        "\n",
        "***Are a person's brain size and body size predictive of his or her intelligence?***\n",
        "\n",
        "Interested in answering the above research question, some researchers (Willerman, et al, 1991) collected the following data (iqsize.txt) on a sample of n = 38 college students.\n",
        "\n",
        "- Response (y): Performance IQ scores (PIQ) from the revised Wechsler Adult Intelligence Scale. This variable served as the investigator's measure of the individual's intelligence.\n",
        "- Potential predictor (x1): Brain size based on the count obtained from MRI scans (given as count/10,000). \n",
        "- Potential predictor (x2): Height in inches.\n",
        "- Potential predictor (x3): Weight in pounds.\n",
        "\n",
        "Source: https://onlinecourses.science.psu.edu/stat501/node/284/"
      ]
    },
    {
      "metadata": {
        "id": "My04Ql-m2TVv",
        "colab_type": "code",
        "colab": {}
      },
      "cell_type": "code",
      "source": [
        "data = pd.read_csv(\"iqsize.txt\", sep = '\\t')"
      ],
      "execution_count": 0,
      "outputs": []
    },
    {
      "metadata": {
        "id": "FeCKMYHI2TVx",
        "colab_type": "code",
        "colab": {},
        "outputId": "85ef18f1-0941-4616-f400-8824584ba2c1"
      },
      "cell_type": "code",
      "source": [
        "data.head()"
      ],
      "execution_count": 0,
      "outputs": [
        {
          "output_type": "execute_result",
          "data": {
            "text/html": [
              "<div>\n",
              "<style scoped>\n",
              "    .dataframe tbody tr th:only-of-type {\n",
              "        vertical-align: middle;\n",
              "    }\n",
              "\n",
              "    .dataframe tbody tr th {\n",
              "        vertical-align: top;\n",
              "    }\n",
              "\n",
              "    .dataframe thead th {\n",
              "        text-align: right;\n",
              "    }\n",
              "</style>\n",
              "<table border=\"1\" class=\"dataframe\">\n",
              "  <thead>\n",
              "    <tr style=\"text-align: right;\">\n",
              "      <th></th>\n",
              "      <th>PIQ</th>\n",
              "      <th>Brain</th>\n",
              "      <th>Height</th>\n",
              "      <th>Weight</th>\n",
              "    </tr>\n",
              "  </thead>\n",
              "  <tbody>\n",
              "    <tr>\n",
              "      <th>0</th>\n",
              "      <td>124</td>\n",
              "      <td>81.69</td>\n",
              "      <td>64.5</td>\n",
              "      <td>118</td>\n",
              "    </tr>\n",
              "    <tr>\n",
              "      <th>1</th>\n",
              "      <td>150</td>\n",
              "      <td>103.84</td>\n",
              "      <td>73.3</td>\n",
              "      <td>143</td>\n",
              "    </tr>\n",
              "    <tr>\n",
              "      <th>2</th>\n",
              "      <td>128</td>\n",
              "      <td>96.54</td>\n",
              "      <td>68.8</td>\n",
              "      <td>172</td>\n",
              "    </tr>\n",
              "    <tr>\n",
              "      <th>3</th>\n",
              "      <td>134</td>\n",
              "      <td>95.15</td>\n",
              "      <td>65.0</td>\n",
              "      <td>147</td>\n",
              "    </tr>\n",
              "    <tr>\n",
              "      <th>4</th>\n",
              "      <td>110</td>\n",
              "      <td>92.88</td>\n",
              "      <td>69.0</td>\n",
              "      <td>146</td>\n",
              "    </tr>\n",
              "  </tbody>\n",
              "</table>\n",
              "</div>"
            ],
            "text/plain": [
              "   PIQ   Brain  Height  Weight\n",
              "0  124   81.69    64.5     118\n",
              "1  150  103.84    73.3     143\n",
              "2  128   96.54    68.8     172\n",
              "3  134   95.15    65.0     147\n",
              "4  110   92.88    69.0     146"
            ]
          },
          "metadata": {
            "tags": []
          },
          "execution_count": 6
        }
      ]
    },
    {
      "metadata": {
        "id": "NGMFYeai2TVy",
        "colab_type": "code",
        "colab": {},
        "outputId": "c337268a-d253-4ade-a822-d07fd243c27e"
      },
      "cell_type": "code",
      "source": [
        "data.size"
      ],
      "execution_count": 0,
      "outputs": [
        {
          "output_type": "execute_result",
          "data": {
            "text/plain": [
              "152"
            ]
          },
          "metadata": {
            "tags": []
          },
          "execution_count": 7
        }
      ]
    },
    {
      "metadata": {
        "id": "KwJ2GTVr2TVz",
        "colab_type": "text"
      },
      "cell_type": "markdown",
      "source": [
        "# Some Data Analysis"
      ]
    },
    {
      "metadata": {
        "id": "S3M-K39s2TVz",
        "colab_type": "code",
        "colab": {},
        "outputId": "a43468f1-d396-4022-a463-36f8d18f05e6"
      },
      "cell_type": "code",
      "source": [
        "scatter_matrix(data, alpha = 0.5, figsize = (12, 12), diagonal = 'kde');"
      ],
      "execution_count": 0,
      "outputs": [
        {
          "output_type": "display_data",
          "data": {
            "image/png": "[encoded data removed]",
            "text/plain": [
              "<matplotlib.figure.Figure at 0x1bda0041f60>"
            ]
          },
          "metadata": {
            "tags": []
          }
        }
      ]
    },
    {
      "metadata": {
        "id": "LWnqd-gc2TV1",
        "colab_type": "text"
      },
      "cell_type": "markdown",
      "source": [
        "# Linear Regression"
      ]
    },
    {
      "metadata": {
        "id": "0Yj5KewG2TV1",
        "colab_type": "text"
      },
      "cell_type": "markdown",
      "source": [
        "So basically for each observation we will try to find the best parameters ${\\bf p} = (p_0, p_1, p_2, p_3)$ that minimize the MSE for our data\n",
        "\n",
        "$$\n",
        "\\hat y_i=p_0+p_1x_{i1}+p_2x_{i2}+p_3x_{i3}\n",
        "$$\n",
        "\n",
        "The MSE is the Mean Squared Error and it looks like\n",
        "\n",
        "$$\n",
        "MSE = \\frac{1}{N}\\sum_i (y_i - \\hat y_i)^2\n",
        "$$\n",
        "\n",
        "where $y_i$ represent the $i^{th}$ observation and $\\hat y_i$ represents the $i^{th}$ prediction. The sum is over all observations, and $N$ is the number of observations we have at our disposal. In our case $N=152$."
      ]
    },
    {
      "metadata": {
        "id": "Eh04_nu12TV1",
        "colab_type": "text"
      },
      "cell_type": "markdown",
      "source": [
        "## Implementation"
      ]
    },
    {
      "metadata": {
        "id": "oxAh7ots2TV1",
        "colab_type": "text"
      },
      "cell_type": "markdown",
      "source": [
        "Let's now build our matrices. Let's start with $Y$"
      ]
    },
    {
      "metadata": {
        "id": "Zd_o1igo2TV2",
        "colab_type": "code",
        "colab": {}
      },
      "cell_type": "code",
      "source": [
        "Y = data[\"PIQ\"]"
      ],
      "execution_count": 0,
      "outputs": []
    },
    {
      "metadata": {
        "id": "WVOhlMWE2TV2",
        "colab_type": "code",
        "colab": {},
        "outputId": "de38f5e3-36cc-4d58-abf3-b0b5d3cf5627"
      },
      "cell_type": "code",
      "source": [
        "Y.head()"
      ],
      "execution_count": 0,
      "outputs": [
        {
          "output_type": "execute_result",
          "data": {
            "text/plain": [
              "0    124\n",
              "1    150\n",
              "2    128\n",
              "3    134\n",
              "4    110\n",
              "Name: PIQ, dtype: int64"
            ]
          },
          "metadata": {
            "tags": []
          },
          "execution_count": 39
        }
      ]
    },
    {
      "metadata": {
        "id": "FB2bqTF92TV3",
        "colab_type": "code",
        "colab": {}
      },
      "cell_type": "code",
      "source": [
        "X = data.drop(\"PIQ\", axis = 1)"
      ],
      "execution_count": 0,
      "outputs": []
    },
    {
      "metadata": {
        "id": "zjkzoI4Q2TV4",
        "colab_type": "code",
        "colab": {},
        "outputId": "608033cf-823d-46e1-ae56-da0c857fe195"
      },
      "cell_type": "code",
      "source": [
        "X.head()"
      ],
      "execution_count": 0,
      "outputs": [
        {
          "output_type": "execute_result",
          "data": {
            "text/html": [
              "<div>\n",
              "<style scoped>\n",
              "    .dataframe tbody tr th:only-of-type {\n",
              "        vertical-align: middle;\n",
              "    }\n",
              "\n",
              "    .dataframe tbody tr th {\n",
              "        vertical-align: top;\n",
              "    }\n",
              "\n",
              "    .dataframe thead th {\n",
              "        text-align: right;\n",
              "    }\n",
              "</style>\n",
              "<table border=\"1\" class=\"dataframe\">\n",
              "  <thead>\n",
              "    <tr style=\"text-align: right;\">\n",
              "      <th></th>\n",
              "      <th>Brain</th>\n",
              "      <th>Height</th>\n",
              "      <th>Weight</th>\n",
              "    </tr>\n",
              "  </thead>\n",
              "  <tbody>\n",
              "    <tr>\n",
              "      <th>0</th>\n",
              "      <td>81.69</td>\n",
              "      <td>64.5</td>\n",
              "      <td>118</td>\n",
              "    </tr>\n",
              "    <tr>\n",
              "      <th>1</th>\n",
              "      <td>103.84</td>\n",
              "      <td>73.3</td>\n",
              "      <td>143</td>\n",
              "    </tr>\n",
              "    <tr>\n",
              "      <th>2</th>\n",
              "      <td>96.54</td>\n",
              "      <td>68.8</td>\n",
              "      <td>172</td>\n",
              "    </tr>\n",
              "    <tr>\n",
              "      <th>3</th>\n",
              "      <td>95.15</td>\n",
              "      <td>65.0</td>\n",
              "      <td>147</td>\n",
              "    </tr>\n",
              "    <tr>\n",
              "      <th>4</th>\n",
              "      <td>92.88</td>\n",
              "      <td>69.0</td>\n",
              "      <td>146</td>\n",
              "    </tr>\n",
              "  </tbody>\n",
              "</table>\n",
              "</div>"
            ],
            "text/plain": [
              "    Brain  Height  Weight\n",
              "0   81.69    64.5     118\n",
              "1  103.84    73.3     143\n",
              "2   96.54    68.8     172\n",
              "3   95.15    65.0     147\n",
              "4   92.88    69.0     146"
            ]
          },
          "metadata": {
            "tags": []
          },
          "execution_count": 47
        }
      ]
    },
    {
      "metadata": {
        "id": "Rnl12UjL2TV5",
        "colab_type": "text"
      },
      "cell_type": "markdown",
      "source": [
        "> Remember: ```.drop()``` don't change the object in place."
      ]
    },
    {
      "metadata": {
        "id": "44MlyKa42TV5",
        "colab_type": "text"
      },
      "cell_type": "markdown",
      "source": [
        "So we have three features so our $X$ matrix will have $N\\times 4$ dimensions. Let's build it addint a columnd with all ones."
      ]
    },
    {
      "metadata": {
        "id": "CWbHvOgR2TV6",
        "colab_type": "code",
        "colab": {}
      },
      "cell_type": "code",
      "source": [
        "X[\"b\"] = 1"
      ],
      "execution_count": 0,
      "outputs": []
    },
    {
      "metadata": {
        "id": "vHl4SH_q2TV7",
        "colab_type": "code",
        "colab": {},
        "outputId": "5c291216-9cce-485c-c88e-2435ee2b62a8"
      },
      "cell_type": "code",
      "source": [
        "X.head()"
      ],
      "execution_count": 0,
      "outputs": [
        {
          "output_type": "execute_result",
          "data": {
            "text/html": [
              "<div>\n",
              "<style scoped>\n",
              "    .dataframe tbody tr th:only-of-type {\n",
              "        vertical-align: middle;\n",
              "    }\n",
              "\n",
              "    .dataframe tbody tr th {\n",
              "        vertical-align: top;\n",
              "    }\n",
              "\n",
              "    .dataframe thead th {\n",
              "        text-align: right;\n",
              "    }\n",
              "</style>\n",
              "<table border=\"1\" class=\"dataframe\">\n",
              "  <thead>\n",
              "    <tr style=\"text-align: right;\">\n",
              "      <th></th>\n",
              "      <th>Brain</th>\n",
              "      <th>Height</th>\n",
              "      <th>Weight</th>\n",
              "      <th>b</th>\n",
              "    </tr>\n",
              "  </thead>\n",
              "  <tbody>\n",
              "    <tr>\n",
              "      <th>0</th>\n",
              "      <td>81.69</td>\n",
              "      <td>64.5</td>\n",
              "      <td>118</td>\n",
              "      <td>1</td>\n",
              "    </tr>\n",
              "    <tr>\n",
              "      <th>1</th>\n",
              "      <td>103.84</td>\n",
              "      <td>73.3</td>\n",
              "      <td>143</td>\n",
              "      <td>1</td>\n",
              "    </tr>\n",
              "    <tr>\n",
              "      <th>2</th>\n",
              "      <td>96.54</td>\n",
              "      <td>68.8</td>\n",
              "      <td>172</td>\n",
              "      <td>1</td>\n",
              "    </tr>\n",
              "    <tr>\n",
              "      <th>3</th>\n",
              "      <td>95.15</td>\n",
              "      <td>65.0</td>\n",
              "      <td>147</td>\n",
              "      <td>1</td>\n",
              "    </tr>\n",
              "    <tr>\n",
              "      <th>4</th>\n",
              "      <td>92.88</td>\n",
              "      <td>69.0</td>\n",
              "      <td>146</td>\n",
              "      <td>1</td>\n",
              "    </tr>\n",
              "  </tbody>\n",
              "</table>\n",
              "</div>"
            ],
            "text/plain": [
              "    Brain  Height  Weight  b\n",
              "0   81.69    64.5     118  1\n",
              "1  103.84    73.3     143  1\n",
              "2   96.54    68.8     172  1\n",
              "3   95.15    65.0     147  1\n",
              "4   92.88    69.0     146  1"
            ]
          },
          "metadata": {
            "tags": []
          },
          "execution_count": 49
        }
      ]
    },
    {
      "metadata": {
        "id": "IIXoRIJM2TV8",
        "colab_type": "text"
      },
      "cell_type": "markdown",
      "source": [
        "Let's reorder the column to have the ones at the first place. This is not strictly necessary, you just need to know how to interpret your output vector $\\bf p$ in the results."
      ]
    },
    {
      "metadata": {
        "id": "dwRVr54z2TV8",
        "colab_type": "code",
        "colab": {},
        "outputId": "449ed737-c40e-4855-f5cb-140e14831a9e"
      },
      "cell_type": "code",
      "source": [
        "cols = X.columns.tolist()\n",
        "cols = cols[-1:] + cols[:-1]\n",
        "print(cols)"
      ],
      "execution_count": 0,
      "outputs": [
        {
          "output_type": "stream",
          "text": [
            "['b', 'Brain', 'Height', 'Weight']\n"
          ],
          "name": "stdout"
        }
      ]
    },
    {
      "metadata": {
        "id": "aJVdwk5t2TV9",
        "colab_type": "code",
        "colab": {}
      },
      "cell_type": "code",
      "source": [
        "X = X[cols]"
      ],
      "execution_count": 0,
      "outputs": []
    },
    {
      "metadata": {
        "id": "ZQsiq5g02TV_",
        "colab_type": "code",
        "colab": {},
        "outputId": "a675ae00-0110-4912-baae-0077328e3e8b"
      },
      "cell_type": "code",
      "source": [
        "X.head()"
      ],
      "execution_count": 0,
      "outputs": [
        {
          "output_type": "execute_result",
          "data": {
            "text/html": [
              "<div>\n",
              "<style scoped>\n",
              "    .dataframe tbody tr th:only-of-type {\n",
              "        vertical-align: middle;\n",
              "    }\n",
              "\n",
              "    .dataframe tbody tr th {\n",
              "        vertical-align: top;\n",
              "    }\n",
              "\n",
              "    .dataframe thead th {\n",
              "        text-align: right;\n",
              "    }\n",
              "</style>\n",
              "<table border=\"1\" class=\"dataframe\">\n",
              "  <thead>\n",
              "    <tr style=\"text-align: right;\">\n",
              "      <th></th>\n",
              "      <th>b</th>\n",
              "      <th>Brain</th>\n",
              "      <th>Height</th>\n",
              "      <th>Weight</th>\n",
              "    </tr>\n",
              "  </thead>\n",
              "  <tbody>\n",
              "    <tr>\n",
              "      <th>0</th>\n",
              "      <td>1</td>\n",
              "      <td>81.69</td>\n",
              "      <td>64.5</td>\n",
              "      <td>118</td>\n",
              "    </tr>\n",
              "    <tr>\n",
              "      <th>1</th>\n",
              "      <td>1</td>\n",
              "      <td>103.84</td>\n",
              "      <td>73.3</td>\n",
              "      <td>143</td>\n",
              "    </tr>\n",
              "    <tr>\n",
              "      <th>2</th>\n",
              "      <td>1</td>\n",
              "      <td>96.54</td>\n",
              "      <td>68.8</td>\n",
              "      <td>172</td>\n",
              "    </tr>\n",
              "    <tr>\n",
              "      <th>3</th>\n",
              "      <td>1</td>\n",
              "      <td>95.15</td>\n",
              "      <td>65.0</td>\n",
              "      <td>147</td>\n",
              "    </tr>\n",
              "    <tr>\n",
              "      <th>4</th>\n",
              "      <td>1</td>\n",
              "      <td>92.88</td>\n",
              "      <td>69.0</td>\n",
              "      <td>146</td>\n",
              "    </tr>\n",
              "  </tbody>\n",
              "</table>\n",
              "</div>"
            ],
            "text/plain": [
              "   b   Brain  Height  Weight\n",
              "0  1   81.69    64.5     118\n",
              "1  1  103.84    73.3     143\n",
              "2  1   96.54    68.8     172\n",
              "3  1   95.15    65.0     147\n",
              "4  1   92.88    69.0     146"
            ]
          },
          "metadata": {
            "tags": []
          },
          "execution_count": 54
        }
      ]
    },
    {
      "metadata": {
        "id": "z4W_Qm4k2TWA",
        "colab_type": "text"
      },
      "cell_type": "markdown",
      "source": [
        "Now we have the matrices we need and we can calculate \n",
        "\n",
        "$$\n",
        "{\\bf p} =(X^TX)^{-1} X^T Y\n",
        "$$"
      ]
    },
    {
      "metadata": {
        "id": "ljJjohmt2TWA",
        "colab_type": "code",
        "colab": {}
      },
      "cell_type": "code",
      "source": [
        "part1 = np.linalg.inv(np.matmul(X.transpose() , X))\n",
        "part2 = np.matmul(X.transpose(), Y)\n",
        "\n",
        "p = np.matmul(part1, part2)"
      ],
      "execution_count": 0,
      "outputs": []
    },
    {
      "metadata": {
        "id": "IMU3njaq2TWB",
        "colab_type": "code",
        "colab": {},
        "outputId": "d416d047-1bb2-4049-9ab5-103dccb161b4"
      },
      "cell_type": "code",
      "source": [
        "print(p)"
      ],
      "execution_count": 0,
      "outputs": [
        {
          "output_type": "stream",
          "text": [
            "[  1.11353608e+02   2.06036680e+00  -2.73192916e+00   5.59937127e-04]\n"
          ],
          "name": "stdout"
        }
      ]
    },
    {
      "metadata": {
        "id": "vt5tL1_L2TWC",
        "colab_type": "text"
      },
      "cell_type": "markdown",
      "source": [
        "Our prediction would look like this"
      ]
    },
    {
      "metadata": {
        "id": "TlwW5fC72TWD",
        "colab_type": "code",
        "colab": {}
      },
      "cell_type": "code",
      "source": [
        "Yhat = np.matmul(X, p)"
      ],
      "execution_count": 0,
      "outputs": []
    },
    {
      "metadata": {
        "id": "NPGlXBP22TWE",
        "colab_type": "code",
        "colab": {},
        "outputId": "657ece8a-912a-490d-ff22-5f40da3efa89"
      },
      "cell_type": "code",
      "source": [
        "plt.rc('font', family='arial')\n",
        "plt.rc('xtick', labelsize='x-small')\n",
        "plt.rc('ytick', labelsize='x-small')\n",
        "    \n",
        "plt.tight_layout()\n",
        "\n",
        "fig = plt.figure(figsize=(8, 5))\n",
        "ax = fig.add_subplot(1, 1, 1)\n",
        "ax.scatter(Y, Yhat, lw = 0.3)\n",
        "ax.plot([Y.min(), Y.max()], [Y.min(), Y.max()], 'k--', lw = 3)\n",
        "ax.set_xlabel('Measured Target Value')\n",
        "ax.set_ylabel('Predicted Target Value')"
      ],
      "execution_count": 0,
      "outputs": [
        {
          "output_type": "execute_result",
          "data": {
            "text/plain": [
              "Text(0,0.5,'Predicted Target Value')"
            ]
          },
          "metadata": {
            "tags": []
          },
          "execution_count": 70
        },
        {
          "output_type": "display_data",
          "data": {
            "text/plain": [
              "<matplotlib.figure.Figure at 0x210a33dcc18>"
            ]
          },
          "metadata": {
            "tags": []
          }
        },
        {
          "output_type": "display_data",
          "data": {
            "image/png": "[encoded data removed]",
            "text/plain": [
              "<matplotlib.figure.Figure at 0x210a3420ba8>"
            ]
          },
          "metadata": {
            "tags": []
          }
        }
      ]
    },
    {
      "metadata": {
        "id": "bBsouJ9U2TWE",
        "colab_type": "text"
      },
      "cell_type": "markdown",
      "source": [
        "## Example of linear regression in sklearn"
      ]
    },
    {
      "metadata": {
        "id": "c8kfcrWI2TWF",
        "colab_type": "code",
        "colab": {},
        "outputId": "7ab0c615-9669-479d-c05b-964fb89df07a"
      },
      "cell_type": "code",
      "source": [
        "from sklearn import datasets, linear_model\n",
        "from sklearn.metrics import mean_squared_error, r2_score\n",
        "\n",
        "regr = linear_model.LinearRegression()\n",
        "regr.fit(X.drop('b', axis = 1), Y)"
      ],
      "execution_count": 0,
      "outputs": [
        {
          "output_type": "execute_result",
          "data": {
            "text/plain": [
              "LinearRegression(copy_X=True, fit_intercept=True, n_jobs=1, normalize=False)"
            ]
          },
          "metadata": {
            "tags": []
          },
          "execution_count": 78
        }
      ]
    },
    {
      "metadata": {
        "id": "ejgXDLgo2TWG",
        "colab_type": "code",
        "colab": {}
      },
      "cell_type": "code",
      "source": [
        "y_pred = regr.predict(X.drop('b', axis = 1))"
      ],
      "execution_count": 0,
      "outputs": []
    },
    {
      "metadata": {
        "id": "JtjrLd2M2TWG",
        "colab_type": "code",
        "colab": {},
        "outputId": "10228c29-eae7-4abf-b9ab-91ae91fd1673"
      },
      "cell_type": "code",
      "source": [
        "print('Coefficients: ', regr.coef_)\n",
        "print('Intercept: ', regr.intercept_)"
      ],
      "execution_count": 0,
      "outputs": [
        {
          "output_type": "stream",
          "text": [
            "Coefficients:  [  2.06036680e+00  -2.73192916e+00   5.59937127e-04]\n",
            "Intercept:  111.353608292\n"
          ],
          "name": "stdout"
        }
      ]
    },
    {
      "metadata": {
        "id": "tylyoNX32TWH",
        "colab_type": "text"
      },
      "cell_type": "markdown",
      "source": [
        "Let's compare the parameters with what we got with our matrix solution"
      ]
    },
    {
      "metadata": {
        "id": "uvTe77tg2TWH",
        "colab_type": "code",
        "colab": {},
        "outputId": "999bfbee-04f0-4c7b-a1e2-706781de656a"
      },
      "cell_type": "code",
      "source": [
        "print('Coefficients from the matrix model: ', p[1:4])\n",
        "print('Coefficients obtained with sklearn: ', regr.coef_)\n",
        "print('Intercept obtained with sklearn: ', p[0])\n",
        "print('Intercept obtained with sklearn: ', regr.intercept_)"
      ],
      "execution_count": 0,
      "outputs": [
        {
          "output_type": "stream",
          "text": [
            "Coefficients from the matrix model:  [  2.06036680e+00  -2.73192916e+00   5.59937127e-04]\n",
            "Coefficients obtained with sklearn:  [  2.06036680e+00  -2.73192916e+00   5.59937127e-04]\n",
            "Intercept obtained with sklearn:  111.353608292\n",
            "Intercept obtained with sklearn:  111.353608292\n"
          ],
          "name": "stdout"
        }
      ]
    },
    {
      "metadata": {
        "id": "vRzi5ylI2TWJ",
        "colab_type": "text"
      },
      "cell_type": "markdown",
      "source": [
        "As you will notice they are the same (as they should be)."
      ]
    },
    {
      "metadata": {
        "id": "QadkcRx02TWJ",
        "colab_type": "code",
        "colab": {},
        "outputId": "5880ad41-ac6f-4ab8-ebe4-3013e571d729"
      },
      "cell_type": "code",
      "source": [
        "\n",
        "fig = plt.figure(figsize=(8, 5))\n",
        "ax = fig.add_subplot(1, 1, 1)\n",
        "ax.scatter(Y, y_pred, lw = 0.3)\n",
        "ax.plot([Y.min(), Y.max()], [Y.min(), Y.max()], 'k--', lw = 3)\n",
        "ax.set_xlabel('Measured Target Value')\n",
        "ax.set_ylabel('Predicted Target Value')"
      ],
      "execution_count": 0,
      "outputs": [
        {
          "output_type": "execute_result",
          "data": {
            "text/plain": [
              "Text(0,0.5,'Predicted Target Value')"
            ]
          },
          "metadata": {
            "tags": []
          },
          "execution_count": 82
        },
        {
          "output_type": "display_data",
          "data": {
            "text/plain": [
              "<matplotlib.figure.Figure at 0x210a53f1c50>"
            ]
          },
          "metadata": {
            "tags": []
          }
        },
        {
          "output_type": "display_data",
          "data": {
            "image/png": "[encoded data removed]",
            "text/plain": [
              "<matplotlib.figure.Figure at 0x210a540da20>"
            ]
          },
          "metadata": {
            "tags": []
          }
        }
      ]
    },
    {
      "metadata": {
        "id": "gOInkKDg2TWK",
        "colab_type": "text"
      },
      "cell_type": "markdown",
      "source": [
        "## Exercise 6"
      ]
    },
    {
      "metadata": {
        "id": "iTH_mlP82TWK",
        "colab_type": "text"
      },
      "cell_type": "markdown",
      "source": [
        "Source: https://www.cs.toronto.edu/~delve/data/boston/bostonDetail.html"
      ]
    },
    {
      "metadata": {
        "id": "CUC-HRgi2TWK",
        "colab_type": "text"
      },
      "cell_type": "markdown",
      "source": [
        "Apply the same methods (linear regression) to a the boston housing dataset. This dataset contains information collected by the U.S Census Service concerning housing in the area of Boston Mass. It was obtained from the StatLib archive (http://lib.stat.cmu.edu/datasets/boston), and has been used extensively throughout the literature to benchmark algorithms. However, these comparisons were primarily done outside of Delve and are thus somewhat suspect. The dataset is small in size with only 506 cases.\n",
        "\n",
        "Variables\n",
        "There are 14 attributes in each case of the dataset. They are:\n",
        "- CRIM - per capita crime rate by town\n",
        "- ZN - proportion of residential land zoned for lots over 25,000 sq.ft.\n",
        "- INDUS - proportion of non-retail business acres per town.\n",
        "- CHAS - Charles River dummy variable (1 if tract bounds river; 0 otherwise)\n",
        "- NOX - nitric oxides concentration (parts per 10 million)\n",
        "- RM - average number of rooms per dwelling\n",
        "- AGE - proportion of owner-occupied units built prior to 1940\n",
        "- DIS - weighted distances to five Boston employment centres\n",
        "- RAD - index of accessibility to radial highways\n",
        "- TAX - full-value property-tax rate per \\$10,000\n",
        "- PTRATIO - pupil-teacher ratio by town\n",
        "- B - 1000(Bk - 0.63)^2 where Bk is the proportion of blacks by town\n",
        "- LSTAT - percentage lower status of the population\n",
        "- MEDV - Median value of owner-occupied homes in $1000's\n",
        "\n",
        "Our target variable (what we want do predict) is the MEDV variable.\n",
        "\n",
        "At the end plot the predicted values from your model vs. the one given in the dataset."
      ]
    },
    {
      "metadata": {
        "id": "EC8GfRkS2TWL",
        "colab_type": "text"
      },
      "cell_type": "markdown",
      "source": [
        "To make your life easier you can use the following to load your dataset (you need internet)"
      ]
    },
    {
      "metadata": {
        "id": "P31HnsC32TWL",
        "colab_type": "code",
        "colab": {}
      },
      "cell_type": "code",
      "source": [
        "from sklearn.datasets import load_boston\n",
        "X,Y = load_boston(return_X_y = True)"
      ],
      "execution_count": 0,
      "outputs": []
    },
    {
      "metadata": {
        "id": "yK5wt7WB2TWL",
        "colab_type": "code",
        "colab": {},
        "outputId": "dff6d6e8-688e-4e5c-eaf9-09de6dc68934"
      },
      "cell_type": "code",
      "source": [
        "X.shape"
      ],
      "execution_count": 0,
      "outputs": [
        {
          "output_type": "execute_result",
          "data": {
            "text/plain": [
              "(506, 13)"
            ]
          },
          "metadata": {
            "tags": []
          },
          "execution_count": 23
        }
      ]
    },
    {
      "metadata": {
        "id": "PlgL6Y8K2TWO",
        "colab_type": "text"
      },
      "cell_type": "markdown",
      "source": [
        "As expected we have $506$ observations and $13$ features. "
      ]
    },
    {
      "metadata": {
        "id": "_rhL1d0g2TWO",
        "colab_type": "code",
        "colab": {},
        "outputId": "28769ca1-e874-472b-a2d0-883049db68b1"
      },
      "cell_type": "code",
      "source": [
        "Y.shape"
      ],
      "execution_count": 0,
      "outputs": [
        {
          "output_type": "execute_result",
          "data": {
            "text/plain": [
              "(506,)"
            ]
          },
          "metadata": {
            "tags": []
          },
          "execution_count": 24
        }
      ]
    },
    {
      "metadata": {
        "id": "KXN4GJmf2TWR",
        "colab_type": "text"
      },
      "cell_type": "markdown",
      "source": [
        "# Exercise 7"
      ]
    },
    {
      "metadata": {
        "id": "ABDNnzlc2TWR",
        "colab_type": "text"
      },
      "cell_type": "markdown",
      "source": [
        "From the previous exercise you should get a plot similar to this one\n",
        "\n",
        "![](https://github.com/michelucci/zhaw-dlcourse-spring2019/blob/master/Week%201%20-%20Mathematic%20introduction/boston_result.png?raw=1)\n",
        "\n",
        "Answer why there is  set of vertical point at ```\"Measured Target Value = 50\".```"
      ]
    },
    {
      "metadata": {
        "id": "MCPvEKz32TWS",
        "colab_type": "text"
      },
      "cell_type": "markdown",
      "source": [
        "# Connection to neural networks - why do we need linear algebra"
      ]
    },
    {
      "metadata": {
        "id": "7DahJ98u2TWS",
        "colab_type": "text"
      },
      "cell_type": "markdown",
      "source": [
        "Brief explanation and discussion in class why we need all this :-)"
      ]
    },
    {
      "metadata": {
        "id": "F1DMpxeB2TWS",
        "colab_type": "code",
        "colab": {}
      },
      "cell_type": "code",
      "source": [
        ""
      ],
      "execution_count": 0,
      "outputs": []
    }
  ]
}