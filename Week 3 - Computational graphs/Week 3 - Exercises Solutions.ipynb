{
 "cells": [
  {
   "cell_type": "markdown",
   "metadata": {},
   "source": [
    "# Neural Networks and Deep Learning for Life Sciences and Health Applications - An introductory course about theoretical fundamentals, case studies and implementations in python and tensorflow "
   ]
  },
  {
   "cell_type": "markdown",
   "metadata": {},
   "source": [
    "(C) Umberto Michelucci 2018 - umberto.michelucci@gmail.com \n",
    "\n",
    "github repository: https://github.com/michelucci/zhaw-dlcourse-spring2019\n",
    "\n",
    "Spring Semester 2019"
   ]
  },
  {
   "cell_type": "code",
   "execution_count": 33,
   "metadata": {},
   "outputs": [],
   "source": [
    "import tensorflow as tf\n",
    "import numpy as np\n",
    "import pandas as pd\n",
    "import matplotlib.pyplot as plt"
   ]
  },
  {
   "cell_type": "markdown",
   "metadata": {},
   "source": [
    "# Solutions to exercises"
   ]
  },
  {
   "cell_type": "markdown",
   "metadata": {},
   "source": [
    "## Exercise 1 (Difficulty: easy)"
   ]
  },
  {
   "cell_type": "markdown",
   "metadata": {},
   "source": [
    "Draw and develop in tensorflow with ```tf.constant``` the computational graphs for the following operations\n",
    "\n",
    "A) ```w1*x1+w2*x2+x1*x1```\n",
    "\n",
    "B) ```A*x1+3+x2/2```\n",
    "\n",
    "Use as input values ```x1 = 5``` and ```x2 = 6```"
   ]
  },
  {
   "cell_type": "markdown",
   "metadata": {},
   "source": [
    "## A)"
   ]
  },
  {
   "cell_type": "markdown",
   "metadata": {},
   "source": [
    "There are several ways of solving this exercise. This is one possible"
   ]
  },
  {
   "cell_type": "code",
   "execution_count": 3,
   "metadata": {},
   "outputs": [],
   "source": [
    "# Building Phase\n",
    "x1 = tf.constant(5.)\n",
    "x2 = tf.constant(6.)\n",
    "\n",
    "w1 = 10.\n",
    "w2 = 20."
   ]
  },
  {
   "cell_type": "code",
   "execution_count": 5,
   "metadata": {},
   "outputs": [],
   "source": [
    "z1 = tf.multiply(w1, x1)\n",
    "z2 = tf.multiply(w2, x2)\n",
    "z3 = tf.multiply(x1, x1)\n",
    "\n",
    "result = z1 + z2 + z3"
   ]
  },
  {
   "cell_type": "code",
   "execution_count": 8,
   "metadata": {},
   "outputs": [
    {
     "name": "stdout",
     "output_type": "stream",
     "text": [
      "195.0\n"
     ]
    }
   ],
   "source": [
    "# Evaluation Phase\n",
    "with tf.Session() as sess:\n",
    "    print(result.eval())"
   ]
  },
  {
   "cell_type": "markdown",
   "metadata": {},
   "source": [
    "A second way of doing that is the following"
   ]
  },
  {
   "cell_type": "code",
   "execution_count": 9,
   "metadata": {},
   "outputs": [],
   "source": [
    "# Building Phase\n",
    "x1 = tf.constant(5.)\n",
    "x2 = tf.constant(6.)\n",
    "\n",
    "w1 = 10.\n",
    "w2 = 20."
   ]
  },
  {
   "cell_type": "code",
   "execution_count": 10,
   "metadata": {},
   "outputs": [],
   "source": [
    "z1 = tf.multiply(w1, x1)\n",
    "z2 = tf.multiply(w2, x2)\n",
    "z3 = tf.multiply(x1, x1)\n",
    "\n",
    "result = z1 + z2 + z3"
   ]
  },
  {
   "cell_type": "code",
   "execution_count": 12,
   "metadata": {},
   "outputs": [
    {
     "name": "stdout",
     "output_type": "stream",
     "text": [
      "195.0\n"
     ]
    }
   ],
   "source": [
    "# Evaluation Phase\n",
    "sess = tf.Session()\n",
    "print(sess.run(result))\n",
    "sess.close()"
   ]
  },
  {
   "cell_type": "markdown",
   "metadata": {},
   "source": [
    "But you can also define ```w1``` and ```w2``` as constants too"
   ]
  },
  {
   "cell_type": "code",
   "execution_count": 13,
   "metadata": {},
   "outputs": [],
   "source": [
    "# Building Phase\n",
    "x1 = tf.constant(5.)\n",
    "x2 = tf.constant(6.)\n",
    "\n",
    "w1 = tf.constant(10.)\n",
    "w2 = tf.constant(20.)"
   ]
  },
  {
   "cell_type": "code",
   "execution_count": 14,
   "metadata": {},
   "outputs": [],
   "source": [
    "z1 = tf.multiply(w1, x1)\n",
    "z2 = tf.multiply(w2, x2)\n",
    "z3 = tf.multiply(x1, x1)\n",
    "\n",
    "result = z1 + z2 + z3"
   ]
  },
  {
   "cell_type": "code",
   "execution_count": 15,
   "metadata": {},
   "outputs": [
    {
     "name": "stdout",
     "output_type": "stream",
     "text": [
      "195.0\n"
     ]
    }
   ],
   "source": [
    "# Evaluation Phase\n",
    "sess = tf.Session()\n",
    "print(sess.run(result))\n",
    "sess.close()"
   ]
  },
  {
   "cell_type": "markdown",
   "metadata": {},
   "source": [
    "### B)"
   ]
  },
  {
   "cell_type": "code",
   "execution_count": 17,
   "metadata": {},
   "outputs": [],
   "source": [
    "# Building Phase\n",
    "x1 = tf.constant(5.)\n",
    "x2 = tf.constant(6.)\n",
    "A = tf.constant(10.)"
   ]
  },
  {
   "cell_type": "code",
   "execution_count": 19,
   "metadata": {},
   "outputs": [],
   "source": [
    "result = tf.multiply(A, x1) + tf.constant(3.) + tf.divide(x2, 2.)"
   ]
  },
  {
   "cell_type": "code",
   "execution_count": 20,
   "metadata": {},
   "outputs": [
    {
     "name": "stdout",
     "output_type": "stream",
     "text": [
      "56.0\n"
     ]
    }
   ],
   "source": [
    "# Evaluation Phase\n",
    "sess = tf.Session()\n",
    "print(sess.run(result))\n",
    "sess.close()"
   ]
  },
  {
   "cell_type": "markdown",
   "metadata": {},
   "source": [
    "or you can define the ```result``` in multiple steps"
   ]
  },
  {
   "cell_type": "code",
   "execution_count": 21,
   "metadata": {},
   "outputs": [],
   "source": [
    "# Building Phase\n",
    "z1 = tf.multiply(A, x1)\n",
    "z2 = tf.add(z1, 3.)\n",
    "z3 = tf.add(z2, tf.divide(x2,2.))"
   ]
  },
  {
   "cell_type": "code",
   "execution_count": 22,
   "metadata": {},
   "outputs": [
    {
     "name": "stdout",
     "output_type": "stream",
     "text": [
      "56.0\n"
     ]
    }
   ],
   "source": [
    "# Evaluation Phase\n",
    "sess = tf.Session()\n",
    "print(sess.run(result))\n",
    "sess.close()"
   ]
  },
  {
   "cell_type": "markdown",
   "metadata": {},
   "source": [
    "## Exercise 2 (Difficulty: medium)"
   ]
  },
  {
   "cell_type": "markdown",
   "metadata": {},
   "source": [
    "Draw and develop in tensorflow with ```tf.Variable``` the computational graph for the following operation ```A*(w1*x1+w2*x2)```\n",
    "\n",
    "build the computational graph and then evaluate it two times (without re-building it) with the initial values in the same session\n",
    "\n",
    "A) ```x1 = 3, x2 = 4```\n",
    "\n",
    "B) ```x1 = 5, x2 = 7```"
   ]
  },
  {
   "cell_type": "code",
   "execution_count": 24,
   "metadata": {},
   "outputs": [],
   "source": [
    "# Building Phase\n",
    "x1 = tf.Variable(3.)\n",
    "x2 = tf.Variable(4.)\n",
    "w1 = tf.constant(10.)\n",
    "w2 = tf.constant(20.)\n",
    "A = tf.constant(30.)\n",
    "init = tf.global_variables_initializer()\n",
    "\n",
    "z1 = tf.multiply(w1,x1)\n",
    "z2 = tf.multiply(w2,x2)\n",
    "z3 = tf.add(z1, z2)\n",
    "result = tf.multiply(A, z3)"
   ]
  },
  {
   "cell_type": "markdown",
   "metadata": {},
   "source": [
    "To run the same graph twice in the same session you can do the following"
   ]
  },
  {
   "cell_type": "code",
   "execution_count": 29,
   "metadata": {},
   "outputs": [
    {
     "name": "stdout",
     "output_type": "stream",
     "text": [
      "3300.0\n",
      "5700.0\n"
     ]
    }
   ],
   "source": [
    "sess = tf.Session()\n",
    "print(sess.run(result, feed_dict = {x1: 3, x2: 4}))\n",
    "print(sess.run(result, feed_dict = {x1: 5, x2: 7}))\n",
    "sess.close()"
   ]
  },
  {
   "cell_type": "markdown",
   "metadata": {},
   "source": [
    "Or you can write a function that creates a session, evaluates a node, and then close it."
   ]
  },
  {
   "cell_type": "code",
   "execution_count": 25,
   "metadata": {},
   "outputs": [],
   "source": [
    "def run_evaluation(x1_, x2_):\n",
    "    sess = tf.Session()\n",
    "    print(sess.run(result, feed_dict = {x1: x1_, x2: x2_}))\n",
    "    sess.close()"
   ]
  },
  {
   "cell_type": "markdown",
   "metadata": {},
   "source": [
    "And then you can evalute the node with a call to your function."
   ]
  },
  {
   "cell_type": "code",
   "execution_count": 26,
   "metadata": {},
   "outputs": [
    {
     "name": "stdout",
     "output_type": "stream",
     "text": [
      "3300.0\n"
     ]
    }
   ],
   "source": [
    "run_evaluation(3,4)"
   ]
  },
  {
   "cell_type": "code",
   "execution_count": 27,
   "metadata": {},
   "outputs": [
    {
     "name": "stdout",
     "output_type": "stream",
     "text": [
      "5700.0\n"
     ]
    }
   ],
   "source": [
    "run_evaluation(5,7)"
   ]
  },
  {
   "cell_type": "markdown",
   "metadata": {},
   "source": [
    "## Exercise 3 (Difficulty: FUN)"
   ]
  },
  {
   "cell_type": "markdown",
   "metadata": {},
   "source": [
    "Consider two vectors\n",
    "\n",
    "``` x1 = [1,2,3,4,5],  x2 = [6,7,8,9,10]```\n",
    "\n",
    "draw and build in tensorflow the computational graph for the dot-product operation between the two vectors. If you don't know what a dot-product is you can check it here (we covered that in our introductory week) [](https://en.wikipedia.org/wiki/Dot_product).\n",
    "\n",
    "Build it in two different ways:\n",
    "\n",
    "A) Do it with loops. Build a computational graph that takes as input scalars and in the session/evaluation phase build a loop to go over all the inputs and then sums the results\n",
    "\n",
    "B) Do it in one shot with tensorflow. Build a computational graph that takes as input vectors and do the entire operation directly in tensorflow. \n",
    "\n",
    "Hint: you can use in tensorflow two methods: ```tf.reduce_sum(tf.multiply(x1, x2))``` or ```tf.matmul(tf.reshape(x1,[1,5]), tf.reshape(x2, [-1, 1]))```. Try to understand why they work checking the official documentation."
   ]
  },
  {
   "cell_type": "markdown",
   "metadata": {},
   "source": [
    "## a)"
   ]
  },
  {
   "cell_type": "code",
   "execution_count": 30,
   "metadata": {},
   "outputs": [],
   "source": [
    "first = tf.Variable(0.)\n",
    "second = tf.Variable(0.)\n",
    "mult = tf.multiply(first, second)"
   ]
  },
  {
   "cell_type": "code",
   "execution_count": 33,
   "metadata": {},
   "outputs": [
    {
     "name": "stdout",
     "output_type": "stream",
     "text": [
      "130.0\n"
     ]
    }
   ],
   "source": [
    "x1 = [1,2,3,4,5]\n",
    "x2 = [6,7,8,9,10]\n",
    "\n",
    "sess = tf.Session()\n",
    "total = 0\n",
    "for i in range(0,len(x1)):\n",
    "    total = total + sess.run(mult, feed_dict = {first: x1[i], second: x2[i]})\n",
    "    \n",
    "print(total)"
   ]
  },
  {
   "cell_type": "markdown",
   "metadata": {},
   "source": [
    "Note that you can do that easily in numpy"
   ]
  },
  {
   "cell_type": "code",
   "execution_count": 34,
   "metadata": {},
   "outputs": [
    {
     "data": {
      "text/plain": [
       "130"
      ]
     },
     "execution_count": 34,
     "metadata": {},
     "output_type": "execute_result"
    }
   ],
   "source": [
    "np.dot(x1, x2)"
   ]
  },
  {
   "cell_type": "markdown",
   "metadata": {},
   "source": [
    "## b)"
   ]
  },
  {
   "cell_type": "markdown",
   "metadata": {},
   "source": [
    "Another way, and much more efficient, is the following"
   ]
  },
  {
   "cell_type": "code",
   "execution_count": 39,
   "metadata": {},
   "outputs": [],
   "source": [
    "x1 = tf.placeholder(tf.int32, None) # Let's assume we work with integers\n",
    "x2 = tf.placeholder(tf.int32, None) # Let's assume we work with integers\n",
    "result = tf.reduce_sum(tf.multiply(x1, x2))"
   ]
  },
  {
   "cell_type": "code",
   "execution_count": 41,
   "metadata": {},
   "outputs": [
    {
     "name": "stdout",
     "output_type": "stream",
     "text": [
      "130\n"
     ]
    }
   ],
   "source": [
    "sess = tf.Session()\n",
    "print(sess.run(result, feed_dict = {x1: [1,2,3,4,5], x2:[6,7,8,9,10]}))\n",
    "sess.close()"
   ]
  },
  {
   "cell_type": "markdown",
   "metadata": {},
   "source": [
    "Or in with matrices"
   ]
  },
  {
   "cell_type": "code",
   "execution_count": 46,
   "metadata": {},
   "outputs": [],
   "source": [
    "x1 = tf.placeholder(tf.int32, None) # Let's assume we work with integers\n",
    "x2 = tf.placeholder(tf.int32, None) # Let's assume we work with integers\n",
    "result = tf.matmul(tf.reshape(x1,[1,5]), tf.reshape(x2, [-1, 1]))"
   ]
  },
  {
   "cell_type": "code",
   "execution_count": 47,
   "metadata": {},
   "outputs": [
    {
     "name": "stdout",
     "output_type": "stream",
     "text": [
      "[[130]]\n"
     ]
    }
   ],
   "source": [
    "sess = tf.Session()\n",
    "print(sess.run(result, feed_dict = {x1: [1,2,3,4,5], x2:[6,7,8,9,10]}))\n",
    "sess.close()"
   ]
  },
  {
   "cell_type": "markdown",
   "metadata": {},
   "source": [
    "Note that the result is different in the two cases! In the first we get a scalar, in the second a matrix that has dimensions ```1x1```, because the second method is a matrix multiplication function that will return a matrix (or better a tensor)."
   ]
  },
  {
   "cell_type": "markdown",
   "metadata": {},
   "source": [
    "## c) (even another way) (BONUS Solution)"
   ]
  },
  {
   "cell_type": "markdown",
   "metadata": {},
   "source": [
    "There is actually another way. Tensorflow can perform the dot product directly"
   ]
  },
  {
   "cell_type": "code",
   "execution_count": 50,
   "metadata": {},
   "outputs": [],
   "source": [
    "x1 = tf.placeholder(tf.int32, None) # Let's assume we work with integers\n",
    "x2 = tf.placeholder(tf.int32, None) # Let's assume we work with integers\n",
    "result = tf.tensordot(x1, x2, axes = 1)"
   ]
  },
  {
   "cell_type": "code",
   "execution_count": 51,
   "metadata": {},
   "outputs": [
    {
     "name": "stdout",
     "output_type": "stream",
     "text": [
      "130\n"
     ]
    }
   ],
   "source": [
    "sess = tf.Session()\n",
    "print(sess.run(result, feed_dict = {x1: [1,2,3,4,5], x2:[6,7,8,9,10]}))\n",
    "sess.close()"
   ]
  },
  {
   "cell_type": "markdown",
   "metadata": {},
   "source": [
    "## Exercise 4 (Difficulty: medium)"
   ]
  },
  {
   "cell_type": "markdown",
   "metadata": {},
   "source": [
    "Write a function that build a computational graph for the operation ```x1+x2``` where the input ```x1``` and ```x2``` are input with given dimensions. Your ```x1``` and ```x2``` should be declared as ```tf.placeholder```. \n",
    "Your functions should accept as input:\n",
    "\n",
    "- dimensions of ```x1``` as list, for example ```[3]```\n",
    "- dimensions of ```x2``` as list, for example ```[3]```\n",
    "\n",
    "The function should return a tensor ```z = x1 + x2```. \n",
    "Then open a session and evaluate ```z``` with the following inputs:\n",
    "\n",
    "- ```x1 = [4,6,7], x2 = [1,2,9]```\n",
    "- ```x1 = [1,2,....., 1000], x2 = [10001, 10002, ...., 11000]```\n",
    "\n",
    "and print the result."
   ]
  },
  {
   "cell_type": "code",
   "execution_count": 69,
   "metadata": {},
   "outputs": [],
   "source": [
    "def build_graph(dim1, dim2):\n",
    "    tf.reset_default_graph()\n",
    "    x1 = tf.placeholder(tf.float32, dim1)\n",
    "    x2 = tf.placeholder(tf.float32, dim2)\n",
    "    z = tf.add(x1, x2)\n",
    "    return z, x1, x2"
   ]
  },
  {
   "cell_type": "code",
   "execution_count": 80,
   "metadata": {},
   "outputs": [
    {
     "name": "stdout",
     "output_type": "stream",
     "text": [
      "[ 5.  8. 16.]\n"
     ]
    }
   ],
   "source": [
    "x1list = [4,6,7]\n",
    "x2list = [1,2,9]\n",
    "\n",
    "\n",
    "# Building Phase\n",
    "z, x1, x2 =  build_graph(len(x1list), len(x2list))\n",
    "\n",
    "sess = tf.Session()\n",
    "print(sess.run(z, feed_dict = {x1: x1list, x2: x2list}))\n",
    "sess.close()"
   ]
  },
  {
   "cell_type": "markdown",
   "metadata": {},
   "source": [
    "**Note that since you refer to the tensors ```x1``` and ```x2``` in the ```feed_dict``` dictionary you need to have the tensors visible, otherwise you will get an error, therefore you need your function to return no only ```z``` but also ```x1``` and ```x2```.**"
   ]
  },
  {
   "cell_type": "code",
   "execution_count": 77,
   "metadata": {
    "scrolled": true
   },
   "outputs": [
    {
     "name": "stdout",
     "output_type": "stream",
     "text": [
      "[10002. 10004. 10006. 10008. 10010. 10012. 10014. 10016. 10018. 10020.\n",
      " 10022. 10024. 10026. 10028. 10030. 10032. 10034. 10036. 10038. 10040.\n",
      " 10042. 10044. 10046. 10048. 10050. 10052. 10054. 10056. 10058. 10060.\n",
      " 10062. 10064. 10066. 10068. 10070. 10072. 10074. 10076. 10078. 10080.\n",
      " 10082. 10084. 10086. 10088. 10090. 10092. 10094. 10096. 10098. 10100.\n",
      " 10102. 10104. 10106. 10108. 10110. 10112. 10114. 10116. 10118. 10120.\n",
      " 10122. 10124. 10126. 10128. 10130. 10132. 10134. 10136. 10138. 10140.\n",
      " 10142. 10144. 10146. 10148. 10150. 10152. 10154. 10156. 10158. 10160.\n",
      " 10162. 10164. 10166. 10168. 10170. 10172. 10174. 10176. 10178. 10180.\n",
      " 10182. 10184. 10186. 10188. 10190. 10192. 10194. 10196. 10198. 10200.\n",
      " 10202. 10204. 10206. 10208. 10210. 10212. 10214. 10216. 10218. 10220.\n",
      " 10222. 10224. 10226. 10228. 10230. 10232. 10234. 10236. 10238. 10240.\n",
      " 10242. 10244. 10246. 10248. 10250. 10252. 10254. 10256. 10258. 10260.\n",
      " 10262. 10264. 10266. 10268. 10270. 10272. 10274. 10276. 10278. 10280.\n",
      " 10282. 10284. 10286. 10288. 10290. 10292. 10294. 10296. 10298. 10300.\n",
      " 10302. 10304. 10306. 10308. 10310. 10312. 10314. 10316. 10318. 10320.\n",
      " 10322. 10324. 10326. 10328. 10330. 10332. 10334. 10336. 10338. 10340.\n",
      " 10342. 10344. 10346. 10348. 10350. 10352. 10354. 10356. 10358. 10360.\n",
      " 10362. 10364. 10366. 10368. 10370. 10372. 10374. 10376. 10378. 10380.\n",
      " 10382. 10384. 10386. 10388. 10390. 10392. 10394. 10396. 10398. 10400.\n",
      " 10402. 10404. 10406. 10408. 10410. 10412. 10414. 10416. 10418. 10420.\n",
      " 10422. 10424. 10426. 10428. 10430. 10432. 10434. 10436. 10438. 10440.\n",
      " 10442. 10444. 10446. 10448. 10450. 10452. 10454. 10456. 10458. 10460.\n",
      " 10462. 10464. 10466. 10468. 10470. 10472. 10474. 10476. 10478. 10480.\n",
      " 10482. 10484. 10486. 10488. 10490. 10492. 10494. 10496. 10498. 10500.\n",
      " 10502. 10504. 10506. 10508. 10510. 10512. 10514. 10516. 10518. 10520.\n",
      " 10522. 10524. 10526. 10528. 10530. 10532. 10534. 10536. 10538. 10540.\n",
      " 10542. 10544. 10546. 10548. 10550. 10552. 10554. 10556. 10558. 10560.\n",
      " 10562. 10564. 10566. 10568. 10570. 10572. 10574. 10576. 10578. 10580.\n",
      " 10582. 10584. 10586. 10588. 10590. 10592. 10594. 10596. 10598. 10600.\n",
      " 10602. 10604. 10606. 10608. 10610. 10612. 10614. 10616. 10618. 10620.\n",
      " 10622. 10624. 10626. 10628. 10630. 10632. 10634. 10636. 10638. 10640.\n",
      " 10642. 10644. 10646. 10648. 10650. 10652. 10654. 10656. 10658. 10660.\n",
      " 10662. 10664. 10666. 10668. 10670. 10672. 10674. 10676. 10678. 10680.\n",
      " 10682. 10684. 10686. 10688. 10690. 10692. 10694. 10696. 10698. 10700.\n",
      " 10702. 10704. 10706. 10708. 10710. 10712. 10714. 10716. 10718. 10720.\n",
      " 10722. 10724. 10726. 10728. 10730. 10732. 10734. 10736. 10738. 10740.\n",
      " 10742. 10744. 10746. 10748. 10750. 10752. 10754. 10756. 10758. 10760.\n",
      " 10762. 10764. 10766. 10768. 10770. 10772. 10774. 10776. 10778. 10780.\n",
      " 10782. 10784. 10786. 10788. 10790. 10792. 10794. 10796. 10798. 10800.\n",
      " 10802. 10804. 10806. 10808. 10810. 10812. 10814. 10816. 10818. 10820.\n",
      " 10822. 10824. 10826. 10828. 10830. 10832. 10834. 10836. 10838. 10840.\n",
      " 10842. 10844. 10846. 10848. 10850. 10852. 10854. 10856. 10858. 10860.\n",
      " 10862. 10864. 10866. 10868. 10870. 10872. 10874. 10876. 10878. 10880.\n",
      " 10882. 10884. 10886. 10888. 10890. 10892. 10894. 10896. 10898. 10900.\n",
      " 10902. 10904. 10906. 10908. 10910. 10912. 10914. 10916. 10918. 10920.\n",
      " 10922. 10924. 10926. 10928. 10930. 10932. 10934. 10936. 10938. 10940.\n",
      " 10942. 10944. 10946. 10948. 10950. 10952. 10954. 10956. 10958. 10960.\n",
      " 10962. 10964. 10966. 10968. 10970. 10972. 10974. 10976. 10978. 10980.\n",
      " 10982. 10984. 10986. 10988. 10990. 10992. 10994. 10996. 10998. 11000.\n",
      " 11002. 11004. 11006. 11008. 11010. 11012. 11014. 11016. 11018. 11020.\n",
      " 11022. 11024. 11026. 11028. 11030. 11032. 11034. 11036. 11038. 11040.\n",
      " 11042. 11044. 11046. 11048. 11050. 11052. 11054. 11056. 11058. 11060.\n",
      " 11062. 11064. 11066. 11068. 11070. 11072. 11074. 11076. 11078. 11080.\n",
      " 11082. 11084. 11086. 11088. 11090. 11092. 11094. 11096. 11098. 11100.\n",
      " 11102. 11104. 11106. 11108. 11110. 11112. 11114. 11116. 11118. 11120.\n",
      " 11122. 11124. 11126. 11128. 11130. 11132. 11134. 11136. 11138. 11140.\n",
      " 11142. 11144. 11146. 11148. 11150. 11152. 11154. 11156. 11158. 11160.\n",
      " 11162. 11164. 11166. 11168. 11170. 11172. 11174. 11176. 11178. 11180.\n",
      " 11182. 11184. 11186. 11188. 11190. 11192. 11194. 11196. 11198. 11200.\n",
      " 11202. 11204. 11206. 11208. 11210. 11212. 11214. 11216. 11218. 11220.\n",
      " 11222. 11224. 11226. 11228. 11230. 11232. 11234. 11236. 11238. 11240.\n",
      " 11242. 11244. 11246. 11248. 11250. 11252. 11254. 11256. 11258. 11260.\n",
      " 11262. 11264. 11266. 11268. 11270. 11272. 11274. 11276. 11278. 11280.\n",
      " 11282. 11284. 11286. 11288. 11290. 11292. 11294. 11296. 11298. 11300.\n",
      " 11302. 11304. 11306. 11308. 11310. 11312. 11314. 11316. 11318. 11320.\n",
      " 11322. 11324. 11326. 11328. 11330. 11332. 11334. 11336. 11338. 11340.\n",
      " 11342. 11344. 11346. 11348. 11350. 11352. 11354. 11356. 11358. 11360.\n",
      " 11362. 11364. 11366. 11368. 11370. 11372. 11374. 11376. 11378. 11380.\n",
      " 11382. 11384. 11386. 11388. 11390. 11392. 11394. 11396. 11398. 11400.\n",
      " 11402. 11404. 11406. 11408. 11410. 11412. 11414. 11416. 11418. 11420.\n",
      " 11422. 11424. 11426. 11428. 11430. 11432. 11434. 11436. 11438. 11440.\n",
      " 11442. 11444. 11446. 11448. 11450. 11452. 11454. 11456. 11458. 11460.\n",
      " 11462. 11464. 11466. 11468. 11470. 11472. 11474. 11476. 11478. 11480.\n",
      " 11482. 11484. 11486. 11488. 11490. 11492. 11494. 11496. 11498. 11500.\n",
      " 11502. 11504. 11506. 11508. 11510. 11512. 11514. 11516. 11518. 11520.\n",
      " 11522. 11524. 11526. 11528. 11530. 11532. 11534. 11536. 11538. 11540.\n",
      " 11542. 11544. 11546. 11548. 11550. 11552. 11554. 11556. 11558. 11560.\n",
      " 11562. 11564. 11566. 11568. 11570. 11572. 11574. 11576. 11578. 11580.\n",
      " 11582. 11584. 11586. 11588. 11590. 11592. 11594. 11596. 11598. 11600.\n",
      " 11602. 11604. 11606. 11608. 11610. 11612. 11614. 11616. 11618. 11620.\n",
      " 11622. 11624. 11626. 11628. 11630. 11632. 11634. 11636. 11638. 11640.\n",
      " 11642. 11644. 11646. 11648. 11650. 11652. 11654. 11656. 11658. 11660.\n",
      " 11662. 11664. 11666. 11668. 11670. 11672. 11674. 11676. 11678. 11680.\n",
      " 11682. 11684. 11686. 11688. 11690. 11692. 11694. 11696. 11698. 11700.\n",
      " 11702. 11704. 11706. 11708. 11710. 11712. 11714. 11716. 11718. 11720.\n",
      " 11722. 11724. 11726. 11728. 11730. 11732. 11734. 11736. 11738. 11740.\n",
      " 11742. 11744. 11746. 11748. 11750. 11752. 11754. 11756. 11758. 11760.\n",
      " 11762. 11764. 11766. 11768. 11770. 11772. 11774. 11776. 11778. 11780.\n",
      " 11782. 11784. 11786. 11788. 11790. 11792. 11794. 11796. 11798. 11800.\n",
      " 11802. 11804. 11806. 11808. 11810. 11812. 11814. 11816. 11818. 11820.\n",
      " 11822. 11824. 11826. 11828. 11830. 11832. 11834. 11836. 11838. 11840.\n",
      " 11842. 11844. 11846. 11848. 11850. 11852. 11854. 11856. 11858. 11860.\n",
      " 11862. 11864. 11866. 11868. 11870. 11872. 11874. 11876. 11878. 11880.\n",
      " 11882. 11884. 11886. 11888. 11890. 11892. 11894. 11896. 11898. 11900.\n",
      " 11902. 11904. 11906. 11908. 11910. 11912. 11914. 11916. 11918. 11920.\n",
      " 11922. 11924. 11926. 11928. 11930. 11932. 11934. 11936. 11938. 11940.\n",
      " 11942. 11944. 11946. 11948. 11950. 11952. 11954. 11956. 11958. 11960.\n",
      " 11962. 11964. 11966. 11968. 11970. 11972. 11974. 11976. 11978. 11980.\n",
      " 11982. 11984. 11986. 11988. 11990. 11992. 11994. 11996. 11998. 12000.]\n"
     ]
    }
   ],
   "source": [
    "x1list = np.arange(1, 1001, 1)\n",
    "x2list = np.arange(10001, 11001, 1)\n",
    "\n",
    "# Building Phase\n",
    "z, x1, x2 = build_graph(len(x1list), len(x2list))\n",
    "\n",
    "sess = tf.Session()\n",
    "print(sess.run(z, feed_dict = {x1: x1list, x2: x2list}))\n",
    "sess.close()"
   ]
  },
  {
   "cell_type": "markdown",
   "metadata": {},
   "source": [
    "## Exercise 5 (Difficult: FUN)"
   ]
  },
  {
   "cell_type": "markdown",
   "metadata": {},
   "source": [
    "### Linear Regression with tensorflow"
   ]
  },
  {
   "cell_type": "markdown",
   "metadata": {},
   "source": [
    "https://onlinecourses.science.psu.edu/stat501/node/382/"
   ]
  },
  {
   "cell_type": "markdown",
   "metadata": {},
   "source": [
    "Consider the following dataset"
   ]
  },
  {
   "cell_type": "code",
   "execution_count": 10,
   "metadata": {},
   "outputs": [],
   "source": [
    "x = [4.0, 4.5, 5.0, 5.5, 6.0, 6.5, 7.0]\n",
    "y = [33, 42, 45, 51, 53, 61, 62]"
   ]
  },
  {
   "cell_type": "markdown",
   "metadata": {},
   "source": [
    "We want to find the best parameters $p_0$ and $p_1$ that minimise the MSE (mean squared error) for the data given, in other words we want to do a linear regression on the data $(x,y)$. Given that a matrix solution to find the best parameter is\n",
    "\n",
    "$$\n",
    "{\\bf p} =(X^TX)^{-1} X^T Y\n",
    "$$\n",
    "\n",
    "where $X^T$ is the transpose of the matrix $X$. The matrix $X$ is defined as\n",
    "\n",
    "$$\n",
    "X = \n",
    "\\begin{bmatrix}\n",
    "1 & x_1  \\\\\n",
    "... &  ...  \\\\\n",
    "1 &  x_n \n",
    "\\end{bmatrix}\n",
    "$$\n",
    "\n",
    "The matrix $Y$ is simply a matrix $n\\times 1$ containing the values $y_i$.\n",
    "\n",
    "dimensions are:\n",
    "\n",
    "- $X$ has dimensions $n\\times 2$\n",
    "- $Y$ has dimensions $n\\times 1$\n",
    "- ${\\bf p}$ has dimensions $2\\times 1$"
   ]
  },
  {
   "cell_type": "markdown",
   "metadata": {},
   "source": [
    "Build a computational graph that evaluates $\\bf p$ as given above, given the matrices $X$ and $Y$. Note you will have to build the matrices from the data given at the beginning. If you need more information a beatifully long explanation can be found here https://onlinecourses.science.psu.edu/stat501/node/382/"
   ]
  },
  {
   "cell_type": "markdown",
   "metadata": {},
   "source": [
    "Let's convert ```y``` to a floating list... **Remeber tensorflow is really strict with datatypes**."
   ]
  },
  {
   "cell_type": "code",
   "execution_count": 11,
   "metadata": {},
   "outputs": [
    {
     "data": {
      "text/plain": [
       "[33.0, 42.0, 45.0, 51.0, 53.0, 61.0, 62.0]"
      ]
     },
     "execution_count": 11,
     "metadata": {},
     "output_type": "execute_result"
    }
   ],
   "source": [
    "y = [float(i) for i in y]\n",
    "y"
   ]
  },
  {
   "cell_type": "code",
   "execution_count": 12,
   "metadata": {},
   "outputs": [],
   "source": [
    "x = pd.DataFrame(x)\n",
    "y = pd.DataFrame(y)"
   ]
  },
  {
   "cell_type": "code",
   "execution_count": 13,
   "metadata": {},
   "outputs": [
    {
     "data": {
      "text/html": [
       "<div>\n",
       "<style scoped>\n",
       "    .dataframe tbody tr th:only-of-type {\n",
       "        vertical-align: middle;\n",
       "    }\n",
       "\n",
       "    .dataframe tbody tr th {\n",
       "        vertical-align: top;\n",
       "    }\n",
       "\n",
       "    .dataframe thead th {\n",
       "        text-align: right;\n",
       "    }\n",
       "</style>\n",
       "<table border=\"1\" class=\"dataframe\">\n",
       "  <thead>\n",
       "    <tr style=\"text-align: right;\">\n",
       "      <th></th>\n",
       "      <th>0</th>\n",
       "      <th>b</th>\n",
       "    </tr>\n",
       "  </thead>\n",
       "  <tbody>\n",
       "    <tr>\n",
       "      <th>0</th>\n",
       "      <td>4.0</td>\n",
       "      <td>1</td>\n",
       "    </tr>\n",
       "    <tr>\n",
       "      <th>1</th>\n",
       "      <td>4.5</td>\n",
       "      <td>1</td>\n",
       "    </tr>\n",
       "    <tr>\n",
       "      <th>2</th>\n",
       "      <td>5.0</td>\n",
       "      <td>1</td>\n",
       "    </tr>\n",
       "    <tr>\n",
       "      <th>3</th>\n",
       "      <td>5.5</td>\n",
       "      <td>1</td>\n",
       "    </tr>\n",
       "    <tr>\n",
       "      <th>4</th>\n",
       "      <td>6.0</td>\n",
       "      <td>1</td>\n",
       "    </tr>\n",
       "  </tbody>\n",
       "</table>\n",
       "</div>"
      ],
      "text/plain": [
       "     0  b\n",
       "0  4.0  1\n",
       "1  4.5  1\n",
       "2  5.0  1\n",
       "3  5.5  1\n",
       "4  6.0  1"
      ]
     },
     "execution_count": 13,
     "metadata": {},
     "output_type": "execute_result"
    }
   ],
   "source": [
    "x['b'] = 1\n",
    "x.head()"
   ]
  },
  {
   "cell_type": "code",
   "execution_count": 14,
   "metadata": {},
   "outputs": [
    {
     "name": "stdout",
     "output_type": "stream",
     "text": [
      "['b', 0]\n"
     ]
    }
   ],
   "source": [
    "cols = x.columns.tolist()\n",
    "cols = cols[-1:] + cols[:-1]\n",
    "print(cols)"
   ]
  },
  {
   "cell_type": "code",
   "execution_count": 15,
   "metadata": {},
   "outputs": [],
   "source": [
    "x = x[cols]"
   ]
  },
  {
   "cell_type": "code",
   "execution_count": 16,
   "metadata": {},
   "outputs": [
    {
     "data": {
      "text/html": [
       "<div>\n",
       "<style scoped>\n",
       "    .dataframe tbody tr th:only-of-type {\n",
       "        vertical-align: middle;\n",
       "    }\n",
       "\n",
       "    .dataframe tbody tr th {\n",
       "        vertical-align: top;\n",
       "    }\n",
       "\n",
       "    .dataframe thead th {\n",
       "        text-align: right;\n",
       "    }\n",
       "</style>\n",
       "<table border=\"1\" class=\"dataframe\">\n",
       "  <thead>\n",
       "    <tr style=\"text-align: right;\">\n",
       "      <th></th>\n",
       "      <th>b</th>\n",
       "      <th>0</th>\n",
       "    </tr>\n",
       "  </thead>\n",
       "  <tbody>\n",
       "    <tr>\n",
       "      <th>0</th>\n",
       "      <td>1</td>\n",
       "      <td>4.0</td>\n",
       "    </tr>\n",
       "    <tr>\n",
       "      <th>1</th>\n",
       "      <td>1</td>\n",
       "      <td>4.5</td>\n",
       "    </tr>\n",
       "    <tr>\n",
       "      <th>2</th>\n",
       "      <td>1</td>\n",
       "      <td>5.0</td>\n",
       "    </tr>\n",
       "    <tr>\n",
       "      <th>3</th>\n",
       "      <td>1</td>\n",
       "      <td>5.5</td>\n",
       "    </tr>\n",
       "    <tr>\n",
       "      <th>4</th>\n",
       "      <td>1</td>\n",
       "      <td>6.0</td>\n",
       "    </tr>\n",
       "  </tbody>\n",
       "</table>\n",
       "</div>"
      ],
      "text/plain": [
       "   b    0\n",
       "0  1  4.0\n",
       "1  1  4.5\n",
       "2  1  5.0\n",
       "3  1  5.5\n",
       "4  1  6.0"
      ]
     },
     "execution_count": 16,
     "metadata": {},
     "output_type": "execute_result"
    }
   ],
   "source": [
    "x.head()"
   ]
  },
  {
   "cell_type": "markdown",
   "metadata": {},
   "source": [
    "Let's build the computational graph: \n",
    "\n",
    "**NOTE: if you use tf.float32 you will get results that are slightly different than numpy. So be aware. To be safe you can use ```float64```.**"
   ]
  },
  {
   "cell_type": "markdown",
   "metadata": {},
   "source": [
    "Always try to be as specific \n",
    "as you can with dimensions\n",
    "The first dimensions is defined as \"None\" so that we use, in necessary, \n",
    "with different number of observations without rebuilding the graph."
   ]
  },
  {
   "cell_type": "code",
   "execution_count": null,
   "metadata": {},
   "outputs": [],
   "source": [
    "tf.reset_default_graph()\n",
    "xinput = tf.placeholder(tf.float64, [None,2])\n",
    "yinput = tf.placeholder(tf.float64, [None,1]) "
   ]
  },
  {
   "cell_type": "markdown",
   "metadata": {},
   "source": [
    "Multiplication between tensors is somewhat complicated, especially when dealing\n",
    "with tensors with more dimensions. So we use the method\n",
    "\n",
    "https://www.tensorflow.org/api_docs/python/tf/einsum\n",
    "\n",
    "check it out to get more information."
   ]
  },
  {
   "cell_type": "code",
   "execution_count": 51,
   "metadata": {},
   "outputs": [],
   "source": [
    "tmp = tf.einsum('ij,jk->ik',tf.transpose(xinput) , xinput)\n",
    "part1 = tf.linalg.inv(tmp)\n",
    "part2 = tf.einsum('ij,jk->ik',tf.transpose(xinput), yinput)\n",
    "\n",
    "\n",
    "pout = tf.einsum('ij,jk->ik', part1, part2)\n",
    "# Reference: https://www.tensorflow.org/api_docs/python/tf/einsum"
   ]
  },
  {
   "cell_type": "code",
   "execution_count": 56,
   "metadata": {},
   "outputs": [
    {
     "name": "stdout",
     "output_type": "stream",
     "text": [
      "The best parameters p are:\n",
      "[[-2.67857143]\n",
      " [ 9.5       ]]\n"
     ]
    }
   ],
   "source": [
    "sess = tf.Session()\n",
    "print(\"The best parameters p are:\")\n",
    "print(sess.run(pout, feed_dict = {xinput: x, yinput: y}))\n",
    "sess.close()"
   ]
  },
  {
   "cell_type": "markdown",
   "metadata": {},
   "source": [
    "If you remember the first week (check https://github.com/michelucci/dlcourse2018_students/blob/master/Week%201%20-%20Mathematic%20introduction/Week%201%20-%20Solution%20to%20exercises.ipynb) you can do the same with ```numpy```"
   ]
  },
  {
   "cell_type": "code",
   "execution_count": 57,
   "metadata": {},
   "outputs": [],
   "source": [
    "part1np = np.linalg.inv(np.matmul(x.transpose() , x))\n",
    "part2np = np.matmul(x.transpose(), y)\n",
    "\n",
    "pnp = np.matmul(part1np, part2np)"
   ]
  },
  {
   "cell_type": "code",
   "execution_count": 58,
   "metadata": {},
   "outputs": [
    {
     "name": "stdout",
     "output_type": "stream",
     "text": [
      "[[-2.67857143]\n",
      " [ 9.5       ]]\n"
     ]
    }
   ],
   "source": [
    "print(pnp)"
   ]
  },
  {
   "cell_type": "markdown",
   "metadata": {},
   "source": [
    "## Computational Graph for predictions"
   ]
  },
  {
   "cell_type": "markdown",
   "metadata": {},
   "source": [
    "The same result we got with tensorflow. Now we can build a graph that will use the ```p``` we have found for predictions"
   ]
  },
  {
   "cell_type": "code",
   "execution_count": 59,
   "metadata": {},
   "outputs": [],
   "source": [
    "p = tf.placeholder(tf.float32, [2,1])\n",
    "xnode = tf.placeholder(tf.float32, [None, 2]) # This time let's be specific with dimensions\n",
    "\n",
    "pred = tf.tensordot(xnode, p, axes = 1)"
   ]
  },
  {
   "cell_type": "code",
   "execution_count": 60,
   "metadata": {},
   "outputs": [],
   "source": [
    "sess = tf.Session()\n",
    "pred_y = sess.run(pred, feed_dict = {p: pnp, xnode: x})"
   ]
  },
  {
   "cell_type": "code",
   "execution_count": 61,
   "metadata": {},
   "outputs": [
    {
     "data": {
      "text/plain": [
       "array([[35.32143],\n",
       "       [40.07143],\n",
       "       [44.82143],\n",
       "       [49.57143],\n",
       "       [54.32143],\n",
       "       [59.07143],\n",
       "       [63.82143]], dtype=float32)"
      ]
     },
     "execution_count": 61,
     "metadata": {},
     "output_type": "execute_result"
    }
   ],
   "source": [
    "pred_y"
   ]
  },
  {
   "cell_type": "markdown",
   "metadata": {},
   "source": [
    "And those are the **true** values"
   ]
  },
  {
   "cell_type": "code",
   "execution_count": 62,
   "metadata": {},
   "outputs": [
    {
     "data": {
      "text/html": [
       "<div>\n",
       "<style scoped>\n",
       "    .dataframe tbody tr th:only-of-type {\n",
       "        vertical-align: middle;\n",
       "    }\n",
       "\n",
       "    .dataframe tbody tr th {\n",
       "        vertical-align: top;\n",
       "    }\n",
       "\n",
       "    .dataframe thead th {\n",
       "        text-align: right;\n",
       "    }\n",
       "</style>\n",
       "<table border=\"1\" class=\"dataframe\">\n",
       "  <thead>\n",
       "    <tr style=\"text-align: right;\">\n",
       "      <th></th>\n",
       "      <th>0</th>\n",
       "    </tr>\n",
       "  </thead>\n",
       "  <tbody>\n",
       "    <tr>\n",
       "      <th>0</th>\n",
       "      <td>33.0</td>\n",
       "    </tr>\n",
       "    <tr>\n",
       "      <th>1</th>\n",
       "      <td>42.0</td>\n",
       "    </tr>\n",
       "    <tr>\n",
       "      <th>2</th>\n",
       "      <td>45.0</td>\n",
       "    </tr>\n",
       "    <tr>\n",
       "      <th>3</th>\n",
       "      <td>51.0</td>\n",
       "    </tr>\n",
       "    <tr>\n",
       "      <th>4</th>\n",
       "      <td>53.0</td>\n",
       "    </tr>\n",
       "    <tr>\n",
       "      <th>5</th>\n",
       "      <td>61.0</td>\n",
       "    </tr>\n",
       "    <tr>\n",
       "      <th>6</th>\n",
       "      <td>62.0</td>\n",
       "    </tr>\n",
       "  </tbody>\n",
       "</table>\n",
       "</div>"
      ],
      "text/plain": [
       "      0\n",
       "0  33.0\n",
       "1  42.0\n",
       "2  45.0\n",
       "3  51.0\n",
       "4  53.0\n",
       "5  61.0\n",
       "6  62.0"
      ]
     },
     "execution_count": 62,
     "metadata": {},
     "output_type": "execute_result"
    }
   ],
   "source": [
    "y"
   ]
  },
  {
   "cell_type": "markdown",
   "metadata": {},
   "source": [
    "## Plot of the results"
   ]
  },
  {
   "cell_type": "code",
   "execution_count": 50,
   "metadata": {},
   "outputs": [
    {
     "data": {
      "text/plain": [
       "<matplotlib.figure.Figure at 0x261ec9888d0>"
      ]
     },
     "metadata": {},
     "output_type": "display_data"
    },
    {
     "data": {
      "image/png": "[encoded data removed]",
      "text/plain": [
       "<matplotlib.figure.Figure at 0x261ec988898>"
      ]
     },
     "metadata": {},
     "output_type": "display_data"
    }
   ],
   "source": [
    "plt.rc('font', family='arial')\n",
    "plt.rc('xtick', labelsize='x-small')\n",
    "plt.rc('ytick', labelsize='x-small')\n",
    "    \n",
    "plt.tight_layout()\n",
    "\n",
    "fig = plt.figure(figsize=(8, 5))\n",
    "ax = fig.add_subplot(1, 1, 1)\n",
    "ax.scatter(y, pred_y, lw = 0.3, s = 80)\n",
    "ax.plot([y.min(), y.max()], [y.min(), y.max()], 'k--', lw = 3)\n",
    "ax.set_xlabel('Measured Target Value', fontsize = 16);\n",
    "ax.set_ylabel('Predicted Target Value', fontsize = 16);\n",
    "\n",
    "plt.tick_params(labelsize=16)"
   ]
  }
 ],
 "metadata": {
  "kernelspec": {
   "display_name": "Python 3",
   "language": "python",
   "name": "python3"
  },
  "language_info": {
   "codemirror_mode": {
    "name": "ipython",
    "version": 3
   },
   "file_extension": ".py",
   "mimetype": "text/x-python",
   "name": "python",
   "nbconvert_exporter": "python",
   "pygments_lexer": "ipython3",
   "version": "3.7.2"
  }
 },
 "nbformat": 4,
 "nbformat_minor": 2
}
