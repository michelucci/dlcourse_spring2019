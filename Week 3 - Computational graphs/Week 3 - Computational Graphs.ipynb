{
  "nbformat": 4,
  "nbformat_minor": 0,
  "metadata": {
    "colab": {
      "name": "Week 3 - Computational Graphs.ipynb",
      "version": "0.3.2",
      "provenance": [],
      "include_colab_link": true
    },
    "kernelspec": {
      "display_name": "Python 3",
      "language": "python",
      "name": "python3"
    }
  },
  "cells": [
    {
      "cell_type": "markdown",
      "metadata": {
        "id": "view-in-github",
        "colab_type": "text"
      },
      "source": [
        "<a href=\"https://colab.research.google.com/github/michelucci/zhaw-dlcourse-spring2019/blob/master/Week%203%20-%20Computational%20graphs/Week%203%20-%20Computational%20Graphs.ipynb\" target=\"_parent\"><img src=\"https://colab.research.google.com/assets/colab-badge.svg\" alt=\"Open In Colab\"/></a>"
      ]
    },
    {
      "metadata": {
        "id": "tQ9XPWqB7ueA",
        "colab_type": "text"
      },
      "cell_type": "markdown",
      "source": [
        "# Neural Networks and Deep Learning for Life Sciences and Health Applications - An introductory course about theoretical fundamentals, case studies and implementations in python and tensorflow "
      ]
    },
    {
      "metadata": {
        "id": "-Zn0gluc7ueD",
        "colab_type": "text"
      },
      "cell_type": "markdown",
      "source": [
        "(C) Umberto Michelucci 2018 - umberto.michelucci@gmail.com \n",
        "\n",
        "github repository: https://github.com/michelucci/zhaw-dlcourse-spring2019\n",
        "\n",
        "Spring Semester 2019"
      ]
    },
    {
      "metadata": {
        "id": "dCDLrpBV7ueE",
        "colab_type": "code",
        "colab": {}
      },
      "cell_type": "code",
      "source": [
        "import tensorflow as tf"
      ],
      "execution_count": 0,
      "outputs": []
    },
    {
      "metadata": {
        "id": "_h294HkY7ueH",
        "colab_type": "text"
      },
      "cell_type": "markdown",
      "source": [
        "More information can be found on the course book in CHapter 1. More information on the book can be found here [www.applieddeeplearningbook.com](www.applieddeeplearningbook.com) \n"
      ]
    },
    {
      "metadata": {
        "id": "XZ_mdh2Y7ueI",
        "colab_type": "text"
      },
      "cell_type": "markdown",
      "source": [
        "# Computational Graph - Sum of two variables"
      ]
    },
    {
      "metadata": {
        "id": "8zMO4fuH7ueJ",
        "colab_type": "text"
      },
      "cell_type": "markdown",
      "source": [
        "Let's start with something easy"
      ]
    },
    {
      "metadata": {
        "id": "uOhIdZh07ueK",
        "colab_type": "text"
      },
      "cell_type": "markdown",
      "source": [
        "![](Figure_1-20.png \"Title\")"
      ]
    },
    {
      "metadata": {
        "id": "gan46O6x7ueL",
        "colab_type": "text"
      },
      "cell_type": "markdown",
      "source": [
        "This is simply the sum of two variables."
      ]
    },
    {
      "metadata": {
        "id": "Ufwac7VL7ueM",
        "colab_type": "text"
      },
      "cell_type": "markdown",
      "source": [
        "## Graph with ```tf.constant```"
      ]
    },
    {
      "metadata": {
        "id": "tc0XOnYp7ueN",
        "colab_type": "code",
        "colab": {}
      },
      "cell_type": "code",
      "source": [
        "x1 = tf.constant(1)\n",
        "x2 = tf.constant(2)\n",
        "z = tf.add(x1, x2)"
      ],
      "execution_count": 0,
      "outputs": []
    },
    {
      "metadata": {
        "id": "E9w0zOW-7ueQ",
        "colab_type": "code",
        "colab": {},
        "outputId": "445f20b4-65c3-4c3c-bdc3-a8975da38b63"
      },
      "cell_type": "code",
      "source": [
        "print(z)"
      ],
      "execution_count": 0,
      "outputs": [
        {
          "output_type": "stream",
          "text": [
            "Tensor(\"Add:0\", shape=(), dtype=int32)\n"
          ],
          "name": "stdout"
        }
      ]
    },
    {
      "metadata": {
        "id": "-Mz0klj97ueU",
        "colab_type": "code",
        "colab": {},
        "outputId": "74e40413-d6e4-4d25-d946-fa40721ae8d4"
      },
      "cell_type": "code",
      "source": [
        "print(x1)"
      ],
      "execution_count": 0,
      "outputs": [
        {
          "output_type": "stream",
          "text": [
            "Tensor(\"Const:0\", shape=(), dtype=int32)\n"
          ],
          "name": "stdout"
        }
      ]
    },
    {
      "metadata": {
        "id": "abSzqkOC7ueX",
        "colab_type": "text"
      },
      "cell_type": "markdown",
      "source": [
        "Now let's create a session and let's evaluate the graph"
      ]
    },
    {
      "metadata": {
        "id": "xpt8DKb37ueY",
        "colab_type": "code",
        "colab": {},
        "outputId": "29385bb9-f0de-4dce-965c-24c2f96eaad9"
      },
      "cell_type": "code",
      "source": [
        "sess= tf.Session()\n",
        "print(sess.run(z))"
      ],
      "execution_count": 0,
      "outputs": [
        {
          "output_type": "stream",
          "text": [
            "3\n"
          ],
          "name": "stdout"
        }
      ]
    },
    {
      "metadata": {
        "id": "_crDQViH7ueb",
        "colab_type": "code",
        "colab": {},
        "outputId": "7fc43b1a-d806-43c9-c41a-ab8cefbbf1a9"
      },
      "cell_type": "code",
      "source": [
        "print(sess.run(x1))"
      ],
      "execution_count": 0,
      "outputs": [
        {
          "output_type": "stream",
          "text": [
            "1\n"
          ],
          "name": "stdout"
        }
      ]
    },
    {
      "metadata": {
        "id": "qPUs1JUU7uee",
        "colab_type": "code",
        "colab": {}
      },
      "cell_type": "code",
      "source": [
        "sess.close()"
      ],
      "execution_count": 0,
      "outputs": []
    },
    {
      "metadata": {
        "id": "rEQC38gQ7ueh",
        "colab_type": "text"
      },
      "cell_type": "markdown",
      "source": [
        "## Graph with ```tf.Variable```"
      ]
    },
    {
      "metadata": {
        "id": "MADsPfA47ueh",
        "colab_type": "code",
        "colab": {}
      },
      "cell_type": "code",
      "source": [
        "x1 = tf.Variable(1)\n",
        "x2 = tf.Variable(2)\n",
        "z = tf.add(x1,x2)"
      ],
      "execution_count": 0,
      "outputs": []
    },
    {
      "metadata": {
        "id": "QWgpBZoD7uek",
        "colab_type": "code",
        "colab": {},
        "outputId": "ac8c7b5b-084d-4eb2-b947-6c3cc8fe96bf"
      },
      "cell_type": "code",
      "source": [
        "print(z)"
      ],
      "execution_count": 0,
      "outputs": [
        {
          "output_type": "stream",
          "text": [
            "Tensor(\"Add_1:0\", shape=(), dtype=int32)\n"
          ],
          "name": "stdout"
        }
      ]
    },
    {
      "metadata": {
        "id": "4mIVpwvQ7uen",
        "colab_type": "code",
        "colab": {},
        "outputId": "c1b1af24-1a2d-42cf-e50e-7ad8e1ae7389"
      },
      "cell_type": "code",
      "source": [
        "sess = tf.Session()\n",
        "print(sess.run(z))"
      ],
      "execution_count": 0,
      "outputs": [
        {
          "output_type": "error",
          "ename": "FailedPreconditionError",
          "evalue": "Attempting to use uninitialized value Variable\n\t [[Node: Variable/read = Identity[T=DT_INT32, _class=[\"loc:@Variable\"], _device=\"/job:localhost/replica:0/task:0/device:CPU:0\"](Variable)]]\n\nCaused by op 'Variable/read', defined at:\n  File \"C:\\Users\\umber\\Anaconda3\\envs\\tensorflow\\lib\\runpy.py\", line 193, in _run_module_as_main\n    \"__main__\", mod_spec)\n  File \"C:\\Users\\umber\\Anaconda3\\envs\\tensorflow\\lib\\runpy.py\", line 85, in _run_code\n    exec(code, run_globals)\n  File \"C:\\Users\\umber\\Anaconda3\\envs\\tensorflow\\lib\\site-packages\\ipykernel_launcher.py\", line 16, in <module>\n    app.launch_new_instance()\n  File \"C:\\Users\\umber\\Anaconda3\\envs\\tensorflow\\lib\\site-packages\\traitlets\\config\\application.py\", line 658, in launch_instance\n    app.start()\n  File \"C:\\Users\\umber\\Anaconda3\\envs\\tensorflow\\lib\\site-packages\\ipykernel\\kernelapp.py\", line 478, in start\n    self.io_loop.start()\n  File \"C:\\Users\\umber\\Anaconda3\\envs\\tensorflow\\lib\\site-packages\\zmq\\eventloop\\ioloop.py\", line 177, in start\n    super(ZMQIOLoop, self).start()\n  File \"C:\\Users\\umber\\Anaconda3\\envs\\tensorflow\\lib\\site-packages\\tornado\\ioloop.py\", line 888, in start\n    handler_func(fd_obj, events)\n  File \"C:\\Users\\umber\\Anaconda3\\envs\\tensorflow\\lib\\site-packages\\tornado\\stack_context.py\", line 277, in null_wrapper\n    return fn(*args, **kwargs)\n  File \"C:\\Users\\umber\\Anaconda3\\envs\\tensorflow\\lib\\site-packages\\zmq\\eventloop\\zmqstream.py\", line 440, in _handle_events\n    self._handle_recv()\n  File \"C:\\Users\\umber\\Anaconda3\\envs\\tensorflow\\lib\\site-packages\\zmq\\eventloop\\zmqstream.py\", line 472, in _handle_recv\n    self._run_callback(callback, msg)\n  File \"C:\\Users\\umber\\Anaconda3\\envs\\tensorflow\\lib\\site-packages\\zmq\\eventloop\\zmqstream.py\", line 414, in _run_callback\n    callback(*args, **kwargs)\n  File \"C:\\Users\\umber\\Anaconda3\\envs\\tensorflow\\lib\\site-packages\\tornado\\stack_context.py\", line 277, in null_wrapper\n    return fn(*args, **kwargs)\n  File \"C:\\Users\\umber\\Anaconda3\\envs\\tensorflow\\lib\\site-packages\\ipykernel\\kernelbase.py\", line 281, in dispatcher\n    return self.dispatch_shell(stream, msg)\n  File \"C:\\Users\\umber\\Anaconda3\\envs\\tensorflow\\lib\\site-packages\\ipykernel\\kernelbase.py\", line 232, in dispatch_shell\n    handler(stream, idents, msg)\n  File \"C:\\Users\\umber\\Anaconda3\\envs\\tensorflow\\lib\\site-packages\\ipykernel\\kernelbase.py\", line 397, in execute_request\n    user_expressions, allow_stdin)\n  File \"C:\\Users\\umber\\Anaconda3\\envs\\tensorflow\\lib\\site-packages\\ipykernel\\ipkernel.py\", line 208, in do_execute\n    res = shell.run_cell(code, store_history=store_history, silent=silent)\n  File \"C:\\Users\\umber\\Anaconda3\\envs\\tensorflow\\lib\\site-packages\\ipykernel\\zmqshell.py\", line 533, in run_cell\n    return super(ZMQInteractiveShell, self).run_cell(*args, **kwargs)\n  File \"C:\\Users\\umber\\Anaconda3\\envs\\tensorflow\\lib\\site-packages\\IPython\\core\\interactiveshell.py\", line 2728, in run_cell\n    interactivity=interactivity, compiler=compiler, result=result)\n  File \"C:\\Users\\umber\\Anaconda3\\envs\\tensorflow\\lib\\site-packages\\IPython\\core\\interactiveshell.py\", line 2850, in run_ast_nodes\n    if self.run_code(code, result):\n  File \"C:\\Users\\umber\\Anaconda3\\envs\\tensorflow\\lib\\site-packages\\IPython\\core\\interactiveshell.py\", line 2910, in run_code\n    exec(code_obj, self.user_global_ns, self.user_ns)\n  File \"<ipython-input-8-93cd6787ae35>\", line 1, in <module>\n    x1 = tf.Variable(1)\n  File \"C:\\Users\\umber\\Anaconda3\\envs\\tensorflow\\lib\\site-packages\\tensorflow\\python\\ops\\variables.py\", line 213, in __init__\n    constraint=constraint)\n  File \"C:\\Users\\umber\\Anaconda3\\envs\\tensorflow\\lib\\site-packages\\tensorflow\\python\\ops\\variables.py\", line 356, in _init_from_args\n    self._snapshot = array_ops.identity(self._variable, name=\"read\")\n  File \"C:\\Users\\umber\\Anaconda3\\envs\\tensorflow\\lib\\site-packages\\tensorflow\\python\\ops\\array_ops.py\", line 125, in identity\n    return gen_array_ops.identity(input, name=name)\n  File \"C:\\Users\\umber\\Anaconda3\\envs\\tensorflow\\lib\\site-packages\\tensorflow\\python\\ops\\gen_array_ops.py\", line 2070, in identity\n    \"Identity\", input=input, name=name)\n  File \"C:\\Users\\umber\\Anaconda3\\envs\\tensorflow\\lib\\site-packages\\tensorflow\\python\\framework\\op_def_library.py\", line 787, in _apply_op_helper\n    op_def=op_def)\n  File \"C:\\Users\\umber\\Anaconda3\\envs\\tensorflow\\lib\\site-packages\\tensorflow\\python\\framework\\ops.py\", line 2956, in create_op\n    op_def=op_def)\n  File \"C:\\Users\\umber\\Anaconda3\\envs\\tensorflow\\lib\\site-packages\\tensorflow\\python\\framework\\ops.py\", line 1470, in __init__\n    self._traceback = self._graph._extract_stack()  # pylint: disable=protected-access\n\nFailedPreconditionError (see above for traceback): Attempting to use uninitialized value Variable\n\t [[Node: Variable/read = Identity[T=DT_INT32, _class=[\"loc:@Variable\"], _device=\"/job:localhost/replica:0/task:0/device:CPU:0\"](Variable)]]\n",
          "traceback": [
            "\u001b[1;31m---------------------------------------------------------------------------\u001b[0m",
            "\u001b[1;31mFailedPreconditionError\u001b[0m                   Traceback (most recent call last)",
            "\u001b[1;32m~\\Anaconda3\\envs\\tensorflow\\lib\\site-packages\\tensorflow\\python\\client\\session.py\u001b[0m in \u001b[0;36m_do_call\u001b[1;34m(self, fn, *args)\u001b[0m\n\u001b[0;32m   1322\u001b[0m     \u001b[1;32mtry\u001b[0m\u001b[1;33m:\u001b[0m\u001b[1;33m\u001b[0m\u001b[0m\n\u001b[1;32m-> 1323\u001b[1;33m       \u001b[1;32mreturn\u001b[0m \u001b[0mfn\u001b[0m\u001b[1;33m(\u001b[0m\u001b[1;33m*\u001b[0m\u001b[0margs\u001b[0m\u001b[1;33m)\u001b[0m\u001b[1;33m\u001b[0m\u001b[0m\n\u001b[0m\u001b[0;32m   1324\u001b[0m     \u001b[1;32mexcept\u001b[0m \u001b[0merrors\u001b[0m\u001b[1;33m.\u001b[0m\u001b[0mOpError\u001b[0m \u001b[1;32mas\u001b[0m \u001b[0me\u001b[0m\u001b[1;33m:\u001b[0m\u001b[1;33m\u001b[0m\u001b[0m\n",
            "\u001b[1;32m~\\Anaconda3\\envs\\tensorflow\\lib\\site-packages\\tensorflow\\python\\client\\session.py\u001b[0m in \u001b[0;36m_run_fn\u001b[1;34m(session, feed_dict, fetch_list, target_list, options, run_metadata)\u001b[0m\n\u001b[0;32m   1301\u001b[0m                                    \u001b[0mfeed_dict\u001b[0m\u001b[1;33m,\u001b[0m \u001b[0mfetch_list\u001b[0m\u001b[1;33m,\u001b[0m \u001b[0mtarget_list\u001b[0m\u001b[1;33m,\u001b[0m\u001b[1;33m\u001b[0m\u001b[0m\n\u001b[1;32m-> 1302\u001b[1;33m                                    status, run_metadata)\n\u001b[0m\u001b[0;32m   1303\u001b[0m \u001b[1;33m\u001b[0m\u001b[0m\n",
            "\u001b[1;32m~\\Anaconda3\\envs\\tensorflow\\lib\\site-packages\\tensorflow\\python\\framework\\errors_impl.py\u001b[0m in \u001b[0;36m__exit__\u001b[1;34m(self, type_arg, value_arg, traceback_arg)\u001b[0m\n\u001b[0;32m    472\u001b[0m             \u001b[0mcompat\u001b[0m\u001b[1;33m.\u001b[0m\u001b[0mas_text\u001b[0m\u001b[1;33m(\u001b[0m\u001b[0mc_api\u001b[0m\u001b[1;33m.\u001b[0m\u001b[0mTF_Message\u001b[0m\u001b[1;33m(\u001b[0m\u001b[0mself\u001b[0m\u001b[1;33m.\u001b[0m\u001b[0mstatus\u001b[0m\u001b[1;33m.\u001b[0m\u001b[0mstatus\u001b[0m\u001b[1;33m)\u001b[0m\u001b[1;33m)\u001b[0m\u001b[1;33m,\u001b[0m\u001b[1;33m\u001b[0m\u001b[0m\n\u001b[1;32m--> 473\u001b[1;33m             c_api.TF_GetCode(self.status.status))\n\u001b[0m\u001b[0;32m    474\u001b[0m     \u001b[1;31m# Delete the underlying status object from memory otherwise it stays alive\u001b[0m\u001b[1;33m\u001b[0m\u001b[1;33m\u001b[0m\u001b[0m\n",
            "\u001b[1;31mFailedPreconditionError\u001b[0m: Attempting to use uninitialized value Variable\n\t [[Node: Variable/read = Identity[T=DT_INT32, _class=[\"loc:@Variable\"], _device=\"/job:localhost/replica:0/task:0/device:CPU:0\"](Variable)]]",
            "\nDuring handling of the above exception, another exception occurred:\n",
            "\u001b[1;31mFailedPreconditionError\u001b[0m                   Traceback (most recent call last)",
            "\u001b[1;32m<ipython-input-10-1784cd485dbc>\u001b[0m in \u001b[0;36m<module>\u001b[1;34m()\u001b[0m\n\u001b[0;32m      1\u001b[0m \u001b[0msess\u001b[0m \u001b[1;33m=\u001b[0m \u001b[0mtf\u001b[0m\u001b[1;33m.\u001b[0m\u001b[0mSession\u001b[0m\u001b[1;33m(\u001b[0m\u001b[1;33m)\u001b[0m\u001b[1;33m\u001b[0m\u001b[0m\n\u001b[1;32m----> 2\u001b[1;33m \u001b[0mprint\u001b[0m\u001b[1;33m(\u001b[0m\u001b[0msess\u001b[0m\u001b[1;33m.\u001b[0m\u001b[0mrun\u001b[0m\u001b[1;33m(\u001b[0m\u001b[0mz\u001b[0m\u001b[1;33m)\u001b[0m\u001b[1;33m)\u001b[0m\u001b[1;33m\u001b[0m\u001b[0m\n\u001b[0m",
            "\u001b[1;32m~\\Anaconda3\\envs\\tensorflow\\lib\\site-packages\\tensorflow\\python\\client\\session.py\u001b[0m in \u001b[0;36mrun\u001b[1;34m(self, fetches, feed_dict, options, run_metadata)\u001b[0m\n\u001b[0;32m    887\u001b[0m     \u001b[1;32mtry\u001b[0m\u001b[1;33m:\u001b[0m\u001b[1;33m\u001b[0m\u001b[0m\n\u001b[0;32m    888\u001b[0m       result = self._run(None, fetches, feed_dict, options_ptr,\n\u001b[1;32m--> 889\u001b[1;33m                          run_metadata_ptr)\n\u001b[0m\u001b[0;32m    890\u001b[0m       \u001b[1;32mif\u001b[0m \u001b[0mrun_metadata\u001b[0m\u001b[1;33m:\u001b[0m\u001b[1;33m\u001b[0m\u001b[0m\n\u001b[0;32m    891\u001b[0m         \u001b[0mproto_data\u001b[0m \u001b[1;33m=\u001b[0m \u001b[0mtf_session\u001b[0m\u001b[1;33m.\u001b[0m\u001b[0mTF_GetBuffer\u001b[0m\u001b[1;33m(\u001b[0m\u001b[0mrun_metadata_ptr\u001b[0m\u001b[1;33m)\u001b[0m\u001b[1;33m\u001b[0m\u001b[0m\n",
            "\u001b[1;32m~\\Anaconda3\\envs\\tensorflow\\lib\\site-packages\\tensorflow\\python\\client\\session.py\u001b[0m in \u001b[0;36m_run\u001b[1;34m(self, handle, fetches, feed_dict, options, run_metadata)\u001b[0m\n\u001b[0;32m   1118\u001b[0m     \u001b[1;32mif\u001b[0m \u001b[0mfinal_fetches\u001b[0m \u001b[1;32mor\u001b[0m \u001b[0mfinal_targets\u001b[0m \u001b[1;32mor\u001b[0m \u001b[1;33m(\u001b[0m\u001b[0mhandle\u001b[0m \u001b[1;32mand\u001b[0m \u001b[0mfeed_dict_tensor\u001b[0m\u001b[1;33m)\u001b[0m\u001b[1;33m:\u001b[0m\u001b[1;33m\u001b[0m\u001b[0m\n\u001b[0;32m   1119\u001b[0m       results = self._do_run(handle, final_targets, final_fetches,\n\u001b[1;32m-> 1120\u001b[1;33m                              feed_dict_tensor, options, run_metadata)\n\u001b[0m\u001b[0;32m   1121\u001b[0m     \u001b[1;32melse\u001b[0m\u001b[1;33m:\u001b[0m\u001b[1;33m\u001b[0m\u001b[0m\n\u001b[0;32m   1122\u001b[0m       \u001b[0mresults\u001b[0m \u001b[1;33m=\u001b[0m \u001b[1;33m[\u001b[0m\u001b[1;33m]\u001b[0m\u001b[1;33m\u001b[0m\u001b[0m\n",
            "\u001b[1;32m~\\Anaconda3\\envs\\tensorflow\\lib\\site-packages\\tensorflow\\python\\client\\session.py\u001b[0m in \u001b[0;36m_do_run\u001b[1;34m(self, handle, target_list, fetch_list, feed_dict, options, run_metadata)\u001b[0m\n\u001b[0;32m   1315\u001b[0m     \u001b[1;32mif\u001b[0m \u001b[0mhandle\u001b[0m \u001b[1;32mis\u001b[0m \u001b[1;32mNone\u001b[0m\u001b[1;33m:\u001b[0m\u001b[1;33m\u001b[0m\u001b[0m\n\u001b[0;32m   1316\u001b[0m       return self._do_call(_run_fn, self._session, feeds, fetches, targets,\n\u001b[1;32m-> 1317\u001b[1;33m                            options, run_metadata)\n\u001b[0m\u001b[0;32m   1318\u001b[0m     \u001b[1;32melse\u001b[0m\u001b[1;33m:\u001b[0m\u001b[1;33m\u001b[0m\u001b[0m\n\u001b[0;32m   1319\u001b[0m       \u001b[1;32mreturn\u001b[0m \u001b[0mself\u001b[0m\u001b[1;33m.\u001b[0m\u001b[0m_do_call\u001b[0m\u001b[1;33m(\u001b[0m\u001b[0m_prun_fn\u001b[0m\u001b[1;33m,\u001b[0m \u001b[0mself\u001b[0m\u001b[1;33m.\u001b[0m\u001b[0m_session\u001b[0m\u001b[1;33m,\u001b[0m \u001b[0mhandle\u001b[0m\u001b[1;33m,\u001b[0m \u001b[0mfeeds\u001b[0m\u001b[1;33m,\u001b[0m \u001b[0mfetches\u001b[0m\u001b[1;33m)\u001b[0m\u001b[1;33m\u001b[0m\u001b[0m\n",
            "\u001b[1;32m~\\Anaconda3\\envs\\tensorflow\\lib\\site-packages\\tensorflow\\python\\client\\session.py\u001b[0m in \u001b[0;36m_do_call\u001b[1;34m(self, fn, *args)\u001b[0m\n\u001b[0;32m   1334\u001b[0m         \u001b[1;32mexcept\u001b[0m \u001b[0mKeyError\u001b[0m\u001b[1;33m:\u001b[0m\u001b[1;33m\u001b[0m\u001b[0m\n\u001b[0;32m   1335\u001b[0m           \u001b[1;32mpass\u001b[0m\u001b[1;33m\u001b[0m\u001b[0m\n\u001b[1;32m-> 1336\u001b[1;33m       \u001b[1;32mraise\u001b[0m \u001b[0mtype\u001b[0m\u001b[1;33m(\u001b[0m\u001b[0me\u001b[0m\u001b[1;33m)\u001b[0m\u001b[1;33m(\u001b[0m\u001b[0mnode_def\u001b[0m\u001b[1;33m,\u001b[0m \u001b[0mop\u001b[0m\u001b[1;33m,\u001b[0m \u001b[0mmessage\u001b[0m\u001b[1;33m)\u001b[0m\u001b[1;33m\u001b[0m\u001b[0m\n\u001b[0m\u001b[0;32m   1337\u001b[0m \u001b[1;33m\u001b[0m\u001b[0m\n\u001b[0;32m   1338\u001b[0m   \u001b[1;32mdef\u001b[0m \u001b[0m_extend_graph\u001b[0m\u001b[1;33m(\u001b[0m\u001b[0mself\u001b[0m\u001b[1;33m)\u001b[0m\u001b[1;33m:\u001b[0m\u001b[1;33m\u001b[0m\u001b[0m\n",
            "\u001b[1;31mFailedPreconditionError\u001b[0m: Attempting to use uninitialized value Variable\n\t [[Node: Variable/read = Identity[T=DT_INT32, _class=[\"loc:@Variable\"], _device=\"/job:localhost/replica:0/task:0/device:CPU:0\"](Variable)]]\n\nCaused by op 'Variable/read', defined at:\n  File \"C:\\Users\\umber\\Anaconda3\\envs\\tensorflow\\lib\\runpy.py\", line 193, in _run_module_as_main\n    \"__main__\", mod_spec)\n  File \"C:\\Users\\umber\\Anaconda3\\envs\\tensorflow\\lib\\runpy.py\", line 85, in _run_code\n    exec(code, run_globals)\n  File \"C:\\Users\\umber\\Anaconda3\\envs\\tensorflow\\lib\\site-packages\\ipykernel_launcher.py\", line 16, in <module>\n    app.launch_new_instance()\n  File \"C:\\Users\\umber\\Anaconda3\\envs\\tensorflow\\lib\\site-packages\\traitlets\\config\\application.py\", line 658, in launch_instance\n    app.start()\n  File \"C:\\Users\\umber\\Anaconda3\\envs\\tensorflow\\lib\\site-packages\\ipykernel\\kernelapp.py\", line 478, in start\n    self.io_loop.start()\n  File \"C:\\Users\\umber\\Anaconda3\\envs\\tensorflow\\lib\\site-packages\\zmq\\eventloop\\ioloop.py\", line 177, in start\n    super(ZMQIOLoop, self).start()\n  File \"C:\\Users\\umber\\Anaconda3\\envs\\tensorflow\\lib\\site-packages\\tornado\\ioloop.py\", line 888, in start\n    handler_func(fd_obj, events)\n  File \"C:\\Users\\umber\\Anaconda3\\envs\\tensorflow\\lib\\site-packages\\tornado\\stack_context.py\", line 277, in null_wrapper\n    return fn(*args, **kwargs)\n  File \"C:\\Users\\umber\\Anaconda3\\envs\\tensorflow\\lib\\site-packages\\zmq\\eventloop\\zmqstream.py\", line 440, in _handle_events\n    self._handle_recv()\n  File \"C:\\Users\\umber\\Anaconda3\\envs\\tensorflow\\lib\\site-packages\\zmq\\eventloop\\zmqstream.py\", line 472, in _handle_recv\n    self._run_callback(callback, msg)\n  File \"C:\\Users\\umber\\Anaconda3\\envs\\tensorflow\\lib\\site-packages\\zmq\\eventloop\\zmqstream.py\", line 414, in _run_callback\n    callback(*args, **kwargs)\n  File \"C:\\Users\\umber\\Anaconda3\\envs\\tensorflow\\lib\\site-packages\\tornado\\stack_context.py\", line 277, in null_wrapper\n    return fn(*args, **kwargs)\n  File \"C:\\Users\\umber\\Anaconda3\\envs\\tensorflow\\lib\\site-packages\\ipykernel\\kernelbase.py\", line 281, in dispatcher\n    return self.dispatch_shell(stream, msg)\n  File \"C:\\Users\\umber\\Anaconda3\\envs\\tensorflow\\lib\\site-packages\\ipykernel\\kernelbase.py\", line 232, in dispatch_shell\n    handler(stream, idents, msg)\n  File \"C:\\Users\\umber\\Anaconda3\\envs\\tensorflow\\lib\\site-packages\\ipykernel\\kernelbase.py\", line 397, in execute_request\n    user_expressions, allow_stdin)\n  File \"C:\\Users\\umber\\Anaconda3\\envs\\tensorflow\\lib\\site-packages\\ipykernel\\ipkernel.py\", line 208, in do_execute\n    res = shell.run_cell(code, store_history=store_history, silent=silent)\n  File \"C:\\Users\\umber\\Anaconda3\\envs\\tensorflow\\lib\\site-packages\\ipykernel\\zmqshell.py\", line 533, in run_cell\n    return super(ZMQInteractiveShell, self).run_cell(*args, **kwargs)\n  File \"C:\\Users\\umber\\Anaconda3\\envs\\tensorflow\\lib\\site-packages\\IPython\\core\\interactiveshell.py\", line 2728, in run_cell\n    interactivity=interactivity, compiler=compiler, result=result)\n  File \"C:\\Users\\umber\\Anaconda3\\envs\\tensorflow\\lib\\site-packages\\IPython\\core\\interactiveshell.py\", line 2850, in run_ast_nodes\n    if self.run_code(code, result):\n  File \"C:\\Users\\umber\\Anaconda3\\envs\\tensorflow\\lib\\site-packages\\IPython\\core\\interactiveshell.py\", line 2910, in run_code\n    exec(code_obj, self.user_global_ns, self.user_ns)\n  File \"<ipython-input-8-93cd6787ae35>\", line 1, in <module>\n    x1 = tf.Variable(1)\n  File \"C:\\Users\\umber\\Anaconda3\\envs\\tensorflow\\lib\\site-packages\\tensorflow\\python\\ops\\variables.py\", line 213, in __init__\n    constraint=constraint)\n  File \"C:\\Users\\umber\\Anaconda3\\envs\\tensorflow\\lib\\site-packages\\tensorflow\\python\\ops\\variables.py\", line 356, in _init_from_args\n    self._snapshot = array_ops.identity(self._variable, name=\"read\")\n  File \"C:\\Users\\umber\\Anaconda3\\envs\\tensorflow\\lib\\site-packages\\tensorflow\\python\\ops\\array_ops.py\", line 125, in identity\n    return gen_array_ops.identity(input, name=name)\n  File \"C:\\Users\\umber\\Anaconda3\\envs\\tensorflow\\lib\\site-packages\\tensorflow\\python\\ops\\gen_array_ops.py\", line 2070, in identity\n    \"Identity\", input=input, name=name)\n  File \"C:\\Users\\umber\\Anaconda3\\envs\\tensorflow\\lib\\site-packages\\tensorflow\\python\\framework\\op_def_library.py\", line 787, in _apply_op_helper\n    op_def=op_def)\n  File \"C:\\Users\\umber\\Anaconda3\\envs\\tensorflow\\lib\\site-packages\\tensorflow\\python\\framework\\ops.py\", line 2956, in create_op\n    op_def=op_def)\n  File \"C:\\Users\\umber\\Anaconda3\\envs\\tensorflow\\lib\\site-packages\\tensorflow\\python\\framework\\ops.py\", line 1470, in __init__\n    self._traceback = self._graph._extract_stack()  # pylint: disable=protected-access\n\nFailedPreconditionError (see above for traceback): Attempting to use uninitialized value Variable\n\t [[Node: Variable/read = Identity[T=DT_INT32, _class=[\"loc:@Variable\"], _device=\"/job:localhost/replica:0/task:0/device:CPU:0\"](Variable)]]\n"
          ]
        }
      ]
    },
    {
      "metadata": {
        "id": "2GdZmzW97ueq",
        "colab_type": "text"
      },
      "cell_type": "markdown",
      "source": [
        "The error message is normal... First you have to initialize the variables in tensorflow! Tensorflow ***does not automatically initialize the variables***."
      ]
    },
    {
      "metadata": {
        "id": "bu8FvjAa7uer",
        "colab_type": "code",
        "colab": {},
        "outputId": "4387185f-4ade-4e90-af07-54789a318446"
      },
      "cell_type": "code",
      "source": [
        "sess.run(x1.initializer)\n",
        "sess.run(x2.initializer)\n",
        "print(sess.run(z))"
      ],
      "execution_count": 0,
      "outputs": [
        {
          "output_type": "stream",
          "text": [
            "3\n"
          ],
          "name": "stdout"
        }
      ]
    },
    {
      "metadata": {
        "id": "t-sOJV4k7uev",
        "colab_type": "code",
        "colab": {}
      },
      "cell_type": "code",
      "source": [
        "init = tf.global_variables_initializer()"
      ],
      "execution_count": 0,
      "outputs": []
    },
    {
      "metadata": {
        "id": "Z-knTSHb7uez",
        "colab_type": "code",
        "colab": {},
        "outputId": "5dfed480-3c1b-44f6-d208-fae8f87fdaf8"
      },
      "cell_type": "code",
      "source": [
        "sess.run(init)\n",
        "print(sess.run(z))"
      ],
      "execution_count": 0,
      "outputs": [
        {
          "output_type": "stream",
          "text": [
            "3\n"
          ],
          "name": "stdout"
        }
      ]
    },
    {
      "metadata": {
        "id": "j1ifdork7ue3",
        "colab_type": "code",
        "colab": {}
      },
      "cell_type": "code",
      "source": [
        "sess.close()"
      ],
      "execution_count": 0,
      "outputs": []
    },
    {
      "metadata": {
        "id": "fT0uE3mM7ue6",
        "colab_type": "text"
      },
      "cell_type": "markdown",
      "source": [
        "## Graph with ```tf.placeholder```"
      ]
    },
    {
      "metadata": {
        "id": "PdB52Y0d7ue6",
        "colab_type": "code",
        "colab": {}
      },
      "cell_type": "code",
      "source": [
        "x1 = tf.placeholder(tf.float32, 1)\n",
        "x2 = tf.placeholder(tf.float32, 1)"
      ],
      "execution_count": 0,
      "outputs": []
    },
    {
      "metadata": {
        "id": "RUpWYpTj7ue8",
        "colab_type": "text"
      },
      "cell_type": "markdown",
      "source": [
        "Note that in this declaration no values were passed. The \"1\" is the dimension of the placeholder, in this case a scalar!"
      ]
    },
    {
      "metadata": {
        "id": "3kPppQFu7ue9",
        "colab_type": "code",
        "colab": {}
      },
      "cell_type": "code",
      "source": [
        "z = tf.add(x1, x2)"
      ],
      "execution_count": 0,
      "outputs": []
    },
    {
      "metadata": {
        "id": "3KrYEmxh7ue_",
        "colab_type": "code",
        "colab": {},
        "outputId": "ab335c2d-a0d0-4686-b0e5-d1f89e74c429"
      },
      "cell_type": "code",
      "source": [
        "print(z)"
      ],
      "execution_count": 0,
      "outputs": [
        {
          "output_type": "stream",
          "text": [
            "Tensor(\"Add_2:0\", shape=(1,), dtype=float32)\n"
          ],
          "name": "stdout"
        }
      ]
    },
    {
      "metadata": {
        "id": "_eR15Z4z7ufC",
        "colab_type": "code",
        "colab": {}
      },
      "cell_type": "code",
      "source": [
        "sess = tf.Session()"
      ],
      "execution_count": 0,
      "outputs": []
    },
    {
      "metadata": {
        "id": "83MYSIpT7ufD",
        "colab_type": "code",
        "colab": {},
        "outputId": "dd211e54-41d3-47b3-d5b1-32702bce9219"
      },
      "cell_type": "code",
      "source": [
        "feed_dict = {x1: [1], x2:[2]}\n",
        "print(sess.run(z, feed_dict))"
      ],
      "execution_count": 0,
      "outputs": [
        {
          "output_type": "stream",
          "text": [
            "[ 3.]\n"
          ],
          "name": "stdout"
        }
      ]
    },
    {
      "metadata": {
        "id": "LJ8AxYSW7ufG",
        "colab_type": "code",
        "colab": {}
      },
      "cell_type": "code",
      "source": [
        "sess.close()"
      ],
      "execution_count": 0,
      "outputs": []
    },
    {
      "metadata": {
        "id": "x1QvWMAu7ufI",
        "colab_type": "text"
      },
      "cell_type": "markdown",
      "source": [
        "Now we can also use vectors as input, to show that we don't need to deal only with scalars"
      ]
    },
    {
      "metadata": {
        "id": "voVGsRcP7ufJ",
        "colab_type": "code",
        "colab": {},
        "outputId": "3bc832bd-4bca-4097-cfba-67d9b6571b30"
      },
      "cell_type": "code",
      "source": [
        "x1 = tf.placeholder(tf.float32, [2])\n",
        "x2 = tf.placeholder(tf.float32, [2])\n",
        "\n",
        "z = tf.add(x1,x2)\n",
        "feed_dict = {x1: [1,5], x2:[1,1]}\n",
        "\n",
        "sess = tf.Session()\n",
        "sess.run(z, feed_dict)"
      ],
      "execution_count": 0,
      "outputs": [
        {
          "output_type": "execute_result",
          "data": {
            "text/plain": [
              "array([ 2.,  6.], dtype=float32)"
            ]
          },
          "metadata": {
            "tags": []
          },
          "execution_count": 23
        }
      ]
    },
    {
      "metadata": {
        "id": "-oxXW3X37ufN",
        "colab_type": "text"
      },
      "cell_type": "markdown",
      "source": [
        "# Exercises"
      ]
    },
    {
      "metadata": {
        "id": "0xSfdU0n7ufO",
        "colab_type": "text"
      },
      "cell_type": "markdown",
      "source": [
        "## Exercise 1 (Difficulty: easy)"
      ]
    },
    {
      "metadata": {
        "id": "1MD57lIY7ufO",
        "colab_type": "text"
      },
      "cell_type": "markdown",
      "source": [
        "Draw and develop in tensorflow with ```tf.constant``` the computational graphs for the following operations\n",
        "\n",
        "A) ```w1*x1+w2*x2+x1*x1```\n",
        "\n",
        "B) ```A*x1+3+x2/2```\n",
        "\n",
        "Use as input values ```x1 = 5``` and ```x2 = 6```"
      ]
    },
    {
      "metadata": {
        "id": "vspuNb-S7ufP",
        "colab_type": "text"
      },
      "cell_type": "markdown",
      "source": [
        "## Exercise 2 (Difficulty: medium)"
      ]
    },
    {
      "metadata": {
        "id": "idPbySUW7ufQ",
        "colab_type": "text"
      },
      "cell_type": "markdown",
      "source": [
        "Draw and develop in tensorflow with ```tf.Variable``` the computational graph for the following operation ```A*(w1*x1+w2*x2)```\n",
        "\n",
        "build the computational graph and then evaluate it two times (without re-building it) with the initial values in the same session\n",
        "\n",
        "A) ```x1 = 3, x2 = 4```\n",
        "\n",
        "B) ```x1 = 5, x2 = 7```"
      ]
    },
    {
      "metadata": {
        "id": "hnA2EMqg7ufQ",
        "colab_type": "text"
      },
      "cell_type": "markdown",
      "source": [
        "## Exercise 3 (Difficulty: FUN)"
      ]
    },
    {
      "metadata": {
        "id": "-5Fe5P4b7ufR",
        "colab_type": "text"
      },
      "cell_type": "markdown",
      "source": [
        "Consider two vectors\n",
        "\n",
        "``` x1 = [1,2,3,4,5],  x2 = [6,7,8,9,10]```\n",
        "\n",
        "draw and build in tensorflow the computational graph for the dot-product operation between the two vectors. If you don't know what a dot-product is you can check it here (we covered that in our introductory week) [](https://en.wikipedia.org/wiki/Dot_product).\n",
        "\n",
        "Build it in two different ways:\n",
        "\n",
        "A) Do it with loops. Build a computational graph that takes as input scalars and in the session/evaluation phase build a loop to go over all the inputs and then sums the results\n",
        "\n",
        "B) Do it in one shot with tensorflow. Build a computational graph that takes as input vectors and do the entire operation directly in tensorflow. \n",
        "\n",
        "Hint: you can use in tensorflow two methods: ```tf.reduce_sum(tf.multiply(x1, x2))``` or ```tf.matmul(x1, tf.reshape(x2, [-1, 1]))```. Try to understand why they work checking the official documentation."
      ]
    },
    {
      "metadata": {
        "id": "_DV0hY4F7ufR",
        "colab_type": "text"
      },
      "cell_type": "markdown",
      "source": [
        "# Difference between ```run``` and ```eval```"
      ]
    },
    {
      "metadata": {
        "id": "7m-iSLkm7ufS",
        "colab_type": "text"
      },
      "cell_type": "markdown",
      "source": [
        "Consider the following code"
      ]
    },
    {
      "metadata": {
        "id": "jXPx2N3v7ufT",
        "colab_type": "code",
        "colab": {},
        "outputId": "a80c521a-4b1b-41f0-d8b7-a9b187ec67e8"
      },
      "cell_type": "code",
      "source": [
        "x1 = tf.constant(1)\n",
        "x2 = tf.constant(2)\n",
        "z = tf.add(x1, x2)\n",
        "init = tf.global_variables_initializer()\n",
        "sess = tf.Session()\n",
        "sess.run(init)\n",
        "sess.run(z)"
      ],
      "execution_count": 0,
      "outputs": [
        {
          "output_type": "execute_result",
          "data": {
            "text/plain": [
              "3"
            ]
          },
          "metadata": {
            "tags": []
          },
          "execution_count": 25
        }
      ]
    },
    {
      "metadata": {
        "id": "bXyOLTS57ufV",
        "colab_type": "text"
      },
      "cell_type": "markdown",
      "source": [
        "You can evaluate more nodes at the same time"
      ]
    },
    {
      "metadata": {
        "id": "US7tGdsF7ufW",
        "colab_type": "code",
        "colab": {},
        "outputId": "1445b987-19ba-46fc-ff60-7478624c9ebe"
      },
      "cell_type": "code",
      "source": [
        "sess.run([x1,x2,z])"
      ],
      "execution_count": 0,
      "outputs": [
        {
          "output_type": "execute_result",
          "data": {
            "text/plain": [
              "[1, 2, 3]"
            ]
          },
          "metadata": {
            "tags": []
          },
          "execution_count": 26
        }
      ]
    },
    {
      "metadata": {
        "id": "vRrClPA67ufY",
        "colab_type": "text"
      },
      "cell_type": "markdown",
      "source": [
        "You can also use the ```eval()``` method to evaluate nodes, but you have to provide the session name"
      ]
    },
    {
      "metadata": {
        "id": "rleX6oYM7ufY",
        "colab_type": "code",
        "colab": {},
        "outputId": "231865b9-f3f4-4e98-9258-4b83778969f6"
      },
      "cell_type": "code",
      "source": [
        "z.eval(session = sess)"
      ],
      "execution_count": 0,
      "outputs": [
        {
          "output_type": "execute_result",
          "data": {
            "text/plain": [
              "3"
            ]
          },
          "metadata": {
            "tags": []
          },
          "execution_count": 27
        }
      ]
    },
    {
      "metadata": {
        "id": "eewy4yy57ufa",
        "colab_type": "text"
      },
      "cell_type": "markdown",
      "source": [
        "# Dependencies between Nodes"
      ]
    },
    {
      "metadata": {
        "id": "tGOUX_0d7ufb",
        "colab_type": "text"
      },
      "cell_type": "markdown",
      "source": [
        "Sometime tensorflow may evaluate some nodes multiple times. Pay attention. Consider the following code"
      ]
    },
    {
      "metadata": {
        "id": "a6IMQAZM7ufb",
        "colab_type": "code",
        "colab": {},
        "outputId": "169d78eb-22ed-45d7-eeac-26c536f6d110"
      },
      "cell_type": "code",
      "source": [
        "c = tf.constant(5)\n",
        "x = c + 1\n",
        "y = x + 1\n",
        "z = x + 2\n",
        "sess = tf.Session()\n",
        "print('y is',sess.run(y))\n",
        "print('z is',sess.run(z))\n",
        "sess.close()"
      ],
      "execution_count": 0,
      "outputs": [
        {
          "output_type": "stream",
          "text": [
            "y is 7\n",
            "z is 8\n"
          ],
          "name": "stdout"
        }
      ]
    },
    {
      "metadata": {
        "id": "gVCGoj007ufd",
        "colab_type": "text"
      },
      "cell_type": "markdown",
      "source": [
        "here ```x``` is evaluated twice! You can do it like this"
      ]
    },
    {
      "metadata": {
        "id": "SZ2dkEA67ufe",
        "colab_type": "code",
        "colab": {},
        "outputId": "0a90986e-acc3-4683-bcf3-a0b4f653c3c9"
      },
      "cell_type": "code",
      "source": [
        "c = tf.constant(5)\n",
        "x = c + 1\n",
        "y = x + 1\n",
        "z = x + 2\n",
        "sess = tf.Session()\n",
        "print('y,z are',sess.run([y,z]))\n",
        "sess.close()"
      ],
      "execution_count": 0,
      "outputs": [
        {
          "output_type": "stream",
          "text": [
            "y,z are [7, 8]\n"
          ],
          "name": "stdout"
        }
      ]
    },
    {
      "metadata": {
        "id": "_V_GVj_47ufg",
        "colab_type": "text"
      },
      "cell_type": "markdown",
      "source": [
        "now ```x``` is evaluated only once."
      ]
    },
    {
      "metadata": {
        "id": "Algk_Krp7ufh",
        "colab_type": "text"
      },
      "cell_type": "markdown",
      "source": [
        "# How to close a session"
      ]
    },
    {
      "metadata": {
        "id": "rnO21U6v7ufi",
        "colab_type": "text"
      },
      "cell_type": "markdown",
      "source": [
        "You can close a session in this way"
      ]
    },
    {
      "metadata": {
        "id": "oyY60xeG7ufl",
        "colab_type": "code",
        "colab": {}
      },
      "cell_type": "code",
      "source": [
        "sess = tf.Session()\n",
        "# Do something here\n",
        "sess.close()"
      ],
      "execution_count": 0,
      "outputs": []
    },
    {
      "metadata": {
        "id": "46T6wgwU7ufm",
        "colab_type": "text"
      },
      "cell_type": "markdown",
      "source": [
        "You can also do it in this way"
      ]
    },
    {
      "metadata": {
        "id": "UiBj4qMK7ufn",
        "colab_type": "code",
        "colab": {},
        "outputId": "e8620e84-2b2c-4abc-ca38-8e5623c57b78"
      },
      "cell_type": "code",
      "source": [
        "with tf.Session() as sess:\n",
        "    # Do something here"
      ],
      "execution_count": 0,
      "outputs": [
        {
          "output_type": "error",
          "ename": "SyntaxError",
          "evalue": "unexpected EOF while parsing (<ipython-input-42-ede77bfb1f3b>, line 2)",
          "traceback": [
            "\u001b[1;36m  File \u001b[1;32m\"<ipython-input-42-ede77bfb1f3b>\"\u001b[1;36m, line \u001b[1;32m2\u001b[0m\n\u001b[1;33m    # Do something here\u001b[0m\n\u001b[1;37m                       ^\u001b[0m\n\u001b[1;31mSyntaxError\u001b[0m\u001b[1;31m:\u001b[0m unexpected EOF while parsing\n"
          ]
        }
      ]
    },
    {
      "metadata": {
        "id": "A--ZkavY7ufp",
        "colab_type": "text"
      },
      "cell_type": "markdown",
      "source": [
        "you need some code to avoid the error. Consider the following code"
      ]
    },
    {
      "metadata": {
        "id": "mjQxS78J7ufq",
        "colab_type": "code",
        "colab": {},
        "outputId": "2343cc3f-484c-4263-d576-0cf6434bd338"
      },
      "cell_type": "code",
      "source": [
        "c = tf.constant(5)\n",
        "x = c + 1\n",
        "y = x + 1\n",
        "z = x + 2\n",
        "sess = tf.Session()\n",
        "print('y is',sess.run(y))\n",
        "print('z is',sess.run(z))\n",
        "sess.close()"
      ],
      "execution_count": 0,
      "outputs": [
        {
          "output_type": "stream",
          "text": [
            "y is 7\n",
            "z is 8\n"
          ],
          "name": "stdout"
        }
      ]
    },
    {
      "metadata": {
        "id": "VDyz-XQF7uft",
        "colab_type": "text"
      },
      "cell_type": "markdown",
      "source": [
        "this can also be written as the following"
      ]
    },
    {
      "metadata": {
        "id": "1CElkgOK7uft",
        "colab_type": "code",
        "colab": {},
        "outputId": "4c00efdc-448b-4c30-c9c1-ff2eeba393ad"
      },
      "cell_type": "code",
      "source": [
        "c = tf.constant(5)\n",
        "x = c + 1\n",
        "y = x + 1\n",
        "z = x + 2\n",
        "with tf.Session() as sess:\n",
        "    print('y is',sess.run(y))\n",
        "    print('z is',sess.run(z))"
      ],
      "execution_count": 0,
      "outputs": [
        {
          "output_type": "stream",
          "text": [
            "y is 7\n",
            "z is 8\n"
          ],
          "name": "stdout"
        }
      ]
    },
    {
      "metadata": {
        "id": "7g_Wjjfm7ufx",
        "colab_type": "text"
      },
      "cell_type": "markdown",
      "source": [
        "Now you don't need to close the session explicitly. Is done for you."
      ]
    },
    {
      "metadata": {
        "id": "kntgT8bR7ufx",
        "colab_type": "text"
      },
      "cell_type": "markdown",
      "source": [
        "# Exercises"
      ]
    },
    {
      "metadata": {
        "id": "pbXQjAqW7ufy",
        "colab_type": "text"
      },
      "cell_type": "markdown",
      "source": [
        "## Exercise 4 (Difficulty: medium)"
      ]
    },
    {
      "metadata": {
        "id": "0jSrJZML7ufz",
        "colab_type": "text"
      },
      "cell_type": "markdown",
      "source": [
        "Write a function that build a computational graph for the operation ```x1+x2``` where the input ```x1``` and ```x2``` are input with given dimensions. Your ```x1``` and ```x2``` should be declared as ```tf.placeholder```. \n",
        "Your functions should accept as input:\n",
        "\n",
        "- dimensions of ```x1``` as list, for example ```[3]```\n",
        "- dimensions of ```x2``` as list, for example ```[3]```\n",
        "\n",
        "The function should return a tensor ```z = x1 + x2```. \n",
        "Then open a session and evaluate ```z``` with the following inputs:\n",
        "\n",
        "- ```x1 = [4,6,7], x2 = [1,2,9]```\n",
        "- ```x1 = [1,2,....., 1000], x2 = [10001, 10002, ...., 11000]```\n",
        "\n",
        "and print the result."
      ]
    },
    {
      "metadata": {
        "id": "Uq-VAwOO7uf0",
        "colab_type": "text"
      },
      "cell_type": "markdown",
      "source": [
        "## Exercise 5 (Difficult: FUN)"
      ]
    },
    {
      "metadata": {
        "id": "fnxkpssc7uf1",
        "colab_type": "text"
      },
      "cell_type": "markdown",
      "source": [
        "### Linear Regression with tensorflow"
      ]
    },
    {
      "metadata": {
        "id": "kBRLLJ0p7uf1",
        "colab_type": "text"
      },
      "cell_type": "markdown",
      "source": [
        "https://onlinecourses.science.psu.edu/stat501/node/382/"
      ]
    },
    {
      "metadata": {
        "id": "CpYiCh4M7uf2",
        "colab_type": "text"
      },
      "cell_type": "markdown",
      "source": [
        "Consider the following dataset"
      ]
    },
    {
      "metadata": {
        "id": "74RCc0F07uf2",
        "colab_type": "code",
        "colab": {}
      },
      "cell_type": "code",
      "source": [
        "x = [4.0, 4.5, 5.0, 5.5, 6.0, 6.5, 7.0]\n",
        "y = [33, 42, 45, 51, 53, 61, 62]"
      ],
      "execution_count": 0,
      "outputs": []
    },
    {
      "metadata": {
        "id": "12TQ8yUJ7uf4",
        "colab_type": "text"
      },
      "cell_type": "markdown",
      "source": [
        "We want to find the best parameters $p_0$ and $p_1$ that minimise the MSE (mean squared error) for the data given, in other words we want to do a linear regression on the data $(x,y)$. Given that a matrix solution to find the best parameter is\n",
        "\n",
        "$$\n",
        "{\\bf p} =(X^TX)^{-1} X^T Y\n",
        "$$\n",
        "\n",
        "where $X^T$ is the transpose of the matrix $X$. The matrix $X$ is defined as\n",
        "\n",
        "$$\n",
        "X = \n",
        "\\begin{bmatrix}\n",
        "1 & x_1  \\\\\n",
        "... &  ...  \\\\\n",
        "1 &  x_n \n",
        "\\end{bmatrix}\n",
        "$$\n",
        "\n",
        "The matrix $Y$ is simply a matrix $n\\times 1$ containing the values $y_i$.\n",
        "\n",
        "dimensions are:\n",
        "\n",
        "- $X$ has dimensions $n\\times 2$\n",
        "- $Y$ has dimensions $n\\times 1$\n",
        "- ${\\bf p}$ has dimensions $2\\times 1$"
      ]
    },
    {
      "metadata": {
        "id": "mc59iLIY7uf4",
        "colab_type": "text"
      },
      "cell_type": "markdown",
      "source": [
        "Build a computational graph that evaluates $\\bf p$ as given above, given the matrices $X$ and $Y$. Note you will have to build the matrices from the data given at the beginning. If you need more information a beatifully long explanation can be found here https://onlinecourses.science.psu.edu/stat501/node/382/"
      ]
    },
    {
      "metadata": {
        "id": "JFbmXgzv7uf4",
        "colab_type": "code",
        "colab": {}
      },
      "cell_type": "code",
      "source": [
        ""
      ],
      "execution_count": 0,
      "outputs": []
    }
  ]
}