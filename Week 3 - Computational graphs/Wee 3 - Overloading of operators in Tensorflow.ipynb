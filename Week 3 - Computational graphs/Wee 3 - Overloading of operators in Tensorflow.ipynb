{
 "cells": [
  {
   "cell_type": "markdown",
   "metadata": {},
   "source": [
    "# Neural Networks and Deep Learning for Life Sciences and Health Applications - An introductory course about theoretical fundamentals, case studies and implementations in python and tensorflow "
   ]
  },
  {
   "cell_type": "markdown",
   "metadata": {},
   "source": [
    "(C) Umberto Michelucci 2018 - umberto.michelucci@gmail.com \n",
    "\n",
    "github repository: https://github.com/michelucci/zhaw-dlcourse-spring2019\n",
    "\n",
    "Spring Semester 2019"
   ]
  },
  {
   "cell_type": "code",
   "execution_count": 1,
   "metadata": {},
   "outputs": [],
   "source": [
    "import tensorflow as tf\n",
    "import numpy as np"
   ]
  },
  {
   "cell_type": "markdown",
   "metadata": {},
   "source": [
    "# Question"
   ]
  },
  {
   "cell_type": "markdown",
   "metadata": {},
   "source": [
    "What is the difference between ```tf.add(x,y)``` and ```x+y```? Or between ```tf.multiply(x,y)``` and ```x*y```?"
   ]
  },
  {
   "cell_type": "markdown",
   "metadata": {},
   "source": [
    "# Answer"
   ]
  },
  {
   "cell_type": "markdown",
   "metadata": {},
   "source": [
    "If at least one of the arguments ```x``` and ```y``` is a tensor (```tf.Tensor```) then   ```tf.add(x,y)``` and ```x+y``` are equivalent. The reason you may want to use ```tf.add()``` is to specify a ```name```  keyword argument for the created op, which is not possible with the overloaded operator version. The keyword will be used in tensorboard when visualising the computational graph. If you don't need it you can use the overloaded operator, meaning ```+```."
   ]
  },
  {
   "cell_type": "markdown",
   "metadata": {},
   "source": [
    "**Note** that if neither ```x``` nor ```y``` is a ```tf.Tensor```—for example if they are NumPy arrays—then ```x + y``` will not create a TensorFlow node. ```tf.add()``` always creates a TensorFlow node and converts its arguments to ```tf.Tensor``` objects. "
   ]
  },
  {
   "cell_type": "markdown",
   "metadata": {},
   "source": [
    "The following operators are overloaded in the TensorFlow Python API:\n",
    "\n",
    "__neg__ (unary -)\n",
    "\n",
    "__abs__ (abs())\n",
    "\n",
    "__invert__ (unary ~)\n",
    "\n",
    "__add__ (binary +)\n",
    "\n",
    "__sub__ (binary -)\n",
    "\n",
    "__mul__ (binary elementwise *)\n",
    "\n",
    "__div__ (binary / in Python 2)\n",
    "\n",
    "__floordiv__ (binary // in Python 3)\n",
    "\n",
    "__truediv__ (binary / in Python 3)\n",
    "\n",
    "__mod__ (binary %)\n",
    "\n",
    "__pow__ (binary **)\n",
    "\n",
    "__and__ (binary &)\n",
    "\n",
    "__or__ (binary |)\n",
    "\n",
    "__xor__ (binary ^)\n",
    "\n",
    "__lt__ (binary <)\n",
    "\n",
    "__le__ (binary <=)\n",
    "\n",
    "__gt__ (binary >)\n",
    "\n",
    "__ge__ (binary >=)\n",
    "\n",
    "see: https://www.tensorflow.org/api_docs/cc/group/math-ops."
   ]
  },
  {
   "cell_type": "markdown",
   "metadata": {},
   "source": [
    "__eq__ ( binary == ) \n",
    "\n",
    "is not overloaded. ```x == y``` will simply return a Python boolean array. You need to use ```tf.equal()``` to do element-wise equality checks. "
   ]
  },
  {
   "cell_type": "markdown",
   "metadata": {},
   "source": [
    "## Programming style\n",
    "\n",
    "On the official documentation you can find the following style guideline\n",
    "\n",
    "    Prefer using a Tensor's overloaded operators rather than TensorFlow functions. For example, prefer **, +, /, *, - and/or over tf.pow, tf.add, tf.div, tf.mul, tf.subtract, and tf.logical * unless a specific name for the operation is desired. \n",
    "\n",
    "Again ```name``` is referred to the use of tensorboard.\n",
    "\n",
    "**REMEMBER** if your inputs are not tensors, you may end up with other datatypes other than tensors. With the ```tf.XXXX``` functions you always have a tensor at the end."
   ]
  },
  {
   "cell_type": "markdown",
   "metadata": {},
   "source": [
    "# Example"
   ]
  },
  {
   "cell_type": "code",
   "execution_count": 4,
   "metadata": {},
   "outputs": [],
   "source": [
    "x = np.array([1,2,3])\n",
    "y = np.array([3,4,5])"
   ]
  },
  {
   "cell_type": "code",
   "execution_count": 5,
   "metadata": {},
   "outputs": [
    {
     "data": {
      "text/plain": [
       "array([4, 6, 8])"
      ]
     },
     "execution_count": 5,
     "metadata": {},
     "output_type": "execute_result"
    }
   ],
   "source": [
    "x+y"
   ]
  },
  {
   "cell_type": "markdown",
   "metadata": {},
   "source": [
    "The sum is a numpy array."
   ]
  },
  {
   "cell_type": "code",
   "execution_count": 6,
   "metadata": {},
   "outputs": [
    {
     "data": {
      "text/plain": [
       "numpy.ndarray"
      ]
     },
     "execution_count": 6,
     "metadata": {},
     "output_type": "execute_result"
    }
   ],
   "source": [
    "type(x+y)"
   ]
  },
  {
   "cell_type": "code",
   "execution_count": 8,
   "metadata": {},
   "outputs": [],
   "source": [
    "z = tf.add(x,y)"
   ]
  },
  {
   "cell_type": "code",
   "execution_count": 9,
   "metadata": {},
   "outputs": [
    {
     "data": {
      "text/plain": [
       "tensorflow.python.framework.ops.Tensor"
      ]
     },
     "execution_count": 9,
     "metadata": {},
     "output_type": "execute_result"
    }
   ],
   "source": [
    "type(z)"
   ]
  },
  {
   "cell_type": "markdown",
   "metadata": {},
   "source": [
    "In this case, also if the inputs were numpy arrays, the output is a tensor."
   ]
  },
  {
   "cell_type": "markdown",
   "metadata": {},
   "source": [
    "# Example of tensorboard"
   ]
  },
  {
   "cell_type": "markdown",
   "metadata": {},
   "source": [
    "To give you an idea of how tensorboard visualises the computational graphs (with the keyword ```name```) you can check the following screenshot. The ```name``` here would be ```loss```, ```hidden``` and so on.\n",
    "\n",
    "![](tensorboard.png)"
   ]
  },
  {
   "cell_type": "code",
   "execution_count": null,
   "metadata": {},
   "outputs": [],
   "source": []
  }
 ],
 "metadata": {
  "kernelspec": {
   "display_name": "Python 3",
   "language": "python",
   "name": "python3"
  },
  "language_info": {
   "codemirror_mode": {
    "name": "ipython",
    "version": 3
   },
   "file_extension": ".py",
   "mimetype": "text/x-python",
   "name": "python",
   "nbconvert_exporter": "python",
   "pygments_lexer": "ipython3",
   "version": "3.7.2"
  }
 },
 "nbformat": 4,
 "nbformat_minor": 2
}
