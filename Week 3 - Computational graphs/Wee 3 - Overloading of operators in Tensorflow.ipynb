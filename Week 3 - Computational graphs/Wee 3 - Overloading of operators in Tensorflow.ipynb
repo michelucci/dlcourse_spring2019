{
  "nbformat": 4,
  "nbformat_minor": 0,
  "metadata": {
    "colab": {
      "name": "Wee 3 - Overloading of operators in Tensorflow.ipynb",
      "version": "0.3.2",
      "provenance": [],
      "include_colab_link": true
    },
    "kernelspec": {
      "display_name": "Python 3",
      "language": "python",
      "name": "python3"
    }
  },
  "cells": [
    {
      "cell_type": "markdown",
      "metadata": {
        "id": "view-in-github",
        "colab_type": "text"
      },
      "source": [
        "<a href=\"https://colab.research.google.com/github/michelucci/zhaw-dlcourse-spring2019/blob/master/Week%203%20-%20Computational%20graphs/Wee%203%20-%20Overloading%20of%20operators%20in%20Tensorflow.ipynb\" target=\"_parent\"><img src=\"https://colab.research.google.com/assets/colab-badge.svg\" alt=\"Open In Colab\"/></a>"
      ]
    },
    {
      "metadata": {
        "id": "QnDFbFOs7oU9",
        "colab_type": "text"
      },
      "cell_type": "markdown",
      "source": [
        "# Neural Networks and Deep Learning for Life Sciences and Health Applications - An introductory course about theoretical fundamentals, case studies and implementations in python and tensorflow "
      ]
    },
    {
      "metadata": {
        "id": "oRE4P9x47oVA",
        "colab_type": "text"
      },
      "cell_type": "markdown",
      "source": [
        "(C) Umberto Michelucci 2018 - umberto.michelucci@gmail.com \n",
        "\n",
        "github repository: https://github.com/michelucci/zhaw-dlcourse-spring2019\n",
        "\n",
        "Spring Semester 2019"
      ]
    },
    {
      "metadata": {
        "id": "Zsmy9fnQ7oVB",
        "colab_type": "code",
        "colab": {}
      },
      "cell_type": "code",
      "source": [
        "import tensorflow as tf\n",
        "import numpy as np"
      ],
      "execution_count": 0,
      "outputs": []
    },
    {
      "metadata": {
        "id": "UTXbXk1X7oVE",
        "colab_type": "text"
      },
      "cell_type": "markdown",
      "source": [
        "# Question"
      ]
    },
    {
      "metadata": {
        "id": "DArr0utE7oVF",
        "colab_type": "text"
      },
      "cell_type": "markdown",
      "source": [
        "What is the difference between ```tf.add(x,y)``` and ```x+y```? Or between ```tf.multiply(x,y)``` and ```x*y```?"
      ]
    },
    {
      "metadata": {
        "id": "zycfBmfC7oVG",
        "colab_type": "text"
      },
      "cell_type": "markdown",
      "source": [
        "# Answer"
      ]
    },
    {
      "metadata": {
        "id": "iThS14rg7oVH",
        "colab_type": "text"
      },
      "cell_type": "markdown",
      "source": [
        "If at least one of the arguments ```x``` and ```y``` is a tensor (```tf.Tensor```) then   ```tf.add(x,y)``` and ```x+y``` are equivalent. The reason you may want to use ```tf.add()``` is to specify a ```name```  keyword argument for the created op, which is not possible with the overloaded operator version. The keyword will be used in tensorboard when visualising the computational graph. If you don't need it you can use the overloaded operator, meaning ```+```."
      ]
    },
    {
      "metadata": {
        "id": "t5Pkjz247oVI",
        "colab_type": "text"
      },
      "cell_type": "markdown",
      "source": [
        "**Note** that if neither ```x``` nor ```y``` is a ```tf.Tensor```—for example if they are NumPy arrays—then ```x + y``` will not create a TensorFlow node. ```tf.add()``` always creates a TensorFlow node and converts its arguments to ```tf.Tensor``` objects. "
      ]
    },
    {
      "metadata": {
        "id": "xFVfg4n77oVJ",
        "colab_type": "text"
      },
      "cell_type": "markdown",
      "source": [
        "The following operators are overloaded in the TensorFlow Python API:\n",
        "\n",
        "__neg__ (unary -)\n",
        "\n",
        "__abs__ (abs())\n",
        "\n",
        "__invert__ (unary ~)\n",
        "\n",
        "__add__ (binary +)\n",
        "\n",
        "__sub__ (binary -)\n",
        "\n",
        "__mul__ (binary elementwise *)\n",
        "\n",
        "__div__ (binary / in Python 2)\n",
        "\n",
        "__floordiv__ (binary // in Python 3)\n",
        "\n",
        "__truediv__ (binary / in Python 3)\n",
        "\n",
        "__mod__ (binary %)\n",
        "\n",
        "__pow__ (binary **)\n",
        "\n",
        "__and__ (binary &)\n",
        "\n",
        "__or__ (binary |)\n",
        "\n",
        "__xor__ (binary ^)\n",
        "\n",
        "__lt__ (binary <)\n",
        "\n",
        "__le__ (binary <=)\n",
        "\n",
        "__gt__ (binary >)\n",
        "\n",
        "__ge__ (binary >=)\n",
        "\n",
        "see: https://www.tensorflow.org/api_docs/cc/group/math-ops."
      ]
    },
    {
      "metadata": {
        "id": "wOt3oWcd7oVJ",
        "colab_type": "text"
      },
      "cell_type": "markdown",
      "source": [
        "__eq__ ( binary == ) \n",
        "\n",
        "is not overloaded. ```x == y``` will simply return a Python boolean array. You need to use ```tf.equal()``` to do element-wise equality checks. "
      ]
    },
    {
      "metadata": {
        "id": "RMXmdl2w7oVK",
        "colab_type": "text"
      },
      "cell_type": "markdown",
      "source": [
        "## Programming style\n",
        "\n",
        "On the official documentation you can find the following style guideline\n",
        "\n",
        "    Prefer using a Tensor's overloaded operators rather than TensorFlow functions. For example, prefer **, +, /, *, - and/or over tf.pow, tf.add, tf.div, tf.mul, tf.subtract, and tf.logical * unless a specific name for the operation is desired. \n",
        "\n",
        "Again ```name``` is referred to the use of tensorboard.\n",
        "\n",
        "**REMEMBER** if your inputs are not tensors, you may end up with other datatypes other than tensors. With the ```tf.XXXX``` functions you always have a tensor at the end."
      ]
    },
    {
      "metadata": {
        "id": "vwzDtrLt7oVL",
        "colab_type": "text"
      },
      "cell_type": "markdown",
      "source": [
        "# Example"
      ]
    },
    {
      "metadata": {
        "id": "u7xK7BUr7oVM",
        "colab_type": "code",
        "colab": {}
      },
      "cell_type": "code",
      "source": [
        "x = np.array([1,2,3])\n",
        "y = np.array([3,4,5])"
      ],
      "execution_count": 0,
      "outputs": []
    },
    {
      "metadata": {
        "id": "OaZg8TQ87oVO",
        "colab_type": "code",
        "colab": {},
        "outputId": "db8616d4-845c-4780-8741-cf74a64bc383"
      },
      "cell_type": "code",
      "source": [
        "x+y"
      ],
      "execution_count": 0,
      "outputs": [
        {
          "output_type": "execute_result",
          "data": {
            "text/plain": [
              "array([4, 6, 8])"
            ]
          },
          "metadata": {
            "tags": []
          },
          "execution_count": 5
        }
      ]
    },
    {
      "metadata": {
        "id": "irjYT6Sx7oVT",
        "colab_type": "text"
      },
      "cell_type": "markdown",
      "source": [
        "The sum is a numpy array."
      ]
    },
    {
      "metadata": {
        "id": "7fkfKmbq7oVU",
        "colab_type": "code",
        "colab": {},
        "outputId": "203c6be3-9f3f-4851-8c18-8266a31842c0"
      },
      "cell_type": "code",
      "source": [
        "type(x+y)"
      ],
      "execution_count": 0,
      "outputs": [
        {
          "output_type": "execute_result",
          "data": {
            "text/plain": [
              "numpy.ndarray"
            ]
          },
          "metadata": {
            "tags": []
          },
          "execution_count": 6
        }
      ]
    },
    {
      "metadata": {
        "id": "Z-2GvEby7oVX",
        "colab_type": "code",
        "colab": {}
      },
      "cell_type": "code",
      "source": [
        "z = tf.add(x,y)"
      ],
      "execution_count": 0,
      "outputs": []
    },
    {
      "metadata": {
        "id": "WIMOOcGr7oVZ",
        "colab_type": "code",
        "colab": {},
        "outputId": "66ef7a51-e10f-40af-f705-4b039889479a"
      },
      "cell_type": "code",
      "source": [
        "type(z)"
      ],
      "execution_count": 0,
      "outputs": [
        {
          "output_type": "execute_result",
          "data": {
            "text/plain": [
              "tensorflow.python.framework.ops.Tensor"
            ]
          },
          "metadata": {
            "tags": []
          },
          "execution_count": 9
        }
      ]
    },
    {
      "metadata": {
        "id": "nXRsBZPt7oVc",
        "colab_type": "text"
      },
      "cell_type": "markdown",
      "source": [
        "In this case, also if the inputs were numpy arrays, the output is a tensor."
      ]
    },
    {
      "metadata": {
        "id": "he01pFO57oVd",
        "colab_type": "text"
      },
      "cell_type": "markdown",
      "source": [
        "# Example of tensorboard"
      ]
    },
    {
      "metadata": {
        "id": "J627Or8K7oVe",
        "colab_type": "text"
      },
      "cell_type": "markdown",
      "source": [
        "To give you an idea of how tensorboard visualises the computational graphs (with the keyword ```name```) you can check the following screenshot. The ```name``` here would be ```loss```, ```hidden``` and so on.\n",
        "\n",
        "![](https://github.com/michelucci/zhaw-dlcourse-spring2019/blob/master/Week%203%20-%20Computational%20graphs/tensorboard.png?raw=1)"
      ]
    },
    {
      "metadata": {
        "id": "xTZg4YUX7oVe",
        "colab_type": "code",
        "colab": {}
      },
      "cell_type": "code",
      "source": [
        ""
      ],
      "execution_count": 0,
      "outputs": []
    }
  ]
}