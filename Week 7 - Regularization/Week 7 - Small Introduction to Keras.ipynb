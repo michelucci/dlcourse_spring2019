{
  "nbformat": 4,
  "nbformat_minor": 0,
  "metadata": {
    "colab": {
      "name": "Week 7 - Small Introduction to Keras.ipynb",
      "version": "0.3.2",
      "provenance": [],
      "include_colab_link": true
    },
    "kernelspec": {
      "display_name": "Python 3",
      "language": "python",
      "name": "python3"
    }
  },
  "cells": [
    {
      "cell_type": "markdown",
      "metadata": {
        "id": "view-in-github",
        "colab_type": "text"
      },
      "source": [
        "<a href=\"https://colab.research.google.com/github/michelucci/zhaw-dlcourse-spring2019/blob/master/Week%207%20-%20Regularization/Week%207%20-%20Small%20Introduction%20to%20Keras.ipynb\" target=\"_parent\"><img src=\"https://colab.research.google.com/assets/colab-badge.svg\" alt=\"Open In Colab\"/></a>"
      ]
    },
    {
      "metadata": {
        "id": "MsZqZKQnArr7",
        "colab_type": "text"
      },
      "cell_type": "markdown",
      "source": [
        "# Neural Networks and Deep Learning for Life Sciences and Health Applications - An introductory course about theoretical fundamentals, case studies and implementations in python and tensorflow"
      ]
    },
    {
      "metadata": {
        "id": "U-WqwSYhArr9",
        "colab_type": "text"
      },
      "cell_type": "markdown",
      "source": [
        "(C) Umberto Michelucci 2018 - umberto.michelucci@gmail.com \n",
        "\n",
        "github repository: https://github.com/michelucci/zhaw-dlcourse-spring2019\n",
        "\n",
        "Spring Semester 2019"
      ]
    },
    {
      "metadata": {
        "id": "u9lk0EnVArr_",
        "colab_type": "code",
        "colab": {}
      },
      "cell_type": "code",
      "source": [
        "import matplotlib.pyplot as plt\n",
        "%matplotlib inline\n",
        "\n",
        "import tensorflow as tf\n",
        "import numpy as np\n",
        "import pandas as pd\n",
        "\n",
        "from sklearn.datasets import load_boston\n",
        "import sklearn.linear_model as sk\n",
        "\n",
        "# Keras import\n",
        "from tensorflow.keras.models import Sequential\n",
        "from tensorflow.keras.layers import Dense\n",
        "from tensorflow.keras import regularizers\n",
        "\n",
        "from tensorflow.keras import layers\n",
        "import tensorflow.keras as keras"
      ],
      "execution_count": 0,
      "outputs": []
    },
    {
      "metadata": {
        "id": "VR7lYiJWArsC",
        "colab_type": "text"
      },
      "cell_type": "markdown",
      "source": [
        "# Load the Boston dataset"
      ]
    },
    {
      "metadata": {
        "id": "OKW8dF9JArsC",
        "colab_type": "text"
      },
      "cell_type": "markdown",
      "source": [
        "First we load the Boston dataset to be able to go into a situation of extreme overfitting."
      ]
    },
    {
      "metadata": {
        "id": "IGvVU9ZfArsD",
        "colab_type": "text"
      },
      "cell_type": "markdown",
      "source": [
        "# Load the data"
      ]
    },
    {
      "metadata": {
        "id": "0q5zjhV3ArsE",
        "colab_type": "text"
      },
      "cell_type": "markdown",
      "source": [
        "## This is the easiest way - get the Boston dataset online"
      ]
    },
    {
      "metadata": {
        "id": "UVoklEsaArsE",
        "colab_type": "code",
        "colab": {}
      },
      "cell_type": "code",
      "source": [
        "boston = load_boston()\n",
        "features = np.array(boston.data)\n",
        "target = np.array(boston.target)"
      ],
      "execution_count": 0,
      "outputs": []
    },
    {
      "metadata": {
        "id": "xQB14EoVArsH",
        "colab_type": "code",
        "colab": {},
        "outputId": "4e1b5f0f-e5ad-4cd8-91c6-b30f07d10374"
      },
      "cell_type": "code",
      "source": [
        "n_training_samples = features.shape[0]\n",
        "n_dim = features.shape[1]\n",
        "\n",
        "print('The dataset has',n_training_samples,'training samples.')\n",
        "print('The dataset has',n_dim,'features.')"
      ],
      "execution_count": 0,
      "outputs": [
        {
          "output_type": "stream",
          "text": [
            "The dataset has 506 training samples.\n",
            "The dataset has 13 features.\n"
          ],
          "name": "stdout"
        }
      ]
    },
    {
      "metadata": {
        "id": "b5BqWGbQArsL",
        "colab_type": "code",
        "colab": {}
      },
      "cell_type": "code",
      "source": [
        "def normalize(dataset):\n",
        "    mu = np.mean(dataset, axis = 0)\n",
        "    sigma = np.std(dataset, axis = 0)\n",
        "    return (dataset-mu)/sigma"
      ],
      "execution_count": 0,
      "outputs": []
    },
    {
      "metadata": {
        "id": "ERZ-RX8kArsN",
        "colab_type": "code",
        "colab": {}
      },
      "cell_type": "code",
      "source": [
        "features_norm = normalize(features)"
      ],
      "execution_count": 0,
      "outputs": []
    },
    {
      "metadata": {
        "id": "Cgn-iXZyArsP",
        "colab_type": "code",
        "colab": {},
        "outputId": "23b49e97-25ab-4c55-b70a-6d642798f032"
      },
      "cell_type": "code",
      "source": [
        "np.random.seed(42)\n",
        "rnd = np.random.rand(len(features_norm)) < 0.8\n",
        "\n",
        "train_x = np.transpose(features_norm[rnd])\n",
        "train_y = np.transpose(target[rnd])\n",
        "dev_x = np.transpose(features_norm[~rnd])\n",
        "dev_y = np.transpose(target[~rnd])\n",
        "\n",
        "print(train_x.shape)\n",
        "print(train_y.shape)\n",
        "print(dev_y.shape)"
      ],
      "execution_count": 0,
      "outputs": [
        {
          "output_type": "stream",
          "text": [
            "(13, 399)\n",
            "(399,)\n",
            "(107,)\n"
          ],
          "name": "stdout"
        }
      ]
    },
    {
      "metadata": {
        "scrolled": true,
        "id": "xOtxU6HfArsT",
        "colab_type": "code",
        "colab": {},
        "outputId": "8c2c0783-d2e4-4462-ca8f-749dc2c969cb"
      },
      "cell_type": "code",
      "source": [
        "train_y = train_y.reshape(1,len(train_y))\n",
        "dev_y = dev_y.reshape(1,len(dev_y))\n",
        "\n",
        "print(train_y.shape)\n",
        "print(dev_y.shape)"
      ],
      "execution_count": 0,
      "outputs": [
        {
          "output_type": "stream",
          "text": [
            "(1, 399)\n",
            "(1, 107)\n"
          ],
          "name": "stdout"
        }
      ]
    },
    {
      "metadata": {
        "id": "joMHEoWKArsW",
        "colab_type": "text"
      },
      "cell_type": "markdown",
      "source": [
        "## Save the data as files"
      ]
    },
    {
      "metadata": {
        "id": "RmsfhMebArsX",
        "colab_type": "code",
        "colab": {}
      },
      "cell_type": "code",
      "source": [
        "np.savetxt(\"boston_train_x.csv\", train_x, delimiter=\",\")\n",
        "np.savetxt(\"boston_train_y.csv\", train_y, delimiter=\",\")\n",
        "np.savetxt(\"boston_dev_x.csv\", dev_x, delimiter=\",\")\n",
        "np.savetxt(\"boston_dev_y.csv\", dev_y, delimiter=\",\")"
      ],
      "execution_count": 0,
      "outputs": []
    },
    {
      "metadata": {
        "id": "HEBqHm77ArsZ",
        "colab_type": "text"
      },
      "cell_type": "markdown",
      "source": [
        "## Load the Boston dataset from files"
      ]
    },
    {
      "metadata": {
        "id": "ZgZDrAvKArsa",
        "colab_type": "code",
        "colab": {}
      },
      "cell_type": "code",
      "source": [
        "train_x = pd.read_csv(\"boston_train_x.csv\", header = None)\n",
        "train_y = pd.read_csv(\"boston_train_y.csv\", header = None)\n",
        "dev_x = pd.read_csv(\"boston_dev_x.csv\", header = None)\n",
        "dev_y = pd.read_csv(\"boston_dev_y.csv\", header = None)"
      ],
      "execution_count": 0,
      "outputs": []
    },
    {
      "metadata": {
        "id": "ZxXYzs1uArsc",
        "colab_type": "code",
        "colab": {},
        "outputId": "62a57b99-b83a-4a7d-dbcb-e3739bbb0213"
      },
      "cell_type": "code",
      "source": [
        "print(train_x.shape)\n",
        "print(train_y.shape)"
      ],
      "execution_count": 0,
      "outputs": [
        {
          "output_type": "stream",
          "text": [
            "(13, 399)\n",
            "(1, 399)\n"
          ],
          "name": "stdout"
        }
      ]
    },
    {
      "metadata": {
        "id": "pICLJTBpArsf",
        "colab_type": "text"
      },
      "cell_type": "markdown",
      "source": [
        "# Construction"
      ]
    },
    {
      "metadata": {
        "id": "4z8i5QZ6Arsg",
        "colab_type": "text"
      },
      "cell_type": "markdown",
      "source": [
        "Now let's look at what happens when we try to do linear regression with a network with 4 layers and each 20 neurons."
      ]
    },
    {
      "metadata": {
        "id": "t1IhsdujArsh",
        "colab_type": "code",
        "colab": {}
      },
      "cell_type": "code",
      "source": [
        "tf.keras.backend.clear_session()"
      ],
      "execution_count": 0,
      "outputs": []
    },
    {
      "metadata": {
        "id": "wr-hgPEsArsj",
        "colab_type": "code",
        "colab": {}
      },
      "cell_type": "code",
      "source": [
        "class PrintProgress(keras.callbacks.Callback):\n",
        "  def on_epoch_end(self, epoch, logs):\n",
        "    if epoch % 1000 == 0: print('Epoch', epoch)"
      ],
      "execution_count": 0,
      "outputs": []
    },
    {
      "metadata": {
        "id": "BoOvEU5OArsm",
        "colab_type": "code",
        "colab": {},
        "outputId": "11dc9e32-4582-483e-be90-d919fd1547c1"
      },
      "cell_type": "code",
      "source": [
        "%%time\n",
        "# Network building Phase\n",
        "model = tf.keras.Sequential()\n",
        "model.add(layers.Dense(20, input_dim=13, activation='relu'))\n",
        "model.add(layers.Dense(20, activation='relu'))\n",
        "model.add(layers.Dense(20, activation='relu'))\n",
        "model.add(layers.Dense(20, activation='relu'))\n",
        "    \n",
        "model.add(layers.Dense(1, activation='linear')) # Identity activation function\n",
        "\n",
        "model.compile(optimizer=tf.train.AdamOptimizer(0.001),\n",
        "              loss='mse',\n",
        "              metrics=['mse'])\n",
        "\n",
        "# Training Phase\n",
        "history = model.fit(train_x.transpose(), train_y.transpose(), epochs=10000, \n",
        "          batch_size=train_x.shape[1],verbose = 0,\n",
        "          callbacks=[PrintProgress()])"
      ],
      "execution_count": 0,
      "outputs": [
        {
          "output_type": "stream",
          "text": [
            "Epoch 0\n",
            "Epoch 1000\n",
            "Epoch 2000\n",
            "Epoch 3000\n",
            "Epoch 4000\n",
            "Epoch 5000\n",
            "Epoch 6000\n",
            "Epoch 7000\n",
            "Epoch 8000\n",
            "Epoch 9000\n",
            "Wall time: 34.1 s\n"
          ],
          "name": "stdout"
        }
      ]
    },
    {
      "metadata": {
        "id": "RwLlpjrvArsq",
        "colab_type": "text"
      },
      "cell_type": "markdown",
      "source": [
        "## Quick plot of the MSE"
      ]
    },
    {
      "metadata": {
        "id": "qlNKKxeXArsr",
        "colab_type": "code",
        "colab": {},
        "outputId": "355521cb-819f-4ec9-b391-77c4a281842f"
      },
      "cell_type": "code",
      "source": [
        "plt.plot(history.history['mean_squared_error'])"
      ],
      "execution_count": 0,
      "outputs": [
        {
          "output_type": "execute_result",
          "data": {
            "text/plain": [
              "[<matplotlib.lines.Line2D at 0x236c3e92be0>]"
            ]
          },
          "metadata": {
            "tags": []
          },
          "execution_count": 64
        },
        {
          "output_type": "display_data",
          "data": {
            "image/png": "[encoded data removed]",
            "text/plain": [
              "<matplotlib.figure.Figure at 0x236c0c095c0>"
            ]
          },
          "metadata": {
            "tags": []
          }
        }
      ]
    },
    {
      "metadata": {
        "id": "n2RgqXk7Arsv",
        "colab_type": "code",
        "colab": {},
        "outputId": "ef3ee87c-7594-4f7c-d633-8ba23d377c4e"
      },
      "cell_type": "code",
      "source": [
        "history.history['mean_squared_error'][-1]"
      ],
      "execution_count": 0,
      "outputs": [
        {
          "output_type": "execute_result",
          "data": {
            "text/plain": [
              "0.07047011703252792"
            ]
          },
          "metadata": {
            "tags": []
          },
          "execution_count": 65
        }
      ]
    },
    {
      "metadata": {
        "id": "jM89JOJEArsy",
        "colab_type": "code",
        "colab": {}
      },
      "cell_type": "code",
      "source": [
        "ynew = model.predict(dev_x.transpose())"
      ],
      "execution_count": 0,
      "outputs": []
    },
    {
      "metadata": {
        "id": "UDC-RPOsArs0",
        "colab_type": "code",
        "colab": {},
        "outputId": "9204e22f-b8d4-49cb-c204-9ac98076f57c"
      },
      "cell_type": "code",
      "source": [
        "np.mean(np.square(ynew-dev_y.T))"
      ],
      "execution_count": 0,
      "outputs": [
        {
          "output_type": "execute_result",
          "data": {
            "text/plain": [
              "24.46130656906713"
            ]
          },
          "metadata": {
            "tags": []
          },
          "execution_count": 67
        }
      ]
    },
    {
      "metadata": {
        "id": "3E8MtP2aArs3",
        "colab_type": "text"
      },
      "cell_type": "markdown",
      "source": [
        "# Regularization L2"
      ]
    },
    {
      "metadata": {
        "id": "OfwoFOWFArs4",
        "colab_type": "code",
        "colab": {}
      },
      "cell_type": "code",
      "source": [
        "tf.keras.backend.clear_session()"
      ],
      "execution_count": 0,
      "outputs": []
    },
    {
      "metadata": {
        "id": "-D7G4sfbArs6",
        "colab_type": "code",
        "colab": {},
        "outputId": "0e73f5db-ce93-4a7e-d8ce-5a88d16a04c5"
      },
      "cell_type": "code",
      "source": [
        "%%time\n",
        "# Network building Phase\n",
        "model = tf.keras.Sequential()\n",
        "model.add(layers.Dense(20, input_dim=13, activation='relu', kernel_regularizer=regularizers.l2(10.0)))\n",
        "model.add(layers.Dense(20, activation='relu', kernel_regularizer=regularizers.l2(10.0)))\n",
        "model.add(layers.Dense(20, activation='relu', kernel_regularizer=regularizers.l2(10.0)))\n",
        "model.add(layers.Dense(20, activation='relu', kernel_regularizer=regularizers.l2(10.0)))\n",
        "    \n",
        "model.add(layers.Dense(1, activation='linear', kernel_regularizer=regularizers.l2(0.0125))) # Identity activation function\n",
        "\n",
        "model.compile(optimizer=tf.train.AdamOptimizer(0.001),\n",
        "              loss='mse',\n",
        "              metrics=['mse'])\n",
        "\n",
        "# Training Phase\n",
        "history = model.fit(train_x.transpose(), train_y.transpose(), epochs=5000, \n",
        "          batch_size=train_x.shape[1],verbose = 0,\n",
        "          callbacks=[PrintProgress()])"
      ],
      "execution_count": 0,
      "outputs": [
        {
          "output_type": "stream",
          "text": [
            "Epoch 0\n",
            "Epoch 1000\n",
            "Epoch 2000\n",
            "Epoch 3000\n",
            "Epoch 4000\n",
            "Wall time: 6.48 s\n"
          ],
          "name": "stdout"
        }
      ]
    },
    {
      "metadata": {
        "id": "baum8skPArs9",
        "colab_type": "code",
        "colab": {},
        "outputId": "940c95bd-2037-46d3-b88d-aa77a4100cd6"
      },
      "cell_type": "code",
      "source": [
        "history.history['mean_squared_error'][-1]"
      ],
      "execution_count": 0,
      "outputs": [
        {
          "output_type": "execute_result",
          "data": {
            "text/plain": [
              "21.4796199798584"
            ]
          },
          "metadata": {
            "tags": []
          },
          "execution_count": 12
        }
      ]
    },
    {
      "metadata": {
        "id": "lVDMJp7CArs_",
        "colab_type": "code",
        "colab": {},
        "outputId": "1fa0d281-1976-46c4-da5f-c7d1c79648be"
      },
      "cell_type": "code",
      "source": [
        "plt.plot(history.history['mean_squared_error'])"
      ],
      "execution_count": 0,
      "outputs": [
        {
          "output_type": "execute_result",
          "data": {
            "text/plain": [
              "[<matplotlib.lines.Line2D at 0x1ff5716f160>]"
            ]
          },
          "metadata": {
            "tags": []
          },
          "execution_count": 13
        },
        {
          "output_type": "display_data",
          "data": {
            "image/png": "[encoded data removed]",
            "text/plain": [
              "<matplotlib.figure.Figure at 0x1ff53a0f3c8>"
            ]
          },
          "metadata": {
            "tags": []
          }
        }
      ]
    },
    {
      "metadata": {
        "id": "_XFUg-7oArtC",
        "colab_type": "code",
        "colab": {}
      },
      "cell_type": "code",
      "source": [
        "ynew = model.predict(dev_x.transpose())"
      ],
      "execution_count": 0,
      "outputs": []
    },
    {
      "metadata": {
        "id": "tIIiRgb7ArtE",
        "colab_type": "code",
        "colab": {},
        "outputId": "73ccbab8-380f-4cfa-cfc1-4be8235881bf"
      },
      "cell_type": "code",
      "source": [
        "np.mean(np.square(ynew-dev_y.T))"
      ],
      "execution_count": 0,
      "outputs": [
        {
          "output_type": "execute_result",
          "data": {
            "text/plain": [
              "20.6276123642747"
            ]
          },
          "metadata": {
            "tags": []
          },
          "execution_count": 15
        }
      ]
    }
  ]
}