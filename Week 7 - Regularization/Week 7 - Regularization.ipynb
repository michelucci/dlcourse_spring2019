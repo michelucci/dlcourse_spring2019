{
 "cells": [
  {
   "cell_type": "markdown",
   "metadata": {},
   "source": [
    "# Neural Networks and Deep Learning for Life Sciences and Health Applications - An introductory course about theoretical fundamentals, case studies and implementations in python and tensorflow"
   ]
  },
  {
   "cell_type": "markdown",
   "metadata": {},
   "source": [
    "(C) Umberto Michelucci 2018 - umberto.michelucci@gmail.com \n",
    "\n",
    "github repository: https://github.com/michelucci/zhaw-dlcourse-spring2019\n",
    "\n",
    "Spring Semester 2019"
   ]
  },
  {
   "cell_type": "code",
   "execution_count": 7,
   "metadata": {},
   "outputs": [],
   "source": [
    "import matplotlib.pyplot as plt\n",
    "%matplotlib inline\n",
    "\n",
    "import tensorflow as tf\n",
    "import numpy as np\n",
    "import pandas as pd\n",
    "\n",
    "from sklearn.datasets import load_boston\n",
    "import sklearn.linear_model as sk"
   ]
  },
  {
   "cell_type": "markdown",
   "metadata": {},
   "source": [
    "# Load the Boston dataset"
   ]
  },
  {
   "cell_type": "markdown",
   "metadata": {},
   "source": [
    "First we load the Boston dataset to be able to go into a situation of extreme overfitting."
   ]
  },
  {
   "cell_type": "markdown",
   "metadata": {},
   "source": [
    "# Load the data"
   ]
  },
  {
   "cell_type": "markdown",
   "metadata": {},
   "source": [
    "## This is the easiest way - get the Boston dataset online"
   ]
  },
  {
   "cell_type": "code",
   "execution_count": 52,
   "metadata": {},
   "outputs": [],
   "source": [
    "boston = load_boston()\n",
    "features = np.array(boston.data)\n",
    "target = np.array(boston.target)"
   ]
  },
  {
   "cell_type": "code",
   "execution_count": 53,
   "metadata": {},
   "outputs": [
    {
     "name": "stdout",
     "output_type": "stream",
     "text": [
      "The dataset has 506 training samples.\n",
      "The dataset has 13 features.\n"
     ]
    }
   ],
   "source": [
    "n_training_samples = features.shape[0]\n",
    "n_dim = features.shape[1]\n",
    "\n",
    "print('The dataset has',n_training_samples,'training samples.')\n",
    "print('The dataset has',n_dim,'features.')"
   ]
  },
  {
   "cell_type": "code",
   "execution_count": 54,
   "metadata": {},
   "outputs": [],
   "source": [
    "def normalize(dataset):\n",
    "    mu = np.mean(dataset, axis = 0)\n",
    "    sigma = np.std(dataset, axis = 0)\n",
    "    return (dataset-mu)/sigma"
   ]
  },
  {
   "cell_type": "code",
   "execution_count": 55,
   "metadata": {},
   "outputs": [],
   "source": [
    "features_norm = normalize(features)"
   ]
  },
  {
   "cell_type": "code",
   "execution_count": 56,
   "metadata": {},
   "outputs": [
    {
     "name": "stdout",
     "output_type": "stream",
     "text": [
      "(13, 399)\n",
      "(399,)\n",
      "(107,)\n"
     ]
    }
   ],
   "source": [
    "np.random.seed(42)\n",
    "rnd = np.random.rand(len(features_norm)) < 0.8\n",
    "\n",
    "train_x = np.transpose(features_norm[rnd])\n",
    "train_y = np.transpose(target[rnd])\n",
    "dev_x = np.transpose(features_norm[~rnd])\n",
    "dev_y = np.transpose(target[~rnd])\n",
    "\n",
    "print(train_x.shape)\n",
    "print(train_y.shape)\n",
    "print(dev_y.shape)"
   ]
  },
  {
   "cell_type": "code",
   "execution_count": 57,
   "metadata": {
    "scrolled": true
   },
   "outputs": [
    {
     "name": "stdout",
     "output_type": "stream",
     "text": [
      "(1, 399)\n",
      "(1, 107)\n"
     ]
    }
   ],
   "source": [
    "train_y = train_y.reshape(1,len(train_y))\n",
    "dev_y = dev_y.reshape(1,len(dev_y))\n",
    "\n",
    "print(train_y.shape)\n",
    "print(dev_y.shape)"
   ]
  },
  {
   "cell_type": "markdown",
   "metadata": {},
   "source": [
    "## Save the data as files"
   ]
  },
  {
   "cell_type": "code",
   "execution_count": 65,
   "metadata": {},
   "outputs": [],
   "source": [
    "np.savetxt(\"boston_train_x.csv\", train_x, delimiter=\",\")\n",
    "np.savetxt(\"boston_train_y.csv\", train_y, delimiter=\",\")\n",
    "np.savetxt(\"boston_dev_x.csv\", dev_x, delimiter=\",\")\n",
    "np.savetxt(\"boston_dev_y.csv\", dev_y, delimiter=\",\")"
   ]
  },
  {
   "cell_type": "markdown",
   "metadata": {},
   "source": [
    "## Load the Boston dataset from files"
   ]
  },
  {
   "cell_type": "code",
   "execution_count": 68,
   "metadata": {},
   "outputs": [],
   "source": [
    "train_x = pd.read_csv(\"boston_train_x.csv\", header = None)\n",
    "train_y = pd.read_csv(\"boston_train_y.csv\", header = None)\n",
    "dev_x = pd.read_csv(\"boston_dev_x.csv\", header = None)\n",
    "dev_y = pd.read_csv(\"boston_dev_y.csv\", header = None)"
   ]
  },
  {
   "cell_type": "code",
   "execution_count": 69,
   "metadata": {},
   "outputs": [
    {
     "name": "stdout",
     "output_type": "stream",
     "text": [
      "(13, 399)\n",
      "(1, 399)\n"
     ]
    }
   ],
   "source": [
    "print(train_x.shape)\n",
    "print(train_y.shape)"
   ]
  },
  {
   "cell_type": "markdown",
   "metadata": {},
   "source": [
    "# Construction"
   ]
  },
  {
   "cell_type": "markdown",
   "metadata": {},
   "source": [
    "Now let's look at what happens when we try to do linear regression with a network with 4 layers and each 20 neurons."
   ]
  },
  {
   "cell_type": "code",
   "execution_count": 71,
   "metadata": {},
   "outputs": [],
   "source": [
    "def create_layer (X, n, activation):\n",
    "    ndim = int(X.shape[0])\n",
    "    stddev = 2.0 / np.sqrt(ndim)\n",
    "    initialization = tf.truncated_normal((n, ndim), stddev = stddev)\n",
    "    W = tf.Variable(initialization)\n",
    "    b = tf.Variable(tf.zeros([n,1]))\n",
    "    Z = tf.matmul(W,X)+b\n",
    "    return activation(Z), W, b"
   ]
  },
  {
   "cell_type": "code",
   "execution_count": 73,
   "metadata": {},
   "outputs": [],
   "source": [
    "tf.reset_default_graph()\n",
    "\n",
    "n_dim = 13\n",
    "n1 = 20\n",
    "n2 = 20\n",
    "n3 = 20\n",
    "n4 = 20\n",
    "n_outputs = 1\n",
    "\n",
    "tf.set_random_seed(5)\n",
    "\n",
    "X = tf.placeholder(tf.float32, [n_dim, None])\n",
    "Y = tf.placeholder(tf.float32, [1, None])\n",
    "\n",
    "learning_rate = tf.placeholder(tf.float32, shape=())\n",
    "\n",
    "hidden1, W1, b1 = create_layer (X, n1, activation = tf.nn.relu)\n",
    "hidden2, W2, b2 = create_layer (hidden1, n2, activation = tf.nn.relu)\n",
    "hidden3, W3, b3 = create_layer (hidden2, n3, activation = tf.nn.relu)\n",
    "hidden4, W4, b4 = create_layer (hidden3, n4, activation = tf.nn.relu)\n",
    "y_, W5, b5 = create_layer (hidden4, n_outputs, activation = tf.identity)\n",
    "cost = tf.reduce_mean(tf.square(y_-Y))\n",
    "\n",
    "# Adam\n",
    "optimizer = tf.train.AdamOptimizer(learning_rate = learning_rate, beta1 = 0.9, beta2 = 0.999, epsilon = 1e-8).minimize(cost)"
   ]
  },
  {
   "cell_type": "markdown",
   "metadata": {},
   "source": [
    "## Plot dev vs train MSE"
   ]
  },
  {
   "cell_type": "code",
   "execution_count": 74,
   "metadata": {},
   "outputs": [
    {
     "name": "stdout",
     "output_type": "stream",
     "text": [
      "Reached epoch 0 cost J(train) = 471.97888 cost J(test) = 444.563\n",
      "Reached epoch 1000 cost J(train) = 3.678648 cost J(test) = 18.288681\n",
      "Reached epoch 2000 cost J(train) = 1.5047551 cost J(test) = 17.842913\n",
      "Reached epoch 3000 cost J(train) = 0.63702625 cost J(test) = 19.187798\n",
      "Reached epoch 4000 cost J(train) = 0.22768222 cost J(test) = 18.13028\n",
      "Reached epoch 5000 cost J(train) = 0.09302098 cost J(test) = 18.084532\n",
      "Reached epoch 6000 cost J(train) = 0.04565622 cost J(test) = 19.067612\n",
      "Reached epoch 7000 cost J(train) = 0.02436292 cost J(test) = 19.797134\n",
      "Reached epoch 8000 cost J(train) = 0.017676355 cost J(test) = 20.544899\n",
      "Reached epoch 9000 cost J(train) = 0.010821299 cost J(test) = 21.452406\n",
      "Reached epoch 10000 cost J(train) = 0.0056184125 cost J(test) = 22.08054\n"
     ]
    }
   ],
   "source": [
    "sess = tf.Session()\n",
    "sess.run(tf.global_variables_initializer())\n",
    "\n",
    "cost_train_history = []\n",
    "cost_test_history = []\n",
    "for epoch in range(10000+1):\n",
    "\n",
    "    sess.run(optimizer, feed_dict = {X: train_x, Y: train_y, learning_rate: 0.001})\n",
    "    cost_train_ = sess.run(cost, feed_dict={ X:train_x, Y: train_y, learning_rate: 0.001})\n",
    "    cost_test_ = sess.run(cost, feed_dict={ X:dev_x, Y: dev_y, learning_rate: 0.001})\n",
    "    cost_train_history = np.append(cost_train_history, cost_train_)\n",
    "    cost_test_history = np.append(cost_test_history, cost_test_)\n",
    "\n",
    "    if (epoch % 1000 == 0):\n",
    "        print(\"Reached epoch\",epoch,\"cost J(train) =\", cost_train_, \"cost J(test) =\", cost_test_)"
   ]
  },
  {
   "cell_type": "markdown",
   "metadata": {},
   "source": [
    "## Plot of the cost function on the training and dev dataset"
   ]
  },
  {
   "cell_type": "code",
   "execution_count": 77,
   "metadata": {},
   "outputs": [
    {
     "data": {
      "text/plain": [
       "<matplotlib.legend.Legend at 0x193b65d7748>"
      ]
     },
     "execution_count": 77,
     "metadata": {},
     "output_type": "execute_result"
    },
    {
     "data": {
      "image/png": "[encoded data removed]",
      "text/plain": [
       "<matplotlib.figure.Figure at 0x193b6f7f668>"
      ]
     },
     "metadata": {},
     "output_type": "display_data"
    }
   ],
   "source": [
    "fig = plt.figure(figsize=(8, 5))\n",
    "ax = fig.add_subplot(1, 1, 1)\n",
    "ax.plot(cost_train_history, ls='-', color = 'black', lw = 3, label = r'Training MSE')\n",
    "ax.plot(cost_test_history, ls='--', color = 'blue', lw = 3, label = r'Dev MSE')\n",
    "ax.set_xlabel('epochs', fontsize = 16)\n",
    "ax.set_ylabel('Cost function $J$', fontsize = 16)\n",
    "ax.set_ylim(0,30)\n",
    "plt.legend(bbox_to_anchor=(1.05, 1), loc=2, borderaxespad=0., fontsize = 16)"
   ]
  },
  {
   "cell_type": "markdown",
   "metadata": {},
   "source": [
    "# Exercise 1 - Determine what architecture is not overfitting - Difficulty: easy\n",
    "\n",
    "Try to determine which architecture (number of layers and number of neurons) is not overfitting the data. Try (**at least**) the following combinations\n",
    "\n",
    "| Number of layers | Number of neurons each layer |\n",
    "| --- | --- |\n",
    "| 1 | 3 |\n",
    "| 1 | 5 |\n",
    "| 2 | 3 |\n",
    "| 2 | 5 |\n",
    "\n",
    "when the network starts overfitting? Which network would give a good result?"
   ]
  },
  {
   "cell_type": "markdown",
   "metadata": {},
   "source": [
    "# Normal function"
   ]
  },
  {
   "cell_type": "code",
   "execution_count": 80,
   "metadata": {},
   "outputs": [],
   "source": [
    "def model(training_epochs, features, target, logging_step = 100, learning_r = 0.001):\n",
    "    sess = tf.Session()\n",
    "    sess.run(tf.global_variables_initializer())\n",
    "\n",
    "    cost_history = []\n",
    "    for epoch in range(training_epochs+1):\n",
    "        \n",
    "        sess.run(optimizer, feed_dict = {X: features, Y: target, learning_rate: learning_r})\n",
    "        cost_ = sess.run(cost, feed_dict={ X:features, Y: target, learning_rate: learning_r})\n",
    "        cost_history = np.append(cost_history, cost_)\n",
    "\n",
    "        if (epoch % logging_step == 0):\n",
    "                print(\"Reached epoch\",epoch,\"cost J =\", cost_)\n",
    "                \n",
    "    return sess, cost_history"
   ]
  },
  {
   "cell_type": "code",
   "execution_count": 81,
   "metadata": {},
   "outputs": [
    {
     "name": "stdout",
     "output_type": "stream",
     "text": [
      "Reached epoch 0 cost J = 401.70294\n",
      "Reached epoch 1000 cost J = 0.619966\n",
      "Reached epoch 2000 cost J = 0.20663504\n",
      "Reached epoch 3000 cost J = 0.11761165\n",
      "Reached epoch 4000 cost J = 0.12322552\n",
      "Reached epoch 5000 cost J = 0.031889617\n",
      "Reached epoch 6000 cost J = 0.021233601\n",
      "Reached epoch 7000 cost J = 0.017770553\n",
      "Reached epoch 8000 cost J = 0.0074825976\n",
      "Reached epoch 9000 cost J = 0.068383045\n",
      "Reached epoch 10000 cost J = 0.014890215\n"
     ]
    }
   ],
   "source": [
    "sess, cost_history = model(learning_r = 0.01, \n",
    "                                training_epochs = 10000, \n",
    "                                features = train_x, \n",
    "                                target = train_y,\n",
    "                                logging_step = 1000)"
   ]
  },
  {
   "cell_type": "markdown",
   "metadata": {},
   "source": [
    "# Plots"
   ]
  },
  {
   "cell_type": "markdown",
   "metadata": {},
   "source": [
    "## Train & Test"
   ]
  },
  {
   "cell_type": "markdown",
   "metadata": {},
   "source": [
    "Now an easy way of checking how our regression is working is to plot the **predicted** values vs. the **true** values. If our regression would be perfect all the points would like on the diagonal, if not they are spread around it."
   ]
  },
  {
   "cell_type": "code",
   "execution_count": 103,
   "metadata": {},
   "outputs": [
    {
     "data": {
      "text/plain": [
       "(array([ 0., 10., 20., 30., 40., 50., 60.]),\n",
       " <a list of 7 Text yticklabel objects>)"
      ]
     },
     "execution_count": 103,
     "metadata": {},
     "output_type": "execute_result"
    },
    {
     "data": {
      "image/png": "[encoded data removed]",
      "text/plain": [
       "<matplotlib.figure.Figure at 0x193ba219e10>"
      ]
     },
     "metadata": {},
     "output_type": "display_data"
    }
   ],
   "source": [
    "pred_y = sess.run(y_, feed_dict = {X: train_x, Y: train_y})\n",
    "pred_y_test = sess.run(y_, feed_dict = {X: dev_x, Y: dev_y})\n",
    "mse_train = sess.run(tf.reduce_mean(tf.square(pred_y - train_y)))\n",
    "mse_test = sess.run(cost, feed_dict = {X: dev_x, Y: dev_y})\n",
    "\n",
    "fig = plt.figure(figsize=(12, 5))\n",
    "ax = fig.add_subplot(1, 2, 1)\n",
    "ax.scatter(train_y, pred_y, lw = 0.3, s = 120)\n",
    "ax.plot([np.min(np.array(dev_y)), np.max(np.array(dev_y))], [np.min(np.array(dev_y)), np.max(np.array(dev_y))], 'k--', lw = 3)\n",
    "ax.set_xlabel('Measured Target Value', fontsize = 16)\n",
    "ax.set_ylabel('Predicted Target Value', fontsize = 16)\n",
    "ax.text(10,45, r'MSE = '+'{:5.4f}'.format(mse_train) , fontsize = 16)\n",
    "ax.text(10,40, r'Training' , fontsize = 16)\n",
    "ax.set_ylim(0,55)\n",
    "\n",
    "plt.xticks(fontsize=16)\n",
    "plt.yticks(fontsize=16) \n",
    "\n",
    "ax = fig.add_subplot(1, 2, 2)\n",
    "ax.scatter(dev_y, pred_y_test, lw = 0.3, s = 120)\n",
    "ax.plot([np.min(np.array(dev_y)), np.max(np.array(dev_y))], [np.min(np.array(dev_y)), np.max(np.array(dev_y))], 'k--', lw = 3)\n",
    "ax.set_xlabel('Measured Target Value', fontsize = 16)\n",
    "ax.text(10,45, r'MSE = '+'{:5.2f}'.format(mse_test) , fontsize = 16)\n",
    "ax.text(10,40, r'Dev' , fontsize = 16)\n",
    "ax.set_ylim(0,55)\n",
    "\n",
    "plt.xticks(fontsize=16)\n",
    "plt.yticks(fontsize=16) "
   ]
  },
  {
   "cell_type": "markdown",
   "metadata": {},
   "source": [
    "# L2 Regularization"
   ]
  },
  {
   "cell_type": "markdown",
   "metadata": {},
   "source": [
    "Let's add L2 regularization to our network."
   ]
  },
  {
   "cell_type": "markdown",
   "metadata": {},
   "source": [
    "## Construction"
   ]
  },
  {
   "cell_type": "code",
   "execution_count": 104,
   "metadata": {},
   "outputs": [],
   "source": [
    "tf.reset_default_graph()\n",
    "\n",
    "n_dim = 13\n",
    "n1 = 20\n",
    "n2 = 20\n",
    "n3 = 20\n",
    "n4 = 20\n",
    "n_outputs = 1\n",
    "\n",
    "tf.set_random_seed(5)\n",
    "\n",
    "X = tf.placeholder(tf.float32, [n_dim, None])\n",
    "Y = tf.placeholder(tf.float32, [1, None])\n",
    "\n",
    "learning_rate = tf.placeholder(tf.float32, shape=())\n",
    "lambd = tf.placeholder(tf.float32, shape=())\n",
    "\n",
    "hidden1, W1, b1 = create_layer (X, n1, activation = tf.nn.relu)\n",
    "hidden2, W2, b2 = create_layer (hidden1, n2, activation = tf.nn.relu)\n",
    "hidden3, W3, b3 = create_layer (hidden2, n3, activation = tf.nn.relu)\n",
    "hidden4, W4, b4 = create_layer (hidden3, n4, activation = tf.nn.relu)\n",
    "y_, W5, b5 = create_layer (hidden4, n_outputs, activation = tf.identity)\n",
    "\n",
    "reg = tf.nn.l2_loss(W1) + tf.nn.l2_loss(W2) + tf.nn.l2_loss(W3) + \\\n",
    "          tf.nn.l2_loss(W4) + tf.nn.l2_loss(W5)\n",
    "\n",
    "cost_mse = tf.reduce_mean(tf.square(y_-Y))\n",
    "\n",
    "cost = tf.reduce_mean(cost_mse + lambd*reg)\n",
    "\n",
    "# Adam\n",
    "optimizer = tf.train.AdamOptimizer(learning_rate = learning_rate, beta1 = 0.9, beta2 = 0.999, epsilon = 1e-8).minimize(cost)"
   ]
  },
  {
   "cell_type": "code",
   "execution_count": 105,
   "metadata": {},
   "outputs": [],
   "source": [
    "def model(training_epochs, features, target, logging_step = 100, learning_r = 0.001, lambd_val = 0.1):\n",
    "    sess = tf.Session()\n",
    "    sess.run(tf.global_variables_initializer())\n",
    "\n",
    "    cost_history = []\n",
    "    for epoch in range(training_epochs+1):\n",
    "        \n",
    "        sess.run(optimizer, feed_dict = {X: features, Y: target, learning_rate: learning_r, lambd: lambd_val})\n",
    "        cost_ = sess.run(cost_mse, feed_dict={ X:features, Y: target, learning_rate: learning_r, lambd: lambd_val})\n",
    "        cost_history = np.append(cost_history, cost_)\n",
    "\n",
    "        if (epoch % logging_step == 0):\n",
    "                pred_y_test = sess.run(y_, feed_dict = {X: dev_x, Y: dev_y})\n",
    "                print(\"Reached epoch\",epoch,\"cost J =\", cost_)\n",
    "                print(\"Training MSE = \", cost_)\n",
    "                print(\"Dev MSE      = \", sess.run(cost_mse, feed_dict = {X: dev_x, Y: dev_y}))\n",
    "                \n",
    "    return sess, cost_history"
   ]
  },
  {
   "cell_type": "code",
   "execution_count": 106,
   "metadata": {
    "scrolled": false
   },
   "outputs": [
    {
     "name": "stdout",
     "output_type": "stream",
     "text": [
      "Reached epoch 0 cost J = 248.026\n",
      "Training MSE =  248.026\n",
      "Dev MSE      =  214.92079\n",
      "Reached epoch 5000 cost J = 23.768053\n",
      "Training MSE =  23.768053\n",
      "Dev MSE      =  21.64329\n"
     ]
    }
   ],
   "source": [
    "sess, cost_history = model(learning_r = 0.01, \n",
    "                                training_epochs = 5000, \n",
    "                                features = train_x, \n",
    "                                target = train_y,\n",
    "                                logging_step = 5000,\n",
    "                                lambd_val = 10.0)"
   ]
  },
  {
   "cell_type": "code",
   "execution_count": 107,
   "metadata": {},
   "outputs": [
    {
     "name": "stdout",
     "output_type": "stream",
     "text": [
      "Reached epoch 0 cost J = 238.37778\n",
      "Training MSE =  238.37778\n",
      "Dev MSE      =  205.56093\n",
      "Reached epoch 5000 cost J = 0.0047440524\n",
      "Training MSE =  0.0047440524\n",
      "Dev MSE      =  31.836403\n"
     ]
    }
   ],
   "source": [
    "sess, cost_history = model(learning_r = 0.01, \n",
    "                                training_epochs = 5000, \n",
    "                                features = train_x, \n",
    "                                target = train_y,\n",
    "                                logging_step = 5000,\n",
    "                                lambd_val = 0.0)"
   ]
  },
  {
   "cell_type": "markdown",
   "metadata": {},
   "source": [
    "# Exercise 2: find the minimum value for $\\lambda$ for which the overfitting stops - Difficulty: medium\n",
    "\n",
    "Perform a set of tests using the function\n",
    "\n",
    "    sess, cost_history = model(learning_r = 0.01, \n",
    "                                training_epochs = 5000, \n",
    "                                features = train_x, \n",
    "                                target = train_y,\n",
    "                                logging_step = 5000,\n",
    "                                lambd_val = 0.0)\n",
    "                             \n",
    "varying the value of ```lambda_val``` from 0 to 10.0 in regular increment (you can decide what values you want to test). Use at minimum the values: 0, 0.5, 1.0, 2.0, 5.0, 7.0, 10.0, 15.0.\n",
    "After that make a plot of the value for the cost function on the training dataset and on the dev dataset vs. $\\lambda$."
   ]
  },
  {
   "cell_type": "markdown",
   "metadata": {},
   "source": [
    "## Number of weights that are zero"
   ]
  },
  {
   "cell_type": "code",
   "execution_count": 109,
   "metadata": {},
   "outputs": [],
   "source": [
    "def eval_weights_stats(W):\n",
    "    w_zero_count = np.sum(W < 1e-10)\n",
    "    return w_zero_count "
   ]
  },
  {
   "cell_type": "code",
   "execution_count": 110,
   "metadata": {
    "scrolled": true
   },
   "outputs": [
    {
     "name": "stdout",
     "output_type": "stream",
     "text": [
      "Reached epoch 0 cost J = 238.37778\n",
      "Training MSE =  238.37778\n",
      "Dev MSE      =  205.56093\n",
      "Reached epoch 1000 cost J = 0.3379885\n",
      "Training MSE =  0.3379885\n",
      "Dev MSE      =  32.066654\n"
     ]
    }
   ],
   "source": [
    "sess, cost_history = model(learning_r = 0.01, \n",
    "                                training_epochs = 1000, \n",
    "                                features = train_x, \n",
    "                                target = train_y,\n",
    "                                logging_step = 1000,\n",
    "                                lambd_val = 0.0)"
   ]
  },
  {
   "cell_type": "code",
   "execution_count": 111,
   "metadata": {},
   "outputs": [],
   "source": [
    "weights1 = sess.run(W1,  feed_dict = {X: train_x, Y: train_y, learning_rate: 0.01, lambd: 0.0})\n",
    "weights2 = sess.run(W2,  feed_dict = {X: train_x, Y: train_y, learning_rate: 0.01, lambd: 0.0})\n",
    "weights3 = sess.run(W3,  feed_dict = {X: train_x, Y: train_y, learning_rate: 0.01, lambd: 0.0})\n",
    "weights4 = sess.run(W4,  feed_dict = {X: train_x, Y: train_y, learning_rate: 0.01, lambd: 0.0})\n",
    "weights5 = sess.run(W5,  feed_dict = {X: train_x, Y: train_y, learning_rate: 0.01, lambd: 0.0})"
   ]
  },
  {
   "cell_type": "code",
   "execution_count": 129,
   "metadata": {},
   "outputs": [
    {
     "data": {
      "image/png": "[encoded data removed]",
      "text/plain": [
       "<matplotlib.figure.Figure at 0x193bc2ca828>"
      ]
     },
     "metadata": {},
     "output_type": "display_data"
    }
   ],
   "source": [
    "fig = plt.figure(figsize=(12, 8))\n",
    "\n",
    "plt.tight_layout()\n",
    "\n",
    "ax = fig.add_subplot(2, 2, 1)\n",
    "plt.hist(weights1.flatten(), bins = 10)\n",
    "ax.set_xlabel('Weights Layer 1', fontsize = 16)\n",
    "ax.set_ylabel('Count', fontsize = 16)\n",
    "plt.ylim(0,90)\n",
    "plt.xticks(fontsize=16)\n",
    "plt.yticks(fontsize=16) \n",
    "\n",
    "ax = fig.add_subplot(2, 2, 2)\n",
    "plt.hist(weights2.flatten(), bins = 10)\n",
    "ax.set_xlabel('Weights Layer 2', fontsize = 16)\n",
    "ax.set_ylabel('Count', fontsize = 16)\n",
    "plt.ylim(0,90)\n",
    "plt.xticks(fontsize=16)\n",
    "plt.yticks(fontsize=16) \n",
    "\n",
    "\n",
    "ax = fig.add_subplot(2, 2, 3)\n",
    "plt.hist(weights3.flatten(), bins = 10)\n",
    "ax.set_xlabel('Weights Layer 3', fontsize = 16)\n",
    "ax.set_ylabel('Count', fontsize = 16)\n",
    "plt.ylim(0,180)\n",
    "plt.xticks(fontsize=16)\n",
    "plt.yticks(fontsize=16) \n",
    "\n",
    "ax = fig.add_subplot(2, 2, 4)\n",
    "plt.hist(weights4.flatten(), bins = 10)\n",
    "ax.set_xlabel('Weights Layer 4', fontsize = 16)\n",
    "ax.set_ylabel('Count', fontsize = 16)\n",
    "plt.ylim(0,180)\n",
    "plt.xticks(fontsize=16)\n",
    "plt.yticks(fontsize=16) \n",
    "\n",
    "plt.subplots_adjust(bottom=0.0, right=0.8, top=0.9)\n",
    "plt.show()"
   ]
  },
  {
   "cell_type": "code",
   "execution_count": 130,
   "metadata": {},
   "outputs": [
    {
     "name": "stdout",
     "output_type": "stream",
     "text": [
      "0.0\n",
      "0.25\n",
      "0.5\n",
      "0.25\n",
      "0.0\n"
     ]
    }
   ],
   "source": [
    "print((np.sum(np.abs(weights1)< 1e-3))/weights1.size*100.0)\n",
    "print((np.sum(np.abs(weights2)< 1e-3))/weights2.size*100.0)\n",
    "print((np.sum(np.abs(weights3)< 1e-3))/weights3.size*100.0)\n",
    "print((np.sum(np.abs(weights4)< 1e-3))/weights4.size*100.0)\n",
    "print((np.sum(np.abs(weights5)< 1e-3))/weights5.size*100.0)"
   ]
  },
  {
   "cell_type": "code",
   "execution_count": 131,
   "metadata": {},
   "outputs": [
    {
     "name": "stdout",
     "output_type": "stream",
     "text": [
      "Reached epoch 0 cost J = 248.026\n",
      "Training MSE =  248.026\n",
      "Dev MSE      =  214.92079\n",
      "Reached epoch 1000 cost J = 23.770224\n",
      "Training MSE =  23.770224\n",
      "Dev MSE      =  21.522156\n"
     ]
    }
   ],
   "source": [
    "sess, cost_history = model(learning_r = 0.01, \n",
    "                                training_epochs = 1000, \n",
    "                                features = train_x, \n",
    "                                target = train_y,\n",
    "                                logging_step = 1000,\n",
    "                                lambd_val = 10.0)"
   ]
  },
  {
   "cell_type": "code",
   "execution_count": 132,
   "metadata": {},
   "outputs": [],
   "source": [
    "weights1_ = sess.run(W1,  feed_dict = {X: train_x, Y: train_y, learning_rate: 0.01, lambd: 10.0})\n",
    "weights2_ = sess.run(W2,  feed_dict = {X: train_x, Y: train_y, learning_rate: 0.01, lambd: 10.0})\n",
    "weights3_ = sess.run(W3,  feed_dict = {X: train_x, Y: train_y, learning_rate: 0.01, lambd: 10.0})\n",
    "weights4_ = sess.run(W4,  feed_dict = {X: train_x, Y: train_y, learning_rate: 0.01, lambd: 10.0})\n",
    "weights5_ = sess.run(W5,  feed_dict = {X: train_x, Y: train_y, learning_rate: 0.01, lambd: 10.0})"
   ]
  },
  {
   "cell_type": "code",
   "execution_count": 133,
   "metadata": {},
   "outputs": [
    {
     "name": "stdout",
     "output_type": "stream",
     "text": [
      "16.538461538461537\n",
      "36.5\n",
      "55.50000000000001\n",
      "57.99999999999999\n",
      "25.0\n"
     ]
    }
   ],
   "source": [
    "print((np.sum(np.abs(weights1_)< 1e-3))/weights1_.size*100.0)\n",
    "print((np.sum(np.abs(weights2_)< 1e-3))/weights2_.size*100.0)\n",
    "print((np.sum(np.abs(weights3_)< 1e-3))/weights3_.size*100.0)\n",
    "print((np.sum(np.abs(weights4_)< 1e-3))/weights4_.size*100.0)\n",
    "print((np.sum(np.abs(weights5_)< 1e-3))/weights5_.size*100.0)"
   ]
  },
  {
   "cell_type": "markdown",
   "metadata": {},
   "source": [
    "# Exercise 3: plot the amount of weights close to zero in layer 3 vs. $\\lambda$ - Difficulty: medium\n",
    "\n",
    "Considering only layer 3, plot the quantity\n",
    "\n",
    "    (np.sum(np.abs(weights3_)< 1e-3))/weights3_.size*100.0\n",
    "    \n",
    "we have evaluated before and calculate it for several values of $\\lambda$. Consider at least: 0, 0.5, 1.0, 2.0, 5.0, 7.0, 10.0, 15.0. Plot then the value vs. $\\lambda$. What shape do the curve have? Does it flatten out?"
   ]
  },
  {
   "cell_type": "markdown",
   "metadata": {},
   "source": [
    "## Histogram comparison"
   ]
  },
  {
   "cell_type": "markdown",
   "metadata": {},
   "source": [
    "We can compare the histogram of the weights with and without regularization. The difference is quite stunning."
   ]
  },
  {
   "cell_type": "code",
   "execution_count": 142,
   "metadata": {},
   "outputs": [
    {
     "data": {
      "image/png": "[encoded data removed]",
      "text/plain": [
       "<matplotlib.figure.Figure at 0x193be62c048>"
      ]
     },
     "metadata": {},
     "output_type": "display_data"
    }
   ],
   "source": [
    "fig = plt.figure(figsize=(12, 8))\n",
    "ax = fig.add_subplot(2, 2, 1)\n",
    "plt.hist(weights1.flatten(), alpha = 0.25, bins = 10, color = 'black')\n",
    "plt.hist(weights1_.flatten(), alpha = 0.5, bins = 5, color = 'black')\n",
    "ax.set_ylabel('Count', fontsize = 16)\n",
    "ax.text(-1.2, 220, r'Layer 1', fontsize = 16)\n",
    "plt.xticks(fontsize=16)\n",
    "plt.yticks(fontsize=16) \n",
    "plt.ylim(0,260)\n",
    "\n",
    "ax = fig.add_subplot(2, 2, 2)\n",
    "plt.hist(weights2.flatten(), alpha = 0.25, bins = 10, color = 'black')\n",
    "plt.hist(weights2_.flatten(), alpha = 0.5, bins = 5, color = 'black')\n",
    "ax.set_ylabel('Count', fontsize = 16)\n",
    "ax.text(-1, 220, r'Layer 2', fontsize = 16)\n",
    "plt.xticks(fontsize=16)\n",
    "plt.yticks(fontsize=16) \n",
    "plt.ylim(0,260)\n",
    "\n",
    "\n",
    "ax = fig.add_subplot(2, 2, 3)\n",
    "plt.hist(weights3.flatten(), alpha = 0.25, bins = 10, color = 'black')\n",
    "plt.hist(weights3_.flatten(), alpha = 0.5, bins = 5, color = 'black')\n",
    "ax.set_xlabel('Weights', fontsize = 16)\n",
    "ax.set_ylabel('Count', fontsize = 16)\n",
    "ax.text(-1.8, 300, r'Layer 3', fontsize = 16)\n",
    "plt.xticks(fontsize=16)\n",
    "plt.yticks(fontsize=16) \n",
    "plt.ylim(0,350)\n",
    "\n",
    "ax = fig.add_subplot(2, 2, 4)\n",
    "plt.hist(weights4.flatten(), alpha = 0.25, bins = 10, color = 'black')\n",
    "plt.hist(weights4_.flatten(), alpha = 0.5, bins = 5, color = 'black')\n",
    "ax.set_xlabel('Weights', fontsize = 16)\n",
    "ax.set_ylabel('Count', fontsize = 16)\n",
    "ax.text(-2.7, 300, r'Layer 4', fontsize = 16)\n",
    "plt.xticks(fontsize=16)\n",
    "plt.yticks(fontsize=16) \n",
    "plt.ylim(0,350)\n",
    "\n",
    "plt.subplots_adjust(bottom=0.0, right=0.8, top=0.9)\n",
    "plt.show()"
   ]
  },
  {
   "cell_type": "markdown",
   "metadata": {},
   "source": [
    "### Plot of visual comparison of dev and train with regularization"
   ]
  },
  {
   "cell_type": "code",
   "execution_count": 156,
   "metadata": {},
   "outputs": [
    {
     "data": {
      "image/png": "[encoded data removed]",
      "text/plain": [
       "<matplotlib.figure.Figure at 0x193bedf6400>"
      ]
     },
     "metadata": {},
     "output_type": "display_data"
    }
   ],
   "source": [
    "pred_y = sess.run(y_, feed_dict = {X: train_x, Y: train_y})\n",
    "pred_y_dev = sess.run(y_, feed_dict = {X: dev_x, Y: dev_y})\n",
    "mse_train = sess.run(tf.reduce_mean(tf.square(pred_y - train_y)))\n",
    "mse_test = sess.run(cost_mse, feed_dict = {X: dev_x, Y: dev_y})\n",
    "\n",
    "\n",
    "\n",
    "fig = plt.figure(figsize=(12, 6))\n",
    "ax = fig.add_subplot(1, 2, 1)\n",
    "ax.scatter(train_y, pred_y, lw = 0.3, s = 120)\n",
    "ax.plot([np.min(np.array(dev_y)), np.max(np.array(dev_y))], [np.min(np.array(dev_y)), np.max(np.array(dev_y))], 'k--', lw = 3)\n",
    "ax.set_xlabel('Measured Target Value', fontsize = 16)\n",
    "ax.set_ylabel('Predicted Target Value', fontsize = 16)\n",
    "ax.text(10,50, r'MSE = '+'{:5.4f}'.format(mse_train) , fontsize = 16)\n",
    "ax.text(10,45, r'Training' , fontsize = 16)\n",
    "ax.set_ylim(0,55)\n",
    "plt.xticks(fontsize=16)\n",
    "plt.yticks(fontsize=16) \n",
    "\n",
    "ax = fig.add_subplot(1, 2, 2)\n",
    "ax.scatter(dev_y, pred_y_dev, lw = 0.3, s = 120)\n",
    "ax.plot([np.min(np.array(dev_y)), np.max(np.array(dev_y))], [np.min(np.array(dev_y)), np.max(np.array(dev_y))], 'k--', lw = 3)\n",
    "ax.set_xlabel('Measured Target Value', fontsize = 16)\n",
    "#ax.set_ylabel('Predicted Target Value')\n",
    "ax.text(10,50, r'MSE = '+'{:5.2f}'.format(mse_test) , fontsize = 16)\n",
    "ax.text(10,45, r'Dev' , fontsize = 16)\n",
    "ax.set_ylim(0,55)\n",
    "plt.xticks(fontsize=16)\n",
    "plt.yticks(fontsize=16) \n",
    "\n",
    "plt.tight_layout()\n",
    "plt.show()"
   ]
  },
  {
   "cell_type": "markdown",
   "metadata": {},
   "source": [
    "# L1 Regularization\n",
    "\n",
    "L1 regularization can be applied with tensorflow functions, but there is nto an easy way as with L2 (for some reasone). The method would be the following\n",
    "\n",
    "    total_loss = meansq #or other loss calcuation\n",
    "    l1_regularizer = tf.contrib.layers.l1_regularizer(\n",
    "       scale=0.005, scope=None\n",
    "    )\n",
    "    weights = tf.trainable_variables() # all vars of your graph\n",
    "    regularization_penalty = tf.contrib.layers.apply_regularization(l1_regularizer, weights)\n",
    "\n",
    "    regularized_loss = total_loss + regularization_penalty # this loss needs to be minimized\n",
    "    train_step = tf.train.GradientDescentOptimizer(0.05).minimize(regularized_loss)\n",
    "    \n",
    "we will add it here manually."
   ]
  },
  {
   "cell_type": "code",
   "execution_count": 157,
   "metadata": {},
   "outputs": [],
   "source": [
    "tf.reset_default_graph()\n",
    "\n",
    "n_dim = 13\n",
    "n1 = 20\n",
    "n2 = 20\n",
    "n3 = 20\n",
    "n4 = 20\n",
    "n_outputs = 1\n",
    "\n",
    "\n",
    "tf.set_random_seed(5)\n",
    "\n",
    "X = tf.placeholder(tf.float32, [n_dim, None])\n",
    "Y = tf.placeholder(tf.float32, [1, None])\n",
    "\n",
    "learning_rate = tf.placeholder(tf.float32, shape=())\n",
    "lambd = tf.placeholder(tf.float32, shape=())\n",
    "\n",
    "hidden1, W1, b1 = create_layer (X, n1, activation = tf.nn.relu)\n",
    "hidden2, W2, b2 = create_layer (hidden1, n2, activation = tf.nn.relu)\n",
    "hidden3, W3, b3 = create_layer (hidden2, n3, activation = tf.nn.relu)\n",
    "hidden4, W4, b4 = create_layer (hidden3, n4, activation = tf.nn.relu)\n",
    "y_, W5, b5 = create_layer (hidden4, n_outputs, activation = tf.identity)\n",
    "    \n",
    "reg = tf.reduce_sum(tf.abs(W1))+tf.reduce_sum(tf.abs(W2))+tf.reduce_sum(tf.abs(W3))+\\\n",
    "        tf.reduce_sum(tf.abs(W4))+tf.reduce_sum(tf.abs(W5))\n",
    "\n",
    "cost_mse = tf.reduce_mean(tf.square(y_-Y))\n",
    "\n",
    "cost = tf.reduce_mean(cost_mse + lambd*reg)\n",
    "\n",
    "# Adam\n",
    "optimizer = tf.train.AdamOptimizer(learning_rate = learning_rate, beta1 = 0.9, beta2 = 0.999, epsilon = 1e-8).minimize(cost)"
   ]
  },
  {
   "cell_type": "code",
   "execution_count": 158,
   "metadata": {},
   "outputs": [],
   "source": [
    "def model(training_epochs, features, target, logging_step = 100, learning_r = 0.001, lambd_val = 0.1):\n",
    "    sess = tf.Session()\n",
    "    sess.run(tf.global_variables_initializer())\n",
    "\n",
    "    cost_history = []\n",
    "    for epoch in range(training_epochs+1):\n",
    "        \n",
    "        sess.run(optimizer, feed_dict = {X: features, Y: target, learning_rate: learning_r, lambd: lambd_val})\n",
    "        cost_ = sess.run(cost_mse, feed_dict={ X:features, Y: target, learning_rate: learning_r, lambd: lambd_val})\n",
    "        cost_history = np.append(cost_history, cost_)\n",
    "\n",
    "        if (epoch % logging_step == 0):\n",
    "                pred_y_test = sess.run(y_, feed_dict = {X: dev_x, Y: dev_y})\n",
    "                print(\"Reached epoch\",epoch,\"cost J =\", cost_)\n",
    "                print(\"Training MSE = \", cost_)\n",
    "                print(\"Dev MSE      = \", sess.run(cost_mse, feed_dict = {X: dev_x, Y: dev_y}))\n",
    "                \n",
    "    return sess, cost_history"
   ]
  },
  {
   "cell_type": "code",
   "execution_count": 159,
   "metadata": {},
   "outputs": [
    {
     "name": "stdout",
     "output_type": "stream",
     "text": [
      "Reached epoch 0 cost J = 238.37778\n",
      "Training MSE =  238.37778\n",
      "Dev MSE      =  205.56093\n",
      "Reached epoch 1000 cost J = 0.3379885\n",
      "Training MSE =  0.3379885\n",
      "Dev MSE      =  32.066654\n"
     ]
    }
   ],
   "source": [
    "sess, cost_history = model(learning_r = 0.01, \n",
    "                                training_epochs = 1000, \n",
    "                                features = train_x, \n",
    "                                target = train_y,\n",
    "                                logging_step = 1000,\n",
    "                                lambd_val = 0.0)"
   ]
  },
  {
   "cell_type": "code",
   "execution_count": 160,
   "metadata": {},
   "outputs": [],
   "source": [
    "weights1 = sess.run(W1,  feed_dict = {X: train_x, Y: train_y, learning_rate: 0.01, lambd: 10.0})\n",
    "weights2 = sess.run(W2,  feed_dict = {X: train_x, Y: train_y, learning_rate: 0.01, lambd: 10.0})\n",
    "weights3 = sess.run(W3,  feed_dict = {X: train_x, Y: train_y, learning_rate: 0.01, lambd: 10.0})\n",
    "weights4 = sess.run(W4,  feed_dict = {X: train_x, Y: train_y, learning_rate: 0.01, lambd: 10.0})\n",
    "weights5 = sess.run(W5,  feed_dict = {X: train_x, Y: train_y, learning_rate: 0.01, lambd: 10.0})"
   ]
  },
  {
   "cell_type": "code",
   "execution_count": 161,
   "metadata": {},
   "outputs": [
    {
     "name": "stdout",
     "output_type": "stream",
     "text": [
      "0.0\n",
      "0.25\n",
      "0.5\n",
      "0.25\n",
      "0.0\n"
     ]
    }
   ],
   "source": [
    "print((np.sum(np.abs(weights1)< 1e-3))/weights1.size*100.0)\n",
    "print((np.sum(np.abs(weights2)< 1e-3))/weights2.size*100.0)\n",
    "print((np.sum(np.abs(weights3)< 1e-3))/weights3.size*100.0)\n",
    "print((np.sum(np.abs(weights4)< 1e-3))/weights4.size*100.0)\n",
    "print((np.sum(np.abs(weights5)< 1e-3))/weights5.size*100.0)"
   ]
  },
  {
   "cell_type": "code",
   "execution_count": 163,
   "metadata": {},
   "outputs": [
    {
     "name": "stdout",
     "output_type": "stream",
     "text": [
      "Reached epoch 0 cost J = 267.93192\n",
      "Training MSE =  267.93192\n",
      "Dev MSE      =  234.45863\n",
      "Reached epoch 1000 cost J = 24.132565\n",
      "Training MSE =  24.132565\n",
      "Dev MSE      =  22.230083\n"
     ]
    }
   ],
   "source": [
    "sess, cost_history = model(learning_r = 0.01, \n",
    "                                training_epochs = 1000, \n",
    "                                features = train_x, \n",
    "                                target = train_y,\n",
    "                                logging_step = 1000,\n",
    "                                lambd_val = 10.0)"
   ]
  },
  {
   "cell_type": "code",
   "execution_count": 165,
   "metadata": {},
   "outputs": [
    {
     "name": "stdout",
     "output_type": "stream",
     "text": [
      "51.92307692307693\n",
      "48.5\n",
      "46.5\n",
      "47.75\n",
      "20.0\n"
     ]
    }
   ],
   "source": [
    "print(eval_weights_stats(weights1)/weights1.size*100.0)\n",
    "print(eval_weights_stats(weights2)/weights2.size*100.0)\n",
    "print(eval_weights_stats(weights3)/weights3.size*100.0)\n",
    "print(eval_weights_stats(weights4)/weights4.size*100.0)\n",
    "print(eval_weights_stats(weights5)/weights5.size*100.0)"
   ]
  },
  {
   "cell_type": "markdown",
   "metadata": {},
   "source": [
    "# How many weights are \"exactly\" zero?\n",
    "\n",
    "we can also evaluate how many weights are really zero."
   ]
  },
  {
   "cell_type": "code",
   "execution_count": 166,
   "metadata": {},
   "outputs": [
    {
     "data": {
      "text/plain": [
       "3.7361951e-25"
      ]
     },
     "execution_count": 166,
     "metadata": {},
     "output_type": "execute_result"
    }
   ],
   "source": [
    "np.min(np.abs(weights1_))"
   ]
  },
  {
   "cell_type": "code",
   "execution_count": 167,
   "metadata": {},
   "outputs": [
    {
     "name": "stdout",
     "output_type": "stream",
     "text": [
      "15.0\n",
      "36.25\n",
      "47.5\n",
      "47.75\n",
      "25.0\n"
     ]
    }
   ],
   "source": [
    "print((np.sum(np.abs(weights1_)<1e-5))/weights1_.size*100.0)\n",
    "print((np.sum(np.abs(weights2_)<1e-5))/weights2_.size*100.0)\n",
    "print((np.sum(np.abs(weights3_)<1e-5))/weights3_.size*100.0)\n",
    "print((np.sum(np.abs(weights4_)< 1e-5))/weights4_.size*100.0)\n",
    "print((np.sum(np.abs(weights5_)< 1e-5))/weights5_.size*100.0)"
   ]
  },
  {
   "cell_type": "code",
   "execution_count": 168,
   "metadata": {},
   "outputs": [
    {
     "name": "stdout",
     "output_type": "stream",
     "text": [
      "69\n",
      "163\n",
      "247\n",
      "269\n"
     ]
    }
   ],
   "source": [
    "print(np.sum(np.abs(weights1_) < 5e-3))\n",
    "print(np.sum(np.abs(weights2_) < 5e-3))\n",
    "print(np.sum(np.abs(weights3_) < 5e-3))\n",
    "print(np.sum(np.abs(weights4_) < 5e-3))"
   ]
  },
  {
   "cell_type": "markdown",
   "metadata": {},
   "source": [
    "# Dropout Regularization"
   ]
  },
  {
   "cell_type": "code",
   "execution_count": 169,
   "metadata": {},
   "outputs": [],
   "source": [
    "tf.reset_default_graph()\n",
    "\n",
    "n_dim = 13\n",
    "n1 = 20\n",
    "n2 = 20\n",
    "n3 = 20\n",
    "n4 = 20\n",
    "n_outputs = 1\n",
    "\n",
    "\n",
    "tf.set_random_seed(5)\n",
    "\n",
    "X = tf.placeholder(tf.float32, [n_dim, None])\n",
    "Y = tf.placeholder(tf.float32, [1, None])\n",
    "\n",
    "learning_rate = tf.placeholder(tf.float32, shape=())\n",
    "keep_prob = tf.placeholder(tf.float32, shape=())\n",
    "\n",
    "hidden1, W1, b1 = create_layer (X, n1, activation = tf.nn.relu)\n",
    "hidden1_drop = tf.nn.dropout(hidden1, keep_prob)\n",
    "hidden2, W2, b2 = create_layer (hidden1_drop, n2, activation = tf.nn.relu)\n",
    "hidden2_drop = tf.nn.dropout(hidden2, keep_prob)\n",
    "hidden3, W3, b3 = create_layer (hidden2, n3, activation = tf.nn.relu)\n",
    "hidden3_drop = tf.nn.dropout(hidden3, keep_prob)\n",
    "hidden4, W4, b4 = create_layer (hidden3, n4, activation = tf.nn.relu)\n",
    "hidden4_drop = tf.nn.dropout(hidden4, keep_prob)\n",
    "y_, W5, b5 = create_layer (hidden4_drop, n_outputs, activation = tf.identity)\n",
    "  \n",
    "cost = tf.reduce_mean(tf.square(y_-Y))\n",
    "\n",
    "optimizer = tf.train.AdamOptimizer(learning_rate = learning_rate, beta1 = 0.9, beta2 = 0.999, epsilon = 1e-8).minimize(cost)"
   ]
  },
  {
   "cell_type": "code",
   "execution_count": 170,
   "metadata": {},
   "outputs": [],
   "source": [
    "def model(training_epochs, features, target, logging_step = 100, learning_r = 0.001,  keep_prob_val = 0.5):\n",
    "    sess = tf.Session()\n",
    "    sess.run(tf.global_variables_initializer())\n",
    "\n",
    "    cost_history = []\n",
    "    msetrain = []\n",
    "    msedev = []\n",
    "    for epoch in range(training_epochs+1):\n",
    "        \n",
    "        sess.run(optimizer, feed_dict = {X: features, Y: target, learning_rate: learning_r, keep_prob: keep_prob_val})\n",
    "        cost_ = sess.run(cost, feed_dict={ X:features, Y: target, learning_rate: learning_r, keep_prob: keep_prob_val})\n",
    "        cost_history = np.append(cost_history, cost_)\n",
    "        msetrain = np.append(msetrain, cost_)\n",
    "        msedev = np.append(msedev, sess.run(cost, feed_dict = {X: dev_x, Y: dev_y, keep_prob: 1.0}))\n",
    "\n",
    "        if (epoch % logging_step == 0):\n",
    "                pred_y_test = sess.run(y_, feed_dict = {X: dev_x, Y: dev_y, keep_prob: keep_prob_val})\n",
    "                print(\"Reached epoch\",epoch,\"cost J =\", cost_)\n",
    "                print(\"Training MSE = \", cost_)\n",
    "                print(\"Dev MSE      = \", sess.run(cost, feed_dict = {X: dev_x, Y: dev_y, keep_prob: 1.0}))\n",
    "                \n",
    "    return sess, cost_history, msetrain, msedev"
   ]
  },
  {
   "cell_type": "code",
   "execution_count": 172,
   "metadata": {
    "scrolled": false
   },
   "outputs": [
    {
     "name": "stdout",
     "output_type": "stream",
     "text": [
      "Reached epoch 0 cost J = 522.3576\n",
      "Training MSE =  522.3576\n",
      "Dev MSE      =  496.34427\n",
      "Reached epoch 1000 cost J = 1.06591\n",
      "Training MSE =  1.06591\n",
      "Dev MSE      =  14.494189\n",
      "Reached epoch 2000 cost J = 0.26527777\n",
      "Training MSE =  0.26527777\n",
      "Dev MSE      =  12.980678\n",
      "Reached epoch 3000 cost J = 0.13220191\n",
      "Training MSE =  0.13220191\n",
      "Dev MSE      =  14.960528\n"
     ]
    }
   ],
   "source": [
    "sess, cost_history, mset, msed = model(learning_r = 0.01, \n",
    "                                training_epochs = 3000, \n",
    "                                features = train_x, \n",
    "                                target = train_y,\n",
    "                                logging_step = 1000,\n",
    "                                keep_prob_val = 1.0)"
   ]
  },
  {
   "cell_type": "code",
   "execution_count": 174,
   "metadata": {},
   "outputs": [
    {
     "name": "stdout",
     "output_type": "stream",
     "text": [
      "Reached epoch 0 cost J = 551.21686\n",
      "Training MSE =  551.21686\n",
      "Dev MSE      =  500.0571\n",
      "Reached epoch 1000 cost J = 35.295147\n",
      "Training MSE =  35.295147\n",
      "Dev MSE      =  52.90818\n",
      "Reached epoch 2000 cost J = 19.613594\n",
      "Training MSE =  19.613594\n",
      "Dev MSE      =  40.99091\n",
      "Reached epoch 3000 cost J = 14.614566\n",
      "Training MSE =  14.614566\n",
      "Dev MSE      =  35.864937\n"
     ]
    }
   ],
   "source": [
    "sess, cost_history05, mset, msed = model(learning_r = 0.01, \n",
    "                                training_epochs = 3000, \n",
    "                                features = train_x, \n",
    "                                target = train_y,\n",
    "                                logging_step = 1000,\n",
    "                                keep_prob_val = 0.5)"
   ]
  },
  {
   "cell_type": "markdown",
   "metadata": {},
   "source": [
    "# Exercise 5: plot the cost functio with dropout - Difficulty: easy\n",
    "\n",
    "What do you notice about the cost function with drop out? What do you notice?"
   ]
  },
  {
   "cell_type": "markdown",
   "metadata": {},
   "source": [
    "# Exercise 6: implement L2 regularization by scratch - Difficulty: hard\n",
    "\n",
    "Implement L2 regularization as we have done with L1 regularization without using the read tensorflow available function."
   ]
  },
  {
   "cell_type": "code",
   "execution_count": null,
   "metadata": {},
   "outputs": [],
   "source": []
  }
 ],
 "metadata": {
  "kernelspec": {
   "display_name": "Python 3",
   "language": "python",
   "name": "python3"
  },
  "language_info": {
   "codemirror_mode": {
    "name": "ipython",
    "version": 3
   },
   "file_extension": ".py",
   "mimetype": "text/x-python",
   "name": "python",
   "nbconvert_exporter": "python",
   "pygments_lexer": "ipython3",
   "version": "3.7.2"
  }
 },
 "nbformat": 4,
 "nbformat_minor": 2
}
