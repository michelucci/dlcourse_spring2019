{
 "cells": [
  {
   "cell_type": "markdown",
   "metadata": {},
   "source": [
    "# Neural Networks and Deep Learning for Life Sciences and Health Applications - An introductory course about theoretical fundamentals, case studies and implementations in python and tensorflow"
   ]
  },
  {
   "cell_type": "markdown",
   "metadata": {},
   "source": [
    "(C) Umberto Michelucci 2018 - umberto.michelucci@gmail.com \n",
    "\n",
    "github repository: https://github.com/michelucci/zhaw-dlcourse-spring2019\n",
    "\n",
    "Spring Semester 2019"
   ]
  },
  {
   "cell_type": "code",
   "execution_count": 4,
   "metadata": {},
   "outputs": [],
   "source": [
    "import numpy as np\n",
    "import matplotlib.pyplot as plt\n",
    "import matplotlib as mpl\n",
    "import tensorflow as tf\n",
    "\n",
    "from sklearn import linear_model\n",
    "\n",
    "from sklearn import datasets, svm"
   ]
  },
  {
   "cell_type": "code",
   "execution_count": 5,
   "metadata": {},
   "outputs": [],
   "source": [
    "def make_mesh_predict(h, c1, clf):\n",
    "    \"\"\"\n",
    "    Inputs:\n",
    "    h -> mesh step (0.001 is a good value of you move between 0 and 1)\n",
    "    c -> Your training data\n",
    "    clf -> Your classifier\n",
    "    \n",
    "    Outputs:\n",
    "    xx -> x values of the mesh\n",
    "    yy -> y values of the mesh\n",
    "    Z -> The prediction (the color of each point)\n",
    "    \"\"\"\n",
    "    \n",
    "    # point in the mesh [x_min, x_max]x[y_min, y_max].\n",
    "    x_min, x_max = c1[:, 0].min() - .2, c1[:, 0].max() + .2\n",
    "    y_min, y_max = c1[:, 1].min() - .2, c1[:, 1].max() + .2\n",
    "    xx, yy = np.meshgrid(np.arange(x_min, x_max, h), np.arange(y_min, y_max, h))\n",
    "    Z = clf.predict(np.c_[xx.ravel(), yy.ravel()])\n",
    "    \n",
    "    Z = Z.reshape(xx.shape)\n",
    "    \n",
    "    return xx, yy, Z"
   ]
  },
  {
   "cell_type": "code",
   "execution_count": 8,
   "metadata": {},
   "outputs": [
    {
     "data": {
      "text/plain": [
       "(1068228, 2)"
      ]
     },
     "execution_count": 8,
     "metadata": {},
     "output_type": "execute_result"
    }
   ],
   "source": [
    "hh = 0.001\n",
    "x_min, x_max = c[:, 0].min() - .2, c[:, 0].max() + .2\n",
    "y_min, y_max = c[:, 1].min() - .2, c[:, 1].max() + .2\n",
    "xx, yy = np.meshgrid(np.arange(x_min, x_max, hh), np.arange(y_min, y_max, hh))\n",
    "np.c_[xx.ravel(), yy.ravel()].shape"
   ]
  },
  {
   "cell_type": "code",
   "execution_count": 20,
   "metadata": {},
   "outputs": [],
   "source": [
    "def make_mesh_predict_tf(h, c1, pred):\n",
    "    \"\"\"\n",
    "    Inputs:\n",
    "    h -> mesh step (0.001 is a good value of you move between 0 and 1)\n",
    "    c -> Your training data\n",
    "    clf -> Your classifier\n",
    "    \n",
    "    Outputs:\n",
    "    xx -> x values of the mesh\n",
    "    yy -> y values of the mesh\n",
    "    Z -> The prediction (the color of each point)\n",
    "    \"\"\"\n",
    "    \n",
    "    # point in the mesh [x_min, x_max]x[y_min, y_max].\n",
    "    x_min, x_max = c1[:, 0].min() - .2, c1[:, 0].max() + .2\n",
    "    y_min, y_max = c1[:, 1].min() - .2, c1[:, 1].max() + .2\n",
    "    xx, yy = np.meshgrid(np.arange(x_min, x_max, h), np.arange(y_min, y_max, h))\n",
    "    #Z = clf.predict(np.c_[xx.ravel(), yy.ravel()])\n",
    "    \n",
    "    zpred = sess.run(pred, feed_dict={X:np.c_[xx.ravel(), yy.ravel()].T, Y: train_y, learning_rate: 0.005})\n",
    "    \n",
    "    Z = zpred.reshape(xx.shape)\n",
    "    \n",
    "    return xx, yy, Z"
   ]
  },
  {
   "cell_type": "code",
   "execution_count": 70,
   "metadata": {},
   "outputs": [],
   "source": [
    "def print_decision_boundary(xx, yy, Z, X, Y):\n",
    "    \"\"\"\n",
    "    Inputs:\n",
    "    xx: the values for the mesh (coming from make_mesh_predict())\n",
    "    yy: the values for the mesh (coming from make_mesh_predict())\n",
    "    Z: the prediction for each point (that will be mapped to the color)\n",
    "    X,Y: the training points\n",
    "    \"\"\"\n",
    "    fig = plt.figure(1, figsize=(9, 7))\n",
    "    plt.pcolormesh(xx, yy, Z, cmap='Greys', alpha = 0.1)  # plt.cm.Paired\n",
    "\n",
    "    # Plot also the training points\n",
    "    plt.scatter(X[:, 0], X[:, 1], c=Y*100, edgecolors='k',  s= 40, cmap = 'gray')  # cmap=plt.cm.Paired\n",
    "    plt.xlabel('$x$')\n",
    "    plt.ylabel('$y$')\n",
    "\n",
    "    plt.xlim(xx.min(), xx.max())\n",
    "    plt.ylim(yy.min(), yy.max())\n",
    "    plt.xticks(())\n",
    "    plt.yticks(())\n",
    "\n",
    "    plt.show()\n",
    "    \n",
    "    fig.savefig('Figure_5-X'+'.png', format='png', dpi=300,bbox_inches='tight')"
   ]
  },
  {
   "cell_type": "code",
   "execution_count": 7,
   "metadata": {},
   "outputs": [],
   "source": [
    "nobs = 30\n",
    "\n",
    "np.random.seed(42)\n",
    "\n",
    "xx1 = np.array([np.random.normal(0.3,0.15) for i in range (0,nobs)])\n",
    "yy1 = np.array([np.random.normal(0.3,0.15) for i in range (0,nobs)])\n",
    "xx2 = np.array([np.random.normal(0.1,0.1) for i in range (0,nobs)])\n",
    "yy2 = np.array([np.random.normal(0.3,0.1) for i in range (0,nobs)])\n",
    "\n",
    "c1_ = np.c_[xx1.ravel(), yy1.ravel()]\n",
    "c2_ = np.c_[xx2.ravel(), yy2.ravel()] \n",
    "\n",
    "c = np.concatenate([c1_,c2_])\n",
    "\n",
    "# Now let's create the labels\n",
    "\n",
    "yy1_ = np.full(nobs, 0, dtype=int)\n",
    "yy2_ = np.full(nobs, 1, dtype=int)\n",
    "yyL = np.concatenate((yy1_, yy2_), axis = 0)"
   ]
  },
  {
   "cell_type": "code",
   "execution_count": 9,
   "metadata": {},
   "outputs": [],
   "source": [
    "train_x = c.T\n",
    "train_y = yyL.reshape(1,60)"
   ]
  },
  {
   "cell_type": "code",
   "execution_count": 10,
   "metadata": {},
   "outputs": [
    {
     "name": "stdout",
     "output_type": "stream",
     "text": [
      "(2, 60)\n",
      "(1, 60)\n"
     ]
    }
   ],
   "source": [
    "print(train_x.shape)\n",
    "print(train_y.shape)"
   ]
  },
  {
   "cell_type": "code",
   "execution_count": 83,
   "metadata": {},
   "outputs": [
    {
     "data": {
      "image/png": "[encoded data removed]",
      "text/plain": [
       "<matplotlib.figure.Figure at 0x2c5d37913c8>"
      ]
     },
     "metadata": {},
     "output_type": "display_data"
    }
   ],
   "source": [
    "logreg2 = linear_model.LogisticRegression(C=1e5)\n",
    "logreg2.fit(c, yyL*(-1))\n",
    "\n",
    "xx, yy, Z = make_mesh_predict(0.001, c, logreg2)\n",
    "xx1, yy1, Z1 = make_mesh_predict(0.001, c, logreg2)\n",
    "\n",
    "print_decision_boundary(xx, yy, Z, c, yyL)\n",
    "\n",
    "#plt.savefig('Figure_5-X'+'.png', format='png', dpi=300,bbox_inches='tight')"
   ]
  },
  {
   "cell_type": "code",
   "execution_count": 65,
   "metadata": {},
   "outputs": [
    {
     "data": {
      "text/plain": [
       "{'C': 100000.0,\n",
       " 'class_weight': None,\n",
       " 'dual': False,\n",
       " 'fit_intercept': True,\n",
       " 'intercept_scaling': 1,\n",
       " 'max_iter': 100,\n",
       " 'multi_class': 'ovr',\n",
       " 'n_jobs': 1,\n",
       " 'penalty': 'l2',\n",
       " 'random_state': None,\n",
       " 'solver': 'liblinear',\n",
       " 'tol': 0.0001,\n",
       " 'verbose': 0,\n",
       " 'warm_start': False}"
      ]
     },
     "execution_count": 65,
     "metadata": {},
     "output_type": "execute_result"
    }
   ],
   "source": [
    "logreg2.get_params()"
   ]
  },
  {
   "cell_type": "code",
   "execution_count": 14,
   "metadata": {},
   "outputs": [],
   "source": [
    "def create_layer (X, n, activation):\n",
    "    ndim = int(X.shape[0])\n",
    "    stddev = 2.0 / np.sqrt(ndim)\n",
    "    initialization = tf.truncated_normal((n, ndim), stddev = stddev)\n",
    "    W = tf.Variable(initialization)\n",
    "    b = tf.Variable(tf.zeros([n,1]))\n",
    "    Z = tf.matmul(W,X)+b\n",
    "    return activation(Z), W, b"
   ]
  },
  {
   "cell_type": "code",
   "execution_count": 219,
   "metadata": {},
   "outputs": [],
   "source": [
    "tf.reset_default_graph()\n",
    "\n",
    "n_dim = 2\n",
    "n1 = 20\n",
    "n2 = 20\n",
    "n3 = 20\n",
    "n4 = 20\n",
    "n_outputs = 1\n",
    "\n",
    "\n",
    "tf.set_random_seed(5)\n",
    "\n",
    "X = tf.placeholder(tf.float32, [n_dim, None])\n",
    "Y = tf.placeholder(tf.float32, [1, None])\n",
    "\n",
    "learning_rate = tf.placeholder(tf.float32, shape=())\n",
    "lambd = tf.placeholder(tf.float32, shape=())\n",
    "\n",
    "hidden1, W1, b1 = create_layer (X, n1, activation = tf.nn.relu)\n",
    "hidden2, W2, b2 = create_layer (hidden1, n2, activation = tf.nn.relu)\n",
    "hidden3, W3, b3 = create_layer (hidden2, n3, activation = tf.nn.relu)\n",
    "hidden4, W4, b4 = create_layer (hidden3, n4, activation = tf.nn.relu)\n",
    "y_, W5, b5 = create_layer (hidden4, n_outputs, activation = tf.sigmoid)\n",
    "#y_ = tf.nn.softmax(outputs)\n",
    "\n",
    "#cost = - tf.reduce_mean(Y * tf.log(y_)+(1-Y) * tf.log(1-y_))\n",
    "#optimizer = tf.train.GradientDescentOptimizer(learning_rate).minimize(cost)\n",
    "\n",
    "reg = tf.nn.l2_loss(W1) + tf.nn.l2_loss(W2) + tf.nn.l2_loss(W3) + \\\n",
    "          tf.nn.l2_loss(W4) + tf.nn.l2_loss(W5)\n",
    "\n",
    "#cost_mse = tf.reduce_mean(tf.square(y_-Y))\n",
    "#y_ = tf.sigmoid(tf.matmul(W,X)+b)\n",
    "cost_class = - tf.reduce_mean(Y * tf.log(y_)+(1-Y) * tf.log(1-y_))\n",
    "\n",
    "cost = tf.reduce_mean(cost_class + lambd*reg)\n",
    "\n",
    "# Adam\n",
    "optimizer = tf.train.AdamOptimizer(learning_rate = learning_rate, beta1 = 0.9, beta2 = 0.999, epsilon = 1e-8).minimize(cost)"
   ]
  },
  {
   "cell_type": "code",
   "execution_count": 200,
   "metadata": {},
   "outputs": [],
   "source": [
    "def model(training_epochs, features, target, logging_step = 100, learning_r = 0.001, lambd_val = 0.1):\n",
    "    sess = tf.Session()\n",
    "    sess.run(tf.global_variables_initializer())\n",
    "\n",
    "    cost_history = []\n",
    "    for epoch in range(training_epochs+1):\n",
    "        \n",
    "        sess.run(optimizer, feed_dict = {X: features, Y: target, learning_rate: learning_r, lambd: lambd_val})\n",
    "        cost_ = sess.run(cost_class, feed_dict={ X:features, Y: target, learning_rate: learning_r, lambd: lambd_val})\n",
    "        cost_history = np.append(cost_history, cost_)\n",
    "\n",
    "        if (epoch % logging_step == 0):\n",
    "                #pred_y_test = sess.run(y_, feed_dict = {X: dev_x, Y: dev_y})\n",
    "                print(\"Reached epoch\",epoch,\"cost J =\", cost_)\n",
    "                #print(\"Training MSE = \", cost_)\n",
    "                #print(\"Dev MSE      = \", sess.run(cost_mse, feed_dict = {X: dev_x, Y: dev_y}))\n",
    "                \n",
    "    return sess, cost_history"
   ]
  },
  {
   "cell_type": "code",
   "execution_count": 204,
   "metadata": {},
   "outputs": [
    {
     "name": "stdout",
     "output_type": "stream",
     "text": [
      "Reached epoch 0 cost J = 0.865109\n",
      "Reached epoch 10 cost J = 0.576385\n",
      "Reached epoch 20 cost J = 0.522898\n",
      "Reached epoch 30 cost J = 0.496909\n",
      "Reached epoch 40 cost J = 0.476326\n",
      "Reached epoch 50 cost J = 0.457063\n",
      "Reached epoch 60 cost J = 0.439215\n",
      "Reached epoch 70 cost J = 0.411078\n",
      "Reached epoch 80 cost J = 0.376612\n",
      "Reached epoch 90 cost J = 0.344795\n",
      "Reached epoch 100 cost J = 0.315639\n"
     ]
    }
   ],
   "source": [
    "sess, cost_history = model(learning_r = 0.005, \n",
    "                                training_epochs = 100, \n",
    "                                features = train_x, \n",
    "                                target = train_y,\n",
    "                                logging_step = 10,\n",
    "                                lambd_val = 0.0)"
   ]
  },
  {
   "cell_type": "code",
   "execution_count": 205,
   "metadata": {},
   "outputs": [
    {
     "name": "stdout",
     "output_type": "stream",
     "text": [
      "0.833333\n"
     ]
    }
   ],
   "source": [
    "correct_prediction1=tf.equal(tf.greater(y_, 0.5), tf.equal(Y,1))\n",
    "accuracy1 = tf.reduce_mean(tf.cast(correct_prediction1, tf.float32))\n",
    "\n",
    "print(sess.run(accuracy1, feed_dict={X:train_x, Y: train_y, learning_rate: 0.005}))"
   ]
  },
  {
   "cell_type": "code",
   "execution_count": 79,
   "metadata": {
    "scrolled": false
   },
   "outputs": [
    {
     "data": {
      "image/png": "[encoded data removed]",
      "text/plain": [
       "<matplotlib.figure.Figure at 0x2c5d39b9908>"
      ]
     },
     "metadata": {},
     "output_type": "display_data"
    }
   ],
   "source": [
    "pred = tf.less(y_, 0.5)\n",
    "zpred = sess.run(pred, feed_dict={X:train_x, Y: train_y, learning_rate: 0.005})\n",
    "\n",
    "xx, yy, Z = make_mesh_predict_tf(0.001, c, pred)\n",
    "xx1, yy1, Z1 = make_mesh_predict_tf(0.001, c, pred)\n",
    "\n",
    "print_decision_boundary(xx, yy, Z, c, yyL)"
   ]
  },
  {
   "cell_type": "code",
   "execution_count": 209,
   "metadata": {},
   "outputs": [
    {
     "name": "stdout",
     "output_type": "stream",
     "text": [
      "Reached epoch 0 cost J = 0.929856\n",
      "Reached epoch 100 cost J = 0.574355\n",
      "Reached epoch 200 cost J = 0.5333\n",
      "Reached epoch 300 cost J = 0.514089\n",
      "Reached epoch 400 cost J = 0.505754\n",
      "Reached epoch 500 cost J = 0.504944\n",
      "Reached epoch 600 cost J = 0.505092\n",
      "Reached epoch 700 cost J = 0.503848\n",
      "Reached epoch 800 cost J = 0.504995\n",
      "Reached epoch 900 cost J = 0.506008\n",
      "Reached epoch 1000 cost J = 0.507309\n"
     ]
    }
   ],
   "source": [
    "sess, cost_history = model(learning_r = 1e-3, \n",
    "                                training_epochs = 1000, \n",
    "                                features = train_x, \n",
    "                                target = train_y,\n",
    "                                logging_step = 100,\n",
    "                                lambd_val = 0.1)"
   ]
  },
  {
   "cell_type": "code",
   "execution_count": 210,
   "metadata": {},
   "outputs": [],
   "source": [
    "weights1 = sess.run(W1,  feed_dict = {X: train_x, Y: train_y, learning_rate: 0.01, lambd: 0.1})\n",
    "weights2 = sess.run(W2,  feed_dict = {X: train_x, Y: train_y, learning_rate: 0.01, lambd: 0.1})\n",
    "weights3 = sess.run(W3,  feed_dict = {X: train_x, Y: train_y, learning_rate: 0.01, lambd: 0.1})\n",
    "weights4 = sess.run(W4,  feed_dict = {X: train_x, Y: train_y, learning_rate: 0.01, lambd: 0.1})\n",
    "weights5 = sess.run(W5,  feed_dict = {X: train_x, Y: train_y, learning_rate: 0.01, lambd: 0.1})"
   ]
  },
  {
   "cell_type": "code",
   "execution_count": 144,
   "metadata": {},
   "outputs": [
    {
     "data": {
      "text/plain": [
       "<matplotlib.figure.Figure at 0x2c5d301d9b0>"
      ]
     },
     "metadata": {},
     "output_type": "display_data"
    },
    {
     "data": {
      "image/png": "[encoded data removed]",
      "text/plain": [
       "<matplotlib.figure.Figure at 0x2c5d301dd68>"
      ]
     },
     "metadata": {},
     "output_type": "display_data"
    }
   ],
   "source": [
    "plt.rc('font', family='arial')\n",
    "plt.rc('xtick', labelsize='x-small')\n",
    "plt.rc('ytick', labelsize='x-small')\n",
    "    \n",
    "plt.tight_layout()\n",
    "\n",
    "fig = plt.figure(figsize=(7.8, 6.2))\n",
    "ax = fig.add_subplot(2, 2, 1)\n",
    "plt.hist(weights1.flatten(), bins = 20)\n",
    "ax.set_xlabel('Weights Layer 1')\n",
    "ax.set_ylabel('Count')\n",
    "\n",
    "#ax.set_xlim(0,0.4)\n",
    "\n",
    "ax = fig.add_subplot(2, 2, 2)\n",
    "plt.hist(weights2.flatten(), bins = 100)\n",
    "ax.set_xlabel('Weights Layer 2')\n",
    "ax.set_ylabel('Count')\n",
    "#ax.set_xlim(0,0.4)\n",
    "\n",
    "ax = fig.add_subplot(2, 2, 3)\n",
    "plt.hist(weights3.flatten(), bins = 100)\n",
    "ax.set_xlabel('Weights Layer 3')\n",
    "ax.set_ylabel('Count')\n",
    "#ax.set_xlim(0,0.4)\n",
    "\n",
    "ax = fig.add_subplot(2, 2, 4)\n",
    "plt.hist(weights4.flatten(), bins = 100)\n",
    "ax.set_xlabel('Weights Layer 4')\n",
    "ax.set_ylabel('Count')\n",
    "#ax.set_xlim(0,0.4)\n",
    "\n",
    "#plt.title ('Weights Distribution')\n",
    "\n",
    "fig.savefig('Figure_5-X'+'.png', format='png', dpi=300,bbox_inches='tight')"
   ]
  },
  {
   "cell_type": "markdown",
   "metadata": {},
   "source": [
    "# Weights going to zero with L2"
   ]
  },
  {
   "cell_type": "code",
   "execution_count": 220,
   "metadata": {},
   "outputs": [
    {
     "name": "stdout",
     "output_type": "stream",
     "text": [
      "Reached epoch 0 cost J = 0.931172\n",
      "w_12,5 = 0.108121\n",
      "Reached epoch 100 cost J = 0.604734\n",
      "w_12,5 = 0.0286741\n",
      "Reached epoch 200 cost J = 0.578327\n",
      "w_12,5 = 0.00313217\n",
      "Reached epoch 300 cost J = 0.579266\n",
      "w_12,5 = 0.000109055\n",
      "Reached epoch 400 cost J = 0.587921\n",
      "w_12,5 = 4.77887e-07\n",
      "Reached epoch 500 cost J = 0.602471\n",
      "w_12,5 = -3.08213e-09\n",
      "Reached epoch 600 cost J = 0.618846\n",
      "w_12,5 = 1.13238e-11\n",
      "Reached epoch 700 cost J = 0.631048\n",
      "w_12,5 = 2.2882e-14\n",
      "Reached epoch 800 cost J = 0.647523\n",
      "w_12,5 = -4.50089e-16\n",
      "Reached epoch 900 cost J = 0.665124\n",
      "w_12,5 = -1.23481e-18\n",
      "Reached epoch 1000 cost J = 0.682517\n",
      "w_12,5 = 2.38382e-21\n"
     ]
    }
   ],
   "source": [
    "sess = tf.Session()\n",
    "sess.run(tf.global_variables_initializer())\n",
    "\n",
    "cost_history = []\n",
    "weight_history = []\n",
    "for epoch in range(1000+1):\n",
    "        \n",
    "    sess.run(optimizer, feed_dict = {X: train_x, Y: train_y, learning_rate: 1e-3, lambd: 0.1})\n",
    "    cost_ = sess.run(cost_class, feed_dict={ X:train_x, Y: train_y, learning_rate: 1e-3, lambd: 0.1})\n",
    "    weights3 = sess.run(W3,  feed_dict = {X: train_x, Y: train_y, learning_rate: 0.01, lambd: 0.1})\n",
    "    cost_history = np.append(cost_history, cost_)\n",
    "    weight_history = np.append(weight_history, weights3[12,5])\n",
    "\n",
    "    if (epoch % 100 == 0):\n",
    "        print(\"Reached epoch\",epoch,\"cost J =\", cost_)\n",
    "        print(\"w_12,5 =\", weights3[12,5])\n",
    "                \n"
   ]
  },
  {
   "cell_type": "markdown",
   "metadata": {},
   "source": [
    "## Figure 5-9"
   ]
  },
  {
   "cell_type": "code",
   "execution_count": 238,
   "metadata": {},
   "outputs": [
    {
     "data": {
      "text/plain": [
       "array([  1.08121291e-01,   1.07121564e-01,   1.06122255e-01, ...,\n",
       "         4.14699407e-21,   3.22907199e-21,   2.38381921e-21])"
      ]
     },
     "execution_count": 238,
     "metadata": {},
     "output_type": "execute_result"
    }
   ],
   "source": [
    "weight_history"
   ]
  },
  {
   "cell_type": "code",
   "execution_count": 254,
   "metadata": {},
   "outputs": [
    {
     "data": {
      "text/plain": [
       "<matplotlib.figure.Figure at 0x2c581308cc0>"
      ]
     },
     "metadata": {},
     "output_type": "display_data"
    },
    {
     "data": {
      "image/png": "[encoded data removed]",
      "text/plain": [
       "<matplotlib.figure.Figure at 0x2c581308eb8>"
      ]
     },
     "metadata": {},
     "output_type": "display_data"
    }
   ],
   "source": [
    "plt.rc('font', family='arial')\n",
    "plt.rc('xtick', labelsize='x-small')\n",
    "plt.rc('ytick', labelsize='x-small')\n",
    "    \n",
    "plt.tight_layout()\n",
    "\n",
    "fig = plt.figure(figsize=(3.9, 3.1))\n",
    "ax = fig.add_subplot(1, 1, 1)\n",
    "ax.plot(weight_history, lw = 2.0, ls = '-', color = 'black', label = 'MSE Train')\n",
    "#ax.plot(0.11*np.exp(-np.arange(0,1000,1)/70), lw = 2.0, ls = '-', color = 'red', label = 'MSE Train')\n",
    "ax.set_xlabel(r'Epochs')\n",
    "ax.set_ylabel('$w^{[3]}_{12,5}$')\n",
    "#ax.set_ylim(10e-15,25)\n",
    "#ax.set_xlim(0,10)\n",
    "ax.text(200, 0.08, 'Value after 1000 epochs:\\n            $2\\cdot 10^{-21}$', fontsize = 13)\n",
    "#ax.text(12.5, 10, 'More\\nregularization', fontsize = 13)\n",
    "#plt.legend(bbox_to_anchor=(1.05, 1), loc=2, borderaxespad=0.)\n",
    "\n",
    "\n",
    "fig.savefig('Figure_5-9'+'.png', format='png', dpi=300,bbox_inches='tight')"
   ]
  },
  {
   "cell_type": "markdown",
   "metadata": {},
   "source": [
    "## Is the weight decay expontential?"
   ]
  },
  {
   "cell_type": "code",
   "execution_count": 266,
   "metadata": {},
   "outputs": [
    {
     "data": {
      "text/plain": [
       "<matplotlib.figure.Figure at 0x2c5802832b0>"
      ]
     },
     "metadata": {},
     "output_type": "display_data"
    },
    {
     "data": {
      "image/png": "[encoded data removed]",
      "text/plain": [
       "<matplotlib.figure.Figure at 0x2c5802835c0>"
      ]
     },
     "metadata": {},
     "output_type": "display_data"
    }
   ],
   "source": [
    "plt.rc('font', family='arial')\n",
    "plt.rc('xtick', labelsize='x-small')\n",
    "plt.rc('ytick', labelsize='x-small')\n",
    "    \n",
    "plt.tight_layout()\n",
    "\n",
    "fig = plt.figure(figsize=(3.9, 3.1))\n",
    "ax = fig.add_subplot(1, 1, 1)\n",
    "ax.plot(weight_history, lw = 2.0, ls = '-', color = 'black', label = 'Weight decay')\n",
    "ax.plot(0.11*np.exp(-np.arange(0,1000,1)/63), lw = 2.0, ls = '--', color = 'black', label = 'Expontential decay')\n",
    "ax.set_xlabel(r'Epochs')\n",
    "ax.set_ylabel('$w^{[3]}_{12,5}$')\n",
    "#ax.set_ylim(10e-15,25)\n",
    "ax.set_xlim(0,400)\n",
    "#ax.text(200, 0.08, 'Value after 1000 epochs:\\n            $2\\cdot 10^{-21}$', fontsize = 13)\n",
    "#ax.text(12.5, 10, 'More\\nregularization', fontsize = 13)\n",
    "plt.legend(bbox_to_anchor=(1.05, 1), loc=2, borderaxespad=0.)\n",
    "\n",
    "fig.savefig('Figure_5-10'+'.png', format='png', dpi=300,bbox_inches='tight')"
   ]
  },
  {
   "cell_type": "markdown",
   "metadata": {},
   "source": [
    "# How many weights are zero?"
   ]
  },
  {
   "cell_type": "code",
   "execution_count": 197,
   "metadata": {},
   "outputs": [
    {
     "data": {
      "text/plain": [
       "1.3000234e-05"
      ]
     },
     "execution_count": 197,
     "metadata": {},
     "output_type": "execute_result"
    }
   ],
   "source": [
    "np.min(np.abs(weights5))"
   ]
  },
  {
   "cell_type": "code",
   "execution_count": 211,
   "metadata": {},
   "outputs": [
    {
     "name": "stdout",
     "output_type": "stream",
     "text": [
      "0.0\n",
      "9.5\n",
      "11.25\n",
      "12.75\n",
      "0.0\n"
     ]
    }
   ],
   "source": [
    "print((np.sum(np.abs(weights1)< 1e-20))/weights1.size*100.0)\n",
    "print((np.sum(np.abs(weights2)< 1e-20))/weights2.size*100.0)\n",
    "print((np.sum(np.abs(weights3)< 1e-20))/weights3.size*100.0)\n",
    "print((np.sum(np.abs(weights4)< 1e-20))/weights4.size*100.0)\n",
    "print((np.sum(np.abs(weights5)< 1e-20))/weights5.size*100.0)"
   ]
  },
  {
   "cell_type": "code",
   "execution_count": 123,
   "metadata": {},
   "outputs": [],
   "source": [
    "def eval_weights_stats(W):\n",
    "    w_zero_count = np.sum(W < 1e-2)\n",
    "    return w_zero_count "
   ]
  },
  {
   "cell_type": "code",
   "execution_count": 124,
   "metadata": {},
   "outputs": [
    {
     "data": {
      "text/plain": [
       "0.67142857142857137"
      ]
     },
     "execution_count": 124,
     "metadata": {},
     "output_type": "execute_result"
    }
   ],
   "source": [
    "(eval_weights_stats(weights1)+\\\n",
    "eval_weights_stats(weights2)+\\\n",
    "eval_weights_stats(weights3)+\\\n",
    "eval_weights_stats(weights4)+\\\n",
    "eval_weights_stats(weights5))/(weights1.size + weights2.size + weights3.size + weights4.size + weights5.size)"
   ]
  },
  {
   "cell_type": "code",
   "execution_count": 111,
   "metadata": {},
   "outputs": [
    {
     "data": {
      "image/png": "[encoded data removed]",
      "text/plain": [
       "<matplotlib.figure.Figure at 0x2c584bd4fd0>"
      ]
     },
     "metadata": {},
     "output_type": "display_data"
    }
   ],
   "source": [
    "pred = tf.less(y_, 0.5)\n",
    "zpred = sess.run(pred, feed_dict={X:train_x, Y: train_y, learning_rate: 0.005})\n",
    "\n",
    "xx, yy, Z = make_mesh_predict_tf(0.001, c, pred)\n",
    "\n",
    "print_decision_boundary(xx, yy, Z, c, yyL)"
   ]
  },
  {
   "cell_type": "code",
   "execution_count": 112,
   "metadata": {},
   "outputs": [
    {
     "data": {
      "image/png": "[encoded data removed]",
      "text/plain": [
       "<matplotlib.figure.Figure at 0x2c5803e9a90>"
      ]
     },
     "metadata": {},
     "output_type": "display_data"
    }
   ],
   "source": [
    "fig = plt.figure(1, figsize=(9, 7))\n",
    "plt.pcolormesh(xx1, yy1, Z1, cmap='Greys', alpha = 0.02)  # plt.cm.Paired\n",
    "plt.pcolormesh(xx, yy, Z, cmap='Greys', alpha = 0.02)  # plt.cm.Paired\n",
    "\n",
    "    # Plot also the training points\n",
    "plt.scatter(c[:, 0], c[:, 1], c=yyL*100, edgecolors='k',  s= 40, cmap = 'gray')  # cmap=plt.cm.Paired\n",
    "plt.xlabel('$x$')\n",
    "plt.ylabel('$y$')\n",
    "\n",
    "plt.xlim(xx.min(), xx.max())\n",
    "plt.ylim(yy.min(), yy.max())\n",
    "plt.xticks(())\n",
    "plt.yticks(())\n",
    "\n",
    "plt.show()\n",
    "fig.savefig('Figure_5-X'+'.png', format='png', dpi=300,bbox_inches='tight')"
   ]
  },
  {
   "cell_type": "markdown",
   "metadata": {},
   "source": [
    "# L1 Regularization"
   ]
  },
  {
   "cell_type": "code",
   "execution_count": 170,
   "metadata": {},
   "outputs": [],
   "source": [
    "tf.reset_default_graph()\n",
    "\n",
    "n_dim = 2\n",
    "n1 = 20\n",
    "n2 = 20\n",
    "n3 = 20\n",
    "n4 = 20\n",
    "n_outputs = 1\n",
    "\n",
    "\n",
    "tf.set_random_seed(5)\n",
    "\n",
    "X = tf.placeholder(tf.float32, [n_dim, None])\n",
    "Y = tf.placeholder(tf.float32, [1, None])\n",
    "\n",
    "learning_rate = tf.placeholder(tf.float32, shape=())\n",
    "lambd = tf.placeholder(tf.float32, shape=())\n",
    "\n",
    "hidden1, W1, b1 = create_layer (X, n1, activation = tf.nn.relu)\n",
    "hidden2, W2, b2 = create_layer (hidden1, n2, activation = tf.nn.relu)\n",
    "hidden3, W3, b3 = create_layer (hidden2, n3, activation = tf.nn.relu)\n",
    "hidden4, W4, b4 = create_layer (hidden3, n4, activation = tf.nn.relu)\n",
    "y_, W5, b5 = create_layer (hidden4, n_outputs, activation = tf.sigmoid)\n",
    "#y_ = tf.nn.softmax(outputs)\n",
    "\n",
    "#cost = - tf.reduce_mean(Y * tf.log(y_)+(1-Y) * tf.log(1-y_))\n",
    "#optimizer = tf.train.GradientDescentOptimizer(learning_rate).minimize(cost)\n",
    "\n",
    "reg = tf.reduce_sum(tf.abs(W1))+tf.reduce_sum(tf.abs(W2))+tf.reduce_sum(tf.abs(W3))+\\\n",
    "        tf.reduce_sum(tf.abs(W4))+tf.reduce_sum(tf.abs(W5))\n",
    "\n",
    "#cost_mse = tf.reduce_mean(tf.square(y_-Y))\n",
    "#y_ = tf.sigmoid(tf.matmul(W,X)+b)\n",
    "cost_class = - tf.reduce_mean(Y * tf.log(y_)+(1-Y) * tf.log(1-y_))\n",
    "\n",
    "cost = tf.reduce_mean(cost_class + lambd*reg)\n",
    "\n",
    "# Adam\n",
    "optimizer = tf.train.AdamOptimizer(learning_rate = learning_rate, beta1 = 0.9, beta2 = 0.999, epsilon = 1e-8).minimize(cost)"
   ]
  },
  {
   "cell_type": "code",
   "execution_count": 171,
   "metadata": {},
   "outputs": [],
   "source": [
    "def model(training_epochs, features, target, logging_step = 100, learning_r = 0.001, lambd_val = 0.1):\n",
    "    sess = tf.Session()\n",
    "    sess.run(tf.global_variables_initializer())\n",
    "\n",
    "    cost_history = []\n",
    "    for epoch in range(training_epochs+1):\n",
    "        \n",
    "        sess.run(optimizer, feed_dict = {X: features, Y: target, learning_rate: learning_r, lambd: lambd_val})\n",
    "        cost_ = sess.run(cost_class, feed_dict={ X:features, Y: target, learning_rate: learning_r, lambd: lambd_val})\n",
    "        cost_history = np.append(cost_history, cost_)\n",
    "\n",
    "        if (epoch % logging_step == 0):\n",
    "                #pred_y_test = sess.run(y_, feed_dict = {X: dev_x, Y: dev_y})\n",
    "                print(\"Reached epoch\",epoch,\"cost J =\", cost_)\n",
    "                #print(\"Training MSE = \", cost_)\n",
    "                #print(\"Dev MSE      = \", sess.run(cost_mse, feed_dict = {X: dev_x, Y: dev_y}))\n",
    "                \n",
    "    return sess, cost_history"
   ]
  },
  {
   "cell_type": "code",
   "execution_count": 190,
   "metadata": {},
   "outputs": [
    {
     "name": "stdout",
     "output_type": "stream",
     "text": [
      "Reached epoch 0 cost J = 0.6932\n",
      "Reached epoch 1000 cost J = 0.693147\n",
      "Reached epoch 2000 cost J = 0.693147\n",
      "Reached epoch 3000 cost J = 0.693147\n",
      "Reached epoch 4000 cost J = 0.693147\n",
      "Reached epoch 5000 cost J = 0.693147\n"
     ]
    }
   ],
   "source": [
    "sess, cost_history = model(learning_r = 1e-3, \n",
    "                                training_epochs = 5000, \n",
    "                                features = train_x/10.0, \n",
    "                                target = train_y,\n",
    "                                logging_step = 1000,\n",
    "                                lambd_val = 1.0)"
   ]
  },
  {
   "cell_type": "code",
   "execution_count": 191,
   "metadata": {},
   "outputs": [
    {
     "name": "stdout",
     "output_type": "stream",
     "text": [
      "0.5\n"
     ]
    }
   ],
   "source": [
    "correct_prediction1=tf.equal(tf.greater(y_, 0.5), tf.equal(Y,1))\n",
    "accuracy1 = tf.reduce_mean(tf.cast(correct_prediction1, tf.float32))\n",
    "\n",
    "print(sess.run(accuracy1, feed_dict={X:train_x/10.0, Y: train_y, learning_rate: 1e-3}))"
   ]
  },
  {
   "cell_type": "code",
   "execution_count": 192,
   "metadata": {},
   "outputs": [],
   "source": [
    "weights1_ = sess.run(W1,  feed_dict = {X: train_x, Y: train_y, learning_rate: 0.01, lambd: 0.1})\n",
    "weights2_ = sess.run(W2,  feed_dict = {X: train_x, Y: train_y, learning_rate: 0.01, lambd: 0.1})\n",
    "weights3_ = sess.run(W3,  feed_dict = {X: train_x, Y: train_y, learning_rate: 0.01, lambd: 0.1})\n",
    "weights4_ = sess.run(W4,  feed_dict = {X: train_x, Y: train_y, learning_rate: 0.01, lambd: 0.1})\n",
    "weights5_ = sess.run(W5,  feed_dict = {X: train_x, Y: train_y, learning_rate: 0.01, lambd: 0.1})"
   ]
  },
  {
   "cell_type": "code",
   "execution_count": 193,
   "metadata": {},
   "outputs": [
    {
     "data": {
      "text/plain": [
       "0.00012859399"
      ]
     },
     "execution_count": 193,
     "metadata": {},
     "output_type": "execute_result"
    }
   ],
   "source": [
    "np.min(np.abs(weights5))"
   ]
  },
  {
   "cell_type": "code",
   "execution_count": 194,
   "metadata": {},
   "outputs": [
    {
     "name": "stdout",
     "output_type": "stream",
     "text": [
      "0.0\n",
      "0.0\n",
      "10.0\n",
      "5.0\n",
      "5.0\n"
     ]
    }
   ],
   "source": [
    "print((np.sum(np.abs(weights1_)<1e-15))/weights1_.size*100.0)\n",
    "print((np.sum(np.abs(weights2_)<1e-15))/weights2_.size*100.0)\n",
    "print((np.sum(np.abs(weights3_)<1e-5))/weights3_.size*100.0)\n",
    "print((np.sum(np.abs(weights4_)< 1e-5))/weights4_.size*100.0)\n",
    "print((np.sum(np.abs(weights5_)< 1e-5))/weights5_.size*100.0)"
   ]
  }
 ],
 "metadata": {
  "kernelspec": {
   "display_name": "Python 3",
   "language": "python",
   "name": "python3"
  },
  "language_info": {
   "codemirror_mode": {
    "name": "ipython",
    "version": 3
   },
   "file_extension": ".py",
   "mimetype": "text/x-python",
   "name": "python",
   "nbconvert_exporter": "python",
   "pygments_lexer": "ipython3",
   "version": "3.7.2"
  }
 },
 "nbformat": 4,
 "nbformat_minor": 2
}
