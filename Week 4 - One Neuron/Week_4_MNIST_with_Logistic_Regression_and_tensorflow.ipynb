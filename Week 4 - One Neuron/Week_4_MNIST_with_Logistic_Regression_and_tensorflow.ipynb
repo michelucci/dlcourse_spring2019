{
  "nbformat": 4,
  "nbformat_minor": 0,
  "metadata": {
    "colab": {
      "name": "Week 4 - MNIST with Logistic Regression and tensorflow.ipynb",
      "version": "0.3.2",
      "provenance": [],
      "collapsed_sections": [
        "XrU_8CP982w3"
      ],
      "include_colab_link": true
    },
    "kernelspec": {
      "name": "python3",
      "display_name": "Python 3"
    },
    "accelerator": "GPU"
  },
  "cells": [
    {
      "cell_type": "markdown",
      "metadata": {
        "id": "view-in-github",
        "colab_type": "text"
      },
      "source": [
        "<a href=\"https://colab.research.google.com/github/michelucci/zhaw-dlcourse-spring2019/blob/master/Week%204%20-%20One%20Neuron/Week_4_MNIST_with_Logistic_Regression_and_tensorflow.ipynb\" target=\"_parent\"><img src=\"https://colab.research.google.com/assets/colab-badge.svg\" alt=\"Open In Colab\"/></a>"
      ]
    },
    {
      "metadata": {
        "id": "1wfpbX3782vF",
        "colab_type": "text"
      },
      "cell_type": "markdown",
      "source": [
        "# Neural Networks and Deep Learning for Life Sciences and Health Applications - An introductory course about theoretical fundamentals, case studies and implementations in python and tensorflow"
      ]
    },
    {
      "metadata": {
        "id": "XrfOGlK182vI",
        "colab_type": "text"
      },
      "cell_type": "markdown",
      "source": [
        "(C) Umberto Michelucci 2018 - umberto.michelucci@gmail.com \n",
        "\n",
        "github repository: https://github.com/michelucci/zhaw-dlcourse-spring2019\n",
        "\n",
        "Spring Semester 2019"
      ]
    },
    {
      "metadata": {
        "id": "CrSyGSTz82vJ",
        "colab_type": "text"
      },
      "cell_type": "markdown",
      "source": [
        "# Python implementation of Logistic Regression with tensorflow"
      ]
    },
    {
      "metadata": {
        "id": "p8pLxvJU82vJ",
        "colab_type": "text"
      },
      "cell_type": "markdown",
      "source": [
        "### Abstract"
      ]
    },
    {
      "metadata": {
        "id": "huikQt_Z82vK",
        "colab_type": "text"
      },
      "cell_type": "markdown",
      "source": [
        "In this notebook I develop a complete version of Logistic Regression with one neuron. I apply the model to a subset of MNIST data containing only the digits 1 and 2 (see the data preparation part to see how to do it) to do binary classification. "
      ]
    },
    {
      "metadata": {
        "id": "3FBMIseX82vL",
        "colab_type": "text"
      },
      "cell_type": "markdown",
      "source": [
        "## Libraries"
      ]
    },
    {
      "metadata": {
        "id": "YssDq3Sd82vM",
        "colab_type": "code",
        "colab": {}
      },
      "cell_type": "code",
      "source": [
        "import numpy as np\n",
        "from sklearn.datasets import fetch_mldata\n",
        "\n",
        "%matplotlib inline\n",
        "\n",
        "import matplotlib\n",
        "import matplotlib.pyplot as plt\n",
        "\n",
        "from random import *"
      ],
      "execution_count": 0,
      "outputs": []
    },
    {
      "metadata": {
        "id": "GICXnP5-82vQ",
        "colab_type": "text"
      },
      "cell_type": "markdown",
      "source": [
        "## Data preparation"
      ]
    },
    {
      "metadata": {
        "id": "QWGdExZ282vR",
        "colab_type": "text"
      },
      "cell_type": "markdown",
      "source": [
        "To get MNIST data we use the function fetch_mldata, in the datasets package. Let's get all the dataset, and then we will select only the digits we want."
      ]
    },
    {
      "metadata": {
        "id": "x1Ov4m8V82vR",
        "colab_type": "code",
        "colab": {
          "base_uri": "https://localhost:8080/",
          "height": 51
        },
        "outputId": "d04e8fca-58ff-4227-cee6-f70cb42e268d"
      },
      "cell_type": "code",
      "source": [
        "import tensorflow as tf\n",
        "mnist = tf.keras.datasets.mnist\n",
        "\n",
        "(x_train, y_train),(x_test, y_test) = mnist.load_data()\n",
        "x_train, x_test = x_train / 255.0, x_test / 255.0"
      ],
      "execution_count": 2,
      "outputs": [
        {
          "output_type": "stream",
          "text": [
            "Downloading data from https://storage.googleapis.com/tensorflow/tf-keras-datasets/mnist.npz\n",
            "11493376/11490434 [==============================] - 0s 0us/step\n"
          ],
          "name": "stdout"
        }
      ]
    },
    {
      "metadata": {
        "id": "N_XYZroTm4yO",
        "colab_type": "code",
        "outputId": "ebcf69f7-5600-4fea-e7d9-d01e69e690e8",
        "colab": {
          "base_uri": "https://localhost:8080/",
          "height": 34
        }
      },
      "cell_type": "code",
      "source": [
        "x_train.shape"
      ],
      "execution_count": 3,
      "outputs": [
        {
          "output_type": "execute_result",
          "data": {
            "text/plain": [
              "(60000, 28, 28)"
            ]
          },
          "metadata": {
            "tags": []
          },
          "execution_count": 3
        }
      ]
    },
    {
      "metadata": {
        "id": "6PEHQCg282vW",
        "colab_type": "code",
        "colab": {}
      },
      "cell_type": "code",
      "source": [
        "Xinput_,yinput_ = x_train, y_train\n",
        "\n",
        "Xinput_ = x_train.reshape(60000,784)\n",
        "yinput_ = y_train.reshape(60000,)\n",
        "\n",
        "#X,y = mnist[\"data\"], mnist[\"target\"]\n",
        "\n",
        "X = Xinput_\n",
        "y = yinput_"
      ],
      "execution_count": 0,
      "outputs": []
    },
    {
      "metadata": {
        "id": "Kul0GXg_82ve",
        "colab_type": "text"
      },
      "cell_type": "markdown",
      "source": [
        "To know how many digits we have we can run this simple code"
      ]
    },
    {
      "metadata": {
        "id": "LKUdEMgV82vf",
        "colab_type": "code",
        "outputId": "9c084535-5149-43f5-c439-c9787d4bf450",
        "colab": {
          "base_uri": "https://localhost:8080/",
          "height": 187
        }
      },
      "cell_type": "code",
      "source": [
        "total = 0\n",
        "for i in range(10):\n",
        "    print (\"digit\", i, \"appear\", np.count_nonzero(y == i), \"times\")"
      ],
      "execution_count": 5,
      "outputs": [
        {
          "output_type": "stream",
          "text": [
            "digit 0 appear 5923 times\n",
            "digit 1 appear 6742 times\n",
            "digit 2 appear 5958 times\n",
            "digit 3 appear 6131 times\n",
            "digit 4 appear 5842 times\n",
            "digit 5 appear 5421 times\n",
            "digit 6 appear 5918 times\n",
            "digit 7 appear 6265 times\n",
            "digit 8 appear 5851 times\n",
            "digit 9 appear 5949 times\n"
          ],
          "name": "stdout"
        }
      ]
    },
    {
      "metadata": {
        "id": "PXK0YERu82vi",
        "colab_type": "code",
        "outputId": "eaa7fe20-47a0-4e47-f1a5-81ae8860bd6f",
        "colab": {
          "base_uri": "https://localhost:8080/",
          "height": 187
        }
      },
      "cell_type": "code",
      "source": [
        "total = 0\n",
        "for i in range(10):\n",
        "    print (\"digit\", i, \"makes\", np.around(np.count_nonzero(y == i)/60000.0*100.0, decimals=1), \"% of the 60000 observations\")"
      ],
      "execution_count": 6,
      "outputs": [
        {
          "output_type": "stream",
          "text": [
            "digit 0 makes 9.9 % of the 60000 observations\n",
            "digit 1 makes 11.2 % of the 60000 observations\n",
            "digit 2 makes 9.9 % of the 60000 observations\n",
            "digit 3 makes 10.2 % of the 60000 observations\n",
            "digit 4 makes 9.7 % of the 60000 observations\n",
            "digit 5 makes 9.0 % of the 60000 observations\n",
            "digit 6 makes 9.9 % of the 60000 observations\n",
            "digit 7 makes 10.4 % of the 60000 observations\n",
            "digit 8 makes 9.8 % of the 60000 observations\n",
            "digit 9 makes 9.9 % of the 60000 observations\n"
          ],
          "name": "stdout"
        }
      ]
    },
    {
      "metadata": {
        "id": "oFHBH41082vk",
        "colab_type": "text"
      },
      "cell_type": "markdown",
      "source": [
        "# Let's check the distribution if we create a dev dataset"
      ]
    },
    {
      "metadata": {
        "id": "0LMciain82vl",
        "colab_type": "code",
        "outputId": "26858ca8-1bcc-4d23-8c90-28b4b4cef9f0",
        "colab": {
          "base_uri": "https://localhost:8080/",
          "height": 51
        }
      },
      "cell_type": "code",
      "source": [
        "np.random.seed(42)\n",
        "rnd = np.random.rand(len(y)) < 0.8\n",
        "\n",
        "train_y = y[rnd]\n",
        "dev_y = y[~rnd]\n",
        "\n",
        "print(train_y.shape)\n",
        "print(dev_y.shape)"
      ],
      "execution_count": 7,
      "outputs": [
        {
          "output_type": "stream",
          "text": [
            "(48061,)\n",
            "(11939,)\n"
          ],
          "name": "stdout"
        }
      ]
    },
    {
      "metadata": {
        "id": "594TwOB-82vo",
        "colab_type": "text"
      },
      "cell_type": "markdown",
      "source": [
        "Note: datasets loaded by scikit-learn have a dictionary structure. \n",
        "\n",
        "- a DESCR structure describing the dataset\n",
        "- a ```data``` key containing an array with one row per instance and one column per feature\n",
        "- a ```target``` with an array with the labels\n",
        "\n",
        "we have 70000 digits available, from 0 to 9. Let's define a helper function that will allow us to visualize the digits."
      ]
    },
    {
      "metadata": {
        "id": "6qB29YBY82vp",
        "colab_type": "code",
        "outputId": "b5021948-eb7c-4e3b-ef2f-99906f6c2e76",
        "colab": {
          "base_uri": "https://localhost:8080/",
          "height": 187
        }
      },
      "cell_type": "code",
      "source": [
        "total = 0\n",
        "for i in range(10):\n",
        "    print (\"digit\", i, \"makes\", np.around(np.count_nonzero(train_y == i)/56056.0*100.0, decimals=1), \"% of the 56056 observations\")"
      ],
      "execution_count": 8,
      "outputs": [
        {
          "output_type": "stream",
          "text": [
            "digit 0 makes 8.5 % of the 56056 observations\n",
            "digit 1 makes 9.7 % of the 56056 observations\n",
            "digit 2 makes 8.5 % of the 56056 observations\n",
            "digit 3 makes 8.7 % of the 56056 observations\n",
            "digit 4 makes 8.3 % of the 56056 observations\n",
            "digit 5 makes 7.8 % of the 56056 observations\n",
            "digit 6 makes 8.5 % of the 56056 observations\n",
            "digit 7 makes 9.0 % of the 56056 observations\n",
            "digit 8 makes 8.4 % of the 56056 observations\n",
            "digit 9 makes 8.4 % of the 56056 observations\n"
          ],
          "name": "stdout"
        }
      ]
    },
    {
      "metadata": {
        "id": "JU_hofto82vy",
        "colab_type": "code",
        "outputId": "c772edab-5b32-4c38-e821-fbc2fde41406",
        "colab": {
          "base_uri": "https://localhost:8080/",
          "height": 51
        }
      },
      "cell_type": "code",
      "source": [
        "total = 0\n",
        "for i in range(2):\n",
        "    print (\"class\", i, \"makes\", np.around(np.count_nonzero(dev_y == i)/13944.0*100.0, decimals=1), \"% of the 13944 observations\")"
      ],
      "execution_count": 9,
      "outputs": [
        {
          "output_type": "stream",
          "text": [
            "class 0 makes 8.5 % of the 13944 observations\n",
            "class 1 makes 9.5 % of the 13944 observations\n"
          ],
          "name": "stdout"
        }
      ]
    },
    {
      "metadata": {
        "id": "WurnTLpG82v2",
        "colab_type": "code",
        "outputId": "f1d5d0b6-f25c-4ae2-8550-2b8f6ef8d29c",
        "colab": {
          "base_uri": "https://localhost:8080/",
          "height": 265
        }
      },
      "cell_type": "code",
      "source": [
        "def plot_digit(some_digit):\n",
        "    \n",
        "    some_digit_image = some_digit.reshape(28,28)\n",
        "\n",
        "    plt.imshow(some_digit_image, cmap = matplotlib.cm.binary, interpolation = \"nearest\")\n",
        "    plt.axis(\"off\")\n",
        "    plt.show()\n",
        "    \n",
        "plot_digit(X[36003])"
      ],
      "execution_count": 10,
      "outputs": [
        {
          "output_type": "display_data",
          "data": {
            "image/png": "[encoded data removed]",
            "text/plain": [
              "<Figure size 432x288 with 1 Axes>"
            ]
          },
          "metadata": {
            "tags": []
          }
        }
      ]
    },
    {
      "metadata": {
        "id": "LpH7GqeT82v8",
        "colab_type": "text"
      },
      "cell_type": "markdown",
      "source": [
        "Let's check the relative label..."
      ]
    },
    {
      "metadata": {
        "id": "hGsxcS8z82v9",
        "colab_type": "code",
        "outputId": "2dd80e66-cc72-4dbc-ebbb-9685e5d123a3",
        "colab": {
          "base_uri": "https://localhost:8080/",
          "height": 34
        }
      },
      "cell_type": "code",
      "source": [
        "y[36003]"
      ],
      "execution_count": 11,
      "outputs": [
        {
          "output_type": "execute_result",
          "data": {
            "text/plain": [
              "7"
            ]
          },
          "metadata": {
            "tags": []
          },
          "execution_count": 11
        }
      ]
    },
    {
      "metadata": {
        "id": "AeWUwEP882v_",
        "colab_type": "text"
      },
      "cell_type": "markdown",
      "source": [
        "### Train and test set preparation"
      ]
    },
    {
      "metadata": {
        "id": "EounVxfL82wA",
        "colab_type": "text"
      },
      "cell_type": "markdown",
      "source": [
        "Let's first reduce our dataset only to 1 and 2 digits."
      ]
    },
    {
      "metadata": {
        "id": "DN70_eKo82wB",
        "colab_type": "code",
        "colab": {}
      },
      "cell_type": "code",
      "source": [
        "X_train = X[np.any([y == 1,y == 2], axis = 0)]\n",
        "y_train = y[np.any([y == 1,y == 2], axis = 0)]"
      ],
      "execution_count": 0,
      "outputs": []
    },
    {
      "metadata": {
        "id": "BCXJlsGq82wD",
        "colab_type": "text"
      },
      "cell_type": "markdown",
      "source": [
        "The size of our dataset is"
      ]
    },
    {
      "metadata": {
        "id": "Dom7_34282wE",
        "colab_type": "code",
        "outputId": "ed48b318-ebe8-4b68-9b52-756feedb2173",
        "colab": {
          "base_uri": "https://localhost:8080/",
          "height": 51
        }
      },
      "cell_type": "code",
      "source": [
        "print(X_train.shape)\n",
        "print(y_train.shape)"
      ],
      "execution_count": 13,
      "outputs": [
        {
          "output_type": "stream",
          "text": [
            "(12700, 784)\n",
            "(12700,)\n"
          ],
          "name": "stdout"
        }
      ]
    },
    {
      "metadata": {
        "id": "5hNRRclt82wH",
        "colab_type": "text"
      },
      "cell_type": "markdown",
      "source": [
        "In our reduced dataset how many 1 and 2 do we have?"
      ]
    },
    {
      "metadata": {
        "id": "yXa1yi6F82wH",
        "colab_type": "code",
        "outputId": "a697b52c-3c32-4941-c897-9ee0fdcb6814",
        "colab": {
          "base_uri": "https://localhost:8080/",
          "height": 51
        }
      },
      "cell_type": "code",
      "source": [
        "print(\"number of 1:\", np.count_nonzero(y_train == 1))\n",
        "print(\"number of 2:\", np.count_nonzero(y_train == 2))"
      ],
      "execution_count": 14,
      "outputs": [
        {
          "output_type": "stream",
          "text": [
            "number of 1: 6742\n",
            "number of 2: 5958\n"
          ],
          "name": "stdout"
        }
      ]
    },
    {
      "metadata": {
        "scrolled": true,
        "id": "O0-NfvcO82wM",
        "colab_type": "code",
        "colab": {}
      },
      "cell_type": "code",
      "source": [
        "X_train_normalised = X_train # Not necessary here. The data is already normalized"
      ],
      "execution_count": 0,
      "outputs": []
    },
    {
      "metadata": {
        "id": "PlydhvaH82wN",
        "colab_type": "text"
      },
      "cell_type": "markdown",
      "source": [
        "Remember that we need features along the rows, and training cases along the columns. So let's reshape our dataset"
      ]
    },
    {
      "metadata": {
        "id": "EKt_auKn82wO",
        "colab_type": "code",
        "outputId": "d6523a48-cf15-4309-de90-9cfcbaf2b59b",
        "colab": {
          "base_uri": "https://localhost:8080/",
          "height": 85
        }
      },
      "cell_type": "code",
      "source": [
        "X_train_tr = X_train_normalised.transpose()\n",
        "y_train_tr = y_train.reshape(1,y_train.shape[0])\n",
        "\n",
        "print(X_train_tr.shape)\n",
        "print(y_train_tr.shape)\n",
        "\n",
        "n_dim = X_train_tr.shape[0]\n",
        "dim_train = X_train_tr.shape[1]\n",
        "\n",
        "\n",
        "print(n_dim)\n",
        "print(\"The training dataset has\", dim_train, \"observations (m).\")"
      ],
      "execution_count": 16,
      "outputs": [
        {
          "output_type": "stream",
          "text": [
            "(784, 12700)\n",
            "(1, 12700)\n",
            "784\n",
            "The training dataset has 12700 observations (m).\n"
          ],
          "name": "stdout"
        }
      ]
    },
    {
      "metadata": {
        "id": "IT_2-eZ082wP",
        "colab_type": "text"
      },
      "cell_type": "markdown",
      "source": [
        "We will need to rescale our lables. Remember we will compare them in the cost function with 0 and 1 (proabilities) and therefore our class labels must be 0 and 1, not 1 and 2. So the following step take care of it."
      ]
    },
    {
      "metadata": {
        "id": "miPHcYSw82wQ",
        "colab_type": "code",
        "colab": {}
      },
      "cell_type": "code",
      "source": [
        "y_train_shifted = y_train_tr - 1"
      ],
      "execution_count": 0,
      "outputs": []
    },
    {
      "metadata": {
        "id": "uMNTIxgH82wS",
        "colab_type": "code",
        "outputId": "4a24bfeb-d8b8-47a0-973e-f1f901b80a98",
        "colab": {
          "base_uri": "https://localhost:8080/",
          "height": 1325
        }
      },
      "cell_type": "code",
      "source": [
        "plot_digit(X_train_tr[:,1005])\n",
        "print(y_train_shifted[:,1005])\n",
        "plot_digit(X_train_tr[:,8000])\n",
        "print(y_train_shifted[:,8000])\n",
        "plot_digit(X_train_tr[:,456])\n",
        "print(y_train_shifted[:,456])\n",
        "plot_digit(X_train_tr[:,567])\n",
        "print(y_train_shifted[:,567])\n",
        "\n",
        "Xtrain = X_train_tr\n",
        "ytrain = y_train_shifted\n",
        "\n",
        "plot_digit(Xtrain[:,1005])"
      ],
      "execution_count": 18,
      "outputs": [
        {
          "output_type": "display_data",
          "data": {
            "image/png": "[encoded data removed]",
            "text/plain": [
              "<Figure size 432x288 with 1 Axes>"
            ]
          },
          "metadata": {
            "tags": []
          }
        },
        {
          "output_type": "stream",
          "text": [
            "[0]\n"
          ],
          "name": "stdout"
        },
        {
          "output_type": "display_data",
          "data": {
            "image/png": "[encoded data removed]",
            "text/plain": [
              "<Figure size 432x288 with 1 Axes>"
            ]
          },
          "metadata": {
            "tags": []
          }
        },
        {
          "output_type": "stream",
          "text": [
            "[1]\n"
          ],
          "name": "stdout"
        },
        {
          "output_type": "display_data",
          "data": {
            "image/png": "[encoded data removed]",
            "text/plain": [
              "<Figure size 432x288 with 1 Axes>"
            ]
          },
          "metadata": {
            "tags": []
          }
        },
        {
          "output_type": "stream",
          "text": [
            "[0]\n"
          ],
          "name": "stdout"
        },
        {
          "output_type": "display_data",
          "data": {
            "image/png": "[encoded data removed]",
            "text/plain": [
              "<Figure size 432x288 with 1 Axes>"
            ]
          },
          "metadata": {
            "tags": []
          }
        },
        {
          "output_type": "stream",
          "text": [
            "[0]\n"
          ],
          "name": "stdout"
        },
        {
          "output_type": "display_data",
          "data": {
            "image/png": "[encoded data removed]",
            "text/plain": [
              "<Figure size 432x288 with 1 Axes>"
            ]
          },
          "metadata": {
            "tags": []
          }
        }
      ]
    },
    {
      "metadata": {
        "id": "K1hZGbZ782wU",
        "colab_type": "code",
        "outputId": "291ac5d5-c931-44ab-f0a7-e7d472c6abf3",
        "colab": {
          "base_uri": "https://localhost:8080/",
          "height": 769
        }
      },
      "cell_type": "code",
      "source": [
        "f = plt.figure(figsize=(12,12));\n",
        "count = 1\n",
        "for i in sample(range(12000), 9):\n",
        "    #randint(1, 12000),randint(1, 12000),randint(1, 12000),randint(1, 12000),randint(1, 12000),randint(1, 12000)]:\n",
        "    plt.subplot(3,3,count)\n",
        "    count = count + 1\n",
        "    plt.subplots_adjust(hspace=0.5)\n",
        "    plt.title(ytrain[:,i])\n",
        "    some_digit_image = Xtrain[:,i].reshape(28,28)\n",
        "    plt.imshow(some_digit_image, cmap = matplotlib.cm.binary, interpolation = \"nearest\")\n",
        "    plt.axis(\"off\")\n",
        "    pass"
      ],
      "execution_count": 19,
      "outputs": [
        {
          "output_type": "stream",
          "text": [
            "/usr/local/lib/python3.6/dist-packages/matplotlib/text.py:1191: FutureWarning: elementwise comparison failed; returning scalar instead, but in the future will perform elementwise comparison\n",
            "  if s != self._text:\n"
          ],
          "name": "stderr"
        },
        {
          "output_type": "display_data",
          "data": {
            "image/png": "[encoded data removed]",
            "text/plain": [
              "<Figure size 864x864 with 9 Axes>"
            ]
          },
          "metadata": {
            "tags": []
          }
        }
      ]
    },
    {
      "metadata": {
        "id": "2EAlm2nC82wW",
        "colab_type": "text"
      },
      "cell_type": "markdown",
      "source": [
        "# Tensorflow Implementation"
      ]
    },
    {
      "metadata": {
        "id": "TuDHrINL82wW",
        "colab_type": "code",
        "colab": {}
      },
      "cell_type": "code",
      "source": [
        "import tensorflow as tf"
      ],
      "execution_count": 0,
      "outputs": []
    },
    {
      "metadata": {
        "id": "tGwfDHx482wY",
        "colab_type": "code",
        "outputId": "62e85c87-7ef2-4152-9f25-aad3cb7e5d9f",
        "colab": {
          "base_uri": "https://localhost:8080/",
          "height": 51
        }
      },
      "cell_type": "code",
      "source": [
        "print(Xtrain.shape)\n",
        "print(ytrain.shape)"
      ],
      "execution_count": 21,
      "outputs": [
        {
          "output_type": "stream",
          "text": [
            "(784, 12700)\n",
            "(1, 12700)\n"
          ],
          "name": "stdout"
        }
      ]
    },
    {
      "metadata": {
        "id": "fxRT5bIt82wa",
        "colab_type": "code",
        "colab": {
          "base_uri": "https://localhost:8080/",
          "height": 108
        },
        "outputId": "bf3d7d05-4106-4da8-bde6-bd79dde8985b"
      },
      "cell_type": "code",
      "source": [
        "tf.reset_default_graph()\n",
        "\n",
        "X = tf.placeholder(tf.float32, [n_dim, None])\n",
        "Y = tf.placeholder(tf.float32, [1, None])\n",
        "learning_rate = tf.placeholder(tf.float32, shape=())\n",
        "\n",
        "#W = tf.Variable(tf.random_normal([1, n_dim]))/1000.0\n",
        "W = tf.Variable(tf.zeros([1, n_dim]))\n",
        "#b = tf.Variable(tf.random_normal([1]))/10.0\n",
        "b = tf.Variable(tf.zeros(1))\n",
        "\n",
        "init = tf.global_variables_initializer()"
      ],
      "execution_count": 23,
      "outputs": [
        {
          "output_type": "stream",
          "text": [
            "WARNING:tensorflow:From /usr/local/lib/python3.6/dist-packages/tensorflow/python/framework/op_def_library.py:263: colocate_with (from tensorflow.python.framework.ops) is deprecated and will be removed in a future version.\n",
            "Instructions for updating:\n",
            "Colocations handled automatically by placer.\n"
          ],
          "name": "stdout"
        }
      ]
    },
    {
      "metadata": {
        "id": "pV7mNopY82wb",
        "colab_type": "code",
        "colab": {}
      },
      "cell_type": "code",
      "source": [
        "y_ = tf.sigmoid(tf.matmul(W,X)+b)\n",
        "cost = - tf.reduce_mean(Y * tf.log(y_)+(1-Y) * tf.log(1-y_))\n",
        "training_step = tf.train.GradientDescentOptimizer(learning_rate).minimize(cost)"
      ],
      "execution_count": 0,
      "outputs": []
    },
    {
      "metadata": {
        "id": "2Jk45YrS82wc",
        "colab_type": "code",
        "colab": {}
      },
      "cell_type": "code",
      "source": [
        "def run_logistic_model(learning_r, training_epochs, train_obs, train_labels, debug = False):\n",
        "    sess = tf.Session()\n",
        "    sess.run(init)\n",
        "    \n",
        "    cost_history = np.empty(shape=[0], dtype = float)\n",
        "\n",
        "    for epoch in range(training_epochs+1):\n",
        "        \n",
        "        sess.run(training_step, feed_dict = {X: train_obs, Y: train_labels, learning_rate: learning_r})\n",
        "\n",
        "        cost_ = sess.run(cost, feed_dict={ X:train_obs, Y: train_labels, learning_rate: learning_r})\n",
        "        cost_history = np.append(cost_history, cost_)\n",
        "        \n",
        "        if (epoch % 50 == 0) & debug:\n",
        "            print(\"Reached epoch\",epoch,\"cost J =\", str.format('{0:.6f}', cost_))\n",
        "            \n",
        "    return sess, cost_history"
      ],
      "execution_count": 0,
      "outputs": []
    },
    {
      "metadata": {
        "id": "h70JJBIK82we",
        "colab_type": "code",
        "outputId": "ccb58d88-8ef5-43ec-aaee-c26fbfe4ec67",
        "colab": {
          "base_uri": "https://localhost:8080/",
          "height": 51
        }
      },
      "cell_type": "code",
      "source": [
        "sess = tf.Session()\n",
        "sess.run(init)\n",
        "print(sess.run(y_, feed_dict={X:Xtrain, Y: ytrain, learning_rate: 2}))\n",
        "print(sess.run(cost, feed_dict={X:Xtrain, Y: ytrain, learning_rate: 2}))\n",
        "sess.close()"
      ],
      "execution_count": 28,
      "outputs": [
        {
          "output_type": "stream",
          "text": [
            "[[0.5 0.5 0.5 ... 0.5 0.5 0.5]]\n",
            "0.6931471\n"
          ],
          "name": "stdout"
        }
      ]
    },
    {
      "metadata": {
        "id": "iooyXAUa82wg",
        "colab_type": "code",
        "outputId": "1259d16e-7710-489f-c9f1-082358727fe9",
        "colab": {
          "base_uri": "https://localhost:8080/",
          "height": 102
        }
      },
      "cell_type": "code",
      "source": [
        "sess, cost_history1 = run_logistic_model(learning_r = 0.01, \n",
        "                                training_epochs = 200, \n",
        "                                train_obs = Xtrain, \n",
        "                                train_labels = ytrain, \n",
        "                                debug = True)"
      ],
      "execution_count": 29,
      "outputs": [
        {
          "output_type": "stream",
          "text": [
            "Reached epoch 0 cost J = 0.678590\n",
            "Reached epoch 50 cost J = 0.346051\n",
            "Reached epoch 100 cost J = 0.248148\n",
            "Reached epoch 150 cost J = 0.201335\n",
            "Reached epoch 200 cost J = 0.173339\n"
          ],
          "name": "stdout"
        }
      ]
    },
    {
      "metadata": {
        "id": "OhVTAq-i82wi",
        "colab_type": "code",
        "outputId": "f3e14654-0858-4bd3-9634-c839b6cb53dd",
        "colab": {
          "base_uri": "https://localhost:8080/",
          "height": 204
        }
      },
      "cell_type": "code",
      "source": [
        "sess, cost_history2 = run_logistic_model(learning_r = 0.005, \n",
        "                                training_epochs = 500, \n",
        "                                train_obs = Xtrain, \n",
        "                                train_labels = ytrain, \n",
        "                                debug = True) "
      ],
      "execution_count": 30,
      "outputs": [
        {
          "output_type": "stream",
          "text": [
            "Reached epoch 0 cost J = 0.685825\n",
            "Reached epoch 50 cost J = 0.455052\n",
            "Reached epoch 100 cost J = 0.348151\n",
            "Reached epoch 150 cost J = 0.287835\n",
            "Reached epoch 200 cost J = 0.249138\n",
            "Reached epoch 250 cost J = 0.222057\n",
            "Reached epoch 300 cost J = 0.201924\n",
            "Reached epoch 350 cost J = 0.186287\n",
            "Reached epoch 400 cost J = 0.173737\n",
            "Reached epoch 450 cost J = 0.163404\n",
            "Reached epoch 500 cost J = 0.154723\n"
          ],
          "name": "stdout"
        }
      ]
    },
    {
      "metadata": {
        "id": "fXeNT6KQ82wl",
        "colab_type": "text"
      },
      "cell_type": "markdown",
      "source": [
        "# Plot of the cost function vs. the number of epochs"
      ]
    },
    {
      "metadata": {
        "id": "ZZ3THI_o82wm",
        "colab_type": "code",
        "outputId": "40e8e107-0819-434b-df96-8591f6c13d91",
        "colab": {
          "base_uri": "https://localhost:8080/",
          "height": 578
        }
      },
      "cell_type": "code",
      "source": [
        "plt.rc('font', family='arial')\n",
        "plt.rc('xtick', labelsize='x-small')\n",
        "plt.rc('ytick', labelsize='x-small')\n",
        "    \n",
        "plt.tight_layout()\n",
        "\n",
        "fig = plt.figure(figsize=(10,8))\n",
        "ax = fig.add_subplot(1, 1, 1)\n",
        "ax.plot(cost_history1, ls='solid', color = 'black', label = '$\\gamma = 0.01$')\n",
        "ax.plot(cost_history2, ls='solid', color = 'red', label = '$\\gamma = 0.05$')\n",
        "ax.set_xlabel('epochs', fontsize = 16)\n",
        "ax.set_ylabel('Cost function $J$', fontsize = 16)\n",
        "\n",
        "plt.legend(bbox_to_anchor=(1.05, 1), loc=2, borderaxespad=0., fontsize = 16)\n",
        "plt.tick_params(labelsize=16)"
      ],
      "execution_count": 31,
      "outputs": [
        {
          "output_type": "display_data",
          "data": {
            "text/plain": [
              "<Figure size 432x288 with 0 Axes>"
            ]
          },
          "metadata": {
            "tags": []
          }
        },
        {
          "output_type": "stream",
          "text": [
            "/usr/local/lib/python3.6/dist-packages/matplotlib/font_manager.py:1241: UserWarning: findfont: Font family ['arial'] not found. Falling back to DejaVu Sans.\n",
            "  (prop.get_family(), self.defaultFamily[fontext]))\n"
          ],
          "name": "stderr"
        },
        {
          "output_type": "display_data",
          "data": {
            "image/png": "[encoded data removed]",
            "text/plain": [
              "<Figure size 720x576 with 1 Axes>"
            ]
          },
          "metadata": {
            "tags": []
          }
        }
      ]
    },
    {
      "metadata": {
        "id": "R_ja3sf882wo",
        "colab_type": "text"
      },
      "cell_type": "markdown",
      "source": [
        "**CAREFUL** it will take some time to run!"
      ]
    },
    {
      "metadata": {
        "id": "e9T6KEGQ82wp",
        "colab_type": "code",
        "outputId": "f867e247-e4c6-4a80-849f-e606a9371dfd",
        "colab": {}
      },
      "cell_type": "code",
      "source": [
        "sess, cost_history = run_logistic_model(learning_r = 0.05, \n",
        "                                training_epochs = 750, \n",
        "                                train_obs = Xtrain, \n",
        "                                train_labels = ytrain, \n",
        "                                debug = True)"
      ],
      "execution_count": 0,
      "outputs": [
        {
          "output_type": "stream",
          "text": [
            "Reached epoch 0 cost J = 0.623632\n",
            "Reached epoch 250 cost J = 0.071436\n",
            "Reached epoch 500 cost J = 0.054990\n",
            "Reached epoch 750 cost J = nan\n"
          ],
          "name": "stdout"
        }
      ]
    },
    {
      "metadata": {
        "id": "HiZDK6Og82wr",
        "colab_type": "code",
        "outputId": "e2450ff5-27a7-4321-de4c-a8e26a864a5b",
        "colab": {}
      },
      "cell_type": "code",
      "source": [
        "sess, cost_history = run_logistic_model(learning_r = 1e-3, \n",
        "                                training_epochs = 1500, \n",
        "                                train_obs = Xtrain, \n",
        "                                train_labels = ytrain, \n",
        "                                debug = True)"
      ],
      "execution_count": 0,
      "outputs": [
        {
          "output_type": "stream",
          "text": [
            "Reached epoch 0 cost J = 0.691670\n",
            "Reached epoch 250 cost J = 0.457857\n",
            "Reached epoch 500 cost J = 0.349886\n",
            "Reached epoch 750 cost J = 0.289003\n",
            "Reached epoch 1000 cost J = 0.249949\n",
            "Reached epoch 1250 cost J = 0.222616\n",
            "Reached epoch 1500 cost J = 0.202293\n"
          ],
          "name": "stdout"
        }
      ]
    },
    {
      "metadata": {
        "id": "WM3IGl9W82wu",
        "colab_type": "code",
        "outputId": "c757f1c8-6eec-494c-f734-755095ff0792",
        "colab": {
          "base_uri": "https://localhost:8080/",
          "height": 34
        }
      },
      "cell_type": "code",
      "source": [
        "correct_prediction1=tf.equal(tf.greater(y_, 0.5), tf.equal(Y,1))\n",
        "\n",
        "accuracy1 = tf.reduce_mean(tf.cast(correct_prediction1, tf.float32))\n",
        "\n",
        "print(sess.run(accuracy1, feed_dict={X:Xtrain, Y: ytrain, learning_rate: 0.05}))"
      ],
      "execution_count": 32,
      "outputs": [
        {
          "output_type": "stream",
          "text": [
            "0.97346455\n"
          ],
          "name": "stdout"
        }
      ]
    },
    {
      "metadata": {
        "id": "EORTcq6Q82ww",
        "colab_type": "code",
        "colab": {}
      },
      "cell_type": "code",
      "source": [
        "plt.rc('font', family='arial')\n",
        "plt.rc('xtick', labelsize='x-small')\n",
        "plt.rc('ytick', labelsize='x-small')\n",
        "    \n",
        "plt.tight_layout()\n",
        "\n",
        "fig = plt.figure(figsize=(10,8))\n",
        "ax = fig.add_subplot(1, 1, 1)\n",
        "ax.plot(cost_history, ls='solid', color = 'black', label = '$\\gamma = 0.001$')\n",
        "ax.set_xlabel('epochs', fontsize = 16)\n",
        "ax.set_ylabel('Cost function $J$', fontsize = 16)\n",
        "\n",
        "plt.legend(bbox_to_anchor=(1.05, 1), loc=2, borderaxespad=0., fontsize = 16)\n",
        "plt.tick_params(labelsize=16)"
      ],
      "execution_count": 0,
      "outputs": []
    },
    {
      "metadata": {
        "scrolled": true,
        "id": "eDtYPLKW82wz",
        "colab_type": "code",
        "outputId": "b98b7d27-0de0-4665-d1d6-0163a756c195",
        "colab": {
          "base_uri": "https://localhost:8080/",
          "height": 68
        }
      },
      "cell_type": "code",
      "source": [
        "print(sess.run(y_, feed_dict={X:Xtrain, Y: ytrain, learning_rate: 0.05}))\n",
        "print(sess.run(tf.greater(y_, 0.5), feed_dict={X:Xtrain, Y: ytrain, learning_rate: 0.05}))\n",
        "print(sess.run(tf.less(y_, 0.5), feed_dict={X:Xtrain, Y: ytrain, learning_rate: 0.05}))"
      ],
      "execution_count": 34,
      "outputs": [
        {
          "output_type": "stream",
          "text": [
            "[[0.13890961 0.938568   0.15331501 ... 0.9679675  0.9059902  0.22339767]]\n",
            "[[False  True False ...  True  True False]]\n",
            "[[ True False  True ... False False  True]]\n"
          ],
          "name": "stdout"
        }
      ]
    },
    {
      "metadata": {
        "id": "XrU_8CP982w3",
        "colab_type": "text"
      },
      "cell_type": "markdown",
      "source": [
        "## Logistic Regression with sklearn"
      ]
    },
    {
      "metadata": {
        "id": "FhZhn4p782w4",
        "colab_type": "text"
      },
      "cell_type": "markdown",
      "source": [
        "As a side note, here is the code to see how easy it is in comparison to do the same with the sklearn library... "
      ]
    },
    {
      "metadata": {
        "id": "2ARGqiHw82w4",
        "colab_type": "code",
        "colab": {}
      },
      "cell_type": "code",
      "source": [
        "from sklearn.linear_model import LogisticRegression\n",
        "\n",
        "logistic = LogisticRegression()"
      ],
      "execution_count": 0,
      "outputs": []
    },
    {
      "metadata": {
        "id": "6QOtDTaW82w6",
        "colab_type": "code",
        "outputId": "37bff3b4-12fc-4890-ac06-2b081ee72489",
        "colab": {}
      },
      "cell_type": "code",
      "source": [
        "XX = Xtrain.T\n",
        "YY = ytrain.T.ravel()\n",
        "\n",
        "logistic.fit(XX,YY)"
      ],
      "execution_count": 0,
      "outputs": [
        {
          "output_type": "execute_result",
          "data": {
            "text/plain": [
              "LogisticRegression(C=1.0, class_weight=None, dual=False, fit_intercept=True,\n",
              "          intercept_scaling=1, max_iter=100, multi_class='ovr', n_jobs=1,\n",
              "          penalty='l2', random_state=None, solver='liblinear', tol=0.0001,\n",
              "          verbose=0, warm_start=False)"
            ]
          },
          "metadata": {
            "tags": []
          },
          "execution_count": 51
        }
      ]
    },
    {
      "metadata": {
        "id": "rR0aErJn82w7",
        "colab_type": "code",
        "outputId": "c0add309-0339-479b-c55f-14e5232967ac",
        "colab": {}
      },
      "cell_type": "code",
      "source": [
        "logistic.score(XX,YY)"
      ],
      "execution_count": 0,
      "outputs": [
        {
          "output_type": "execute_result",
          "data": {
            "text/plain": [
              "0.99582968991726639"
            ]
          },
          "metadata": {
            "tags": []
          },
          "execution_count": 52
        }
      ]
    },
    {
      "metadata": {
        "id": "mASPSDT782w9",
        "colab_type": "text"
      },
      "cell_type": "markdown",
      "source": [
        "The score is calculated as "
      ]
    },
    {
      "metadata": {
        "id": "7NaNrMTK82w-",
        "colab_type": "code",
        "outputId": "a8e012c5-8fb7-4861-a705-0993118b8a33",
        "colab": {}
      },
      "cell_type": "code",
      "source": [
        "sum(logistic.predict(XX) == YY) / len(XX)"
      ],
      "execution_count": 0,
      "outputs": [
        {
          "output_type": "execute_result",
          "data": {
            "text/plain": [
              "0.99582968991726639"
            ]
          },
          "metadata": {
            "tags": []
          },
          "execution_count": 53
        }
      ]
    },
    {
      "metadata": {
        "id": "4GCgjrgO82xA",
        "colab_type": "text"
      },
      "cell_type": "markdown",
      "source": [
        "Check: http://scikit-learn.org/stable/modules/generated/sklearn.linear_model.LogisticRegression.html "
      ]
    },
    {
      "metadata": {
        "id": "ThqfHoKf82xA",
        "colab_type": "code",
        "colab": {}
      },
      "cell_type": "code",
      "source": [
        ""
      ],
      "execution_count": 0,
      "outputs": []
    }
  ]
}