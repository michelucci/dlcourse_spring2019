{
  "nbformat": 4,
  "nbformat_minor": 0,
  "metadata": {
    "colab": {
      "name": "Week 4 - MNIST with Logistic Regression and tensorflow.ipynb",
      "version": "0.3.2",
      "provenance": [],
      "include_colab_link": true
    },
    "kernelspec": {
      "display_name": "Python 3",
      "language": "python",
      "name": "python3"
    }
  },
  "cells": [
    {
      "cell_type": "markdown",
      "metadata": {
        "id": "view-in-github",
        "colab_type": "text"
      },
      "source": [
        "<a href=\"https://colab.research.google.com/github/michelucci/zhaw-dlcourse-spring2019/blob/master/Week%204%20-%20One%20Neuron/Week%204%20-%20MNIST%20with%20Logistic%20Regression%20and%20tensorflow.ipynb\" target=\"_parent\"><img src=\"https://colab.research.google.com/assets/colab-badge.svg\" alt=\"Open In Colab\"/></a>"
      ]
    },
    {
      "metadata": {
        "id": "1wfpbX3782vF",
        "colab_type": "text"
      },
      "cell_type": "markdown",
      "source": [
        "# Neural Networks and Deep Learning for Life Sciences and Health Applications - An introductory course about theoretical fundamentals, case studies and implementations in python and tensorflow"
      ]
    },
    {
      "metadata": {
        "id": "XrfOGlK182vI",
        "colab_type": "text"
      },
      "cell_type": "markdown",
      "source": [
        "(C) Umberto Michelucci 2018 - umberto.michelucci@gmail.com \n",
        "\n",
        "github repository: https://github.com/michelucci/zhaw-dlcourse-spring2019\n",
        "\n",
        "Spring Semester 2019"
      ]
    },
    {
      "metadata": {
        "id": "CrSyGSTz82vJ",
        "colab_type": "text"
      },
      "cell_type": "markdown",
      "source": [
        "# Python implementation of Logistic Regression with tensorflow"
      ]
    },
    {
      "metadata": {
        "id": "p8pLxvJU82vJ",
        "colab_type": "text"
      },
      "cell_type": "markdown",
      "source": [
        "### Abstract"
      ]
    },
    {
      "metadata": {
        "id": "huikQt_Z82vK",
        "colab_type": "text"
      },
      "cell_type": "markdown",
      "source": [
        "In this notebook I develop a complete version of Logistic Regression with one neuron. I apply the model to a subset of MNIST data containing only the digits 1 and 2 (see the data preparation part to see how to do it) to do binary classification. "
      ]
    },
    {
      "metadata": {
        "id": "3FBMIseX82vL",
        "colab_type": "text"
      },
      "cell_type": "markdown",
      "source": [
        "## Libraries"
      ]
    },
    {
      "metadata": {
        "id": "YssDq3Sd82vM",
        "colab_type": "code",
        "colab": {}
      },
      "cell_type": "code",
      "source": [
        "import numpy as np\n",
        "from sklearn.datasets import fetch_mldata\n",
        "\n",
        "%matplotlib inline\n",
        "\n",
        "import matplotlib\n",
        "import matplotlib.pyplot as plt\n",
        "\n",
        "from random import *"
      ],
      "execution_count": 0,
      "outputs": []
    },
    {
      "metadata": {
        "id": "GICXnP5-82vQ",
        "colab_type": "text"
      },
      "cell_type": "markdown",
      "source": [
        "## Data preparation"
      ]
    },
    {
      "metadata": {
        "id": "QWGdExZ282vR",
        "colab_type": "text"
      },
      "cell_type": "markdown",
      "source": [
        "To get MNIST data we use the function fetch_mldata, in the datasets package. Let's get all the dataset, and then we will select only the digits we want."
      ]
    },
    {
      "metadata": {
        "id": "x1Ov4m8V82vR",
        "colab_type": "code",
        "colab": {},
        "outputId": "47a1ecb3-4974-4206-d2a5-a0ab79668ea6"
      },
      "cell_type": "code",
      "source": [
        "mnist = fetch_mldata('MNIST original')\n",
        "mnist"
      ],
      "execution_count": 0,
      "outputs": [
        {
          "output_type": "execute_result",
          "data": {
            "text/plain": [
              "{'COL_NAMES': ['label', 'data'],\n",
              " 'DESCR': 'mldata.org dataset: mnist-original',\n",
              " 'data': array([[0, 0, 0, ..., 0, 0, 0],\n",
              "        [0, 0, 0, ..., 0, 0, 0],\n",
              "        [0, 0, 0, ..., 0, 0, 0],\n",
              "        ..., \n",
              "        [0, 0, 0, ..., 0, 0, 0],\n",
              "        [0, 0, 0, ..., 0, 0, 0],\n",
              "        [0, 0, 0, ..., 0, 0, 0]], dtype=uint8),\n",
              " 'target': array([ 0.,  0.,  0., ...,  9.,  9.,  9.])}"
            ]
          },
          "metadata": {
            "tags": []
          },
          "execution_count": 4
        }
      ]
    },
    {
      "metadata": {
        "id": "6PEHQCg282vW",
        "colab_type": "code",
        "colab": {}
      },
      "cell_type": "code",
      "source": [
        "X,y = mnist[\"data\"], mnist[\"target\"]"
      ],
      "execution_count": 0,
      "outputs": []
    },
    {
      "metadata": {
        "id": "cFFl-JKp82vY",
        "colab_type": "code",
        "colab": {},
        "outputId": "e97ec6ac-f4fe-4b10-ebf5-309e3bffa1d0"
      },
      "cell_type": "code",
      "source": [
        "X.shape"
      ],
      "execution_count": 0,
      "outputs": [
        {
          "output_type": "execute_result",
          "data": {
            "text/plain": [
              "(70000, 784)"
            ]
          },
          "metadata": {
            "tags": []
          },
          "execution_count": 6
        }
      ]
    },
    {
      "metadata": {
        "id": "jS53-Paf82vb",
        "colab_type": "code",
        "colab": {},
        "outputId": "055986ab-9db4-4a1b-ba42-e78d9fa72914"
      },
      "cell_type": "code",
      "source": [
        "y.shape"
      ],
      "execution_count": 0,
      "outputs": [
        {
          "output_type": "execute_result",
          "data": {
            "text/plain": [
              "(70000,)"
            ]
          },
          "metadata": {
            "tags": []
          },
          "execution_count": 7
        }
      ]
    },
    {
      "metadata": {
        "id": "Kul0GXg_82ve",
        "colab_type": "text"
      },
      "cell_type": "markdown",
      "source": [
        "To know how many digits we have we can run this simple code"
      ]
    },
    {
      "metadata": {
        "id": "LKUdEMgV82vf",
        "colab_type": "code",
        "colab": {},
        "outputId": "29f6276f-28ed-490a-be09-a4abdc740fdb"
      },
      "cell_type": "code",
      "source": [
        "total = 0\n",
        "for i in range(10):\n",
        "    print (\"digit\", i, \"appear\", np.count_nonzero(y == i), \"times\")"
      ],
      "execution_count": 0,
      "outputs": [
        {
          "output_type": "stream",
          "text": [
            "digit 0 appear 6903 times\n",
            "digit 1 appear 7877 times\n",
            "digit 2 appear 6990 times\n",
            "digit 3 appear 7141 times\n",
            "digit 4 appear 6824 times\n",
            "digit 5 appear 6313 times\n",
            "digit 6 appear 6876 times\n",
            "digit 7 appear 7293 times\n",
            "digit 8 appear 6825 times\n",
            "digit 9 appear 6958 times\n"
          ],
          "name": "stdout"
        }
      ]
    },
    {
      "metadata": {
        "id": "PXK0YERu82vi",
        "colab_type": "code",
        "colab": {},
        "outputId": "d69d8267-0edd-4443-ae89-b64c16ee0928"
      },
      "cell_type": "code",
      "source": [
        "total = 0\n",
        "for i in range(10):\n",
        "    print (\"digit\", i, \"makes\", np.around(np.count_nonzero(y == i)/70000.0*100.0, decimals=1), \"% of the 70000 observations\")"
      ],
      "execution_count": 0,
      "outputs": [
        {
          "output_type": "stream",
          "text": [
            "digit 0 makes 9.9 % of the 70000 observations\n",
            "digit 1 makes 11.3 % of the 70000 observations\n",
            "digit 2 makes 10.0 % of the 70000 observations\n",
            "digit 3 makes 10.2 % of the 70000 observations\n",
            "digit 4 makes 9.7 % of the 70000 observations\n",
            "digit 5 makes 9.0 % of the 70000 observations\n",
            "digit 6 makes 9.8 % of the 70000 observations\n",
            "digit 7 makes 10.4 % of the 70000 observations\n",
            "digit 8 makes 9.8 % of the 70000 observations\n",
            "digit 9 makes 9.9 % of the 70000 observations\n"
          ],
          "name": "stdout"
        }
      ]
    },
    {
      "metadata": {
        "id": "oFHBH41082vk",
        "colab_type": "text"
      },
      "cell_type": "markdown",
      "source": [
        "# Let's check the distribution if we create a dev dataset"
      ]
    },
    {
      "metadata": {
        "id": "0LMciain82vl",
        "colab_type": "code",
        "colab": {},
        "outputId": "6b18812a-6028-4dc9-ddda-c928c0dd09a8"
      },
      "cell_type": "code",
      "source": [
        "np.random.seed(42)\n",
        "rnd = np.random.rand(len(y)) < 0.8\n",
        "\n",
        "train_y = y[rnd]\n",
        "dev_y = y[~rnd]\n",
        "\n",
        "print(train_y.shape)\n",
        "print(dev_y.shape)"
      ],
      "execution_count": 0,
      "outputs": [
        {
          "output_type": "stream",
          "text": [
            "(56056,)\n",
            "(13944,)\n"
          ],
          "name": "stdout"
        }
      ]
    },
    {
      "metadata": {
        "id": "594TwOB-82vo",
        "colab_type": "text"
      },
      "cell_type": "markdown",
      "source": [
        "Note: datasets loaded by scikit-learn have a dictionary structure. \n",
        "\n",
        "- a DESCR structure describing the dataset\n",
        "- a ```data``` key containing an array with one row per instance and one column per feature\n",
        "- a ```target``` with an array with the labels\n",
        "\n",
        "we have 70000 digits available, from 0 to 9. Let's define a helper function that will allow us to visualize the digits."
      ]
    },
    {
      "metadata": {
        "id": "6qB29YBY82vp",
        "colab_type": "code",
        "colab": {},
        "outputId": "9d58602b-2532-4d24-8457-377f6c425dc5"
      },
      "cell_type": "code",
      "source": [
        "total = 0\n",
        "for i in range(10):\n",
        "    print (\"digit\", i, \"makes\", np.around(np.count_nonzero(train_y == i)/56056.0*100.0, decimals=1), \"% of the 56056 observations\")"
      ],
      "execution_count": 0,
      "outputs": [
        {
          "output_type": "stream",
          "text": [
            "digit 0 makes 9.9 % of the 56056 observations\n",
            "digit 1 makes 11.3 % of the 56056 observations\n",
            "digit 2 makes 9.9 % of the 56056 observations\n",
            "digit 3 makes 10.1 % of the 56056 observations\n",
            "digit 4 makes 9.8 % of the 56056 observations\n",
            "digit 5 makes 9.0 % of the 56056 observations\n",
            "digit 6 makes 9.8 % of the 56056 observations\n",
            "digit 7 makes 10.4 % of the 56056 observations\n",
            "digit 8 makes 9.8 % of the 56056 observations\n",
            "digit 9 makes 9.9 % of the 56056 observations\n"
          ],
          "name": "stdout"
        }
      ]
    },
    {
      "metadata": {
        "id": "iU5HYe2482vs",
        "colab_type": "text"
      },
      "cell_type": "markdown",
      "source": [
        "# Case for splitting with sorting"
      ]
    },
    {
      "metadata": {
        "id": "klw7pI2v82vt",
        "colab_type": "code",
        "colab": {}
      },
      "cell_type": "code",
      "source": [
        "srt = np.zeros_like(y,  dtype=bool)\n",
        "\n",
        "np.random.seed(42)\n",
        "srt[0:56000] = True\n",
        "\n",
        "train_y = y[srt]\n",
        "dev_y = y[~srt]"
      ],
      "execution_count": 0,
      "outputs": []
    },
    {
      "metadata": {
        "id": "EjYdlTRW82vv",
        "colab_type": "code",
        "colab": {},
        "outputId": "ce50ef74-49ea-48a5-ed83-4ca1a9ea5bfa"
      },
      "cell_type": "code",
      "source": [
        "total = 0\n",
        "for i in range(10):\n",
        "    print (\"class\", i, \"makes\", np.around(np.count_nonzero(train_y == i)/70000.0*100.0, decimals=1), \"% of the 70000 observations\")"
      ],
      "execution_count": 0,
      "outputs": [
        {
          "output_type": "stream",
          "text": [
            "class 0 makes 8.5 % of the 70000 observations\n",
            "class 1 makes 9.6 % of the 70000 observations\n",
            "class 2 makes 8.5 % of the 70000 observations\n",
            "class 3 makes 8.8 % of the 70000 observations\n",
            "class 4 makes 8.3 % of the 70000 observations\n",
            "class 5 makes 7.7 % of the 70000 observations\n",
            "class 6 makes 8.5 % of the 70000 observations\n",
            "class 7 makes 9.0 % of the 70000 observations\n",
            "class 8 makes 8.4 % of the 70000 observations\n",
            "class 9 makes 2.8 % of the 70000 observations\n"
          ],
          "name": "stdout"
        }
      ]
    },
    {
      "metadata": {
        "id": "JU_hofto82vy",
        "colab_type": "code",
        "colab": {},
        "outputId": "c6f02806-a6fb-45ac-e8be-b146315b9e32"
      },
      "cell_type": "code",
      "source": [
        "total = 0\n",
        "for i in range(2):\n",
        "    print (\"class\", i, \"makes\", np.around(np.count_nonzero(dev_y == i)/13944.0*100.0, decimals=1), \"% of the 13944 observations\")"
      ],
      "execution_count": 0,
      "outputs": [
        {
          "output_type": "stream",
          "text": [
            "class 0 makes 7.0 % of the 13944 observations\n",
            "class 1 makes 8.1 % of the 13944 observations\n"
          ],
          "name": "stdout"
        }
      ]
    },
    {
      "metadata": {
        "id": "WurnTLpG82v2",
        "colab_type": "code",
        "colab": {},
        "outputId": "d66e870e-6fba-4438-ee54-18985645ca63"
      },
      "cell_type": "code",
      "source": [
        "def plot_digit(some_digit):\n",
        "    \n",
        "    some_digit_image = some_digit.reshape(28,28)\n",
        "\n",
        "    plt.imshow(some_digit_image, cmap = matplotlib.cm.binary, interpolation = \"nearest\")\n",
        "    plt.axis(\"off\")\n",
        "    plt.show()\n",
        "    \n",
        "plot_digit(X[36003])"
      ],
      "execution_count": 0,
      "outputs": [
        {
          "output_type": "display_data",
          "data": {
            "image/png": "[encoded data removed]",
            "text/plain": [
              "<matplotlib.figure.Figure at 0x231c4f1cba8>"
            ]
          },
          "metadata": {
            "tags": []
          }
        }
      ]
    },
    {
      "metadata": {
        "id": "LpH7GqeT82v8",
        "colab_type": "text"
      },
      "cell_type": "markdown",
      "source": [
        "Let's check the relative label..."
      ]
    },
    {
      "metadata": {
        "id": "hGsxcS8z82v9",
        "colab_type": "code",
        "colab": {},
        "outputId": "a2a2d9da-a240-44ae-e140-7a8ece029276"
      },
      "cell_type": "code",
      "source": [
        "y[36003]"
      ],
      "execution_count": 0,
      "outputs": [
        {
          "output_type": "execute_result",
          "data": {
            "text/plain": [
              "5.0"
            ]
          },
          "metadata": {
            "tags": []
          },
          "execution_count": 16
        }
      ]
    },
    {
      "metadata": {
        "id": "AeWUwEP882v_",
        "colab_type": "text"
      },
      "cell_type": "markdown",
      "source": [
        "### Train and test set preparation"
      ]
    },
    {
      "metadata": {
        "id": "EounVxfL82wA",
        "colab_type": "text"
      },
      "cell_type": "markdown",
      "source": [
        "Let's first reduce our dataset only to 1 and 2 digits."
      ]
    },
    {
      "metadata": {
        "id": "DN70_eKo82wB",
        "colab_type": "code",
        "colab": {}
      },
      "cell_type": "code",
      "source": [
        "X_train = X[np.any([y == 1,y == 2], axis = 0)]\n",
        "y_train = y[np.any([y == 1,y == 2], axis = 0)]"
      ],
      "execution_count": 0,
      "outputs": []
    },
    {
      "metadata": {
        "id": "BCXJlsGq82wD",
        "colab_type": "text"
      },
      "cell_type": "markdown",
      "source": [
        "The size of our dataset is"
      ]
    },
    {
      "metadata": {
        "id": "Dom7_34282wE",
        "colab_type": "code",
        "colab": {},
        "outputId": "ccbb108d-09a3-474e-a3d2-bcaab7ca4f78"
      },
      "cell_type": "code",
      "source": [
        "print(X_train.shape)\n",
        "print(y_train.shape)"
      ],
      "execution_count": 0,
      "outputs": [
        {
          "output_type": "stream",
          "text": [
            "(14867, 784)\n",
            "(14867,)\n"
          ],
          "name": "stdout"
        }
      ]
    },
    {
      "metadata": {
        "id": "5hNRRclt82wH",
        "colab_type": "text"
      },
      "cell_type": "markdown",
      "source": [
        "In our reduced dataset how many 1 and 2 do we have?"
      ]
    },
    {
      "metadata": {
        "id": "yXa1yi6F82wH",
        "colab_type": "code",
        "colab": {},
        "outputId": "41258a95-243c-4ba0-dae3-4ecdf0fd1e99"
      },
      "cell_type": "code",
      "source": [
        "print(\"number of 1:\", np.count_nonzero(y_train == 1))\n",
        "print(\"number of 2:\", np.count_nonzero(y_train == 2))"
      ],
      "execution_count": 0,
      "outputs": [
        {
          "output_type": "stream",
          "text": [
            "number of 1: 7877\n",
            "number of 2: 6990\n"
          ],
          "name": "stdout"
        }
      ]
    },
    {
      "metadata": {
        "id": "zgx2Pp6j82wJ",
        "colab_type": "text"
      },
      "cell_type": "markdown",
      "source": [
        "## Normalisation"
      ]
    },
    {
      "metadata": {
        "id": "DPT8h12n82wL",
        "colab_type": "text"
      },
      "cell_type": "markdown",
      "source": [
        "Let's normalise our data. The pixel will have a value between 0 and 255 (gray values). Let's normalise the value between 0 and 1."
      ]
    },
    {
      "metadata": {
        "scrolled": true,
        "id": "O0-NfvcO82wM",
        "colab_type": "code",
        "colab": {}
      },
      "cell_type": "code",
      "source": [
        "X_train_normalised = X_train/255.0"
      ],
      "execution_count": 0,
      "outputs": []
    },
    {
      "metadata": {
        "id": "PlydhvaH82wN",
        "colab_type": "text"
      },
      "cell_type": "markdown",
      "source": [
        "Remember that we need features along the rows, and training cases along the columns. So let's reshape our dataset"
      ]
    },
    {
      "metadata": {
        "id": "EKt_auKn82wO",
        "colab_type": "code",
        "colab": {},
        "outputId": "427b3027-b2df-4748-c33b-4656655212ad"
      },
      "cell_type": "code",
      "source": [
        "X_train_tr = X_train_normalised.transpose()\n",
        "y_train_tr = y_train.reshape(1,y_train.shape[0])\n",
        "\n",
        "print(X_train_tr.shape)\n",
        "print(y_train_tr.shape)\n",
        "\n",
        "n_dim = X_train_tr.shape[0]\n",
        "dim_train = X_train_tr.shape[1]\n",
        "\n",
        "\n",
        "print(n_dim)\n",
        "print(\"The training dataset has\", dim_train, \"observations (m).\")"
      ],
      "execution_count": 0,
      "outputs": [
        {
          "output_type": "stream",
          "text": [
            "(784, 14867)\n",
            "(1, 14867)\n",
            "784\n",
            "The training dataset has 14867 observations (m).\n"
          ],
          "name": "stdout"
        }
      ]
    },
    {
      "metadata": {
        "id": "IT_2-eZ082wP",
        "colab_type": "text"
      },
      "cell_type": "markdown",
      "source": [
        "We will need to rescale our lables. Remember we will compare them in the cost function with 0 and 1 (proabilities) and therefore our class labels must be 0 and 1, not 1 and 2. So the following step take care of it."
      ]
    },
    {
      "metadata": {
        "id": "miPHcYSw82wQ",
        "colab_type": "code",
        "colab": {}
      },
      "cell_type": "code",
      "source": [
        "y_train_shifted = y_train_tr - 1"
      ],
      "execution_count": 0,
      "outputs": []
    },
    {
      "metadata": {
        "id": "uMNTIxgH82wS",
        "colab_type": "code",
        "colab": {},
        "outputId": "18f9ae18-7704-48a2-9a48-853aaf54eff3"
      },
      "cell_type": "code",
      "source": [
        "plot_digit(X_train_tr[:,1005])\n",
        "print(y_train_shifted[:,1005])\n",
        "plot_digit(X_train_tr[:,8000])\n",
        "print(y_train_shifted[:,8000])\n",
        "plot_digit(X_train_tr[:,456])\n",
        "print(y_train_shifted[:,456])\n",
        "plot_digit(X_train_tr[:,567])\n",
        "print(y_train_shifted[:,567])\n",
        "\n",
        "Xtrain = X_train_tr\n",
        "ytrain = y_train_shifted\n",
        "\n",
        "plot_digit(Xtrain[:,1005])"
      ],
      "execution_count": 0,
      "outputs": [
        {
          "output_type": "display_data",
          "data": {
            "image/png": "[encoded data removed]",
            "text/plain": [
              "<matplotlib.figure.Figure at 0x231cd866630>"
            ]
          },
          "metadata": {
            "tags": []
          }
        },
        {
          "output_type": "stream",
          "text": [
            "[ 0.]\n"
          ],
          "name": "stdout"
        },
        {
          "output_type": "display_data",
          "data": {
            "image/png": "[encoded data removed]",
            "text/plain": [
              "<matplotlib.figure.Figure at 0x231d3d13fd0>"
            ]
          },
          "metadata": {
            "tags": []
          }
        },
        {
          "output_type": "stream",
          "text": [
            "[ 1.]\n"
          ],
          "name": "stdout"
        },
        {
          "output_type": "display_data",
          "data": {
            "image/png": "[encoded data removed]",
            "text/plain": [
              "<matplotlib.figure.Figure at 0x231d4d3ceb8>"
            ]
          },
          "metadata": {
            "tags": []
          }
        },
        {
          "output_type": "stream",
          "text": [
            "[ 0.]\n"
          ],
          "name": "stdout"
        },
        {
          "output_type": "display_data",
          "data": {
            "image/png": "[encoded data removed]",
            "text/plain": [
              "<matplotlib.figure.Figure at 0x231d4d83080>"
            ]
          },
          "metadata": {
            "tags": []
          }
        },
        {
          "output_type": "stream",
          "text": [
            "[ 0.]\n"
          ],
          "name": "stdout"
        },
        {
          "output_type": "display_data",
          "data": {
            "image/png": "[encoded data removed]",
            "text/plain": [
              "<matplotlib.figure.Figure at 0x231c4f10898>"
            ]
          },
          "metadata": {
            "tags": []
          }
        }
      ]
    },
    {
      "metadata": {
        "id": "K1hZGbZ782wU",
        "colab_type": "code",
        "colab": {},
        "outputId": "e4606875-e900-4667-b033-34bd909dc952"
      },
      "cell_type": "code",
      "source": [
        "f = plt.figure(figsize=(15,15));\n",
        "count = 1\n",
        "for i in [randint(1, 14867),randint(1, 14867),randint(1, 14867),randint(1, 14867),randint(1, 14867),randint(1, 14867)]:\n",
        "    plt.subplot(3,3,count)\n",
        "    count = count + 1\n",
        "    plt.subplots_adjust(hspace=0.5)\n",
        "    plt.title(ytrain[:,i])\n",
        "    some_digit_image = Xtrain[:,i].reshape(28,28)\n",
        "    plt.imshow(some_digit_image, cmap = matplotlib.cm.binary, interpolation = \"nearest\")\n",
        "    plt.axis(\"off\")\n",
        "    pass"
      ],
      "execution_count": 0,
      "outputs": [
        {
          "output_type": "display_data",
          "data": {
            "image/png": "[encoded data removed]",
            "text/plain": [
              "<matplotlib.figure.Figure at 0x231d4d64438>"
            ]
          },
          "metadata": {
            "tags": []
          }
        }
      ]
    },
    {
      "metadata": {
        "id": "2EAlm2nC82wW",
        "colab_type": "text"
      },
      "cell_type": "markdown",
      "source": [
        "# Tensorflow Implementation"
      ]
    },
    {
      "metadata": {
        "id": "TuDHrINL82wW",
        "colab_type": "code",
        "colab": {}
      },
      "cell_type": "code",
      "source": [
        "import tensorflow as tf"
      ],
      "execution_count": 0,
      "outputs": []
    },
    {
      "metadata": {
        "id": "tGwfDHx482wY",
        "colab_type": "code",
        "colab": {},
        "outputId": "5ba5ffd5-a506-4f99-abf8-a9d05599d3b3"
      },
      "cell_type": "code",
      "source": [
        "print(Xtrain.shape)\n",
        "print(ytrain.shape)"
      ],
      "execution_count": 0,
      "outputs": [
        {
          "output_type": "stream",
          "text": [
            "(784, 14867)\n",
            "(1, 14867)\n"
          ],
          "name": "stdout"
        }
      ]
    },
    {
      "metadata": {
        "id": "fxRT5bIt82wa",
        "colab_type": "code",
        "colab": {}
      },
      "cell_type": "code",
      "source": [
        "tf.reset_default_graph()\n",
        "\n",
        "X = tf.placeholder(tf.float32, [n_dim, None])\n",
        "Y = tf.placeholder(tf.float32, [1, None])\n",
        "learning_rate = tf.placeholder(tf.float32, shape=())\n",
        "\n",
        "#W = tf.Variable(tf.random_normal([1, n_dim]))/10.0\n",
        "W = tf.Variable(tf.zeros([1, n_dim]))\n",
        "#b = tf.Variable(tf.random_normal([1]))/10.0\n",
        "b = tf.Variable(tf.zeros(1))\n",
        "\n",
        "init = tf.global_variables_initializer()"
      ],
      "execution_count": 0,
      "outputs": []
    },
    {
      "metadata": {
        "id": "pV7mNopY82wb",
        "colab_type": "code",
        "colab": {}
      },
      "cell_type": "code",
      "source": [
        "y_ = tf.sigmoid(tf.matmul(W,X)+b)\n",
        "cost = - tf.reduce_mean(Y * tf.log(y_)+(1-Y) * tf.log(1-y_))\n",
        "training_step = tf.train.GradientDescentOptimizer(learning_rate).minimize(cost)"
      ],
      "execution_count": 0,
      "outputs": []
    },
    {
      "metadata": {
        "id": "2Jk45YrS82wc",
        "colab_type": "code",
        "colab": {}
      },
      "cell_type": "code",
      "source": [
        "def run_logistic_model(learning_r, training_epochs, train_obs, train_labels, debug = False):\n",
        "    sess = tf.Session()\n",
        "    sess.run(init)\n",
        "    \n",
        "    cost_history = np.empty(shape=[0], dtype = float)\n",
        "\n",
        "    for epoch in range(training_epochs+1):\n",
        "        \n",
        "        sess.run(training_step, feed_dict = {X: train_obs, Y: train_labels, learning_rate: learning_r})\n",
        "\n",
        "        cost_ = sess.run(cost, feed_dict={ X:train_obs, Y: train_labels, learning_rate: learning_r})\n",
        "        cost_history = np.append(cost_history, cost_)\n",
        "        \n",
        "        if (epoch % 250 == 0) & debug:\n",
        "            print(\"Reached epoch\",epoch,\"cost J =\", str.format('{0:.6f}', cost_))\n",
        "            \n",
        "    return sess, cost_history"
      ],
      "execution_count": 0,
      "outputs": []
    },
    {
      "metadata": {
        "id": "h70JJBIK82we",
        "colab_type": "code",
        "colab": {},
        "outputId": "ce7d01a8-4e9a-4265-c8c5-299034a50d9f"
      },
      "cell_type": "code",
      "source": [
        "sess = tf.Session()\n",
        "sess.run(init)\n",
        "print(sess.run(y_, feed_dict={X:Xtrain, Y: ytrain, learning_rate: 2}))\n",
        "print(sess.run(cost, feed_dict={X:Xtrain, Y: ytrain, learning_rate: 2}))\n",
        "sess.close()"
      ],
      "execution_count": 0,
      "outputs": [
        {
          "output_type": "stream",
          "text": [
            "[[ 0.5  0.5  0.5 ...,  0.5  0.5  0.5]]\n",
            "0.693133\n"
          ],
          "name": "stdout"
        }
      ]
    },
    {
      "metadata": {
        "id": "iooyXAUa82wg",
        "colab_type": "code",
        "colab": {},
        "outputId": "c6705b1d-6649-4e8d-f4f3-c81d54471834"
      },
      "cell_type": "code",
      "source": [
        "sess, cost_history1 = run_logistic_model(learning_r = 0.01, \n",
        "                                training_epochs = 500, \n",
        "                                train_obs = Xtrain, \n",
        "                                train_labels = ytrain, \n",
        "                                debug = True)"
      ],
      "execution_count": 0,
      "outputs": [
        {
          "output_type": "stream",
          "text": [
            "Reached epoch 0 cost J = 0.678540\n",
            "Reached epoch 250 cost J = 0.154095\n",
            "Reached epoch 500 cost J = 0.108484\n"
          ],
          "name": "stdout"
        }
      ]
    },
    {
      "metadata": {
        "id": "OhVTAq-i82wi",
        "colab_type": "code",
        "colab": {},
        "outputId": "3f085052-7c8e-4cb0-8713-d97249213f9c"
      },
      "cell_type": "code",
      "source": [
        "sess, cost_history2 = run_logistic_model(learning_r = 0.005, \n",
        "                                training_epochs = 500, \n",
        "                                train_obs = Xtrain, \n",
        "                                train_labels = ytrain, \n",
        "                                debug = True) "
      ],
      "execution_count": 0,
      "outputs": [
        {
          "output_type": "stream",
          "text": [
            "Reached epoch 0 cost J = 0.685799\n",
            "Reached epoch 250 cost J = 0.222014\n",
            "Reached epoch 500 cost J = 0.154386\n"
          ],
          "name": "stdout"
        }
      ]
    },
    {
      "metadata": {
        "id": "fXeNT6KQ82wl",
        "colab_type": "text"
      },
      "cell_type": "markdown",
      "source": [
        "# Plot of the cost function vs. the number of epochs"
      ]
    },
    {
      "metadata": {
        "id": "ZZ3THI_o82wm",
        "colab_type": "code",
        "colab": {},
        "outputId": "e63aa2c9-e66d-4eeb-e0a1-e79c2b848d78"
      },
      "cell_type": "code",
      "source": [
        "plt.rc('font', family='arial')\n",
        "plt.rc('xtick', labelsize='x-small')\n",
        "plt.rc('ytick', labelsize='x-small')\n",
        "    \n",
        "plt.tight_layout()\n",
        "\n",
        "fig = plt.figure(figsize=(10,8))\n",
        "ax = fig.add_subplot(1, 1, 1)\n",
        "ax.plot(cost_history1, ls='solid', color = 'black', label = '$\\gamma = 0.01$')\n",
        "ax.plot(cost_history2, ls='solid', color = 'red', label = '$\\gamma = 0.05$')\n",
        "ax.set_xlabel('epochs', fontsize = 16)\n",
        "ax.set_ylabel('Cost function $J$', fontsize = 16)\n",
        "\n",
        "plt.legend(bbox_to_anchor=(1.05, 1), loc=2, borderaxespad=0., fontsize = 16)\n",
        "plt.tick_params(labelsize=16)"
      ],
      "execution_count": 0,
      "outputs": [
        {
          "output_type": "display_data",
          "data": {
            "text/plain": [
              "<matplotlib.figure.Figure at 0x231dba26908>"
            ]
          },
          "metadata": {
            "tags": []
          }
        },
        {
          "output_type": "display_data",
          "data": {
            "image/png": "[encoded data removed]",
            "text/plain": [
              "<matplotlib.figure.Figure at 0x231dba268d0>"
            ]
          },
          "metadata": {
            "tags": []
          }
        }
      ]
    },
    {
      "metadata": {
        "id": "R_ja3sf882wo",
        "colab_type": "text"
      },
      "cell_type": "markdown",
      "source": [
        "**CAREFUL** it will take some time to run!"
      ]
    },
    {
      "metadata": {
        "id": "e9T6KEGQ82wp",
        "colab_type": "code",
        "colab": {},
        "outputId": "f867e247-e4c6-4a80-849f-e606a9371dfd"
      },
      "cell_type": "code",
      "source": [
        "sess, cost_history = run_logistic_model(learning_r = 0.05, \n",
        "                                training_epochs = 750, \n",
        "                                train_obs = Xtrain, \n",
        "                                train_labels = ytrain, \n",
        "                                debug = True)"
      ],
      "execution_count": 0,
      "outputs": [
        {
          "output_type": "stream",
          "text": [
            "Reached epoch 0 cost J = 0.623632\n",
            "Reached epoch 250 cost J = 0.071436\n",
            "Reached epoch 500 cost J = 0.054990\n",
            "Reached epoch 750 cost J = nan\n"
          ],
          "name": "stdout"
        }
      ]
    },
    {
      "metadata": {
        "id": "HiZDK6Og82wr",
        "colab_type": "code",
        "colab": {},
        "outputId": "e2450ff5-27a7-4321-de4c-a8e26a864a5b"
      },
      "cell_type": "code",
      "source": [
        "sess, cost_history = run_logistic_model(learning_r = 1e-3, \n",
        "                                training_epochs = 1500, \n",
        "                                train_obs = Xtrain, \n",
        "                                train_labels = ytrain, \n",
        "                                debug = True)"
      ],
      "execution_count": 0,
      "outputs": [
        {
          "output_type": "stream",
          "text": [
            "Reached epoch 0 cost J = 0.691670\n",
            "Reached epoch 250 cost J = 0.457857\n",
            "Reached epoch 500 cost J = 0.349886\n",
            "Reached epoch 750 cost J = 0.289003\n",
            "Reached epoch 1000 cost J = 0.249949\n",
            "Reached epoch 1250 cost J = 0.222616\n",
            "Reached epoch 1500 cost J = 0.202293\n"
          ],
          "name": "stdout"
        }
      ]
    },
    {
      "metadata": {
        "id": "WM3IGl9W82wu",
        "colab_type": "code",
        "colab": {},
        "outputId": "b2ae41ac-0611-445f-d2af-dbf24d1ecaaa"
      },
      "cell_type": "code",
      "source": [
        "correct_prediction1=tf.equal(tf.greater(y_, 0.5), tf.equal(Y,1))\n",
        "\n",
        "accuracy1 = tf.reduce_mean(tf.cast(correct_prediction1, tf.float32))\n",
        "\n",
        "print(sess.run(accuracy1, feed_dict={X:Xtrain, Y: ytrain, learning_rate: 0.05}))"
      ],
      "execution_count": 0,
      "outputs": [
        {
          "output_type": "stream",
          "text": [
            "0.971077\n"
          ],
          "name": "stdout"
        }
      ]
    },
    {
      "metadata": {
        "id": "EORTcq6Q82ww",
        "colab_type": "code",
        "colab": {},
        "outputId": "4d820bce-38a3-456f-f83d-88a63a008a91"
      },
      "cell_type": "code",
      "source": [
        "plt.rc('font', family='arial')\n",
        "plt.rc('xtick', labelsize='x-small')\n",
        "plt.rc('ytick', labelsize='x-small')\n",
        "    \n",
        "plt.tight_layout()\n",
        "\n",
        "fig = plt.figure(figsize=(10,8))\n",
        "ax = fig.add_subplot(1, 1, 1)\n",
        "ax.plot(cost_history, ls='solid', color = 'black', label = '$\\gamma = 0.001$')\n",
        "ax.set_xlabel('epochs', fontsize = 16)\n",
        "ax.set_ylabel('Cost function $J$', fontsize = 16)\n",
        "\n",
        "plt.legend(bbox_to_anchor=(1.05, 1), loc=2, borderaxespad=0., fontsize = 16)\n",
        "plt.tick_params(labelsize=16)"
      ],
      "execution_count": 0,
      "outputs": [
        {
          "output_type": "display_data",
          "data": {
            "text/plain": [
              "<matplotlib.figure.Figure at 0x231db84c7b8>"
            ]
          },
          "metadata": {
            "tags": []
          }
        },
        {
          "output_type": "display_data",
          "data": {
            "image/png": "[encoded data removed]",
            "text/plain": [
              "<matplotlib.figure.Figure at 0x231db84cc50>"
            ]
          },
          "metadata": {
            "tags": []
          }
        }
      ]
    },
    {
      "metadata": {
        "scrolled": true,
        "id": "eDtYPLKW82wz",
        "colab_type": "code",
        "colab": {},
        "outputId": "0c6892e0-2abd-46d0-cdf0-cb2f4d18ad19"
      },
      "cell_type": "code",
      "source": [
        "print(sess.run(y_, feed_dict={X:Xtrain, Y: ytrain, learning_rate: 0.05}))\n",
        "print(sess.run(tf.greater(y_, 0.5), feed_dict={X:Xtrain, Y: ytrain, learning_rate: 0.05}))\n",
        "print(sess.run(tf.less(y_, 0.5), feed_dict={X:Xtrain, Y: ytrain, learning_rate: 0.05}))"
      ],
      "execution_count": 0,
      "outputs": [
        {
          "output_type": "stream",
          "text": [
            "[[ 0.20365097  0.20278002  0.15145989 ...,  0.97013026  0.82452655\n",
            "   0.96070677]]\n",
            "[[False False False ...,  True  True  True]]\n",
            "[[ True  True  True ..., False False False]]\n"
          ],
          "name": "stdout"
        }
      ]
    },
    {
      "metadata": {
        "id": "XrU_8CP982w3",
        "colab_type": "text"
      },
      "cell_type": "markdown",
      "source": [
        "## Logistic Regression with sklearn"
      ]
    },
    {
      "metadata": {
        "id": "FhZhn4p782w4",
        "colab_type": "text"
      },
      "cell_type": "markdown",
      "source": [
        "As a side note, here is the code to see how easy it is in comparison to do the same with the sklearn library... "
      ]
    },
    {
      "metadata": {
        "id": "2ARGqiHw82w4",
        "colab_type": "code",
        "colab": {}
      },
      "cell_type": "code",
      "source": [
        "from sklearn.linear_model import LogisticRegression\n",
        "\n",
        "logistic = LogisticRegression()"
      ],
      "execution_count": 0,
      "outputs": []
    },
    {
      "metadata": {
        "id": "6QOtDTaW82w6",
        "colab_type": "code",
        "colab": {},
        "outputId": "37bff3b4-12fc-4890-ac06-2b081ee72489"
      },
      "cell_type": "code",
      "source": [
        "XX = Xtrain.T\n",
        "YY = ytrain.T.ravel()\n",
        "\n",
        "logistic.fit(XX,YY)"
      ],
      "execution_count": 0,
      "outputs": [
        {
          "output_type": "execute_result",
          "data": {
            "text/plain": [
              "LogisticRegression(C=1.0, class_weight=None, dual=False, fit_intercept=True,\n",
              "          intercept_scaling=1, max_iter=100, multi_class='ovr', n_jobs=1,\n",
              "          penalty='l2', random_state=None, solver='liblinear', tol=0.0001,\n",
              "          verbose=0, warm_start=False)"
            ]
          },
          "metadata": {
            "tags": []
          },
          "execution_count": 51
        }
      ]
    },
    {
      "metadata": {
        "id": "rR0aErJn82w7",
        "colab_type": "code",
        "colab": {},
        "outputId": "c0add309-0339-479b-c55f-14e5232967ac"
      },
      "cell_type": "code",
      "source": [
        "logistic.score(XX,YY)"
      ],
      "execution_count": 0,
      "outputs": [
        {
          "output_type": "execute_result",
          "data": {
            "text/plain": [
              "0.99582968991726639"
            ]
          },
          "metadata": {
            "tags": []
          },
          "execution_count": 52
        }
      ]
    },
    {
      "metadata": {
        "id": "mASPSDT782w9",
        "colab_type": "text"
      },
      "cell_type": "markdown",
      "source": [
        "The score is calculated as "
      ]
    },
    {
      "metadata": {
        "id": "7NaNrMTK82w-",
        "colab_type": "code",
        "colab": {},
        "outputId": "a8e012c5-8fb7-4861-a705-0993118b8a33"
      },
      "cell_type": "code",
      "source": [
        "sum(logistic.predict(XX) == YY) / len(XX)"
      ],
      "execution_count": 0,
      "outputs": [
        {
          "output_type": "execute_result",
          "data": {
            "text/plain": [
              "0.99582968991726639"
            ]
          },
          "metadata": {
            "tags": []
          },
          "execution_count": 53
        }
      ]
    },
    {
      "metadata": {
        "id": "4GCgjrgO82xA",
        "colab_type": "text"
      },
      "cell_type": "markdown",
      "source": [
        "Check: http://scikit-learn.org/stable/modules/generated/sklearn.linear_model.LogisticRegression.html "
      ]
    },
    {
      "metadata": {
        "id": "ThqfHoKf82xA",
        "colab_type": "code",
        "colab": {}
      },
      "cell_type": "code",
      "source": [
        ""
      ],
      "execution_count": 0,
      "outputs": []
    }
  ]
}