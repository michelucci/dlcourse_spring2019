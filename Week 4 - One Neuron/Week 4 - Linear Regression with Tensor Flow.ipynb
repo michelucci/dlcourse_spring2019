{
 "cells": [
  {
   "cell_type": "markdown",
   "metadata": {
    "colab_type": "text",
    "id": "view-in-github"
   },
   "source": [
    "<a href=\"https://colab.research.google.com/github/michelucci/zhaw-dlcourse-spring2019/blob/master/Week%204%20-%20One%20Neuron/Week%204%20-%20Linear%20Regression%20with%20Tensor%20Flow.ipynb\" target=\"_parent\"><img src=\"https://colab.research.google.com/assets/colab-badge.svg\" alt=\"Open In Colab\"/></a>"
   ]
  },
  {
   "cell_type": "markdown",
   "metadata": {
    "colab_type": "text",
    "id": "aBLKB6Vu8ut3"
   },
   "source": [
    "# Neural Networks and Deep Learning for Life Sciences and Health Applications - An introductory course about theoretical fundamentals, case studies and implementations in python and tensorflow"
   ]
  },
  {
   "cell_type": "markdown",
   "metadata": {
    "colab_type": "text",
    "id": "ghs_W3B-8ut5"
   },
   "source": [
    "(C) Umberto Michelucci 2018 - umberto.michelucci@gmail.com \n",
    "\n",
    "github repository: https://github.com/michelucci/zhaw-dlcourse-spring2019\n",
    "\n",
    "Spring Semester 2019"
   ]
  },
  {
   "cell_type": "markdown",
   "metadata": {
    "colab_type": "text",
    "id": "FigKi2Wh8ut6"
   },
   "source": [
    "## Helper Functions\n",
    "\n",
    "Here is a quick helper function we will use to compare MSE for training and test dataset, to be able to check overfitting."
   ]
  },
  {
   "cell_type": "code",
   "execution_count": null,
   "metadata": {
    "colab": {},
    "colab_type": "code",
    "id": "tbO4ZinZ8ut7"
   },
   "outputs": [],
   "source": [
    "def compare_mse(sess, y_, train_x, test_x, kp):\n",
    "    if (kp < 1):\n",
    "        pred_y = sess.run(y_, feed_dict = {X:test_x, keep_prob:kp})\n",
    "        mse = tf.reduce_mean(tf.square(pred_y - test_y))\n",
    "        print(\"MSE Test: %.4f\" % sess.run(mse))\n",
    "\n",
    "        pred_y = sess.run(y_, feed_dict = {X:train_x, keep_prob:kp})\n",
    "        mse = tf.reduce_mean(tf.square(pred_y - train_y))\n",
    "        print(\"MSE Train: %.4f\" % sess.run(mse))\n",
    "    else:\n",
    "        pred_y = sess.run(y_, feed_dict = {X:test_x})\n",
    "        mse = tf.reduce_mean(tf.square(pred_y - test_y))\n",
    "        print(\"MSE Test: %.4f\" % sess.run(mse))\n",
    "\n",
    "        pred_y = sess.run(y_, feed_dict = {X:train_x})\n",
    "        mse = tf.reduce_mean(tf.square(pred_y - train_y))\n",
    "        print(\"MSE Train: %.4f\" % sess.run(mse))"
   ]
  },
  {
   "cell_type": "markdown",
   "metadata": {
    "colab_type": "text",
    "id": "PmkYVamK8ut-"
   },
   "source": [
    "## Libraries"
   ]
  },
  {
   "cell_type": "code",
   "execution_count": null,
   "metadata": {
    "colab": {},
    "colab_type": "code",
    "id": "6kdF0laI8ut_",
    "outputId": "172e6224-d1b8-416f-f212-e4e4183450ca"
   },
   "outputs": [
    {
     "name": "stderr",
     "output_type": "stream",
     "text": [
      "C:\\ProgramData\\Anaconda3\\lib\\site-packages\\h5py\\__init__.py:36: FutureWarning: Conversion of the second argument of issubdtype from `float` to `np.floating` is deprecated. In future, it will be treated as `np.float64 == np.dtype(float).type`.\n",
      "  from ._conv import register_converters as _register_converters\n"
     ]
    }
   ],
   "source": [
    "import matplotlib.pyplot as plt\n",
    "%matplotlib inline\n",
    "\n",
    "import tensorflow as tf\n",
    "import numpy as np\n",
    "\n",
    "from sklearn.datasets import load_boston\n",
    "import sklearn.linear_model as sk"
   ]
  },
  {
   "cell_type": "markdown",
   "metadata": {
    "colab_type": "text",
    "id": "VEsod9Ax8uuD"
   },
   "source": [
    "For this demonstration I decided to use the Boston dataset, to have something different than the usual MNIST dataset that everyone is using. Altough I will dedicate a tutorial to that dataset too. First of all let's load the dataset and check it out."
   ]
  },
  {
   "cell_type": "code",
   "execution_count": null,
   "metadata": {
    "colab": {},
    "colab_type": "code",
    "id": "lAvSfVNC8uuE"
   },
   "outputs": [],
   "source": [
    "boston = load_boston()\n",
    "features = np.array(boston.data)\n",
    "labels = np.array(boston.target)"
   ]
  },
  {
   "cell_type": "code",
   "execution_count": null,
   "metadata": {
    "colab": {},
    "colab_type": "code",
    "id": "YQvQnRhQ8uuG",
    "outputId": "106c5d19-c7c6-4341-da21-f98a5d4d27aa"
   },
   "outputs": [
    {
     "data": {
      "text/plain": [
       "sklearn.utils.Bunch"
      ]
     },
     "execution_count": 5,
     "metadata": {
      "tags": []
     },
     "output_type": "execute_result"
    }
   ],
   "source": [
    "type(boston)"
   ]
  },
  {
   "cell_type": "code",
   "execution_count": null,
   "metadata": {
    "colab": {},
    "colab_type": "code",
    "id": "FTYHk24Z8uuJ",
    "outputId": "4ebdb581-b98f-4021-81f6-c045a296b0e9"
   },
   "outputs": [
    {
     "data": {
      "text/plain": [
       "array([[6.3200e-03, 1.8000e+01, 2.3100e+00, ..., 1.5300e+01, 3.9690e+02,\n",
       "        4.9800e+00],\n",
       "       [2.7310e-02, 0.0000e+00, 7.0700e+00, ..., 1.7800e+01, 3.9690e+02,\n",
       "        9.1400e+00],\n",
       "       [2.7290e-02, 0.0000e+00, 7.0700e+00, ..., 1.7800e+01, 3.9283e+02,\n",
       "        4.0300e+00],\n",
       "       ...,\n",
       "       [6.0760e-02, 0.0000e+00, 1.1930e+01, ..., 2.1000e+01, 3.9690e+02,\n",
       "        5.6400e+00],\n",
       "       [1.0959e-01, 0.0000e+00, 1.1930e+01, ..., 2.1000e+01, 3.9345e+02,\n",
       "        6.4800e+00],\n",
       "       [4.7410e-02, 0.0000e+00, 1.1930e+01, ..., 2.1000e+01, 3.9690e+02,\n",
       "        7.8800e+00]])"
      ]
     },
     "execution_count": 7,
     "metadata": {
      "tags": []
     },
     "output_type": "execute_result"
    }
   ],
   "source": [
    "boston.data"
   ]
  },
  {
   "cell_type": "code",
   "execution_count": null,
   "metadata": {
    "colab": {},
    "colab_type": "code",
    "id": "-wTnY2RW8uuM",
    "outputId": "66fcdc2d-94e4-4d37-a2bd-939c926a7e75"
   },
   "outputs": [
    {
     "name": "stdout",
     "output_type": "stream",
     "text": [
      "Boston House Prices dataset\n",
      "===========================\n",
      "\n",
      "Notes\n",
      "------\n",
      "Data Set Characteristics:  \n",
      "\n",
      "    :Number of Instances: 506 \n",
      "\n",
      "    :Number of Attributes: 13 numeric/categorical predictive\n",
      "    \n",
      "    :Median Value (attribute 14) is usually the target\n",
      "\n",
      "    :Attribute Information (in order):\n",
      "        - CRIM     per capita crime rate by town\n",
      "        - ZN       proportion of residential land zoned for lots over 25,000 sq.ft.\n",
      "        - INDUS    proportion of non-retail business acres per town\n",
      "        - CHAS     Charles River dummy variable (= 1 if tract bounds river; 0 otherwise)\n",
      "        - NOX      nitric oxides concentration (parts per 10 million)\n",
      "        - RM       average number of rooms per dwelling\n",
      "        - AGE      proportion of owner-occupied units built prior to 1940\n",
      "        - DIS      weighted distances to five Boston employment centres\n",
      "        - RAD      index of accessibility to radial highways\n",
      "        - TAX      full-value property-tax rate per $10,000\n",
      "        - PTRATIO  pupil-teacher ratio by town\n",
      "        - B        1000(Bk - 0.63)^2 where Bk is the proportion of blacks by town\n",
      "        - LSTAT    % lower status of the population\n",
      "        - MEDV     Median value of owner-occupied homes in $1000's\n",
      "\n",
      "    :Missing Attribute Values: None\n",
      "\n",
      "    :Creator: Harrison, D. and Rubinfeld, D.L.\n",
      "\n",
      "This is a copy of UCI ML housing dataset.\n",
      "http://archive.ics.uci.edu/ml/datasets/Housing\n",
      "\n",
      "\n",
      "This dataset was taken from the StatLib library which is maintained at Carnegie Mellon University.\n",
      "\n",
      "The Boston house-price data of Harrison, D. and Rubinfeld, D.L. 'Hedonic\n",
      "prices and the demand for clean air', J. Environ. Economics & Management,\n",
      "vol.5, 81-102, 1978.   Used in Belsley, Kuh & Welsch, 'Regression diagnostics\n",
      "...', Wiley, 1980.   N.B. Various transformations are used in the table on\n",
      "pages 244-261 of the latter.\n",
      "\n",
      "The Boston house-price data has been used in many machine learning papers that address regression\n",
      "problems.   \n",
      "     \n",
      "**References**\n",
      "\n",
      "   - Belsley, Kuh & Welsch, 'Regression diagnostics: Identifying Influential Data and Sources of Collinearity', Wiley, 1980. 244-261.\n",
      "   - Quinlan,R. (1993). Combining Instance-Based and Model-Based Learning. In Proceedings on the Tenth International Conference of Machine Learning, 236-243, University of Massachusetts, Amherst. Morgan Kaufmann.\n",
      "   - many more! (see http://archive.ics.uci.edu/ml/datasets/Housing)\n",
      "\n"
     ]
    }
   ],
   "source": [
    "print(boston[\"DESCR\"])"
   ]
  },
  {
   "cell_type": "markdown",
   "metadata": {
    "colab_type": "text",
    "id": "fONP7L3L8uuP"
   },
   "source": [
    "Usually is better to normalize the different features, since this helps learning. We will do that with this function where we use numpy wonderful vectorized code."
   ]
  },
  {
   "cell_type": "code",
   "execution_count": null,
   "metadata": {
    "colab": {},
    "colab_type": "code",
    "id": "r1GSqvUy8uuQ"
   },
   "outputs": [],
   "source": [
    "def normalize(dataset):\n",
    "    mu = np.mean(dataset, axis = 0)\n",
    "    sigma = np.std(dataset, axis = 0)\n",
    "    return (dataset-mu)/sigma"
   ]
  },
  {
   "cell_type": "markdown",
   "metadata": {
    "colab_type": "text",
    "id": "wLwpCXaZ8uuT"
   },
   "source": [
    "Let's get the dimension of the data set now"
   ]
  },
  {
   "cell_type": "code",
   "execution_count": null,
   "metadata": {
    "colab": {},
    "colab_type": "code",
    "id": "3vWl_dHX8uuT",
    "outputId": "2f10e39f-ee54-422d-fe75-c1708fdd89c1"
   },
   "outputs": [
    {
     "name": "stdout",
     "output_type": "stream",
     "text": [
      "The dataset has 506 training samples.\n",
      "The dataset has 13 features.\n"
     ]
    }
   ],
   "source": [
    "n_training_samples = features.shape[0]\n",
    "n_dim = features.shape[1]\n",
    "\n",
    "print('The dataset has',n_training_samples,'training samples.')\n",
    "print('The dataset has',n_dim,'features.')"
   ]
  },
  {
   "cell_type": "markdown",
   "metadata": {
    "colab_type": "text",
    "id": "8vNkV_Jq8uuW"
   },
   "source": [
    "So in the variable ```n_training_samples``` we have the number of different input observations, and in the variable ```n_dim``` we have the number of features (or variables if you like) that we have at our disposal."
   ]
  },
  {
   "cell_type": "code",
   "execution_count": null,
   "metadata": {
    "colab": {},
    "colab_type": "code",
    "id": "GFA77JuN8uuW"
   },
   "outputs": [],
   "source": [
    "features_norm = normalize(features)"
   ]
  },
  {
   "cell_type": "markdown",
   "metadata": {
    "colab_type": "text",
    "id": "B3XJTSZI8uuY"
   },
   "source": [
    "Now let's check the dimensions of our dataset and labels."
   ]
  },
  {
   "cell_type": "code",
   "execution_count": null,
   "metadata": {
    "colab": {},
    "colab_type": "code",
    "id": "franMQ_38uuZ",
    "outputId": "0039af0a-59e1-4128-c318-feee0b734049"
   },
   "outputs": [
    {
     "name": "stdout",
     "output_type": "stream",
     "text": [
      "(506, 13)\n",
      "(506,)\n"
     ]
    }
   ],
   "source": [
    "print(features_norm.shape)\n",
    "print(labels.shape)"
   ]
  },
  {
   "cell_type": "markdown",
   "metadata": {
    "colab_type": "text",
    "id": "eLKHihgr8uuc"
   },
   "source": [
    "Let's build a train and a test sets splitting them randomly 80/20. We transposed the matrices since we will use a specific conventions later on when building our neurla networks. It is not a necessary steps if you are consistent when you write your neural networks."
   ]
  },
  {
   "cell_type": "code",
   "execution_count": null,
   "metadata": {
    "colab": {},
    "colab_type": "code",
    "id": "VcKD7jGS8uuc",
    "outputId": "863d8502-d8f5-43c2-d2f7-c3fb6a710f79"
   },
   "outputs": [
    {
     "name": "stdout",
     "output_type": "stream",
     "text": [
      "(13, 399)\n",
      "(399,)\n"
     ]
    }
   ],
   "source": [
    "np.random.seed(42)\n",
    "rnd = np.random.rand(len(features_norm)) < 0.8\n",
    "\n",
    "train_x = np.transpose(features_norm[rnd])\n",
    "train_y = np.transpose(labels[rnd])\n",
    "test_x = np.transpose(features_norm[~rnd])\n",
    "test_y = np.transpose(labels[~rnd])\n",
    "\n",
    "print(train_x.shape)\n",
    "print(train_y.shape)"
   ]
  },
  {
   "cell_type": "markdown",
   "metadata": {
    "colab_type": "text",
    "id": "V7SjLKTr8uuf"
   },
   "source": [
    "Note that in tensorflow we will define the lables (our ```train_y```) as a tensor of dimensions ```(n_training_samples*0.8, 1)``` so we will have to reshape the numpy array that otherwise has dimension ```(n_training_samples*0.8,)```. "
   ]
  },
  {
   "cell_type": "code",
   "execution_count": null,
   "metadata": {
    "colab": {},
    "colab_type": "code",
    "id": "PDDNdkgV8uug",
    "outputId": "2efcfebf-66bc-44b1-c417-dadf96be59fb"
   },
   "outputs": [
    {
     "name": "stdout",
     "output_type": "stream",
     "text": [
      "(1, 399)\n",
      "(1, 107)\n"
     ]
    }
   ],
   "source": [
    "train_y = train_y.reshape(1,len(train_y))\n",
    "test_y = test_y.reshape(1,len(test_y))\n",
    "\n",
    "print(train_y.shape)\n",
    "print(test_y.shape)"
   ]
  },
  {
   "cell_type": "markdown",
   "metadata": {
    "colab_type": "text",
    "id": "X_YoEsLj8uuk"
   },
   "source": [
    "# Linear Regression"
   ]
  },
  {
   "cell_type": "markdown",
   "metadata": {
    "colab_type": "text",
    "id": "ZuEUPHc68uum"
   },
   "source": [
    "## Let's start with tensorflow modelling for a linear regression"
   ]
  },
  {
   "cell_type": "markdown",
   "metadata": {
    "colab_type": "text",
    "id": "dX6jSICG8uum"
   },
   "source": [
    "Now keep in mind that is an overkill. We could solve linear regression exactly without the need of using gradient descent or similar optimisation algorithm. But I find it very instructive to see how to build such an easy model with tensorflow. The following diagram explain what kind of neural network we need to perform linear regression. To note is (for those with some more experience with neural networks) that we use one single neuron with an identity activation function. The term $WX+b$ is simply a linear combination of the input plus a constat term (bias) $b$. With $n_x$ we have indicated the number of observations we have at our disposal. $y\\_$ is the predicted output given a certain input vector ${\\bf x} = (x_1, x_2, ... , x_{n_x})$."
   ]
  },
  {
   "cell_type": "markdown",
   "metadata": {
    "colab_type": "text",
    "id": "lJgiynWv8uun"
   },
   "source": [
    "First we define the variables and placeholders we need to build the network above."
   ]
  },
  {
   "cell_type": "code",
   "execution_count": null,
   "metadata": {
    "colab": {},
    "colab_type": "code",
    "id": "g25hviDL8uuo"
   },
   "outputs": [],
   "source": [
    "tf.reset_default_graph()\n",
    "\n",
    "X = tf.placeholder(tf.float32, [n_dim, None])\n",
    "Y = tf.placeholder(tf.float32, [1, None])\n",
    "learning_rate = tf.placeholder(tf.float32, shape=())\n",
    "\n",
    "W = tf.Variable(tf.ones([n_dim, 1]))\n",
    "b = tf.Variable(tf.zeros(1))\n",
    "\n",
    "init = tf.global_variables_initializer()"
   ]
  },
  {
   "cell_type": "markdown",
   "metadata": {
    "colab_type": "text",
    "id": "b05IXMAk8uur"
   },
   "source": [
    "Then we actually define the actual computation $WX+b$. Additionally we need to define the cost function $J$ we want to minimize. In case of regression this is simply the MSE. Then we choose which optimisation algorithm we want to use (in this case the gradient descent optimizer)."
   ]
  },
  {
   "cell_type": "code",
   "execution_count": null,
   "metadata": {
    "colab": {},
    "colab_type": "code",
    "id": "S7osIszi8uur"
   },
   "outputs": [],
   "source": [
    "y_ = tf.matmul(tf.transpose(W),X)+b\n",
    "cost = tf.reduce_mean(tf.square(y_-Y))\n",
    "training_step = tf.train.GradientDescentOptimizer(learning_rate).minimize(cost)"
   ]
  },
  {
   "cell_type": "markdown",
   "metadata": {
    "colab_type": "text",
    "id": "qD8kHIdj8uus"
   },
   "source": [
    "To facilitate testing of several hyperparameters (in this case just the learning rate) we will define a function that will perform the training itself. To be able to call it with several values of the learning rate and see what happens."
   ]
  },
  {
   "cell_type": "code",
   "execution_count": null,
   "metadata": {
    "colab": {},
    "colab_type": "code",
    "id": "RE2xz9-08uut"
   },
   "outputs": [],
   "source": [
    "def run_linear_model(learning_r, training_epochs, train_obs, train_labels, debug = False):\n",
    "    sess = tf.Session()\n",
    "    sess.run(init)\n",
    "    \n",
    "    cost_history = np.empty(shape=[0], dtype = float)\n",
    "\n",
    "    for epoch in range(training_epochs+1):\n",
    "        sess.run(training_step, feed_dict = {X: train_obs, Y: train_labels, learning_rate: learning_r})\n",
    "        cost_ = sess.run(cost, feed_dict={ X:train_obs, Y: train_labels, learning_rate: learning_r})\n",
    "        cost_history = np.append(cost_history, cost_)\n",
    "    \n",
    "        if (epoch % 1000 == 0) & debug:\n",
    "            print(\"Reached epoch\",epoch,\"cost J =\", str.format('{0:.6f}', cost_))\n",
    "            \n",
    "    return sess, cost_history"
   ]
  },
  {
   "cell_type": "code",
   "execution_count": null,
   "metadata": {
    "colab": {},
    "colab_type": "code",
    "id": "mDVp5SYK8uuv",
    "outputId": "fd3f7e6b-0e44-4308-8dc8-e8e688505c49"
   },
   "outputs": [
    {
     "name": "stdout",
     "output_type": "stream",
     "text": [
      "Reached epoch 0 cost J = 613.947144\n",
      "Reached epoch 1000 cost J = 22.131165\n",
      "Reached epoch 2000 cost J = 22.081099\n",
      "Reached epoch 3000 cost J = 22.076544\n",
      "Reached epoch 4000 cost J = 22.076109\n",
      "Reached epoch 5000 cost J = 22.076061\n",
      "Reached epoch 6000 cost J = 22.076057\n",
      "Reached epoch 7000 cost J = 22.076059\n",
      "Reached epoch 8000 cost J = 22.076059\n",
      "Reached epoch 9000 cost J = 22.076054\n",
      "Reached epoch 10000 cost J = 22.076054\n"
     ]
    }
   ],
   "source": [
    "sess, cost_history = run_linear_model(learning_r = 0.01, \n",
    "                                training_epochs = 10000, \n",
    "                                train_obs = train_x, \n",
    "                                train_labels = train_y, \n",
    "                                debug = True)"
   ]
  },
  {
   "cell_type": "markdown",
   "metadata": {
    "colab_type": "text",
    "id": "2FHe98r18uux"
   },
   "source": [
    "## Plot of the cost function"
   ]
  },
  {
   "cell_type": "code",
   "execution_count": null,
   "metadata": {
    "colab": {},
    "colab_type": "code",
    "id": "hjULxfbe8uux",
    "outputId": "2b51e73f-0a41-46d0-8044-dc4c45cbd6a4"
   },
   "outputs": [
    {
     "data": {
      "text/plain": [
       "<matplotlib.figure.Figure at 0x1d3ac445b70>"
      ]
     },
     "metadata": {
      "tags": []
     },
     "output_type": "display_data"
    },
    {
     "data": {
      "image/png": "[encoded data removed]",
      "text/plain": [
       "<matplotlib.figure.Figure at 0x1d3a91e0160>"
      ]
     },
     "metadata": {
      "tags": []
     },
     "output_type": "display_data"
    }
   ],
   "source": [
    "plt.rc('font', family='arial')\n",
    "plt.rc('xtick', labelsize='x-small')\n",
    "plt.rc('ytick', labelsize='x-small')\n",
    "\n",
    "plt.tight_layout()\n",
    "\n",
    "fig = plt.figure(figsize=(10, 7))\n",
    "\n",
    "ax = fig.add_subplot(1, 1, 1)\n",
    "ax.plot(cost_history, ls='solid', color = 'black')\n",
    "ax.set_xlabel('epochs', fontsize = 16)\n",
    "ax.set_ylabel('Cost function $J$ (MSE)', fontsize = 16)\n",
    "plt.xlim(0,200)\n",
    "plt.tick_params(labelsize=16)"
   ]
  },
  {
   "cell_type": "markdown",
   "metadata": {
    "colab_type": "text",
    "id": "F0IjR5FQ8uuz"
   },
   "source": [
    "Let's check the results plotting each observation on a plot where we have on the ```y``` axis the predicted value an on the ```x``` axis the measured value. If the model would get all observations perfectly right all points would be exactly on the diagonal line (that we have marked with a dashed line in the plot). The better the model the more the points aggregrate along the diagonal. The worse the model is the more scattered the points are."
   ]
  },
  {
   "cell_type": "markdown",
   "metadata": {
    "colab_type": "text",
    "id": "2Fump9Eh8uuz"
   },
   "source": [
    "## Figure 1-15: Predicted vs. measured"
   ]
  },
  {
   "cell_type": "code",
   "execution_count": null,
   "metadata": {
    "colab": {},
    "colab_type": "code",
    "id": "ef3Fo8nZ8uu0",
    "outputId": "b0f9afca-5b1e-4a2b-c059-c251f7bac8ab"
   },
   "outputs": [
    {
     "data": {
      "text/plain": [
       "<matplotlib.figure.Figure at 0x1d3ac24d1d0>"
      ]
     },
     "metadata": {
      "tags": []
     },
     "output_type": "display_data"
    },
    {
     "data": {
      "image/png": "[encoded data removed]",
      "text/plain": [
       "<matplotlib.figure.Figure at 0x1d3ac45bef0>"
      ]
     },
     "metadata": {
      "tags": []
     },
     "output_type": "display_data"
    }
   ],
   "source": [
    "pred_y = sess.run(y_, feed_dict = {X: test_x, Y: test_y})\n",
    "mse = tf.reduce_mean(tf.square(pred_y - test_y))\n",
    "\n",
    "plt.rc('font', family='arial')\n",
    "plt.rc('xtick', labelsize='x-small')\n",
    "plt.rc('ytick', labelsize='x-small')\n",
    "    \n",
    "plt.tight_layout()\n",
    "\n",
    "fig = plt.figure(figsize=(10, 7))\n",
    "ax = fig.add_subplot(1, 1, 1)\n",
    "ax.scatter(test_y, pred_y, lw = 5)\n",
    "ax.plot([test_y.min(), test_y.max()], [test_y.min(), test_y.max()], 'k--', lw = 5)\n",
    "ax.set_xlabel('Measured Target Value', fontsize = 16)\n",
    "ax.set_ylabel('Predicted Target Value', fontsize = 16)\n",
    "plt.tick_params(labelsize=16)"
   ]
  },
  {
   "cell_type": "markdown",
   "metadata": {
    "colab_type": "text",
    "id": "j_ns2Y6Y8uu3"
   },
   "source": [
    "To check for overfitting (in case of linear regression this is an almost useless exercise, but I find it instructive) we need to compare the MSE for the train and test set"
   ]
  },
  {
   "cell_type": "code",
   "execution_count": null,
   "metadata": {
    "colab": {},
    "colab_type": "code",
    "id": "FL5HUqTJ8uu3",
    "outputId": "17816f14-05e5-4038-af2b-e6b5d0562e43"
   },
   "outputs": [
    {
     "name": "stdout",
     "output_type": "stream",
     "text": [
      "MSE Test: 23.0605\n",
      "MSE Train: 22.0761\n"
     ]
    }
   ],
   "source": [
    "compare_mse(sess, y_, train_x, test_x, 1)"
   ]
  },
  {
   "cell_type": "markdown",
   "metadata": {
    "colab_type": "text",
    "id": "ciGRj1fk8uu6"
   },
   "source": [
    "The two values are comparable."
   ]
  },
  {
   "cell_type": "code",
   "execution_count": null,
   "metadata": {
    "colab": {},
    "colab_type": "code",
    "id": "futAhVs88uu6"
   },
   "outputs": [],
   "source": [
    "sess.close()"
   ]
  },
  {
   "cell_type": "markdown",
   "metadata": {
    "colab_type": "text",
    "id": "zi_RsdCP8uu8"
   },
   "source": [
    "## Different learning rates\n",
    "\n",
    "Let's now try different learning rates and see what happens. "
   ]
  },
  {
   "cell_type": "code",
   "execution_count": null,
   "metadata": {
    "colab": {},
    "colab_type": "code",
    "id": "l8Z99iCH8uu8",
    "outputId": "dbe9a097-95af-45c3-9e22-fc0b2891fed9"
   },
   "outputs": [
    {
     "name": "stdout",
     "output_type": "stream",
     "text": [
      "Starting first model\n",
      "Reached epoch 0 cost J = 373.735199\n",
      "Reached epoch 1000 cost J = 22.076057\n",
      "Reached epoch 2000 cost J = 22.076057\n",
      "Reached epoch 3000 cost J = 22.076057\n",
      "Reached epoch 4000 cost J = 22.076057\n",
      "Reached epoch 5000 cost J = 22.076057\n",
      "Reached epoch 6000 cost J = 22.076057\n",
      "Reached epoch 7000 cost J = 22.076057\n",
      "Reached epoch 8000 cost J = 22.076057\n",
      "Reached epoch 9000 cost J = 22.076057\n",
      "Reached epoch 10000 cost J = 22.076057\n",
      "Starting second model\n",
      "Reached epoch 0 cost J = 613.947144\n",
      "Reached epoch 1000 cost J = 22.131165\n",
      "Reached epoch 2000 cost J = 22.081099\n",
      "Reached epoch 3000 cost J = 22.076544\n",
      "Reached epoch 4000 cost J = 22.076109\n",
      "Reached epoch 5000 cost J = 22.076061\n",
      "Reached epoch 6000 cost J = 22.076057\n",
      "Reached epoch 7000 cost J = 22.076059\n",
      "Reached epoch 8000 cost J = 22.076059\n",
      "Reached epoch 9000 cost J = 22.076054\n",
      "Reached epoch 10000 cost J = 22.076054\n",
      "Starting third model\n",
      "Reached epoch 0 cost J = 651.279541\n",
      "Reached epoch 1000 cost J = 34.158741\n",
      "Reached epoch 2000 cost J = 23.443111\n",
      "Reached epoch 3000 cost J = 22.751892\n",
      "Reached epoch 4000 cost J = 22.487667\n",
      "Reached epoch 5000 cost J = 22.343351\n",
      "Reached epoch 6000 cost J = 22.258703\n",
      "Reached epoch 7000 cost J = 22.206200\n",
      "Reached epoch 8000 cost J = 22.171843\n",
      "Reached epoch 9000 cost J = 22.148256\n",
      "Reached epoch 10000 cost J = 22.131390\n"
     ]
    }
   ],
   "source": [
    "print ('Starting first model')\n",
    "sess1, cost_history1 = run_linear_model(learning_r = 0.1, \n",
    "                                training_epochs = 10000, \n",
    "                                train_obs = train_x, \n",
    "                                train_labels = train_y, \n",
    "                                debug = True)\n",
    "\n",
    "print ('Starting second model')\n",
    "sess2, cost_history2 = run_linear_model(learning_r = 0.01, \n",
    "                                training_epochs = 10000, \n",
    "                                train_obs = train_x, \n",
    "                                train_labels = train_y, \n",
    "                                debug = True)\n",
    "\n",
    "print ('Starting third model')\n",
    "sess3, cost_history3 = run_linear_model(learning_r = 0.001, \n",
    "                                training_epochs = 10000, \n",
    "                                train_obs = train_x, \n",
    "                                train_labels = train_y, \n",
    "                                debug = True)"
   ]
  },
  {
   "cell_type": "markdown",
   "metadata": {
    "colab_type": "text",
    "id": "rjOQS_Xs8uu_"
   },
   "source": [
    "## Figure 1-16: different learning rates"
   ]
  },
  {
   "cell_type": "code",
   "execution_count": null,
   "metadata": {
    "colab": {},
    "colab_type": "code",
    "id": "PLa3RWsS8uu_",
    "outputId": "84a9d3f9-f6f7-4f63-f102-09ae7c295bd2"
   },
   "outputs": [
    {
     "data": {
      "text/plain": [
       "<matplotlib.figure.Figure at 0x1d3ad2887f0>"
      ]
     },
     "metadata": {
      "tags": []
     },
     "output_type": "display_data"
    },
    {
     "data": {
      "image/png": "[encoded data removed]",
      "text/plain": [
       "<matplotlib.figure.Figure at 0x1d3ad288b00>"
      ]
     },
     "metadata": {
      "tags": []
     },
     "output_type": "display_data"
    }
   ],
   "source": [
    "plt.rc('font', family='arial')\n",
    "plt.rc('xtick', labelsize='x-small')\n",
    "plt.rc('ytick', labelsize='x-small')\n",
    "    \n",
    "plt.tight_layout()\n",
    "\n",
    "fig = plt.figure(figsize=(10, 7))\n",
    "ax = fig.add_subplot(1, 1, 1)\n",
    "ax.plot(cost_history1, ls='solid', color = 'black', label='$\\gamma=0.1$')\n",
    "ax.plot(cost_history2, ls='dashed', color = 'black', label='$\\gamma=0.01$')\n",
    "ax.plot(cost_history3, ls='dotted', color = 'black', label='$\\gamma=0.001$')\n",
    "ax.set_xlabel('epochs', fontsize = 16)\n",
    "ax.set_ylabel('Cost function $J$ (MSE)', fontsize = 16)\n",
    "plt.xlim(0,300)\n",
    "plt.legend(bbox_to_anchor=(1.05, 1), loc=2, borderaxespad=0., fontsize = 16)\n",
    "plt.tick_params(labelsize=16)"
   ]
  },
  {
   "cell_type": "markdown",
   "metadata": {
    "colab_type": "text",
    "id": "t33GF51Z8uvC"
   },
   "source": [
    "As expected the higher the learning rate the faster it converges to a low value (the one we expect from the linear model we are using). Note that this is a very trivial model. In real cases what happens is that if the learning rate is too big the model very often will not converge, since it will not be able to converge to a minimum. Several books and blogs discuss this problem at length. \n",
    "\n",
    "What we are doing here is a very basic and trivial hypterparameter tuning. To find out which model (in this case which hyperparameters) are the best for our problem. In this case it seems quite clear that a learning rate of 0.1 seems a good choice. It does not require so many epochs to converge to the minimum value we have."
   ]
  },
  {
   "cell_type": "code",
   "execution_count": null,
   "metadata": {
    "colab": {},
    "colab_type": "code",
    "id": "Sz99JlUP8uvC"
   },
   "outputs": [],
   "source": [
    "sess1.close()\n",
    "sess2.close()\n",
    "sess3.close()"
   ]
  },
  {
   "cell_type": "markdown",
   "metadata": {
    "colab_type": "text",
    "id": "yq_VIkf58uvE"
   },
   "source": [
    "Just to compare our results, let's use sklearn library to perform a classical linear regression. It will be useful to see what MSE we can get from a classical/standard linear regression and compare it with what we get with our neural network. \n",
    "\n",
    "**HINT:** the two values should be **very** similar, and they should tend to become the same."
   ]
  },
  {
   "cell_type": "code",
   "execution_count": null,
   "metadata": {
    "colab": {},
    "colab_type": "code",
    "id": "WGisFPoc8uvF",
    "outputId": "700d64f9-9f9a-4b6d-f2f3-407ed843809f"
   },
   "outputs": [
    {
     "name": "stdout",
     "output_type": "stream",
     "text": [
      "Train MSE= 22.0760561914\n",
      "Test MSE= 23.0604521841\n"
     ]
    }
   ],
   "source": [
    "lm = sk.LinearRegression()\n",
    "lm.fit(np.transpose(train_x), np.transpose(train_y))\n",
    "msetest = np.mean((np.transpose(test_y)-lm.predict(np.transpose(test_x)))**2)\n",
    "msetrain = np.mean((np.transpose(train_y)-lm.predict(np.transpose(train_x)))**2)\n",
    "\n",
    "print('Train MSE=',msetrain)\n",
    "print('Test MSE=',msetest)"
   ]
  },
  {
   "cell_type": "markdown",
   "metadata": {
    "colab_type": "text",
    "id": "xZ4L288J8uvG"
   },
   "source": [
    "With our Neural network we got 22.076054 a value that is very close to what we see here of 22.076056. What this tells us, is that our neural network got almost the best possible value we can get. Pretty neat!\n",
    "\n",
    "**Note** is important to note that this (the one coming from the linear regression) is the minimum value we can get for the cost function. To do better we need to use a more complex model, a non linear model. To see what we can do let's try to use more complex network architecture, but let's start with something easy. Remember we have only 13 features and (in the training set) roughly 400 observations. So we need to be aware that it will be easy to overfit the training data. This is why is important to have a test dataset at our disposal to check this."
   ]
  },
  {
   "cell_type": "markdown",
   "metadata": {
    "colab_type": "text",
    "id": "ySN-efEh8uvI"
   },
   "source": [
    "# Exercises"
   ]
  },
  {
   "cell_type": "markdown",
   "metadata": {
    "colab_type": "text",
    "id": "UcMsMYc_8uvI"
   },
   "source": [
    "## Exercise 1 (Difficulty: Easy)"
   ]
  },
  {
   "cell_type": "markdown",
   "metadata": {
    "colab_type": "text",
    "id": "uwNQ4r3W8uvJ"
   },
   "source": [
    "We have only 399 observations. Now try to select only 50 randomly and run your model with the code\n",
    "\n",
    "```\n",
    "sess1, cost_history = run_linear_model(learning_r = 0.1, \n",
    "                                training_epochs = 10000, \n",
    "                                train_obs = train_x, \n",
    "                                train_labels = train_y, \n",
    "                                debug = True)\n",
    "```\n",
    "\n",
    "and plot the cost function vs. the number of epochs to see how it differs from the one we plotted before.\n",
    "\n",
    "***HINT***: remember you will need to create new ```train_x``` and ```train_y``` arrays with your 50 observations and labels."
   ]
  },
  {
   "cell_type": "markdown",
   "metadata": {
    "colab_type": "text",
    "id": "zBgtC5vh8uvJ"
   },
   "source": [
    "## Exercise 2 (Difficulty: Medium)"
   ]
  },
  {
   "cell_type": "markdown",
   "metadata": {
    "colab_type": "text",
    "id": "nyh6K7j08uvK"
   },
   "source": [
    "We have 13 features. Now keep all 399 observations but select just one feature for your model and run the model. Try with 3 different features (the ones you think should be the most important) ones at a time and plot the cost function together for all the 3 different cases to see how they differ."
   ]
  },
  {
   "cell_type": "markdown",
   "metadata": {
    "colab_type": "text",
    "id": "svjZwHOb8uvL"
   },
   "source": [
    "## Exercise 3 (Difficulty: FUN)"
   ]
  },
  {
   "cell_type": "markdown",
   "metadata": {
    "colab_type": "text",
    "id": "yDtL4SEP8uvL"
   },
   "source": [
    "Now let's consider a new dataset, one that deals with measurements on patients affected by diabetes. You can load and check the description of the dataset below with the following python code."
   ]
  },
  {
   "cell_type": "code",
   "execution_count": null,
   "metadata": {
    "colab": {},
    "colab_type": "code",
    "id": "SuCmPXby8uvM"
   },
   "outputs": [],
   "source": [
    "from sklearn import datasets\n",
    "diabetes = datasets.load_diabetes()"
   ]
  },
  {
   "cell_type": "code",
   "execution_count": null,
   "metadata": {
    "colab": {},
    "colab_type": "code",
    "id": "HPcpQwLY8uvP",
    "outputId": "48a32fd4-74e9-42a9-b17c-d6f943993e25"
   },
   "outputs": [
    {
     "name": "stdout",
     "output_type": "stream",
     "text": [
      "Diabetes dataset\n",
      "================\n",
      "\n",
      "Notes\n",
      "-----\n",
      "\n",
      "Ten baseline variables, age, sex, body mass index, average blood\n",
      "pressure, and six blood serum measurements were obtained for each of n =\n",
      "442 diabetes patients, as well as the response of interest, a\n",
      "quantitative measure of disease progression one year after baseline.\n",
      "\n",
      "Data Set Characteristics:\n",
      "\n",
      "  :Number of Instances: 442\n",
      "\n",
      "  :Number of Attributes: First 10 columns are numeric predictive values\n",
      "\n",
      "  :Target: Column 11 is a quantitative measure of disease progression one year after baseline\n",
      "\n",
      "  :Attributes:\n",
      "    :Age:\n",
      "    :Sex:\n",
      "    :Body mass index:\n",
      "    :Average blood pressure:\n",
      "    :S1:\n",
      "    :S2:\n",
      "    :S3:\n",
      "    :S4:\n",
      "    :S5:\n",
      "    :S6:\n",
      "\n",
      "Note: Each of these 10 feature variables have been mean centered and scaled by the standard deviation times `n_samples` (i.e. the sum of squares of each column totals 1).\n",
      "\n",
      "Source URL:\n",
      "http://www4.stat.ncsu.edu/~boos/var.select/diabetes.html\n",
      "\n",
      "For more information see:\n",
      "Bradley Efron, Trevor Hastie, Iain Johnstone and Robert Tibshirani (2004) \"Least Angle Regression,\" Annals of Statistics (with discussion), 407-499.\n",
      "(http://web.stanford.edu/~hastie/Papers/LARS/LeastAngle_2002.pdf)\n",
      "\n"
     ]
    }
   ],
   "source": [
    "print(diabetes.DESCR)"
   ]
  },
  {
   "cell_type": "markdown",
   "metadata": {
    "colab_type": "text",
    "id": "9OyjMclf8uvR"
   },
   "source": [
    "The target variables can be obtained in this way"
   ]
  },
  {
   "cell_type": "code",
   "execution_count": null,
   "metadata": {
    "colab": {},
    "colab_type": "code",
    "id": "49VY8sPW8uvR",
    "outputId": "20adb7cc-3f24-47f2-bd00-73bf4aafae93"
   },
   "outputs": [
    {
     "data": {
      "text/plain": [
       "array([ 151.,   75.,  141.,  206.,  135.,   97.,  138.,   63.,  110.,\n",
       "        310.,  101.,   69.,  179.,  185.,  118.,  171.,  166.,  144.,\n",
       "         97.,  168.,   68.,   49.,   68.,  245.,  184.,  202.,  137.,\n",
       "         85.,  131.,  283.,  129.,   59.,  341.,   87.,   65.,  102.,\n",
       "        265.,  276.,  252.,   90.,  100.,   55.,   61.,   92.,  259.,\n",
       "         53.,  190.,  142.,   75.,  142.,  155.,  225.,   59.,  104.,\n",
       "        182.,  128.,   52.,   37.,  170.,  170.,   61.,  144.,   52.,\n",
       "        128.,   71.,  163.,  150.,   97.,  160.,  178.,   48.,  270.,\n",
       "        202.,  111.,   85.,   42.,  170.,  200.,  252.,  113.,  143.,\n",
       "         51.,   52.,  210.,   65.,  141.,   55.,  134.,   42.,  111.,\n",
       "         98.,  164.,   48.,   96.,   90.,  162.,  150.,  279.,   92.,\n",
       "         83.,  128.,  102.,  302.,  198.,   95.,   53.,  134.,  144.,\n",
       "        232.,   81.,  104.,   59.,  246.,  297.,  258.,  229.,  275.,\n",
       "        281.,  179.,  200.,  200.,  173.,  180.,   84.,  121.,  161.,\n",
       "         99.,  109.,  115.,  268.,  274.,  158.,  107.,   83.,  103.,\n",
       "        272.,   85.,  280.,  336.,  281.,  118.,  317.,  235.,   60.,\n",
       "        174.,  259.,  178.,  128.,   96.,  126.,  288.,   88.,  292.,\n",
       "         71.,  197.,  186.,   25.,   84.,   96.,  195.,   53.,  217.,\n",
       "        172.,  131.,  214.,   59.,   70.,  220.,  268.,  152.,   47.,\n",
       "         74.,  295.,  101.,  151.,  127.,  237.,  225.,   81.,  151.,\n",
       "        107.,   64.,  138.,  185.,  265.,  101.,  137.,  143.,  141.,\n",
       "         79.,  292.,  178.,   91.,  116.,   86.,  122.,   72.,  129.,\n",
       "        142.,   90.,  158.,   39.,  196.,  222.,  277.,   99.,  196.,\n",
       "        202.,  155.,   77.,  191.,   70.,   73.,   49.,   65.,  263.,\n",
       "        248.,  296.,  214.,  185.,   78.,   93.,  252.,  150.,   77.,\n",
       "        208.,   77.,  108.,  160.,   53.,  220.,  154.,  259.,   90.,\n",
       "        246.,  124.,   67.,   72.,  257.,  262.,  275.,  177.,   71.,\n",
       "         47.,  187.,  125.,   78.,   51.,  258.,  215.,  303.,  243.,\n",
       "         91.,  150.,  310.,  153.,  346.,   63.,   89.,   50.,   39.,\n",
       "        103.,  308.,  116.,  145.,   74.,   45.,  115.,  264.,   87.,\n",
       "        202.,  127.,  182.,  241.,   66.,   94.,  283.,   64.,  102.,\n",
       "        200.,  265.,   94.,  230.,  181.,  156.,  233.,   60.,  219.,\n",
       "         80.,   68.,  332.,  248.,   84.,  200.,   55.,   85.,   89.,\n",
       "         31.,  129.,   83.,  275.,   65.,  198.,  236.,  253.,  124.,\n",
       "         44.,  172.,  114.,  142.,  109.,  180.,  144.,  163.,  147.,\n",
       "         97.,  220.,  190.,  109.,  191.,  122.,  230.,  242.,  248.,\n",
       "        249.,  192.,  131.,  237.,   78.,  135.,  244.,  199.,  270.,\n",
       "        164.,   72.,   96.,  306.,   91.,  214.,   95.,  216.,  263.,\n",
       "        178.,  113.,  200.,  139.,  139.,   88.,  148.,   88.,  243.,\n",
       "         71.,   77.,  109.,  272.,   60.,   54.,  221.,   90.,  311.,\n",
       "        281.,  182.,  321.,   58.,  262.,  206.,  233.,  242.,  123.,\n",
       "        167.,   63.,  197.,   71.,  168.,  140.,  217.,  121.,  235.,\n",
       "        245.,   40.,   52.,  104.,  132.,   88.,   69.,  219.,   72.,\n",
       "        201.,  110.,   51.,  277.,   63.,  118.,   69.,  273.,  258.,\n",
       "         43.,  198.,  242.,  232.,  175.,   93.,  168.,  275.,  293.,\n",
       "        281.,   72.,  140.,  189.,  181.,  209.,  136.,  261.,  113.,\n",
       "        131.,  174.,  257.,   55.,   84.,   42.,  146.,  212.,  233.,\n",
       "         91.,  111.,  152.,  120.,   67.,  310.,   94.,  183.,   66.,\n",
       "        173.,   72.,   49.,   64.,   48.,  178.,  104.,  132.,  220.,   57.])"
      ]
     },
     "execution_count": 38,
     "metadata": {
      "tags": []
     },
     "output_type": "execute_result"
    }
   ],
   "source": [
    "diabetes.target"
   ]
  },
  {
   "cell_type": "markdown",
   "metadata": {
    "colab_type": "text",
    "id": "gbCDmqA08uvU"
   },
   "source": [
    "It is as described before\n",
    "\n",
    "> Target: Column 11 is a quantitative measure of disease progression one year after baseline\n"
   ]
  },
  {
   "cell_type": "markdown",
   "metadata": {
    "colab_type": "text",
    "id": "fPJA9O8O8uvV"
   },
   "source": [
    "Your task is to build a model (as the one we built before) to predict this variable as good as possible. Try with different set of features to see (manually) which combinations seems to work best. To check how they compare plot the cost function vs. the number of epochs. "
   ]
  },
  {
   "cell_type": "markdown",
   "metadata": {
    "colab_type": "text",
    "id": "MQov7km28uvV"
   },
   "source": [
    "**HINT** The observations can be obtained with the code"
   ]
  },
  {
   "cell_type": "code",
   "execution_count": null,
   "metadata": {
    "colab": {},
    "colab_type": "code",
    "id": "QurFNQUY8uvW",
    "outputId": "e5a0d1ad-82cd-4b18-cade-61c1c234c088"
   },
   "outputs": [
    {
     "data": {
      "text/plain": [
       "array([[ 0.03807591,  0.05068012,  0.06169621, ..., -0.00259226,\n",
       "         0.01990842, -0.01764613],\n",
       "       [-0.00188202, -0.04464164, -0.05147406, ..., -0.03949338,\n",
       "        -0.06832974, -0.09220405],\n",
       "       [ 0.08529891,  0.05068012,  0.04445121, ..., -0.00259226,\n",
       "         0.00286377, -0.02593034],\n",
       "       ..., \n",
       "       [ 0.04170844,  0.05068012, -0.01590626, ..., -0.01107952,\n",
       "        -0.04687948,  0.01549073],\n",
       "       [-0.04547248, -0.04464164,  0.03906215, ...,  0.02655962,\n",
       "         0.04452837, -0.02593034],\n",
       "       [-0.04547248, -0.04464164, -0.0730303 , ..., -0.03949338,\n",
       "        -0.00421986,  0.00306441]])"
      ]
     },
     "execution_count": 39,
     "metadata": {
      "tags": []
     },
     "output_type": "execute_result"
    }
   ],
   "source": [
    "diabetes.data"
   ]
  },
  {
   "cell_type": "markdown",
   "metadata": {
    "colab_type": "text",
    "id": "tgjjfFyC8uvY"
   },
   "source": [
    "**HINT** The feature names with the code"
   ]
  },
  {
   "cell_type": "code",
   "execution_count": null,
   "metadata": {
    "colab": {},
    "colab_type": "code",
    "id": "Qwd9OUAX8uvY",
    "outputId": "d9e8c59d-267d-4e7f-a091-4db5e37b7314",
    "scrolled": true
   },
   "outputs": [
    {
     "data": {
      "text/plain": [
       "['age', 'sex', 'bmi', 'bp', 's1', 's2', 's3', 's4', 's5', 's6']"
      ]
     },
     "execution_count": 40,
     "metadata": {
      "tags": []
     },
     "output_type": "execute_result"
    }
   ],
   "source": [
    "diabetes.feature_names"
   ]
  },
  {
   "cell_type": "markdown",
   "metadata": {
    "colab_type": "text",
    "id": "sCKb5Lui8uva"
   },
   "source": [
    "## Exercise 3 (Difficulty: FUN) - Additional question"
   ]
  },
  {
   "cell_type": "markdown",
   "metadata": {
    "colab_type": "text",
    "id": "F_d2-vpU8uvb"
   },
   "source": [
    "Once you have selected the best combination of features and found the MSE value you can reach, try to do the same with sklearn library (you can find more information here: http://scikit-learn.org/stable/modules/generated/sklearn.linear_model.LinearRegression.html)"
   ]
  },
  {
   "cell_type": "code",
   "execution_count": null,
   "metadata": {
    "colab": {},
    "colab_type": "code",
    "id": "QDIkVJzI8uvb"
   },
   "outputs": [],
   "source": []
  }
 ],
 "metadata": {
  "colab": {
   "include_colab_link": true,
   "name": "Week 4 - Linear Regression with Tensor Flow.ipynb",
   "provenance": [],
   "version": "0.3.2"
  },
  "kernelspec": {
   "display_name": "Python 3",
   "language": "python",
   "name": "python3"
  },
  "language_info": {
   "codemirror_mode": {
    "name": "ipython",
    "version": 3
   },
   "file_extension": ".py",
   "mimetype": "text/x-python",
   "name": "python",
   "nbconvert_exporter": "python",
   "pygments_lexer": "ipython3",
   "version": "3.7.2"
  }
 },
 "nbformat": 4,
 "nbformat_minor": 2
}
