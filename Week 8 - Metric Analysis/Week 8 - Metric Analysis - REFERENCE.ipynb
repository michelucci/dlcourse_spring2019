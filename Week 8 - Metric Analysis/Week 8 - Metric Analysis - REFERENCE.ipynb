{
 "cells": [
  {
   "cell_type": "markdown",
   "metadata": {},
   "source": [
    "# Neural Networks and Deep Learning for Life Sciences and Health Applications - An introductory course about theoretical fundamentals, case studies and implementations in python and tensorflow"
   ]
  },
  {
   "cell_type": "markdown",
   "metadata": {},
   "source": [
    "(C) Umberto Michelucci 2018 - umberto.michelucci@gmail.com \n",
    "\n",
    "github repository: https://github.com/michelucci/zhaw-dlcourse-spring2019\n",
    "\n",
    "Spring Semester 2019"
   ]
  },
  {
   "cell_type": "markdown",
   "metadata": {},
   "source": [
    "# Error Analysis Diagram Code (EAD)"
   ]
  },
  {
   "cell_type": "code",
   "execution_count": 127,
   "metadata": {},
   "outputs": [],
   "source": [
    "import numpy as np\n",
    "import matplotlib.pyplot as plt"
   ]
  },
  {
   "cell_type": "code",
   "execution_count": 128,
   "metadata": {},
   "outputs": [],
   "source": [
    "eps = [1,3,9,5]"
   ]
  },
  {
   "cell_type": "code",
   "execution_count": 3,
   "metadata": {},
   "outputs": [
    {
     "data": {
      "text/plain": [
       "<matplotlib.lines.Line2D at 0x1b2c3f5d4a8>"
      ]
     },
     "execution_count": 3,
     "metadata": {},
     "output_type": "execute_result"
    },
    {
     "data": {
      "image/png": "[encoded data removed]",
      "text/plain": [
       "<matplotlib.figure.Figure at 0x1b2c1edf6a0>"
      ]
     },
     "metadata": {},
     "output_type": "display_data"
    }
   ],
   "source": [
    "colors = [()]\n",
    "\n",
    "fig, ax = plt.subplots()\n",
    "bar = ax.bar(x = [1,2,3,4], height = eps, width = 1.0, color = (0.9,0.9,0.9), edgecolor = 'Black')\n",
    "bar[0].set_hatch('/')\n",
    "bar[0].set_color((0.9,0.9,0.9))\n",
    "bar[0].set_edgecolor('Black')\n",
    "bar[1].set_color((0.8,0.8,0.8))\n",
    "bar[1].set_hatch('/')\n",
    "bar[1].set_edgecolor('Black')\n",
    "bar[2].set_hatch('/')\n",
    "bar[2].set_color((0.7,0.7,0.7))\n",
    "bar[2].set_edgecolor('Black')\n",
    "bar[3].set_hatch('/')\n",
    "bar[3].set_color((0.6,0.6,0.6))\n",
    "bar[3].set_edgecolor('Black')\n",
    "plt.xticks([1,2,3,4], ['Avoidable Bias','Variance','Data Mismatch\\nProblem','Overfitting\\non Dev'], \n",
    "           rotation = 'vertical', fontsize = 14)\n",
    "plt.yticks([0,2,4,6,8,10],['','2','4','6','8','10'], fontsize = 14)\n",
    "plt.ylim(0,11)\n",
    "plt.xlim(0.5,4.5)\n",
    "\n",
    "for i,v in enumerate(eps):\n",
    "    ax.text(i+0.9, v+0.4, str(v)+'%', color = 'Black', fontsize = 14)\n",
    "\n",
    "#plt.axhline(y=2, color = 'Black')\n",
    "#plt.axhline(y=4, color = 'Black')\n",
    "#plt.axhline(y=6, color = 'Black')\n",
    "#plt.axhline(y=8, color = 'Black')\n",
    "plt.axvline(x=0.5, color = 'Black')\n",
    "plt.axvline(x=1.5, color = 'Black')\n",
    "plt.axvline(x=2.5, color = 'Black')\n",
    "plt.axvline(x=3.5, color = 'Black')\n",
    "plt.axvline(x=4.5, color = 'Black')"
   ]
  },
  {
   "cell_type": "markdown",
   "metadata": {},
   "source": [
    "# Figure 6-4"
   ]
  },
  {
   "cell_type": "code",
   "execution_count": 70,
   "metadata": {},
   "outputs": [],
   "source": [
    "eps = [9]"
   ]
  },
  {
   "cell_type": "code",
   "execution_count": 77,
   "metadata": {},
   "outputs": [
    {
     "data": {
      "image/png": "[encoded data removed]",
      "text/plain": [
       "<matplotlib.figure.Figure at 0x1d34f65be10>"
      ]
     },
     "metadata": {},
     "output_type": "display_data"
    }
   ],
   "source": [
    "fig, ax = plt.subplots(figsize = (8,5))\n",
    "bar = ax.barh([1,2,3,4], eps, height= 1.0, color = (0.9,0.9,0.9), edgecolor = 'Black')\n",
    "bar[0].set_hatch('/')\n",
    "bar[0].set_color((0.9,0.9,0.9))\n",
    "bar[0].set_edgecolor('Black')\n",
    "#bar[1].set_color((0.75,0.75,0.75))\n",
    "#bar[1].set_hatch('/')\n",
    "#bar[1].set_edgecolor('Black')\n",
    "#bar[2].set_hatch('/')\n",
    "#bar[2].set_color((0.6,0.6,0.6))\n",
    "#bar[2].set_edgecolor('Black')\n",
    "#bar[3].set_hatch('/')\n",
    "#bar[3].set_color((0.45,0.45,0.45))\n",
    "#bar[3].set_edgecolor('Black')\n",
    "plt.yticks([1], ['Bias / $\\Delta \\epsilon_{Bias}$'], \n",
    "            fontsize = 14)\n",
    "plt.xlim(0,11)\n",
    "plt.ylim(0.5,1.5)\n",
    "\n",
    "for i,v in enumerate(eps):\n",
    "    ax.text(v+0.4, i+0.88, str(v)+'%', color = 'Black', fontsize = 14)\n",
    "\n",
    "    \n",
    "plt.xticks([0,2,4,6,8,10],['0','2','4','6','8','10'], fontsize = 14)\n",
    "\n",
    "plt.axhline(y=0.5, color = 'Black')\n",
    "#plt.axhline(y=1.5, color = 'Black')\n",
    "#plt.axhline(y=2.5, color = 'Black')\n",
    "#plt.axhline(y=3.5, color = 'Black')\n",
    "#plt.axhline(y=4.5, color = 'Black')\n",
    "\n",
    "plt.title ('Metric Analysis Diagram (MAD)', fontsize = 14)\n",
    "plt.show()\n",
    "\n",
    "fig.savefig('Figure_6-4'+'.png', format='png', dpi=300,bbox_inches='tight')"
   ]
  },
  {
   "cell_type": "markdown",
   "metadata": {},
   "source": [
    "# Figure 6-5"
   ]
  },
  {
   "cell_type": "code",
   "execution_count": 82,
   "metadata": {},
   "outputs": [],
   "source": [
    "eps = [4,6]"
   ]
  },
  {
   "cell_type": "code",
   "execution_count": 85,
   "metadata": {},
   "outputs": [
    {
     "data": {
      "image/png": "[encoded data removed]",
      "text/plain": [
       "<matplotlib.figure.Figure at 0x1d34f46ec88>"
      ]
     },
     "metadata": {},
     "output_type": "display_data"
    }
   ],
   "source": [
    "fig, ax = plt.subplots(figsize = (8,5))\n",
    "bar = ax.barh([1,2], eps, height= 1.0, color = (0.9,0.9,0.9), edgecolor = 'Black')\n",
    "bar[0].set_hatch('/')\n",
    "bar[0].set_color((0.9,0.9,0.9))\n",
    "bar[0].set_edgecolor('Black')\n",
    "bar[1].set_color((0.75,0.75,0.75))\n",
    "bar[1].set_hatch('/')\n",
    "bar[1].set_edgecolor('Black')\n",
    "#bar[2].set_hatch('/')\n",
    "#bar[2].set_color((0.6,0.6,0.6))\n",
    "#bar[2].set_edgecolor('Black')\n",
    "#bar[3].set_hatch('/')\n",
    "#bar[3].set_color((0.45,0.45,0.45))\n",
    "#bar[3].set_edgecolor('Black')\n",
    "plt.yticks([1,2], ['Overfitting of training dataset / $\\Delta \\epsilon_{overfitting\\ train}$', 'Bias / $\\Delta \\epsilon_{Bias}$'], \n",
    "            fontsize = 14)\n",
    "plt.xlim(0,11)\n",
    "plt.ylim(0.5,2.5)\n",
    "\n",
    "for i,v in enumerate(eps):\n",
    "    ax.text(v+0.4, i+0.88, str(v)+'%', color = 'Black', fontsize = 14)\n",
    "\n",
    "    \n",
    "plt.xticks([0,2,4,6,8,10],['0','2','4','6','8','10'], fontsize = 14)\n",
    "\n",
    "plt.axhline(y=0.5, color = 'Black')\n",
    "plt.axhline(y=1.5, color = 'Black')\n",
    "#plt.axhline(y=2.5, color = 'Black')\n",
    "#plt.axhline(y=3.5, color = 'Black')\n",
    "#plt.axhline(y=4.5, color = 'Black')\n",
    "\n",
    "plt.title ('Metric Analysis Diagram (MAD)', fontsize = 14)\n",
    "plt.show()\n",
    "\n",
    "fig.savefig('Figure_6-5'+'.png', format='png', dpi=300,bbox_inches='tight')"
   ]
  },
  {
   "cell_type": "markdown",
   "metadata": {},
   "source": [
    "# Figure 6-6"
   ]
  },
  {
   "cell_type": "code",
   "execution_count": 133,
   "metadata": {},
   "outputs": [],
   "source": [
    "eps = [8,4,6]"
   ]
  },
  {
   "cell_type": "code",
   "execution_count": 134,
   "metadata": {},
   "outputs": [
    {
     "data": {
      "image/png": "[encoded data removed]",
      "text/plain": [
       "<matplotlib.figure.Figure at 0x1d351e7fb00>"
      ]
     },
     "metadata": {},
     "output_type": "display_data"
    }
   ],
   "source": [
    "fig, ax = plt.subplots(figsize = (8,5))\n",
    "bar = ax.barh([1,2,3], eps, height= 1.0, color = (0.9,0.9,0.9), edgecolor = 'Black')\n",
    "bar[0].set_hatch('/')\n",
    "bar[0].set_color((0.9,0.9,0.9))\n",
    "bar[0].set_edgecolor('Black')\n",
    "bar[1].set_color((0.75,0.75,0.75))\n",
    "bar[1].set_hatch('/')\n",
    "bar[1].set_edgecolor('Black')\n",
    "bar[2].set_hatch('/')\n",
    "bar[2].set_color((0.6,0.6,0.6))\n",
    "bar[2].set_edgecolor('Black')\n",
    "#bar[3].set_hatch('/')\n",
    "#bar[3].set_color((0.45,0.45,0.45))\n",
    "#bar[3].set_edgecolor('Black')\n",
    "plt.yticks([1,2,3], ['Overfitting of dev dataset / $\\Delta \\epsilon_{overfitting\\ dev}$',\n",
    "                   'Overfitting of training dataset / $\\Delta \\epsilon_{overfitting\\ train}$', \n",
    "                   'Bias / $\\Delta \\epsilon_{Bias}$'], \n",
    "            fontsize = 14)\n",
    "plt.xlim(0,11)\n",
    "plt.ylim(0.5,3.5)\n",
    "\n",
    "for i,v in enumerate(eps):\n",
    "    ax.text(v+0.4, i+0.88, str(v)+'%', color = 'Black', fontsize = 14)\n",
    "\n",
    "    \n",
    "plt.xticks([0,2,4,6,8,10],['0','2','4','6','8','10'], fontsize = 14)\n",
    "\n",
    "plt.axhline(y=0.5, color = 'Black')\n",
    "plt.axhline(y=1.5, color = 'Black')\n",
    "plt.axhline(y=2.5, color = 'Black')\n",
    "#plt.axhline(y=3.5, color = 'Black')\n",
    "#plt.axhline(y=4.5, color = 'Black')\n",
    "\n",
    "plt.title ('Metric Analysis Diagram (MAD)', fontsize = 14)\n",
    "plt.show()\n",
    "\n",
    "fig.savefig('Figure_6-6'+'.png', format='png', dpi=300,bbox_inches='tight')"
   ]
  },
  {
   "cell_type": "code",
   "execution_count": 206,
   "metadata": {},
   "outputs": [
    {
     "data": {
      "image/png": "[encoded data removed]",
      "text/plain": [
       "<matplotlib.figure.Figure at 0x1d3576428d0>"
      ]
     },
     "metadata": {},
     "output_type": "display_data"
    }
   ],
   "source": [
    "fig, ax = plt.subplots(figsize = (8,5))\n",
    "bar = ax.barh([1,2,3,4], eps, height= 1.0, color = (0.9,0.9,0.9), edgecolor = 'Black')\n",
    "bar[0].set_hatch('/')\n",
    "bar[0].set_color((0.9,0.9,0.9))\n",
    "bar[0].set_edgecolor('Black')\n",
    "bar[1].set_color((0.75,0.75,0.75))\n",
    "bar[1].set_hatch('/')\n",
    "bar[1].set_edgecolor('Black')\n",
    "bar[2].set_hatch('/')\n",
    "bar[2].set_color((0.6,0.6,0.6))\n",
    "bar[2].set_edgecolor('Black')\n",
    "bar[3].set_hatch('/')\n",
    "bar[3].set_color((0.45,0.45,0.45))\n",
    "bar[3].set_edgecolor('Black')\n",
    "plt.yticks([1,2,3,4], ['Overfitting of dev dataset / $\\Delta \\epsilon_{overfitting\\ dev}$',\n",
    "                   'Data mismatch (between train and dev) / $\\Delta \\epsilon_{train-dev}$', \n",
    "                   'Overfitting of training dataset / $\\Delta \\epsilon_{overfitting\\ train}$', \n",
    "                   'Bias / $\\Delta \\epsilon_{Bias}$'], \n",
    "            fontsize = 14)\n",
    "plt.xlim(0,11)\n",
    "plt.ylim(0.5,4.5)\n",
    "\n",
    "for i,v in enumerate(eps):\n",
    "    ax.text(v+0.4, i+0.88, str(v)+'%', color = 'Black', fontsize = 14)\n",
    "\n",
    "    \n",
    "plt.xticks([0,2,4,6,8,10],['0','2','4','6','8','10'], fontsize = 14)\n",
    "\n",
    "plt.axhline(y=0.5, color = 'Black')\n",
    "plt.axhline(y=1.5, color = 'Black')\n",
    "plt.axhline(y=2.5, color = 'Black')\n",
    "plt.axhline(y=3.5, color = 'Black')\n",
    "plt.axhline(y=4.5, color = 'Black')\n",
    "\n",
    "plt.title ('Error Analysis Diagram (EAD)', fontsize = 14)\n",
    "plt.show()\n",
    "\n",
    "fig.savefig('Figure_6-X'+'.png', format='png', dpi=300,bbox_inches='tight')"
   ]
  },
  {
   "cell_type": "code",
   "execution_count": null,
   "metadata": {},
   "outputs": [],
   "source": []
  },
  {
   "cell_type": "markdown",
   "metadata": {},
   "source": [
    "# Figure 6-8"
   ]
  },
  {
   "cell_type": "code",
   "execution_count": 212,
   "metadata": {},
   "outputs": [],
   "source": [
    "eps = [3,12,7,2]"
   ]
  },
  {
   "cell_type": "code",
   "execution_count": 213,
   "metadata": {},
   "outputs": [
    {
     "data": {
      "image/png": "[encoded data removed]",
      "text/plain": [
       "<matplotlib.figure.Figure at 0x1d354d4dba8>"
      ]
     },
     "metadata": {},
     "output_type": "display_data"
    }
   ],
   "source": [
    "fig, ax = plt.subplots(figsize = (8,5))\n",
    "bar = ax.barh([1,2,3,4], eps, height= 1.0, color = (0.9,0.9,0.9), edgecolor = 'Black')\n",
    "bar[0].set_hatch('/')\n",
    "bar[0].set_color((0.9,0.9,0.9))\n",
    "bar[0].set_edgecolor('Black')\n",
    "bar[1].set_color((0.75,0.75,0.75))\n",
    "bar[1].set_hatch('/')\n",
    "bar[1].set_edgecolor('Black')\n",
    "bar[2].set_hatch('/')\n",
    "bar[2].set_color((0.6,0.6,0.6))\n",
    "bar[2].set_edgecolor('Black')\n",
    "bar[3].set_hatch('/')\n",
    "bar[3].set_color((0.45,0.45,0.45))\n",
    "bar[3].set_edgecolor('Black')\n",
    "plt.yticks([1,2,3,4], ['Overfitting of dev dataset / $\\Delta \\epsilon_{overfitting\\ dev}$',\n",
    "                   'Data mismatch (between train and dev) / $\\Delta \\epsilon_{train-dev}$', \n",
    "                   'Overfitting of training dataset / $\\Delta \\epsilon_{overfitting\\ train}$', \n",
    "                   'Bias / $\\Delta \\epsilon_{Bias}$'], \n",
    "            fontsize = 14)\n",
    "plt.xlim(0,15)\n",
    "plt.ylim(0.5,4.5)\n",
    "\n",
    "for i,v in enumerate(eps):\n",
    "    ax.text(v+0.4, i+0.88, str(v)+'%', color = 'Black', fontsize = 14)\n",
    "\n",
    "    \n",
    "plt.xticks([0,2,4,6,8,10,12,14],['0','2','4','6','8','10','12','14'], fontsize = 14)\n",
    "\n",
    "plt.axhline(y=0.5, color = 'Black')\n",
    "plt.axhline(y=1.5, color = 'Black')\n",
    "plt.axhline(y=2.5, color = 'Black')\n",
    "plt.axhline(y=3.5, color = 'Black')\n",
    "plt.axhline(y=4.5, color = 'Black')\n",
    "\n",
    "plt.title ('Error Analysis Diagram (EAD)', fontsize = 14)\n",
    "plt.show()\n",
    "\n",
    "fig.savefig('Figure_6-8'+'.png', format='png', dpi=300,bbox_inches='tight')"
   ]
  },
  {
   "cell_type": "markdown",
   "metadata": {},
   "source": [
    "# Figure 6-1"
   ]
  },
  {
   "cell_type": "code",
   "execution_count": 60,
   "metadata": {},
   "outputs": [],
   "source": [
    "x = np.arange(0,1000,10)\n",
    "y = 90-95*np.exp(-x/70)+(x/200-2)*(x>500)"
   ]
  },
  {
   "cell_type": "code",
   "execution_count": 69,
   "metadata": {},
   "outputs": [
    {
     "data": {
      "text/plain": [
       "<matplotlib.figure.Figure at 0x1d34f410518>"
      ]
     },
     "metadata": {},
     "output_type": "display_data"
    },
    {
     "data": {
      "image/png": "[encoded data removed]",
      "text/plain": [
       "<matplotlib.figure.Figure at 0x1d34f410be0>"
      ]
     },
     "metadata": {},
     "output_type": "display_data"
    }
   ],
   "source": [
    "plt.rc('font', family='arial')\n",
    "plt.rc('xtick', labelsize='x-small')\n",
    "plt.rc('ytick', labelsize='x-small')\n",
    "    \n",
    "plt.tight_layout()\n",
    "\n",
    "fig = plt.figure(figsize=(3.9, 3.1))\n",
    "ax = fig.add_subplot(1, 1, 1)\n",
    "\n",
    "ax.axhline(y = 95, color = 'Black', ls = '-')\n",
    "ax.axhline(y = 85, color = 'Black', ls = '--')\n",
    "ax.plot(x, y, lw = 2.0, ls = '-.', color = 'black', label = 'MSE Train')\n",
    "#ax.plot(lambd_x, mse_dev_y, lw = 2.0, ls = '--', color = 'black', label = 'MSE Dev')\n",
    "\n",
    "ax.spines['right'].set_visible(False)\n",
    "ax.spines['top'].set_visible(False)\n",
    "\n",
    "plt.xticks([])\n",
    "\n",
    "ax.set_xlabel('Time invested in Research')\n",
    "ax.set_ylabel('Accuracy')\n",
    "ax.set_xlim(0,1000)\n",
    "ax.set_ylim(0,100)\n",
    "ax.text(400, 100, r'100 - $\\epsilon_{Bayes}$', fontsize = 13)\n",
    "ax.text(400, 75, r'100 - $\\epsilon_{hlp}$', fontsize = 13)\n",
    "#ax.text(12.5, 10, 'More\\nregularization', fontsize = 13)\n",
    "#plt.legend(bbox_to_anchor=(1.05, 1), loc=2, borderaxespad=0.)\n",
    "\n",
    "\n",
    "fig.savefig('Figure_6-1'+'.png', format='png', dpi=300,bbox_inches='tight')"
   ]
  },
  {
   "cell_type": "markdown",
   "metadata": {},
   "source": [
    "# MNIST Shifted"
   ]
  },
  {
   "cell_type": "code",
   "execution_count": 141,
   "metadata": {},
   "outputs": [],
   "source": [
    "import numpy as np\n",
    "from sklearn.datasets import fetch_mldata\n",
    "\n",
    "%matplotlib inline\n",
    "\n",
    "import matplotlib\n",
    "import matplotlib.pyplot as plt\n",
    "\n",
    "from random import *"
   ]
  },
  {
   "cell_type": "code",
   "execution_count": 142,
   "metadata": {},
   "outputs": [
    {
     "data": {
      "text/plain": [
       "{'COL_NAMES': ['label', 'data'],\n",
       " 'DESCR': 'mldata.org dataset: mnist-original',\n",
       " 'data': array([[0, 0, 0, ..., 0, 0, 0],\n",
       "        [0, 0, 0, ..., 0, 0, 0],\n",
       "        [0, 0, 0, ..., 0, 0, 0],\n",
       "        ..., \n",
       "        [0, 0, 0, ..., 0, 0, 0],\n",
       "        [0, 0, 0, ..., 0, 0, 0],\n",
       "        [0, 0, 0, ..., 0, 0, 0]], dtype=uint8),\n",
       " 'target': array([ 0.,  0.,  0., ...,  9.,  9.,  9.])}"
      ]
     },
     "execution_count": 142,
     "metadata": {},
     "output_type": "execute_result"
    }
   ],
   "source": [
    "mnist = fetch_mldata('MNIST original')\n",
    "mnist"
   ]
  },
  {
   "cell_type": "code",
   "execution_count": 143,
   "metadata": {},
   "outputs": [],
   "source": [
    "Xinput,yinput = mnist[\"data\"], mnist[\"target\"]"
   ]
  },
  {
   "cell_type": "code",
   "execution_count": 145,
   "metadata": {},
   "outputs": [
    {
     "data": {
      "image/png": "[encoded data removed]",
      "text/plain": [
       "<matplotlib.figure.Figure at 0x1d35683a400>"
      ]
     },
     "metadata": {},
     "output_type": "display_data"
    }
   ],
   "source": [
    "def plot_digit(some_digit):\n",
    "    \n",
    "    some_digit_image = some_digit.reshape(28,28)\n",
    "\n",
    "    plt.imshow(some_digit_image, cmap = matplotlib.cm.binary, interpolation = \"nearest\")\n",
    "    #plt.axis(\"off\")\n",
    "    plt.show()\n",
    "    \n",
    "plot_digit(Xinput[36003])"
   ]
  },
  {
   "cell_type": "code",
   "execution_count": 94,
   "metadata": {},
   "outputs": [],
   "source": [
    "Xtrain = X_train_tr\n",
    "ytrain = y_train_shifted"
   ]
  },
  {
   "cell_type": "code",
   "execution_count": 97,
   "metadata": {},
   "outputs": [
    {
     "data": {
      "image/png": "[encoded data removed]",
      "text/plain": [
       "<matplotlib.figure.Figure at 0x1d354def5f8>"
      ]
     },
     "metadata": {},
     "output_type": "display_data"
    }
   ],
   "source": [
    "plot_digit(Xtrain[:,1005])"
   ]
  },
  {
   "cell_type": "markdown",
   "metadata": {},
   "source": [
    "## Let's shift the images"
   ]
  },
  {
   "cell_type": "code",
   "execution_count": 192,
   "metadata": {},
   "outputs": [],
   "source": [
    "Xtrain_shifted = np.zeros_like(Xtrain)\n",
    "for i in range(Xtrain.shape[1]):\n",
    "    tmp = Xtrain[:,i].reshape(28,28)\n",
    "    tmp_shifted = np.zeros_like(tmp)\n",
    "    tmp_shifted[:,10:28] = tmp[:,0:18]\n",
    "    Xtrain_shifted[:,i] = tmp_shifted.reshape(784)"
   ]
  },
  {
   "cell_type": "code",
   "execution_count": 193,
   "metadata": {},
   "outputs": [
    {
     "data": {
      "image/png": "[encoded data removed]",
      "text/plain": [
       "<matplotlib.figure.Figure at 0x1d3548adf98>"
      ]
     },
     "metadata": {},
     "output_type": "display_data"
    },
    {
     "data": {
      "image/png": "[encoded data removed]",
      "text/plain": [
       "<matplotlib.figure.Figure at 0x1d3548ade10>"
      ]
     },
     "metadata": {},
     "output_type": "display_data"
    }
   ],
   "source": [
    "plot_digit(Xtrain[:,7000])\n",
    "plot_digit(Xtrain_shifted[:,7000])"
   ]
  },
  {
   "cell_type": "markdown",
   "metadata": {},
   "source": [
    "## Figure 6-7"
   ]
  },
  {
   "cell_type": "code",
   "execution_count": 197,
   "metadata": {},
   "outputs": [
    {
     "data": {
      "image/png": "[encoded data removed]",
      "text/plain": [
       "<matplotlib.figure.Figure at 0x1d354cfd6a0>"
      ]
     },
     "metadata": {},
     "output_type": "display_data"
    }
   ],
   "source": [
    "f = plt.figure(figsize=(12,6));\n",
    "plt.subplot(1,2,1)\n",
    "plt.imshow(Xtrain[:,1345].reshape(28,28), cmap = matplotlib.cm.binary, interpolation = \"nearest\")\n",
    "plt.subplot(1,2,2)\n",
    "plt.imshow(Xtrain_shifted[:,1345].reshape(28,28), cmap = matplotlib.cm.binary, interpolation = \"nearest\")\n",
    "f.savefig('Figure_6-7'+'.png', format='png', dpi=300,bbox_inches='tight')"
   ]
  },
  {
   "cell_type": "markdown",
   "metadata": {},
   "source": [
    "# Model"
   ]
  },
  {
   "cell_type": "markdown",
   "metadata": {},
   "source": [
    "## Let's create a train, a train-dev and a dev dataset"
   ]
  },
  {
   "cell_type": "code",
   "execution_count": 149,
   "metadata": {},
   "outputs": [],
   "source": [
    "X_ = Xinput[np.any([y == 1,y == 2], axis = 0)]\n",
    "y_ = yinput[np.any([y == 1,y == 2], axis = 0)]"
   ]
  },
  {
   "cell_type": "code",
   "execution_count": 157,
   "metadata": {},
   "outputs": [
    {
     "name": "stdout",
     "output_type": "stream",
     "text": [
      "(14867, 784)\n"
     ]
    }
   ],
   "source": [
    "print(X_.shape)"
   ]
  },
  {
   "cell_type": "code",
   "execution_count": 161,
   "metadata": {},
   "outputs": [],
   "source": [
    "np.random.seed(42)\n",
    "rnd_train = np.random.rand(len(y_)) < 0.8\n",
    "\n",
    "X_train = X_[rnd_train,:]\n",
    "y_train = y_[rnd_train]\n",
    "X_dev = X_[~rnd_train,:]\n",
    "y_dev = y_[~rnd_train]\n"
   ]
  },
  {
   "cell_type": "code",
   "execution_count": 167,
   "metadata": {},
   "outputs": [],
   "source": [
    "X_train_normalised = X_train/255.0\n",
    "X_dev_normalised = X_dev/255.0"
   ]
  },
  {
   "cell_type": "code",
   "execution_count": 168,
   "metadata": {},
   "outputs": [],
   "source": [
    "X_train_tr = X_train_normalised.transpose()\n",
    "y_train_tr = y_train.reshape(1,y_train.shape[0])\n",
    "\n",
    "n_dim = X_train_tr.shape[0]\n",
    "dim_train = X_train_tr.shape[1]\n",
    "\n",
    "X_dev_tr = X_dev_normalised.transpose()\n",
    "y_dev_tr = y_dev.reshape(1,y_dev.shape[0])\n"
   ]
  },
  {
   "cell_type": "code",
   "execution_count": 171,
   "metadata": {},
   "outputs": [],
   "source": [
    "y_train_shifted = y_train_tr - 1\n",
    "y_dev_shifted = y_dev_tr - 1"
   ]
  },
  {
   "cell_type": "code",
   "execution_count": 172,
   "metadata": {},
   "outputs": [],
   "source": [
    "Xtrain = X_train_tr\n",
    "ytrain = y_train_shifted\n",
    "\n",
    "Xdev = X_dev_tr\n",
    "ydev = y_dev_shifted"
   ]
  },
  {
   "cell_type": "code",
   "execution_count": 174,
   "metadata": {},
   "outputs": [
    {
     "name": "stdout",
     "output_type": "stream",
     "text": [
      "(784, 11893)\n",
      "(784, 2974)\n"
     ]
    }
   ],
   "source": [
    "print(Xtrain.shape)\n",
    "print(Xdev.shape)"
   ]
  },
  {
   "cell_type": "markdown",
   "metadata": {},
   "source": [
    "## Let's create the train-dev dataset shifted"
   ]
  },
  {
   "cell_type": "code",
   "execution_count": 186,
   "metadata": {},
   "outputs": [],
   "source": [
    "Xtraindev = np.zeros_like(Xdev)\n",
    "for i in range(Xdev.shape[1]):\n",
    "    tmp = Xdev[:,i].reshape(28,28)\n",
    "    tmp_shifted = np.zeros_like(tmp)\n",
    "    tmp_shifted[:,10:28] = tmp[:,0:18]\n",
    "    Xtraindev[:,i] = tmp_shifted.reshape(784)\n",
    "    \n",
    "ytraindev = ydev"
   ]
  },
  {
   "cell_type": "code",
   "execution_count": 175,
   "metadata": {},
   "outputs": [
    {
     "name": "stdout",
     "output_type": "stream",
     "text": [
      "(784, 2974)\n"
     ]
    }
   ],
   "source": [
    "print(Xtraindev.shape)"
   ]
  },
  {
   "cell_type": "code",
   "execution_count": 176,
   "metadata": {},
   "outputs": [
    {
     "data": {
      "text/plain": [
       "784"
      ]
     },
     "execution_count": 176,
     "metadata": {},
     "output_type": "execute_result"
    }
   ],
   "source": [
    "n_dim"
   ]
  },
  {
   "cell_type": "code",
   "execution_count": 177,
   "metadata": {},
   "outputs": [],
   "source": [
    "import tensorflow as tf"
   ]
  },
  {
   "cell_type": "code",
   "execution_count": 178,
   "metadata": {},
   "outputs": [],
   "source": [
    "tf.reset_default_graph()\n",
    "\n",
    "X = tf.placeholder(tf.float32, [n_dim, None])\n",
    "Y = tf.placeholder(tf.float32, [1, None])\n",
    "learning_rate = tf.placeholder(tf.float32, shape=())\n",
    "\n",
    "W = tf.Variable(tf.zeros([1, n_dim]))\n",
    "b = tf.Variable(tf.zeros(1))\n",
    "\n",
    "init = tf.global_variables_initializer()"
   ]
  },
  {
   "cell_type": "code",
   "execution_count": 179,
   "metadata": {},
   "outputs": [],
   "source": [
    "y_ = tf.sigmoid(tf.matmul(W,X)+b)\n",
    "cost = - tf.reduce_mean(Y * tf.log(y_)+(1-Y) * tf.log(1-y_))\n",
    "training_step = tf.train.GradientDescentOptimizer(learning_rate).minimize(cost)"
   ]
  },
  {
   "cell_type": "code",
   "execution_count": 181,
   "metadata": {},
   "outputs": [],
   "source": [
    "def run_logistic_model(learning_r, training_epochs, train_obs, train_labels, debug = False):\n",
    "    sess = tf.Session()\n",
    "    sess.run(init)\n",
    "    \n",
    "    cost_history = np.empty(shape=[0], dtype = float)\n",
    "\n",
    "    for epoch in range(training_epochs+1):\n",
    "        \n",
    "        sess.run(training_step, feed_dict = {X: train_obs, Y: train_labels, learning_rate: learning_r})\n",
    "\n",
    "        cost_ = sess.run(cost, feed_dict={ X:train_obs, Y: train_labels, learning_rate: learning_r})\n",
    "        cost_history = np.append(cost_history, cost_)\n",
    "        \n",
    "        if (epoch % 10 == 0) & debug:\n",
    "            print(\"Reached epoch\",epoch,\"cost J =\", str.format('{0:.6f}', cost_))\n",
    "            \n",
    "    return sess, cost_history"
   ]
  },
  {
   "cell_type": "code",
   "execution_count": 182,
   "metadata": {},
   "outputs": [
    {
     "name": "stdout",
     "output_type": "stream",
     "text": [
      "Reached epoch 0 cost J = 0.678501\n",
      "Reached epoch 10 cost J = 0.562412\n",
      "Reached epoch 20 cost J = 0.482372\n",
      "Reached epoch 30 cost J = 0.424058\n",
      "Reached epoch 40 cost J = 0.380005\n",
      "Reached epoch 50 cost J = 0.345703\n",
      "Reached epoch 60 cost J = 0.318287\n",
      "Reached epoch 70 cost J = 0.295878\n",
      "Reached epoch 80 cost J = 0.277208\n",
      "Reached epoch 90 cost J = 0.261400\n",
      "Reached epoch 100 cost J = 0.247827\n"
     ]
    }
   ],
   "source": [
    "sess, cost_history = run_logistic_model(learning_r = 0.01, \n",
    "                                training_epochs = 100, \n",
    "                                train_obs = Xtrain, \n",
    "                                train_labels = ytrain, \n",
    "                                debug = True)"
   ]
  },
  {
   "cell_type": "code",
   "execution_count": 183,
   "metadata": {},
   "outputs": [
    {
     "name": "stdout",
     "output_type": "stream",
     "text": [
      "0.968553\n"
     ]
    }
   ],
   "source": [
    "correct_prediction1=tf.equal(tf.greater(y_, 0.5), tf.equal(Y,1))\n",
    "accuracy1 = tf.reduce_mean(tf.cast(correct_prediction1, tf.float32))\n",
    "print(sess.run(accuracy1, feed_dict={X:Xtrain, Y: ytrain, learning_rate: 0.05}))"
   ]
  },
  {
   "cell_type": "code",
   "execution_count": 184,
   "metadata": {},
   "outputs": [
    {
     "name": "stdout",
     "output_type": "stream",
     "text": [
      "0.967384\n"
     ]
    }
   ],
   "source": [
    "correct_prediction1=tf.equal(tf.greater(y_, 0.5), tf.equal(Y,1))\n",
    "accuracy1 = tf.reduce_mean(tf.cast(correct_prediction1, tf.float32))\n",
    "print(sess.run(accuracy1, feed_dict={X:Xdev, Y: ydev, learning_rate: 0.05}))"
   ]
  },
  {
   "cell_type": "code",
   "execution_count": 187,
   "metadata": {},
   "outputs": [
    {
     "name": "stdout",
     "output_type": "stream",
     "text": [
      "0.467048\n"
     ]
    }
   ],
   "source": [
    "correct_prediction1=tf.equal(tf.greater(y_, 0.5), tf.equal(Y,1))\n",
    "accuracy1 = tf.reduce_mean(tf.cast(correct_prediction1, tf.float32))\n",
    "print(sess.run(accuracy1, feed_dict={X:Xtraindev, Y: ytraindev, learning_rate: 0.05}))"
   ]
  },
  {
   "cell_type": "code",
   "execution_count": null,
   "metadata": {},
   "outputs": [],
   "source": []
  }
 ],
 "metadata": {
  "kernelspec": {
   "display_name": "Python 3",
   "language": "python",
   "name": "python3"
  },
  "language_info": {
   "codemirror_mode": {
    "name": "ipython",
    "version": 3
   },
   "file_extension": ".py",
   "mimetype": "text/x-python",
   "name": "python",
   "nbconvert_exporter": "python",
   "pygments_lexer": "ipython3",
   "version": "3.7.2"
  }
 },
 "nbformat": 4,
 "nbformat_minor": 2
}
