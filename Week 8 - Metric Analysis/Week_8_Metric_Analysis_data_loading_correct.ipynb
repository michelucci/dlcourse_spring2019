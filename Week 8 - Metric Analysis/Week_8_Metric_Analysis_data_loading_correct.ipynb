{
  "nbformat": 4,
  "nbformat_minor": 0,
  "metadata": {
    "colab": {
      "name": "Week 8 - Metric Analysis - data loading correct.ipynb",
      "version": "0.3.2",
      "provenance": [],
      "collapsed_sections": [],
      "include_colab_link": true
    },
    "kernelspec": {
      "display_name": "Python 3",
      "language": "python",
      "name": "python3"
    }
  },
  "cells": [
    {
      "cell_type": "markdown",
      "metadata": {
        "id": "view-in-github",
        "colab_type": "text"
      },
      "source": [
        "<a href=\"https://colab.research.google.com/github/michelucci/zhaw-dlcourse-spring2019/blob/master/Week%208%20-%20Metric%20Analysis/Week_8_Metric_Analysis_data_loading_correct.ipynb\" target=\"_parent\"><img src=\"https://colab.research.google.com/assets/colab-badge.svg\" alt=\"Open In Colab\"/></a>"
      ]
    },
    {
      "cell_type": "markdown",
      "metadata": {
        "id": "LgvfIFqUA4-k",
        "colab_type": "text"
      },
      "source": [
        "# Neural Networks and Deep Learning for Life Sciences and Health Applications - An introductory course about theoretical fundamentals, case studies and implementations in python and tensorflow"
      ]
    },
    {
      "cell_type": "markdown",
      "metadata": {
        "id": "UjEOmeBbA4-m",
        "colab_type": "text"
      },
      "source": [
        "(C) Umberto Michelucci 2018 - umberto.michelucci@gmail.com \n",
        "\n",
        "github repository: https://github.com/michelucci/zhaw-dlcourse-spring2019\n",
        "\n",
        "Spring Semester 2019"
      ]
    },
    {
      "cell_type": "markdown",
      "metadata": {
        "id": "GR38SMqpA4-n",
        "colab_type": "text"
      },
      "source": [
        "# MNIST dataset load"
      ]
    },
    {
      "cell_type": "code",
      "metadata": {
        "id": "MiHbqZAtA4-n",
        "colab_type": "code",
        "colab": {}
      },
      "source": [
        "import numpy as np\n",
        "\n",
        "%matplotlib inline\n",
        "\n",
        "import matplotlib\n",
        "import matplotlib.pyplot as plt\n",
        "\n",
        "from random import *"
      ],
      "execution_count": 0,
      "outputs": []
    },
    {
      "cell_type": "markdown",
      "metadata": {
        "id": "-rqzZEdV818i",
        "colab_type": "text"
      },
      "source": [
        "Note that we load the data and we normalize it immediately. So there is no need to normalize it later."
      ]
    },
    {
      "cell_type": "code",
      "metadata": {
        "id": "PByEmTHnA4-v",
        "colab_type": "code",
        "colab": {}
      },
      "source": [
        "import tensorflow as tf\n",
        "mnist = tf.keras.datasets.mnist\n",
        "\n",
        "(x_train, y_train),(x_test, y_test) = mnist.load_data()\n",
        "x_train, x_test = x_train / 255.0, x_test / 255.0"
      ],
      "execution_count": 0,
      "outputs": []
    },
    {
      "cell_type": "code",
      "metadata": {
        "id": "LrhtTwns8Anh",
        "colab_type": "code",
        "colab": {}
      },
      "source": [
        "Xtrain = x_train.reshape(60000,784)\n",
        "ytrain = y_train.reshape(60000,)"
      ],
      "execution_count": 0,
      "outputs": []
    },
    {
      "cell_type": "markdown",
      "metadata": {
        "id": "UluD9sVzA4-0",
        "colab_type": "text"
      },
      "source": [
        "## Shift of the images"
      ]
    },
    {
      "cell_type": "code",
      "metadata": {
        "id": "UQQqwT7JA4-1",
        "colab_type": "code",
        "colab": {}
      },
      "source": [
        "Xtrain_shifted = np.zeros_like(Xtrain)\n",
        "for i in range(Xtrain.shape[0]):\n",
        "    tmp = Xtrain[i,:].reshape(28,28)\n",
        "    tmp_shifted = np.zeros_like(tmp)\n",
        "    tmp_shifted[:,10:28] = tmp[:,0:18]\n",
        "    Xtrain_shifted[i] = tmp_shifted.reshape(784)"
      ],
      "execution_count": 0,
      "outputs": []
    },
    {
      "cell_type": "code",
      "metadata": {
        "id": "AStDhv3uA4-3",
        "colab_type": "code",
        "outputId": "e594d42a-7829-441c-c01f-2ddbe53d254b",
        "colab": {
          "base_uri": "https://localhost:8080/",
          "height": 560
        }
      },
      "source": [
        "plot_digit(Xtrain[7000])\n",
        "plot_digit(Xtrain_shifted[7000])"
      ],
      "execution_count": 27,
      "outputs": [
        {
          "output_type": "display_data",
          "data": {
            "image/png": "[encoded data removed]",
            "text/plain": [
              "<Figure size 432x288 with 1 Axes>"
            ]
          },
          "metadata": {
            "tags": []
          }
        },
        {
          "output_type": "display_data",
          "data": {
            "image/png": "[encoded data removed]",
            "text/plain": [
              "<Figure size 432x288 with 1 Axes>"
            ]
          },
          "metadata": {
            "tags": []
          }
        }
      ]
    },
    {
      "cell_type": "markdown",
      "metadata": {
        "id": "cu2auqJFA4-7",
        "colab_type": "text"
      },
      "source": [
        "# Let's create a train, a train-dev and a dev dataset"
      ]
    },
    {
      "cell_type": "markdown",
      "metadata": {
        "id": "pS5r1eW-A4-8",
        "colab_type": "text"
      },
      "source": [
        "## Train and dev datasets"
      ]
    },
    {
      "cell_type": "code",
      "metadata": {
        "id": "V_cYwFrWA4-8",
        "colab_type": "code",
        "colab": {}
      },
      "source": [
        "X_ = Xtrain[np.any([ytrain == 1,ytrain == 2], axis = 0)]\n",
        "y_ = ytrain[np.any([ytrain == 1,ytrain == 2], axis = 0)]"
      ],
      "execution_count": 0,
      "outputs": []
    },
    {
      "cell_type": "markdown",
      "metadata": {
        "id": "VJS4wViDA4--",
        "colab_type": "text"
      },
      "source": [
        "random split 80%/20%"
      ]
    },
    {
      "cell_type": "code",
      "metadata": {
        "id": "S3iMelp7A4-_",
        "colab_type": "code",
        "colab": {}
      },
      "source": [
        "np.random.seed(42)\n",
        "rnd_train = np.random.rand(len(y_)) < 0.8\n",
        "\n",
        "X_train = X_[rnd_train,:]\n",
        "y_train = y_[rnd_train]\n",
        "X_dev = X_[~rnd_train,:]\n",
        "y_dev = y_[~rnd_train]"
      ],
      "execution_count": 0,
      "outputs": []
    },
    {
      "cell_type": "markdown",
      "metadata": {
        "id": "NoUYlOo6A4_E",
        "colab_type": "text"
      },
      "source": [
        "Reshaping of the arrays"
      ]
    },
    {
      "cell_type": "code",
      "metadata": {
        "id": "sfWeVwpIA4_F",
        "colab_type": "code",
        "colab": {}
      },
      "source": [
        "X_train_tr = X_train.transpose()\n",
        "y_train_tr = y_train.reshape(1,y_train.shape[0])\n",
        "\n",
        "n_dim = X_train_tr.shape[0]\n",
        "dim_train = X_train_tr.shape[1]\n",
        "\n",
        "X_dev_tr = X_dev.transpose()\n",
        "y_dev_tr = y_dev.reshape(1,y_dev.shape[0])"
      ],
      "execution_count": 0,
      "outputs": []
    },
    {
      "cell_type": "code",
      "metadata": {
        "id": "VRK0RlOAA4_H",
        "colab_type": "code",
        "colab": {}
      },
      "source": [
        "y_train_shifted = y_train_tr - 1\n",
        "y_dev_shifted = y_dev_tr - 1"
      ],
      "execution_count": 0,
      "outputs": []
    },
    {
      "cell_type": "code",
      "metadata": {
        "id": "mQGubeJXA4_K",
        "colab_type": "code",
        "colab": {}
      },
      "source": [
        "Xtrain = X_train_tr\n",
        "ytrain = y_train_shifted\n",
        "\n",
        "Xdev = X_dev_tr\n",
        "ydev = y_dev_shifted"
      ],
      "execution_count": 0,
      "outputs": []
    },
    {
      "cell_type": "code",
      "metadata": {
        "id": "qMp7-EagA4_M",
        "colab_type": "code",
        "outputId": "7da97632-9272-4f88-a9fe-7d348fda65e4",
        "colab": {
          "base_uri": "https://localhost:8080/",
          "height": 92
        }
      },
      "source": [
        "print(Xtrain.shape)\n",
        "print(Xdev.shape)"
      ],
      "execution_count": 9,
      "outputs": [
        {
          "output_type": "stream",
          "text": [
            "(784, 10182)\n",
            "(784, 2518)\n"
          ],
          "name": "stdout"
        }
      ]
    },
    {
      "cell_type": "markdown",
      "metadata": {
        "id": "2KMX8yESA4_P",
        "colab_type": "text"
      },
      "source": [
        "## Let's create the train-dev dataset shifted"
      ]
    },
    {
      "cell_type": "code",
      "metadata": {
        "id": "hvUP7oodA4_R",
        "colab_type": "code",
        "colab": {}
      },
      "source": [
        "Xtraindev = np.zeros_like(Xdev)\n",
        "for i in range(Xdev.shape[1]):\n",
        "    tmp = Xdev[:,i].reshape(28,28)\n",
        "    tmp_shifted = np.zeros_like(tmp)\n",
        "    tmp_shifted[:,10:28] = tmp[:,0:18]\n",
        "    Xtraindev[:,i] = tmp_shifted.reshape(784)\n",
        "    \n",
        "ytraindev = ydev"
      ],
      "execution_count": 0,
      "outputs": []
    },
    {
      "cell_type": "code",
      "metadata": {
        "id": "jmbh0K63A4_W",
        "colab_type": "code",
        "outputId": "8c6a3f77-c974-4d3b-a35e-bbb722ff7ef9",
        "colab": {
          "base_uri": "https://localhost:8080/",
          "height": 74
        }
      },
      "source": [
        "print(Xtraindev.shape)"
      ],
      "execution_count": 11,
      "outputs": [
        {
          "output_type": "stream",
          "text": [
            "(784, 2518)\n"
          ],
          "name": "stdout"
        }
      ]
    },
    {
      "cell_type": "markdown",
      "metadata": {
        "id": "0cjF32IcA4_a",
        "colab_type": "text"
      },
      "source": [
        "### Original image"
      ]
    },
    {
      "cell_type": "code",
      "metadata": {
        "scrolled": true,
        "id": "FbwG4iUHA4_a",
        "colab_type": "code",
        "outputId": "6e2efe5c-2b09-458e-e1e7-353be74a3c00",
        "colab": {
          "base_uri": "https://localhost:8080/",
          "height": 326
        }
      },
      "source": [
        "plt.imshow(Xdev[:,1233].reshape(28,28), cmap = matplotlib.cm.binary, interpolation = \"nearest\")"
      ],
      "execution_count": 12,
      "outputs": [
        {
          "output_type": "execute_result",
          "data": {
            "text/plain": [
              "<matplotlib.image.AxesImage at 0x7fe299c47780>"
            ]
          },
          "metadata": {
            "tags": []
          },
          "execution_count": 12
        },
        {
          "output_type": "display_data",
          "data": {
            "image/png": "[encoded data removed]",
            "text/plain": [
              "<Figure size 432x288 with 1 Axes>"
            ]
          },
          "metadata": {
            "tags": []
          }
        }
      ]
    },
    {
      "cell_type": "markdown",
      "metadata": {
        "id": "1V24ypLgA4_d",
        "colab_type": "text"
      },
      "source": [
        "### Shifted Image"
      ]
    },
    {
      "cell_type": "code",
      "metadata": {
        "id": "lhbC996OA4_e",
        "colab_type": "code",
        "outputId": "0a897a78-150f-40d0-ec74-1fd4c44bdc04",
        "colab": {
          "base_uri": "https://localhost:8080/",
          "height": 326
        }
      },
      "source": [
        "plt.imshow(Xtraindev[:,1233].reshape(28,28), cmap = matplotlib.cm.binary, interpolation = \"nearest\")"
      ],
      "execution_count": 13,
      "outputs": [
        {
          "output_type": "execute_result",
          "data": {
            "text/plain": [
              "<matplotlib.image.AxesImage at 0x7fe2973df3c8>"
            ]
          },
          "metadata": {
            "tags": []
          },
          "execution_count": 13
        },
        {
          "output_type": "display_data",
          "data": {
            "image/png": "[encoded data removed]",
            "text/plain": [
              "<Figure size 432x288 with 1 Axes>"
            ]
          },
          "metadata": {
            "tags": []
          }
        }
      ]
    },
    {
      "cell_type": "markdown",
      "metadata": {
        "id": "VTgL1biwA4_g",
        "colab_type": "text"
      },
      "source": [
        "# Neural network"
      ]
    },
    {
      "cell_type": "code",
      "metadata": {
        "id": "E-H2PLgpA4_h",
        "colab_type": "code",
        "colab": {}
      },
      "source": [
        "import tensorflow as tf"
      ],
      "execution_count": 0,
      "outputs": []
    },
    {
      "cell_type": "code",
      "metadata": {
        "id": "QOywHD6_A4_j",
        "colab_type": "code",
        "colab": {}
      },
      "source": [
        "n_dim = 784"
      ],
      "execution_count": 0,
      "outputs": []
    },
    {
      "cell_type": "code",
      "metadata": {
        "id": "I2jPrZOyA4_l",
        "colab_type": "code",
        "colab": {
          "base_uri": "https://localhost:8080/",
          "height": 107
        },
        "outputId": "56c0f56d-4535-41fc-9f80-dbc4b14a2a28"
      },
      "source": [
        "tf.reset_default_graph()\n",
        "\n",
        "X = tf.placeholder(tf.float32, [n_dim, None])\n",
        "Y = tf.placeholder(tf.float32, [1, None])\n",
        "learning_rate = tf.placeholder(tf.float32, shape=())\n",
        "\n",
        "W = tf.Variable(tf.zeros([1, n_dim]))\n",
        "b = tf.Variable(tf.zeros(1))\n",
        "\n",
        "init = tf.global_variables_initializer()"
      ],
      "execution_count": 16,
      "outputs": [
        {
          "output_type": "stream",
          "text": [
            "WARNING:tensorflow:From /usr/local/lib/python3.6/dist-packages/tensorflow/python/framework/op_def_library.py:263: colocate_with (from tensorflow.python.framework.ops) is deprecated and will be removed in a future version.\n",
            "Instructions for updating:\n",
            "Colocations handled automatically by placer.\n"
          ],
          "name": "stdout"
        }
      ]
    },
    {
      "cell_type": "code",
      "metadata": {
        "id": "gdYYSFqDA4_n",
        "colab_type": "code",
        "colab": {}
      },
      "source": [
        "y_ = tf.sigmoid(tf.matmul(W,X)+b)\n",
        "cost = - tf.reduce_mean(Y * tf.log(y_)+(1-Y) * tf.log(1-y_))\n",
        "training_step = tf.train.GradientDescentOptimizer(learning_rate).minimize(cost)"
      ],
      "execution_count": 0,
      "outputs": []
    },
    {
      "cell_type": "code",
      "metadata": {
        "id": "dFx0lo7QA4_p",
        "colab_type": "code",
        "colab": {}
      },
      "source": [
        "def run_logistic_model(learning_r, training_epochs, train_obs, train_labels, debug = False):\n",
        "    sess = tf.Session()\n",
        "    sess.run(init)\n",
        "    \n",
        "    cost_history = np.empty(shape=[0], dtype = float)\n",
        "\n",
        "    for epoch in range(training_epochs+1):\n",
        "        \n",
        "        sess.run(training_step, feed_dict = {X: train_obs, Y: train_labels, learning_rate: learning_r})\n",
        "\n",
        "        cost_ = sess.run(cost, feed_dict={ X:train_obs, Y: train_labels, learning_rate: learning_r})\n",
        "        cost_history = np.append(cost_history, cost_)\n",
        "        \n",
        "        if (epoch % 10 == 0) & debug:\n",
        "            print(\"Reached epoch\",epoch,\"cost J =\", str.format('{0:.6f}', cost_))\n",
        "            \n",
        "    return sess, cost_history"
      ],
      "execution_count": 0,
      "outputs": []
    },
    {
      "cell_type": "code",
      "metadata": {
        "id": "Ammt9FCqA4_r",
        "colab_type": "code",
        "outputId": "909a2480-0a78-4050-dca9-e6e6cfb47829",
        "colab": {
          "base_uri": "https://localhost:8080/",
          "height": 294
        }
      },
      "source": [
        "sess, cost_history = run_logistic_model(learning_r = 0.01, \n",
        "                                training_epochs = 100, \n",
        "                                train_obs = Xtrain, \n",
        "                                train_labels = ytrain, \n",
        "                                debug = True)"
      ],
      "execution_count": 19,
      "outputs": [
        {
          "output_type": "stream",
          "text": [
            "Reached epoch 0 cost J = 0.678462\n",
            "Reached epoch 10 cost J = 0.562282\n",
            "Reached epoch 20 cost J = 0.482239\n",
            "Reached epoch 30 cost J = 0.423907\n",
            "Reached epoch 40 cost J = 0.379835\n",
            "Reached epoch 50 cost J = 0.345526\n",
            "Reached epoch 60 cost J = 0.318116\n",
            "Reached epoch 70 cost J = 0.295727\n",
            "Reached epoch 80 cost J = 0.277088\n",
            "Reached epoch 90 cost J = 0.261317\n",
            "Reached epoch 100 cost J = 0.247788\n"
          ],
          "name": "stdout"
        }
      ]
    },
    {
      "cell_type": "code",
      "metadata": {
        "id": "00eYW7CIA4_v",
        "colab_type": "code",
        "outputId": "b6fb3450-fcaf-465d-c18e-967685ab8761",
        "colab": {
          "base_uri": "https://localhost:8080/",
          "height": 74
        }
      },
      "source": [
        "correct_prediction1=tf.equal(tf.greater(y_, 0.5), tf.equal(Y,1))\n",
        "accuracy1 = tf.reduce_mean(tf.cast(correct_prediction1, tf.float32))\n",
        "print(sess.run(accuracy1, feed_dict={X:Xtrain, Y: ytrain, learning_rate: 0.05}))"
      ],
      "execution_count": 20,
      "outputs": [
        {
          "output_type": "stream",
          "text": [
            "0.967197\n"
          ],
          "name": "stdout"
        }
      ]
    },
    {
      "cell_type": "code",
      "metadata": {
        "id": "mgCAFjriA4_y",
        "colab_type": "code",
        "outputId": "d133fd45-a9da-441f-d0af-3c10275ff76e",
        "colab": {
          "base_uri": "https://localhost:8080/",
          "height": 74
        }
      },
      "source": [
        "correct_prediction1=tf.equal(tf.greater(y_, 0.5), tf.equal(Y,1))\n",
        "accuracy1 = tf.reduce_mean(tf.cast(correct_prediction1, tf.float32))\n",
        "print(sess.run(accuracy1, feed_dict={X:Xdev, Y: ydev, learning_rate: 0.05}))"
      ],
      "execution_count": 21,
      "outputs": [
        {
          "output_type": "stream",
          "text": [
            "0.9706116\n"
          ],
          "name": "stdout"
        }
      ]
    },
    {
      "cell_type": "markdown",
      "metadata": {
        "id": "tMxsL2T0A4_0",
        "colab_type": "text"
      },
      "source": [
        "# Predictions on the traindev dataset"
      ]
    },
    {
      "cell_type": "code",
      "metadata": {
        "id": "Mbh1T-Y8A4_0",
        "colab_type": "code",
        "outputId": "6fed8cf8-5f6e-496c-eb63-cdf80eb45f8f",
        "colab": {
          "base_uri": "https://localhost:8080/",
          "height": 74
        }
      },
      "source": [
        "correct_prediction1=tf.equal(tf.greater(y_, 0.5), tf.equal(Y,1))\n",
        "accuracy1 = tf.reduce_mean(tf.cast(correct_prediction1, tf.float32))\n",
        "print(sess.run(accuracy1, feed_dict={X:Xtraindev, Y: ytraindev, learning_rate: 0.05}))"
      ],
      "execution_count": 22,
      "outputs": [
        {
          "output_type": "stream",
          "text": [
            "0.45909452\n"
          ],
          "name": "stdout"
        }
      ]
    },
    {
      "cell_type": "markdown",
      "metadata": {
        "id": "4jk3eqtIA4_3",
        "colab_type": "text"
      },
      "source": [
        "# Exercise 1: build a training dataset to predict shifted images - difficulty: hard"
      ]
    },
    {
      "cell_type": "markdown",
      "metadata": {
        "id": "cGo9kIjNA4_4",
        "colab_type": "text"
      },
      "source": [
        "To fight this problem we need to augment our training dataset. Do the following\n",
        "\n",
        "1. Expand the training dataset adding to each image a new image shifted by 10 pixels with the right label.\n",
        "2. Train your network on this new dataset\n",
        "3. Evaluate the accuracy of your newly trained network on the ```traindev``` dataset. What do you observe? What accuaracy you get this time? "
      ]
    },
    {
      "cell_type": "markdown",
      "metadata": {
        "id": "xWOlv8laA4_4",
        "colab_type": "text"
      },
      "source": [
        "**HINT** you can use code that is similar to this one to generate the new images\n",
        "\n",
        "    Xtrain_sh = np.zeros_like(Xtrain)\n",
        "    for i in range(Xtrain.shape[1]):\n",
        "        tmp = Xtrain[:,i].reshape(28,28)\n",
        "        tmp_shifted = np.zeros_like(tmp)\n",
        "        tmp_shifted[:,10:28] = tmp[:,0:18]\n",
        "        Xtrain_sh[:,i] = tmp_shifted.reshape(784)\n",
        "\n",
        "    ytrain_sh = ytrain\n",
        "    \n",
        "at the end you have to merge the ```Xtrain``` array with the newly created ```Xtrain_sh```. Remember to merge also the labels!"
      ]
    },
    {
      "cell_type": "markdown",
      "metadata": {
        "id": "CZ3EL6i_A4_5",
        "colab_type": "text"
      },
      "source": [
        "## Code hint"
      ]
    },
    {
      "cell_type": "code",
      "metadata": {
        "id": "xwMLcnADA4_5",
        "colab_type": "code",
        "colab": {}
      },
      "source": [
        "Xtrain_sh = np.zeros_like(Xtrain)\n",
        "for i in range(Xtrain.shape[1]):\n",
        "    tmp = Xtrain[:,i].reshape(28,28)\n",
        "    tmp_shifted = np.zeros_like(tmp)\n",
        "    tmp_shifted[:,10:28] = tmp[:,0:18]\n",
        "    Xtrain_sh[:,i] = tmp_shifted.reshape(784)\n",
        "    \n",
        "ytrain_sh = ytrain"
      ],
      "execution_count": 0,
      "outputs": []
    },
    {
      "cell_type": "code",
      "metadata": {
        "id": "30BwmZU7A4_7",
        "colab_type": "code",
        "outputId": "a9775b7f-6dce-41f3-89ef-9c6fc3ffda21",
        "colab": {}
      },
      "source": [
        "Xtrain_sh.shape"
      ],
      "execution_count": 0,
      "outputs": [
        {
          "output_type": "execute_result",
          "data": {
            "text/plain": [
              "(784, 11893)"
            ]
          },
          "metadata": {
            "tags": []
          },
          "execution_count": 40
        }
      ]
    },
    {
      "cell_type": "code",
      "metadata": {
        "id": "kicmsSbYA4_-",
        "colab_type": "code",
        "outputId": "bd4ca7ad-16d4-4b27-94a3-a7fa47f84b48",
        "colab": {}
      },
      "source": [
        "Xtrain.shape"
      ],
      "execution_count": 0,
      "outputs": [
        {
          "output_type": "execute_result",
          "data": {
            "text/plain": [
              "(784, 11893)"
            ]
          },
          "metadata": {
            "tags": []
          },
          "execution_count": 41
        }
      ]
    },
    {
      "cell_type": "code",
      "metadata": {
        "id": "7ordfhu6A5AB",
        "colab_type": "code",
        "outputId": "e236d13f-300e-4963-f6cf-b7604d57db57",
        "colab": {}
      },
      "source": [
        "plt.imshow(Xtrain[:,1233].reshape(28,28), cmap = matplotlib.cm.binary, interpolation = \"nearest\")"
      ],
      "execution_count": 0,
      "outputs": [
        {
          "output_type": "execute_result",
          "data": {
            "text/plain": [
              "<matplotlib.image.AxesImage at 0x222d86c6b70>"
            ]
          },
          "metadata": {
            "tags": []
          },
          "execution_count": 42
        },
        {
          "output_type": "display_data",
          "data": {
            "image/png": "[encoded data removed]",
            "text/plain": [
              "<matplotlib.figure.Figure at 0x222d3f659b0>"
            ]
          },
          "metadata": {
            "tags": []
          }
        }
      ]
    },
    {
      "cell_type": "code",
      "metadata": {
        "id": "3SCbl5Q_A5AD",
        "colab_type": "code",
        "outputId": "ab9e943d-5a55-4f4c-ca72-7365136550f4",
        "colab": {}
      },
      "source": [
        "plt.imshow(Xtrain_sh[:,1233].reshape(28,28), cmap = matplotlib.cm.binary, interpolation = \"nearest\")"
      ],
      "execution_count": 0,
      "outputs": [
        {
          "output_type": "execute_result",
          "data": {
            "text/plain": [
              "<matplotlib.image.AxesImage at 0x222d8721eb8>"
            ]
          },
          "metadata": {
            "tags": []
          },
          "execution_count": 43
        },
        {
          "output_type": "display_data",
          "data": {
            "image/png": "[encoded data removed]",
            "text/plain": [
              "<matplotlib.figure.Figure at 0x222d3f65780>"
            ]
          },
          "metadata": {
            "tags": []
          }
        }
      ]
    }
  ]
}