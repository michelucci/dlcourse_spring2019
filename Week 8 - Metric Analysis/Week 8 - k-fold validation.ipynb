{
  "nbformat": 4,
  "nbformat_minor": 0,
  "metadata": {
    "colab": {
      "name": "Week 8 - k-fold validation.ipynb",
      "version": "0.3.2",
      "provenance": [],
      "include_colab_link": true
    },
    "kernelspec": {
      "display_name": "Python 3",
      "language": "python",
      "name": "python3"
    }
  },
  "cells": [
    {
      "cell_type": "markdown",
      "metadata": {
        "id": "view-in-github",
        "colab_type": "text"
      },
      "source": [
        "<a href=\"https://colab.research.google.com/github/michelucci/zhaw-dlcourse-spring2019/blob/master/Week%208%20-%20Metric%20Analysis/Week%208%20-%20k-fold%20validation.ipynb\" target=\"_parent\"><img src=\"https://colab.research.google.com/assets/colab-badge.svg\" alt=\"Open In Colab\"/></a>"
      ]
    },
    {
      "metadata": {
        "id": "Vht0_SvEA_DW",
        "colab_type": "text"
      },
      "cell_type": "markdown",
      "source": [
        "# Neural Networks and Deep Learning for Life Sciences and Health Applications - An introductory course about theoretical fundamentals, case studies and implementations in python and tensorflow"
      ]
    },
    {
      "metadata": {
        "id": "dRX5Nb0rA_DY",
        "colab_type": "text"
      },
      "cell_type": "markdown",
      "source": [
        "(C) Umberto Michelucci 2018 - umberto.michelucci@gmail.com \n",
        "\n",
        "github repository: https://github.com/michelucci/zhaw-dlcourse-spring2019\n",
        "\n",
        "Spring Semester 2019"
      ]
    },
    {
      "metadata": {
        "id": "2ENxwAlZA_DZ",
        "colab_type": "text"
      },
      "cell_type": "markdown",
      "source": [
        "## Libraries"
      ]
    },
    {
      "metadata": {
        "id": "cHQ0v6odA_Da",
        "colab_type": "code",
        "colab": {}
      },
      "cell_type": "code",
      "source": [
        "import numpy as np\n",
        "from sklearn.datasets import fetch_mldata\n",
        "\n",
        "%matplotlib inline\n",
        "\n",
        "import matplotlib\n",
        "import matplotlib.pyplot as plt\n",
        "\n",
        "from random import *"
      ],
      "execution_count": 0,
      "outputs": []
    },
    {
      "metadata": {
        "id": "Hz1k5j6WA_Dd",
        "colab_type": "text"
      },
      "cell_type": "markdown",
      "source": [
        "## Data preparation"
      ]
    },
    {
      "metadata": {
        "id": "aM-p8fifA_De",
        "colab_type": "text"
      },
      "cell_type": "markdown",
      "source": [
        "To get MNIST data we use the function fetch_mldata, in the datasets package. Let's get all the dataset, and then we will select only the digits we want."
      ]
    },
    {
      "metadata": {
        "id": "kaTxyNriA_De",
        "colab_type": "code",
        "colab": {},
        "outputId": "2f1584d8-b824-444d-853f-c06e72355423"
      },
      "cell_type": "code",
      "source": [
        "mnist = fetch_mldata('MNIST original')\n",
        "mnist"
      ],
      "execution_count": 0,
      "outputs": [
        {
          "output_type": "execute_result",
          "data": {
            "text/plain": [
              "{'COL_NAMES': ['label', 'data'],\n",
              " 'DESCR': 'mldata.org dataset: mnist-original',\n",
              " 'data': array([[0, 0, 0, ..., 0, 0, 0],\n",
              "        [0, 0, 0, ..., 0, 0, 0],\n",
              "        [0, 0, 0, ..., 0, 0, 0],\n",
              "        ...,\n",
              "        [0, 0, 0, ..., 0, 0, 0],\n",
              "        [0, 0, 0, ..., 0, 0, 0],\n",
              "        [0, 0, 0, ..., 0, 0, 0]], dtype=uint8),\n",
              " 'target': array([0., 0., 0., ..., 9., 9., 9.])}"
            ]
          },
          "metadata": {
            "tags": []
          },
          "execution_count": 2
        }
      ]
    },
    {
      "metadata": {
        "id": "8_g51_xKA_Dj",
        "colab_type": "code",
        "colab": {}
      },
      "cell_type": "code",
      "source": [
        "Xinput_,yinput_ = mnist[\"data\"], mnist[\"target\"]"
      ],
      "execution_count": 0,
      "outputs": []
    },
    {
      "metadata": {
        "id": "DzIrBd-zA_Dl",
        "colab_type": "code",
        "colab": {},
        "outputId": "7e057ef2-dc42-454d-db69-dcd661d04d67"
      },
      "cell_type": "code",
      "source": [
        "Xinput_.shape"
      ],
      "execution_count": 0,
      "outputs": [
        {
          "output_type": "execute_result",
          "data": {
            "text/plain": [
              "(70000, 784)"
            ]
          },
          "metadata": {
            "tags": []
          },
          "execution_count": 4
        }
      ]
    },
    {
      "metadata": {
        "id": "8crRLqKtA_Do",
        "colab_type": "code",
        "colab": {},
        "outputId": "acd65449-a2d7-4a7b-90d3-622d625c971a"
      },
      "cell_type": "code",
      "source": [
        "yinput_.shape"
      ],
      "execution_count": 0,
      "outputs": [
        {
          "output_type": "execute_result",
          "data": {
            "text/plain": [
              "(70000,)"
            ]
          },
          "metadata": {
            "tags": []
          },
          "execution_count": 5
        }
      ]
    },
    {
      "metadata": {
        "id": "ICJhFJ7lA_Dt",
        "colab_type": "text"
      },
      "cell_type": "markdown",
      "source": [
        "To know how many digits we have we can run this simple code"
      ]
    },
    {
      "metadata": {
        "id": "mplES6VZA_Du",
        "colab_type": "code",
        "colab": {},
        "outputId": "fdd6b7ac-dcb0-4ce4-ae65-5e6a82ad9b20"
      },
      "cell_type": "code",
      "source": [
        "total = 0\n",
        "for i in range(10):\n",
        "    print (\"digit\", i, \"appear\", np.count_nonzero(yinput_ == i), \"times\")"
      ],
      "execution_count": 0,
      "outputs": [
        {
          "output_type": "stream",
          "text": [
            "digit 0 appear 6903 times\n",
            "digit 1 appear 7877 times\n",
            "digit 2 appear 6990 times\n",
            "digit 3 appear 7141 times\n",
            "digit 4 appear 6824 times\n",
            "digit 5 appear 6313 times\n",
            "digit 6 appear 6876 times\n",
            "digit 7 appear 7293 times\n",
            "digit 8 appear 6825 times\n",
            "digit 9 appear 6958 times\n"
          ],
          "name": "stdout"
        }
      ]
    },
    {
      "metadata": {
        "id": "VP5DsDNsA_Dw",
        "colab_type": "code",
        "colab": {},
        "outputId": "49deefb9-1bb3-438d-8cac-547de6c6b7e9"
      },
      "cell_type": "code",
      "source": [
        "total = 0\n",
        "for i in range(2):\n",
        "    print (\"digit\", i, \"makes\", np.around(np.count_nonzero(yinput_ == i)/70000.0*100.0, decimals=1), \"% of the 70000 observations\")"
      ],
      "execution_count": 0,
      "outputs": [
        {
          "output_type": "stream",
          "text": [
            "digit 0 makes 9.9 % of the 70000 observations\n",
            "digit 1 makes 11.3 % of the 70000 observations\n"
          ],
          "name": "stdout"
        }
      ]
    },
    {
      "metadata": {
        "id": "7kD1ZcXAA_Dz",
        "colab_type": "text"
      },
      "cell_type": "markdown",
      "source": [
        "# k-fold dataset creation"
      ]
    },
    {
      "metadata": {
        "id": "QBZWN-a3A_D0",
        "colab_type": "code",
        "colab": {}
      },
      "cell_type": "code",
      "source": [
        "Xinput = Xinput_[np.any([yinput_ == 1,yinput_ == 2], axis = 0)]\n",
        "yinput = yinput_[np.any([yinput_ == 1,yinput_ == 2], axis = 0)]"
      ],
      "execution_count": 0,
      "outputs": []
    },
    {
      "metadata": {
        "id": "cGxCQBwFA_D3",
        "colab_type": "code",
        "colab": {}
      },
      "cell_type": "code",
      "source": [
        "yinput = yinput - 1"
      ],
      "execution_count": 0,
      "outputs": []
    },
    {
      "metadata": {
        "id": "N9E3LjUJA_D5",
        "colab_type": "code",
        "colab": {},
        "outputId": "d3cc3a48-830e-4963-8c14-6f3466c40a3a"
      },
      "cell_type": "code",
      "source": [
        "total = 0\n",
        "for i in range(0,2,1):\n",
        "    print (\"Label\", i, \"makes\", np.around(np.count_nonzero(yinput == i)/14867.0*100.0, decimals=1), \"% of the 14867 observations\")"
      ],
      "execution_count": 0,
      "outputs": [
        {
          "output_type": "stream",
          "text": [
            "Label 0 makes 53.0 % of the 14867 observations\n",
            "Label 1 makes 47.0 % of the 14867 observations\n"
          ],
          "name": "stdout"
        }
      ]
    },
    {
      "metadata": {
        "id": "2F2B7bK1A_D-",
        "colab_type": "text"
      },
      "cell_type": "markdown",
      "source": [
        "We need to remove 3 observations to make the division by 10 (for the folds) easier"
      ]
    },
    {
      "metadata": {
        "id": "U06UGSpkA_D_",
        "colab_type": "code",
        "colab": {}
      },
      "cell_type": "code",
      "source": [
        "Xinput = Xinput[:-7,:]\n",
        "yinput = yinput[:-7]"
      ],
      "execution_count": 0,
      "outputs": []
    },
    {
      "metadata": {
        "id": "mgDIz2jqA_EB",
        "colab_type": "code",
        "colab": {},
        "outputId": "af46678a-2584-45aa-cf4b-0cf69c8fc8b6"
      },
      "cell_type": "code",
      "source": [
        "(Xinput.shape[0])"
      ],
      "execution_count": 0,
      "outputs": [
        {
          "output_type": "execute_result",
          "data": {
            "text/plain": [
              "14860"
            ]
          },
          "metadata": {
            "tags": []
          },
          "execution_count": 12
        }
      ]
    },
    {
      "metadata": {
        "id": "upbZTEZPA_EF",
        "colab_type": "code",
        "colab": {},
        "outputId": "a006c484-1833-4ac9-d75c-6ed16d89437d"
      },
      "cell_type": "code",
      "source": [
        "some_digit = Xinput[8999,:]\n",
        "\n",
        "some_digit_image = some_digit.reshape(28,28)\n",
        "\n",
        "plt.imshow(some_digit_image, cmap = matplotlib.cm.binary, interpolation = \"nearest\")\n",
        "plt.axis(\"off\")\n",
        "plt.show()"
      ],
      "execution_count": 0,
      "outputs": [
        {
          "output_type": "display_data",
          "data": {
            "image/png": "[encoded data removed]",
            "text/plain": [
              "<matplotlib.figure.Figure at 0x1e8a9c62518>"
            ]
          },
          "metadata": {
            "tags": []
          }
        }
      ]
    },
    {
      "metadata": {
        "id": "szKk7DwDA_EK",
        "colab_type": "code",
        "colab": {},
        "outputId": "605eefba-f560-4a39-a0c6-edab2dfb3386"
      },
      "cell_type": "code",
      "source": [
        "foldnumber = 10\n",
        "idx = np.arange(0,Xinput.shape[0])\n",
        "np.random.shuffle(idx)\n",
        "al = np.array_split(idx,foldnumber)\n",
        "\n",
        "print('Number of folds:',len(al))\n",
        "print('Number of elements in each fold:',len(al[9]))"
      ],
      "execution_count": 0,
      "outputs": [
        {
          "output_type": "stream",
          "text": [
            "Number of folds: 10\n",
            "Number of elements in each fold: 1486\n"
          ],
          "name": "stdout"
        }
      ]
    },
    {
      "metadata": {
        "id": "-5ys5nSdA_EN",
        "colab_type": "code",
        "colab": {}
      },
      "cell_type": "code",
      "source": [
        "Xinputfold = []\n",
        "yinputfold = []\n",
        "for i in range(foldnumber):\n",
        "    tmp = Xinput[al[i],:]\n",
        "    Xinputfold.append(tmp)\n",
        "    ytmp = yinput[al[i]]\n",
        "    yinputfold.append(ytmp)\n",
        "\n",
        "    \n",
        "Xinputfold = np.asarray(Xinputfold)\n",
        "yinputfold = np.asarray(yinputfold)"
      ],
      "execution_count": 0,
      "outputs": []
    },
    {
      "metadata": {
        "id": "zc8-D-ilA_EQ",
        "colab_type": "code",
        "colab": {},
        "outputId": "ed5cd739-bb0a-4b68-c944-7f6b506c6074"
      },
      "cell_type": "code",
      "source": [
        "print(Xinputfold.shape)\n",
        "print(yinputfold.shape)"
      ],
      "execution_count": 0,
      "outputs": [
        {
          "output_type": "stream",
          "text": [
            "(10, 1486, 784)\n",
            "(10, 1486)\n"
          ],
          "name": "stdout"
        }
      ]
    },
    {
      "metadata": {
        "id": "p_r-gOc_A_ES",
        "colab_type": "code",
        "colab": {},
        "outputId": "7815703c-f310-403a-aa80-5b868bad1e76"
      },
      "cell_type": "code",
      "source": [
        "some_digit = Xinputfold[0][1234,:]\n",
        "\n",
        "some_digit_image = some_digit.reshape(28,28)\n",
        "\n",
        "plt.imshow(some_digit_image, cmap = matplotlib.cm.binary, interpolation = \"nearest\")\n",
        "plt.axis(\"off\")\n",
        "plt.show()"
      ],
      "execution_count": 0,
      "outputs": [
        {
          "output_type": "display_data",
          "data": {
            "image/png": "[encoded data removed]",
            "text/plain": [
              "<matplotlib.figure.Figure at 0x1e8afc70908>"
            ]
          },
          "metadata": {
            "tags": []
          }
        }
      ]
    },
    {
      "metadata": {
        "id": "2Y7SRnSAA_EU",
        "colab_type": "text"
      },
      "cell_type": "markdown",
      "source": [
        "Ratio of ones and twos in Fold 0"
      ]
    },
    {
      "metadata": {
        "id": "vNkwl4JSA_EU",
        "colab_type": "code",
        "colab": {},
        "outputId": "cbc578b7-107d-47d3-d374-ca1571c482ec"
      },
      "cell_type": "code",
      "source": [
        "total = 0\n",
        "for i in range(0,2,1):\n",
        "    print (\"digit\", i, \"makes\", np.around(np.count_nonzero(yinputfold[0] == i)/1486.0*100.0, decimals=1), \"% of the 1486 observations\")"
      ],
      "execution_count": 0,
      "outputs": [
        {
          "output_type": "stream",
          "text": [
            "digit 0 makes 53.4 % of the 1486 observations\n",
            "digit 1 makes 46.6 % of the 1486 observations\n"
          ],
          "name": "stdout"
        }
      ]
    },
    {
      "metadata": {
        "id": "08ph0_ugA_EX",
        "colab_type": "text"
      },
      "cell_type": "markdown",
      "source": [
        "## Data normalization and preparation"
      ]
    },
    {
      "metadata": {
        "id": "Wd_KxddiA_EY",
        "colab_type": "code",
        "colab": {}
      },
      "cell_type": "code",
      "source": [
        "Xinputfold_normalized = np.zeros_like(Xinputfold, dtype = float)\n",
        "for i in range (foldnumber):\n",
        "    Xinputfold_normalized[i] = Xinputfold[i]/255.0"
      ],
      "execution_count": 0,
      "outputs": []
    },
    {
      "metadata": {
        "id": "RluIEj3VA_EZ",
        "colab_type": "code",
        "colab": {}
      },
      "cell_type": "code",
      "source": [
        "X_train = []\n",
        "y_train = []\n",
        "for i in range(foldnumber):\n",
        "    tmp = Xinputfold_normalized[i].transpose()\n",
        "    ytmp = yinputfold[i].reshape(1,yinputfold[i].shape[0])\n",
        "    X_train.append(tmp)\n",
        "    y_train.append(ytmp)\n",
        "    \n",
        "X_train = np.asarray(X_train)\n",
        "y_train = np.asarray(y_train)"
      ],
      "execution_count": 0,
      "outputs": []
    },
    {
      "metadata": {
        "id": "Ip-GdIPaA_Ec",
        "colab_type": "code",
        "colab": {},
        "outputId": "795a8a5b-6ed1-442f-b4f6-1057782d237d"
      },
      "cell_type": "code",
      "source": [
        "print(X_train.shape)\n",
        "print(y_train.shape)"
      ],
      "execution_count": 0,
      "outputs": [
        {
          "output_type": "stream",
          "text": [
            "(10, 784, 1486)\n",
            "(10, 1, 1486)\n"
          ],
          "name": "stdout"
        }
      ]
    },
    {
      "metadata": {
        "id": "XLTfqkzTA_Ee",
        "colab_type": "text"
      },
      "cell_type": "markdown",
      "source": [
        "\n",
        "### Checks"
      ]
    },
    {
      "metadata": {
        "id": "vGAkObGmA_Ee",
        "colab_type": "code",
        "colab": {},
        "outputId": "a0dbdf31-8e0c-4d48-d36b-30b9f0c3ae36"
      },
      "cell_type": "code",
      "source": [
        "some_digit = X_train[0][:,10]\n",
        "\n",
        "some_digit_image = some_digit.reshape(28,28)\n",
        "\n",
        "plt.imshow(some_digit_image, cmap = matplotlib.cm.binary, interpolation = \"nearest\")\n",
        "plt.axis(\"off\")\n",
        "plt.show()"
      ],
      "execution_count": 0,
      "outputs": [
        {
          "output_type": "display_data",
          "data": {
            "image/png": "[encoded data removed]",
            "text/plain": [
              "<matplotlib.figure.Figure at 0x1e8afd06198>"
            ]
          },
          "metadata": {
            "tags": []
          }
        }
      ]
    },
    {
      "metadata": {
        "id": "qsMChyPiA_Eg",
        "colab_type": "text"
      },
      "cell_type": "markdown",
      "source": [
        "## Model and tests"
      ]
    },
    {
      "metadata": {
        "id": "Kgn-XWOHA_Eh",
        "colab_type": "code",
        "colab": {}
      },
      "cell_type": "code",
      "source": [
        "n_dim = 784"
      ],
      "execution_count": 0,
      "outputs": []
    },
    {
      "metadata": {
        "id": "EunxPrCTA_Ei",
        "colab_type": "code",
        "colab": {}
      },
      "cell_type": "code",
      "source": [
        "import tensorflow as tf"
      ],
      "execution_count": 0,
      "outputs": []
    },
    {
      "metadata": {
        "id": "j1PQJw6cA_Ek",
        "colab_type": "code",
        "colab": {}
      },
      "cell_type": "code",
      "source": [
        "tf.reset_default_graph()\n",
        "\n",
        "X = tf.placeholder(tf.float32, [n_dim, None])\n",
        "Y = tf.placeholder(tf.float32, [1, None])\n",
        "learning_rate = tf.placeholder(tf.float32, shape=())\n",
        "\n",
        "W = tf.Variable(tf.random_normal([1, n_dim], stddev= 2.0 / np.sqrt(2.0*n_dim))) \n",
        "b = tf.Variable(tf.zeros(1))"
      ],
      "execution_count": 0,
      "outputs": []
    },
    {
      "metadata": {
        "id": "YmXfrDWZA_Em",
        "colab_type": "code",
        "colab": {}
      },
      "cell_type": "code",
      "source": [
        "y_ = tf.sigmoid(tf.matmul(W,X)+b)\n",
        "cost = - tf.reduce_mean(Y * tf.log(y_)+(1-Y) * tf.log(1-y_))\n",
        "training_step = tf.train.AdamOptimizer(learning_rate = learning_rate, beta1 = 0.9, beta2 = 0.999, epsilon = 1e-8).minimize(cost)\n",
        "\n",
        "init = tf.global_variables_initializer()"
      ],
      "execution_count": 0,
      "outputs": []
    },
    {
      "metadata": {
        "id": "je_AmwuhA_Eo",
        "colab_type": "code",
        "colab": {}
      },
      "cell_type": "code",
      "source": [
        "def run_logistic_model(learning_r, training_epochs, train_obs, train_labels, debug = False):\n",
        "    sess = tf.Session()\n",
        "    sess.run(init)\n",
        "    \n",
        "    cost_history = np.empty(shape=[0], dtype = float)\n",
        "\n",
        "    for epoch in range(training_epochs+1):\n",
        "        \n",
        "        sess.run(training_step, feed_dict = {X: train_obs, Y: train_labels, learning_rate: learning_r})\n",
        "\n",
        "        cost_ = sess.run(cost, feed_dict={ X:train_obs, Y: train_labels, learning_rate: learning_r})\n",
        "        cost_history = np.append(cost_history, cost_)\n",
        "        \n",
        "        if (epoch % 200 == 0) & debug:\n",
        "            print(\"Reached epoch\",epoch,\"cost J =\", str.format('{0:.6f}', cost_))\n",
        "            \n",
        "    return sess, cost_history"
      ],
      "execution_count": 0,
      "outputs": []
    },
    {
      "metadata": {
        "id": "IbJ4U5GDA_Eq",
        "colab_type": "text"
      },
      "cell_type": "markdown",
      "source": [
        "## Training on Fold 1"
      ]
    },
    {
      "metadata": {
        "id": "KhW_1zriA_Er",
        "colab_type": "text"
      },
      "cell_type": "markdown",
      "source": [
        "Remember that the shape of ```X_train[1]``` is"
      ]
    },
    {
      "metadata": {
        "id": "ddMHsfmmA_Er",
        "colab_type": "code",
        "colab": {},
        "outputId": "db6ebb7a-6de3-40e1-bdc4-23878ef3ce09"
      },
      "cell_type": "code",
      "source": [
        "X_train[1].shape"
      ],
      "execution_count": 0,
      "outputs": [
        {
          "output_type": "execute_result",
          "data": {
            "text/plain": [
              "(784, 1486)"
            ]
          },
          "metadata": {
            "tags": []
          },
          "execution_count": 33
        }
      ]
    },
    {
      "metadata": {
        "id": "d_7N5UhRA_Et",
        "colab_type": "text"
      },
      "cell_type": "markdown",
      "source": [
        "Now let's train our network on Fold with index ```1```"
      ]
    },
    {
      "metadata": {
        "id": "yloK90rWA_Eu",
        "colab_type": "code",
        "colab": {},
        "outputId": "28eed858-21b3-48cb-f1f3-9806bdcb05bd"
      },
      "cell_type": "code",
      "source": [
        "sess, cost_history = run_logistic_model(learning_r = 5e-4, \n",
        "                                training_epochs = 600, \n",
        "                                train_obs = X_train[1], \n",
        "                                train_labels = y_train[1], \n",
        "                                debug = True)"
      ],
      "execution_count": 0,
      "outputs": [
        {
          "output_type": "stream",
          "text": [
            "Reached epoch 0 cost J = 0.779379\n",
            "Reached epoch 200 cost J = 0.166642\n",
            "Reached epoch 400 cost J = 0.094669\n",
            "Reached epoch 600 cost J = 0.068902\n"
          ],
          "name": "stdout"
        }
      ]
    },
    {
      "metadata": {
        "id": "As1bN6ymA_Ex",
        "colab_type": "code",
        "colab": {},
        "outputId": "eece8324-39ec-4b0d-bb02-d5bc82fb6a40"
      },
      "cell_type": "code",
      "source": [
        "correct_prediction=tf.equal(tf.greater(y_, 0.5), tf.equal(Y,1))\n",
        "accuracy = tf.reduce_mean(tf.cast(correct_prediction, tf.float32))\n",
        "print('Train accuracy:',sess.run(accuracy, feed_dict={X:X_train[1], Y: y_train[1], learning_rate: 0.01}))\n"
      ],
      "execution_count": 0,
      "outputs": [
        {
          "output_type": "stream",
          "text": [
            "Train accuracy: 0.9858681\n"
          ],
          "name": "stdout"
        }
      ]
    },
    {
      "metadata": {
        "id": "jRRke80cA_Ey",
        "colab_type": "code",
        "colab": {},
        "outputId": "3c122a89-ce6c-449d-9a88-758745b451a2"
      },
      "cell_type": "code",
      "source": [
        "train_acc = []\n",
        "dev_acc = []\n",
        "\n",
        "\n",
        "for i in range (foldnumber): \n",
        "    \n",
        "    # Prepare the folds\n",
        "    lis = []\n",
        "    ylis = []\n",
        "    for k in np.delete(np.arange(foldnumber), i):\n",
        "        lis.append(X_train[k])\n",
        "        ylis.append(y_train[k])\n",
        "        X_train_ = np.concatenate(lis, axis = 1)\n",
        "        y_train_ = np.concatenate(ylis, axis = 1)\n",
        "    X_train_ = np.asarray(X_train_)\n",
        "    y_train_ = np.asarray(y_train_)\n",
        "    \n",
        "    X_dev_ = X_train[i]\n",
        "    y_dev_ = y_train[i]\n",
        "    \n",
        "    print('Dev fold is', i)\n",
        "    sess, cost_history = run_logistic_model(learning_r = 5e-4, \n",
        "                                training_epochs = 600, \n",
        "                                train_obs = X_train_, \n",
        "                                train_labels = y_train_, \n",
        "                                debug = True)\n",
        "    \n",
        "    correct_prediction=tf.equal(tf.greater(y_, 0.5), tf.equal(Y,1))\n",
        "    accuracy = tf.reduce_mean(tf.cast(correct_prediction, tf.float32))\n",
        "    print('Train accuracy:',sess.run(accuracy, feed_dict={X:X_train_, Y: y_train_, learning_rate: 5e-4}))\n",
        "    train_acc = np.append( train_acc, sess.run(accuracy, feed_dict={X:X_train_, Y: y_train_, learning_rate: 5e-4}))\n",
        "\n",
        "    \n",
        "    correct_prediction=tf.equal(tf.greater(y_, 0.5), tf.equal(Y,1))\n",
        "    accuracy = tf.reduce_mean(tf.cast(correct_prediction, tf.float32))\n",
        "    print('Dev accuracy:',sess.run(accuracy, feed_dict={X:X_dev_, Y: y_dev_, learning_rate: 5e-4}))\n",
        "    dev_acc = np.append( dev_acc, sess.run(accuracy, feed_dict={X:X_dev_, Y: y_dev_, learning_rate: 5e-4}))\n",
        " "
      ],
      "execution_count": 0,
      "outputs": [
        {
          "output_type": "stream",
          "text": [
            "Dev fold is 0\n",
            "Reached epoch 0 cost J = 0.643606\n",
            "Reached epoch 200 cost J = 0.147986\n",
            "Reached epoch 400 cost J = 0.089260\n",
            "Reached epoch 600 cost J = 0.067967\n",
            "Train accuracy: 0.98691493\n",
            "Dev accuracy: 0.9899058\n",
            "Dev fold is 1\n",
            "Reached epoch 0 cost J = 0.702176\n",
            "Reached epoch 200 cost J = 0.160618\n",
            "Reached epoch 400 cost J = 0.096536\n",
            "Reached epoch 600 cost J = 0.073037\n",
            "Train accuracy: 0.9873635\n",
            "Dev accuracy: 0.9845222\n",
            "Dev fold is 2\n",
            "Reached epoch 0 cost J = 0.760782\n",
            "Reached epoch 200 cost J = 0.171399\n",
            "Reached epoch 400 cost J = 0.101488\n",
            "Reached epoch 600 cost J = 0.075848\n",
            "Train accuracy: 0.9867654\n",
            "Dev accuracy: 0.9858681\n",
            "Dev fold is 3\n",
            "Reached epoch 0 cost J = 0.721512\n",
            "Reached epoch 200 cost J = 0.161293\n",
            "Reached epoch 400 cost J = 0.096696\n",
            "Reached epoch 600 cost J = 0.073008\n",
            "Train accuracy: 0.9874383\n",
            "Dev accuracy: 0.9831763\n",
            "Dev fold is 4\n",
            "Reached epoch 0 cost J = 0.653751\n",
            "Reached epoch 200 cost J = 0.156322\n",
            "Reached epoch 400 cost J = 0.093289\n",
            "Reached epoch 600 cost J = 0.070187\n",
            "Train accuracy: 0.98721397\n",
            "Dev accuracy: 0.98519516\n",
            "Dev fold is 5\n",
            "Reached epoch 0 cost J = 0.597812\n",
            "Reached epoch 200 cost J = 0.146054\n",
            "Reached epoch 400 cost J = 0.090144\n",
            "Reached epoch 600 cost J = 0.069072\n",
            "Train accuracy: 0.98631674\n",
            "Dev accuracy: 0.9905787\n",
            "Dev fold is 6\n",
            "Reached epoch 0 cost J = 0.770245\n",
            "Reached epoch 200 cost J = 0.167554\n",
            "Reached epoch 400 cost J = 0.098435\n",
            "Reached epoch 600 cost J = 0.073224\n",
            "Train accuracy: 0.9873635\n",
            "Dev accuracy: 0.98721397\n",
            "Dev fold is 7\n",
            "Reached epoch 0 cost J = 0.723129\n",
            "Reached epoch 200 cost J = 0.166977\n",
            "Reached epoch 400 cost J = 0.099805\n",
            "Reached epoch 600 cost J = 0.075082\n",
            "Train accuracy: 0.98654103\n",
            "Dev accuracy: 0.9845222\n",
            "Dev fold is 8\n",
            "Reached epoch 0 cost J = 0.782519\n",
            "Reached epoch 200 cost J = 0.174685\n",
            "Reached epoch 400 cost J = 0.103458\n",
            "Reached epoch 600 cost J = 0.077259\n",
            "Train accuracy: 0.9860924\n",
            "Dev accuracy: 0.98654103\n",
            "Dev fold is 9\n",
            "Reached epoch 0 cost J = 0.775711\n",
            "Reached epoch 200 cost J = 0.173277\n",
            "Reached epoch 400 cost J = 0.102462\n",
            "Reached epoch 600 cost J = 0.076471\n",
            "Train accuracy: 0.98579335\n",
            "Dev accuracy: 0.9845222\n"
          ],
          "name": "stdout"
        }
      ]
    },
    {
      "metadata": {
        "id": "VM1A_xtXA_E0",
        "colab_type": "code",
        "colab": {},
        "outputId": "f15e090a-6134-4042-8276-619e74758c8c"
      },
      "cell_type": "code",
      "source": [
        "np.max(train_acc)"
      ],
      "execution_count": 0,
      "outputs": [
        {
          "output_type": "execute_result",
          "data": {
            "text/plain": [
              "0.9874383211135864"
            ]
          },
          "metadata": {
            "tags": []
          },
          "execution_count": 36
        }
      ]
    },
    {
      "metadata": {
        "id": "GGF4kbqWA_E3",
        "colab_type": "code",
        "colab": {},
        "outputId": "7cee3d97-7b41-4f3f-9e77-d8d0e38d38df"
      },
      "cell_type": "code",
      "source": [
        "np.max(dev_acc)"
      ],
      "execution_count": 0,
      "outputs": [
        {
          "output_type": "execute_result",
          "data": {
            "text/plain": [
              "0.9905787110328674"
            ]
          },
          "metadata": {
            "tags": []
          },
          "execution_count": 37
        }
      ]
    },
    {
      "metadata": {
        "id": "C540L3pSA_E6",
        "colab_type": "code",
        "colab": {},
        "outputId": "adb688fd-a8c3-4248-9a36-19514fe7be52"
      },
      "cell_type": "code",
      "source": [
        "train_std = np.std(train_acc)\n",
        "dev_std = np.std(dev_acc)\n",
        "\n",
        "train_avg = np.average(train_acc)\n",
        "dev_avg = np.average(dev_acc)\n",
        "\n",
        "print('train std-dev', train_std)\n",
        "print('dev std-dev',dev_std)\n",
        "\n",
        "print('trian avg',train_avg)\n",
        "print('dev avg',dev_avg)\n"
      ],
      "execution_count": 0,
      "outputs": [
        {
          "output_type": "stream",
          "text": [
            "train std-dev 0.0005512819947541776\n",
            "dev std-dev 0.0022969019517442746\n",
            "trian avg 0.9867803156375885\n",
            "dev avg 0.9862045705318451\n"
          ],
          "name": "stdout"
        }
      ]
    },
    {
      "metadata": {
        "id": "Dx5GOdbWA_E8",
        "colab_type": "code",
        "colab": {},
        "outputId": "37c2a09b-3a0b-4927-e904-f257237d02d8"
      },
      "cell_type": "code",
      "source": [
        "plt.rc('font', family='arial')\n",
        "plt.rc('xtick', labelsize='x-small')\n",
        "plt.rc('ytick', labelsize='x-small')\n",
        "    \n",
        "fig = plt.figure(figsize=(12, 5))\n",
        "ax = fig.add_subplot(1, 2, 1)\n",
        "plt.hist(train_acc, bins = 5, color = 'black', alpha = 0.5)\n",
        "ax.set_ylim(0,6)\n",
        "ax.set_xlim(0.982,0.991)\n",
        "ax.set_xlabel('Train Accuracy', fontsize = 16)\n",
        "ax.set_ylabel('Count', fontsize = 16)\n",
        "plt.xticks(fontsize = 16)\n",
        "plt.yticks(fontsize = 16)\n",
        "\n",
        "ax = fig.add_subplot(1, 2, 2)\n",
        "ax.set_ylim(0,6)\n",
        "ax.set_xlim(0.982,0.991)\n",
        "plt.hist(dev_acc, bins = 5, color = 'black', alpha = 0.5)\n",
        "ax.set_xlabel('Dev Accuracy', fontsize = 16)\n",
        "plt.xticks(fontsize = 16)\n",
        "plt.yticks(fontsize = 16)\n",
        "\n",
        "plt.show()"
      ],
      "execution_count": 0,
      "outputs": [
        {
          "output_type": "display_data",
          "data": {
            "image/png": "[encoded data removed]",
            "text/plain": [
              "<matplotlib.figure.Figure at 0x1e8c18f9f98>"
            ]
          },
          "metadata": {
            "tags": []
          }
        }
      ]
    },
    {
      "metadata": {
        "id": "h_G_s_P-A_E_",
        "colab_type": "text"
      },
      "cell_type": "markdown",
      "source": [
        "# Case for splitting with 1-vs-all"
      ]
    },
    {
      "metadata": {
        "id": "HuBboMvAA_E_",
        "colab_type": "code",
        "colab": {}
      },
      "cell_type": "code",
      "source": [
        "y_ = np.zeros_like(yinput_)\n",
        "y_[np.any([yinput_ == 0], axis = 0)] = 0\n",
        "y_[np.any([yinput_ > 0], axis = 0)] = 1"
      ],
      "execution_count": 0,
      "outputs": []
    },
    {
      "metadata": {
        "id": "S8R5ssc-A_FB",
        "colab_type": "code",
        "colab": {},
        "outputId": "cdafe6a9-d781-4c51-971d-718ac5ccda23"
      },
      "cell_type": "code",
      "source": [
        "Xinput_.shape"
      ],
      "execution_count": 0,
      "outputs": [
        {
          "output_type": "execute_result",
          "data": {
            "text/plain": [
              "(70000, 784)"
            ]
          },
          "metadata": {
            "tags": []
          },
          "execution_count": 74
        }
      ]
    },
    {
      "metadata": {
        "id": "_TzH-xleA_FC",
        "colab_type": "code",
        "colab": {}
      },
      "cell_type": "code",
      "source": [
        "np.random.seed(42)\n",
        "rnd = np.random.rand(len(y_)) < 0.8\n",
        "\n",
        "X_train = Xinput_[rnd,:]\n",
        "y_train = y_[rnd]\n",
        "X_dev = Xinput_[~rnd,:]\n",
        "y_dev = y_[~rnd]"
      ],
      "execution_count": 0,
      "outputs": []
    },
    {
      "metadata": {
        "id": "kWDiFyoxA_FE",
        "colab_type": "code",
        "colab": {},
        "outputId": "e824fe57-9350-4f87-ff37-3216910639e1"
      },
      "cell_type": "code",
      "source": [
        "total = 0\n",
        "for i in range(2):\n",
        "    print (\"class\", i, \"makes\", np.around(np.count_nonzero(y_train == i)/56056.0*100.0, decimals=1), \"% of the 56056 observations\")"
      ],
      "execution_count": 0,
      "outputs": [
        {
          "output_type": "stream",
          "text": [
            "class 0 makes 9.9 % of the 56056 observations\n",
            "class 1 makes 90.1 % of the 56056 observations\n"
          ],
          "name": "stdout"
        }
      ]
    },
    {
      "metadata": {
        "id": "MedPQqrHA_FH",
        "colab_type": "code",
        "colab": {},
        "outputId": "fce18cea-e892-40cb-e2e3-4d77e0b98b96"
      },
      "cell_type": "code",
      "source": [
        "total = 0\n",
        "for i in range(2):\n",
        "    print (\"class\", i, \"makes\", np.around(np.count_nonzero(y_dev == i)/13944.0*100.0, decimals=1), \"% of the 13944 observations\")"
      ],
      "execution_count": 0,
      "outputs": [
        {
          "output_type": "stream",
          "text": [
            "class 0 makes 9.7 % of the 13944 observations\n",
            "class 1 makes 90.3 % of the 13944 observations\n"
          ],
          "name": "stdout"
        }
      ]
    },
    {
      "metadata": {
        "id": "e8WoxJ7KA_FK",
        "colab_type": "code",
        "colab": {},
        "outputId": "6ecedde4-7bfc-4530-b3b1-ac0f5a65b92a"
      },
      "cell_type": "code",
      "source": [
        "total = 0\n",
        "for i in range(2):\n",
        "    print (\"class\", i, \"appears\", np.count_nonzero(y_train == i), \" times\")"
      ],
      "execution_count": 0,
      "outputs": [
        {
          "output_type": "stream",
          "text": [
            "class 0 appears 5547  times\n",
            "class 1 appears 50509  times\n"
          ],
          "name": "stdout"
        }
      ]
    },
    {
      "metadata": {
        "id": "xC7vsTadA_FM",
        "colab_type": "text"
      },
      "cell_type": "markdown",
      "source": [
        "## Normalisation"
      ]
    },
    {
      "metadata": {
        "id": "NKd_WBINA_FM",
        "colab_type": "text"
      },
      "cell_type": "markdown",
      "source": [
        "Let's normalise our data. The pixel will have a value between 0 and 255 (gray values). Let's normalise the value between 0 and 1."
      ]
    },
    {
      "metadata": {
        "scrolled": true,
        "id": "4LK196cIA_FN",
        "colab_type": "code",
        "colab": {}
      },
      "cell_type": "code",
      "source": [
        "X_train_normalised = X_train/255.0\n",
        "X_dev_normalised = X_dev/255.0"
      ],
      "execution_count": 0,
      "outputs": []
    },
    {
      "metadata": {
        "id": "AGGhcbzYA_FO",
        "colab_type": "text"
      },
      "cell_type": "markdown",
      "source": [
        "Remember that we need features along the rows, and training cases along the columns. So let's reshape our dataset"
      ]
    },
    {
      "metadata": {
        "id": "Y0jK4WoFA_FP",
        "colab_type": "code",
        "colab": {}
      },
      "cell_type": "code",
      "source": [
        "X_train_tr = X_train_normalised.transpose()\n",
        "y_train_tr = y_train.reshape(1,y_train.shape[0])\n",
        "\n",
        "X_dev_tr = X_dev_normalised.transpose()\n",
        "y_dev_tr = y_dev.reshape(1,y_dev.shape[0])\n",
        "\n",
        "\n",
        "n_dim = X_train_tr.shape[0]\n",
        "dim_train = X_train_tr.shape[1]\n",
        "dim_dev = X_dev_tr.shape[1]"
      ],
      "execution_count": 0,
      "outputs": []
    },
    {
      "metadata": {
        "id": "hb4YWA-mA_FQ",
        "colab_type": "text"
      },
      "cell_type": "markdown",
      "source": [
        "Let's give our variables reasonable names"
      ]
    },
    {
      "metadata": {
        "id": "w-OkjD8nA_FR",
        "colab_type": "code",
        "colab": {}
      },
      "cell_type": "code",
      "source": [
        "Xtrain = X_train_tr\n",
        "ytrain = y_train_tr\n",
        "\n",
        "Xdev = X_dev_tr\n",
        "ydev = y_dev_tr"
      ],
      "execution_count": 0,
      "outputs": []
    },
    {
      "metadata": {
        "id": "C0x-itd-A_FS",
        "colab_type": "text"
      },
      "cell_type": "markdown",
      "source": [
        "# Tensorflow Implementation"
      ]
    },
    {
      "metadata": {
        "id": "0oGEXIbUA_FT",
        "colab_type": "code",
        "colab": {}
      },
      "cell_type": "code",
      "source": [
        "import tensorflow as tf"
      ],
      "execution_count": 0,
      "outputs": []
    },
    {
      "metadata": {
        "id": "cU_FX4b2A_FU",
        "colab_type": "code",
        "colab": {},
        "outputId": "5932c3f1-6ee9-4b55-f3c6-2af40888bb6a"
      },
      "cell_type": "code",
      "source": [
        "print(Xtrain.shape)\n",
        "print(ytrain.shape)\n",
        "print(Xdev.shape)\n",
        "print(ydev.shape)"
      ],
      "execution_count": 0,
      "outputs": [
        {
          "output_type": "stream",
          "text": [
            "(784, 56056)\n",
            "(1, 56056)\n",
            "(784, 13944)\n",
            "(1, 13944)\n"
          ],
          "name": "stdout"
        }
      ]
    },
    {
      "metadata": {
        "id": "UeWNWNlmA_FW",
        "colab_type": "code",
        "colab": {}
      },
      "cell_type": "code",
      "source": [
        "tf.reset_default_graph()\n",
        "\n",
        "X = tf.placeholder(tf.float32, [n_dim, None])\n",
        "Y = tf.placeholder(tf.float32, [1, None])\n",
        "learning_rate = tf.placeholder(tf.float32, shape=())\n",
        "\n",
        "W = tf.Variable(tf.zeros([1, n_dim]))\n",
        "b = tf.Variable(tf.zeros(1))\n",
        "\n",
        "init = tf.global_variables_initializer()"
      ],
      "execution_count": 0,
      "outputs": []
    },
    {
      "metadata": {
        "id": "jJWw6YzqA_FX",
        "colab_type": "code",
        "colab": {}
      },
      "cell_type": "code",
      "source": [
        "y_ = tf.sigmoid(tf.matmul(W,X)+b)\n",
        "cost = - tf.reduce_mean(Y * tf.log(y_)+(1-Y) * tf.log(1-y_))\n",
        "training_step = tf.train.GradientDescentOptimizer(learning_rate).minimize(cost)"
      ],
      "execution_count": 0,
      "outputs": []
    },
    {
      "metadata": {
        "id": "hpIPZQvQA_Fa",
        "colab_type": "code",
        "colab": {}
      },
      "cell_type": "code",
      "source": [
        "def run_logistic_model(learning_r, training_epochs, train_obs, train_labels, debug = False):\n",
        "    sess = tf.Session()\n",
        "    sess.run(init)\n",
        "    \n",
        "    cost_history = np.empty(shape=[0], dtype = float)\n",
        "\n",
        "    for epoch in range(training_epochs+1):\n",
        "        \n",
        "        sess.run(training_step, feed_dict = {X: train_obs, Y: train_labels, learning_rate: learning_r})\n",
        "\n",
        "        cost_ = sess.run(cost, feed_dict={ X:train_obs, Y: train_labels, learning_rate: learning_r})\n",
        "        cost_history = np.append(cost_history, cost_)\n",
        "        \n",
        "        if (epoch % 10 == 0) & debug:\n",
        "            print(\"Reached epoch\",epoch,\"cost J =\", str.format('{0:.6f}', cost_))\n",
        "            \n",
        "    return sess, cost_history"
      ],
      "execution_count": 0,
      "outputs": []
    },
    {
      "metadata": {
        "id": "fAKMeSw4A_Fc",
        "colab_type": "code",
        "colab": {},
        "outputId": "51f61141-a84b-4a69-853a-293118b1c507"
      },
      "cell_type": "code",
      "source": [
        "sess, cost_history = run_logistic_model(learning_r = 0.01, \n",
        "                                training_epochs = 100, \n",
        "                                train_obs = Xtrain, \n",
        "                                train_labels = ytrain, \n",
        "                                debug = True)"
      ],
      "execution_count": 0,
      "outputs": [
        {
          "output_type": "stream",
          "text": [
            "Reached epoch 0 cost J = 0.639774\n",
            "Reached epoch 10 cost J = 0.412214\n",
            "Reached epoch 20 cost J = 0.349503\n",
            "Reached epoch 30 cost J = 0.317864\n",
            "Reached epoch 40 cost J = 0.295897\n",
            "Reached epoch 50 cost J = 0.278217\n",
            "Reached epoch 60 cost J = 0.263053\n",
            "Reached epoch 70 cost J = 0.249696\n",
            "Reached epoch 80 cost J = 0.237795\n",
            "Reached epoch 90 cost J = 0.227135\n",
            "Reached epoch 100 cost J = 0.217555\n"
          ],
          "name": "stdout"
        }
      ]
    },
    {
      "metadata": {
        "id": "-c7S3FriA_Ff",
        "colab_type": "code",
        "colab": {},
        "outputId": "d872b338-5da8-465d-e53d-1397fdb23c04"
      },
      "cell_type": "code",
      "source": [
        "correct_prediction1=tf.equal(tf.greater(y_, 0.5), tf.equal(Y,1))\n",
        "accuracy1 = tf.reduce_mean(tf.cast(correct_prediction1, tf.float32))\n",
        "print(sess.run(accuracy1, feed_dict={X:Xtrain, Y: ytrain, learning_rate: 0.05}))"
      ],
      "execution_count": 0,
      "outputs": [
        {
          "output_type": "stream",
          "text": [
            "0.91269445\n"
          ],
          "name": "stdout"
        }
      ]
    },
    {
      "metadata": {
        "id": "TFuG2D15A_Fg",
        "colab_type": "code",
        "colab": {}
      },
      "cell_type": "code",
      "source": [
        "from sklearn.metrics import confusion_matrix"
      ],
      "execution_count": 0,
      "outputs": []
    },
    {
      "metadata": {
        "id": "Yuix04OVA_Fi",
        "colab_type": "code",
        "colab": {},
        "outputId": "d2b70e34-7a07-43c8-e659-1f6f3de61710"
      },
      "cell_type": "code",
      "source": [
        "ypred = sess.run(tf.greater(y_, 0.5), feed_dict={X:Xtrain, Y: ytrain, learning_rate: 0.05}).flatten().astype(int)\n",
        "confusion_matrix(ytrain.flatten(), ypred)"
      ],
      "execution_count": 0,
      "outputs": [
        {
          "output_type": "execute_result",
          "data": {
            "text/plain": [
              "array([[  659,  4888],\n",
              "       [    6, 50503]], dtype=int64)"
            ]
          },
          "metadata": {
            "tags": []
          },
          "execution_count": 94
        }
      ]
    },
    {
      "metadata": {
        "id": "TaDem7D_A_Fj",
        "colab_type": "code",
        "colab": {},
        "outputId": "54222a59-d0ae-4fbb-b25c-b5e98f0131c5"
      },
      "cell_type": "code",
      "source": [
        "ypred = sess.run(tf.greater(y_, 0.5), feed_dict={X:Xdev, Y: ydev, learning_rate: 0.05}).flatten().astype(int)\n",
        "confusion_matrix(ydev.flatten(), ypred)"
      ],
      "execution_count": 0,
      "outputs": [
        {
          "output_type": "execute_result",
          "data": {
            "text/plain": [
              "array([[  150,  1206],\n",
              "       [    2, 12586]], dtype=int64)"
            ]
          },
          "metadata": {
            "tags": []
          },
          "execution_count": 95
        }
      ]
    },
    {
      "metadata": {
        "id": "JLwCPSvJA_Fl",
        "colab_type": "code",
        "colab": {},
        "outputId": "41c5a766-1773-4a9b-a114-547817c9612e"
      },
      "cell_type": "code",
      "source": [
        "correct_prediction1=tf.equal(tf.greater(y_, 0.5), tf.equal(Y,1))\n",
        "accuracy1 = tf.reduce_mean(tf.cast(correct_prediction1, tf.float32))\n",
        "print(sess.run(accuracy1, feed_dict={X:Xdev, Y: ydev, learning_rate: 0.05}))"
      ],
      "execution_count": 0,
      "outputs": [
        {
          "output_type": "stream",
          "text": [
            "0.91336775\n"
          ],
          "name": "stdout"
        }
      ]
    },
    {
      "metadata": {
        "id": "vdrJ1WvcA_Fm",
        "colab_type": "text"
      },
      "cell_type": "markdown",
      "source": [
        "# Exercise 1: use downsampling to fit the data - difficulty: medium"
      ]
    },
    {
      "metadata": {
        "id": "V9cUlnBOA_Fo",
        "colab_type": "text"
      },
      "cell_type": "markdown",
      "source": [
        "Create a new dataset taking balanced classes, meaning you need only 10% of class 1. Train your network with the new dataset and check the confusion matrix. What is different from the example above? What do you expect and do you get it?"
      ]
    }
  ]
}