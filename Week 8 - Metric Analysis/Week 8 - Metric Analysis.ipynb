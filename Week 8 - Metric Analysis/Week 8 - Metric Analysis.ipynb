{
 "cells": [
  {
   "cell_type": "markdown",
   "metadata": {},
   "source": [
    "# Neural Networks and Deep Learning for Life Sciences and Health Applications - An introductory course about theoretical fundamentals, case studies and implementations in python and tensorflow"
   ]
  },
  {
   "cell_type": "markdown",
   "metadata": {},
   "source": [
    "(C) Umberto Michelucci 2018 - umberto.michelucci@gmail.com \n",
    "\n",
    "github repository: https://github.com/michelucci/zhaw-dlcourse-spring2019\n",
    "\n",
    "Spring Semester 2019"
   ]
  },
  {
   "cell_type": "markdown",
   "metadata": {},
   "source": [
    "# MNIST dataset load"
   ]
  },
  {
   "cell_type": "code",
   "execution_count": 1,
   "metadata": {},
   "outputs": [],
   "source": [
    "import numpy as np\n",
    "from sklearn.datasets import fetch_mldata\n",
    "\n",
    "%matplotlib inline\n",
    "\n",
    "import matplotlib\n",
    "import matplotlib.pyplot as plt\n",
    "\n",
    "from random import *"
   ]
  },
  {
   "cell_type": "code",
   "execution_count": 2,
   "metadata": {},
   "outputs": [
    {
     "data": {
      "text/plain": [
       "{'COL_NAMES': ['label', 'data'],\n",
       " 'DESCR': 'mldata.org dataset: mnist-original',\n",
       " 'data': array([[0, 0, 0, ..., 0, 0, 0],\n",
       "        [0, 0, 0, ..., 0, 0, 0],\n",
       "        [0, 0, 0, ..., 0, 0, 0],\n",
       "        ...,\n",
       "        [0, 0, 0, ..., 0, 0, 0],\n",
       "        [0, 0, 0, ..., 0, 0, 0],\n",
       "        [0, 0, 0, ..., 0, 0, 0]], dtype=uint8),\n",
       " 'target': array([0., 0., 0., ..., 9., 9., 9.])}"
      ]
     },
     "execution_count": 2,
     "metadata": {},
     "output_type": "execute_result"
    }
   ],
   "source": [
    "mnist = fetch_mldata('MNIST original')\n",
    "mnist"
   ]
  },
  {
   "cell_type": "code",
   "execution_count": 3,
   "metadata": {},
   "outputs": [],
   "source": [
    "Xinput,yinput = mnist[\"data\"], mnist[\"target\"]"
   ]
  },
  {
   "cell_type": "code",
   "execution_count": 4,
   "metadata": {},
   "outputs": [
    {
     "data": {
      "image/png": "[encoded data removed]",
      "text/plain": [
       "<matplotlib.figure.Figure at 0x222c1deefd0>"
      ]
     },
     "metadata": {},
     "output_type": "display_data"
    }
   ],
   "source": [
    "def plot_digit(some_digit):\n",
    "    \n",
    "    some_digit_image = some_digit.reshape(28,28)\n",
    "\n",
    "    plt.imshow(some_digit_image, cmap = matplotlib.cm.binary, interpolation = \"nearest\")\n",
    "    #plt.axis(\"off\")\n",
    "    plt.show()\n",
    "    \n",
    "plot_digit(Xinput[36003])"
   ]
  },
  {
   "cell_type": "markdown",
   "metadata": {},
   "source": [
    "## Shift of the images"
   ]
  },
  {
   "cell_type": "code",
   "execution_count": 192,
   "metadata": {},
   "outputs": [],
   "source": [
    "Xtrain_shifted = np.zeros_like(Xtrain)\n",
    "for i in range(Xtrain.shape[1]):\n",
    "    tmp = Xtrain[:,i].reshape(28,28)\n",
    "    tmp_shifted = np.zeros_like(tmp)\n",
    "    tmp_shifted[:,10:28] = tmp[:,0:18]\n",
    "    Xtrain_shifted[:,i] = tmp_shifted.reshape(784)"
   ]
  },
  {
   "cell_type": "code",
   "execution_count": 193,
   "metadata": {},
   "outputs": [
    {
     "data": {
      "image/png": "[encoded data removed]",
      "text/plain": [
       "<matplotlib.figure.Figure at 0x1d3548adf98>"
      ]
     },
     "metadata": {},
     "output_type": "display_data"
    },
    {
     "data": {
      "image/png": "[encoded data removed]",
      "text/plain": [
       "<matplotlib.figure.Figure at 0x1d3548ade10>"
      ]
     },
     "metadata": {},
     "output_type": "display_data"
    }
   ],
   "source": [
    "plot_digit(Xtrain[:,7000])\n",
    "plot_digit(Xtrain_shifted[:,7000])"
   ]
  },
  {
   "cell_type": "markdown",
   "metadata": {},
   "source": [
    "# Let's create a train, a train-dev and a dev dataset"
   ]
  },
  {
   "cell_type": "markdown",
   "metadata": {},
   "source": [
    "## Train and dev datasets"
   ]
  },
  {
   "cell_type": "code",
   "execution_count": 11,
   "metadata": {},
   "outputs": [],
   "source": [
    "X_ = Xinput[np.any([yinput == 1,yinput == 2], axis = 0)]\n",
    "y_ = yinput[np.any([yinput == 1,yinput == 2], axis = 0)]"
   ]
  },
  {
   "cell_type": "markdown",
   "metadata": {},
   "source": [
    "random split 80%/20%"
   ]
  },
  {
   "cell_type": "code",
   "execution_count": 13,
   "metadata": {},
   "outputs": [],
   "source": [
    "np.random.seed(42)\n",
    "rnd_train = np.random.rand(len(y_)) < 0.8\n",
    "\n",
    "X_train = X_[rnd_train,:]\n",
    "y_train = y_[rnd_train]\n",
    "X_dev = X_[~rnd_train,:]\n",
    "y_dev = y_[~rnd_train]"
   ]
  },
  {
   "cell_type": "markdown",
   "metadata": {},
   "source": [
    "Normalization"
   ]
  },
  {
   "cell_type": "code",
   "execution_count": 14,
   "metadata": {},
   "outputs": [],
   "source": [
    "X_train_normalised = X_train/255.0\n",
    "X_dev_normalised = X_dev/255.0"
   ]
  },
  {
   "cell_type": "markdown",
   "metadata": {},
   "source": [
    "Reshaping of the arrays"
   ]
  },
  {
   "cell_type": "code",
   "execution_count": 15,
   "metadata": {},
   "outputs": [],
   "source": [
    "X_train_tr = X_train_normalised.transpose()\n",
    "y_train_tr = y_train.reshape(1,y_train.shape[0])\n",
    "\n",
    "n_dim = X_train_tr.shape[0]\n",
    "dim_train = X_train_tr.shape[1]\n",
    "\n",
    "X_dev_tr = X_dev_normalised.transpose()\n",
    "y_dev_tr = y_dev.reshape(1,y_dev.shape[0])"
   ]
  },
  {
   "cell_type": "code",
   "execution_count": 16,
   "metadata": {},
   "outputs": [],
   "source": [
    "y_train_shifted = y_train_tr - 1\n",
    "y_dev_shifted = y_dev_tr - 1"
   ]
  },
  {
   "cell_type": "code",
   "execution_count": 17,
   "metadata": {},
   "outputs": [],
   "source": [
    "Xtrain = X_train_tr\n",
    "ytrain = y_train_shifted\n",
    "\n",
    "Xdev = X_dev_tr\n",
    "ydev = y_dev_shifted"
   ]
  },
  {
   "cell_type": "code",
   "execution_count": 18,
   "metadata": {},
   "outputs": [
    {
     "name": "stdout",
     "output_type": "stream",
     "text": [
      "(784, 11893)\n",
      "(784, 2974)\n"
     ]
    }
   ],
   "source": [
    "print(Xtrain.shape)\n",
    "print(Xdev.shape)"
   ]
  },
  {
   "cell_type": "markdown",
   "metadata": {},
   "source": [
    "## Let's create the train-dev dataset shifted"
   ]
  },
  {
   "cell_type": "code",
   "execution_count": 23,
   "metadata": {},
   "outputs": [],
   "source": [
    "Xtraindev = np.zeros_like(Xdev)\n",
    "for i in range(Xdev.shape[1]):\n",
    "    tmp = Xdev[:,i].reshape(28,28)\n",
    "    tmp_shifted = np.zeros_like(tmp)\n",
    "    tmp_shifted[:,10:28] = tmp[:,0:18]\n",
    "    Xtraindev[:,i] = tmp_shifted.reshape(784)\n",
    "    \n",
    "ytraindev = ydev"
   ]
  },
  {
   "cell_type": "code",
   "execution_count": 24,
   "metadata": {},
   "outputs": [
    {
     "name": "stdout",
     "output_type": "stream",
     "text": [
      "(784, 2974)\n"
     ]
    }
   ],
   "source": [
    "print(Xtraindev.shape)"
   ]
  },
  {
   "cell_type": "markdown",
   "metadata": {},
   "source": [
    "### Original image"
   ]
  },
  {
   "cell_type": "code",
   "execution_count": 28,
   "metadata": {
    "scrolled": true
   },
   "outputs": [
    {
     "data": {
      "text/plain": [
       "<matplotlib.image.AxesImage at 0x222cf47e7b8>"
      ]
     },
     "execution_count": 28,
     "metadata": {},
     "output_type": "execute_result"
    },
    {
     "data": {
      "image/png": "[encoded data removed]",
      "text/plain": [
       "<matplotlib.figure.Figure at 0x222ce398f28>"
      ]
     },
     "metadata": {},
     "output_type": "display_data"
    }
   ],
   "source": [
    "plt.imshow(Xdev[:,1233].reshape(28,28), cmap = matplotlib.cm.binary, interpolation = \"nearest\")"
   ]
  },
  {
   "cell_type": "markdown",
   "metadata": {},
   "source": [
    "### Shifted Image"
   ]
  },
  {
   "cell_type": "code",
   "execution_count": 26,
   "metadata": {},
   "outputs": [
    {
     "data": {
      "text/plain": [
       "<matplotlib.image.AxesImage at 0x222ce3f74a8>"
      ]
     },
     "execution_count": 26,
     "metadata": {},
     "output_type": "execute_result"
    },
    {
     "data": {
      "image/png": "[encoded data removed]",
      "text/plain": [
       "<matplotlib.figure.Figure at 0x222cf5819e8>"
      ]
     },
     "metadata": {},
     "output_type": "display_data"
    }
   ],
   "source": [
    "plt.imshow(Xtraindev[:,1233].reshape(28,28), cmap = matplotlib.cm.binary, interpolation = \"nearest\")"
   ]
  },
  {
   "cell_type": "markdown",
   "metadata": {},
   "source": [
    "# Neural network"
   ]
  },
  {
   "cell_type": "code",
   "execution_count": 29,
   "metadata": {},
   "outputs": [],
   "source": [
    "import tensorflow as tf"
   ]
  },
  {
   "cell_type": "code",
   "execution_count": 31,
   "metadata": {},
   "outputs": [],
   "source": [
    "n_dim = 784"
   ]
  },
  {
   "cell_type": "code",
   "execution_count": 32,
   "metadata": {},
   "outputs": [],
   "source": [
    "tf.reset_default_graph()\n",
    "\n",
    "X = tf.placeholder(tf.float32, [n_dim, None])\n",
    "Y = tf.placeholder(tf.float32, [1, None])\n",
    "learning_rate = tf.placeholder(tf.float32, shape=())\n",
    "\n",
    "W = tf.Variable(tf.zeros([1, n_dim]))\n",
    "b = tf.Variable(tf.zeros(1))\n",
    "\n",
    "init = tf.global_variables_initializer()"
   ]
  },
  {
   "cell_type": "code",
   "execution_count": 33,
   "metadata": {},
   "outputs": [],
   "source": [
    "y_ = tf.sigmoid(tf.matmul(W,X)+b)\n",
    "cost = - tf.reduce_mean(Y * tf.log(y_)+(1-Y) * tf.log(1-y_))\n",
    "training_step = tf.train.GradientDescentOptimizer(learning_rate).minimize(cost)"
   ]
  },
  {
   "cell_type": "code",
   "execution_count": 34,
   "metadata": {},
   "outputs": [],
   "source": [
    "def run_logistic_model(learning_r, training_epochs, train_obs, train_labels, debug = False):\n",
    "    sess = tf.Session()\n",
    "    sess.run(init)\n",
    "    \n",
    "    cost_history = np.empty(shape=[0], dtype = float)\n",
    "\n",
    "    for epoch in range(training_epochs+1):\n",
    "        \n",
    "        sess.run(training_step, feed_dict = {X: train_obs, Y: train_labels, learning_rate: learning_r})\n",
    "\n",
    "        cost_ = sess.run(cost, feed_dict={ X:train_obs, Y: train_labels, learning_rate: learning_r})\n",
    "        cost_history = np.append(cost_history, cost_)\n",
    "        \n",
    "        if (epoch % 10 == 0) & debug:\n",
    "            print(\"Reached epoch\",epoch,\"cost J =\", str.format('{0:.6f}', cost_))\n",
    "            \n",
    "    return sess, cost_history"
   ]
  },
  {
   "cell_type": "code",
   "execution_count": 35,
   "metadata": {},
   "outputs": [
    {
     "name": "stdout",
     "output_type": "stream",
     "text": [
      "Reached epoch 0 cost J = 0.678501\n",
      "Reached epoch 10 cost J = 0.562412\n",
      "Reached epoch 20 cost J = 0.482372\n",
      "Reached epoch 30 cost J = 0.424058\n",
      "Reached epoch 40 cost J = 0.380005\n",
      "Reached epoch 50 cost J = 0.345703\n",
      "Reached epoch 60 cost J = 0.318287\n",
      "Reached epoch 70 cost J = 0.295878\n",
      "Reached epoch 80 cost J = 0.277208\n",
      "Reached epoch 90 cost J = 0.261400\n",
      "Reached epoch 100 cost J = 0.247827\n"
     ]
    }
   ],
   "source": [
    "sess, cost_history = run_logistic_model(learning_r = 0.01, \n",
    "                                training_epochs = 100, \n",
    "                                train_obs = Xtrain, \n",
    "                                train_labels = ytrain, \n",
    "                                debug = True)"
   ]
  },
  {
   "cell_type": "code",
   "execution_count": 36,
   "metadata": {},
   "outputs": [
    {
     "name": "stdout",
     "output_type": "stream",
     "text": [
      "0.96855295\n"
     ]
    }
   ],
   "source": [
    "correct_prediction1=tf.equal(tf.greater(y_, 0.5), tf.equal(Y,1))\n",
    "accuracy1 = tf.reduce_mean(tf.cast(correct_prediction1, tf.float32))\n",
    "print(sess.run(accuracy1, feed_dict={X:Xtrain, Y: ytrain, learning_rate: 0.05}))"
   ]
  },
  {
   "cell_type": "code",
   "execution_count": 37,
   "metadata": {},
   "outputs": [
    {
     "name": "stdout",
     "output_type": "stream",
     "text": [
      "0.967384\n"
     ]
    }
   ],
   "source": [
    "correct_prediction1=tf.equal(tf.greater(y_, 0.5), tf.equal(Y,1))\n",
    "accuracy1 = tf.reduce_mean(tf.cast(correct_prediction1, tf.float32))\n",
    "print(sess.run(accuracy1, feed_dict={X:Xdev, Y: ydev, learning_rate: 0.05}))"
   ]
  },
  {
   "cell_type": "markdown",
   "metadata": {},
   "source": [
    "# Predictions on the traindev dataset"
   ]
  },
  {
   "cell_type": "code",
   "execution_count": 38,
   "metadata": {},
   "outputs": [
    {
     "name": "stdout",
     "output_type": "stream",
     "text": [
      "0.46704775\n"
     ]
    }
   ],
   "source": [
    "correct_prediction1=tf.equal(tf.greater(y_, 0.5), tf.equal(Y,1))\n",
    "accuracy1 = tf.reduce_mean(tf.cast(correct_prediction1, tf.float32))\n",
    "print(sess.run(accuracy1, feed_dict={X:Xtraindev, Y: ytraindev, learning_rate: 0.05}))"
   ]
  },
  {
   "cell_type": "markdown",
   "metadata": {},
   "source": [
    "# Exercise 1: build a training dataset to predict shifted images - difficulty: hard"
   ]
  },
  {
   "cell_type": "markdown",
   "metadata": {},
   "source": [
    "To fight this problem we need to augment our training dataset. Do the following\n",
    "\n",
    "1. Expand the training dataset adding to each image a new image shifted by 10 pixels with the right label.\n",
    "2. Train your network on this new dataset\n",
    "3. Evaluate the accuracy of your newly trained network on the ```traindev``` dataset. What do you observe? What accuaracy you get this time? "
   ]
  },
  {
   "cell_type": "markdown",
   "metadata": {},
   "source": [
    "**HINT** you can use code that is similar to this one to generate the new images\n",
    "\n",
    "    Xtrain_sh = np.zeros_like(Xtrain)\n",
    "    for i in range(Xtrain.shape[1]):\n",
    "        tmp = Xtrain[:,i].reshape(28,28)\n",
    "        tmp_shifted = np.zeros_like(tmp)\n",
    "        tmp_shifted[:,10:28] = tmp[:,0:18]\n",
    "        Xtrain_sh[:,i] = tmp_shifted.reshape(784)\n",
    "\n",
    "    ytrain_sh = ytrain\n",
    "    \n",
    "at the end you have to merge the ```Xtrain``` array with the newly created ```Xtrain_sh```. Remember to merge also the labels!"
   ]
  },
  {
   "cell_type": "markdown",
   "metadata": {},
   "source": [
    "## Code hint"
   ]
  },
  {
   "cell_type": "code",
   "execution_count": 39,
   "metadata": {},
   "outputs": [],
   "source": [
    "Xtrain_sh = np.zeros_like(Xtrain)\n",
    "for i in range(Xtrain.shape[1]):\n",
    "    tmp = Xtrain[:,i].reshape(28,28)\n",
    "    tmp_shifted = np.zeros_like(tmp)\n",
    "    tmp_shifted[:,10:28] = tmp[:,0:18]\n",
    "    Xtrain_sh[:,i] = tmp_shifted.reshape(784)\n",
    "    \n",
    "ytrain_sh = ytrain"
   ]
  },
  {
   "cell_type": "code",
   "execution_count": 40,
   "metadata": {},
   "outputs": [
    {
     "data": {
      "text/plain": [
       "(784, 11893)"
      ]
     },
     "execution_count": 40,
     "metadata": {},
     "output_type": "execute_result"
    }
   ],
   "source": [
    "Xtrain_sh.shape"
   ]
  },
  {
   "cell_type": "code",
   "execution_count": 41,
   "metadata": {},
   "outputs": [
    {
     "data": {
      "text/plain": [
       "(784, 11893)"
      ]
     },
     "execution_count": 41,
     "metadata": {},
     "output_type": "execute_result"
    }
   ],
   "source": [
    "Xtrain.shape"
   ]
  },
  {
   "cell_type": "code",
   "execution_count": 42,
   "metadata": {},
   "outputs": [
    {
     "data": {
      "text/plain": [
       "<matplotlib.image.AxesImage at 0x222d86c6b70>"
      ]
     },
     "execution_count": 42,
     "metadata": {},
     "output_type": "execute_result"
    },
    {
     "data": {
      "image/png": "[encoded data removed]",
      "text/plain": [
       "<matplotlib.figure.Figure at 0x222d3f659b0>"
      ]
     },
     "metadata": {},
     "output_type": "display_data"
    }
   ],
   "source": [
    "plt.imshow(Xtrain[:,1233].reshape(28,28), cmap = matplotlib.cm.binary, interpolation = \"nearest\")"
   ]
  },
  {
   "cell_type": "code",
   "execution_count": 43,
   "metadata": {},
   "outputs": [
    {
     "data": {
      "text/plain": [
       "<matplotlib.image.AxesImage at 0x222d8721eb8>"
      ]
     },
     "execution_count": 43,
     "metadata": {},
     "output_type": "execute_result"
    },
    {
     "data": {
      "image/png": "[encoded data removed]",
      "text/plain": [
       "<matplotlib.figure.Figure at 0x222d3f65780>"
      ]
     },
     "metadata": {},
     "output_type": "display_data"
    }
   ],
   "source": [
    "plt.imshow(Xtrain_sh[:,1233].reshape(28,28), cmap = matplotlib.cm.binary, interpolation = \"nearest\")"
   ]
  }
 ],
 "metadata": {
  "kernelspec": {
   "display_name": "Python 3",
   "language": "python",
   "name": "python3"
  },
  "language_info": {
   "codemirror_mode": {
    "name": "ipython",
    "version": 3
   },
   "file_extension": ".py",
   "mimetype": "text/x-python",
   "name": "python",
   "nbconvert_exporter": "python",
   "pygments_lexer": "ipython3",
   "version": "3.7.2"
  }
 },
 "nbformat": 4,
 "nbformat_minor": 2
}
