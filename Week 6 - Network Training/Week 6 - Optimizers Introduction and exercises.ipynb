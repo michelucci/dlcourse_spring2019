{
  "nbformat": 4,
  "nbformat_minor": 0,
  "metadata": {
    "colab": {
      "name": "Week 6 - Optimizers Introduction and exercises.ipynb",
      "version": "0.3.2",
      "provenance": [],
      "include_colab_link": true
    },
    "kernelspec": {
      "display_name": "Python 3",
      "language": "python",
      "name": "python3"
    }
  },
  "cells": [
    {
      "cell_type": "markdown",
      "metadata": {
        "id": "view-in-github",
        "colab_type": "text"
      },
      "source": [
        "<a href=\"https://colab.research.google.com/github/michelucci/zhaw-dlcourse-spring2019/blob/master/Week%206%20-%20Network%20Training/Week%206%20-%20Optimizers%20Introduction%20and%20exercises.ipynb\" target=\"_parent\"><img src=\"https://colab.research.google.com/assets/colab-badge.svg\" alt=\"Open In Colab\"/></a>"
      ]
    },
    {
      "metadata": {
        "id": "md-SkNYt__-9",
        "colab_type": "text"
      },
      "cell_type": "markdown",
      "source": [
        "# Neural Networks and Deep Learning for Life Sciences and Health Applications - An introductory course about theoretical fundamentals, case studies and implementations in python and tensorflow"
      ]
    },
    {
      "metadata": {
        "id": "gtz4l8bx__-_",
        "colab_type": "text"
      },
      "cell_type": "markdown",
      "source": [
        "(C) Umberto Michelucci 2018 - umberto.michelucci@gmail.com \n",
        "\n",
        "github repository: https://github.com/michelucci/zhaw-dlcourse-spring2019\n",
        "\n",
        "Spring Semester 2019"
      ]
    },
    {
      "metadata": {
        "id": "RHfLJ87q___B",
        "colab_type": "code",
        "colab": {}
      },
      "cell_type": "code",
      "source": [
        "import numpy as np\n",
        "import matplotlib.pyplot as plt\n",
        "import tensorflow as tf\n",
        "from mpl_toolkits.mplot3d import Axes3D\n",
        "from matplotlib import cm\n",
        "import matplotlib as mpl\n",
        "\n",
        "# Generic matplotlib parameters for plots and figures\n",
        "mpl.rcParams['figure.figsize'] = [8,5]\n",
        "font = {'size'   : 16}\n",
        "mpl.rc('font', **font)"
      ],
      "execution_count": 0,
      "outputs": []
    },
    {
      "metadata": {
        "id": "DXDcbXa-___E",
        "colab_type": "code",
        "colab": {}
      },
      "cell_type": "code",
      "source": [
        "# The data to fit\n",
        "m = 30\n",
        "theta0_true = 2\n",
        "theta1_true = 0.5\n",
        "x = np.linspace(-1,1,m)\n",
        "y = theta0_true + theta1_true * x"
      ],
      "execution_count": 0,
      "outputs": []
    },
    {
      "metadata": {
        "id": "RIIFD4Rr___H",
        "colab_type": "code",
        "colab": {}
      },
      "cell_type": "code",
      "source": [
        "X_ = x.reshape(1,30)\n",
        "Y_ = y.reshape(1,30)"
      ],
      "execution_count": 0,
      "outputs": []
    },
    {
      "metadata": {
        "id": "PtD7O-pp___J",
        "colab_type": "text"
      },
      "cell_type": "markdown",
      "source": [
        "The data is a perfect line"
      ]
    },
    {
      "metadata": {
        "id": "ugrmtdzV___K",
        "colab_type": "code",
        "colab": {},
        "outputId": "c4e3cf6a-e7c1-4a25-b6d3-fa186432f48b"
      },
      "cell_type": "code",
      "source": [
        "fig = plt.figure(figsize=(8,5))\n",
        "ax = fig.add_subplot(1, 1, 1)\n",
        "ax.scatter(x,y, s = 80)"
      ],
      "execution_count": 0,
      "outputs": [
        {
          "output_type": "execute_result",
          "data": {
            "text/plain": [
              "<matplotlib.collections.PathCollection at 0x1667ab600b8>"
            ]
          },
          "metadata": {
            "tags": []
          },
          "execution_count": 4
        },
        {
          "output_type": "display_data",
          "data": {
            "image/png": "[encoded data removed]",
            "text/plain": [
              "<matplotlib.figure.Figure at 0x16678af6908>"
            ]
          },
          "metadata": {
            "tags": []
          }
        }
      ]
    },
    {
      "metadata": {
        "id": "ELGBFWoX___P",
        "colab_type": "text"
      },
      "cell_type": "markdown",
      "source": [
        "The goal of this notebook is to compare different optimizers in finding the parameters of the line, that is $w=0.5$ and $b=2.0$."
      ]
    },
    {
      "metadata": {
        "id": "a8ba2QxS___Q",
        "colab_type": "text"
      },
      "cell_type": "markdown",
      "source": [
        "## Network building Phase"
      ]
    },
    {
      "metadata": {
        "id": "4NotnuuW___S",
        "colab_type": "code",
        "colab": {}
      },
      "cell_type": "code",
      "source": [
        "W1_initial = 2.5\n",
        "b_initial = 1.0\n",
        "\n",
        "n_dim = 1\n",
        "tf.reset_default_graph()\n",
        "tf.set_random_seed(5)\n",
        "\n",
        "X = tf.placeholder(tf.float32, [n_dim, None])\n",
        "Y = tf.placeholder(tf.float32, [1, None])\n",
        "learning_rate = tf.placeholder(tf.float32, shape=())\n",
        "momentum = tf.placeholder(tf.float32, shape=())\n",
        "\n",
        "W1 = tf.Variable(tf.constant(W1_initial, shape= [1,1]))\n",
        "b1 = tf.Variable(tf.constant(b_initial, shape = [1,1]) )\n",
        "    \n",
        "y_ = tf.matmul(W1, X) + b1 \n",
        "cost = tf.reduce_mean(tf.square(y_-Y))\n",
        "    \n",
        "# I define here 4 optimizers node, but I will only run one each time,\n",
        "# depending on the optimizer I want to test.\n",
        "optimizerGD = tf.train.GradientDescentOptimizer(learning_rate).minimize(cost)\n",
        "optimizerAdam = tf.train.AdamOptimizer(learning_rate).minimize(cost)\n",
        "optimizerMomentum = tf.train.MomentumOptimizer(learning_rate, momentum).minimize(cost)\n",
        "optimizerRMSP = tf.train.RMSPropOptimizer(learning_rate, momentum).minimize(cost)\n",
        "    \n",
        "init = tf.global_variables_initializer()"
      ],
      "execution_count": 0,
      "outputs": []
    },
    {
      "metadata": {
        "id": "wrl8j4XY___U",
        "colab_type": "code",
        "colab": {}
      },
      "cell_type": "code",
      "source": [
        "def run_linear_model(training_epochs, train_obs, train_labels, debug = False, \n",
        "                     learning_r = 0.001, mom = 0.9,\n",
        "                     optString = 'GD'):\n",
        "    sess = tf.Session()\n",
        "    sess.run(init)\n",
        "    \n",
        "    dispatcher = {'GD': optimizerGD, 'Adam': optimizerAdam,\n",
        "                  'Momentum': optimizerMomentum, 'RMSP': optimizerRMSP}\n",
        "    try:\n",
        "        opt = dispatcher[optString]\n",
        "    except KeyError:\n",
        "        raise ValueError('Invalid optimizer')\n",
        "    \n",
        "    cost_history = np.empty(shape=[0], dtype = float)\n",
        "    W = np.empty(shape = 0, dtype = float)\n",
        "    b = np.empty(shape = 0, dtype = float)\n",
        "    \n",
        "    W = np.append(W, 2.5)\n",
        "    b = np.append(b,1.0)\n",
        "    \n",
        "    feed_dict_input = {X: train_obs, Y: train_labels, learning_rate: learning_r, momentum : mom}\n",
        "    for epoch in range(training_epochs+1):\n",
        "        sess.run(opt, feed_dict = feed_dict_input)\n",
        "        cost_ = sess.run(cost, feed_dict=feed_dict_input)\n",
        "        W_ = sess.run(W1, feed_dict=feed_dict_input)\n",
        "        b_ = sess.run(b1, feed_dict=feed_dict_input)\n",
        "        \n",
        "        \n",
        "        cost_history = np.append(cost_history, cost_)\n",
        "        W = np.append(W, W_)\n",
        "        b = np.append(b, b_)\n",
        "                \n",
        "        if (epoch % 20 == 0) & debug:\n",
        "            print(\"Reached epoch\",epoch,\"cost J =\", str.format('{0:.6f}', cost_))\n",
        "            \n",
        "    return sess, cost_history, W, b"
      ],
      "execution_count": 0,
      "outputs": []
    },
    {
      "metadata": {
        "id": "9Igi7Sqq___W",
        "colab_type": "text"
      },
      "cell_type": "markdown",
      "source": [
        "## Gradient Descent"
      ]
    },
    {
      "metadata": {
        "id": "56Th1207___X",
        "colab_type": "code",
        "colab": {},
        "outputId": "a9143a18-b174-46a1-b698-d484bfed0ed6"
      },
      "cell_type": "code",
      "source": [
        "sessgd, cost_gd, Woutputgd, boutputgd = run_linear_model(200, X_, Y_, \n",
        "                                                   debug = True, learning_r = 0.05, mom = 0.9, optString = 'GD')\n",
        "# Let's print the best parameters found\n",
        "print(Woutputgd[-1])\n",
        "print(boutputgd[-1])"
      ],
      "execution_count": 0,
      "outputs": [
        {
          "output_type": "stream",
          "text": [
            "Reached epoch 0 cost J = 2.135525\n",
            "Reached epoch 20 cost J = 0.322497\n",
            "Reached epoch 40 cost J = 0.072922\n",
            "Reached epoch 60 cost J = 0.017044\n",
            "Reached epoch 80 cost J = 0.003992\n",
            "Reached epoch 100 cost J = 0.000935\n",
            "Reached epoch 120 cost J = 0.000219\n",
            "Reached epoch 140 cost J = 0.000051\n",
            "Reached epoch 160 cost J = 0.000012\n",
            "Reached epoch 180 cost J = 0.000003\n",
            "Reached epoch 200 cost J = 0.000001\n",
            "0.5013607740402222\n",
            "1.9999995231628418\n"
          ],
          "name": "stdout"
        }
      ]
    },
    {
      "metadata": {
        "id": "q9iykvXI___b",
        "colab_type": "text"
      },
      "cell_type": "markdown",
      "source": [
        "## Adam"
      ]
    },
    {
      "metadata": {
        "id": "bePyNiRS___c",
        "colab_type": "code",
        "colab": {},
        "outputId": "f3bb7ab6-812c-4f1a-f3bb-d62b80ee31f8"
      },
      "cell_type": "code",
      "source": [
        "sessAd, cost_Ad, Woutputad, boutputad = run_linear_model(200, X_, Y_, \n",
        "                                                   debug = True, learning_r = 0.05, mom = 0.9, optString = 'Adam')\n",
        "# Let's print the best parameters found\n",
        "print(Woutputad[-1])\n",
        "print(boutputad[-1])"
      ],
      "execution_count": 0,
      "outputs": [
        {
          "output_type": "stream",
          "text": [
            "Reached epoch 0 cost J = 2.257414\n",
            "Reached epoch 20 cost J = 0.360334\n",
            "Reached epoch 40 cost J = 0.044293\n",
            "Reached epoch 60 cost J = 0.000604\n",
            "Reached epoch 80 cost J = 0.000663\n",
            "Reached epoch 100 cost J = 0.000043\n",
            "Reached epoch 120 cost J = 0.000009\n",
            "Reached epoch 140 cost J = 0.000001\n",
            "Reached epoch 160 cost J = 0.000000\n",
            "Reached epoch 180 cost J = 0.000000\n",
            "Reached epoch 200 cost J = 0.000000\n",
            "0.5000684261322021\n",
            "1.999971628189087\n"
          ],
          "name": "stdout"
        }
      ]
    },
    {
      "metadata": {
        "id": "KBtNJ6wp___f",
        "colab_type": "text"
      },
      "cell_type": "markdown",
      "source": [
        "# Exercise 1: plot the cost function - difficulty: easy"
      ]
    },
    {
      "metadata": {
        "id": "TbsQxBSZ___f",
        "colab_type": "text"
      },
      "cell_type": "markdown",
      "source": [
        "Plot the two cost functions, the one for the Gradient Descent and the one for the optimzer Adam. \n",
        "\n",
        "1. What do you notice? What is different?\n",
        "2. Do a zoom around values of the cost function close to zero. What do you notice? Try the following zoom levels: ```plt.ylim(0,0.01)```, or ```plt.ylim(0,0.001)```.\n",
        "3. What can you say about the final value reached by the cost function in the two cases?\n",
        "4. Compare the values for ```W``` and ```b``` reached with the two algorithms. What do you notice?"
      ]
    },
    {
      "metadata": {
        "id": "OVkwJdU0___g",
        "colab_type": "text"
      },
      "cell_type": "markdown",
      "source": [
        "# Exercise 2: compare all the optimizers - difficulty: medium"
      ]
    },
    {
      "metadata": {
        "id": "iBJe1D4s___h",
        "colab_type": "text"
      },
      "cell_type": "markdown",
      "source": [
        "Now do the same comparison not only for GD and Adam, but also for RMSProp and Momentum. Answer the following questions\n",
        "\n",
        "1. What is the most efficient algorithm in terms of number of epochs (which one converges faster)?\n",
        "2. Compare the final values for ```W``` and ```b``` reached for the four algorithms. Which one reaches the expected values better?"
      ]
    },
    {
      "metadata": {
        "id": "M7nodZIa___h",
        "colab_type": "text"
      },
      "cell_type": "markdown",
      "source": [
        "# Exercise 3: compare how the converges work in parameter space"
      ]
    },
    {
      "metadata": {
        "id": "QvvfYxYm___i",
        "colab_type": "text"
      },
      "cell_type": "markdown",
      "source": [
        "The function ```run_linear_model()``` returns also two numpy arrays that contains all the successive approximation of ```W``` and ```b```. Do a 2-dimensional plot of the approximations puttin ```W``` on the $x$-axis and ```b``` on the $y$-axis and check how the four algorithm converges. \n",
        "\n",
        "1. What path do they follow to reach the minimum? Check this out\n",
        "2. Zoom around the expected minimum and check how the paths are different with the four different algorithms\n"
      ]
    },
    {
      "metadata": {
        "id": "Zr9XlvnL___j",
        "colab_type": "text"
      },
      "cell_type": "markdown",
      "source": [
        "Use a code similar to the following"
      ]
    },
    {
      "metadata": {
        "id": "p1Imnv3y___j",
        "colab_type": "code",
        "colab": {},
        "outputId": "a36f043b-ebb3-46cd-c88d-7c9b80065207"
      },
      "cell_type": "code",
      "source": [
        "plt.scatter(0.5, 2.0, s= 100)\n",
        "plt.plot(Woutputgd, boutputgd, label = 'GD')\n",
        "plt.plot(Woutputad, boutputad, label = 'Adam')\n",
        "# To change the zoom level uncomment the following lines\n",
        "#plt.xlim(0.48,0.51)\n",
        "#plt.ylim(1.98, 2.02)\n",
        "plt.legend()"
      ],
      "execution_count": 0,
      "outputs": [
        {
          "output_type": "execute_result",
          "data": {
            "text/plain": [
              "<matplotlib.legend.Legend at 0x271b7fa3b38>"
            ]
          },
          "metadata": {
            "tags": []
          },
          "execution_count": 108
        },
        {
          "output_type": "display_data",
          "data": {
            "image/png": "[encoded data removed]",
            "text/plain": [
              "<matplotlib.figure.Figure at 0x271b6b47cc0>"
            ]
          },
          "metadata": {
            "tags": []
          }
        }
      ]
    },
    {
      "metadata": {
        "id": "4QefNRyd___m",
        "colab_type": "text"
      },
      "cell_type": "markdown",
      "source": [
        "# Exercise 4: plot the cost function of all the optimizeres together - difficulty easy"
      ]
    },
    {
      "metadata": {
        "id": "8HQZDoKp___n",
        "colab_type": "text"
      },
      "cell_type": "markdown",
      "source": [
        "Plot the cost function convergence for the four optimizers together and compare them. What do you notice?"
      ]
    }
  ]
}