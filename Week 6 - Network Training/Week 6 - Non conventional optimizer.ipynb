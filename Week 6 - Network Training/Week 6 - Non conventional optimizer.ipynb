{
  "nbformat": 4,
  "nbformat_minor": 0,
  "metadata": {
    "colab": {
      "name": "Week 6 - Non conventional optimizer.ipynb",
      "version": "0.3.2",
      "provenance": [],
      "include_colab_link": true
    },
    "kernelspec": {
      "display_name": "Python 3",
      "language": "python",
      "name": "python3"
    }
  },
  "cells": [
    {
      "cell_type": "markdown",
      "metadata": {
        "id": "view-in-github",
        "colab_type": "text"
      },
      "source": [
        "<a href=\"https://colab.research.google.com/github/michelucci/zhaw-dlcourse-spring2019/blob/master/Week%206%20-%20Network%20Training/Week%206%20-%20Non%20conventional%20optimizer.ipynb\" target=\"_parent\"><img src=\"https://colab.research.google.com/assets/colab-badge.svg\" alt=\"Open In Colab\"/></a>"
      ]
    },
    {
      "metadata": {
        "id": "dPHkdW-f_x5Z",
        "colab_type": "text"
      },
      "cell_type": "markdown",
      "source": [
        "# Neural Networks and Deep Learning for Life Sciences and Health Applications - An introductory course about theoretical fundamentals, case studies and implementations in python and tensorflow"
      ]
    },
    {
      "metadata": {
        "id": "S6Yadh_Y_x5f",
        "colab_type": "text"
      },
      "cell_type": "markdown",
      "source": [
        "(C) Umberto Michelucci 2018 - umberto.michelucci@gmail.com \n",
        "\n",
        "github repository: https://github.com/michelucci/zhaw-dlcourse-spring2019\n",
        "\n",
        "Spring Semester 2019"
      ]
    },
    {
      "metadata": {
        "id": "FSePNbH8_x5g",
        "colab_type": "code",
        "colab": {},
        "outputId": "03a73e24-7dbb-414b-ca0e-dbf1dd3fcf9c"
      },
      "cell_type": "code",
      "source": [
        "from tensorflow.examples.tutorials.mnist import input_data\n",
        "mnist = input_data.read_data_sets(\"/tmp/data/\", one_hot=True)"
      ],
      "execution_count": 0,
      "outputs": [
        {
          "output_type": "stream",
          "text": [
            "Successfully downloaded train-images-idx3-ubyte.gz 9912422 bytes.\n",
            "Extracting /tmp/data/train-images-idx3-ubyte.gz\n",
            "Successfully downloaded train-labels-idx1-ubyte.gz 28881 bytes.\n",
            "Extracting /tmp/data/train-labels-idx1-ubyte.gz\n",
            "Successfully downloaded t10k-images-idx3-ubyte.gz 1648877 bytes.\n",
            "Extracting /tmp/data/t10k-images-idx3-ubyte.gz\n",
            "Successfully downloaded t10k-labels-idx1-ubyte.gz 4542 bytes.\n",
            "Extracting /tmp/data/t10k-labels-idx1-ubyte.gz\n"
          ],
          "name": "stdout"
        }
      ]
    },
    {
      "metadata": {
        "id": "34KkLhpS_x5m",
        "colab_type": "code",
        "colab": {},
        "outputId": "b8a7b679-a6f5-43ad-f3eb-097affd5deca"
      },
      "cell_type": "code",
      "source": [
        "batch_size = 100\n",
        "total_batch = int(mnist.train.num_examples/batch_size)\n",
        "print(total_batch)\n",
        "print(mnist.train.num_examples)"
      ],
      "execution_count": 0,
      "outputs": [
        {
          "output_type": "stream",
          "text": [
            "550\n",
            "55000\n"
          ],
          "name": "stdout"
        }
      ]
    },
    {
      "metadata": {
        "id": "Y09kKsNb_x5p",
        "colab_type": "text"
      },
      "cell_type": "markdown",
      "source": [
        "# Model with gradients"
      ]
    },
    {
      "metadata": {
        "id": "2nsxwwhb_x5q",
        "colab_type": "code",
        "colab": {}
      },
      "cell_type": "code",
      "source": [
        "X = tf.placeholder(tf.float32, [784, None]) # mnist data image of shape 28*28=784\n",
        "Y = tf.placeholder(tf.float32, [10, None]) # 0-9 digits recognition => 10 classes\n",
        "\n",
        "learning_rate_ = tf.placeholder(tf.float32, shape=())\n",
        "#it = tf.placeholder(tf.float32, shape=())\n",
        "\n",
        "# Set model weights\n",
        "W = tf.Variable(tf.zeros([10, 784]), dtype=tf.float32)\n",
        "b = tf.Variable(tf.zeros([10,1]), dtype=tf.float32)\n",
        "\n",
        "y_ = tf.nn.softmax(tf.matmul(W,X)+b)\n",
        "cost = - tf.reduce_mean(Y * tf.log(y_)+(1-Y) * tf.log(1-y_))\n",
        "\n",
        "grad_W, grad_b = tf.gradients(xs=[W, b], ys=cost)\n",
        "\n",
        "new_W = W.assign(W - learning_rate_ * (grad_W))\n",
        "new_b = b.assign(b - learning_rate_ * (grad_b))\n",
        "\n",
        "correct_predictions = tf.equal(tf.argmax(y_,0), tf.argmax(Y,0))\n",
        "accuracy = tf.reduce_mean(tf.cast(correct_predictions, \"float\"))\n",
        "\n",
        "\n",
        "init = tf.global_variables_initializer()"
      ],
      "execution_count": 0,
      "outputs": []
    },
    {
      "metadata": {
        "id": "5VnEZcha_x5s",
        "colab_type": "text"
      },
      "cell_type": "markdown",
      "source": [
        "# Standard Model"
      ]
    },
    {
      "metadata": {
        "id": "5LgrwCFS_x5t",
        "colab_type": "code",
        "colab": {}
      },
      "cell_type": "code",
      "source": [
        "X_ = tf.placeholder(tf.float32, [784, None]) # mnist data image of shape 28*28=784\n",
        "Y = tf.placeholder(tf.float32, [10, None]) # 0-9 digits recognition => 10 classes\n",
        "\n",
        "learning_rate_ = tf.placeholder(tf.float32, shape=())\n",
        "#it = tf.placeholder(tf.float32, shape=())\n",
        "\n",
        "# Set model weights\n",
        "W = tf.Variable(tf.zeros([10, 784]), dtype=tf.float32)\n",
        "b = tf.Variable(tf.zeros([10,1]), dtype=tf.float32)\n",
        "\n",
        "y_ = tf.nn.softmax(tf.matmul(W,X_)+b)\n",
        "cost = - tf.reduce_mean(Y * tf.log(y_)+(1-Y) * tf.log(1-y_))\n",
        "\n",
        "optimizer = tf.train.GradientDescentOptimizer(learning_rate_).minimize(cost)\n",
        "\n",
        "correct_predictions = tf.equal(tf.argmax(y_,0), tf.argmax(Y,0))\n",
        "accuracy = tf.reduce_mean(tf.cast(correct_predictions, \"float\"))\n",
        "\n",
        "init = tf.global_variables_initializer()"
      ],
      "execution_count": 0,
      "outputs": []
    },
    {
      "metadata": {
        "id": "_r1AMa9n_x5w",
        "colab_type": "code",
        "colab": {}
      },
      "cell_type": "code",
      "source": [
        "def model_standard(minibatch_size, training_epochs, features, classes, logging_step = 100, learning_r = 0.01):\n",
        "    sess = tf.Session()\n",
        "    sess.run(tf.global_variables_initializer())\n",
        "    \n",
        "    cost_history = []\n",
        "    accuracy_history = []\n",
        "    \n",
        "    total_batch = int(mnist.train.num_examples/minibatch_size)\n",
        "    \n",
        "    for epoch in range(training_epochs+1):\n",
        "        for i in range(total_batch):\n",
        "            batch_xs, batch_ys = mnist.train.next_batch(minibatch_size)\n",
        "            batch_xs_t = batch_xs.T\n",
        "            batch_ys_t = batch_ys.T\n",
        "\n",
        "            sess.run(optimizer, feed_dict = {X: batch_xs_t, Y: batch_ys_t, learning_rate_: learning_r})\n",
        "        cost_ = sess.run(cost, feed_dict={ X:features, Y: classes})\n",
        "        accuracy_ = sess.run(accuracy, feed_dict={ X:features, Y: classes})\n",
        "        cost_history = np.append(cost_history, cost_)\n",
        "        accuracy_history = np.append(accuracy_history, accuracy_)\n",
        "\n",
        "        if (epoch % logging_step == 0):\n",
        "            print(\"Reached epoch\",epoch,\"cost J =\", cost_)\n",
        "                \n",
        "        if (epoch % logging_step == 0):\n",
        "            print (\"Accuracy:\", accuracy_)\n",
        "                \n",
        "    return sess, cost_history, accuracy_history"
      ],
      "execution_count": 0,
      "outputs": []
    },
    {
      "metadata": {
        "scrolled": false,
        "id": "c5GijxDA_x5y",
        "colab_type": "code",
        "colab": {}
      },
      "cell_type": "code",
      "source": [
        "sess, cost_history, accuracy_history = model_standard (55000, 50, X_train_tr, labels_, logging_step = 1, learning_r = 0.01)"
      ],
      "execution_count": 0,
      "outputs": []
    },
    {
      "metadata": {
        "id": "lWF9k_Zq_x51",
        "colab_type": "code",
        "colab": {}
      },
      "cell_type": "code",
      "source": [
        "def run_model(minibatch_size, training_epochs, features, classes, logging_step = 100, learning_r = 0.001):\n",
        "    sess = tf.Session()\n",
        "    sess.run(tf.global_variables_initializer())\n",
        "    \n",
        "    total_batch = int(mnist.train.num_examples/minibatch_size)\n",
        "    \n",
        "    cost_history = []\n",
        "    accuracy_history = []\n",
        "    \n",
        "    \n",
        "    for epoch in range(training_epochs+1):\n",
        "        for i in range(total_batch):\n",
        "            batch_xs, batch_ys = mnist.train.next_batch(minibatch_size)\n",
        "            batch_xs_t = batch_xs.T\n",
        "            batch_ys_t = batch_ys.T\n",
        "            _, _, cost_ = sess.run([new_W, new_b , \n",
        "                                    cost], feed_dict = {X_: batch_xs_t, Y: batch_ys_t, learning_rate_: learning_r})\n",
        "            \n",
        "        cost_ = sess.run(cost, feed_dict={ X_:features, Y: classes})\n",
        "        accuracy_ = sess.run(accuracy, feed_dict={ X_:features, Y: classes})\n",
        "        cost_history = np.append(cost_history, cost_)\n",
        "        accuracy_history = np.append(accuracy_history, accuracy_)\n",
        "        #sess.run(epoch_incr_op, feed_dict = {X_: features, Y: classes, learning_rate_: learning_r})\n",
        "\n",
        "        if (epoch % logging_step == 0):\n",
        "                print(\"Reached epoch\",epoch,\"cost J =\", cost_)\n",
        "                \n",
        "        if (epoch % logging_step == 0):\n",
        "            print (\"Accuracy:\", accuracy_)\n",
        "                \n",
        "    return sess, cost_history, accuracy_history"
      ],
      "execution_count": 0,
      "outputs": []
    },
    {
      "metadata": {
        "id": "1KEFNVos_x53",
        "colab_type": "code",
        "colab": {},
        "outputId": "b8c0bc27-7f54-4084-cadc-572af34ffd1f"
      },
      "cell_type": "code",
      "source": [
        "sess, cost_history, accuracy_history = run_model (100, 50, X_train_tr, labels_, logging_step = 10, learning_r = 0.01)"
      ],
      "execution_count": 0,
      "outputs": [
        {
          "output_type": "stream",
          "text": [
            "Reached epoch 0 cost J = 1.06549\n",
            "Accuracy: 0.773786\n",
            "Reached epoch 10 cost J = 0.972171\n",
            "Accuracy: 0.853371\n",
            "Reached epoch 20 cost J = 0.961519\n",
            "Accuracy: 0.869357\n",
            "Reached epoch 30 cost J = 0.956766\n",
            "Accuracy: 0.877814\n",
            "Reached epoch 40 cost J = 0.953982\n",
            "Accuracy: 0.883143\n",
            "Reached epoch 50 cost J = 0.952118\n",
            "Accuracy: 0.886386\n"
          ],
          "name": "stdout"
        }
      ]
    },
    {
      "metadata": {
        "id": "_JtMLQrS_x56",
        "colab_type": "text"
      },
      "cell_type": "markdown",
      "source": [
        "# Plots"
      ]
    },
    {
      "metadata": {
        "id": "dc0BNsKX_x57",
        "colab_type": "code",
        "colab": {},
        "outputId": "4ad3be5b-7536-4dc8-915f-fc4009c75c75"
      },
      "cell_type": "code",
      "source": [
        "plt.rc('font', family='arial')\n",
        "plt.rc('xtick', labelsize='x-small')\n",
        "plt.rc('ytick', labelsize='x-small')\n",
        "    \n",
        "plt.tight_layout()\n",
        "\n",
        "fig = plt.figure(figsize=(7.8, 3.1))\n",
        "ax = fig.add_subplot(1, 2, 1)\n",
        "ax.plot(accuracy_history, ls='-', color = 'black', label = 'Accuracy')\n",
        "ax.set_xlabel('epochs')\n",
        "ax.set_ylabel('Accuracy')\n",
        "\n",
        "\n",
        "ax = fig.add_subplot(1, 2, 2)\n",
        "ax.plot(cost_history, ls='--', color = 'black', label = 'Cost Function')\n",
        "ax.set_xlabel('epochs')\n",
        "ax.yaxis.set_label_position(\"right\")\n",
        "ax.yaxis.tick_right()\n",
        "\n",
        "ax.set_ylabel('Cost function $J$')\n",
        "\n",
        "fig.savefig('Figure_4-29'+'.png', format='png', dpi=300,bbox_inches='tight')\n"
      ],
      "execution_count": 0,
      "outputs": [
        {
          "output_type": "display_data",
          "data": {
            "text/plain": [
              "<matplotlib.figure.Figure at 0x13b8cb0c4e0>"
            ]
          },
          "metadata": {
            "tags": []
          }
        },
        {
          "output_type": "display_data",
          "data": {
            "image/png": "[encoded data removed]",
            "text/plain": [
              "<matplotlib.figure.Figure at 0x13b8cb0c470>"
            ]
          },
          "metadata": {
            "tags": []
          }
        }
      ]
    },
    {
      "metadata": {
        "id": "biWeLb98_x5-",
        "colab_type": "code",
        "colab": {}
      },
      "cell_type": "code",
      "source": [
        ""
      ],
      "execution_count": 0,
      "outputs": []
    }
  ]
}