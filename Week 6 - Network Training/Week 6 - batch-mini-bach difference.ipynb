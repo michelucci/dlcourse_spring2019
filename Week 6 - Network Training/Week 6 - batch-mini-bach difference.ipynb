{
 "cells": [
  {
   "cell_type": "markdown",
   "metadata": {},
   "source": [
    "# Neural Networks and Deep Learning for Life Sciences and Health Applications - An introductory course about theoretical fundamentals, case studies and implementations in python and tensorflow"
   ]
  },
  {
   "cell_type": "markdown",
   "metadata": {},
   "source": [
    "(C) Umberto Michelucci 2018 - umberto.michelucci@gmail.com \n",
    "\n",
    "github repository: https://github.com/michelucci/zhaw-dlcourse-spring2019\n",
    "\n",
    "Spring Semester 2019"
   ]
  },
  {
   "cell_type": "markdown",
   "metadata": {},
   "source": [
    "# Difference between batch and mini-batch\n",
    "\n",
    "In this notebook I will discuss a bit more deeply the difference between batch and mini-batch Gradient descent variations. To do this I will use the Zalando dataset. The main discussion is after the data preparation, that you can find in the second half of the notebook. But first let's discuss the mathematics of it."
   ]
  },
  {
   "cell_type": "markdown",
   "metadata": {},
   "source": [
    "You remember that the weight update is done with the GD algorithm. Meaning that once we define the cost function $J$ the weight update for the weight $i$ is given by the formula\n",
    "\n",
    "$$\n",
    "w_{i,[n+1]} = w_{i,[n]} - \\gamma \\frac{\\partial J}{\\partial w_i}\n",
    "$$\n",
    "\n",
    "Let's make an example and let's consider for example a case when we do regression and we have, given $m$ observations the formula\n",
    "\n",
    "$$\n",
    "J = \\frac{1}{m}\\sum_{i=1}^m \\left( \n",
    "y^{(i)}-\\hat y^{(i)}\n",
    "\\right)^2\n",
    "$$\n",
    "\n",
    "where $y^{(i)}$ is the target variable for the $i^{th}$ observation and $\\hat y^{(i)}$ is the network output for the $i^{th}$ observation.\n",
    "\n",
    "Note how this sum is done over a set of observations ($m$ in this case). Here comes the idea.\n",
    "Let's consider different cases:\n",
    "\n",
    "1. **Batch GD**\n",
    "here the cost function is defined as a sum over **all** observations we have in our dataset. For example if we have 60000 observations this sum is over all 60000 of them\n",
    "\n",
    "2. **mini-batch GD**\n",
    "in this case, supposing we have mini-bathc size of $50$, the cost function is defined as a sum over **only 50 observations**.\n",
    "\n",
    "Basically the main idea with mini-batch GD you derive each time a different cost function (so to speak) to update the weights. \n",
    "\n",
    "**IMPORTANT**: the functional form of the derivative does not change. The only thing that change is the fact that the sum is performed over a different set of observations. This is also the reasons why often when doing mini-batch GD you observe the cost function oscillates during training."
   ]
  },
  {
   "cell_type": "code",
   "execution_count": 1,
   "metadata": {},
   "outputs": [],
   "source": [
    "import numpy as np\n",
    "import matplotlib.pyplot as plt\n",
    "import tensorflow as tf\n",
    "from mpl_toolkits.mplot3d import Axes3D\n",
    "from matplotlib import cm\n",
    "import matplotlib as mpl\n",
    "\n",
    "# Generic matplotlib parameters for plots and figures\n",
    "mpl.rcParams['figure.figsize'] = [8,5]\n",
    "font = {'size'   : 16}\n",
    "mpl.rc('font', **font)"
   ]
  },
  {
   "cell_type": "code",
   "execution_count": 2,
   "metadata": {},
   "outputs": [],
   "source": [
    "# The data to fit\n",
    "m = 30\n",
    "theta0_true = 2\n",
    "theta1_true = 0.5\n",
    "x = np.linspace(-1,1,m)\n",
    "y = theta0_true + theta1_true * x"
   ]
  },
  {
   "cell_type": "code",
   "execution_count": 3,
   "metadata": {},
   "outputs": [],
   "source": [
    "X_ = x.reshape(1,30)\n",
    "Y_ = y.reshape(1,30)"
   ]
  },
  {
   "cell_type": "markdown",
   "metadata": {},
   "source": [
    "The data is a perfect line"
   ]
  },
  {
   "cell_type": "code",
   "execution_count": 4,
   "metadata": {},
   "outputs": [
    {
     "data": {
      "text/plain": [
       "<matplotlib.collections.PathCollection at 0x1c545fd0160>"
      ]
     },
     "execution_count": 4,
     "metadata": {},
     "output_type": "execute_result"
    },
    {
     "data": {
      "image/png": "[encoded data removed]",
      "text/plain": [
       "<matplotlib.figure.Figure at 0x1c543f66a58>"
      ]
     },
     "metadata": {},
     "output_type": "display_data"
    }
   ],
   "source": [
    "fig = plt.figure(figsize=(8,5))\n",
    "ax = fig.add_subplot(1, 1, 1)\n",
    "ax.scatter(x,y, s = 80)"
   ]
  },
  {
   "cell_type": "markdown",
   "metadata": {},
   "source": [
    "The goal of this notebook is to compare different optimizers in finding the parameters of the line, that is $w=0.5$ and $b=2.0$."
   ]
  },
  {
   "cell_type": "markdown",
   "metadata": {},
   "source": [
    "## Network building Phase"
   ]
  },
  {
   "cell_type": "code",
   "execution_count": 145,
   "metadata": {},
   "outputs": [],
   "source": [
    "W1_initial = 2.5\n",
    "b_initial = 1.0\n",
    "\n",
    "n_dim = 1\n",
    "tf.reset_default_graph()\n",
    "tf.set_random_seed(5)\n",
    "\n",
    "X = tf.placeholder(tf.float32, [n_dim, None])\n",
    "Y = tf.placeholder(tf.float32, [1, None])\n",
    "learning_rate = tf.placeholder(tf.float32, shape=())\n",
    "\n",
    "W1 = tf.Variable(tf.constant(W1_initial, shape= [1,1]))\n",
    "b1 = tf.Variable(tf.constant(b_initial, shape = [1,1]) )\n",
    "    \n",
    "y_ = tf.matmul(W1, X) + b1 \n",
    "cost = tf.reduce_mean(tf.square(y_-Y))\n",
    "    \n",
    "optimizer = tf.train.AdamOptimizer(learning_rate).minimize(cost) #GradientDescentOptimizer\n",
    "    \n",
    "init = tf.global_variables_initializer()"
   ]
  },
  {
   "cell_type": "code",
   "execution_count": 148,
   "metadata": {},
   "outputs": [],
   "source": [
    "def run_linear_model(training_epochs, mini_batch_size , train_obs, train_labels, debug = False, \n",
    "                     learning_r = 0.001):\n",
    "    sess = tf.Session()\n",
    "    sess.run(init)\n",
    "    \n",
    "    \n",
    "    \n",
    "    cost_history = np.empty(shape=[0], dtype = float)\n",
    "    W = np.empty(shape = 0, dtype = float)\n",
    "    b = np.empty(shape = 0, dtype = float)\n",
    "    \n",
    "    W = np.append(W, 2.5)\n",
    "    b = np.append(b,1.0)\n",
    "    \n",
    "    feed_dict_input = {X: train_obs, Y: train_labels, learning_rate: learning_r}\n",
    "    for epoch in range(training_epochs+1):\n",
    "        for i in range(0, train_obs.shape[1], mini_batch_size):\n",
    "            X_train_mini = train_obs[:,i:i + mini_batch_size]\n",
    "            y_train_mini = train_labels[:,i:i + mini_batch_size]\n",
    "\n",
    "            sess.run(optimizer, feed_dict = {X: X_train_mini, Y: y_train_mini, learning_rate: 0.001})\n",
    "        \n",
    "        \n",
    "        cost_ = sess.run(cost, feed_dict=feed_dict_input)\n",
    "        W_ = sess.run(W1, feed_dict=feed_dict_input)\n",
    "        b_ = sess.run(b1, feed_dict=feed_dict_input)\n",
    "        \n",
    "        \n",
    "        cost_history = np.append(cost_history, cost_)\n",
    "        W = np.append(W, W_)\n",
    "        b = np.append(b, b_)\n",
    "                \n",
    "        if (epoch % 100 == 0) & debug:\n",
    "            print(\"Reached epoch\",epoch,\"cost J =\", str.format('{0:.6f}', cost_))\n",
    "            \n",
    "    return sess, cost_history, W, b"
   ]
  },
  {
   "cell_type": "markdown",
   "metadata": {},
   "source": [
    "## Gradient Descent"
   ]
  },
  {
   "cell_type": "markdown",
   "metadata": {},
   "source": [
    "**Check the speed (in seconds) difference between mini_batchsize = 1 and 30.**"
   ]
  },
  {
   "cell_type": "code",
   "execution_count": 149,
   "metadata": {},
   "outputs": [
    {
     "name": "stdout",
     "output_type": "stream",
     "text": [
      "Reached epoch 0 cost J = 2.358762\n",
      "Reached epoch 100 cost J = 0.077261\n",
      "Reached epoch 200 cost J = 0.000002\n",
      "Reached epoch 300 cost J = 0.000000\n",
      "Reached epoch 400 cost J = 0.000000\n",
      "0.5000001192092896\n",
      "1.9999996423721313\n"
     ]
    }
   ],
   "source": [
    "sessad, cost_ad, Woutput, boutput = run_linear_model(400, 1, X_, Y_, \n",
    "                                                   debug = True, learning_r = 0.05)\n",
    "# Let's print the best parameters found\n",
    "print(Woutput[-1])\n",
    "print(boutput[-1])"
   ]
  },
  {
   "cell_type": "code",
   "execution_count": 150,
   "metadata": {},
   "outputs": [
    {
     "name": "stdout",
     "output_type": "stream",
     "text": [
      "Reached epoch 0 cost J = 2.421864\n",
      "Reached epoch 100 cost J = 2.097573\n",
      "Reached epoch 200 cost J = 1.810749\n",
      "Reached epoch 300 cost J = 1.558490\n",
      "Reached epoch 400 cost J = 1.337649\n",
      "Reached epoch 500 cost J = 1.145191\n",
      "Reached epoch 600 cost J = 0.978208\n",
      "Reached epoch 700 cost J = 0.833928\n",
      "Reached epoch 800 cost J = 0.709727\n",
      "Reached epoch 900 cost J = 0.603145\n",
      "Reached epoch 1000 cost J = 0.511901\n",
      "Reached epoch 1100 cost J = 0.433908\n",
      "Reached epoch 1200 cost J = 0.367289\n",
      "Reached epoch 1300 cost J = 0.310378\n",
      "Reached epoch 1400 cost J = 0.261728\n",
      "Reached epoch 1500 cost J = 0.220099\n",
      "Reached epoch 1600 cost J = 0.184446\n",
      "Reached epoch 1700 cost J = 0.153899\n",
      "Reached epoch 1800 cost J = 0.127740\n",
      "Reached epoch 1900 cost J = 0.105376\n",
      "Reached epoch 2000 cost J = 0.086314\n",
      "0.5000001192092896\n",
      "1.9999996423721313\n"
     ]
    }
   ],
   "source": [
    "sessad, cost_ad, Woutputad_b, boutputad_b = run_linear_model(2000, 30 , X_, Y_, \n",
    "                                                   debug = True, learning_r = 0.05)\n",
    "# Let's print the best parameters found\n",
    "print(Woutput[-1])\n",
    "print(boutput[-1])"
   ]
  },
  {
   "cell_type": "code",
   "execution_count": 151,
   "metadata": {},
   "outputs": [
    {
     "data": {
      "text/plain": [
       "<matplotlib.legend.Legend at 0x1c54b2f0470>"
      ]
     },
     "execution_count": 151,
     "metadata": {},
     "output_type": "execute_result"
    },
    {
     "data": {
      "image/png": "[encoded data removed]",
      "text/plain": [
       "<matplotlib.figure.Figure at 0x1c54b2c34a8>"
      ]
     },
     "metadata": {},
     "output_type": "display_data"
    }
   ],
   "source": [
    "plt.scatter(0.5, 2.0, s= 100)\n",
    "plt.plot(Woutputgd, boutputgd, label = 'Adam mini-batch (400 epochs)')\n",
    "plt.plot(Woutputgd_b, boutputgd_b, label = 'Adam Batch (2000 epochs)')\n",
    "# To change the zoom level uncomment the following lines\n",
    "#plt.xlim(0.48,0.51)\n",
    "#plt.ylim(1.98, 2.02)\n",
    "plt.legend()"
   ]
  },
  {
   "cell_type": "markdown",
   "metadata": {},
   "source": [
    "Check how much more efficient is when we use mini-batch GD."
   ]
  },
  {
   "cell_type": "markdown",
   "metadata": {},
   "source": [
    "Note that in this case the $J$ is not oscillating since we have few perfectly aligned data. So everything works perfectly."
   ]
  }
 ],
 "metadata": {
  "kernelspec": {
   "display_name": "Python 3",
   "language": "python",
   "name": "python3"
  },
  "language_info": {
   "codemirror_mode": {
    "name": "ipython",
    "version": 3
   },
   "file_extension": ".py",
   "mimetype": "text/x-python",
   "name": "python",
   "nbconvert_exporter": "python",
   "pygments_lexer": "ipython3",
   "version": "3.7.2"
  }
 },
 "nbformat": 4,
 "nbformat_minor": 2
}
