{
  "nbformat": 4,
  "nbformat_minor": 0,
  "metadata": {
    "colab": {
      "name": "Linear Regression Formula Derivation.ipynb",
      "version": "0.3.2",
      "provenance": [],
      "collapsed_sections": [],
      "include_colab_link": true
    },
    "kernelspec": {
      "name": "python3",
      "display_name": "Python 3"
    }
  },
  "cells": [
    {
      "cell_type": "markdown",
      "metadata": {
        "id": "view-in-github",
        "colab_type": "text"
      },
      "source": [
        "<a href=\"https://colab.research.google.com/github/michelucci/zhaw-dlcourse-spring2019/blob/master/Week%201%20-%20Mathematical%20Introduction/Linear_Regression_Formula_Derivation.ipynb\" target=\"_parent\"><img src=\"https://colab.research.google.com/assets/colab-badge.svg\" alt=\"Open In Colab\"/></a>"
      ]
    },
    {
      "metadata": {
        "id": "OjTslZEx_Teb",
        "colab_type": "text"
      },
      "cell_type": "markdown",
      "source": [
        "# Linear Regression formula derivation\n",
        "\n",
        "(C) Umberto Michelucci\n",
        "\n",
        "umberto.michelucci@zhaw.ch"
      ]
    },
    {
      "metadata": {
        "id": "n60fbUMP_eBr",
        "colab_type": "text"
      },
      "cell_type": "markdown",
      "source": [
        "This notebook will contain only text. It contains the derivation of the formula (for the notation check below)\n",
        "\n",
        "$$\n",
        "\\mathbf{p} = (X^T X)^{-1} X^T Y\n",
        "$$"
      ]
    },
    {
      "metadata": {
        "id": "RWzp7GZZ_0OI",
        "colab_type": "text"
      },
      "cell_type": "markdown",
      "source": [
        "## Derivation"
      ]
    },
    {
      "metadata": {
        "id": "zd0GN6-b_179",
        "colab_type": "text"
      },
      "cell_type": "markdown",
      "source": [
        "Let's define the function we want to minimize, in particular the MSE as\n",
        "\n",
        "$$\n",
        "\\text{MSE} =\\frac{1}{n} \\sum_{i=1}^{n} (p_0+p_1x_i -y_i  )  \n",
        "$$\n",
        "\n",
        "where $x_i$ are the measurements and $y_i$ are the correspondent target measurements.  We will show the derivation in one dimension for simplicity, but the process is very easily expanded to many dimensions.\n",
        "Let's define\n",
        "\n",
        "$$\n",
        "Y \\equiv  \\left(\n",
        "\\begin{eqnarray}\n",
        "y_1 \\\\\n",
        "...  \\\\\n",
        "y_n \\\\\n",
        "\\end {eqnarray}\n",
        "\\right)\n",
        "$$\n",
        "\n",
        "To minimize the MSE we need to find the best $\\mathbf{p} = (p_0, p_1)$ that solve the equations\n",
        "\n",
        "$$\n",
        "\\left\\{\n",
        "\\begin{eqnarray}\n",
        "\\frac{\\partial \\ \\text{MSE}}{\\partial p_0} & = & 0 \\\\\n",
        "\\frac{\\partial \\ \\text{MSE}}{\\partial p_1} & = & 0 \\\\\n",
        "\\end{eqnarray}\n",
        "\\right.\n",
        "$$"
      ]
    },
    {
      "metadata": {
        "id": "idurp_YDA8bM",
        "colab_type": "text"
      },
      "cell_type": "markdown",
      "source": [
        "Let's define \n",
        "\n",
        "$$\n",
        "\\hat Y = X\\mathbf{p}\n",
        "$$\n",
        "\n",
        "where\n",
        "\n",
        "$$\n",
        "X \\equiv  \\left(\n",
        "\\begin{eqnarray}\n",
        "1 & \\ &x_1 \\\\\n",
        "... & \\ &... \\\\\n",
        "1 & \\ &x_n \\\\\n",
        "\\end {eqnarray}\n",
        "\\right)\n",
        "$$\n",
        "\n",
        "so that\n",
        "\n",
        "$$\n",
        "\\hat Y =  \\left(\n",
        "\\begin{eqnarray}\n",
        "p_0+p_1x_1  \\\\\n",
        "... \\\\\n",
        "p_0+p_1x_n \\\\\n",
        "\\end {eqnarray}\n",
        "\\right)\n",
        "$$"
      ]
    },
    {
      "metadata": {
        "id": "ZRx9jogCB2RP",
        "colab_type": "text"
      },
      "cell_type": "markdown",
      "source": [
        "With this notation we can write\n",
        "\n",
        "$$\n",
        "\\text{MSE} = \\frac{1}{n} \\sum_{i=1}^{n} (\\hat Y_i - Y_i  )  \n",
        "$$"
      ]
    },
    {
      "metadata": {
        "id": "APR8lRnLCIiB",
        "colab_type": "text"
      },
      "cell_type": "markdown",
      "source": [
        "Note that the following is valid (you can easily check)\n",
        "\n",
        "$$\n",
        "Y^T Y = y_1^2 +...+y_n^2\n",
        "$$\n",
        "\n",
        "So we can write the MSE in matrix form as\n",
        "\n",
        "$$\n",
        "\\text{MSE} = \\frac{1}{n}(\\hat Y - Y)^T (\\hat Y - Y) \n",
        "$$\n",
        "\n",
        "and therefore\n",
        "\n",
        "$$\n",
        "\\text{MSE} = \\frac{1}{n}(X\\mathbf{p} - Y)^T (X\\mathbf{p} - Y) =  \\frac{1}{n}(\\mathbf{p}^TX - Y^T) (X\\mathbf{p} - Y)\n",
        "$$\n",
        "\n",
        "to find the best parameters we can neglect the $1/n$ factor. Performing the multiplication of the matrices we find (you must be careful when multiplying them)\n",
        "\n",
        "$$\n",
        "\\text{MSE} = \\mathbf{p}^T X^T X \\mathbf{p}-\\mathbf{p}^TX^TY-Y^TX\\mathbf{p} -Y^T Y =  \\mathbf{p}^T X^T X \\mathbf{p} - 2Y^TX\\mathbf{p}-Y^TY\n",
        "$$\n",
        "\n",
        "since is easy to verify that\n",
        "\n",
        "$$\n",
        "\\mathbf{p}^TX^TY = Y^TX\\mathbf{p} = \\sum_{i=1}^n y_i \\hat y_i\n",
        "$$\n",
        "\n",
        "At this point, using rules to evaluate derivatives of matrices we have\n",
        "\n",
        "$$\n",
        "\\nabla \\text{MSE}_\\mathbf{p} = 2(\\mathbf{p} X ^T X-Y^TX) = 0\n",
        "$$\n",
        "\n",
        "and solving for $\\mathbf{p}$ we get\n",
        "\n",
        "$$\n",
        "\\mathbf{p}^T = Y^TX (X^T X)^{-1}\n",
        "$$\n",
        "\n",
        "and taking the transpose of both sides\n",
        "\n",
        "$$\n",
        "\\mathbf{p} = \\left[\n",
        "(X^TX)^{-1}\n",
        "\\right\n",
        "]^T X^T Y \n",
        "$$\n",
        "\n",
        "note that $(A^{-1})^T = (A^T)^{-1}$ and therefore\n",
        "\n",
        "$$\n",
        "\\mathbf{p} = (X^TX)^{-1} X^T Y \n",
        "$$\n",
        "\n",
        "since $(X^TX)^{-1} = X^TX$.   $\\square$\n"
      ]
    }
  ]
}