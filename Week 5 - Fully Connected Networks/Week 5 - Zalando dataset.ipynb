{
 "cells": [
  {
   "cell_type": "markdown",
   "metadata": {
    "colab_type": "text",
    "id": "view-in-github"
   },
   "source": [
    "<a href=\"https://colab.research.google.com/github/michelucci/zhaw-dlcourse-spring2019/blob/master/Week%205%20-%20Fully%20Connected%20Networks/Week%205%20-%20Zalando%20dataset.ipynb\" target=\"_parent\"><img src=\"https://colab.research.google.com/assets/colab-badge.svg\" alt=\"Open In Colab\"/></a>"
   ]
  },
  {
   "cell_type": "markdown",
   "metadata": {
    "colab_type": "text",
    "id": "bOZdemGV_QaS"
   },
   "source": [
    "# Neural Networks and Deep Learning for Life Sciences and Health Applications - An introductory course about theoretical fundamentals, case studies and implementations in python and tensorflow"
   ]
  },
  {
   "cell_type": "markdown",
   "metadata": {
    "colab_type": "text",
    "id": "8tIQTnVm_QaU"
   },
   "source": [
    "(C) Umberto Michelucci 2018 - umberto.michelucci@gmail.com \n",
    "\n",
    "github repository: https://github.com/michelucci/zhaw-dlcourse-spring2019\n",
    "\n",
    "Spring Semester 2019"
   ]
  },
  {
   "cell_type": "markdown",
   "metadata": {
    "colab_type": "text",
    "id": "YwhycNB-_QaV"
   },
   "source": [
    "# Zalando dataset\n",
    "\n",
    "https://www.kaggle.com/zalando-research/fashionmnist/data"
   ]
  },
  {
   "cell_type": "markdown",
   "metadata": {
    "colab_type": "text",
    "id": "Tsvw0FZA_QaV"
   },
   "source": [
    "**Context**\n",
    "Fashion-MNIST is a dataset of Zalando's article images—consisting of a training set of 60,000 examples and a test set of 10,000 examples. Each example is a 28x28 grayscale image, associated with a label from 10 classes. Zalando intends Fashion-MNIST to serve as a direct drop-in replacement for the original MNIST dataset for benchmarking machine learning algorithms. It shares the same image size and structure of training and testing splits.\n",
    "\n",
    "The original MNIST dataset contains a lot of handwritten digits. Members of the AI/ML/Data Science community love this dataset and use it as a benchmark to validate their algorithms. In fact, MNIST is often the first dataset researchers try. \"If it doesn't work on MNIST, it won't work at all\", they said. \"Well, if it does work on MNIST, it may still fail on others.\"\n",
    "Zalando seeks to replace the original MNIST dataset\n",
    "\n",
    "**Content**\n",
    "Each image is 28 pixels in height and 28 pixels in width, for a total of 784 pixels in total. Each pixel has a single pixel-value associated with it, indicating the lightness or darkness of that pixel, with higher numbers meaning darker. This pixel-value is an integer between 0 and 255. The training and test data sets have 785 columns. The first column consists of the class labels (see above), and represents the article of clothing. The rest of the columns contain the pixel-values of the associated image.\n",
    "\n",
    "To locate a pixel on the image, suppose that we have decomposed x as x = i * 28 + j, where i and j are integers between 0 and 27. The pixel is located on row i and column j of a 28 x 28 matrix. \n",
    "For example, pixel31 indicates the pixel that is in the fourth column from the left, and the second row from the top, as in the ascii-diagram below. \n",
    "\n",
    "**Labels**\n",
    "Each training and test example is assigned to one of the following labels:\n",
    "- 0 T-shirt/top\n",
    "- 1 Trouser\n",
    "- 2 Pullover\n",
    "- 3 Dress\n",
    "- 4 Coat\n",
    "- 5 Sandal\n",
    "- 6 Shirt\n",
    "- 7 Sneaker\n",
    "- 8 Bag\n",
    "- 9 Ankle boot \n",
    "\n",
    "**TL;DR**\n",
    "Each row is a separate image \n",
    "Column 1 is the class label. \n",
    "Remaining columns are pixel numbers (784 total). \n",
    "Each value is the darkness of the pixel (1 to 255)\n",
    "\n",
    "**Acknowledgements**\n",
    "Original dataset was downloaded from https://github.com/zalandoresearch/fashion-mnist\n",
    "Dataset was converted to CSV with this script: https://pjreddie.com/projects/mnist-in-csv/\n",
    "\n",
    "**License**\n",
    "The MIT License (MIT) Copyright © [2017] Zalando SE, https://tech.zalando.com\n",
    "Permission is hereby granted, free of charge, to any person obtaining a copy of this software and associated documentation files (the “Software”), to deal in the Software without restriction, including without limitation the rights to use, copy, modify, merge, publish, distribute, sublicense, and/or sell copies of the Software, and to permit persons to whom the Software is furnished to do so, subject to the following conditions:\n",
    "The above copyright notice and this permission notice shall be included in all copies or substantial portions of the Software.\n",
    "THE SOFTWARE IS PROVIDED “AS IS”, WITHOUT WARRANTY OF ANY KIND, EXPRESS OR IMPLIED, INCLUDING BUT NOT LIMITED TO THE WARRANTIES OF MERCHANTABILITY, FITNESS FOR A PARTICULAR PURPOSE AND NONINFRINGEMENT. IN NO EVENT SHALL THE AUTHORS OR COPYRIGHT HOLDERS BE LIABLE FOR ANY CLAIM, DAMAGES OR OTHER LIABILITY, WHETHER IN AN ACTION OF CONTRACT, TORT OR OTHERWISE, ARISING FROM, OUT OF OR IN CONNECTION WITH THE SOFTWARE OR THE USE OR OTHER DEALINGS IN THE SOFTWARE."
   ]
  },
  {
   "cell_type": "code",
   "execution_count": 1,
   "metadata": {
    "colab": {},
    "colab_type": "code",
    "id": "86dNmPTQ_QaW"
   },
   "outputs": [],
   "source": [
    "import pandas as pd\n",
    "import numpy as np\n",
    "import tensorflow as tf\n",
    "\n",
    "%matplotlib inline\n",
    "\n",
    "import matplotlib\n",
    "import matplotlib.pyplot as plt\n",
    "\n",
    "from random import *"
   ]
  },
  {
   "cell_type": "code",
   "execution_count": 2,
   "metadata": {
    "colab": {},
    "colab_type": "code",
    "id": "ACyx6UI1_QaZ"
   },
   "outputs": [],
   "source": [
    "def get_label_name(idx):\n",
    "    if (idx == 0):\n",
    "        return '(0) T-shirt/top'\n",
    "    elif (idx == 1):\n",
    "        return '(1) Trouser'\n",
    "    elif (idx == 2):\n",
    "        return '(2) Pullover'\n",
    "    elif (idx == 3):\n",
    "        return '(3) Dress'\n",
    "    elif (idx == 4):\n",
    "        return '(4) Coat'\n",
    "    elif (idx == 5):\n",
    "        return '(5) Sandal'\n",
    "    elif (idx == 6):\n",
    "        return '(6) Shirt'\n",
    "    elif (idx == 7):\n",
    "        return '(7) Sneaker'\n",
    "    elif (idx == 8):\n",
    "        return '(8) Bag'\n",
    "    elif (idx == 9):\n",
    "        return '(9) Ankle boot'"
   ]
  },
  {
   "cell_type": "code",
   "execution_count": 3,
   "metadata": {
    "colab": {},
    "colab_type": "code",
    "id": "uMBnpsBA_Qac"
   },
   "outputs": [],
   "source": [
    "def get_random_element_with_label (data, lbls, lbl):\n",
    "    subset = data[lbls == lbl]\n",
    "    return np.random.choice(subset)"
   ]
  },
  {
   "cell_type": "markdown",
   "metadata": {
    "colab_type": "text",
    "id": "t9fwM20f_Qae"
   },
   "source": [
    "# REMEMBER: unzip the zip files before running the next cell"
   ]
  },
  {
   "cell_type": "code",
   "execution_count": 4,
   "metadata": {
    "colab": {},
    "colab_type": "code",
    "id": "wfWNFUin_Qaf",
    "scrolled": false
   },
   "outputs": [],
   "source": [
    "data_train = pd.read_csv('fashion-mnist_train.csv', header = 0)\n",
    "data_test = pd.read_csv('fashion-mnist_test.csv', header = 0)"
   ]
  },
  {
   "cell_type": "code",
   "execution_count": null,
   "metadata": {
    "colab": {},
    "colab_type": "code",
    "id": "ODWaaLRo_Qah",
    "outputId": "eafdaa76-22ac-49e1-f18e-f1bb1851210d"
   },
   "outputs": [
    {
     "name": "stdout",
     "output_type": "stream",
     "text": [
      "1min 23s ± 4.1 s per loop (mean ± std. dev. of 7 runs, 1 loop each)\n"
     ]
    }
   ],
   "source": [
    "%%timeit\n",
    "data_train_np = np.loadtxt('fashion-mnist_train.csv',delimiter=',',skiprows=1)  "
   ]
  },
  {
   "cell_type": "code",
   "execution_count": 5,
   "metadata": {
    "colab": {},
    "colab_type": "code",
    "id": "R4ecmlI5_Qal",
    "outputId": "eb8a8754-a620-4c8c-9b1d-77a41a8dc6a9"
   },
   "outputs": [
    {
     "data": {
      "text/plain": [
       "60000"
      ]
     },
     "execution_count": 5,
     "metadata": {},
     "output_type": "execute_result"
    }
   ],
   "source": [
    "len(data_train)"
   ]
  },
  {
   "cell_type": "code",
   "execution_count": 6,
   "metadata": {
    "colab": {},
    "colab_type": "code",
    "id": "xEJHoZOS_Qaq",
    "outputId": "6b8a0741-bbaf-4014-e594-4c3924c5b476"
   },
   "outputs": [
    {
     "data": {
      "text/plain": [
       "(60000, 785)"
      ]
     },
     "execution_count": 6,
     "metadata": {},
     "output_type": "execute_result"
    }
   ],
   "source": [
    "data_train.shape"
   ]
  },
  {
   "cell_type": "markdown",
   "metadata": {
    "colab_type": "text",
    "id": "Rb3cLJNh_Qas"
   },
   "source": [
    "Let's test our function to get a random element from a subset"
   ]
  },
  {
   "cell_type": "markdown",
   "metadata": {
    "colab_type": "text",
    "id": "zRZoHqfh_Qat"
   },
   "source": [
    "# Train dataset preparation"
   ]
  },
  {
   "cell_type": "code",
   "execution_count": 16,
   "metadata": {
    "colab": {},
    "colab_type": "code",
    "id": "AGWUTJQu_Qau"
   },
   "outputs": [],
   "source": [
    "labels = data_train['label'].values.reshape(1, 60000)\n",
    "\n",
    "labels_ = np.zeros((60000, 10))\n",
    "labels_[np.arange(60000), labels] = 1\n",
    "labels_ = labels_.transpose()\n",
    "\n",
    "\n",
    "train = data_train.drop('label', axis=1).transpose()"
   ]
  },
  {
   "cell_type": "code",
   "execution_count": 17,
   "metadata": {
    "colab": {},
    "colab_type": "code",
    "id": "u8I2ZKUO_Qaw",
    "outputId": "534cb35f-ad81-4bc2-938d-b164c7c6dcc0"
   },
   "outputs": [
    {
     "name": "stdout",
     "output_type": "stream",
     "text": [
      "(10, 60000)\n",
      "(784, 60000)\n"
     ]
    }
   ],
   "source": [
    "print(labels_.shape)\n",
    "print(train.shape)"
   ]
  },
  {
   "cell_type": "code",
   "execution_count": 23,
   "metadata": {},
   "outputs": [
    {
     "data": {
      "text/plain": [
       "array([[0.],\n",
       "       [0.],\n",
       "       [1.],\n",
       "       [0.],\n",
       "       [0.],\n",
       "       [0.],\n",
       "       [0.],\n",
       "       [0.],\n",
       "       [0.],\n",
       "       [0.]])"
      ]
     },
     "execution_count": 23,
     "metadata": {},
     "output_type": "execute_result"
    }
   ],
   "source": [
    "labels_[:,0:1]"
   ]
  },
  {
   "cell_type": "markdown",
   "metadata": {
    "colab_type": "text",
    "id": "MFTC5IQG_Qaz"
   },
   "source": [
    "# Test dataset preparation"
   ]
  },
  {
   "cell_type": "code",
   "execution_count": 24,
   "metadata": {
    "colab": {},
    "colab_type": "code",
    "id": "DLoWZMv4_Qaz"
   },
   "outputs": [],
   "source": [
    "labels_test = data_test['label'].values.reshape(1, 10000)\n",
    "\n",
    "labels_test_ = np.zeros((10000, 10))\n",
    "labels_test_[np.arange(10000), labels_test] = 1\n",
    "labels_test_ = labels_test_.transpose()\n",
    "\n",
    "\n",
    "test = data_test.drop('label', axis=1).transpose()"
   ]
  },
  {
   "cell_type": "code",
   "execution_count": 25,
   "metadata": {
    "colab": {},
    "colab_type": "code",
    "id": "-W6LLEZF_Qa2",
    "outputId": "c7de6b11-ac63-4397-c9a6-4f9f64d90d6f"
   },
   "outputs": [
    {
     "data": {
      "text/plain": [
       "(10, 10000)"
      ]
     },
     "execution_count": 25,
     "metadata": {},
     "output_type": "execute_result"
    }
   ],
   "source": [
    "labels_test_.shape"
   ]
  },
  {
   "cell_type": "markdown",
   "metadata": {
    "colab_type": "text",
    "id": "-xhp277p_Qa5"
   },
   "source": [
    "### Normalization of data"
   ]
  },
  {
   "cell_type": "markdown",
   "metadata": {
    "colab_type": "text",
    "id": "6Hdtdd3l_Qa6"
   },
   "source": [
    "Let's normalize the training data dividing by 255.0 to get the values between 0 and 1."
   ]
  },
  {
   "cell_type": "code",
   "execution_count": 26,
   "metadata": {
    "colab": {},
    "colab_type": "code",
    "id": "kzoqBjoo_Qa7"
   },
   "outputs": [],
   "source": [
    "train = np.array(train / 255.0)\n",
    "test = np.array(test / 255.0)\n",
    "labels_ = np.array(labels_)\n",
    "labels_test_ = np.array(labels_test_)"
   ]
  },
  {
   "cell_type": "markdown",
   "metadata": {
    "colab_type": "text",
    "id": "huE6F_-x_Qa9"
   },
   "source": [
    "### One example of the images"
   ]
  },
  {
   "cell_type": "code",
   "execution_count": 27,
   "metadata": {
    "colab": {},
    "colab_type": "code",
    "id": "3q8fr7Ff_Qa-",
    "outputId": "d067de64-f2c7-4678-9c53-48b52f721cb4"
   },
   "outputs": [
    {
     "data": {
      "image/png": "[encoded data removed]",
      "text/plain": [
       "<Figure size 432x288 with 1 Axes>"
      ]
     },
     "metadata": {
      "needs_background": "light"
     },
     "output_type": "display_data"
    }
   ],
   "source": [
    "idx = 5\n",
    "plt.imshow(train[:,idx].reshape(28,28), cmap = matplotlib.cm.binary, interpolation = \"nearest\")\n",
    "plt.axis(\"on\")\n",
    "plt.title(get_label_name(labels[:,idx]))\n",
    "plt.show()"
   ]
  },
  {
   "cell_type": "markdown",
   "metadata": {
    "colab_type": "text",
    "id": "_84eT0qO_QbD"
   },
   "source": [
    "# Let's check some random sample of the data"
   ]
  },
  {
   "cell_type": "markdown",
   "metadata": {
    "colab_type": "text",
    "id": "ca0wB6qH_QbF"
   },
   "source": [
    "THe following function will return one numpy array (one column) with an example of a choosen label."
   ]
  },
  {
   "cell_type": "code",
   "execution_count": 28,
   "metadata": {
    "colab": {},
    "colab_type": "code",
    "id": "J07tHRn3_QbG"
   },
   "outputs": [],
   "source": [
    "def get_random_element_with_label (data, lbls, lbl):\n",
    "    tmp = lbls == lbl\n",
    "    subset = data[:,tmp.flatten()]\n",
    "    return subset[:,randint(1,subset.shape[1])]"
   ]
  },
  {
   "cell_type": "markdown",
   "metadata": {
    "colab_type": "text",
    "id": "X1yfNyte_QbJ"
   },
   "source": [
    "## Let's create an array with a column for each label (one-hot encoding)"
   ]
  },
  {
   "cell_type": "markdown",
   "metadata": {
    "colab_type": "text",
    "id": "56y9iUU0_QbK"
   },
   "source": [
    "The following code create a numpy array where in column 0 you will find an example of label 0, in column 1 of label 1 and so on."
   ]
  },
  {
   "cell_type": "code",
   "execution_count": 29,
   "metadata": {
    "colab": {},
    "colab_type": "code",
    "id": "0Pp-v0LN_QbK"
   },
   "outputs": [],
   "source": [
    "labels_overview = np.empty([784,10])\n",
    "for i in range (0,10):\n",
    "    col = get_random_element_with_label(train, labels, i)\n",
    "    labels_overview[:,i] = col"
   ]
  },
  {
   "cell_type": "markdown",
   "metadata": {
    "colab_type": "text",
    "id": "gQSTjbBR_QbM"
   },
   "source": [
    "Now let's plot one example of each type (label)"
   ]
  },
  {
   "cell_type": "code",
   "execution_count": 30,
   "metadata": {
    "colab": {},
    "colab_type": "code",
    "id": "Pyw8haOL_QbN",
    "outputId": "f63181e0-12c0-4df7-e3df-69081671e9f6"
   },
   "outputs": [
    {
     "data": {
      "image/png": "[encoded data removed]",
      "text/plain": [
       "<Figure size 1080x1080 with 10 Axes>"
      ]
     },
     "metadata": {
      "needs_background": "light"
     },
     "output_type": "display_data"
    }
   ],
   "source": [
    "f = plt.figure(figsize=(15,15));\n",
    "count = 1\n",
    "for i in range(0,10):\n",
    "    plt.subplot(5,2,count)\n",
    "    count = count + 1\n",
    "    plt.subplots_adjust(hspace=0.5)\n",
    "    plt.title(get_label_name(i))\n",
    "    some_digit_image = labels_overview[:,i].reshape(28,28)\n",
    "    plt.imshow(some_digit_image, cmap = matplotlib.cm.binary, interpolation = \"nearest\")\n",
    "    plt.axis(\"off\")\n",
    "    pass"
   ]
  },
  {
   "cell_type": "markdown",
   "metadata": {
    "colab_type": "text",
    "id": "EBmphdpV_QbP"
   },
   "source": [
    "# 1 Layers + Softmax + Convergence vs. number of neurons"
   ]
  },
  {
   "cell_type": "code",
   "execution_count": 31,
   "metadata": {
    "colab": {},
    "colab_type": "code",
    "id": "WiM4lIfF_QbQ"
   },
   "outputs": [
    {
     "name": "stdout",
     "output_type": "stream",
     "text": [
      "WARNING:tensorflow:From /Users/umberto/Python-Environments/tfenv/lib/python3.7/site-packages/tensorflow/python/framework/op_def_library.py:263: colocate_with (from tensorflow.python.framework.ops) is deprecated and will be removed in a future version.\n",
      "Instructions for updating:\n",
      "Colocations handled automatically by placer.\n"
     ]
    }
   ],
   "source": [
    "n_dim = 784\n",
    "tf.reset_default_graph()\n",
    "\n",
    "# Number of neurons in the layers\n",
    "n1 = 15 # Number of neurons in layer 1\n",
    "n2 = 10 # Number of neurons in output layer \n",
    "\n",
    "cost_history = np.empty(shape=[1], dtype = float)\n",
    "learning_rate = tf.placeholder(tf.float32, shape=())\n",
    "\n",
    "X = tf.placeholder(tf.float32, [n_dim, None])\n",
    "Y = tf.placeholder(tf.float32, [10, None])\n",
    "W1 = tf.Variable(tf.truncated_normal([n1, n_dim], stddev=.1)) \n",
    "b1 = tf.Variable(tf.constant(0.1, shape = [n1,1]) )\n",
    "W2 = tf.Variable(tf.truncated_normal([n2, n1], stddev=.1)) \n",
    "b2 = tf.Variable(tf.constant(0.1, shape = [n2,1])) \n",
    "                 \n",
    "# Let's build our network...\n",
    "Z1 = tf.nn.relu(tf.matmul(W1, X) + b1) # n1 x n_dim * n_dim x n_obs = n1 x n_obs\n",
    "Z2 = tf.matmul(W2, Z1) + b2 # n2 x n1 * n1 * n_obs = n2 x n_obs\n",
    "y_ = tf.nn.softmax(Z2,0) # n2 x n_obs (10 x None)\n",
    "\n",
    "cost = - tf.reduce_mean(Y * tf.log(y_)+(1-Y) * tf.log(1-y_))\n",
    "optimizer = tf.train.GradientDescentOptimizer(learning_rate).minimize(cost)\n",
    "\n",
    "init = tf.global_variables_initializer()"
   ]
  },
  {
   "cell_type": "markdown",
   "metadata": {
    "colab_type": "text",
    "id": "dgzbmHkh_QbS"
   },
   "source": [
    "# Batch Gradient Descent"
   ]
  },
  {
   "cell_type": "code",
   "execution_count": 32,
   "metadata": {
    "colab": {},
    "colab_type": "code",
    "id": "eHiIls01_QbS",
    "outputId": "e5b102af-5724-402f-d9b1-d4c40c3b3d92",
    "scrolled": true
   },
   "outputs": [
    {
     "name": "stdout",
     "output_type": "stream",
     "text": [
      "Reached epoch 0 cost J = 0.3318132\n",
      "Reached epoch 10 cost J = 0.32615954\n",
      "Reached epoch 20 cost J = 0.32190627\n",
      "Reached epoch 30 cost J = 0.3185126\n"
     ]
    },
    {
     "ename": "KeyboardInterrupt",
     "evalue": "",
     "output_type": "error",
     "traceback": [
      "\u001b[0;31m---------------------------------------------------------------------------\u001b[0m",
      "\u001b[0;31mKeyboardInterrupt\u001b[0m                         Traceback (most recent call last)",
      "\u001b[0;32m<ipython-input-32-451e350af6a3>\u001b[0m in \u001b[0;36m<module>\u001b[0;34m\u001b[0m\n\u001b[1;32m      7\u001b[0m \u001b[0;32mfor\u001b[0m \u001b[0mepoch\u001b[0m \u001b[0;32min\u001b[0m \u001b[0mrange\u001b[0m\u001b[0;34m(\u001b[0m\u001b[0mtraining_epochs\u001b[0m\u001b[0;34m+\u001b[0m\u001b[0;36m1\u001b[0m\u001b[0;34m)\u001b[0m\u001b[0;34m:\u001b[0m\u001b[0;34m\u001b[0m\u001b[0;34m\u001b[0m\u001b[0m\n\u001b[1;32m      8\u001b[0m \u001b[0;34m\u001b[0m\u001b[0m\n\u001b[0;32m----> 9\u001b[0;31m     \u001b[0msess\u001b[0m\u001b[0;34m.\u001b[0m\u001b[0mrun\u001b[0m\u001b[0;34m(\u001b[0m\u001b[0moptimizer\u001b[0m\u001b[0;34m,\u001b[0m \u001b[0mfeed_dict\u001b[0m \u001b[0;34m=\u001b[0m \u001b[0;34m{\u001b[0m\u001b[0mX\u001b[0m\u001b[0;34m:\u001b[0m \u001b[0mtrain\u001b[0m\u001b[0;34m,\u001b[0m \u001b[0mY\u001b[0m\u001b[0;34m:\u001b[0m \u001b[0mlabels_\u001b[0m\u001b[0;34m,\u001b[0m \u001b[0mlearning_rate\u001b[0m\u001b[0;34m:\u001b[0m \u001b[0;36m0.1\u001b[0m\u001b[0;34m}\u001b[0m\u001b[0;34m)\u001b[0m\u001b[0;34m\u001b[0m\u001b[0;34m\u001b[0m\u001b[0m\n\u001b[0m\u001b[1;32m     10\u001b[0m     \u001b[0mcost_\u001b[0m \u001b[0;34m=\u001b[0m \u001b[0msess\u001b[0m\u001b[0;34m.\u001b[0m\u001b[0mrun\u001b[0m\u001b[0;34m(\u001b[0m\u001b[0mcost\u001b[0m\u001b[0;34m,\u001b[0m \u001b[0mfeed_dict\u001b[0m\u001b[0;34m=\u001b[0m\u001b[0;34m{\u001b[0m \u001b[0mX\u001b[0m\u001b[0;34m:\u001b[0m\u001b[0mtrain\u001b[0m\u001b[0;34m,\u001b[0m \u001b[0mY\u001b[0m\u001b[0;34m:\u001b[0m \u001b[0mlabels_\u001b[0m\u001b[0;34m,\u001b[0m \u001b[0mlearning_rate\u001b[0m\u001b[0;34m:\u001b[0m \u001b[0;36m0.1\u001b[0m\u001b[0;34m}\u001b[0m\u001b[0;34m)\u001b[0m\u001b[0;34m\u001b[0m\u001b[0;34m\u001b[0m\u001b[0m\n\u001b[1;32m     11\u001b[0m     \u001b[0mcost_history\u001b[0m \u001b[0;34m=\u001b[0m \u001b[0mnp\u001b[0m\u001b[0;34m.\u001b[0m\u001b[0mappend\u001b[0m\u001b[0;34m(\u001b[0m\u001b[0mcost_history\u001b[0m\u001b[0;34m,\u001b[0m \u001b[0mcost_\u001b[0m\u001b[0;34m)\u001b[0m\u001b[0;34m\u001b[0m\u001b[0;34m\u001b[0m\u001b[0m\n",
      "\u001b[0;32m~/Python-Environments/tfenv/lib/python3.7/site-packages/tensorflow/python/client/session.py\u001b[0m in \u001b[0;36mrun\u001b[0;34m(self, fetches, feed_dict, options, run_metadata)\u001b[0m\n\u001b[1;32m    927\u001b[0m     \u001b[0;32mtry\u001b[0m\u001b[0;34m:\u001b[0m\u001b[0;34m\u001b[0m\u001b[0;34m\u001b[0m\u001b[0m\n\u001b[1;32m    928\u001b[0m       result = self._run(None, fetches, feed_dict, options_ptr,\n\u001b[0;32m--> 929\u001b[0;31m                          run_metadata_ptr)\n\u001b[0m\u001b[1;32m    930\u001b[0m       \u001b[0;32mif\u001b[0m \u001b[0mrun_metadata\u001b[0m\u001b[0;34m:\u001b[0m\u001b[0;34m\u001b[0m\u001b[0;34m\u001b[0m\u001b[0m\n\u001b[1;32m    931\u001b[0m         \u001b[0mproto_data\u001b[0m \u001b[0;34m=\u001b[0m \u001b[0mtf_session\u001b[0m\u001b[0;34m.\u001b[0m\u001b[0mTF_GetBuffer\u001b[0m\u001b[0;34m(\u001b[0m\u001b[0mrun_metadata_ptr\u001b[0m\u001b[0;34m)\u001b[0m\u001b[0;34m\u001b[0m\u001b[0;34m\u001b[0m\u001b[0m\n",
      "\u001b[0;32m~/Python-Environments/tfenv/lib/python3.7/site-packages/tensorflow/python/client/session.py\u001b[0m in \u001b[0;36m_run\u001b[0;34m(self, handle, fetches, feed_dict, options, run_metadata)\u001b[0m\n\u001b[1;32m   1150\u001b[0m     \u001b[0;32mif\u001b[0m \u001b[0mfinal_fetches\u001b[0m \u001b[0;32mor\u001b[0m \u001b[0mfinal_targets\u001b[0m \u001b[0;32mor\u001b[0m \u001b[0;34m(\u001b[0m\u001b[0mhandle\u001b[0m \u001b[0;32mand\u001b[0m \u001b[0mfeed_dict_tensor\u001b[0m\u001b[0;34m)\u001b[0m\u001b[0;34m:\u001b[0m\u001b[0;34m\u001b[0m\u001b[0;34m\u001b[0m\u001b[0m\n\u001b[1;32m   1151\u001b[0m       results = self._do_run(handle, final_targets, final_fetches,\n\u001b[0;32m-> 1152\u001b[0;31m                              feed_dict_tensor, options, run_metadata)\n\u001b[0m\u001b[1;32m   1153\u001b[0m     \u001b[0;32melse\u001b[0m\u001b[0;34m:\u001b[0m\u001b[0;34m\u001b[0m\u001b[0;34m\u001b[0m\u001b[0m\n\u001b[1;32m   1154\u001b[0m       \u001b[0mresults\u001b[0m \u001b[0;34m=\u001b[0m \u001b[0;34m[\u001b[0m\u001b[0;34m]\u001b[0m\u001b[0;34m\u001b[0m\u001b[0;34m\u001b[0m\u001b[0m\n",
      "\u001b[0;32m~/Python-Environments/tfenv/lib/python3.7/site-packages/tensorflow/python/client/session.py\u001b[0m in \u001b[0;36m_do_run\u001b[0;34m(self, handle, target_list, fetch_list, feed_dict, options, run_metadata)\u001b[0m\n\u001b[1;32m   1326\u001b[0m     \u001b[0;32mif\u001b[0m \u001b[0mhandle\u001b[0m \u001b[0;32mis\u001b[0m \u001b[0;32mNone\u001b[0m\u001b[0;34m:\u001b[0m\u001b[0;34m\u001b[0m\u001b[0;34m\u001b[0m\u001b[0m\n\u001b[1;32m   1327\u001b[0m       return self._do_call(_run_fn, feeds, fetches, targets, options,\n\u001b[0;32m-> 1328\u001b[0;31m                            run_metadata)\n\u001b[0m\u001b[1;32m   1329\u001b[0m     \u001b[0;32melse\u001b[0m\u001b[0;34m:\u001b[0m\u001b[0;34m\u001b[0m\u001b[0;34m\u001b[0m\u001b[0m\n\u001b[1;32m   1330\u001b[0m       \u001b[0;32mreturn\u001b[0m \u001b[0mself\u001b[0m\u001b[0;34m.\u001b[0m\u001b[0m_do_call\u001b[0m\u001b[0;34m(\u001b[0m\u001b[0m_prun_fn\u001b[0m\u001b[0;34m,\u001b[0m \u001b[0mhandle\u001b[0m\u001b[0;34m,\u001b[0m \u001b[0mfeeds\u001b[0m\u001b[0;34m,\u001b[0m \u001b[0mfetches\u001b[0m\u001b[0;34m)\u001b[0m\u001b[0;34m\u001b[0m\u001b[0;34m\u001b[0m\u001b[0m\n",
      "\u001b[0;32m~/Python-Environments/tfenv/lib/python3.7/site-packages/tensorflow/python/client/session.py\u001b[0m in \u001b[0;36m_do_call\u001b[0;34m(self, fn, *args)\u001b[0m\n\u001b[1;32m   1332\u001b[0m   \u001b[0;32mdef\u001b[0m \u001b[0m_do_call\u001b[0m\u001b[0;34m(\u001b[0m\u001b[0mself\u001b[0m\u001b[0;34m,\u001b[0m \u001b[0mfn\u001b[0m\u001b[0;34m,\u001b[0m \u001b[0;34m*\u001b[0m\u001b[0margs\u001b[0m\u001b[0;34m)\u001b[0m\u001b[0;34m:\u001b[0m\u001b[0;34m\u001b[0m\u001b[0;34m\u001b[0m\u001b[0m\n\u001b[1;32m   1333\u001b[0m     \u001b[0;32mtry\u001b[0m\u001b[0;34m:\u001b[0m\u001b[0;34m\u001b[0m\u001b[0;34m\u001b[0m\u001b[0m\n\u001b[0;32m-> 1334\u001b[0;31m       \u001b[0;32mreturn\u001b[0m \u001b[0mfn\u001b[0m\u001b[0;34m(\u001b[0m\u001b[0;34m*\u001b[0m\u001b[0margs\u001b[0m\u001b[0;34m)\u001b[0m\u001b[0;34m\u001b[0m\u001b[0;34m\u001b[0m\u001b[0m\n\u001b[0m\u001b[1;32m   1335\u001b[0m     \u001b[0;32mexcept\u001b[0m \u001b[0merrors\u001b[0m\u001b[0;34m.\u001b[0m\u001b[0mOpError\u001b[0m \u001b[0;32mas\u001b[0m \u001b[0me\u001b[0m\u001b[0;34m:\u001b[0m\u001b[0;34m\u001b[0m\u001b[0;34m\u001b[0m\u001b[0m\n\u001b[1;32m   1336\u001b[0m       \u001b[0mmessage\u001b[0m \u001b[0;34m=\u001b[0m \u001b[0mcompat\u001b[0m\u001b[0;34m.\u001b[0m\u001b[0mas_text\u001b[0m\u001b[0;34m(\u001b[0m\u001b[0me\u001b[0m\u001b[0;34m.\u001b[0m\u001b[0mmessage\u001b[0m\u001b[0;34m)\u001b[0m\u001b[0;34m\u001b[0m\u001b[0;34m\u001b[0m\u001b[0m\n",
      "\u001b[0;32m~/Python-Environments/tfenv/lib/python3.7/site-packages/tensorflow/python/client/session.py\u001b[0m in \u001b[0;36m_run_fn\u001b[0;34m(feed_dict, fetch_list, target_list, options, run_metadata)\u001b[0m\n\u001b[1;32m   1317\u001b[0m       \u001b[0mself\u001b[0m\u001b[0;34m.\u001b[0m\u001b[0m_extend_graph\u001b[0m\u001b[0;34m(\u001b[0m\u001b[0;34m)\u001b[0m\u001b[0;34m\u001b[0m\u001b[0;34m\u001b[0m\u001b[0m\n\u001b[1;32m   1318\u001b[0m       return self._call_tf_sessionrun(\n\u001b[0;32m-> 1319\u001b[0;31m           options, feed_dict, fetch_list, target_list, run_metadata)\n\u001b[0m\u001b[1;32m   1320\u001b[0m \u001b[0;34m\u001b[0m\u001b[0m\n\u001b[1;32m   1321\u001b[0m     \u001b[0;32mdef\u001b[0m \u001b[0m_prun_fn\u001b[0m\u001b[0;34m(\u001b[0m\u001b[0mhandle\u001b[0m\u001b[0;34m,\u001b[0m \u001b[0mfeed_dict\u001b[0m\u001b[0;34m,\u001b[0m \u001b[0mfetch_list\u001b[0m\u001b[0;34m)\u001b[0m\u001b[0;34m:\u001b[0m\u001b[0;34m\u001b[0m\u001b[0;34m\u001b[0m\u001b[0m\n",
      "\u001b[0;32m~/Python-Environments/tfenv/lib/python3.7/site-packages/tensorflow/python/client/session.py\u001b[0m in \u001b[0;36m_call_tf_sessionrun\u001b[0;34m(self, options, feed_dict, fetch_list, target_list, run_metadata)\u001b[0m\n\u001b[1;32m   1405\u001b[0m     return tf_session.TF_SessionRun_wrapper(\n\u001b[1;32m   1406\u001b[0m         \u001b[0mself\u001b[0m\u001b[0;34m.\u001b[0m\u001b[0m_session\u001b[0m\u001b[0;34m,\u001b[0m \u001b[0moptions\u001b[0m\u001b[0;34m,\u001b[0m \u001b[0mfeed_dict\u001b[0m\u001b[0;34m,\u001b[0m \u001b[0mfetch_list\u001b[0m\u001b[0;34m,\u001b[0m \u001b[0mtarget_list\u001b[0m\u001b[0;34m,\u001b[0m\u001b[0;34m\u001b[0m\u001b[0;34m\u001b[0m\u001b[0m\n\u001b[0;32m-> 1407\u001b[0;31m         run_metadata)\n\u001b[0m\u001b[1;32m   1408\u001b[0m \u001b[0;34m\u001b[0m\u001b[0m\n\u001b[1;32m   1409\u001b[0m   \u001b[0;32mdef\u001b[0m \u001b[0m_call_tf_sessionprun\u001b[0m\u001b[0;34m(\u001b[0m\u001b[0mself\u001b[0m\u001b[0;34m,\u001b[0m \u001b[0mhandle\u001b[0m\u001b[0;34m,\u001b[0m \u001b[0mfeed_dict\u001b[0m\u001b[0;34m,\u001b[0m \u001b[0mfetch_list\u001b[0m\u001b[0;34m)\u001b[0m\u001b[0;34m:\u001b[0m\u001b[0;34m\u001b[0m\u001b[0;34m\u001b[0m\u001b[0m\n",
      "\u001b[0;31mKeyboardInterrupt\u001b[0m: "
     ]
    }
   ],
   "source": [
    "sess = tf.Session()\n",
    "sess.run(tf.global_variables_initializer())\n",
    "\n",
    "training_epochs = 100\n",
    "    \n",
    "cost_history = []\n",
    "for epoch in range(training_epochs+1):\n",
    "\n",
    "    sess.run(optimizer, feed_dict = {X: train, Y: labels_, learning_rate: 0.1})\n",
    "    cost_ = sess.run(cost, feed_dict={ X:train, Y: labels_, learning_rate: 0.1})\n",
    "    cost_history = np.append(cost_history, cost_)\n",
    "    \n",
    "    if (epoch % 10 == 0):\n",
    "        print(\"Reached epoch\",epoch,\"cost J =\", cost_)"
   ]
  },
  {
   "cell_type": "code",
   "execution_count": null,
   "metadata": {
    "colab": {},
    "colab_type": "code",
    "id": "5Rh2U-gA_QbV",
    "outputId": "766f76a5-9bc2-4efd-95a6-904e4465437c"
   },
   "outputs": [],
   "source": [
    "correct_predictions = tf.equal(tf.argmax(y_,0), tf.argmax(Y,0))\n",
    "accuracy = tf.reduce_mean(tf.cast(correct_predictions, \"float\"))\n",
    "print (\"Accuracy:\", accuracy.eval({X: train, Y: labels_, learning_rate: 0.001}, session = sess))"
   ]
  },
  {
   "cell_type": "markdown",
   "metadata": {
    "colab_type": "text",
    "id": "mb9FyzeG_QbX"
   },
   "source": [
    "# Mini-batch gradient descent"
   ]
  },
  {
   "cell_type": "code",
   "execution_count": null,
   "metadata": {
    "colab": {},
    "colab_type": "code",
    "id": "_QccOLAb_QbY"
   },
   "outputs": [],
   "source": [
    "def model(minibatch_size, training_epochs, features, classes, logging_step = 100, learning_r = 0.001):\n",
    "    sess = tf.Session()\n",
    "    sess.run(tf.global_variables_initializer())\n",
    "\n",
    "    cost_history = []\n",
    "    for epoch in range(training_epochs+1):\n",
    "        for i in range(0, features.shape[1], minibatch_size):\n",
    "            X_train_mini = features[:,i:i + minibatch_size]\n",
    "            y_train_mini = classes[:,i:i + minibatch_size]\n",
    "\n",
    "            #if (i % 5000 == 0):\n",
    "            #    print('i = ',i)\n",
    "            \n",
    "            sess.run(optimizer, feed_dict = {X: X_train_mini, Y: y_train_mini, learning_rate: learning_r})\n",
    "        cost_ = sess.run(cost, feed_dict={ X:features, Y: classes, learning_rate: learning_r})\n",
    "        cost_history = np.append(cost_history, cost_)\n",
    "\n",
    "        if (epoch % logging_step == 0):\n",
    "                print(\"Reached epoch\",epoch,\"cost J =\", cost_)\n",
    "                \n",
    "    return sess, cost_history"
   ]
  },
  {
   "cell_type": "code",
   "execution_count": null,
   "metadata": {
    "colab": {},
    "colab_type": "code",
    "id": "RdW76wDa_Qba",
    "outputId": "fa56f437-c5e3-466b-e73c-d0080e50a375"
   },
   "outputs": [
    {
     "name": "stdout",
     "output_type": "stream",
     "text": [
      "Reached epoch 0 cost J = 0.30598179\n",
      "Reached epoch 10 cost J = 0.11889737\n",
      "Reached epoch 20 cost J = 0.098300114\n",
      "Reached epoch 30 cost J = 0.08919344\n",
      "Reached epoch 40 cost J = 0.0840034\n",
      "Reached epoch 50 cost J = 0.080577224\n",
      "Reached epoch 60 cost J = 0.07808974\n",
      "Reached epoch 70 cost J = 0.0761595\n",
      "Reached epoch 80 cost J = 0.07459596\n",
      "Reached epoch 90 cost J = 0.07329242\n",
      "Reached epoch 100 cost J = 0.07218326\n"
     ]
    }
   ],
   "source": [
    "sess, cost_history1 = model (50, 100, train, labels_, 10, 0.01)"
   ]
  },
  {
   "cell_type": "code",
   "execution_count": null,
   "metadata": {
    "colab": {},
    "colab_type": "code",
    "id": "I1g8Mvkb_Qbd",
    "outputId": "9c47e196-13de-476c-a952-5dd84d5bef2b"
   },
   "outputs": [
    {
     "name": "stdout",
     "output_type": "stream",
     "text": [
      "Accuracy: 0.85616666\n"
     ]
    }
   ],
   "source": [
    "correct_predictions = tf.equal(tf.argmax(y_,0), tf.argmax(Y,0))\n",
    "accuracy = tf.reduce_mean(tf.cast(correct_predictions, \"float\"))\n",
    "print (\"Accuracy:\", accuracy.eval({X: train, Y: labels_, learning_rate: 0.001}, session = sess))"
   ]
  },
  {
   "cell_type": "markdown",
   "metadata": {
    "colab_type": "text",
    "id": "n1GAzEJg_Qbf"
   },
   "source": [
    "**NOTE**: the only thing we changed was the mini-batch size."
   ]
  },
  {
   "cell_type": "markdown",
   "metadata": {
    "colab_type": "text",
    "id": "n6q_D5zd_Qbg"
   },
   "source": [
    "# Exercise 1 - Convergences vs. mini-batch size - difficulty: medium\n",
    "\n",
    "Run the previous cell with different sizes of the mini-batch size, for example try 10,50,1000 and see how that affects the convergence. Keep the number of epochs fixed."
   ]
  },
  {
   "cell_type": "markdown",
   "metadata": {
    "colab_type": "text",
    "id": "yTINRJGs_Qbg"
   },
   "source": [
    "# Mini-batch Gradient Descent - comparison of mini-batch sizes"
   ]
  },
  {
   "cell_type": "markdown",
   "metadata": {
    "colab_type": "text",
    "id": "NDhrGBrJ_Qbh"
   },
   "source": [
    "## Random choice of 10000 elements \n",
    "\n",
    "We will select only 1e5 elements to make training faster. You can do the same with all the observations, but it will take a lot longer."
   ]
  },
  {
   "cell_type": "code",
   "execution_count": null,
   "metadata": {
    "colab": {},
    "colab_type": "code",
    "id": "4HngHUyt_Qbi",
    "outputId": "dd940381-6399-4b2c-eb7b-b56a471ca228"
   },
   "outputs": [
    {
     "name": "stdout",
     "output_type": "stream",
     "text": [
      "Number of elements in class  0 = 965\n",
      "Number of elements in class  1 = 997\n",
      "Number of elements in class  2 = 1002\n",
      "Number of elements in class  3 = 985\n",
      "Number of elements in class  4 = 1026\n",
      "Number of elements in class  5 = 1005\n",
      "Number of elements in class  6 = 994\n",
      "Number of elements in class  7 = 1001\n",
      "Number of elements in class  8 = 998\n",
      "Number of elements in class  9 = 1027\n"
     ]
    }
   ],
   "source": [
    "rnd_list = np.random.choice(train.shape[1], 10000)\n",
    "train_red = train[:, rnd_list]\n",
    "labels_red = labels_[:, rnd_list]\n",
    "labels_int = labels[0, rnd_list]\n",
    "\n",
    "for i in range (10):\n",
    "    print ('Number of elements in class ',i,'=', np.sum(labels_int == i))"
   ]
  },
  {
   "cell_type": "markdown",
   "metadata": {
    "colab_type": "text",
    "id": "xGt6Y_xw_Qbk"
   },
   "source": [
    "The dataset is pretty balanced so we are good to go."
   ]
  },
  {
   "cell_type": "code",
   "execution_count": null,
   "metadata": {
    "colab": {},
    "colab_type": "code",
    "id": "4VU_ooEY_Qbl",
    "outputId": "4f9d7b7e-9e13-49a5-adb1-9134b827d07a",
    "scrolled": false
   },
   "outputs": [
    {
     "name": "stdout",
     "output_type": "stream",
     "text": [
      "Reached epoch 0 cost J = 0.29555586\n",
      "Reached epoch 10 cost J = 0.12414783\n",
      "Reached epoch 20 cost J = 0.10175852\n",
      "Reached epoch 30 cost J = 0.0908491\n",
      "Reached epoch 40 cost J = 0.084359705\n",
      "Reached epoch 50 cost J = 0.07988967\n",
      "Wall time: 3min 6s\n"
     ]
    }
   ],
   "source": [
    "%%time\n",
    "sess1, cost_history1 = model(minibatch_size = 1, \n",
    "                              training_epochs = 50, \n",
    "                              features = train_red, \n",
    "                              classes = labels_red, \n",
    "                              logging_step = 10,\n",
    "                              learning_r = 1e-3)"
   ]
  },
  {
   "cell_type": "code",
   "execution_count": null,
   "metadata": {
    "colab": {},
    "colab_type": "code",
    "id": "4yd4ilPA_Qbn",
    "outputId": "98f94bc2-7e37-4be8-87bc-730da2da9cc0",
    "scrolled": false
   },
   "outputs": [
    {
     "name": "stdout",
     "output_type": "stream",
     "text": [
      "Reached epoch 0 cost J = 0.32577503\n",
      "Reached epoch 10 cost J = 0.31843063\n",
      "Reached epoch 20 cost J = 0.3130487\n",
      "Reached epoch 30 cost J = 0.30753696\n",
      "Reached epoch 40 cost J = 0.30111614\n",
      "Reached epoch 50 cost J = 0.2933771\n",
      "Wall time: 14.5 s\n"
     ]
    }
   ],
   "source": [
    "%%time\n",
    "sess50, cost_history50 = model(minibatch_size = 50, \n",
    "                              training_epochs = 50, \n",
    "                              features = train_red, \n",
    "                              classes = labels_red, \n",
    "                              logging_step = 10,\n",
    "                              learning_r = 1e-3) # Good is 300, 0.001"
   ]
  },
  {
   "cell_type": "markdown",
   "metadata": {
    "colab_type": "text",
    "id": "qijs7z4__Qbp"
   },
   "source": [
    "# Time needed by different mini-batch sizes"
   ]
  },
  {
   "cell_type": "code",
   "execution_count": null,
   "metadata": {
    "colab": {},
    "colab_type": "code",
    "id": "06uSK6co_Qbp"
   },
   "outputs": [],
   "source": [
    "time_conv_x = [5,20, 50,100,200, 300]\n",
    "time_conv_y = [9.6 ,3.45,  2.2, 2.23, 1.68, 1.72]\n",
    "cost_conv_y = [0.084 ,0.118914,0.139087 ,0.214366,0.235353, 0.2903]"
   ]
  },
  {
   "cell_type": "markdown",
   "metadata": {
    "colab_type": "text",
    "id": "x7GRfO_z_Qbs"
   },
   "source": [
    "Plot of the time needed by different batch sizes"
   ]
  },
  {
   "cell_type": "code",
   "execution_count": null,
   "metadata": {
    "colab": {},
    "colab_type": "code",
    "id": "EDR7kWN1_Qbs",
    "outputId": "fdb1f17e-70bb-442d-c5d1-ae93ea12274a"
   },
   "outputs": [
    {
     "data": {
      "text/plain": [
       "(0, 12)"
      ]
     },
     "execution_count": 37,
     "metadata": {
      "tags": []
     },
     "output_type": "execute_result"
    },
    {
     "data": {
      "image/png": "[encoded data removed]",
      "text/plain": [
       "<matplotlib.figure.Figure at 0x2af839db780>"
      ]
     },
     "metadata": {
      "tags": []
     },
     "output_type": "display_data"
    }
   ],
   "source": [
    "\n",
    "fig = plt.figure(figsize = (8,5))\n",
    "ax = fig.add_subplot(1, 1, 1)\n",
    "ax.scatter(time_conv_y, cost_conv_y,  color = 'black')\n",
    "\n",
    "\n",
    "ax.set_xlabel('Time (min)')\n",
    "ax.set_ylabel('Cost function $J$ after 100 epochs')\n",
    "\n",
    "for i, txt in enumerate(time_conv_x):\n",
    "    ax.annotate(txt, (time_conv_y[i]+0.3,cost_conv_y[i]))\n",
    "\n",
    "plt.xlim((0,12))"
   ]
  },
  {
   "cell_type": "markdown",
   "metadata": {
    "colab_type": "text",
    "id": "OOLmmzPX_Qbu"
   },
   "source": [
    "### Let's calculate train and test accuracy for our model"
   ]
  },
  {
   "cell_type": "code",
   "execution_count": null,
   "metadata": {
    "colab": {},
    "colab_type": "code",
    "id": "6-_9SYWu_Qbv"
   },
   "outputs": [],
   "source": [
    "%%time\n",
    "sess50, cost_history50 = model(minibatch_size = 50, \n",
    "                              training_epochs = 1000, \n",
    "                              features = train, \n",
    "                              classes = labels_, \n",
    "                              logging_step = 100,\n",
    "                              learning_r = 0.001)"
   ]
  },
  {
   "cell_type": "code",
   "execution_count": null,
   "metadata": {
    "colab": {},
    "colab_type": "code",
    "id": "Y2sbl7oE_Qbx",
    "outputId": "84f783ab-4963-4bc2-cb54-83c6ba8fe5da"
   },
   "outputs": [
    {
     "name": "stdout",
     "output_type": "stream",
     "text": [
      "Reached epoch 0 cost J = 0.325778\n",
      "Reached epoch 100 cost J = 0.139926\n",
      "Reached epoch 200 cost J = 0.114072\n",
      "Reached epoch 300 cost J = 0.103083\n",
      "Reached epoch 400 cost J = 0.0975261\n",
      "Reached epoch 500 cost J = 0.0941676\n",
      "Reached epoch 600 cost J = 0.0917755\n",
      "Reached epoch 700 cost J = 0.0899117\n",
      "Reached epoch 800 cost J = 0.088395\n",
      "Reached epoch 900 cost J = 0.0871357\n",
      "Reached epoch 1000 cost J = 0.0860645\n",
      "Wall time: 25min 51s\n"
     ]
    }
   ],
   "source": [
    "%%time\n",
    "sess500, cost_history500 = model(minibatch_size = 500, \n",
    "                              training_epochs = 1000, \n",
    "                              features = train, \n",
    "                              classes = labels_, \n",
    "                              logging_step = 100,\n",
    "                              learning_r = 0.001)"
   ]
  },
  {
   "cell_type": "code",
   "execution_count": null,
   "metadata": {
    "colab": {},
    "colab_type": "code",
    "id": "rSPfxlyt_Qbz",
    "outputId": "4cbbad69-b495-462d-bf5c-045e0fb161c0"
   },
   "outputs": [
    {
     "data": {
      "text/plain": [
       "(0, 1000)"
      ]
     },
     "execution_count": 70,
     "metadata": {
      "tags": []
     },
     "output_type": "execute_result"
    },
    {
     "data": {
      "text/plain": [
       "<matplotlib.figure.Figure at 0x22c145dfb70>"
      ]
     },
     "metadata": {
      "tags": []
     },
     "output_type": "display_data"
    },
    {
     "data": {
      "image/png": "[encoded data removed]",
      "text/plain": [
       "<matplotlib.figure.Figure at 0x22c145dfeb8>"
      ]
     },
     "metadata": {
      "tags": []
     },
     "output_type": "display_data"
    }
   ],
   "source": [
    "fig = plt.figure(figsize=(3.9, 3.1))\n",
    "ax = fig.add_subplot(1, 1, 1)\n",
    "ax.plot(cost_history50, ls='-', color = 'black')\n",
    "ax.plot(cost_history500, ls='--', color = 'black')\n",
    "ax.set_xlabel('epochs')\n",
    "ax.set_ylabel('Cost function $J$')\n",
    "\n",
    "plt.xlim((0,1000))"
   ]
  },
  {
   "cell_type": "code",
   "execution_count": null,
   "metadata": {
    "colab": {},
    "colab_type": "code",
    "id": "nBN4K9RE_Qb1",
    "outputId": "7f21fc4f-f9e8-45cc-d58c-363b113bfaca"
   },
   "outputs": [
    {
     "name": "stdout",
     "output_type": "stream",
     "text": [
      "Accuracy: 0.80325\n"
     ]
    }
   ],
   "source": [
    "correct_predictions = tf.equal(tf.argmax(y_,0), tf.argmax(Y,0))\n",
    "accuracy = tf.reduce_mean(tf.cast(correct_predictions, \"float\"))\n",
    "print (\"Accuracy:\", accuracy.eval({X: train, Y: labels_, learning_rate: 0.001}, session = sess50))"
   ]
  },
  {
   "cell_type": "code",
   "execution_count": null,
   "metadata": {
    "colab": {},
    "colab_type": "code",
    "id": "wTC3Jujl_Qb4",
    "outputId": "f520b435-f734-4499-8eef-51ddfb8152e6"
   },
   "outputs": [
    {
     "name": "stdout",
     "output_type": "stream",
     "text": [
      "Accuracy: 0.6653\n"
     ]
    }
   ],
   "source": [
    "correct_predictions = tf.equal(tf.argmax(y_,0), tf.argmax(Y,0))\n",
    "accuracy = tf.reduce_mean(tf.cast(correct_predictions, \"float\"))\n",
    "print (\"Accuracy:\", accuracy.eval({X: test, Y: labels_test, learning_rate: 0.001}, session = sess500))"
   ]
  },
  {
   "cell_type": "markdown",
   "metadata": {
    "colab_type": "text",
    "id": "peMaulvh_Qb6"
   },
   "source": [
    "Let's try now batch-gradient descent"
   ]
  },
  {
   "cell_type": "code",
   "execution_count": null,
   "metadata": {
    "colab": {},
    "colab_type": "code",
    "id": "JoXyTWVN_Qb7",
    "outputId": "809154bf-8396-4fa5-deda-a14bd0f8d308"
   },
   "outputs": [
    {
     "name": "stdout",
     "output_type": "stream",
     "text": [
      "Reached epoch 0 cost J = 0.324015\n",
      "Reached epoch 50 cost J = 0.323806\n",
      "Reached epoch 100 cost J = 0.323599\n",
      "Reached epoch 150 cost J = 0.323392\n",
      "Reached epoch 200 cost J = 0.323184\n",
      "Reached epoch 250 cost J = 0.322972\n",
      "Reached epoch 300 cost J = 0.322754\n",
      "Reached epoch 350 cost J = 0.322528\n",
      "Reached epoch 400 cost J = 0.322297\n",
      "Reached epoch 450 cost J = 0.322051\n",
      "Reached epoch 500 cost J = 0.321789\n",
      "Reached epoch 550 cost J = 0.321509\n",
      "Reached epoch 600 cost J = 0.32121\n",
      "Reached epoch 650 cost J = 0.320893\n",
      "Reached epoch 700 cost J = 0.320552\n",
      "Reached epoch 750 cost J = 0.320184\n",
      "Reached epoch 800 cost J = 0.319789\n",
      "Reached epoch 850 cost J = 0.319362\n",
      "Reached epoch 900 cost J = 0.318899\n",
      "Reached epoch 950 cost J = 0.318394\n",
      "Reached epoch 1000 cost J = 0.31785\n",
      "Wall time: 19min 29s\n"
     ]
    }
   ],
   "source": [
    "%%time\n",
    "sessb, cost_history500_2 = model(minibatch_size = 60000, \n",
    "                              training_epochs = 1000, \n",
    "                              features = train, \n",
    "                              classes = labels_, \n",
    "                              logging_step = 50,\n",
    "                              learning_r = 0.01)"
   ]
  },
  {
   "cell_type": "code",
   "execution_count": null,
   "metadata": {
    "colab": {},
    "colab_type": "code",
    "id": "hluJGCeJ_Qb8",
    "outputId": "059884b8-18b3-4fdf-ef61-29185aa60e7f"
   },
   "outputs": [
    {
     "data": {
      "text/plain": [
       "(0, 1000)"
      ]
     },
     "execution_count": 76,
     "metadata": {
      "tags": []
     },
     "output_type": "execute_result"
    },
    {
     "data": {
      "text/plain": [
       "<matplotlib.figure.Figure at 0x22c11601b70>"
      ]
     },
     "metadata": {
      "tags": []
     },
     "output_type": "display_data"
    },
    {
     "data": {
      "image/png": "[encoded data removed]",
      "text/plain": [
       "<matplotlib.figure.Figure at 0x22c11601b00>"
      ]
     },
     "metadata": {
      "tags": []
     },
     "output_type": "display_data"
    }
   ],
   "source": [
    "fig = plt.figure(figsize=(8,5))\n",
    "ax = fig.add_subplot(1, 1, 1)\n",
    "ax.plot(cost_history50, ls='-', color = 'black')\n",
    "ax.plot(cost_history500_2, ls='--', color = 'black')\n",
    "ax.set_xlabel('epochs')\n",
    "ax.set_ylabel('Cost function $J$')\n",
    "plt.xlim((0,1000))"
   ]
  },
  {
   "cell_type": "code",
   "execution_count": null,
   "metadata": {
    "colab": {},
    "colab_type": "code",
    "id": "-yxUJ39Z_Qb-",
    "outputId": "aeec81db-1d12-4e64-d2e3-cf6207ab040a"
   },
   "outputs": [
    {
     "name": "stdout",
     "output_type": "stream",
     "text": [
      "Accuracy: 0.823883\n"
     ]
    }
   ],
   "source": [
    "correct_predictions = tf.equal(tf.argmax(y_,0), tf.argmax(Y,0))\n",
    "accuracy = tf.reduce_mean(tf.cast(correct_predictions, \"float\"))\n",
    "print (\"Accuracy:\", accuracy.eval({X: train, Y: labels_, learning_rate: 0.001}, session = sessb))"
   ]
  },
  {
   "cell_type": "code",
   "execution_count": null,
   "metadata": {
    "colab": {},
    "colab_type": "code",
    "id": "LM4cWYqG_QcA",
    "outputId": "014ac876-b828-4ca0-995c-d910b0bd7e76"
   },
   "outputs": [
    {
     "name": "stdout",
     "output_type": "stream",
     "text": [
      "Accuracy: 0.7336\n"
     ]
    }
   ],
   "source": [
    "correct_predictions = tf.equal(tf.argmax(y_,0), tf.argmax(Y,0))\n",
    "accuracy = tf.reduce_mean(tf.cast(correct_predictions, \"float\"))\n",
    "print (\"Accuracy:\", accuracy.eval({X: test, Y: labels_test_, learning_rate: 0.001}, session = sessb))"
   ]
  },
  {
   "cell_type": "markdown",
   "metadata": {
    "colab_type": "text",
    "id": "sgIDRMBG_QcD"
   },
   "source": [
    "### `corr_pred` array containing information on which prediction is right and which is wrong"
   ]
  },
  {
   "cell_type": "markdown",
   "metadata": {
    "colab_type": "text",
    "id": "6IVOa1eG_QcD"
   },
   "source": [
    "The `corr_pred` array contains `True` when the prediction is right and `False` when it is not."
   ]
  },
  {
   "cell_type": "code",
   "execution_count": null,
   "metadata": {
    "colab": {},
    "colab_type": "code",
    "id": "_St8llu1_QcE"
   },
   "outputs": [],
   "source": [
    "%%time\n",
    "sessb, cost_history500 = model(minibatch_size = 50, \n",
    "                              training_epochs = 1000, \n",
    "                              features = train, \n",
    "                              classes = labels_, \n",
    "                              logging_step = 100,\n",
    "                              learning_r = 0.001)"
   ]
  },
  {
   "cell_type": "code",
   "execution_count": null,
   "metadata": {
    "colab": {},
    "colab_type": "code",
    "id": "pfRPM92D_QcF"
   },
   "outputs": [],
   "source": [
    "corr_pred = sessb.run(correct_predictions, feed_dict = {X: train, Y: labels_, learning_rate: 0.1})"
   ]
  },
  {
   "cell_type": "code",
   "execution_count": null,
   "metadata": {
    "colab": {},
    "colab_type": "code",
    "id": "09EOShgz_QcH",
    "outputId": "25d36660-cc0a-41b8-cba6-7d4c83201405"
   },
   "outputs": [
    {
     "data": {
      "text/plain": [
       "array([False,  True,  True,  True,  True, False,  True,  True,  True,\n",
       "        True,  True,  True,  True, False,  True, False,  True,  True,\n",
       "        True,  True,  True,  True,  True,  True,  True,  True,  True,\n",
       "       False,  True,  True,  True,  True,  True, False, False,  True,\n",
       "       False,  True,  True,  True], dtype=bool)"
      ]
     },
     "execution_count": 129,
     "metadata": {
      "tags": []
     },
     "output_type": "execute_result"
    }
   ],
   "source": [
    "corr_pred[0:40] "
   ]
  },
  {
   "cell_type": "markdown",
   "metadata": {
    "colab_type": "text",
    "id": "ToAsXFH4_QcJ"
   },
   "source": [
    "### The `pred` array contains the actual predictions."
   ]
  },
  {
   "cell_type": "code",
   "execution_count": null,
   "metadata": {
    "colab": {},
    "colab_type": "code",
    "id": "wH3NepHj_QcK"
   },
   "outputs": [],
   "source": [
    "pred = sessb.run(tf.argmax(y_,0), feed_dict = {X: train, Y: labels_, learning_rate: 0.1})"
   ]
  },
  {
   "cell_type": "markdown",
   "metadata": {
    "colab_type": "text",
    "id": "IiTemSNE_QcL"
   },
   "source": [
    "# Let's check some wrong predictions"
   ]
  },
  {
   "cell_type": "code",
   "execution_count": null,
   "metadata": {
    "colab": {},
    "colab_type": "code",
    "id": "meIC1K4x_QcM",
    "outputId": "a6e016c2-b3bd-4442-c07a-620c48b65f0e"
   },
   "outputs": [
    {
     "data": {
      "image/png": "[encoded data removed]",
      "text/plain": [
       "<matplotlib.figure.Figure at 0x22c11e90630>"
      ]
     },
     "metadata": {
      "tags": []
     },
     "output_type": "display_data"
    }
   ],
   "source": [
    "f = plt.figure(figsize=(8,8));\n",
    "plt.imshow(train[:,5].reshape(28,28), cmap = matplotlib.cm.binary, interpolation = \"nearest\")\n",
    "plt.title('True : '+get_label_name(labels[:,5])+' - Pred.: '+str(get_label_name(pred[5])))\n",
    "plt.axis(\"on\")\n",
    "plt.show()"
   ]
  },
  {
   "cell_type": "markdown",
   "metadata": {
    "colab_type": "text",
    "id": "ODFhZN93_QcN"
   },
   "source": [
    "### Let's check 10 examples of wrongly classified images"
   ]
  },
  {
   "cell_type": "markdown",
   "metadata": {
    "colab_type": "text",
    "id": "_VXWdE8R_QcO"
   },
   "source": [
    "Let's first get 10 random examples of wrongly classified images"
   ]
  },
  {
   "cell_type": "code",
   "execution_count": null,
   "metadata": {
    "colab": {},
    "colab_type": "code",
    "id": "tbqguexm_QcO"
   },
   "outputs": [],
   "source": [
    "lim = 70\n",
    "wrongly_classified_images = train[:,0:lim]\n",
    "wrongly_classified_images = wrongly_classified_images[:, corr_pred[0:lim] == False]\n",
    "wrong_labels = labels[:,0:lim]\n",
    "wrong_labels = wrong_labels[:, corr_pred[0:lim] == False]\n",
    "wrong_pred = pred.reshape(1,60000)[:,0:lim]\n",
    "wrong_pred = wrong_pred[:,corr_pred[0:lim] == False]"
   ]
  },
  {
   "cell_type": "code",
   "execution_count": null,
   "metadata": {
    "colab": {},
    "colab_type": "code",
    "id": "ax_DY0nw_QcP",
    "outputId": "6164461f-9417-4065-bb1a-9650857264ab"
   },
   "outputs": [
    {
     "data": {
      "image/png": "[encoded data removed]",
      "text/plain": [
       "<matplotlib.figure.Figure at 0x22c11d7dda0>"
      ]
     },
     "metadata": {
      "tags": []
     },
     "output_type": "display_data"
    }
   ],
   "source": [
    "f = plt.figure(figsize=(15,15));\n",
    "count = 1\n",
    "for i in range(0,10):\n",
    "    plt.subplot(5,2,count)\n",
    "    count = count + 1\n",
    "    plt.subplots_adjust(hspace=0.5)\n",
    "    plt.title('True: ' + get_label_name(wrong_labels[:,i]) + ' - Pred: ' + get_label_name(wrong_pred[:,i]))\n",
    "    some_digit_image = wrongly_classified_images[:,i].reshape(28,28)\n",
    "    plt.imshow(some_digit_image, cmap = matplotlib.cm.binary, interpolation = \"nearest\")\n",
    "    plt.axis(\"off\")\n",
    "    pass"
   ]
  },
  {
   "cell_type": "markdown",
   "metadata": {
    "colab_type": "text",
    "id": "PmeVXn27_QcS"
   },
   "source": [
    "# 15 neurons"
   ]
  },
  {
   "cell_type": "code",
   "execution_count": null,
   "metadata": {
    "colab": {},
    "colab_type": "code",
    "id": "r7Tb7TIQ_QcT"
   },
   "outputs": [],
   "source": [
    "n_dim = 784\n",
    "tf.reset_default_graph()\n",
    "\n",
    "# Number of neurons in the layers\n",
    "n1 = 15 # Number of neurons in layer 1\n",
    "n2 = 10 # Number of neurons in output layer \n",
    "\n",
    "cost_history = np.empty(shape=[1], dtype = float)\n",
    "learning_rate = tf.placeholder(tf.float32, shape=())\n",
    "\n",
    "X = tf.placeholder(tf.float32, [n_dim, None])\n",
    "Y = tf.placeholder(tf.float32, [10, None])\n",
    "W1 = tf.Variable(tf.truncated_normal([n1, n_dim], stddev=.1)) \n",
    "b1 = tf.Variable(tf.constant(0.1, shape = [n1,1]) )\n",
    "W2 = tf.Variable(tf.truncated_normal([n2, n1], stddev=.1)) \n",
    "b2 = tf.Variable(tf.constant(0.1, shape = [n2,1])) \n",
    "                 \n",
    "# Let's build our network...\n",
    "Z1 = tf.nn.relu(tf.matmul(W1, X) + b1) # n1 x n_dim * n_dim x n_obs = n1 x n_obs\n",
    "Z2 = tf.matmul(W2, Z1) + b2 # n2 x n1 * n1 * n_obs = n2 x n_obs\n",
    "y_ = tf.nn.softmax(Z2,0) # n2 x n_obs (10 x None)\n",
    "\n",
    "cost = - tf.reduce_mean(Y * tf.log(y_)+(1-Y) * tf.log(1-y_))\n",
    "optimizer = tf.train.GradientDescentOptimizer(learning_rate).minimize(cost)\n",
    "\n",
    "init = tf.global_variables_initializer()"
   ]
  },
  {
   "cell_type": "code",
   "execution_count": null,
   "metadata": {
    "colab": {},
    "colab_type": "code",
    "id": "J0VaYVnf_QcU",
    "outputId": "01abc1b8-52e0-483c-cdfc-d72bf0d13941"
   },
   "outputs": [
    {
     "name": "stdout",
     "output_type": "stream",
     "text": [
      "Reached epoch 0 cost J = 0.326015\n",
      "Reached epoch 10 cost J = 0.294436\n",
      "Reached epoch 20 cost J = 0.23573\n",
      "Reached epoch 30 cost J = 0.191477\n",
      "Reached epoch 40 cost J = 0.164247\n",
      "Reached epoch 50 cost J = 0.148597\n",
      "Reached epoch 60 cost J = 0.139156\n",
      "Reached epoch 70 cost J = 0.132707\n",
      "Reached epoch 80 cost J = 0.12781\n",
      "Reached epoch 90 cost J = 0.123746\n",
      "Reached epoch 100 cost J = 0.12017\n",
      "Reached epoch 110 cost J = 0.116929\n",
      "Reached epoch 120 cost J = 0.11396\n",
      "Reached epoch 130 cost J = 0.111257\n",
      "Reached epoch 140 cost J = 0.108819\n",
      "Reached epoch 150 cost J = 0.106639\n",
      "Reached epoch 160 cost J = 0.104698\n",
      "Reached epoch 170 cost J = 0.102969\n",
      "Reached epoch 180 cost J = 0.101419\n",
      "Reached epoch 190 cost J = 0.100024\n",
      "Reached epoch 200 cost J = 0.0987597\n",
      "Reached epoch 210 cost J = 0.097603\n",
      "Reached epoch 220 cost J = 0.0965397\n",
      "Reached epoch 230 cost J = 0.0955553\n",
      "Reached epoch 240 cost J = 0.0946399\n",
      "Reached epoch 250 cost J = 0.093784\n",
      "Reached epoch 260 cost J = 0.0929818\n",
      "Reached epoch 270 cost J = 0.0922262\n",
      "Reached epoch 280 cost J = 0.0915131\n",
      "Reached epoch 290 cost J = 0.09084\n",
      "Reached epoch 300 cost J = 0.0902026\n",
      "Reached epoch 310 cost J = 0.0895978\n",
      "Reached epoch 320 cost J = 0.0890237\n",
      "Reached epoch 330 cost J = 0.0884782\n",
      "Reached epoch 340 cost J = 0.0879596\n",
      "Reached epoch 350 cost J = 0.0874666\n",
      "Reached epoch 360 cost J = 0.0869958\n",
      "Reached epoch 370 cost J = 0.0865462\n",
      "Reached epoch 380 cost J = 0.0861168\n",
      "Reached epoch 390 cost J = 0.0857057\n",
      "Reached epoch 400 cost J = 0.0853122\n",
      "Reached epoch 410 cost J = 0.0849345\n",
      "Reached epoch 420 cost J = 0.0845717\n",
      "Reached epoch 430 cost J = 0.0842228\n",
      "Reached epoch 440 cost J = 0.0838869\n",
      "Reached epoch 450 cost J = 0.0835635\n",
      "Reached epoch 460 cost J = 0.0832509\n",
      "Reached epoch 470 cost J = 0.0829496\n",
      "Reached epoch 480 cost J = 0.0826583\n",
      "Reached epoch 490 cost J = 0.0823758\n",
      "Reached epoch 500 cost J = 0.0821023\n",
      "Reached epoch 510 cost J = 0.0818371\n",
      "Reached epoch 520 cost J = 0.08158\n",
      "Reached epoch 530 cost J = 0.0813298\n",
      "Reached epoch 540 cost J = 0.0810875\n",
      "Reached epoch 550 cost J = 0.0808528\n",
      "Reached epoch 560 cost J = 0.080624\n",
      "Reached epoch 570 cost J = 0.0804018\n",
      "Reached epoch 580 cost J = 0.0801853\n",
      "Reached epoch 590 cost J = 0.079974\n",
      "Reached epoch 600 cost J = 0.0797684\n",
      "Reached epoch 610 cost J = 0.0795672\n",
      "Reached epoch 620 cost J = 0.079371\n",
      "Reached epoch 630 cost J = 0.0791789\n",
      "Reached epoch 640 cost J = 0.0789915\n",
      "Reached epoch 650 cost J = 0.0788083\n",
      "Reached epoch 660 cost J = 0.078629\n",
      "Reached epoch 670 cost J = 0.0784537\n",
      "Reached epoch 680 cost J = 0.078282\n",
      "Reached epoch 690 cost J = 0.0781139\n",
      "Reached epoch 700 cost J = 0.0779488\n",
      "Reached epoch 710 cost J = 0.0777877\n",
      "Reached epoch 720 cost J = 0.077629\n",
      "Reached epoch 730 cost J = 0.0774736\n",
      "Reached epoch 740 cost J = 0.077321\n",
      "Reached epoch 750 cost J = 0.0771713\n",
      "Reached epoch 760 cost J = 0.0770241\n",
      "Reached epoch 770 cost J = 0.0768792\n",
      "Reached epoch 780 cost J = 0.076737\n",
      "Reached epoch 790 cost J = 0.0765971\n",
      "Reached epoch 800 cost J = 0.0764597\n",
      "Reached epoch 810 cost J = 0.0763245\n",
      "Reached epoch 820 cost J = 0.0761913\n",
      "Reached epoch 830 cost J = 0.0760608\n",
      "Reached epoch 840 cost J = 0.0759319\n",
      "Reached epoch 850 cost J = 0.075805\n",
      "Reached epoch 860 cost J = 0.07568\n",
      "Reached epoch 870 cost J = 0.075557\n",
      "Reached epoch 880 cost J = 0.0754355\n",
      "Reached epoch 890 cost J = 0.0753157\n",
      "Reached epoch 900 cost J = 0.0751982\n",
      "Reached epoch 910 cost J = 0.0750818\n",
      "Reached epoch 920 cost J = 0.0749667\n",
      "Reached epoch 930 cost J = 0.0748532\n",
      "Reached epoch 940 cost J = 0.0747414\n",
      "Reached epoch 950 cost J = 0.0746306\n",
      "Reached epoch 960 cost J = 0.0745211\n",
      "Reached epoch 970 cost J = 0.0744132\n",
      "Reached epoch 980 cost J = 0.0743064\n",
      "Reached epoch 990 cost J = 0.0742004\n",
      "Reached epoch 1000 cost J = 0.0740961\n"
     ]
    }
   ],
   "source": [
    "sess = tf.Session()\n",
    "sess.run(tf.global_variables_initializer())\n",
    "    \n",
    "cost_history = []\n",
    "for epoch in range(1000+1):\n",
    "    for i in range(0, train.shape[1], 50):\n",
    "        X_train_mini = train[:,i:i + 50]\n",
    "        y_train_mini = labels_[:,i:i + 50]\n",
    "\n",
    "        sess.run(optimizer, feed_dict = {X: X_train_mini, Y: y_train_mini, learning_rate: 0.001})\n",
    "    cost_ = sess.run(cost, feed_dict={ X:train, Y: labels_, learning_rate: 0.001})\n",
    "    cost_history = np.append(cost_history, cost_)\n",
    "\n",
    "    if (epoch % 10 == 0):\n",
    "        print(\"Reached epoch\",epoch,\"cost J =\", cost_)"
   ]
  },
  {
   "cell_type": "code",
   "execution_count": null,
   "metadata": {
    "colab": {},
    "colab_type": "code",
    "id": "csrIbYjx_QcX",
    "outputId": "e611805b-2a00-4364-8075-a943990d73e7"
   },
   "outputs": [
    {
     "name": "stdout",
     "output_type": "stream",
     "text": [
      "Accuracy: 0.853267\n"
     ]
    }
   ],
   "source": [
    "correct_predictions = tf.equal(tf.argmax(y_,0), tf.argmax(Y,0))\n",
    "accuracy = tf.reduce_mean(tf.cast(correct_predictions, \"float\"))\n",
    "print (\"Accuracy:\", accuracy.eval({X: train, Y: labels_, learning_rate: 0.001}, session = sess))"
   ]
  },
  {
   "cell_type": "code",
   "execution_count": null,
   "metadata": {
    "colab": {},
    "colab_type": "code",
    "id": "lXxcPlsX_QcZ",
    "outputId": "fcd30676-98df-4ac8-eb96-83cdfeff8213"
   },
   "outputs": [
    {
     "name": "stdout",
     "output_type": "stream",
     "text": [
      "Accuracy: 0.8519\n"
     ]
    }
   ],
   "source": [
    "correct_predictions = tf.equal(tf.argmax(y_,0), tf.argmax(Y,0))\n",
    "accuracy = tf.reduce_mean(tf.cast(correct_predictions, \"float\"))\n",
    "print (\"Accuracy:\", accuracy.eval({X: test, Y: labels_test_, learning_rate: 0.001}, session = sess))"
   ]
  },
  {
   "cell_type": "markdown",
   "metadata": {
    "colab_type": "text",
    "id": "BPjSX_C5_Qcb"
   },
   "source": [
    "# 50 neurons"
   ]
  },
  {
   "cell_type": "code",
   "execution_count": null,
   "metadata": {
    "colab": {},
    "colab_type": "code",
    "id": "lysABJ7m_Qcb"
   },
   "outputs": [],
   "source": [
    "n_dim = 784\n",
    "tf.reset_default_graph()\n",
    "\n",
    "# Number of neurons in the layers\n",
    "n1 = 50 # Number of neurons in layer 1\n",
    "n2 = 10 # Number of neurons in output layer \n",
    "\n",
    "cost_history = np.empty(shape=[1], dtype = float)\n",
    "learning_rate = tf.placeholder(tf.float32, shape=())\n",
    "\n",
    "X = tf.placeholder(tf.float32, [n_dim, None])\n",
    "Y = tf.placeholder(tf.float32, [10, None])\n",
    "W1 = tf.Variable(tf.truncated_normal([n1, n_dim], stddev=.1)) \n",
    "b1 = tf.Variable(tf.constant(0.1, shape = [n1,1]) )\n",
    "W2 = tf.Variable(tf.truncated_normal([n2, n1], stddev=.1)) \n",
    "b2 = tf.Variable(tf.constant(0.1, shape = [n2,1])) \n",
    "                 \n",
    "# Let's build our network...\n",
    "Z1 = tf.nn.relu(tf.matmul(W1, X) + b1) # n1 x n_dim * n_dim x n_obs = n1 x n_obs\n",
    "Z2 = tf.matmul(W2, Z1) + b2 # n2 x n1 * n1 * n_obs = n2 x n_obs\n",
    "y_ = tf.nn.softmax(Z2,0) # n2 x n_obs (10 x None)\n",
    "\n",
    "cost = - tf.reduce_mean(Y * tf.log(y_)+(1-Y) * tf.log(1-y_))\n",
    "optimizer = tf.train.GradientDescentOptimizer(learning_rate).minimize(cost)\n",
    "\n",
    "init = tf.global_variables_initializer()"
   ]
  },
  {
   "cell_type": "code",
   "execution_count": null,
   "metadata": {
    "colab": {},
    "colab_type": "code",
    "id": "UukYoFwK_Qcc",
    "outputId": "25c4b678-8d49-4d78-f2c2-9f549eb009a5"
   },
   "outputs": [
    {
     "name": "stdout",
     "output_type": "stream",
     "text": [
      "Reached epoch 0 cost J = 0.329011\n",
      "Reached epoch 10 cost J = 0.220687\n",
      "Reached epoch 20 cost J = 0.169212\n",
      "Reached epoch 30 cost J = 0.147768\n",
      "Reached epoch 40 cost J = 0.135878\n",
      "Reached epoch 50 cost J = 0.127698\n",
      "Reached epoch 60 cost J = 0.121352\n",
      "Reached epoch 70 cost J = 0.116142\n",
      "Reached epoch 80 cost J = 0.111847\n",
      "Reached epoch 90 cost J = 0.108285\n",
      "Reached epoch 100 cost J = 0.105278\n",
      "Reached epoch 110 cost J = 0.102711\n",
      "Reached epoch 120 cost J = 0.100495\n",
      "Reached epoch 130 cost J = 0.0985634\n",
      "Reached epoch 140 cost J = 0.096861\n",
      "Reached epoch 150 cost J = 0.0953485\n",
      "Reached epoch 160 cost J = 0.0939932\n",
      "Reached epoch 170 cost J = 0.0927675\n",
      "Reached epoch 180 cost J = 0.091653\n",
      "Reached epoch 190 cost J = 0.090633\n",
      "Reached epoch 200 cost J = 0.0896948\n",
      "Reached epoch 210 cost J = 0.0888281\n",
      "Reached epoch 220 cost J = 0.0880239\n",
      "Reached epoch 230 cost J = 0.0872742\n",
      "Reached epoch 240 cost J = 0.0865726\n",
      "Reached epoch 250 cost J = 0.0859143\n",
      "Reached epoch 260 cost J = 0.0852939\n",
      "Reached epoch 270 cost J = 0.0847083\n",
      "Reached epoch 280 cost J = 0.0841539\n",
      "Reached epoch 290 cost J = 0.0836273\n",
      "Reached epoch 300 cost J = 0.0831266\n",
      "Reached epoch 310 cost J = 0.0826491\n",
      "Reached epoch 320 cost J = 0.0821923\n",
      "Reached epoch 330 cost J = 0.0817562\n",
      "Reached epoch 340 cost J = 0.0813388\n",
      "Reached epoch 350 cost J = 0.0809386\n",
      "Reached epoch 360 cost J = 0.0805545\n",
      "Reached epoch 370 cost J = 0.0801851\n",
      "Reached epoch 380 cost J = 0.0798293\n",
      "Reached epoch 390 cost J = 0.0794864\n",
      "Reached epoch 400 cost J = 0.0791551\n",
      "Reached epoch 410 cost J = 0.0788343\n",
      "Reached epoch 420 cost J = 0.0785239\n",
      "Reached epoch 430 cost J = 0.0782233\n",
      "Reached epoch 440 cost J = 0.0779321\n",
      "Reached epoch 450 cost J = 0.0776486\n",
      "Reached epoch 460 cost J = 0.0773736\n",
      "Reached epoch 470 cost J = 0.0771054\n",
      "Reached epoch 480 cost J = 0.0768449\n",
      "Reached epoch 490 cost J = 0.0765906\n",
      "Reached epoch 500 cost J = 0.0763431\n",
      "Reached epoch 510 cost J = 0.0761013\n",
      "Reached epoch 520 cost J = 0.0758655\n",
      "Reached epoch 530 cost J = 0.0756344\n",
      "Reached epoch 540 cost J = 0.0754084\n",
      "Reached epoch 550 cost J = 0.0751879\n",
      "Reached epoch 560 cost J = 0.0749722\n",
      "Reached epoch 570 cost J = 0.0747607\n",
      "Reached epoch 580 cost J = 0.0745532\n",
      "Reached epoch 590 cost J = 0.0743506\n",
      "Reached epoch 600 cost J = 0.0741514\n",
      "Reached epoch 610 cost J = 0.0739561\n",
      "Reached epoch 620 cost J = 0.0737648\n",
      "Reached epoch 630 cost J = 0.0735766\n",
      "Reached epoch 640 cost J = 0.0733928\n",
      "Reached epoch 650 cost J = 0.0732119\n",
      "Reached epoch 660 cost J = 0.0730337\n",
      "Reached epoch 670 cost J = 0.0728586\n",
      "Reached epoch 680 cost J = 0.0726859\n",
      "Reached epoch 690 cost J = 0.0725163\n",
      "Reached epoch 700 cost J = 0.0723498\n",
      "Reached epoch 710 cost J = 0.0721855\n",
      "Reached epoch 720 cost J = 0.0720243\n",
      "Reached epoch 730 cost J = 0.0718655\n",
      "Reached epoch 740 cost J = 0.0717089\n",
      "Reached epoch 750 cost J = 0.071554\n",
      "Reached epoch 760 cost J = 0.0714013\n",
      "Reached epoch 770 cost J = 0.0712507\n",
      "Reached epoch 780 cost J = 0.0711022\n",
      "Reached epoch 790 cost J = 0.0709552\n",
      "Reached epoch 800 cost J = 0.0708102\n",
      "Reached epoch 810 cost J = 0.0706674\n",
      "Reached epoch 820 cost J = 0.070527\n",
      "Reached epoch 830 cost J = 0.0703886\n",
      "Reached epoch 840 cost J = 0.0702519\n",
      "Reached epoch 850 cost J = 0.0701171\n",
      "Reached epoch 860 cost J = 0.0699838\n",
      "Reached epoch 870 cost J = 0.0698523\n",
      "Reached epoch 880 cost J = 0.0697223\n",
      "Reached epoch 890 cost J = 0.0695939\n",
      "Reached epoch 900 cost J = 0.0694673\n",
      "Reached epoch 910 cost J = 0.0693414\n",
      "Reached epoch 920 cost J = 0.0692172\n",
      "Reached epoch 930 cost J = 0.069094\n",
      "Reached epoch 940 cost J = 0.0689721\n",
      "Reached epoch 950 cost J = 0.0688518\n",
      "Reached epoch 960 cost J = 0.0687327\n",
      "Reached epoch 970 cost J = 0.0686151\n",
      "Reached epoch 980 cost J = 0.0684985\n",
      "Reached epoch 990 cost J = 0.0683834\n",
      "Reached epoch 1000 cost J = 0.0682689\n",
      "Wall time: 35min 37s\n"
     ]
    }
   ],
   "source": [
    "%%time\n",
    "sess = tf.Session()\n",
    "sess.run(tf.global_variables_initializer())\n",
    "    \n",
    "cost_history = []\n",
    "for epoch in range(1000+1):\n",
    "    for i in range(0, train.shape[1], 50):\n",
    "        X_train_mini = train[:,i:i + 50]\n",
    "        y_train_mini = labels_[:,i:i + 50]\n",
    "\n",
    "        sess.run(optimizer, feed_dict = {X: X_train_mini, Y: y_train_mini, learning_rate: 0.001})\n",
    "    cost_ = sess.run(cost, feed_dict={ X:train, Y: labels_, learning_rate: 0.001})\n",
    "    cost_history = np.append(cost_history, cost_)\n",
    "\n",
    "    if (epoch % 10 == 0):\n",
    "        print(\"Reached epoch\",epoch,\"cost J =\", cost_)"
   ]
  },
  {
   "cell_type": "code",
   "execution_count": null,
   "metadata": {
    "colab": {},
    "colab_type": "code",
    "id": "UdJVFGRq_Qce",
    "outputId": "35c823f2-8b87-47d4-b0f1-c23abc8dcf1c"
   },
   "outputs": [
    {
     "name": "stdout",
     "output_type": "stream",
     "text": [
      "Accuracy: 0.864583\n"
     ]
    }
   ],
   "source": [
    "correct_predictions = tf.equal(tf.argmax(y_,0), tf.argmax(Y,0))\n",
    "accuracy = tf.reduce_mean(tf.cast(correct_predictions, \"float\"))\n",
    "print (\"Accuracy:\", accuracy.eval({X: train, Y: labels_, learning_rate: 0.001}, session = sess))"
   ]
  },
  {
   "cell_type": "code",
   "execution_count": null,
   "metadata": {
    "colab": {},
    "colab_type": "code",
    "id": "dFdqLNQs_Qcg",
    "outputId": "6767bf1f-b1e6-4d3f-e10c-e2e94035068b"
   },
   "outputs": [
    {
     "name": "stdout",
     "output_type": "stream",
     "text": [
      "Accuracy: 0.8609\n"
     ]
    }
   ],
   "source": [
    "correct_predictions = tf.equal(tf.argmax(y_,0), tf.argmax(Y,0))\n",
    "accuracy = tf.reduce_mean(tf.cast(correct_predictions, \"float\"))\n",
    "print (\"Accuracy:\", accuracy.eval({X: test, Y: labels_test_, learning_rate: 0.001}, session = sess))"
   ]
  },
  {
   "cell_type": "code",
   "execution_count": null,
   "metadata": {
    "colab": {},
    "colab_type": "code",
    "id": "W16c8yvw_Qci"
   },
   "outputs": [],
   "source": [
    "sess.close()"
   ]
  },
  {
   "cell_type": "markdown",
   "metadata": {
    "colab_type": "text",
    "id": "9gPiLV3D_Qcj"
   },
   "source": [
    "# 3 layers, 14 neurons"
   ]
  },
  {
   "cell_type": "code",
   "execution_count": null,
   "metadata": {
    "colab": {},
    "colab_type": "code",
    "id": "oojGiGWk_Qck"
   },
   "outputs": [],
   "source": [
    "n_dim = 784\n",
    "tf.reset_default_graph()\n",
    "\n",
    "# Number of neurons in the layers\n",
    "n1 = 14 # Number of neurons in layer 1\n",
    "n2 = 14 # Number of neurons in layer 2 \n",
    "n3 = 14\n",
    "n4 = 10\n",
    "#n5 = 10 # Neurons for the softmax function\n",
    "\n",
    "cost_history = np.empty(shape=[0], dtype = float)\n",
    "learning_rate = tf.placeholder(tf.float32, shape=())\n",
    "\n",
    "stddev_f = 0.1\n",
    "\n",
    "tf.set_random_seed(5)\n",
    "\n",
    "X = tf.placeholder(tf.float32, [n_dim, None])\n",
    "Y = tf.placeholder(tf.float32, [10, None])\n",
    "W1 = tf.Variable(tf.random_normal([n1, n_dim], stddev=stddev_f)) \n",
    "b1 = tf.Variable(tf.constant(0.0, shape = [n1,1]) )\n",
    "W2 = tf.Variable(tf.random_normal([n2, n1], stddev=stddev_f)) \n",
    "b2 = tf.Variable(tf.constant(0.0, shape = [n2,1])) \n",
    "W3 = tf.Variable(tf.random_normal([n3,n2], stddev = stddev_f))\n",
    "b3 = tf.Variable(tf.constant(0.0, shape = [n3,1]))\n",
    "W4 = tf.Variable(tf.random_normal([n4,n3], stddev = stddev_f))\n",
    "b4 = tf.Variable(tf.constant(0.0, shape = [n4,1]))\n",
    "                 \n",
    "# Let's build our network...\n",
    "Z1 = tf.nn.relu(tf.matmul(W1, X) + b1) # n1 x n_dim * n_dim x n_obs = n1 x n_obs\n",
    "Z2 = tf.nn.relu(tf.matmul(W2, Z1) + b2) # n2 x n1 * n1 * n_obs = n2 x n_obs\n",
    "Z3 = tf.nn.relu(tf.matmul(W3, Z2) + b3)\n",
    "Z4 = tf.matmul(W4, Z3) + b4\n",
    "y_ = tf.nn.softmax(Z4,0) # n2 x n_obs (10 x None)\n",
    "\n",
    "\n",
    "cost = - tf.reduce_mean(Y * tf.log(y_)+(1-Y) * tf.log(1-y_))\n",
    "optimizer = tf.train.GradientDescentOptimizer(learning_rate).minimize(cost)\n",
    "\n",
    "init = tf.global_variables_initializer()"
   ]
  },
  {
   "cell_type": "code",
   "execution_count": null,
   "metadata": {
    "colab": {},
    "colab_type": "code",
    "id": "ReGWknIw_Qcl",
    "outputId": "876e9379-3d24-4bf9-c867-1b658e0a4ec6",
    "scrolled": false
   },
   "outputs": [
    {
     "name": "stdout",
     "output_type": "stream",
     "text": [
      "Reached epoch 0 cost J = 0.133113\n",
      "Reached epoch 10 cost J = 0.0752246\n",
      "Reached epoch 20 cost J = 0.0703333\n",
      "Reached epoch 30 cost J = 0.0701873\n",
      "Reached epoch 40 cost J = 0.0700586\n",
      "Reached epoch 50 cost J = 0.0699357\n",
      "Reached epoch 60 cost J = 0.0698157\n",
      "Reached epoch 70 cost J = 0.0696972\n",
      "Reached epoch 80 cost J = 0.0695809\n",
      "Reached epoch 90 cost J = 0.0694662\n",
      "Reached epoch 100 cost J = 0.0693531\n",
      "Wall time: 2min 53s\n"
     ]
    }
   ],
   "source": [
    "%%time\n",
    "sess = tf.Session()\n",
    "sess.run(tf.global_variables_initializer())\n",
    "\n",
    "learning_r = 0.3\n",
    "minibatch_size = 50\n",
    "    \n",
    "cost_history = []\n",
    "for epoch in range(100+1):\n",
    "    #print (epoch, ' ', learning_r)\n",
    "    for i in range(0, train.shape[1], minibatch_size):\n",
    "        X_train_mini = train[:,i:i + minibatch_size]\n",
    "        y_train_mini = labels_[:,i:i + minibatch_size]\n",
    "\n",
    "        #sess.run(optimizer, feed_dict = {X: X_train_mini, Y: y_train_mini, learning_rate: learning_r})\n",
    "        sess.run(optimizer, feed_dict = {X: X_train_mini, Y: y_train_mini, learning_rate: learning_r})\n",
    "    cost_ = sess.run(cost, feed_dict={ X:train, Y: labels_})\n",
    "    cost_history = np.append(cost_history, cost_)\n",
    "    \n",
    "    if (epoch >= 2) & (epoch < 15):\n",
    "        learning_r = 5e-2\n",
    "    elif (epoch >= 15):\n",
    "        learning_r = 1e-3\n",
    "    \n",
    "    if (epoch % 10 == 0):\n",
    "        print(\"Reached epoch\",epoch,\"cost J =\", cost_)\n",
    "#        print(sess.run(global_step, feed_dict = { X:train, Y: labels_} ))"
   ]
  },
  {
   "cell_type": "code",
   "execution_count": null,
   "metadata": {
    "colab": {},
    "colab_type": "code",
    "id": "JsuRh_TF_Qcn",
    "outputId": "af6c46e9-1337-43e2-dd96-06ca8e0faabc"
   },
   "outputs": [
    {
     "name": "stdout",
     "output_type": "stream",
     "text": [
      "Accuracy: 0.860767\n"
     ]
    }
   ],
   "source": [
    "correct_predictions = tf.equal(tf.argmax(y_,0), tf.argmax(Y,0))\n",
    "accuracy = tf.reduce_mean(tf.cast(correct_predictions, \"float\"))\n",
    "print (\"Accuracy:\", accuracy.eval({X: train, \n",
    "                                   Y: labels_, learning_rate: 0.001}, session = sess))"
   ]
  },
  {
   "cell_type": "code",
   "execution_count": null,
   "metadata": {
    "colab": {},
    "colab_type": "code",
    "id": "brWqvpUA_Qcp",
    "outputId": "880bff50-4afa-4398-99bc-77060e7aeb53"
   },
   "outputs": [
    {
     "name": "stdout",
     "output_type": "stream",
     "text": [
      "Accuracy: 0.8527\n"
     ]
    }
   ],
   "source": [
    "correct_predictions = tf.equal(tf.argmax(y_,0), tf.argmax(Y,0))\n",
    "accuracy = tf.reduce_mean(tf.cast(correct_predictions, \"float\"))\n",
    "print (\"Accuracy:\", accuracy.eval({X: test, Y: labels_test_, learning_rate: 0.001}, session = sess))"
   ]
  },
  {
   "cell_type": "code",
   "execution_count": null,
   "metadata": {
    "colab": {},
    "colab_type": "code",
    "id": "SCNPu8AK_Qcs",
    "outputId": "8ffd3e93-185f-47a8-e5b4-95dec8a4c59f"
   },
   "outputs": [
    {
     "data": {
      "text/plain": [
       "(0, 100)"
      ]
     },
     "execution_count": 104,
     "metadata": {
      "tags": []
     },
     "output_type": "execute_result"
    },
    {
     "data": {
      "text/plain": [
       "<matplotlib.figure.Figure at 0x235005e9b38>"
      ]
     },
     "metadata": {
      "tags": []
     },
     "output_type": "display_data"
    },
    {
     "data": {
      "image/png": "[encoded data removed]",
      "text/plain": [
       "<matplotlib.figure.Figure at 0x235005e92e8>"
      ]
     },
     "metadata": {
      "tags": []
     },
     "output_type": "display_data"
    }
   ],
   "source": [
    "plt.rc('font', family='arial')\n",
    "plt.rc('xtick', labelsize='x-small')\n",
    "plt.rc('ytick', labelsize='x-small')\n",
    "    \n",
    "plt.tight_layout()\n",
    "\n",
    "fig = plt.figure(figsize=(3.9, 3.1))\n",
    "ax = fig.add_subplot(1, 1, 1)\n",
    "ax.plot(cost_historyL3, ls='-', color = 'black', \n",
    "        label = '3 layers, 14 neurons ($Q=11560$), Batch size = 30, \\n$\\gamma = step wise$')\n",
    "ax.plot(cost_history15, ls='--', color = 'black', \n",
    "        label = '1 layer, 15 neurons ($Q=11935$), Batch size = 50, \\n$\\gamma = 0.05$')\n",
    "ax.set_xlabel('epochs')\n",
    "ax.set_ylabel('Cost function $J$')\n",
    "plt.legend(bbox_to_anchor=(1.05, 1), loc=2, borderaxespad=0.)\n",
    "plt.xlim((0,100))"
   ]
  },
  {
   "cell_type": "code",
   "execution_count": null,
   "metadata": {
    "colab": {},
    "colab_type": "code",
    "id": "rYcYNCGC_Qct"
   },
   "outputs": [],
   "source": [
    "sess.close()"
   ]
  },
  {
   "cell_type": "markdown",
   "metadata": {
    "colab_type": "text",
    "id": "j-sNYMdd_Qcu"
   },
   "source": [
    "# 3 layers, 10 neurons"
   ]
  },
  {
   "cell_type": "code",
   "execution_count": null,
   "metadata": {
    "colab": {},
    "colab_type": "code",
    "id": "UhobWBOs_Qcu"
   },
   "outputs": [],
   "source": [
    "n_dim = 784\n",
    "tf.reset_default_graph()\n",
    "\n",
    "# Number of neurons in the layers\n",
    "n1 = 10 # Number of neurons in layer 1\n",
    "n2 = 10 # Number of neurons in layer 2 \n",
    "n3 = 10\n",
    "n4 = 10\n",
    "#n5 = 10 # Neurons for the softmax function\n",
    "\n",
    "cost_history = np.empty(shape=[0], dtype = float)\n",
    "learning_rate = tf.placeholder(tf.float32, shape=())\n",
    "\n",
    "stddev_f = 0.1\n",
    "\n",
    "tf.set_random_seed(5)\n",
    "\n",
    "X = tf.placeholder(tf.float32, [n_dim, None])\n",
    "Y = tf.placeholder(tf.float32, [10, None])\n",
    "W1 = tf.Variable(tf.truncated_normal([n1, n_dim], stddev=2.0 / np.sqrt(n_dim+n2))) \n",
    "b1 = tf.Variable(tf.constant(0.0, shape = [n1,1]) )\n",
    "W2 = tf.Variable(tf.truncated_normal([n2, n1], stddev=2.0 / np.sqrt(n1+n3))) \n",
    "b2 = tf.Variable(tf.constant(0.0, shape = [n2,1])) \n",
    "W3 = tf.Variable(tf.truncated_normal([n3,n2], stddev = 2.0 / np.sqrt(n2+n4)))\n",
    "b3 = tf.Variable(tf.constant(0.0, shape = [n3,1]))\n",
    "W4 = tf.Variable(tf.truncated_normal([n4,n3], stddev = 2.0 / np.sqrt(n3+1)))\n",
    "b4 = tf.Variable(tf.constant(0.0, shape = [n4,1]))\n",
    "#W5 = tf.Variable(tf.truncated_normal([n5,n4], stddev = stddev_f))\n",
    "#b5 = tf.Variable(tf.constant(stddev_f, shape = [n5,1]))\n",
    "                 \n",
    "# Let's build our network...\n",
    "Z1 = tf.nn.relu(tf.matmul(W1, X) + b1) # n1 x n_dim * n_dim x n_obs = n1 x n_obs\n",
    "Z2 = tf.nn.relu(tf.matmul(W2, Z1) + b2) # n2 x n1 * n1 * n_obs = n2 x n_obs\n",
    "Z3 = tf.nn.relu(tf.matmul(W3, Z2) + b3)\n",
    "Z4 = tf.matmul(W4, Z3) + b4\n",
    "#Z4 = tf.nn.relu(tf.matmul(W4, Z3) + b4)\n",
    "#Z5 = tf.matmul(W5,Z4) + b5\n",
    "y_ = tf.nn.softmax(Z4,0) # n2 x n_obs (10 x None)\n",
    "\n",
    "cost = - tf.reduce_mean(Y * tf.log(y_)+(1-Y) * tf.log(1-y_))\n",
    "optimizer = tf.train.GradientDescentOptimizer(learning_rate).minimize(cost)\n",
    "init = tf.global_variables_initializer()"
   ]
  },
  {
   "cell_type": "code",
   "execution_count": null,
   "metadata": {
    "colab": {},
    "colab_type": "code",
    "id": "fZN5hpZw_Qcw",
    "outputId": "08e44357-7c9d-4e8b-abaa-9cf3d182cbdd"
   },
   "outputs": [
    {
     "name": "stdout",
     "output_type": "stream",
     "text": [
      "Reached epoch 0 cost J = 0.302226\n",
      "Reached epoch 5 cost J = 0.137558\n",
      "Reached epoch 10 cost J = 0.108331\n",
      "Reached epoch 15 cost J = 0.100399\n",
      "Reached epoch 20 cost J = 0.0955192\n",
      "Reached epoch 25 cost J = 0.0916443\n",
      "Reached epoch 30 cost J = 0.0883506\n",
      "Reached epoch 35 cost J = 0.0856237\n",
      "Reached epoch 40 cost J = 0.0833771\n",
      "Reached epoch 45 cost J = 0.0814716\n",
      "Reached epoch 50 cost J = 0.0799088\n",
      "Reached epoch 55 cost J = 0.0792906\n",
      "Reached epoch 60 cost J = 0.0791393\n",
      "Reached epoch 65 cost J = 0.0789921\n",
      "Reached epoch 70 cost J = 0.0788486\n",
      "Reached epoch 75 cost J = 0.0787086\n",
      "Reached epoch 80 cost J = 0.0785708\n",
      "Reached epoch 85 cost J = 0.0784354\n",
      "Reached epoch 90 cost J = 0.0783033\n",
      "Reached epoch 95 cost J = 0.078173\n",
      "Reached epoch 100 cost J = 0.0780451\n",
      "Wall time: 2min 59s\n"
     ]
    }
   ],
   "source": [
    "%%time\n",
    "sess = tf.Session()\n",
    "sess.run(tf.global_variables_initializer())\n",
    "\n",
    "learning_r = 0.01\n",
    "minibatch_size = 50\n",
    "    \n",
    "cost_historyL3 = []\n",
    "for epoch in range(100+1):\n",
    "    #print (epoch, ' ', learning_r)\n",
    "    for i in range(0, train.shape[1], minibatch_size):\n",
    "        X_train_mini = train[:,i:i + minibatch_size]\n",
    "        y_train_mini = labels_[:,i:i + minibatch_size]\n",
    "\n",
    "        #sess.run(optimizer, feed_dict = {X: X_train_mini, Y: y_train_mini, learning_rate: learning_r})\n",
    "        sess.run(optimizer, feed_dict = {X: X_train_mini, Y: y_train_mini, learning_rate: learning_r})\n",
    "    cost_ = sess.run(cost, feed_dict={ X:train, Y: labels_})\n",
    "    cost_historyL3 = np.append(cost_historyL3, cost_)\n",
    "    \n",
    "    if (epoch >= 50) & (epoch < 100):\n",
    "        learning_r = 1e-3\n",
    "    #elif (epoch >= 10):\n",
    "    #    learning_r = 1e-3\n",
    "    \n",
    "    if (epoch % 5 == 0):\n",
    "        print(\"Reached epoch\",epoch,\"cost J =\", cost_)\n",
    "#        print(sess.run(global_step, feed_dict = { X:train, Y: labels_} ))"
   ]
  },
  {
   "cell_type": "code",
   "execution_count": null,
   "metadata": {
    "colab": {},
    "colab_type": "code",
    "id": "CdjwxHem_Qcx",
    "outputId": "fc3d5e03-2329-474e-de4b-b446b6c95629"
   },
   "outputs": [
    {
     "data": {
      "text/plain": [
       "(0, 100)"
      ]
     },
     "execution_count": 144,
     "metadata": {
      "tags": []
     },
     "output_type": "execute_result"
    },
    {
     "data": {
      "text/plain": [
       "<matplotlib.figure.Figure at 0x23500d90a58>"
      ]
     },
     "metadata": {
      "tags": []
     },
     "output_type": "display_data"
    },
    {
     "data": {
      "image/png": "[encoded data removed]",
      "text/plain": [
       "<matplotlib.figure.Figure at 0x23500d90a90>"
      ]
     },
     "metadata": {
      "tags": []
     },
     "output_type": "display_data"
    }
   ],
   "source": [
    "plt.rc('font', family='arial')\n",
    "plt.rc('xtick', labelsize='x-small')\n",
    "plt.rc('ytick', labelsize='x-small')\n",
    "    \n",
    "plt.tight_layout()\n",
    "\n",
    "fig = plt.figure(figsize=(3.9, 3.1))\n",
    "ax = fig.add_subplot(1, 1, 1)\n",
    "ax.plot(cost_historyL3, ls='-', color = 'black', \n",
    "        label = '3 layers, 10 neurons ($Q=8180$), Batch size = 30, \\n$\\gamma = step wise$')\n",
    "ax.plot(cost_history15, ls='--', color = 'black', \n",
    "        label = '1 layer, 15 neurons ($Q=11935$), Batch size = 50, \\n$\\gamma = 0.05$')\n",
    "ax.set_xlabel('epochs')\n",
    "ax.set_ylabel('Cost function $J$')\n",
    "plt.legend(bbox_to_anchor=(1.05, 1), loc=2, borderaxespad=0.)\n",
    "plt.xlim((0,100))"
   ]
  },
  {
   "cell_type": "markdown",
   "metadata": {
    "colab_type": "text",
    "id": "qkjDq3cC_Qcz"
   },
   "source": [
    "# 1 Layer with decaying learning rate"
   ]
  },
  {
   "cell_type": "code",
   "execution_count": null,
   "metadata": {
    "colab": {},
    "colab_type": "code",
    "id": "uY-QUzlP_Qc0"
   },
   "outputs": [],
   "source": [
    "n_dim = 784\n",
    "tf.reset_default_graph()\n",
    "\n",
    "# Number of neurons in the layers\n",
    "n1 = 100 # Number of neurons in layer 1\n",
    "n2 = 10 # Neurons for the softmax function\n",
    "\n",
    "cost_history = np.empty(shape=[1], dtype = float)\n",
    "\n",
    "stddev_f = 0.1\n",
    "\n",
    "X = tf.placeholder(tf.float32, [n_dim, None])\n",
    "Y = tf.placeholder(tf.float32, [10, None])\n",
    "W1 = tf.Variable(tf.truncated_normal([n1, n_dim], stddev=stddev_f)) \n",
    "b1 = tf.Variable(tf.constant(stddev_f, shape = [n1,1]) )\n",
    "W2 = tf.Variable(tf.truncated_normal([n2,n1], stddev = stddev_f))\n",
    "b2 = tf.Variable(tf.constant(stddev_f, shape = [n2,1]))\n",
    "                 \n",
    "# Let's build our network...\n",
    "Z1 = tf.nn.sigmoid(tf.matmul(W1, X) + b1) # n1 x n_dim * n_dim x n_obs = n1 x n_obs\n",
    "Z2 = tf.matmul(W2,Z1) + b2\n",
    "y_ = tf.nn.softmax(Z2,0) # n2 x n_obs (10 x None)\n",
    "\n",
    "\n",
    "global_step = tf.Variable(0, trainable=False)\n",
    "starter_learning_rate = 0.05\n",
    "learning_rate = tf.train.exponential_decay(starter_learning_rate, global_step,\n",
    "                                       1e5, 0.9, staircase=True)\n",
    "\n",
    "\n",
    "# Passing global_step to minimize() will increment it at each step.\n",
    "\n",
    "cost = - tf.reduce_mean(Y * tf.log(y_)+(1-Y) * tf.log(1-y_))\n",
    "\n",
    "learning_step = tf.train.GradientDescentOptimizer(learning_rate).minimize(cost, global_step=global_step)\n",
    "\n",
    "init = tf.global_variables_initializer()"
   ]
  },
  {
   "cell_type": "code",
   "execution_count": null,
   "metadata": {
    "colab": {},
    "colab_type": "code",
    "id": "39fFi8ae_Qc1",
    "scrolled": false
   },
   "outputs": [],
   "source": [
    "%%time\n",
    "sess = tf.Session()\n",
    "sess.run(tf.global_variables_initializer())\n",
    "\n",
    "#learning_r = 1e-5\n",
    "minibatch_size = 20\n",
    "    \n",
    "cost_history = []\n",
    "for epoch in range(200+1):\n",
    "    rnd_list = np.random.choice(train.shape[1], 60000)\n",
    "    train_red = train[:, rnd_list]\n",
    "    labels_red = labels_[:, rnd_list]\n",
    "    for i in range(0, train.shape[1], minibatch_size):\n",
    "        X_train_mini = train_red[:,i:i + minibatch_size]\n",
    "        y_train_mini = labels_red[:,i:i + minibatch_size]\n",
    "\n",
    "        #sess.run(optimizer, feed_dict = {X: X_train_mini, Y: y_train_mini, learning_rate: learning_r})\n",
    "        sess.run(learning_step, feed_dict = {X: X_train_mini, Y: y_train_mini})\n",
    "    cost_ = sess.run(cost, feed_dict={ X:train, Y: labels_})\n",
    "    cost_history = np.append(cost_history, cost_)\n",
    "    #if (epoch % 30 == 0):\n",
    "    #    learning_r = learning_r / 2.0\n",
    "\n",
    "    if (epoch % 10 == 0):\n",
    "        print(\"Reached epoch\",epoch,\"cost J =\", cost_)\n",
    "        print(sess.run(global_step, feed_dict = { X:train, Y: labels_} ))"
   ]
  },
  {
   "cell_type": "code",
   "execution_count": null,
   "metadata": {
    "colab": {},
    "colab_type": "code",
    "id": "Lcghpyt5_Qc3",
    "outputId": "1fffa369-1ff2-4ffb-eb4f-de252063fe1e"
   },
   "outputs": [
    {
     "name": "stdout",
     "output_type": "stream",
     "text": [
      "Accuracy: 0.1\n"
     ]
    }
   ],
   "source": [
    "correct_predictions = tf.equal(tf.argmax(y_,0), tf.argmax(Y,0))\n",
    "accuracy = tf.reduce_mean(tf.cast(correct_predictions, \"float\"))\n",
    "print (\"Accuracy:\", accuracy.eval({X: train, Y: labels_, learning_rate: 0.001}, session = sess))"
   ]
  },
  {
   "cell_type": "code",
   "execution_count": null,
   "metadata": {
    "colab": {},
    "colab_type": "code",
    "id": "fi_04chc_Qc4",
    "outputId": "6da3fdae-52a8-4f07-dc71-02b4171ea4a5"
   },
   "outputs": [
    {
     "name": "stdout",
     "output_type": "stream",
     "text": [
      "Accuracy: 0.1\n"
     ]
    }
   ],
   "source": [
    "correct_predictions = tf.equal(tf.argmax(y_,0), tf.argmax(Y,0))\n",
    "accuracy = tf.reduce_mean(tf.cast(correct_predictions, \"float\"))\n",
    "print (\"Accuracy:\", accuracy.eval({X: test, Y: labels_test_, learning_rate: 0.001}, session = sess))"
   ]
  },
  {
   "cell_type": "code",
   "execution_count": null,
   "metadata": {
    "colab": {},
    "colab_type": "code",
    "id": "_pTeqRdu_Qc5",
    "outputId": "41d9c594-323e-4337-dac2-01041515a8a5"
   },
   "outputs": [
    {
     "data": {
      "text/plain": [
       "Text(0,0.5,'Cost function $J$')"
      ]
     },
     "execution_count": 118,
     "metadata": {
      "tags": []
     },
     "output_type": "execute_result"
    },
    {
     "data": {
      "text/plain": [
       "<matplotlib.figure.Figure at 0x1ec28e32e10>"
      ]
     },
     "metadata": {
      "tags": []
     },
     "output_type": "display_data"
    },
    {
     "data": {
      "image/png": "[encoded data removed]",
      "text/plain": [
       "<matplotlib.figure.Figure at 0x1ec28e32898>"
      ]
     },
     "metadata": {
      "tags": []
     },
     "output_type": "display_data"
    }
   ],
   "source": [
    "plt.rc('font', family='arial')\n",
    "plt.rc('xtick', labelsize='x-small')\n",
    "plt.rc('ytick', labelsize='x-small')\n",
    "    \n",
    "plt.tight_layout()\n",
    "\n",
    "fig = plt.figure(figsize=(3.9, 3.1))\n",
    "ax = fig.add_subplot(1, 1, 1)\n",
    "#ax.plot(cost_history1, ls='solid', color = 'black')\n",
    "ax.plot(cost_history, ls='-', color = 'black')\n",
    "ax.set_xlabel('epochs')\n",
    "ax.set_ylabel('Cost function $J$')\n",
    "\n",
    "#fig.savefig('Figure_1-19'+'.pdf', format='pdf', dpi=300,bbox_inches='tight')\n",
    "#fig.savefig('Figure_3-16'+'.png', format='png', dpi=300,bbox_inches='tight')\n",
    "\n",
    "#plt.figure(figsize=(8,6))\n",
    "#plt.title(\"Cost Function vs. epoch number\")\n",
    "#plt.xlabel(\"epochs\")\n",
    "#plt.xlim((0,1000))\n",
    "#plt.ylabel(\"Cost function $J$\")\n",
    "#plt.plot(range(len(cost_history)), cost_history)"
   ]
  },
  {
   "cell_type": "code",
   "execution_count": null,
   "metadata": {
    "colab": {},
    "colab_type": "code",
    "id": "snDQUxDG_Qc6"
   },
   "outputs": [],
   "source": [
    "sess.close()"
   ]
  },
  {
   "cell_type": "markdown",
   "metadata": {
    "colab_type": "text",
    "id": "zICvH_n9_Qc7"
   },
   "source": [
    "# Function to create a layer"
   ]
  },
  {
   "cell_type": "code",
   "execution_count": null,
   "metadata": {
    "colab": {},
    "colab_type": "code",
    "id": "XCK1fJbs_Qc7"
   },
   "outputs": [],
   "source": [
    "def create_layer (X, n, activation):\n",
    "    ndim = int(X.shape[0])\n",
    "    stddev = 2.0 / np.sqrt(ndim)\n",
    "    initialization = tf.truncated_normal((n, ndim), stddev = stddev)\n",
    "    W = tf.Variable(initialization)\n",
    "    b = tf.Variable(tf.zeros([n,1]))\n",
    "    Z = tf.matmul(W,X)+b\n",
    "    return activation(Z)"
   ]
  },
  {
   "cell_type": "code",
   "execution_count": null,
   "metadata": {
    "colab": {},
    "colab_type": "code",
    "id": "eGaHaF1R_Qc8"
   },
   "outputs": [],
   "source": [
    "tf.reset_default_graph()\n",
    "\n",
    "n_dim = 784\n",
    "n1 = 20\n",
    "n2 = 20\n",
    "n3 = 20\n",
    "n4 = 20\n",
    "n_outputs = 10\n",
    "\n",
    "tf.set_random_seed(5)\n",
    "\n",
    "X = tf.placeholder(tf.float32, [n_dim, None])\n",
    "Y = tf.placeholder(tf.float32, [10, None])\n",
    "\n",
    "learning_rate = tf.placeholder(tf.float32, shape=())\n",
    "\n",
    "hidden1 = create_layer (X, n1, activation = tf.nn.relu)\n",
    "hidden2 = create_layer (hidden1, n2, activation = tf.nn.relu)\n",
    "hidden3 = create_layer (hidden2, n3, activation = tf.nn.relu)\n",
    "hidden4 = create_layer (hidden3, n4, activation = tf.nn.relu)\n",
    "outputs = create_layer (hidden4, n_outputs, activation = tf.identity)\n",
    "y_ = tf.nn.softmax(outputs)\n",
    "\n",
    "cost = - tf.reduce_mean(Y * tf.log(y_)+(1-Y) * tf.log(1-y_))\n",
    "\n",
    "optimizer = tf.train.GradientDescentOptimizer(learning_rate).minimize(cost)"
   ]
  },
  {
   "cell_type": "code",
   "execution_count": null,
   "metadata": {
    "colab": {},
    "colab_type": "code",
    "id": "Al8i3zGW_Qc8"
   },
   "outputs": [],
   "source": [
    "def model(minibatch_size, training_epochs, features, classes, logging_step = 100, learning_r = 0.001):\n",
    "    sess = tf.Session()\n",
    "    sess.run(tf.global_variables_initializer())\n",
    "\n",
    "    cost_history = []\n",
    "    for epoch in range(training_epochs+1):\n",
    "        for i in range(0, features.shape[1], minibatch_size):\n",
    "            X_train_mini = features[:,i:i + minibatch_size]\n",
    "            y_train_mini = classes[:,i:i + minibatch_size]\n",
    "\n",
    "            sess.run(optimizer, feed_dict = {X: X_train_mini, Y: y_train_mini, learning_rate: learning_r})\n",
    "        cost_ = sess.run(cost, feed_dict={ X:features, Y: classes, learning_rate: learning_r})\n",
    "        cost_history = np.append(cost_history, cost_)\n",
    "\n",
    "        if (epoch % logging_step == 0):\n",
    "                print(\"Reached epoch\",epoch,\"cost J =\", cost_)\n",
    "                \n",
    "    return sess, cost_history"
   ]
  },
  {
   "cell_type": "markdown",
   "metadata": {
    "colab_type": "text",
    "id": "BmA12asZ_Qc9"
   },
   "source": [
    "## Plain GD"
   ]
  },
  {
   "cell_type": "code",
   "execution_count": null,
   "metadata": {
    "colab": {},
    "colab_type": "code",
    "id": "KyU-QNaN_Qc9",
    "outputId": "228a710a-9740-4c4c-d735-ed7a15351ad2",
    "scrolled": false
   },
   "outputs": [
    {
     "name": "stdout",
     "output_type": "stream",
     "text": [
      "Reached epoch 0 cost J = 1.00874\n",
      "Reached epoch 10 cost J = 0.93706\n",
      "Reached epoch 20 cost J = 0.927668\n",
      "Reached epoch 30 cost J = 0.923309\n",
      "Reached epoch 40 cost J = 0.920409\n",
      "Reached epoch 50 cost J = 0.918113\n",
      "Reached epoch 60 cost J = 0.916245\n",
      "Reached epoch 70 cost J = 0.914733\n",
      "Reached epoch 80 cost J = 0.913462\n",
      "Reached epoch 90 cost J = 0.912368\n",
      "Reached epoch 100 cost J = 0.911416\n"
     ]
    }
   ],
   "source": [
    "sess, cost_history = model (50, 100, train, labels_, logging_step = 10, learning_r = 0.01)"
   ]
  },
  {
   "cell_type": "code",
   "execution_count": null,
   "metadata": {
    "colab": {},
    "colab_type": "code",
    "id": "Eis7EYEU_Qc-",
    "outputId": "eca8889d-3812-475b-ac3c-1a5cbf50da42"
   },
   "outputs": [
    {
     "name": "stdout",
     "output_type": "stream",
     "text": [
      "Accuracy: 0.868317\n"
     ]
    }
   ],
   "source": [
    "correct_predictions = tf.equal(tf.argmax(y_,0), tf.argmax(Y,0))\n",
    "accuracy = tf.reduce_mean(tf.cast(correct_predictions, \"float\"))\n",
    "print (\"Accuracy:\", accuracy.eval({X: train, Y: labels_, learning_rate: 0.001}, session = sess))"
   ]
  },
  {
   "cell_type": "code",
   "execution_count": null,
   "metadata": {
    "colab": {},
    "colab_type": "code",
    "id": "x-ZKepQF_Qc_",
    "outputId": "1289fb7d-cbd3-4766-a30e-cd7b1b6fe3ad"
   },
   "outputs": [
    {
     "name": "stdout",
     "output_type": "stream",
     "text": [
      "Accuracy: 0.8606\n"
     ]
    }
   ],
   "source": [
    "correct_predictions = tf.equal(tf.argmax(y_,0), tf.argmax(Y,0))\n",
    "accuracy = tf.reduce_mean(tf.cast(correct_predictions, \"float\"))\n",
    "print (\"Accuracy:\", accuracy.eval({X: test, Y: labels_test_, learning_rate: 0.001}, session = sess))"
   ]
  },
  {
   "cell_type": "markdown",
   "metadata": {
    "colab_type": "text",
    "id": "2_u-HXdi_QdA"
   },
   "source": [
    "## Construction"
   ]
  },
  {
   "cell_type": "code",
   "execution_count": null,
   "metadata": {
    "colab": {},
    "colab_type": "code",
    "id": "gD0kRdmw_QdA"
   },
   "outputs": [],
   "source": [
    "n_dim = 784\n",
    "n1 = 20\n",
    "n2 = 20\n",
    "n3 = 20\n",
    "n4 = 20\n",
    "n_outputs = 10\n",
    "\n",
    "tf.reset_default_graph()\n",
    "\n",
    "tf.set_random_seed(5)\n",
    "\n",
    "X = tf.placeholder(tf.float32, [n_dim, None])\n",
    "Y = tf.placeholder(tf.float32, [10, None])\n",
    "\n",
    "learning_rate_value = tf.placeholder(tf.float32, shape=())\n",
    "\n",
    "initial_learning_rate = 0.1\n",
    "decay_steps = 1000\n",
    "nu = 0.1\n",
    "global_step = tf.Variable(0, trainable = False)\n",
    "learning_rate_decay = tf.train.inverse_time_decay(initial_learning_rate, global_step, decay_steps, nu)\n",
    "learning_rate_value = learning_rate_decay\n",
    "\n",
    "hidden1 = create_layer (X, n1, activation = tf.nn.relu)\n",
    "hidden2 = create_layer (hidden1, n2, activation = tf.nn.relu)\n",
    "hidden3 = create_layer (hidden2, n3, activation = tf.nn.relu)\n",
    "hidden4 = create_layer (hidden3, n4, activation = tf.nn.relu)\n",
    "outputs = create_layer (hidden4, n_outputs, activation = tf.identity)\n",
    "y_ = tf.nn.softmax(outputs)\n",
    "\n",
    "cost = - tf.reduce_mean(Y * tf.log(y_)+(1-Y) * tf.log(1-y_))\n",
    "optimizer = tf.train.GradientDescentOptimizer(learning_rate_decay).minimize(cost, global_step = global_step)"
   ]
  },
  {
   "cell_type": "code",
   "execution_count": null,
   "metadata": {
    "colab": {},
    "colab_type": "code",
    "id": "yy46r5fy_QdB"
   },
   "outputs": [],
   "source": [
    "def model_nat_exp(minibatch_size, training_epochs, features, classes, logging_step = 100, learning_r = 0.001):\n",
    "    sess = tf.Session()\n",
    "    sess.run(tf.global_variables_initializer())\n",
    "    \n",
    "    print('Initial Learning rate: %f' % (sess.run(learning_rate_value)))\n",
    "\n",
    "    cost_history = []\n",
    "    for epoch in range(training_epochs+1):\n",
    "        for i in range(0, features.shape[1], minibatch_size):\n",
    "            X_train_mini = features[:,i:i + minibatch_size]\n",
    "            y_train_mini = classes[:,i:i + minibatch_size]\n",
    "\n",
    "            sess.run(optimizer, feed_dict = {X: X_train_mini, Y: y_train_mini})\n",
    "        cost_ = sess.run(cost, feed_dict={ X:features, Y: classes})\n",
    "        cost_history = np.append(cost_history, cost_)\n",
    "\n",
    "        if (epoch % logging_step == 0):\n",
    "                print(\"Reached epoch\",epoch,\"cost J =\", cost_)\n",
    "                print('Learning rate: %f' % (sess.run(learning_rate_value)), 'Iterations: %d' % (sess.run(global_step)))\n",
    "#                print('Iterations: %f' % (sess.run(global_step)))\n",
    "                \n",
    "    return sess, cost_history"
   ]
  },
  {
   "cell_type": "code",
   "execution_count": null,
   "metadata": {
    "colab": {},
    "colab_type": "code",
    "id": "3PLo_QFo_QdC",
    "outputId": "1c0bd89a-8b1b-4053-8885-4b4bb2b54f55"
   },
   "outputs": [
    {
     "name": "stdout",
     "output_type": "stream",
     "text": [
      "Initial Learning rate: 0.100000\n",
      "Reached epoch 0 cost J = 0.946677\n",
      "Learning rate: 0.089286 Iterations: 1200\n",
      "Reached epoch 10 cost J = 0.912747\n",
      "Learning rate: 0.043103 Iterations: 13200\n",
      "Reached epoch 20 cost J = 0.909006\n",
      "Learning rate: 0.028409 Iterations: 25200\n",
      "Reached epoch 30 cost J = 0.907327\n",
      "Learning rate: 0.021186 Iterations: 37200\n",
      "Reached epoch 40 cost J = 0.906332\n",
      "Learning rate: 0.016892 Iterations: 49200\n",
      "Reached epoch 50 cost J = 0.90562\n",
      "Learning rate: 0.014045 Iterations: 61200\n",
      "Reached epoch 60 cost J = 0.905084\n",
      "Learning rate: 0.012019 Iterations: 73200\n",
      "Reached epoch 70 cost J = 0.904667\n",
      "Learning rate: 0.010504 Iterations: 85200\n",
      "Reached epoch 80 cost J = 0.904326\n",
      "Learning rate: 0.009328 Iterations: 97200\n",
      "Reached epoch 90 cost J = 0.904037\n",
      "Learning rate: 0.008389 Iterations: 109200\n",
      "Reached epoch 100 cost J = 0.903785\n",
      "Learning rate: 0.007622 Iterations: 121200\n"
     ]
    }
   ],
   "source": [
    "sess_decay, cost_history_decay = model_nat_exp (50, 100, train, labels_, logging_step = 10, learning_r = 0.01)"
   ]
  },
  {
   "cell_type": "code",
   "execution_count": null,
   "metadata": {
    "colab": {},
    "colab_type": "code",
    "id": "PsQvhKqv_QdD",
    "scrolled": false
   },
   "outputs": [],
   "source": [
    "correct_predictions = tf.equal(tf.argmax(y_,0), tf.argmax(Y,0))\n",
    "accuracy = tf.reduce_mean(tf.cast(correct_predictions, \"float\"))\n",
    "print (\"Accuracy:\", accuracy.eval({X: train, Y: labels_}, session = sess_decay))"
   ]
  }
 ],
 "metadata": {
  "colab": {
   "include_colab_link": true,
   "name": "Week 5 - Zalando dataset.ipynb",
   "provenance": [],
   "version": "0.3.2"
  },
  "kernelspec": {
   "display_name": "Python 3",
   "language": "python",
   "name": "python3"
  },
  "language_info": {
   "codemirror_mode": {
    "name": "ipython",
    "version": 3
   },
   "file_extension": ".py",
   "mimetype": "text/x-python",
   "name": "python",
   "nbconvert_exporter": "python",
   "pygments_lexer": "ipython3",
   "version": "3.7.2"
  }
 },
 "nbformat": 4,
 "nbformat_minor": 2
}
