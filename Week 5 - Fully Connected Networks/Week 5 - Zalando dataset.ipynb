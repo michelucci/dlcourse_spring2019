{
  "nbformat": 4,
  "nbformat_minor": 0,
  "metadata": {
    "colab": {
      "name": "Week 5 - Zalando dataset.ipynb",
      "version": "0.3.2",
      "provenance": [],
      "include_colab_link": true
    },
    "kernelspec": {
      "display_name": "Python 3",
      "language": "python",
      "name": "python3"
    }
  },
  "cells": [
    {
      "cell_type": "markdown",
      "metadata": {
        "id": "view-in-github",
        "colab_type": "text"
      },
      "source": [
        "<a href=\"https://colab.research.google.com/github/michelucci/zhaw-dlcourse-spring2019/blob/master/Week%205%20-%20Fully%20Connected%20Networks/Week%205%20-%20Zalando%20dataset.ipynb\" target=\"_parent\"><img src=\"https://colab.research.google.com/assets/colab-badge.svg\" alt=\"Open In Colab\"/></a>"
      ]
    },
    {
      "metadata": {
        "id": "bOZdemGV_QaS",
        "colab_type": "text"
      },
      "cell_type": "markdown",
      "source": [
        "# Neural Networks and Deep Learning for Life Sciences and Health Applications - An introductory course about theoretical fundamentals, case studies and implementations in python and tensorflow"
      ]
    },
    {
      "metadata": {
        "id": "8tIQTnVm_QaU",
        "colab_type": "text"
      },
      "cell_type": "markdown",
      "source": [
        "(C) Umberto Michelucci 2018 - umberto.michelucci@gmail.com \n",
        "\n",
        "github repository: https://github.com/michelucci/zhaw-dlcourse-spring2019\n",
        "\n",
        "Spring Semester 2019"
      ]
    },
    {
      "metadata": {
        "id": "YwhycNB-_QaV",
        "colab_type": "text"
      },
      "cell_type": "markdown",
      "source": [
        "# Zalando dataset\n",
        "\n",
        "https://www.kaggle.com/zalando-research/fashionmnist/data"
      ]
    },
    {
      "metadata": {
        "id": "Tsvw0FZA_QaV",
        "colab_type": "text"
      },
      "cell_type": "markdown",
      "source": [
        "**Context**\n",
        "Fashion-MNIST is a dataset of Zalando's article images—consisting of a training set of 60,000 examples and a test set of 10,000 examples. Each example is a 28x28 grayscale image, associated with a label from 10 classes. Zalando intends Fashion-MNIST to serve as a direct drop-in replacement for the original MNIST dataset for benchmarking machine learning algorithms. It shares the same image size and structure of training and testing splits.\n",
        "\n",
        "The original MNIST dataset contains a lot of handwritten digits. Members of the AI/ML/Data Science community love this dataset and use it as a benchmark to validate their algorithms. In fact, MNIST is often the first dataset researchers try. \"If it doesn't work on MNIST, it won't work at all\", they said. \"Well, if it does work on MNIST, it may still fail on others.\"\n",
        "Zalando seeks to replace the original MNIST dataset\n",
        "\n",
        "**Content**\n",
        "Each image is 28 pixels in height and 28 pixels in width, for a total of 784 pixels in total. Each pixel has a single pixel-value associated with it, indicating the lightness or darkness of that pixel, with higher numbers meaning darker. This pixel-value is an integer between 0 and 255. The training and test data sets have 785 columns. The first column consists of the class labels (see above), and represents the article of clothing. The rest of the columns contain the pixel-values of the associated image.\n",
        "\n",
        "To locate a pixel on the image, suppose that we have decomposed x as x = i * 28 + j, where i and j are integers between 0 and 27. The pixel is located on row i and column j of a 28 x 28 matrix. \n",
        "For example, pixel31 indicates the pixel that is in the fourth column from the left, and the second row from the top, as in the ascii-diagram below. \n",
        "\n",
        "**Labels**\n",
        "Each training and test example is assigned to one of the following labels:\n",
        "- 0 T-shirt/top\n",
        "- 1 Trouser\n",
        "- 2 Pullover\n",
        "- 3 Dress\n",
        "- 4 Coat\n",
        "- 5 Sandal\n",
        "- 6 Shirt\n",
        "- 7 Sneaker\n",
        "- 8 Bag\n",
        "- 9 Ankle boot \n",
        "\n",
        "**TL;DR**\n",
        "Each row is a separate image \n",
        "Column 1 is the class label. \n",
        "Remaining columns are pixel numbers (784 total). \n",
        "Each value is the darkness of the pixel (1 to 255)\n",
        "\n",
        "**Acknowledgements**\n",
        "Original dataset was downloaded from https://github.com/zalandoresearch/fashion-mnist\n",
        "Dataset was converted to CSV with this script: https://pjreddie.com/projects/mnist-in-csv/\n",
        "\n",
        "**License**\n",
        "The MIT License (MIT) Copyright © [2017] Zalando SE, https://tech.zalando.com\n",
        "Permission is hereby granted, free of charge, to any person obtaining a copy of this software and associated documentation files (the “Software”), to deal in the Software without restriction, including without limitation the rights to use, copy, modify, merge, publish, distribute, sublicense, and/or sell copies of the Software, and to permit persons to whom the Software is furnished to do so, subject to the following conditions:\n",
        "The above copyright notice and this permission notice shall be included in all copies or substantial portions of the Software.\n",
        "THE SOFTWARE IS PROVIDED “AS IS”, WITHOUT WARRANTY OF ANY KIND, EXPRESS OR IMPLIED, INCLUDING BUT NOT LIMITED TO THE WARRANTIES OF MERCHANTABILITY, FITNESS FOR A PARTICULAR PURPOSE AND NONINFRINGEMENT. IN NO EVENT SHALL THE AUTHORS OR COPYRIGHT HOLDERS BE LIABLE FOR ANY CLAIM, DAMAGES OR OTHER LIABILITY, WHETHER IN AN ACTION OF CONTRACT, TORT OR OTHERWISE, ARISING FROM, OUT OF OR IN CONNECTION WITH THE SOFTWARE OR THE USE OR OTHER DEALINGS IN THE SOFTWARE."
      ]
    },
    {
      "metadata": {
        "id": "86dNmPTQ_QaW",
        "colab_type": "code",
        "colab": {}
      },
      "cell_type": "code",
      "source": [
        "import pandas as pd\n",
        "import numpy as np\n",
        "import tensorflow as tf\n",
        "\n",
        "%matplotlib inline\n",
        "\n",
        "import matplotlib\n",
        "import matplotlib.pyplot as plt\n",
        "\n",
        "from random import *"
      ],
      "execution_count": 0,
      "outputs": []
    },
    {
      "metadata": {
        "id": "ACyx6UI1_QaZ",
        "colab_type": "code",
        "colab": {}
      },
      "cell_type": "code",
      "source": [
        "def get_label_name(idx):\n",
        "    if (idx == 0):\n",
        "        return '(0) T-shirt/top'\n",
        "    elif (idx == 1):\n",
        "        return '(1) Trouser'\n",
        "    elif (idx == 2):\n",
        "        return '(2) Pullover'\n",
        "    elif (idx == 3):\n",
        "        return '(3) Dress'\n",
        "    elif (idx == 4):\n",
        "        return '(4) Coat'\n",
        "    elif (idx == 5):\n",
        "        return '(5) Sandal'\n",
        "    elif (idx == 6):\n",
        "        return '(6) Shirt'\n",
        "    elif (idx == 7):\n",
        "        return '(7) Sneaker'\n",
        "    elif (idx == 8):\n",
        "        return '(8) Bag'\n",
        "    elif (idx == 9):\n",
        "        return '(9) Ankle boot'"
      ],
      "execution_count": 0,
      "outputs": []
    },
    {
      "metadata": {
        "id": "uMBnpsBA_Qac",
        "colab_type": "code",
        "colab": {}
      },
      "cell_type": "code",
      "source": [
        "def get_random_element_with_label (data, lbls, lbl):\n",
        "    subset = data[lbls == lbl]\n",
        "    return np.random.choice(subset)"
      ],
      "execution_count": 0,
      "outputs": []
    },
    {
      "metadata": {
        "id": "t9fwM20f_Qae",
        "colab_type": "text"
      },
      "cell_type": "markdown",
      "source": [
        "# REMEMBER: unzip the zip files before running the next cell"
      ]
    },
    {
      "metadata": {
        "scrolled": false,
        "id": "wfWNFUin_Qaf",
        "colab_type": "code",
        "colab": {}
      },
      "cell_type": "code",
      "source": [
        "data_train = pd.read_csv('fashion-mnist_train.csv', header = 0)\n",
        "data_test = pd.read_csv('fashion-mnist_test.csv', header = 0)"
      ],
      "execution_count": 0,
      "outputs": []
    },
    {
      "metadata": {
        "id": "ODWaaLRo_Qah",
        "colab_type": "code",
        "colab": {},
        "outputId": "eafdaa76-22ac-49e1-f18e-f1bb1851210d"
      },
      "cell_type": "code",
      "source": [
        "%%timeit\n",
        "data_train_np = np.loadtxt('fashion-mnist_train.csv',delimiter=',',skiprows=1)  "
      ],
      "execution_count": 0,
      "outputs": [
        {
          "output_type": "stream",
          "text": [
            "1min 23s ± 4.1 s per loop (mean ± std. dev. of 7 runs, 1 loop each)\n"
          ],
          "name": "stdout"
        }
      ]
    },
    {
      "metadata": {
        "id": "R4ecmlI5_Qal",
        "colab_type": "code",
        "colab": {},
        "outputId": "eb8a8754-a620-4c8c-9b1d-77a41a8dc6a9"
      },
      "cell_type": "code",
      "source": [
        "len(data_train)"
      ],
      "execution_count": 0,
      "outputs": [
        {
          "output_type": "execute_result",
          "data": {
            "text/plain": [
              "60000"
            ]
          },
          "metadata": {
            "tags": []
          },
          "execution_count": 5
        }
      ]
    },
    {
      "metadata": {
        "id": "xEJHoZOS_Qaq",
        "colab_type": "code",
        "colab": {},
        "outputId": "6b8a0741-bbaf-4014-e594-4c3924c5b476"
      },
      "cell_type": "code",
      "source": [
        "data_train.shape"
      ],
      "execution_count": 0,
      "outputs": [
        {
          "output_type": "execute_result",
          "data": {
            "text/plain": [
              "(60000, 785)"
            ]
          },
          "metadata": {
            "tags": []
          },
          "execution_count": 6
        }
      ]
    },
    {
      "metadata": {
        "id": "Rb3cLJNh_Qas",
        "colab_type": "text"
      },
      "cell_type": "markdown",
      "source": [
        "Let's test our function to get a random element from a subset"
      ]
    },
    {
      "metadata": {
        "id": "zRZoHqfh_Qat",
        "colab_type": "text"
      },
      "cell_type": "markdown",
      "source": [
        "# Train dataset preparation"
      ]
    },
    {
      "metadata": {
        "id": "AGWUTJQu_Qau",
        "colab_type": "code",
        "colab": {}
      },
      "cell_type": "code",
      "source": [
        "labels = data_train['label'].values.reshape(1, 60000)\n",
        "\n",
        "labels_ = np.zeros((60000, 10))\n",
        "labels_[np.arange(60000), labels] = 1\n",
        "labels_ = labels_.transpose()\n",
        "\n",
        "\n",
        "train = data_train.drop('label', axis=1).transpose()"
      ],
      "execution_count": 0,
      "outputs": []
    },
    {
      "metadata": {
        "id": "u8I2ZKUO_Qaw",
        "colab_type": "code",
        "colab": {},
        "outputId": "534cb35f-ad81-4bc2-938d-b164c7c6dcc0"
      },
      "cell_type": "code",
      "source": [
        "print(labels_.shape)\n",
        "print(train.shape)"
      ],
      "execution_count": 0,
      "outputs": [
        {
          "output_type": "stream",
          "text": [
            "(10, 60000)\n",
            "(784, 60000)\n"
          ],
          "name": "stdout"
        }
      ]
    },
    {
      "metadata": {
        "id": "MFTC5IQG_Qaz",
        "colab_type": "text"
      },
      "cell_type": "markdown",
      "source": [
        "# Test dataset preparation"
      ]
    },
    {
      "metadata": {
        "id": "DLoWZMv4_Qaz",
        "colab_type": "code",
        "colab": {}
      },
      "cell_type": "code",
      "source": [
        "labels_test = data_test['label'].values.reshape(1, 10000)\n",
        "\n",
        "labels_test_ = np.zeros((10000, 10))\n",
        "labels_test_[np.arange(10000), labels_test] = 1\n",
        "labels_test_ = labels_test_.transpose()\n",
        "\n",
        "\n",
        "test = data_test.drop('label', axis=1).transpose()"
      ],
      "execution_count": 0,
      "outputs": []
    },
    {
      "metadata": {
        "id": "-W6LLEZF_Qa2",
        "colab_type": "code",
        "colab": {},
        "outputId": "c7de6b11-ac63-4397-c9a6-4f9f64d90d6f"
      },
      "cell_type": "code",
      "source": [
        "labels_test_.shape"
      ],
      "execution_count": 0,
      "outputs": [
        {
          "output_type": "execute_result",
          "data": {
            "text/plain": [
              "(10, 10000)"
            ]
          },
          "metadata": {
            "tags": []
          },
          "execution_count": 10
        }
      ]
    },
    {
      "metadata": {
        "id": "-xhp277p_Qa5",
        "colab_type": "text"
      },
      "cell_type": "markdown",
      "source": [
        "### Normalization of data"
      ]
    },
    {
      "metadata": {
        "id": "6Hdtdd3l_Qa6",
        "colab_type": "text"
      },
      "cell_type": "markdown",
      "source": [
        "Let's normalize the training data dividing by 255.0 to get the values between 0 and 1."
      ]
    },
    {
      "metadata": {
        "id": "kzoqBjoo_Qa7",
        "colab_type": "code",
        "colab": {}
      },
      "cell_type": "code",
      "source": [
        "train = np.array(train / 255.0)\n",
        "test = np.array(test / 255.0)\n",
        "labels_ = np.array(labels_)\n",
        "labels_test_ = np.array(labels_test_)"
      ],
      "execution_count": 0,
      "outputs": []
    },
    {
      "metadata": {
        "id": "huE6F_-x_Qa9",
        "colab_type": "text"
      },
      "cell_type": "markdown",
      "source": [
        "### One example of the images"
      ]
    },
    {
      "metadata": {
        "id": "3q8fr7Ff_Qa-",
        "colab_type": "code",
        "colab": {},
        "outputId": "d067de64-f2c7-4678-9c53-48b52f721cb4"
      },
      "cell_type": "code",
      "source": [
        "idx = 5\n",
        "plt.imshow(train[:,idx].reshape(28,28), cmap = matplotlib.cm.binary, interpolation = \"nearest\")\n",
        "plt.axis(\"on\")\n",
        "plt.title(get_label_name(labels[:,idx]))\n",
        "plt.show()"
      ],
      "execution_count": 0,
      "outputs": [
        {
          "output_type": "display_data",
          "data": {
            "image/png": "[encoded data removed]",
            "text/plain": [
              "<matplotlib.figure.Figure at 0x2afb0aa3b00>"
            ]
          },
          "metadata": {
            "tags": []
          }
        }
      ]
    },
    {
      "metadata": {
        "id": "_84eT0qO_QbD",
        "colab_type": "text"
      },
      "cell_type": "markdown",
      "source": [
        "# Let's check some random sample of the data"
      ]
    },
    {
      "metadata": {
        "id": "ca0wB6qH_QbF",
        "colab_type": "text"
      },
      "cell_type": "markdown",
      "source": [
        "THe following function will return one numpy array (one column) with an example of a choosen label."
      ]
    },
    {
      "metadata": {
        "id": "J07tHRn3_QbG",
        "colab_type": "code",
        "colab": {}
      },
      "cell_type": "code",
      "source": [
        "def get_random_element_with_label (data, lbls, lbl):\n",
        "    tmp = lbls == lbl\n",
        "    subset = data[:,tmp.flatten()]\n",
        "    return subset[:,randint(1,subset.shape[1])]"
      ],
      "execution_count": 0,
      "outputs": []
    },
    {
      "metadata": {
        "id": "X1yfNyte_QbJ",
        "colab_type": "text"
      },
      "cell_type": "markdown",
      "source": [
        "## Let's create an array with a column for each label (one-hot encoding)"
      ]
    },
    {
      "metadata": {
        "id": "56y9iUU0_QbK",
        "colab_type": "text"
      },
      "cell_type": "markdown",
      "source": [
        "The following code create a numpy array where in column 0 you will find an example of label 0, in column 1 of label 1 and so on."
      ]
    },
    {
      "metadata": {
        "id": "0Pp-v0LN_QbK",
        "colab_type": "code",
        "colab": {}
      },
      "cell_type": "code",
      "source": [
        "labels_overview = np.empty([784,10])\n",
        "for i in range (0,10):\n",
        "    col = get_random_element_with_label(train, labels, i)\n",
        "    labels_overview[:,i] = col"
      ],
      "execution_count": 0,
      "outputs": []
    },
    {
      "metadata": {
        "id": "gQSTjbBR_QbM",
        "colab_type": "text"
      },
      "cell_type": "markdown",
      "source": [
        "Now let's plot one example of each type (label)"
      ]
    },
    {
      "metadata": {
        "id": "Pyw8haOL_QbN",
        "colab_type": "code",
        "colab": {},
        "outputId": "f63181e0-12c0-4df7-e3df-69081671e9f6"
      },
      "cell_type": "code",
      "source": [
        "f = plt.figure(figsize=(15,15));\n",
        "count = 1\n",
        "for i in range(0,10):\n",
        "    plt.subplot(5,2,count)\n",
        "    count = count + 1\n",
        "    plt.subplots_adjust(hspace=0.5)\n",
        "    plt.title(get_label_name(i))\n",
        "    some_digit_image = labels_overview[:,i].reshape(28,28)\n",
        "    plt.imshow(some_digit_image, cmap = matplotlib.cm.binary, interpolation = \"nearest\")\n",
        "    plt.axis(\"off\")\n",
        "    pass"
      ],
      "execution_count": 0,
      "outputs": [
        {
          "output_type": "display_data",
          "data": {
            "image/png": "[encoded data removed]",
            "text/plain": [
              "<matplotlib.figure.Figure at 0x2afb0b0ed30>"
            ]
          },
          "metadata": {
            "tags": []
          }
        }
      ]
    },
    {
      "metadata": {
        "id": "EBmphdpV_QbP",
        "colab_type": "text"
      },
      "cell_type": "markdown",
      "source": [
        "# 1 Layers + Softmax + Convergence vs. number of neurons"
      ]
    },
    {
      "metadata": {
        "id": "WiM4lIfF_QbQ",
        "colab_type": "code",
        "colab": {}
      },
      "cell_type": "code",
      "source": [
        "n_dim = 784\n",
        "tf.reset_default_graph()\n",
        "\n",
        "# Number of neurons in the layers\n",
        "n1 = 15 # Number of neurons in layer 1\n",
        "n2 = 10 # Number of neurons in output layer \n",
        "\n",
        "cost_history = np.empty(shape=[1], dtype = float)\n",
        "learning_rate = tf.placeholder(tf.float32, shape=())\n",
        "\n",
        "X = tf.placeholder(tf.float32, [n_dim, None])\n",
        "Y = tf.placeholder(tf.float32, [10, None])\n",
        "W1 = tf.Variable(tf.truncated_normal([n1, n_dim], stddev=.1)) \n",
        "b1 = tf.Variable(tf.constant(0.1, shape = [n1,1]) )\n",
        "W2 = tf.Variable(tf.truncated_normal([n2, n1], stddev=.1)) \n",
        "b2 = tf.Variable(tf.constant(0.1, shape = [n2,1])) \n",
        "                 \n",
        "# Let's build our network...\n",
        "Z1 = tf.nn.relu(tf.matmul(W1, X) + b1) # n1 x n_dim * n_dim x n_obs = n1 x n_obs\n",
        "Z2 = tf.matmul(W2, Z1) + b2 # n2 x n1 * n1 * n_obs = n2 x n_obs\n",
        "y_ = tf.nn.softmax(Z2,0) # n2 x n_obs (10 x None)\n",
        "\n",
        "cost = - tf.reduce_mean(Y * tf.log(y_)+(1-Y) * tf.log(1-y_))\n",
        "optimizer = tf.train.GradientDescentOptimizer(learning_rate).minimize(cost)\n",
        "\n",
        "init = tf.global_variables_initializer()"
      ],
      "execution_count": 0,
      "outputs": []
    },
    {
      "metadata": {
        "id": "dgzbmHkh_QbS",
        "colab_type": "text"
      },
      "cell_type": "markdown",
      "source": [
        "# Batch Gradient Descent"
      ]
    },
    {
      "metadata": {
        "scrolled": true,
        "id": "eHiIls01_QbS",
        "colab_type": "code",
        "colab": {},
        "outputId": "e5b102af-5724-402f-d9b1-d4c40c3b3d92"
      },
      "cell_type": "code",
      "source": [
        "sess = tf.Session()\n",
        "sess.run(tf.global_variables_initializer())\n",
        "\n",
        "training_epochs = 100\n",
        "    \n",
        "cost_history = []\n",
        "for epoch in range(training_epochs+1):\n",
        "\n",
        "    sess.run(optimizer, feed_dict = {X: train, Y: labels_, learning_rate: 0.1})\n",
        "    cost_ = sess.run(cost, feed_dict={ X:train, Y: labels_, learning_rate: 0.1})\n",
        "    cost_history = np.append(cost_history, cost_)\n",
        "    \n",
        "    if (epoch % 10 == 0):\n",
        "        print(\"Reached epoch\",epoch,\"cost J =\", cost_)"
      ],
      "execution_count": 0,
      "outputs": [
        {
          "output_type": "stream",
          "text": [
            "Reached epoch 0 cost J = 0.32646558\n",
            "Reached epoch 10 cost J = 0.3211373\n",
            "Reached epoch 20 cost J = 0.31689933\n",
            "Reached epoch 30 cost J = 0.31323114\n",
            "Reached epoch 40 cost J = 0.3098169\n",
            "Reached epoch 50 cost J = 0.30644634\n",
            "Reached epoch 60 cost J = 0.30298388\n",
            "Reached epoch 70 cost J = 0.29935688\n",
            "Reached epoch 80 cost J = 0.29551306\n",
            "Reached epoch 90 cost J = 0.29142335\n",
            "Reached epoch 100 cost J = 0.28706264\n"
          ],
          "name": "stdout"
        }
      ]
    },
    {
      "metadata": {
        "id": "5Rh2U-gA_QbV",
        "colab_type": "code",
        "colab": {},
        "outputId": "766f76a5-9bc2-4efd-95a6-904e4465437c"
      },
      "cell_type": "code",
      "source": [
        "correct_predictions = tf.equal(tf.argmax(y_,0), tf.argmax(Y,0))\n",
        "accuracy = tf.reduce_mean(tf.cast(correct_predictions, \"float\"))\n",
        "print (\"Accuracy:\", accuracy.eval({X: train, Y: labels_, learning_rate: 0.001}, session = sess))"
      ],
      "execution_count": 0,
      "outputs": [
        {
          "output_type": "stream",
          "text": [
            "Accuracy: 0.3287\n"
          ],
          "name": "stdout"
        }
      ]
    },
    {
      "metadata": {
        "id": "mb9FyzeG_QbX",
        "colab_type": "text"
      },
      "cell_type": "markdown",
      "source": [
        "# Mini-batch gradient descent"
      ]
    },
    {
      "metadata": {
        "id": "_QccOLAb_QbY",
        "colab_type": "code",
        "colab": {}
      },
      "cell_type": "code",
      "source": [
        "def model(minibatch_size, training_epochs, features, classes, logging_step = 100, learning_r = 0.001):\n",
        "    sess = tf.Session()\n",
        "    sess.run(tf.global_variables_initializer())\n",
        "\n",
        "    cost_history = []\n",
        "    for epoch in range(training_epochs+1):\n",
        "        for i in range(0, features.shape[1], minibatch_size):\n",
        "            X_train_mini = features[:,i:i + minibatch_size]\n",
        "            y_train_mini = classes[:,i:i + minibatch_size]\n",
        "\n",
        "            #if (i % 5000 == 0):\n",
        "            #    print('i = ',i)\n",
        "            \n",
        "            sess.run(optimizer, feed_dict = {X: X_train_mini, Y: y_train_mini, learning_rate: learning_r})\n",
        "        cost_ = sess.run(cost, feed_dict={ X:features, Y: classes, learning_rate: learning_r})\n",
        "        cost_history = np.append(cost_history, cost_)\n",
        "\n",
        "        if (epoch % logging_step == 0):\n",
        "                print(\"Reached epoch\",epoch,\"cost J =\", cost_)\n",
        "                \n",
        "    return sess, cost_history"
      ],
      "execution_count": 0,
      "outputs": []
    },
    {
      "metadata": {
        "id": "RdW76wDa_Qba",
        "colab_type": "code",
        "colab": {},
        "outputId": "fa56f437-c5e3-466b-e73c-d0080e50a375"
      },
      "cell_type": "code",
      "source": [
        "sess, cost_history1 = model (50, 100, train, labels_, 10, 0.01)"
      ],
      "execution_count": 0,
      "outputs": [
        {
          "output_type": "stream",
          "text": [
            "Reached epoch 0 cost J = 0.30598179\n",
            "Reached epoch 10 cost J = 0.11889737\n",
            "Reached epoch 20 cost J = 0.098300114\n",
            "Reached epoch 30 cost J = 0.08919344\n",
            "Reached epoch 40 cost J = 0.0840034\n",
            "Reached epoch 50 cost J = 0.080577224\n",
            "Reached epoch 60 cost J = 0.07808974\n",
            "Reached epoch 70 cost J = 0.0761595\n",
            "Reached epoch 80 cost J = 0.07459596\n",
            "Reached epoch 90 cost J = 0.07329242\n",
            "Reached epoch 100 cost J = 0.07218326\n"
          ],
          "name": "stdout"
        }
      ]
    },
    {
      "metadata": {
        "id": "I1g8Mvkb_Qbd",
        "colab_type": "code",
        "colab": {},
        "outputId": "9c47e196-13de-476c-a952-5dd84d5bef2b"
      },
      "cell_type": "code",
      "source": [
        "correct_predictions = tf.equal(tf.argmax(y_,0), tf.argmax(Y,0))\n",
        "accuracy = tf.reduce_mean(tf.cast(correct_predictions, \"float\"))\n",
        "print (\"Accuracy:\", accuracy.eval({X: train, Y: labels_, learning_rate: 0.001}, session = sess))"
      ],
      "execution_count": 0,
      "outputs": [
        {
          "output_type": "stream",
          "text": [
            "Accuracy: 0.85616666\n"
          ],
          "name": "stdout"
        }
      ]
    },
    {
      "metadata": {
        "id": "n1GAzEJg_Qbf",
        "colab_type": "text"
      },
      "cell_type": "markdown",
      "source": [
        "**NOTE**: the only thing we changed was the mini-batch size."
      ]
    },
    {
      "metadata": {
        "id": "n6q_D5zd_Qbg",
        "colab_type": "text"
      },
      "cell_type": "markdown",
      "source": [
        "# Exercise 1 - Convergences vs. mini-batch size - difficulty: medium\n",
        "\n",
        "Run the previous cell with different sizes of the mini-batch size, for example try 10,50,1000 and see how that affects the convergence. Keep the number of epochs fixed."
      ]
    },
    {
      "metadata": {
        "id": "yTINRJGs_Qbg",
        "colab_type": "text"
      },
      "cell_type": "markdown",
      "source": [
        "# Mini-batch Gradient Descent - comparison of mini-batch sizes"
      ]
    },
    {
      "metadata": {
        "id": "NDhrGBrJ_Qbh",
        "colab_type": "text"
      },
      "cell_type": "markdown",
      "source": [
        "## Random choice of 10000 elements \n",
        "\n",
        "We will select only 1e5 elements to make training faster. You can do the same with all the observations, but it will take a lot longer."
      ]
    },
    {
      "metadata": {
        "id": "4HngHUyt_Qbi",
        "colab_type": "code",
        "colab": {},
        "outputId": "dd940381-6399-4b2c-eb7b-b56a471ca228"
      },
      "cell_type": "code",
      "source": [
        "rnd_list = np.random.choice(train.shape[1], 10000)\n",
        "train_red = train[:, rnd_list]\n",
        "labels_red = labels_[:, rnd_list]\n",
        "labels_int = labels[0, rnd_list]\n",
        "\n",
        "for i in range (10):\n",
        "    print ('Number of elements in class ',i,'=', np.sum(labels_int == i))"
      ],
      "execution_count": 0,
      "outputs": [
        {
          "output_type": "stream",
          "text": [
            "Number of elements in class  0 = 965\n",
            "Number of elements in class  1 = 997\n",
            "Number of elements in class  2 = 1002\n",
            "Number of elements in class  3 = 985\n",
            "Number of elements in class  4 = 1026\n",
            "Number of elements in class  5 = 1005\n",
            "Number of elements in class  6 = 994\n",
            "Number of elements in class  7 = 1001\n",
            "Number of elements in class  8 = 998\n",
            "Number of elements in class  9 = 1027\n"
          ],
          "name": "stdout"
        }
      ]
    },
    {
      "metadata": {
        "id": "xGt6Y_xw_Qbk",
        "colab_type": "text"
      },
      "cell_type": "markdown",
      "source": [
        "The dataset is pretty balanced so we are good to go."
      ]
    },
    {
      "metadata": {
        "scrolled": false,
        "id": "4VU_ooEY_Qbl",
        "colab_type": "code",
        "colab": {},
        "outputId": "4f9d7b7e-9e13-49a5-adb1-9134b827d07a"
      },
      "cell_type": "code",
      "source": [
        "%%time\n",
        "sess1, cost_history1 = model(minibatch_size = 1, \n",
        "                              training_epochs = 50, \n",
        "                              features = train_red, \n",
        "                              classes = labels_red, \n",
        "                              logging_step = 10,\n",
        "                              learning_r = 1e-3)"
      ],
      "execution_count": 0,
      "outputs": [
        {
          "output_type": "stream",
          "text": [
            "Reached epoch 0 cost J = 0.29555586\n",
            "Reached epoch 10 cost J = 0.12414783\n",
            "Reached epoch 20 cost J = 0.10175852\n",
            "Reached epoch 30 cost J = 0.0908491\n",
            "Reached epoch 40 cost J = 0.084359705\n",
            "Reached epoch 50 cost J = 0.07988967\n",
            "Wall time: 3min 6s\n"
          ],
          "name": "stdout"
        }
      ]
    },
    {
      "metadata": {
        "scrolled": false,
        "id": "4yd4ilPA_Qbn",
        "colab_type": "code",
        "colab": {},
        "outputId": "98f94bc2-7e37-4be8-87bc-730da2da9cc0"
      },
      "cell_type": "code",
      "source": [
        "%%time\n",
        "sess50, cost_history50 = model(minibatch_size = 50, \n",
        "                              training_epochs = 50, \n",
        "                              features = train_red, \n",
        "                              classes = labels_red, \n",
        "                              logging_step = 10,\n",
        "                              learning_r = 1e-3) # Good is 300, 0.001"
      ],
      "execution_count": 0,
      "outputs": [
        {
          "output_type": "stream",
          "text": [
            "Reached epoch 0 cost J = 0.32577503\n",
            "Reached epoch 10 cost J = 0.31843063\n",
            "Reached epoch 20 cost J = 0.3130487\n",
            "Reached epoch 30 cost J = 0.30753696\n",
            "Reached epoch 40 cost J = 0.30111614\n",
            "Reached epoch 50 cost J = 0.2933771\n",
            "Wall time: 14.5 s\n"
          ],
          "name": "stdout"
        }
      ]
    },
    {
      "metadata": {
        "id": "qijs7z4__Qbp",
        "colab_type": "text"
      },
      "cell_type": "markdown",
      "source": [
        "# Time needed by different mini-batch sizes"
      ]
    },
    {
      "metadata": {
        "id": "06uSK6co_Qbp",
        "colab_type": "code",
        "colab": {}
      },
      "cell_type": "code",
      "source": [
        "time_conv_x = [5,20, 50,100,200, 300]\n",
        "time_conv_y = [9.6 ,3.45,  2.2, 2.23, 1.68, 1.72]\n",
        "cost_conv_y = [0.084 ,0.118914,0.139087 ,0.214366,0.235353, 0.2903]"
      ],
      "execution_count": 0,
      "outputs": []
    },
    {
      "metadata": {
        "id": "x7GRfO_z_Qbs",
        "colab_type": "text"
      },
      "cell_type": "markdown",
      "source": [
        "Plot of the time needed by different batch sizes"
      ]
    },
    {
      "metadata": {
        "id": "EDR7kWN1_Qbs",
        "colab_type": "code",
        "colab": {},
        "outputId": "fdb1f17e-70bb-442d-c5d1-ae93ea12274a"
      },
      "cell_type": "code",
      "source": [
        "\n",
        "fig = plt.figure(figsize = (8,5))\n",
        "ax = fig.add_subplot(1, 1, 1)\n",
        "ax.scatter(time_conv_y, cost_conv_y,  color = 'black')\n",
        "\n",
        "\n",
        "ax.set_xlabel('Time (min)')\n",
        "ax.set_ylabel('Cost function $J$ after 100 epochs')\n",
        "\n",
        "for i, txt in enumerate(time_conv_x):\n",
        "    ax.annotate(txt, (time_conv_y[i]+0.3,cost_conv_y[i]))\n",
        "\n",
        "plt.xlim((0,12))"
      ],
      "execution_count": 0,
      "outputs": [
        {
          "output_type": "execute_result",
          "data": {
            "text/plain": [
              "(0, 12)"
            ]
          },
          "metadata": {
            "tags": []
          },
          "execution_count": 37
        },
        {
          "output_type": "display_data",
          "data": {
            "image/png": "[encoded data removed]",
            "text/plain": [
              "<matplotlib.figure.Figure at 0x2af839db780>"
            ]
          },
          "metadata": {
            "tags": []
          }
        }
      ]
    },
    {
      "metadata": {
        "id": "OOLmmzPX_Qbu",
        "colab_type": "text"
      },
      "cell_type": "markdown",
      "source": [
        "### Let's calculate train and test accuracy for our model"
      ]
    },
    {
      "metadata": {
        "id": "6-_9SYWu_Qbv",
        "colab_type": "code",
        "colab": {}
      },
      "cell_type": "code",
      "source": [
        "%%time\n",
        "sess50, cost_history50 = model(minibatch_size = 50, \n",
        "                              training_epochs = 1000, \n",
        "                              features = train, \n",
        "                              classes = labels_, \n",
        "                              logging_step = 100,\n",
        "                              learning_r = 0.001)"
      ],
      "execution_count": 0,
      "outputs": []
    },
    {
      "metadata": {
        "id": "Y2sbl7oE_Qbx",
        "colab_type": "code",
        "colab": {},
        "outputId": "84f783ab-4963-4bc2-cb54-83c6ba8fe5da"
      },
      "cell_type": "code",
      "source": [
        "%%time\n",
        "sess500, cost_history500 = model(minibatch_size = 500, \n",
        "                              training_epochs = 1000, \n",
        "                              features = train, \n",
        "                              classes = labels_, \n",
        "                              logging_step = 100,\n",
        "                              learning_r = 0.001)"
      ],
      "execution_count": 0,
      "outputs": [
        {
          "output_type": "stream",
          "text": [
            "Reached epoch 0 cost J = 0.325778\n",
            "Reached epoch 100 cost J = 0.139926\n",
            "Reached epoch 200 cost J = 0.114072\n",
            "Reached epoch 300 cost J = 0.103083\n",
            "Reached epoch 400 cost J = 0.0975261\n",
            "Reached epoch 500 cost J = 0.0941676\n",
            "Reached epoch 600 cost J = 0.0917755\n",
            "Reached epoch 700 cost J = 0.0899117\n",
            "Reached epoch 800 cost J = 0.088395\n",
            "Reached epoch 900 cost J = 0.0871357\n",
            "Reached epoch 1000 cost J = 0.0860645\n",
            "Wall time: 25min 51s\n"
          ],
          "name": "stdout"
        }
      ]
    },
    {
      "metadata": {
        "id": "rSPfxlyt_Qbz",
        "colab_type": "code",
        "colab": {},
        "outputId": "4cbbad69-b495-462d-bf5c-045e0fb161c0"
      },
      "cell_type": "code",
      "source": [
        "fig = plt.figure(figsize=(3.9, 3.1))\n",
        "ax = fig.add_subplot(1, 1, 1)\n",
        "ax.plot(cost_history50, ls='-', color = 'black')\n",
        "ax.plot(cost_history500, ls='--', color = 'black')\n",
        "ax.set_xlabel('epochs')\n",
        "ax.set_ylabel('Cost function $J$')\n",
        "\n",
        "plt.xlim((0,1000))"
      ],
      "execution_count": 0,
      "outputs": [
        {
          "output_type": "execute_result",
          "data": {
            "text/plain": [
              "(0, 1000)"
            ]
          },
          "metadata": {
            "tags": []
          },
          "execution_count": 70
        },
        {
          "output_type": "display_data",
          "data": {
            "text/plain": [
              "<matplotlib.figure.Figure at 0x22c145dfb70>"
            ]
          },
          "metadata": {
            "tags": []
          }
        },
        {
          "output_type": "display_data",
          "data": {
            "image/png": "[encoded data removed]",
            "text/plain": [
              "<matplotlib.figure.Figure at 0x22c145dfeb8>"
            ]
          },
          "metadata": {
            "tags": []
          }
        }
      ]
    },
    {
      "metadata": {
        "id": "nBN4K9RE_Qb1",
        "colab_type": "code",
        "colab": {},
        "outputId": "7f21fc4f-f9e8-45cc-d58c-363b113bfaca"
      },
      "cell_type": "code",
      "source": [
        "correct_predictions = tf.equal(tf.argmax(y_,0), tf.argmax(Y,0))\n",
        "accuracy = tf.reduce_mean(tf.cast(correct_predictions, \"float\"))\n",
        "print (\"Accuracy:\", accuracy.eval({X: train, Y: labels_, learning_rate: 0.001}, session = sess50))"
      ],
      "execution_count": 0,
      "outputs": [
        {
          "output_type": "stream",
          "text": [
            "Accuracy: 0.80325\n"
          ],
          "name": "stdout"
        }
      ]
    },
    {
      "metadata": {
        "id": "wTC3Jujl_Qb4",
        "colab_type": "code",
        "colab": {},
        "outputId": "f520b435-f734-4499-8eef-51ddfb8152e6"
      },
      "cell_type": "code",
      "source": [
        "correct_predictions = tf.equal(tf.argmax(y_,0), tf.argmax(Y,0))\n",
        "accuracy = tf.reduce_mean(tf.cast(correct_predictions, \"float\"))\n",
        "print (\"Accuracy:\", accuracy.eval({X: test, Y: labels_test, learning_rate: 0.001}, session = sess500))"
      ],
      "execution_count": 0,
      "outputs": [
        {
          "output_type": "stream",
          "text": [
            "Accuracy: 0.6653\n"
          ],
          "name": "stdout"
        }
      ]
    },
    {
      "metadata": {
        "id": "peMaulvh_Qb6",
        "colab_type": "text"
      },
      "cell_type": "markdown",
      "source": [
        "Let's try now batch-gradient descent"
      ]
    },
    {
      "metadata": {
        "id": "JoXyTWVN_Qb7",
        "colab_type": "code",
        "colab": {},
        "outputId": "809154bf-8396-4fa5-deda-a14bd0f8d308"
      },
      "cell_type": "code",
      "source": [
        "%%time\n",
        "sessb, cost_history500_2 = model(minibatch_size = 60000, \n",
        "                              training_epochs = 1000, \n",
        "                              features = train, \n",
        "                              classes = labels_, \n",
        "                              logging_step = 50,\n",
        "                              learning_r = 0.01)"
      ],
      "execution_count": 0,
      "outputs": [
        {
          "output_type": "stream",
          "text": [
            "Reached epoch 0 cost J = 0.324015\n",
            "Reached epoch 50 cost J = 0.323806\n",
            "Reached epoch 100 cost J = 0.323599\n",
            "Reached epoch 150 cost J = 0.323392\n",
            "Reached epoch 200 cost J = 0.323184\n",
            "Reached epoch 250 cost J = 0.322972\n",
            "Reached epoch 300 cost J = 0.322754\n",
            "Reached epoch 350 cost J = 0.322528\n",
            "Reached epoch 400 cost J = 0.322297\n",
            "Reached epoch 450 cost J = 0.322051\n",
            "Reached epoch 500 cost J = 0.321789\n",
            "Reached epoch 550 cost J = 0.321509\n",
            "Reached epoch 600 cost J = 0.32121\n",
            "Reached epoch 650 cost J = 0.320893\n",
            "Reached epoch 700 cost J = 0.320552\n",
            "Reached epoch 750 cost J = 0.320184\n",
            "Reached epoch 800 cost J = 0.319789\n",
            "Reached epoch 850 cost J = 0.319362\n",
            "Reached epoch 900 cost J = 0.318899\n",
            "Reached epoch 950 cost J = 0.318394\n",
            "Reached epoch 1000 cost J = 0.31785\n",
            "Wall time: 19min 29s\n"
          ],
          "name": "stdout"
        }
      ]
    },
    {
      "metadata": {
        "id": "hluJGCeJ_Qb8",
        "colab_type": "code",
        "colab": {},
        "outputId": "059884b8-18b3-4fdf-ef61-29185aa60e7f"
      },
      "cell_type": "code",
      "source": [
        "fig = plt.figure(figsize=(8,5))\n",
        "ax = fig.add_subplot(1, 1, 1)\n",
        "ax.plot(cost_history50, ls='-', color = 'black')\n",
        "ax.plot(cost_history500_2, ls='--', color = 'black')\n",
        "ax.set_xlabel('epochs')\n",
        "ax.set_ylabel('Cost function $J$')\n",
        "plt.xlim((0,1000))"
      ],
      "execution_count": 0,
      "outputs": [
        {
          "output_type": "execute_result",
          "data": {
            "text/plain": [
              "(0, 1000)"
            ]
          },
          "metadata": {
            "tags": []
          },
          "execution_count": 76
        },
        {
          "output_type": "display_data",
          "data": {
            "text/plain": [
              "<matplotlib.figure.Figure at 0x22c11601b70>"
            ]
          },
          "metadata": {
            "tags": []
          }
        },
        {
          "output_type": "display_data",
          "data": {
            "image/png": "[encoded data removed]",
            "text/plain": [
              "<matplotlib.figure.Figure at 0x22c11601b00>"
            ]
          },
          "metadata": {
            "tags": []
          }
        }
      ]
    },
    {
      "metadata": {
        "id": "-yxUJ39Z_Qb-",
        "colab_type": "code",
        "colab": {},
        "outputId": "aeec81db-1d12-4e64-d2e3-cf6207ab040a"
      },
      "cell_type": "code",
      "source": [
        "correct_predictions = tf.equal(tf.argmax(y_,0), tf.argmax(Y,0))\n",
        "accuracy = tf.reduce_mean(tf.cast(correct_predictions, \"float\"))\n",
        "print (\"Accuracy:\", accuracy.eval({X: train, Y: labels_, learning_rate: 0.001}, session = sessb))"
      ],
      "execution_count": 0,
      "outputs": [
        {
          "output_type": "stream",
          "text": [
            "Accuracy: 0.823883\n"
          ],
          "name": "stdout"
        }
      ]
    },
    {
      "metadata": {
        "id": "LM4cWYqG_QcA",
        "colab_type": "code",
        "colab": {},
        "outputId": "014ac876-b828-4ca0-995c-d910b0bd7e76"
      },
      "cell_type": "code",
      "source": [
        "correct_predictions = tf.equal(tf.argmax(y_,0), tf.argmax(Y,0))\n",
        "accuracy = tf.reduce_mean(tf.cast(correct_predictions, \"float\"))\n",
        "print (\"Accuracy:\", accuracy.eval({X: test, Y: labels_test_, learning_rate: 0.001}, session = sessb))"
      ],
      "execution_count": 0,
      "outputs": [
        {
          "output_type": "stream",
          "text": [
            "Accuracy: 0.7336\n"
          ],
          "name": "stdout"
        }
      ]
    },
    {
      "metadata": {
        "id": "sgIDRMBG_QcD",
        "colab_type": "text"
      },
      "cell_type": "markdown",
      "source": [
        "### `corr_pred` array containing information on which prediction is right and which is wrong"
      ]
    },
    {
      "metadata": {
        "id": "6IVOa1eG_QcD",
        "colab_type": "text"
      },
      "cell_type": "markdown",
      "source": [
        "The `corr_pred` array contains `True` when the prediction is right and `False` when it is not."
      ]
    },
    {
      "metadata": {
        "id": "_St8llu1_QcE",
        "colab_type": "code",
        "colab": {}
      },
      "cell_type": "code",
      "source": [
        "%%time\n",
        "sessb, cost_history500 = model(minibatch_size = 50, \n",
        "                              training_epochs = 1000, \n",
        "                              features = train, \n",
        "                              classes = labels_, \n",
        "                              logging_step = 100,\n",
        "                              learning_r = 0.001)"
      ],
      "execution_count": 0,
      "outputs": []
    },
    {
      "metadata": {
        "id": "pfRPM92D_QcF",
        "colab_type": "code",
        "colab": {}
      },
      "cell_type": "code",
      "source": [
        "corr_pred = sessb.run(correct_predictions, feed_dict = {X: train, Y: labels_, learning_rate: 0.1})"
      ],
      "execution_count": 0,
      "outputs": []
    },
    {
      "metadata": {
        "id": "09EOShgz_QcH",
        "colab_type": "code",
        "colab": {},
        "outputId": "25d36660-cc0a-41b8-cba6-7d4c83201405"
      },
      "cell_type": "code",
      "source": [
        "corr_pred[0:40] "
      ],
      "execution_count": 0,
      "outputs": [
        {
          "output_type": "execute_result",
          "data": {
            "text/plain": [
              "array([False,  True,  True,  True,  True, False,  True,  True,  True,\n",
              "        True,  True,  True,  True, False,  True, False,  True,  True,\n",
              "        True,  True,  True,  True,  True,  True,  True,  True,  True,\n",
              "       False,  True,  True,  True,  True,  True, False, False,  True,\n",
              "       False,  True,  True,  True], dtype=bool)"
            ]
          },
          "metadata": {
            "tags": []
          },
          "execution_count": 129
        }
      ]
    },
    {
      "metadata": {
        "id": "ToAsXFH4_QcJ",
        "colab_type": "text"
      },
      "cell_type": "markdown",
      "source": [
        "### The `pred` array contains the actual predictions."
      ]
    },
    {
      "metadata": {
        "id": "wH3NepHj_QcK",
        "colab_type": "code",
        "colab": {}
      },
      "cell_type": "code",
      "source": [
        "pred = sessb.run(tf.argmax(y_,0), feed_dict = {X: train, Y: labels_, learning_rate: 0.1})"
      ],
      "execution_count": 0,
      "outputs": []
    },
    {
      "metadata": {
        "id": "IiTemSNE_QcL",
        "colab_type": "text"
      },
      "cell_type": "markdown",
      "source": [
        "# Let's check some wrong predictions"
      ]
    },
    {
      "metadata": {
        "id": "meIC1K4x_QcM",
        "colab_type": "code",
        "colab": {},
        "outputId": "a6e016c2-b3bd-4442-c07a-620c48b65f0e"
      },
      "cell_type": "code",
      "source": [
        "f = plt.figure(figsize=(8,8));\n",
        "plt.imshow(train[:,5].reshape(28,28), cmap = matplotlib.cm.binary, interpolation = \"nearest\")\n",
        "plt.title('True : '+get_label_name(labels[:,5])+' - Pred.: '+str(get_label_name(pred[5])))\n",
        "plt.axis(\"on\")\n",
        "plt.show()"
      ],
      "execution_count": 0,
      "outputs": [
        {
          "output_type": "display_data",
          "data": {
            "image/png": "[encoded data removed]",
            "text/plain": [
              "<matplotlib.figure.Figure at 0x22c11e90630>"
            ]
          },
          "metadata": {
            "tags": []
          }
        }
      ]
    },
    {
      "metadata": {
        "id": "ODFhZN93_QcN",
        "colab_type": "text"
      },
      "cell_type": "markdown",
      "source": [
        "### Let's check 10 examples of wrongly classified images"
      ]
    },
    {
      "metadata": {
        "id": "_VXWdE8R_QcO",
        "colab_type": "text"
      },
      "cell_type": "markdown",
      "source": [
        "Let's first get 10 random examples of wrongly classified images"
      ]
    },
    {
      "metadata": {
        "id": "tbqguexm_QcO",
        "colab_type": "code",
        "colab": {}
      },
      "cell_type": "code",
      "source": [
        "lim = 70\n",
        "wrongly_classified_images = train[:,0:lim]\n",
        "wrongly_classified_images = wrongly_classified_images[:, corr_pred[0:lim] == False]\n",
        "wrong_labels = labels[:,0:lim]\n",
        "wrong_labels = wrong_labels[:, corr_pred[0:lim] == False]\n",
        "wrong_pred = pred.reshape(1,60000)[:,0:lim]\n",
        "wrong_pred = wrong_pred[:,corr_pred[0:lim] == False]"
      ],
      "execution_count": 0,
      "outputs": []
    },
    {
      "metadata": {
        "id": "ax_DY0nw_QcP",
        "colab_type": "code",
        "colab": {},
        "outputId": "6164461f-9417-4065-bb1a-9650857264ab"
      },
      "cell_type": "code",
      "source": [
        "f = plt.figure(figsize=(15,15));\n",
        "count = 1\n",
        "for i in range(0,10):\n",
        "    plt.subplot(5,2,count)\n",
        "    count = count + 1\n",
        "    plt.subplots_adjust(hspace=0.5)\n",
        "    plt.title('True: ' + get_label_name(wrong_labels[:,i]) + ' - Pred: ' + get_label_name(wrong_pred[:,i]))\n",
        "    some_digit_image = wrongly_classified_images[:,i].reshape(28,28)\n",
        "    plt.imshow(some_digit_image, cmap = matplotlib.cm.binary, interpolation = \"nearest\")\n",
        "    plt.axis(\"off\")\n",
        "    pass"
      ],
      "execution_count": 0,
      "outputs": [
        {
          "output_type": "display_data",
          "data": {
            "image/png": "[encoded data removed]",
            "text/plain": [
              "<matplotlib.figure.Figure at 0x22c11d7dda0>"
            ]
          },
          "metadata": {
            "tags": []
          }
        }
      ]
    },
    {
      "metadata": {
        "id": "PmeVXn27_QcS",
        "colab_type": "text"
      },
      "cell_type": "markdown",
      "source": [
        "# 15 neurons"
      ]
    },
    {
      "metadata": {
        "id": "r7Tb7TIQ_QcT",
        "colab_type": "code",
        "colab": {}
      },
      "cell_type": "code",
      "source": [
        "n_dim = 784\n",
        "tf.reset_default_graph()\n",
        "\n",
        "# Number of neurons in the layers\n",
        "n1 = 15 # Number of neurons in layer 1\n",
        "n2 = 10 # Number of neurons in output layer \n",
        "\n",
        "cost_history = np.empty(shape=[1], dtype = float)\n",
        "learning_rate = tf.placeholder(tf.float32, shape=())\n",
        "\n",
        "X = tf.placeholder(tf.float32, [n_dim, None])\n",
        "Y = tf.placeholder(tf.float32, [10, None])\n",
        "W1 = tf.Variable(tf.truncated_normal([n1, n_dim], stddev=.1)) \n",
        "b1 = tf.Variable(tf.constant(0.1, shape = [n1,1]) )\n",
        "W2 = tf.Variable(tf.truncated_normal([n2, n1], stddev=.1)) \n",
        "b2 = tf.Variable(tf.constant(0.1, shape = [n2,1])) \n",
        "                 \n",
        "# Let's build our network...\n",
        "Z1 = tf.nn.relu(tf.matmul(W1, X) + b1) # n1 x n_dim * n_dim x n_obs = n1 x n_obs\n",
        "Z2 = tf.matmul(W2, Z1) + b2 # n2 x n1 * n1 * n_obs = n2 x n_obs\n",
        "y_ = tf.nn.softmax(Z2,0) # n2 x n_obs (10 x None)\n",
        "\n",
        "cost = - tf.reduce_mean(Y * tf.log(y_)+(1-Y) * tf.log(1-y_))\n",
        "optimizer = tf.train.GradientDescentOptimizer(learning_rate).minimize(cost)\n",
        "\n",
        "init = tf.global_variables_initializer()"
      ],
      "execution_count": 0,
      "outputs": []
    },
    {
      "metadata": {
        "id": "J0VaYVnf_QcU",
        "colab_type": "code",
        "colab": {},
        "outputId": "01abc1b8-52e0-483c-cdfc-d72bf0d13941"
      },
      "cell_type": "code",
      "source": [
        "sess = tf.Session()\n",
        "sess.run(tf.global_variables_initializer())\n",
        "    \n",
        "cost_history = []\n",
        "for epoch in range(1000+1):\n",
        "    for i in range(0, train.shape[1], 50):\n",
        "        X_train_mini = train[:,i:i + 50]\n",
        "        y_train_mini = labels_[:,i:i + 50]\n",
        "\n",
        "        sess.run(optimizer, feed_dict = {X: X_train_mini, Y: y_train_mini, learning_rate: 0.001})\n",
        "    cost_ = sess.run(cost, feed_dict={ X:train, Y: labels_, learning_rate: 0.001})\n",
        "    cost_history = np.append(cost_history, cost_)\n",
        "\n",
        "    if (epoch % 10 == 0):\n",
        "        print(\"Reached epoch\",epoch,\"cost J =\", cost_)"
      ],
      "execution_count": 0,
      "outputs": [
        {
          "output_type": "stream",
          "text": [
            "Reached epoch 0 cost J = 0.326015\n",
            "Reached epoch 10 cost J = 0.294436\n",
            "Reached epoch 20 cost J = 0.23573\n",
            "Reached epoch 30 cost J = 0.191477\n",
            "Reached epoch 40 cost J = 0.164247\n",
            "Reached epoch 50 cost J = 0.148597\n",
            "Reached epoch 60 cost J = 0.139156\n",
            "Reached epoch 70 cost J = 0.132707\n",
            "Reached epoch 80 cost J = 0.12781\n",
            "Reached epoch 90 cost J = 0.123746\n",
            "Reached epoch 100 cost J = 0.12017\n",
            "Reached epoch 110 cost J = 0.116929\n",
            "Reached epoch 120 cost J = 0.11396\n",
            "Reached epoch 130 cost J = 0.111257\n",
            "Reached epoch 140 cost J = 0.108819\n",
            "Reached epoch 150 cost J = 0.106639\n",
            "Reached epoch 160 cost J = 0.104698\n",
            "Reached epoch 170 cost J = 0.102969\n",
            "Reached epoch 180 cost J = 0.101419\n",
            "Reached epoch 190 cost J = 0.100024\n",
            "Reached epoch 200 cost J = 0.0987597\n",
            "Reached epoch 210 cost J = 0.097603\n",
            "Reached epoch 220 cost J = 0.0965397\n",
            "Reached epoch 230 cost J = 0.0955553\n",
            "Reached epoch 240 cost J = 0.0946399\n",
            "Reached epoch 250 cost J = 0.093784\n",
            "Reached epoch 260 cost J = 0.0929818\n",
            "Reached epoch 270 cost J = 0.0922262\n",
            "Reached epoch 280 cost J = 0.0915131\n",
            "Reached epoch 290 cost J = 0.09084\n",
            "Reached epoch 300 cost J = 0.0902026\n",
            "Reached epoch 310 cost J = 0.0895978\n",
            "Reached epoch 320 cost J = 0.0890237\n",
            "Reached epoch 330 cost J = 0.0884782\n",
            "Reached epoch 340 cost J = 0.0879596\n",
            "Reached epoch 350 cost J = 0.0874666\n",
            "Reached epoch 360 cost J = 0.0869958\n",
            "Reached epoch 370 cost J = 0.0865462\n",
            "Reached epoch 380 cost J = 0.0861168\n",
            "Reached epoch 390 cost J = 0.0857057\n",
            "Reached epoch 400 cost J = 0.0853122\n",
            "Reached epoch 410 cost J = 0.0849345\n",
            "Reached epoch 420 cost J = 0.0845717\n",
            "Reached epoch 430 cost J = 0.0842228\n",
            "Reached epoch 440 cost J = 0.0838869\n",
            "Reached epoch 450 cost J = 0.0835635\n",
            "Reached epoch 460 cost J = 0.0832509\n",
            "Reached epoch 470 cost J = 0.0829496\n",
            "Reached epoch 480 cost J = 0.0826583\n",
            "Reached epoch 490 cost J = 0.0823758\n",
            "Reached epoch 500 cost J = 0.0821023\n",
            "Reached epoch 510 cost J = 0.0818371\n",
            "Reached epoch 520 cost J = 0.08158\n",
            "Reached epoch 530 cost J = 0.0813298\n",
            "Reached epoch 540 cost J = 0.0810875\n",
            "Reached epoch 550 cost J = 0.0808528\n",
            "Reached epoch 560 cost J = 0.080624\n",
            "Reached epoch 570 cost J = 0.0804018\n",
            "Reached epoch 580 cost J = 0.0801853\n",
            "Reached epoch 590 cost J = 0.079974\n",
            "Reached epoch 600 cost J = 0.0797684\n",
            "Reached epoch 610 cost J = 0.0795672\n",
            "Reached epoch 620 cost J = 0.079371\n",
            "Reached epoch 630 cost J = 0.0791789\n",
            "Reached epoch 640 cost J = 0.0789915\n",
            "Reached epoch 650 cost J = 0.0788083\n",
            "Reached epoch 660 cost J = 0.078629\n",
            "Reached epoch 670 cost J = 0.0784537\n",
            "Reached epoch 680 cost J = 0.078282\n",
            "Reached epoch 690 cost J = 0.0781139\n",
            "Reached epoch 700 cost J = 0.0779488\n",
            "Reached epoch 710 cost J = 0.0777877\n",
            "Reached epoch 720 cost J = 0.077629\n",
            "Reached epoch 730 cost J = 0.0774736\n",
            "Reached epoch 740 cost J = 0.077321\n",
            "Reached epoch 750 cost J = 0.0771713\n",
            "Reached epoch 760 cost J = 0.0770241\n",
            "Reached epoch 770 cost J = 0.0768792\n",
            "Reached epoch 780 cost J = 0.076737\n",
            "Reached epoch 790 cost J = 0.0765971\n",
            "Reached epoch 800 cost J = 0.0764597\n",
            "Reached epoch 810 cost J = 0.0763245\n",
            "Reached epoch 820 cost J = 0.0761913\n",
            "Reached epoch 830 cost J = 0.0760608\n",
            "Reached epoch 840 cost J = 0.0759319\n",
            "Reached epoch 850 cost J = 0.075805\n",
            "Reached epoch 860 cost J = 0.07568\n",
            "Reached epoch 870 cost J = 0.075557\n",
            "Reached epoch 880 cost J = 0.0754355\n",
            "Reached epoch 890 cost J = 0.0753157\n",
            "Reached epoch 900 cost J = 0.0751982\n",
            "Reached epoch 910 cost J = 0.0750818\n",
            "Reached epoch 920 cost J = 0.0749667\n",
            "Reached epoch 930 cost J = 0.0748532\n",
            "Reached epoch 940 cost J = 0.0747414\n",
            "Reached epoch 950 cost J = 0.0746306\n",
            "Reached epoch 960 cost J = 0.0745211\n",
            "Reached epoch 970 cost J = 0.0744132\n",
            "Reached epoch 980 cost J = 0.0743064\n",
            "Reached epoch 990 cost J = 0.0742004\n",
            "Reached epoch 1000 cost J = 0.0740961\n"
          ],
          "name": "stdout"
        }
      ]
    },
    {
      "metadata": {
        "id": "csrIbYjx_QcX",
        "colab_type": "code",
        "colab": {},
        "outputId": "e611805b-2a00-4364-8075-a943990d73e7"
      },
      "cell_type": "code",
      "source": [
        "correct_predictions = tf.equal(tf.argmax(y_,0), tf.argmax(Y,0))\n",
        "accuracy = tf.reduce_mean(tf.cast(correct_predictions, \"float\"))\n",
        "print (\"Accuracy:\", accuracy.eval({X: train, Y: labels_, learning_rate: 0.001}, session = sess))"
      ],
      "execution_count": 0,
      "outputs": [
        {
          "output_type": "stream",
          "text": [
            "Accuracy: 0.853267\n"
          ],
          "name": "stdout"
        }
      ]
    },
    {
      "metadata": {
        "id": "lXxcPlsX_QcZ",
        "colab_type": "code",
        "colab": {},
        "outputId": "fcd30676-98df-4ac8-eb96-83cdfeff8213"
      },
      "cell_type": "code",
      "source": [
        "correct_predictions = tf.equal(tf.argmax(y_,0), tf.argmax(Y,0))\n",
        "accuracy = tf.reduce_mean(tf.cast(correct_predictions, \"float\"))\n",
        "print (\"Accuracy:\", accuracy.eval({X: test, Y: labels_test_, learning_rate: 0.001}, session = sess))"
      ],
      "execution_count": 0,
      "outputs": [
        {
          "output_type": "stream",
          "text": [
            "Accuracy: 0.8519\n"
          ],
          "name": "stdout"
        }
      ]
    },
    {
      "metadata": {
        "id": "BPjSX_C5_Qcb",
        "colab_type": "text"
      },
      "cell_type": "markdown",
      "source": [
        "# 50 neurons"
      ]
    },
    {
      "metadata": {
        "id": "lysABJ7m_Qcb",
        "colab_type": "code",
        "colab": {}
      },
      "cell_type": "code",
      "source": [
        "n_dim = 784\n",
        "tf.reset_default_graph()\n",
        "\n",
        "# Number of neurons in the layers\n",
        "n1 = 50 # Number of neurons in layer 1\n",
        "n2 = 10 # Number of neurons in output layer \n",
        "\n",
        "cost_history = np.empty(shape=[1], dtype = float)\n",
        "learning_rate = tf.placeholder(tf.float32, shape=())\n",
        "\n",
        "X = tf.placeholder(tf.float32, [n_dim, None])\n",
        "Y = tf.placeholder(tf.float32, [10, None])\n",
        "W1 = tf.Variable(tf.truncated_normal([n1, n_dim], stddev=.1)) \n",
        "b1 = tf.Variable(tf.constant(0.1, shape = [n1,1]) )\n",
        "W2 = tf.Variable(tf.truncated_normal([n2, n1], stddev=.1)) \n",
        "b2 = tf.Variable(tf.constant(0.1, shape = [n2,1])) \n",
        "                 \n",
        "# Let's build our network...\n",
        "Z1 = tf.nn.relu(tf.matmul(W1, X) + b1) # n1 x n_dim * n_dim x n_obs = n1 x n_obs\n",
        "Z2 = tf.matmul(W2, Z1) + b2 # n2 x n1 * n1 * n_obs = n2 x n_obs\n",
        "y_ = tf.nn.softmax(Z2,0) # n2 x n_obs (10 x None)\n",
        "\n",
        "cost = - tf.reduce_mean(Y * tf.log(y_)+(1-Y) * tf.log(1-y_))\n",
        "optimizer = tf.train.GradientDescentOptimizer(learning_rate).minimize(cost)\n",
        "\n",
        "init = tf.global_variables_initializer()"
      ],
      "execution_count": 0,
      "outputs": []
    },
    {
      "metadata": {
        "id": "UukYoFwK_Qcc",
        "colab_type": "code",
        "colab": {},
        "outputId": "25c4b678-8d49-4d78-f2c2-9f549eb009a5"
      },
      "cell_type": "code",
      "source": [
        "%%time\n",
        "sess = tf.Session()\n",
        "sess.run(tf.global_variables_initializer())\n",
        "    \n",
        "cost_history = []\n",
        "for epoch in range(1000+1):\n",
        "    for i in range(0, train.shape[1], 50):\n",
        "        X_train_mini = train[:,i:i + 50]\n",
        "        y_train_mini = labels_[:,i:i + 50]\n",
        "\n",
        "        sess.run(optimizer, feed_dict = {X: X_train_mini, Y: y_train_mini, learning_rate: 0.001})\n",
        "    cost_ = sess.run(cost, feed_dict={ X:train, Y: labels_, learning_rate: 0.001})\n",
        "    cost_history = np.append(cost_history, cost_)\n",
        "\n",
        "    if (epoch % 10 == 0):\n",
        "        print(\"Reached epoch\",epoch,\"cost J =\", cost_)"
      ],
      "execution_count": 0,
      "outputs": [
        {
          "output_type": "stream",
          "text": [
            "Reached epoch 0 cost J = 0.329011\n",
            "Reached epoch 10 cost J = 0.220687\n",
            "Reached epoch 20 cost J = 0.169212\n",
            "Reached epoch 30 cost J = 0.147768\n",
            "Reached epoch 40 cost J = 0.135878\n",
            "Reached epoch 50 cost J = 0.127698\n",
            "Reached epoch 60 cost J = 0.121352\n",
            "Reached epoch 70 cost J = 0.116142\n",
            "Reached epoch 80 cost J = 0.111847\n",
            "Reached epoch 90 cost J = 0.108285\n",
            "Reached epoch 100 cost J = 0.105278\n",
            "Reached epoch 110 cost J = 0.102711\n",
            "Reached epoch 120 cost J = 0.100495\n",
            "Reached epoch 130 cost J = 0.0985634\n",
            "Reached epoch 140 cost J = 0.096861\n",
            "Reached epoch 150 cost J = 0.0953485\n",
            "Reached epoch 160 cost J = 0.0939932\n",
            "Reached epoch 170 cost J = 0.0927675\n",
            "Reached epoch 180 cost J = 0.091653\n",
            "Reached epoch 190 cost J = 0.090633\n",
            "Reached epoch 200 cost J = 0.0896948\n",
            "Reached epoch 210 cost J = 0.0888281\n",
            "Reached epoch 220 cost J = 0.0880239\n",
            "Reached epoch 230 cost J = 0.0872742\n",
            "Reached epoch 240 cost J = 0.0865726\n",
            "Reached epoch 250 cost J = 0.0859143\n",
            "Reached epoch 260 cost J = 0.0852939\n",
            "Reached epoch 270 cost J = 0.0847083\n",
            "Reached epoch 280 cost J = 0.0841539\n",
            "Reached epoch 290 cost J = 0.0836273\n",
            "Reached epoch 300 cost J = 0.0831266\n",
            "Reached epoch 310 cost J = 0.0826491\n",
            "Reached epoch 320 cost J = 0.0821923\n",
            "Reached epoch 330 cost J = 0.0817562\n",
            "Reached epoch 340 cost J = 0.0813388\n",
            "Reached epoch 350 cost J = 0.0809386\n",
            "Reached epoch 360 cost J = 0.0805545\n",
            "Reached epoch 370 cost J = 0.0801851\n",
            "Reached epoch 380 cost J = 0.0798293\n",
            "Reached epoch 390 cost J = 0.0794864\n",
            "Reached epoch 400 cost J = 0.0791551\n",
            "Reached epoch 410 cost J = 0.0788343\n",
            "Reached epoch 420 cost J = 0.0785239\n",
            "Reached epoch 430 cost J = 0.0782233\n",
            "Reached epoch 440 cost J = 0.0779321\n",
            "Reached epoch 450 cost J = 0.0776486\n",
            "Reached epoch 460 cost J = 0.0773736\n",
            "Reached epoch 470 cost J = 0.0771054\n",
            "Reached epoch 480 cost J = 0.0768449\n",
            "Reached epoch 490 cost J = 0.0765906\n",
            "Reached epoch 500 cost J = 0.0763431\n",
            "Reached epoch 510 cost J = 0.0761013\n",
            "Reached epoch 520 cost J = 0.0758655\n",
            "Reached epoch 530 cost J = 0.0756344\n",
            "Reached epoch 540 cost J = 0.0754084\n",
            "Reached epoch 550 cost J = 0.0751879\n",
            "Reached epoch 560 cost J = 0.0749722\n",
            "Reached epoch 570 cost J = 0.0747607\n",
            "Reached epoch 580 cost J = 0.0745532\n",
            "Reached epoch 590 cost J = 0.0743506\n",
            "Reached epoch 600 cost J = 0.0741514\n",
            "Reached epoch 610 cost J = 0.0739561\n",
            "Reached epoch 620 cost J = 0.0737648\n",
            "Reached epoch 630 cost J = 0.0735766\n",
            "Reached epoch 640 cost J = 0.0733928\n",
            "Reached epoch 650 cost J = 0.0732119\n",
            "Reached epoch 660 cost J = 0.0730337\n",
            "Reached epoch 670 cost J = 0.0728586\n",
            "Reached epoch 680 cost J = 0.0726859\n",
            "Reached epoch 690 cost J = 0.0725163\n",
            "Reached epoch 700 cost J = 0.0723498\n",
            "Reached epoch 710 cost J = 0.0721855\n",
            "Reached epoch 720 cost J = 0.0720243\n",
            "Reached epoch 730 cost J = 0.0718655\n",
            "Reached epoch 740 cost J = 0.0717089\n",
            "Reached epoch 750 cost J = 0.071554\n",
            "Reached epoch 760 cost J = 0.0714013\n",
            "Reached epoch 770 cost J = 0.0712507\n",
            "Reached epoch 780 cost J = 0.0711022\n",
            "Reached epoch 790 cost J = 0.0709552\n",
            "Reached epoch 800 cost J = 0.0708102\n",
            "Reached epoch 810 cost J = 0.0706674\n",
            "Reached epoch 820 cost J = 0.070527\n",
            "Reached epoch 830 cost J = 0.0703886\n",
            "Reached epoch 840 cost J = 0.0702519\n",
            "Reached epoch 850 cost J = 0.0701171\n",
            "Reached epoch 860 cost J = 0.0699838\n",
            "Reached epoch 870 cost J = 0.0698523\n",
            "Reached epoch 880 cost J = 0.0697223\n",
            "Reached epoch 890 cost J = 0.0695939\n",
            "Reached epoch 900 cost J = 0.0694673\n",
            "Reached epoch 910 cost J = 0.0693414\n",
            "Reached epoch 920 cost J = 0.0692172\n",
            "Reached epoch 930 cost J = 0.069094\n",
            "Reached epoch 940 cost J = 0.0689721\n",
            "Reached epoch 950 cost J = 0.0688518\n",
            "Reached epoch 960 cost J = 0.0687327\n",
            "Reached epoch 970 cost J = 0.0686151\n",
            "Reached epoch 980 cost J = 0.0684985\n",
            "Reached epoch 990 cost J = 0.0683834\n",
            "Reached epoch 1000 cost J = 0.0682689\n",
            "Wall time: 35min 37s\n"
          ],
          "name": "stdout"
        }
      ]
    },
    {
      "metadata": {
        "id": "UdJVFGRq_Qce",
        "colab_type": "code",
        "colab": {},
        "outputId": "35c823f2-8b87-47d4-b0f1-c23abc8dcf1c"
      },
      "cell_type": "code",
      "source": [
        "correct_predictions = tf.equal(tf.argmax(y_,0), tf.argmax(Y,0))\n",
        "accuracy = tf.reduce_mean(tf.cast(correct_predictions, \"float\"))\n",
        "print (\"Accuracy:\", accuracy.eval({X: train, Y: labels_, learning_rate: 0.001}, session = sess))"
      ],
      "execution_count": 0,
      "outputs": [
        {
          "output_type": "stream",
          "text": [
            "Accuracy: 0.864583\n"
          ],
          "name": "stdout"
        }
      ]
    },
    {
      "metadata": {
        "id": "dFdqLNQs_Qcg",
        "colab_type": "code",
        "colab": {},
        "outputId": "6767bf1f-b1e6-4d3f-e10c-e2e94035068b"
      },
      "cell_type": "code",
      "source": [
        "correct_predictions = tf.equal(tf.argmax(y_,0), tf.argmax(Y,0))\n",
        "accuracy = tf.reduce_mean(tf.cast(correct_predictions, \"float\"))\n",
        "print (\"Accuracy:\", accuracy.eval({X: test, Y: labels_test_, learning_rate: 0.001}, session = sess))"
      ],
      "execution_count": 0,
      "outputs": [
        {
          "output_type": "stream",
          "text": [
            "Accuracy: 0.8609\n"
          ],
          "name": "stdout"
        }
      ]
    },
    {
      "metadata": {
        "id": "W16c8yvw_Qci",
        "colab_type": "code",
        "colab": {}
      },
      "cell_type": "code",
      "source": [
        "sess.close()"
      ],
      "execution_count": 0,
      "outputs": []
    },
    {
      "metadata": {
        "id": "9gPiLV3D_Qcj",
        "colab_type": "text"
      },
      "cell_type": "markdown",
      "source": [
        "# 3 layers, 14 neurons"
      ]
    },
    {
      "metadata": {
        "id": "oojGiGWk_Qck",
        "colab_type": "code",
        "colab": {}
      },
      "cell_type": "code",
      "source": [
        "n_dim = 784\n",
        "tf.reset_default_graph()\n",
        "\n",
        "# Number of neurons in the layers\n",
        "n1 = 14 # Number of neurons in layer 1\n",
        "n2 = 14 # Number of neurons in layer 2 \n",
        "n3 = 14\n",
        "n4 = 10\n",
        "#n5 = 10 # Neurons for the softmax function\n",
        "\n",
        "cost_history = np.empty(shape=[0], dtype = float)\n",
        "learning_rate = tf.placeholder(tf.float32, shape=())\n",
        "\n",
        "stddev_f = 0.1\n",
        "\n",
        "tf.set_random_seed(5)\n",
        "\n",
        "X = tf.placeholder(tf.float32, [n_dim, None])\n",
        "Y = tf.placeholder(tf.float32, [10, None])\n",
        "W1 = tf.Variable(tf.random_normal([n1, n_dim], stddev=stddev_f)) \n",
        "b1 = tf.Variable(tf.constant(0.0, shape = [n1,1]) )\n",
        "W2 = tf.Variable(tf.random_normal([n2, n1], stddev=stddev_f)) \n",
        "b2 = tf.Variable(tf.constant(0.0, shape = [n2,1])) \n",
        "W3 = tf.Variable(tf.random_normal([n3,n2], stddev = stddev_f))\n",
        "b3 = tf.Variable(tf.constant(0.0, shape = [n3,1]))\n",
        "W4 = tf.Variable(tf.random_normal([n4,n3], stddev = stddev_f))\n",
        "b4 = tf.Variable(tf.constant(0.0, shape = [n4,1]))\n",
        "                 \n",
        "# Let's build our network...\n",
        "Z1 = tf.nn.relu(tf.matmul(W1, X) + b1) # n1 x n_dim * n_dim x n_obs = n1 x n_obs\n",
        "Z2 = tf.nn.relu(tf.matmul(W2, Z1) + b2) # n2 x n1 * n1 * n_obs = n2 x n_obs\n",
        "Z3 = tf.nn.relu(tf.matmul(W3, Z2) + b3)\n",
        "Z4 = tf.matmul(W4, Z3) + b4\n",
        "y_ = tf.nn.softmax(Z4,0) # n2 x n_obs (10 x None)\n",
        "\n",
        "\n",
        "cost = - tf.reduce_mean(Y * tf.log(y_)+(1-Y) * tf.log(1-y_))\n",
        "optimizer = tf.train.GradientDescentOptimizer(learning_rate).minimize(cost)\n",
        "\n",
        "init = tf.global_variables_initializer()"
      ],
      "execution_count": 0,
      "outputs": []
    },
    {
      "metadata": {
        "scrolled": false,
        "id": "ReGWknIw_Qcl",
        "colab_type": "code",
        "colab": {},
        "outputId": "876e9379-3d24-4bf9-c867-1b658e0a4ec6"
      },
      "cell_type": "code",
      "source": [
        "%%time\n",
        "sess = tf.Session()\n",
        "sess.run(tf.global_variables_initializer())\n",
        "\n",
        "learning_r = 0.3\n",
        "minibatch_size = 50\n",
        "    \n",
        "cost_history = []\n",
        "for epoch in range(100+1):\n",
        "    #print (epoch, ' ', learning_r)\n",
        "    for i in range(0, train.shape[1], minibatch_size):\n",
        "        X_train_mini = train[:,i:i + minibatch_size]\n",
        "        y_train_mini = labels_[:,i:i + minibatch_size]\n",
        "\n",
        "        #sess.run(optimizer, feed_dict = {X: X_train_mini, Y: y_train_mini, learning_rate: learning_r})\n",
        "        sess.run(optimizer, feed_dict = {X: X_train_mini, Y: y_train_mini, learning_rate: learning_r})\n",
        "    cost_ = sess.run(cost, feed_dict={ X:train, Y: labels_})\n",
        "    cost_history = np.append(cost_history, cost_)\n",
        "    \n",
        "    if (epoch >= 2) & (epoch < 15):\n",
        "        learning_r = 5e-2\n",
        "    elif (epoch >= 15):\n",
        "        learning_r = 1e-3\n",
        "    \n",
        "    if (epoch % 10 == 0):\n",
        "        print(\"Reached epoch\",epoch,\"cost J =\", cost_)\n",
        "#        print(sess.run(global_step, feed_dict = { X:train, Y: labels_} ))"
      ],
      "execution_count": 0,
      "outputs": [
        {
          "output_type": "stream",
          "text": [
            "Reached epoch 0 cost J = 0.133113\n",
            "Reached epoch 10 cost J = 0.0752246\n",
            "Reached epoch 20 cost J = 0.0703333\n",
            "Reached epoch 30 cost J = 0.0701873\n",
            "Reached epoch 40 cost J = 0.0700586\n",
            "Reached epoch 50 cost J = 0.0699357\n",
            "Reached epoch 60 cost J = 0.0698157\n",
            "Reached epoch 70 cost J = 0.0696972\n",
            "Reached epoch 80 cost J = 0.0695809\n",
            "Reached epoch 90 cost J = 0.0694662\n",
            "Reached epoch 100 cost J = 0.0693531\n",
            "Wall time: 2min 53s\n"
          ],
          "name": "stdout"
        }
      ]
    },
    {
      "metadata": {
        "id": "JsuRh_TF_Qcn",
        "colab_type": "code",
        "colab": {},
        "outputId": "af6c46e9-1337-43e2-dd96-06ca8e0faabc"
      },
      "cell_type": "code",
      "source": [
        "correct_predictions = tf.equal(tf.argmax(y_,0), tf.argmax(Y,0))\n",
        "accuracy = tf.reduce_mean(tf.cast(correct_predictions, \"float\"))\n",
        "print (\"Accuracy:\", accuracy.eval({X: train, \n",
        "                                   Y: labels_, learning_rate: 0.001}, session = sess))"
      ],
      "execution_count": 0,
      "outputs": [
        {
          "output_type": "stream",
          "text": [
            "Accuracy: 0.860767\n"
          ],
          "name": "stdout"
        }
      ]
    },
    {
      "metadata": {
        "id": "brWqvpUA_Qcp",
        "colab_type": "code",
        "colab": {},
        "outputId": "880bff50-4afa-4398-99bc-77060e7aeb53"
      },
      "cell_type": "code",
      "source": [
        "correct_predictions = tf.equal(tf.argmax(y_,0), tf.argmax(Y,0))\n",
        "accuracy = tf.reduce_mean(tf.cast(correct_predictions, \"float\"))\n",
        "print (\"Accuracy:\", accuracy.eval({X: test, Y: labels_test_, learning_rate: 0.001}, session = sess))"
      ],
      "execution_count": 0,
      "outputs": [
        {
          "output_type": "stream",
          "text": [
            "Accuracy: 0.8527\n"
          ],
          "name": "stdout"
        }
      ]
    },
    {
      "metadata": {
        "id": "SCNPu8AK_Qcs",
        "colab_type": "code",
        "colab": {},
        "outputId": "8ffd3e93-185f-47a8-e5b4-95dec8a4c59f"
      },
      "cell_type": "code",
      "source": [
        "plt.rc('font', family='arial')\n",
        "plt.rc('xtick', labelsize='x-small')\n",
        "plt.rc('ytick', labelsize='x-small')\n",
        "    \n",
        "plt.tight_layout()\n",
        "\n",
        "fig = plt.figure(figsize=(3.9, 3.1))\n",
        "ax = fig.add_subplot(1, 1, 1)\n",
        "ax.plot(cost_historyL3, ls='-', color = 'black', \n",
        "        label = '3 layers, 14 neurons ($Q=11560$), Batch size = 30, \\n$\\gamma = step wise$')\n",
        "ax.plot(cost_history15, ls='--', color = 'black', \n",
        "        label = '1 layer, 15 neurons ($Q=11935$), Batch size = 50, \\n$\\gamma = 0.05$')\n",
        "ax.set_xlabel('epochs')\n",
        "ax.set_ylabel('Cost function $J$')\n",
        "plt.legend(bbox_to_anchor=(1.05, 1), loc=2, borderaxespad=0.)\n",
        "plt.xlim((0,100))"
      ],
      "execution_count": 0,
      "outputs": [
        {
          "output_type": "execute_result",
          "data": {
            "text/plain": [
              "(0, 100)"
            ]
          },
          "metadata": {
            "tags": []
          },
          "execution_count": 104
        },
        {
          "output_type": "display_data",
          "data": {
            "text/plain": [
              "<matplotlib.figure.Figure at 0x235005e9b38>"
            ]
          },
          "metadata": {
            "tags": []
          }
        },
        {
          "output_type": "display_data",
          "data": {
            "image/png": "[encoded data removed]",
            "text/plain": [
              "<matplotlib.figure.Figure at 0x235005e92e8>"
            ]
          },
          "metadata": {
            "tags": []
          }
        }
      ]
    },
    {
      "metadata": {
        "id": "rYcYNCGC_Qct",
        "colab_type": "code",
        "colab": {}
      },
      "cell_type": "code",
      "source": [
        "sess.close()"
      ],
      "execution_count": 0,
      "outputs": []
    },
    {
      "metadata": {
        "id": "j-sNYMdd_Qcu",
        "colab_type": "text"
      },
      "cell_type": "markdown",
      "source": [
        "# 3 layers, 10 neurons"
      ]
    },
    {
      "metadata": {
        "id": "UhobWBOs_Qcu",
        "colab_type": "code",
        "colab": {}
      },
      "cell_type": "code",
      "source": [
        "n_dim = 784\n",
        "tf.reset_default_graph()\n",
        "\n",
        "# Number of neurons in the layers\n",
        "n1 = 10 # Number of neurons in layer 1\n",
        "n2 = 10 # Number of neurons in layer 2 \n",
        "n3 = 10\n",
        "n4 = 10\n",
        "#n5 = 10 # Neurons for the softmax function\n",
        "\n",
        "cost_history = np.empty(shape=[0], dtype = float)\n",
        "learning_rate = tf.placeholder(tf.float32, shape=())\n",
        "\n",
        "stddev_f = 0.1\n",
        "\n",
        "tf.set_random_seed(5)\n",
        "\n",
        "X = tf.placeholder(tf.float32, [n_dim, None])\n",
        "Y = tf.placeholder(tf.float32, [10, None])\n",
        "W1 = tf.Variable(tf.truncated_normal([n1, n_dim], stddev=2.0 / np.sqrt(n_dim+n2))) \n",
        "b1 = tf.Variable(tf.constant(0.0, shape = [n1,1]) )\n",
        "W2 = tf.Variable(tf.truncated_normal([n2, n1], stddev=2.0 / np.sqrt(n1+n3))) \n",
        "b2 = tf.Variable(tf.constant(0.0, shape = [n2,1])) \n",
        "W3 = tf.Variable(tf.truncated_normal([n3,n2], stddev = 2.0 / np.sqrt(n2+n4)))\n",
        "b3 = tf.Variable(tf.constant(0.0, shape = [n3,1]))\n",
        "W4 = tf.Variable(tf.truncated_normal([n4,n3], stddev = 2.0 / np.sqrt(n3+1)))\n",
        "b4 = tf.Variable(tf.constant(0.0, shape = [n4,1]))\n",
        "#W5 = tf.Variable(tf.truncated_normal([n5,n4], stddev = stddev_f))\n",
        "#b5 = tf.Variable(tf.constant(stddev_f, shape = [n5,1]))\n",
        "                 \n",
        "# Let's build our network...\n",
        "Z1 = tf.nn.relu(tf.matmul(W1, X) + b1) # n1 x n_dim * n_dim x n_obs = n1 x n_obs\n",
        "Z2 = tf.nn.relu(tf.matmul(W2, Z1) + b2) # n2 x n1 * n1 * n_obs = n2 x n_obs\n",
        "Z3 = tf.nn.relu(tf.matmul(W3, Z2) + b3)\n",
        "Z4 = tf.matmul(W4, Z3) + b4\n",
        "#Z4 = tf.nn.relu(tf.matmul(W4, Z3) + b4)\n",
        "#Z5 = tf.matmul(W5,Z4) + b5\n",
        "y_ = tf.nn.softmax(Z4,0) # n2 x n_obs (10 x None)\n",
        "\n",
        "cost = - tf.reduce_mean(Y * tf.log(y_)+(1-Y) * tf.log(1-y_))\n",
        "optimizer = tf.train.GradientDescentOptimizer(learning_rate).minimize(cost)\n",
        "init = tf.global_variables_initializer()"
      ],
      "execution_count": 0,
      "outputs": []
    },
    {
      "metadata": {
        "id": "fZN5hpZw_Qcw",
        "colab_type": "code",
        "colab": {},
        "outputId": "08e44357-7c9d-4e8b-abaa-9cf3d182cbdd"
      },
      "cell_type": "code",
      "source": [
        "%%time\n",
        "sess = tf.Session()\n",
        "sess.run(tf.global_variables_initializer())\n",
        "\n",
        "learning_r = 0.01\n",
        "minibatch_size = 50\n",
        "    \n",
        "cost_historyL3 = []\n",
        "for epoch in range(100+1):\n",
        "    #print (epoch, ' ', learning_r)\n",
        "    for i in range(0, train.shape[1], minibatch_size):\n",
        "        X_train_mini = train[:,i:i + minibatch_size]\n",
        "        y_train_mini = labels_[:,i:i + minibatch_size]\n",
        "\n",
        "        #sess.run(optimizer, feed_dict = {X: X_train_mini, Y: y_train_mini, learning_rate: learning_r})\n",
        "        sess.run(optimizer, feed_dict = {X: X_train_mini, Y: y_train_mini, learning_rate: learning_r})\n",
        "    cost_ = sess.run(cost, feed_dict={ X:train, Y: labels_})\n",
        "    cost_historyL3 = np.append(cost_historyL3, cost_)\n",
        "    \n",
        "    if (epoch >= 50) & (epoch < 100):\n",
        "        learning_r = 1e-3\n",
        "    #elif (epoch >= 10):\n",
        "    #    learning_r = 1e-3\n",
        "    \n",
        "    if (epoch % 5 == 0):\n",
        "        print(\"Reached epoch\",epoch,\"cost J =\", cost_)\n",
        "#        print(sess.run(global_step, feed_dict = { X:train, Y: labels_} ))"
      ],
      "execution_count": 0,
      "outputs": [
        {
          "output_type": "stream",
          "text": [
            "Reached epoch 0 cost J = 0.302226\n",
            "Reached epoch 5 cost J = 0.137558\n",
            "Reached epoch 10 cost J = 0.108331\n",
            "Reached epoch 15 cost J = 0.100399\n",
            "Reached epoch 20 cost J = 0.0955192\n",
            "Reached epoch 25 cost J = 0.0916443\n",
            "Reached epoch 30 cost J = 0.0883506\n",
            "Reached epoch 35 cost J = 0.0856237\n",
            "Reached epoch 40 cost J = 0.0833771\n",
            "Reached epoch 45 cost J = 0.0814716\n",
            "Reached epoch 50 cost J = 0.0799088\n",
            "Reached epoch 55 cost J = 0.0792906\n",
            "Reached epoch 60 cost J = 0.0791393\n",
            "Reached epoch 65 cost J = 0.0789921\n",
            "Reached epoch 70 cost J = 0.0788486\n",
            "Reached epoch 75 cost J = 0.0787086\n",
            "Reached epoch 80 cost J = 0.0785708\n",
            "Reached epoch 85 cost J = 0.0784354\n",
            "Reached epoch 90 cost J = 0.0783033\n",
            "Reached epoch 95 cost J = 0.078173\n",
            "Reached epoch 100 cost J = 0.0780451\n",
            "Wall time: 2min 59s\n"
          ],
          "name": "stdout"
        }
      ]
    },
    {
      "metadata": {
        "id": "CdjwxHem_Qcx",
        "colab_type": "code",
        "colab": {},
        "outputId": "fc3d5e03-2329-474e-de4b-b446b6c95629"
      },
      "cell_type": "code",
      "source": [
        "plt.rc('font', family='arial')\n",
        "plt.rc('xtick', labelsize='x-small')\n",
        "plt.rc('ytick', labelsize='x-small')\n",
        "    \n",
        "plt.tight_layout()\n",
        "\n",
        "fig = plt.figure(figsize=(3.9, 3.1))\n",
        "ax = fig.add_subplot(1, 1, 1)\n",
        "ax.plot(cost_historyL3, ls='-', color = 'black', \n",
        "        label = '3 layers, 10 neurons ($Q=8180$), Batch size = 30, \\n$\\gamma = step wise$')\n",
        "ax.plot(cost_history15, ls='--', color = 'black', \n",
        "        label = '1 layer, 15 neurons ($Q=11935$), Batch size = 50, \\n$\\gamma = 0.05$')\n",
        "ax.set_xlabel('epochs')\n",
        "ax.set_ylabel('Cost function $J$')\n",
        "plt.legend(bbox_to_anchor=(1.05, 1), loc=2, borderaxespad=0.)\n",
        "plt.xlim((0,100))"
      ],
      "execution_count": 0,
      "outputs": [
        {
          "output_type": "execute_result",
          "data": {
            "text/plain": [
              "(0, 100)"
            ]
          },
          "metadata": {
            "tags": []
          },
          "execution_count": 144
        },
        {
          "output_type": "display_data",
          "data": {
            "text/plain": [
              "<matplotlib.figure.Figure at 0x23500d90a58>"
            ]
          },
          "metadata": {
            "tags": []
          }
        },
        {
          "output_type": "display_data",
          "data": {
            "image/png": "[encoded data removed]",
            "text/plain": [
              "<matplotlib.figure.Figure at 0x23500d90a90>"
            ]
          },
          "metadata": {
            "tags": []
          }
        }
      ]
    },
    {
      "metadata": {
        "id": "qkjDq3cC_Qcz",
        "colab_type": "text"
      },
      "cell_type": "markdown",
      "source": [
        "# 1 Layer with decaying learning rate"
      ]
    },
    {
      "metadata": {
        "id": "uY-QUzlP_Qc0",
        "colab_type": "code",
        "colab": {}
      },
      "cell_type": "code",
      "source": [
        "n_dim = 784\n",
        "tf.reset_default_graph()\n",
        "\n",
        "# Number of neurons in the layers\n",
        "n1 = 100 # Number of neurons in layer 1\n",
        "n2 = 10 # Neurons for the softmax function\n",
        "\n",
        "cost_history = np.empty(shape=[1], dtype = float)\n",
        "\n",
        "stddev_f = 0.1\n",
        "\n",
        "X = tf.placeholder(tf.float32, [n_dim, None])\n",
        "Y = tf.placeholder(tf.float32, [10, None])\n",
        "W1 = tf.Variable(tf.truncated_normal([n1, n_dim], stddev=stddev_f)) \n",
        "b1 = tf.Variable(tf.constant(stddev_f, shape = [n1,1]) )\n",
        "W2 = tf.Variable(tf.truncated_normal([n2,n1], stddev = stddev_f))\n",
        "b2 = tf.Variable(tf.constant(stddev_f, shape = [n2,1]))\n",
        "                 \n",
        "# Let's build our network...\n",
        "Z1 = tf.nn.sigmoid(tf.matmul(W1, X) + b1) # n1 x n_dim * n_dim x n_obs = n1 x n_obs\n",
        "Z2 = tf.matmul(W2,Z1) + b2\n",
        "y_ = tf.nn.softmax(Z2,0) # n2 x n_obs (10 x None)\n",
        "\n",
        "\n",
        "global_step = tf.Variable(0, trainable=False)\n",
        "starter_learning_rate = 0.05\n",
        "learning_rate = tf.train.exponential_decay(starter_learning_rate, global_step,\n",
        "                                       1e5, 0.9, staircase=True)\n",
        "\n",
        "\n",
        "# Passing global_step to minimize() will increment it at each step.\n",
        "\n",
        "cost = - tf.reduce_mean(Y * tf.log(y_)+(1-Y) * tf.log(1-y_))\n",
        "\n",
        "learning_step = tf.train.GradientDescentOptimizer(learning_rate).minimize(cost, global_step=global_step)\n",
        "\n",
        "init = tf.global_variables_initializer()"
      ],
      "execution_count": 0,
      "outputs": []
    },
    {
      "metadata": {
        "scrolled": false,
        "id": "39fFi8ae_Qc1",
        "colab_type": "code",
        "colab": {}
      },
      "cell_type": "code",
      "source": [
        "%%time\n",
        "sess = tf.Session()\n",
        "sess.run(tf.global_variables_initializer())\n",
        "\n",
        "#learning_r = 1e-5\n",
        "minibatch_size = 20\n",
        "    \n",
        "cost_history = []\n",
        "for epoch in range(200+1):\n",
        "    rnd_list = np.random.choice(train.shape[1], 60000)\n",
        "    train_red = train[:, rnd_list]\n",
        "    labels_red = labels_[:, rnd_list]\n",
        "    for i in range(0, train.shape[1], minibatch_size):\n",
        "        X_train_mini = train_red[:,i:i + minibatch_size]\n",
        "        y_train_mini = labels_red[:,i:i + minibatch_size]\n",
        "\n",
        "        #sess.run(optimizer, feed_dict = {X: X_train_mini, Y: y_train_mini, learning_rate: learning_r})\n",
        "        sess.run(learning_step, feed_dict = {X: X_train_mini, Y: y_train_mini})\n",
        "    cost_ = sess.run(cost, feed_dict={ X:train, Y: labels_})\n",
        "    cost_history = np.append(cost_history, cost_)\n",
        "    #if (epoch % 30 == 0):\n",
        "    #    learning_r = learning_r / 2.0\n",
        "\n",
        "    if (epoch % 10 == 0):\n",
        "        print(\"Reached epoch\",epoch,\"cost J =\", cost_)\n",
        "        print(sess.run(global_step, feed_dict = { X:train, Y: labels_} ))"
      ],
      "execution_count": 0,
      "outputs": []
    },
    {
      "metadata": {
        "id": "Lcghpyt5_Qc3",
        "colab_type": "code",
        "colab": {},
        "outputId": "1fffa369-1ff2-4ffb-eb4f-de252063fe1e"
      },
      "cell_type": "code",
      "source": [
        "correct_predictions = tf.equal(tf.argmax(y_,0), tf.argmax(Y,0))\n",
        "accuracy = tf.reduce_mean(tf.cast(correct_predictions, \"float\"))\n",
        "print (\"Accuracy:\", accuracy.eval({X: train, Y: labels_, learning_rate: 0.001}, session = sess))"
      ],
      "execution_count": 0,
      "outputs": [
        {
          "output_type": "stream",
          "text": [
            "Accuracy: 0.1\n"
          ],
          "name": "stdout"
        }
      ]
    },
    {
      "metadata": {
        "id": "fi_04chc_Qc4",
        "colab_type": "code",
        "colab": {},
        "outputId": "6da3fdae-52a8-4f07-dc71-02b4171ea4a5"
      },
      "cell_type": "code",
      "source": [
        "correct_predictions = tf.equal(tf.argmax(y_,0), tf.argmax(Y,0))\n",
        "accuracy = tf.reduce_mean(tf.cast(correct_predictions, \"float\"))\n",
        "print (\"Accuracy:\", accuracy.eval({X: test, Y: labels_test_, learning_rate: 0.001}, session = sess))"
      ],
      "execution_count": 0,
      "outputs": [
        {
          "output_type": "stream",
          "text": [
            "Accuracy: 0.1\n"
          ],
          "name": "stdout"
        }
      ]
    },
    {
      "metadata": {
        "id": "_pTeqRdu_Qc5",
        "colab_type": "code",
        "colab": {},
        "outputId": "41d9c594-323e-4337-dac2-01041515a8a5"
      },
      "cell_type": "code",
      "source": [
        "plt.rc('font', family='arial')\n",
        "plt.rc('xtick', labelsize='x-small')\n",
        "plt.rc('ytick', labelsize='x-small')\n",
        "    \n",
        "plt.tight_layout()\n",
        "\n",
        "fig = plt.figure(figsize=(3.9, 3.1))\n",
        "ax = fig.add_subplot(1, 1, 1)\n",
        "#ax.plot(cost_history1, ls='solid', color = 'black')\n",
        "ax.plot(cost_history, ls='-', color = 'black')\n",
        "ax.set_xlabel('epochs')\n",
        "ax.set_ylabel('Cost function $J$')\n",
        "\n",
        "#fig.savefig('Figure_1-19'+'.pdf', format='pdf', dpi=300,bbox_inches='tight')\n",
        "#fig.savefig('Figure_3-16'+'.png', format='png', dpi=300,bbox_inches='tight')\n",
        "\n",
        "#plt.figure(figsize=(8,6))\n",
        "#plt.title(\"Cost Function vs. epoch number\")\n",
        "#plt.xlabel(\"epochs\")\n",
        "#plt.xlim((0,1000))\n",
        "#plt.ylabel(\"Cost function $J$\")\n",
        "#plt.plot(range(len(cost_history)), cost_history)"
      ],
      "execution_count": 0,
      "outputs": [
        {
          "output_type": "execute_result",
          "data": {
            "text/plain": [
              "Text(0,0.5,'Cost function $J$')"
            ]
          },
          "metadata": {
            "tags": []
          },
          "execution_count": 118
        },
        {
          "output_type": "display_data",
          "data": {
            "text/plain": [
              "<matplotlib.figure.Figure at 0x1ec28e32e10>"
            ]
          },
          "metadata": {
            "tags": []
          }
        },
        {
          "output_type": "display_data",
          "data": {
            "image/png": "[encoded data removed]",
            "text/plain": [
              "<matplotlib.figure.Figure at 0x1ec28e32898>"
            ]
          },
          "metadata": {
            "tags": []
          }
        }
      ]
    },
    {
      "metadata": {
        "id": "snDQUxDG_Qc6",
        "colab_type": "code",
        "colab": {}
      },
      "cell_type": "code",
      "source": [
        "sess.close()"
      ],
      "execution_count": 0,
      "outputs": []
    },
    {
      "metadata": {
        "id": "zICvH_n9_Qc7",
        "colab_type": "text"
      },
      "cell_type": "markdown",
      "source": [
        "# Function to create a layer"
      ]
    },
    {
      "metadata": {
        "id": "XCK1fJbs_Qc7",
        "colab_type": "code",
        "colab": {}
      },
      "cell_type": "code",
      "source": [
        "def create_layer (X, n, activation):\n",
        "    ndim = int(X.shape[0])\n",
        "    stddev = 2.0 / np.sqrt(ndim)\n",
        "    initialization = tf.truncated_normal((n, ndim), stddev = stddev)\n",
        "    W = tf.Variable(initialization)\n",
        "    b = tf.Variable(tf.zeros([n,1]))\n",
        "    Z = tf.matmul(W,X)+b\n",
        "    return activation(Z)"
      ],
      "execution_count": 0,
      "outputs": []
    },
    {
      "metadata": {
        "id": "eGaHaF1R_Qc8",
        "colab_type": "code",
        "colab": {}
      },
      "cell_type": "code",
      "source": [
        "tf.reset_default_graph()\n",
        "\n",
        "n_dim = 784\n",
        "n1 = 20\n",
        "n2 = 20\n",
        "n3 = 20\n",
        "n4 = 20\n",
        "n_outputs = 10\n",
        "\n",
        "tf.set_random_seed(5)\n",
        "\n",
        "X = tf.placeholder(tf.float32, [n_dim, None])\n",
        "Y = tf.placeholder(tf.float32, [10, None])\n",
        "\n",
        "learning_rate = tf.placeholder(tf.float32, shape=())\n",
        "\n",
        "hidden1 = create_layer (X, n1, activation = tf.nn.relu)\n",
        "hidden2 = create_layer (hidden1, n2, activation = tf.nn.relu)\n",
        "hidden3 = create_layer (hidden2, n3, activation = tf.nn.relu)\n",
        "hidden4 = create_layer (hidden3, n4, activation = tf.nn.relu)\n",
        "outputs = create_layer (hidden4, n_outputs, activation = tf.identity)\n",
        "y_ = tf.nn.softmax(outputs)\n",
        "\n",
        "cost = - tf.reduce_mean(Y * tf.log(y_)+(1-Y) * tf.log(1-y_))\n",
        "\n",
        "optimizer = tf.train.GradientDescentOptimizer(learning_rate).minimize(cost)"
      ],
      "execution_count": 0,
      "outputs": []
    },
    {
      "metadata": {
        "id": "Al8i3zGW_Qc8",
        "colab_type": "code",
        "colab": {}
      },
      "cell_type": "code",
      "source": [
        "def model(minibatch_size, training_epochs, features, classes, logging_step = 100, learning_r = 0.001):\n",
        "    sess = tf.Session()\n",
        "    sess.run(tf.global_variables_initializer())\n",
        "\n",
        "    cost_history = []\n",
        "    for epoch in range(training_epochs+1):\n",
        "        for i in range(0, features.shape[1], minibatch_size):\n",
        "            X_train_mini = features[:,i:i + minibatch_size]\n",
        "            y_train_mini = classes[:,i:i + minibatch_size]\n",
        "\n",
        "            sess.run(optimizer, feed_dict = {X: X_train_mini, Y: y_train_mini, learning_rate: learning_r})\n",
        "        cost_ = sess.run(cost, feed_dict={ X:features, Y: classes, learning_rate: learning_r})\n",
        "        cost_history = np.append(cost_history, cost_)\n",
        "\n",
        "        if (epoch % logging_step == 0):\n",
        "                print(\"Reached epoch\",epoch,\"cost J =\", cost_)\n",
        "                \n",
        "    return sess, cost_history"
      ],
      "execution_count": 0,
      "outputs": []
    },
    {
      "metadata": {
        "id": "BmA12asZ_Qc9",
        "colab_type": "text"
      },
      "cell_type": "markdown",
      "source": [
        "## Plain GD"
      ]
    },
    {
      "metadata": {
        "scrolled": false,
        "id": "KyU-QNaN_Qc9",
        "colab_type": "code",
        "colab": {},
        "outputId": "228a710a-9740-4c4c-d735-ed7a15351ad2"
      },
      "cell_type": "code",
      "source": [
        "sess, cost_history = model (50, 100, train, labels_, logging_step = 10, learning_r = 0.01)"
      ],
      "execution_count": 0,
      "outputs": [
        {
          "output_type": "stream",
          "text": [
            "Reached epoch 0 cost J = 1.00874\n",
            "Reached epoch 10 cost J = 0.93706\n",
            "Reached epoch 20 cost J = 0.927668\n",
            "Reached epoch 30 cost J = 0.923309\n",
            "Reached epoch 40 cost J = 0.920409\n",
            "Reached epoch 50 cost J = 0.918113\n",
            "Reached epoch 60 cost J = 0.916245\n",
            "Reached epoch 70 cost J = 0.914733\n",
            "Reached epoch 80 cost J = 0.913462\n",
            "Reached epoch 90 cost J = 0.912368\n",
            "Reached epoch 100 cost J = 0.911416\n"
          ],
          "name": "stdout"
        }
      ]
    },
    {
      "metadata": {
        "id": "Eis7EYEU_Qc-",
        "colab_type": "code",
        "colab": {},
        "outputId": "eca8889d-3812-475b-ac3c-1a5cbf50da42"
      },
      "cell_type": "code",
      "source": [
        "correct_predictions = tf.equal(tf.argmax(y_,0), tf.argmax(Y,0))\n",
        "accuracy = tf.reduce_mean(tf.cast(correct_predictions, \"float\"))\n",
        "print (\"Accuracy:\", accuracy.eval({X: train, Y: labels_, learning_rate: 0.001}, session = sess))"
      ],
      "execution_count": 0,
      "outputs": [
        {
          "output_type": "stream",
          "text": [
            "Accuracy: 0.868317\n"
          ],
          "name": "stdout"
        }
      ]
    },
    {
      "metadata": {
        "id": "x-ZKepQF_Qc_",
        "colab_type": "code",
        "colab": {},
        "outputId": "1289fb7d-cbd3-4766-a30e-cd7b1b6fe3ad"
      },
      "cell_type": "code",
      "source": [
        "correct_predictions = tf.equal(tf.argmax(y_,0), tf.argmax(Y,0))\n",
        "accuracy = tf.reduce_mean(tf.cast(correct_predictions, \"float\"))\n",
        "print (\"Accuracy:\", accuracy.eval({X: test, Y: labels_test_, learning_rate: 0.001}, session = sess))"
      ],
      "execution_count": 0,
      "outputs": [
        {
          "output_type": "stream",
          "text": [
            "Accuracy: 0.8606\n"
          ],
          "name": "stdout"
        }
      ]
    },
    {
      "metadata": {
        "id": "2_u-HXdi_QdA",
        "colab_type": "text"
      },
      "cell_type": "markdown",
      "source": [
        "## Construction"
      ]
    },
    {
      "metadata": {
        "id": "gD0kRdmw_QdA",
        "colab_type": "code",
        "colab": {}
      },
      "cell_type": "code",
      "source": [
        "n_dim = 784\n",
        "n1 = 20\n",
        "n2 = 20\n",
        "n3 = 20\n",
        "n4 = 20\n",
        "n_outputs = 10\n",
        "\n",
        "tf.reset_default_graph()\n",
        "\n",
        "tf.set_random_seed(5)\n",
        "\n",
        "X = tf.placeholder(tf.float32, [n_dim, None])\n",
        "Y = tf.placeholder(tf.float32, [10, None])\n",
        "\n",
        "learning_rate_value = tf.placeholder(tf.float32, shape=())\n",
        "\n",
        "initial_learning_rate = 0.1\n",
        "decay_steps = 1000\n",
        "nu = 0.1\n",
        "global_step = tf.Variable(0, trainable = False)\n",
        "learning_rate_decay = tf.train.inverse_time_decay(initial_learning_rate, global_step, decay_steps, nu)\n",
        "learning_rate_value = learning_rate_decay\n",
        "\n",
        "hidden1 = create_layer (X, n1, activation = tf.nn.relu)\n",
        "hidden2 = create_layer (hidden1, n2, activation = tf.nn.relu)\n",
        "hidden3 = create_layer (hidden2, n3, activation = tf.nn.relu)\n",
        "hidden4 = create_layer (hidden3, n4, activation = tf.nn.relu)\n",
        "outputs = create_layer (hidden4, n_outputs, activation = tf.identity)\n",
        "y_ = tf.nn.softmax(outputs)\n",
        "\n",
        "cost = - tf.reduce_mean(Y * tf.log(y_)+(1-Y) * tf.log(1-y_))\n",
        "optimizer = tf.train.GradientDescentOptimizer(learning_rate_decay).minimize(cost, global_step = global_step)"
      ],
      "execution_count": 0,
      "outputs": []
    },
    {
      "metadata": {
        "id": "yy46r5fy_QdB",
        "colab_type": "code",
        "colab": {}
      },
      "cell_type": "code",
      "source": [
        "def model_nat_exp(minibatch_size, training_epochs, features, classes, logging_step = 100, learning_r = 0.001):\n",
        "    sess = tf.Session()\n",
        "    sess.run(tf.global_variables_initializer())\n",
        "    \n",
        "    print('Initial Learning rate: %f' % (sess.run(learning_rate_value)))\n",
        "\n",
        "    cost_history = []\n",
        "    for epoch in range(training_epochs+1):\n",
        "        for i in range(0, features.shape[1], minibatch_size):\n",
        "            X_train_mini = features[:,i:i + minibatch_size]\n",
        "            y_train_mini = classes[:,i:i + minibatch_size]\n",
        "\n",
        "            sess.run(optimizer, feed_dict = {X: X_train_mini, Y: y_train_mini})\n",
        "        cost_ = sess.run(cost, feed_dict={ X:features, Y: classes})\n",
        "        cost_history = np.append(cost_history, cost_)\n",
        "\n",
        "        if (epoch % logging_step == 0):\n",
        "                print(\"Reached epoch\",epoch,\"cost J =\", cost_)\n",
        "                print('Learning rate: %f' % (sess.run(learning_rate_value)), 'Iterations: %d' % (sess.run(global_step)))\n",
        "#                print('Iterations: %f' % (sess.run(global_step)))\n",
        "                \n",
        "    return sess, cost_history"
      ],
      "execution_count": 0,
      "outputs": []
    },
    {
      "metadata": {
        "id": "3PLo_QFo_QdC",
        "colab_type": "code",
        "colab": {},
        "outputId": "1c0bd89a-8b1b-4053-8885-4b4bb2b54f55"
      },
      "cell_type": "code",
      "source": [
        "sess_decay, cost_history_decay = model_nat_exp (50, 100, train, labels_, logging_step = 10, learning_r = 0.01)"
      ],
      "execution_count": 0,
      "outputs": [
        {
          "output_type": "stream",
          "text": [
            "Initial Learning rate: 0.100000\n",
            "Reached epoch 0 cost J = 0.946677\n",
            "Learning rate: 0.089286 Iterations: 1200\n",
            "Reached epoch 10 cost J = 0.912747\n",
            "Learning rate: 0.043103 Iterations: 13200\n",
            "Reached epoch 20 cost J = 0.909006\n",
            "Learning rate: 0.028409 Iterations: 25200\n",
            "Reached epoch 30 cost J = 0.907327\n",
            "Learning rate: 0.021186 Iterations: 37200\n",
            "Reached epoch 40 cost J = 0.906332\n",
            "Learning rate: 0.016892 Iterations: 49200\n",
            "Reached epoch 50 cost J = 0.90562\n",
            "Learning rate: 0.014045 Iterations: 61200\n",
            "Reached epoch 60 cost J = 0.905084\n",
            "Learning rate: 0.012019 Iterations: 73200\n",
            "Reached epoch 70 cost J = 0.904667\n",
            "Learning rate: 0.010504 Iterations: 85200\n",
            "Reached epoch 80 cost J = 0.904326\n",
            "Learning rate: 0.009328 Iterations: 97200\n",
            "Reached epoch 90 cost J = 0.904037\n",
            "Learning rate: 0.008389 Iterations: 109200\n",
            "Reached epoch 100 cost J = 0.903785\n",
            "Learning rate: 0.007622 Iterations: 121200\n"
          ],
          "name": "stdout"
        }
      ]
    },
    {
      "metadata": {
        "scrolled": false,
        "id": "PsQvhKqv_QdD",
        "colab_type": "code",
        "colab": {}
      },
      "cell_type": "code",
      "source": [
        "correct_predictions = tf.equal(tf.argmax(y_,0), tf.argmax(Y,0))\n",
        "accuracy = tf.reduce_mean(tf.cast(correct_predictions, \"float\"))\n",
        "print (\"Accuracy:\", accuracy.eval({X: train, Y: labels_}, session = sess_decay))"
      ],
      "execution_count": 0,
      "outputs": []
    }
  ]
}