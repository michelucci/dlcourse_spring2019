{
  "nbformat": 4,
  "nbformat_minor": 0,
  "metadata": {
    "colab": {
      "name": "Week 2 - Data Analysis Example-3 and 8.ipynb",
      "version": "0.3.2",
      "provenance": []
    },
    "kernelspec": {
      "display_name": "Python 3",
      "language": "python",
      "name": "python3"
    }
  },
  "cells": [
    {
      "metadata": {
        "id": "y_H2WJbO4ZIK",
        "colab_type": "text"
      },
      "cell_type": "markdown",
      "source": [
        "# Neural Networks and Deep Learning for Life Sciences and Health Applications - An introductory course about theoretical fundamentals, case studies and implementations in python and tensorflow "
      ]
    },
    {
      "metadata": {
        "id": "oduGZMLT4ZIM",
        "colab_type": "text"
      },
      "cell_type": "markdown",
      "source": [
        "(C) Umberto Michelucci 2018 - umberto.michelucci@gmail.com \n",
        "\n",
        "github repository: https://github.com/michelucci/zhaw-dlcourse-spring2019\n",
        "\n",
        "Spring Semester 2019"
      ]
    },
    {
      "metadata": {
        "id": "2PFQZUc94ZIN",
        "colab_type": "text"
      },
      "cell_type": "markdown",
      "source": [
        "## Libraries"
      ]
    },
    {
      "metadata": {
        "id": "4iKJBMD24ZIO",
        "colab_type": "code",
        "colab": {}
      },
      "cell_type": "code",
      "source": [
        "import numpy as np\n",
        "from sklearn.datasets import fetch_mldata\n",
        "\n",
        "%matplotlib inline\n",
        "\n",
        "import matplotlib\n",
        "import matplotlib.pyplot as plt\n",
        "\n",
        "from random import *"
      ],
      "execution_count": 0,
      "outputs": []
    },
    {
      "metadata": {
        "id": "ijKs1yQ14ZIR",
        "colab_type": "text"
      },
      "cell_type": "markdown",
      "source": [
        "## Data preparation"
      ]
    },
    {
      "metadata": {
        "id": "hMtHPwnr4ZIS",
        "colab_type": "text"
      },
      "cell_type": "markdown",
      "source": [
        "To get MNIST data we use the function fetch_mldata, in the datasets package. Let's get all the dataset, and then we will select only the digits we want."
      ]
    },
    {
      "metadata": {
        "id": "R-ZFTX_y4ZIT",
        "colab_type": "code",
        "colab": {},
        "outputId": "69825931-abbe-476e-eda0-5b5141964dbb"
      },
      "cell_type": "code",
      "source": [
        "mnist = fetch_mldata('MNIST original')\n",
        "mnist"
      ],
      "execution_count": 0,
      "outputs": [
        {
          "output_type": "execute_result",
          "data": {
            "text/plain": [
              "{'COL_NAMES': ['label', 'data'],\n",
              " 'DESCR': 'mldata.org dataset: mnist-original',\n",
              " 'data': array([[0, 0, 0, ..., 0, 0, 0],\n",
              "        [0, 0, 0, ..., 0, 0, 0],\n",
              "        [0, 0, 0, ..., 0, 0, 0],\n",
              "        ..., \n",
              "        [0, 0, 0, ..., 0, 0, 0],\n",
              "        [0, 0, 0, ..., 0, 0, 0],\n",
              "        [0, 0, 0, ..., 0, 0, 0]], dtype=uint8),\n",
              " 'target': array([ 0.,  0.,  0., ...,  9.,  9.,  9.])}"
            ]
          },
          "metadata": {
            "tags": []
          },
          "execution_count": 2
        }
      ]
    },
    {
      "metadata": {
        "id": "QrxheS3n4ZIY",
        "colab_type": "code",
        "colab": {}
      },
      "cell_type": "code",
      "source": [
        "Xinput_,yinput_ = mnist[\"data\"], mnist[\"target\"]"
      ],
      "execution_count": 0,
      "outputs": []
    },
    {
      "metadata": {
        "id": "xVcbeKvv4ZIa",
        "colab_type": "code",
        "colab": {},
        "outputId": "5f3fe8da-15b7-408f-9eff-39e6a516dbd4"
      },
      "cell_type": "code",
      "source": [
        "Xinput_.shape"
      ],
      "execution_count": 0,
      "outputs": [
        {
          "output_type": "execute_result",
          "data": {
            "text/plain": [
              "(70000, 784)"
            ]
          },
          "metadata": {
            "tags": []
          },
          "execution_count": 4
        }
      ]
    },
    {
      "metadata": {
        "id": "fzCq3Eii4ZId",
        "colab_type": "code",
        "colab": {},
        "outputId": "f563f82b-4c79-4a19-f4d1-09d8e37bef96"
      },
      "cell_type": "code",
      "source": [
        "yinput_.shape"
      ],
      "execution_count": 0,
      "outputs": [
        {
          "output_type": "execute_result",
          "data": {
            "text/plain": [
              "(70000,)"
            ]
          },
          "metadata": {
            "tags": []
          },
          "execution_count": 5
        }
      ]
    },
    {
      "metadata": {
        "id": "HBx4gQ8j4ZIg",
        "colab_type": "text"
      },
      "cell_type": "markdown",
      "source": [
        "To know how many digits we have we can run this simple code"
      ]
    },
    {
      "metadata": {
        "id": "sFO95OpG4ZIh",
        "colab_type": "code",
        "colab": {},
        "outputId": "07032a4d-2c34-4c24-e5bf-a427ea1a588b"
      },
      "cell_type": "code",
      "source": [
        "total = 0\n",
        "for i in range(10):\n",
        "    print (\"digit\", i, \"appear\", np.count_nonzero(yinput_ == i), \"times\")"
      ],
      "execution_count": 0,
      "outputs": [
        {
          "output_type": "stream",
          "text": [
            "digit 0 appear 6903 times\n",
            "digit 1 appear 7877 times\n",
            "digit 2 appear 6990 times\n",
            "digit 3 appear 7141 times\n",
            "digit 4 appear 6824 times\n",
            "digit 5 appear 6313 times\n",
            "digit 6 appear 6876 times\n",
            "digit 7 appear 7293 times\n",
            "digit 8 appear 6825 times\n",
            "digit 9 appear 6958 times\n"
          ],
          "name": "stdout"
        }
      ]
    },
    {
      "metadata": {
        "id": "SMhcPMmV4ZIj",
        "colab_type": "code",
        "colab": {},
        "outputId": "d91b5f58-7253-4846-dfe9-f2f0c344b521"
      },
      "cell_type": "code",
      "source": [
        "total = 0\n",
        "for i in range(2):\n",
        "    print (\"digit\", i, \"makes\", np.around(np.count_nonzero(yinput_ == i)/70000.0*100.0, decimals=1), \"% of the 70000 observations\")"
      ],
      "execution_count": 0,
      "outputs": [
        {
          "output_type": "stream",
          "text": [
            "digit 0 makes 9.9 % of the 70000 observations\n",
            "digit 1 makes 11.3 % of the 70000 observations\n"
          ],
          "name": "stdout"
        }
      ]
    },
    {
      "metadata": {
        "id": "UzNGexat4ZIm",
        "colab_type": "text"
      },
      "cell_type": "markdown",
      "source": [
        "# Select only digits 1 and 2"
      ]
    },
    {
      "metadata": {
        "id": "J9X1t1KR4ZIn",
        "colab_type": "code",
        "colab": {}
      },
      "cell_type": "code",
      "source": [
        "Xinput = Xinput_[np.any([yinput_ == 3,yinput_ == 8], axis = 0)]\n",
        "yinput = yinput_[np.any([yinput_ == 3,yinput_ == 8], axis = 0)]"
      ],
      "execution_count": 0,
      "outputs": []
    },
    {
      "metadata": {
        "id": "02-sae0z4ZIp",
        "colab_type": "code",
        "colab": {}
      },
      "cell_type": "code",
      "source": [
        "Xinput_rev = np.ndarray(Xinput.shape)\n",
        "for i in range(Xinput.shape[0]):\n",
        "    tmp = Xinput[i,:].reshape(28,28)\n",
        "    Xinput_rev[i,:] = 255*(np.ravel(tmp, order='F') > 230)"
      ],
      "execution_count": 0,
      "outputs": []
    },
    {
      "metadata": {
        "id": "Pinj2RLY4ZIt",
        "colab_type": "text"
      },
      "cell_type": "markdown",
      "source": [
        "Are there digits completely empty now?"
      ]
    },
    {
      "metadata": {
        "id": "D6QoLfZJ4ZIu",
        "colab_type": "code",
        "colab": {},
        "outputId": "a060f8d9-2ff9-4686-c63f-46f3c83d070b"
      },
      "cell_type": "code",
      "source": [
        "np.sum(np.sum(Xinput_rev, axis = 1) == 0)"
      ],
      "execution_count": 0,
      "outputs": [
        {
          "output_type": "execute_result",
          "data": {
            "text/plain": [
              "0"
            ]
          },
          "metadata": {
            "tags": []
          },
          "execution_count": 10
        }
      ]
    },
    {
      "metadata": {
        "id": "36XU696c4ZIx",
        "colab_type": "code",
        "colab": {},
        "outputId": "74e15e4b-b9fc-4ae9-baf7-7ec07fdadbd0"
      },
      "cell_type": "code",
      "source": [
        "some_digit = Xinput_rev[9999,:]\n",
        "\n",
        "some_digit_image = some_digit.reshape(28,28)\n",
        "\n",
        "plt.figure(figsize=(10,7))\n",
        "plt.imshow(some_digit_image, cmap = matplotlib.cm.binary, interpolation = \"nearest\")\n",
        "plt.axis(\"off\")\n",
        "plt.show()"
      ],
      "execution_count": 0,
      "outputs": [
        {
          "output_type": "display_data",
          "data": {
            "image/png": "[encoded data removed]",
            "text/plain": [
              "<matplotlib.figure.Figure at 0x2023a0d1278>"
            ]
          },
          "metadata": {
            "tags": []
          }
        }
      ]
    },
    {
      "metadata": {
        "id": "-5sLYyTy4ZIz",
        "colab_type": "code",
        "colab": {},
        "outputId": "b793d284-f784-4a4e-e2fa-01e9c60bef04"
      },
      "cell_type": "code",
      "source": [
        "print(Xinput.shape)\n",
        "print(yinput.shape)"
      ],
      "execution_count": 0,
      "outputs": [
        {
          "output_type": "stream",
          "text": [
            "(13966, 784)\n",
            "(13966,)\n"
          ],
          "name": "stdout"
        }
      ]
    },
    {
      "metadata": {
        "id": "LuK3YnBr4ZI3",
        "colab_type": "text"
      },
      "cell_type": "markdown",
      "source": [
        "# Manual data analysis"
      ]
    },
    {
      "metadata": {
        "id": "pZZML1oY4ZI4",
        "colab_type": "text"
      },
      "cell_type": "markdown",
      "source": [
        "Now let's check how our data is looking at after transforming the 2-D images into a 1-D vectors, that have 784 components (remember that our images are 28x28)."
      ]
    },
    {
      "metadata": {
        "id": "PyovmR9G4ZI4",
        "colab_type": "code",
        "colab": {},
        "outputId": "57d66bb8-cccc-4701-a8e1-2b66198ef075"
      },
      "cell_type": "code",
      "source": [
        "plt.rc('font', family='arial')\n",
        "plt.rc('xtick', labelsize='x-small')\n",
        "plt.rc('ytick', labelsize='x-small')\n",
        "    \n",
        "plt.tight_layout()\n",
        "\n",
        "fig = plt.figure(figsize=(12,9))\n",
        "ax = fig.add_subplot(2, 2, 1)\n",
        "plt.bar(x=np.arange(0,784,1),height=Xinput_rev[555,:], color = 'black', alpha = 0.5, width = 5.0) # 555 is 3\n",
        "#ax.set_ylim(0,6)\n",
        "ax.set_xlim(0, 784)\n",
        "ax.set_xlabel('Pixel Number', fontsize = 16)\n",
        "ax.set_ylabel('Gray Value', fontsize = 16)\n",
        "plt.xticks(fontsize=14);\n",
        "plt.yticks(fontsize=14);\n",
        "\n",
        "\n",
        "ax = fig.add_subplot(2, 2, 2)\n",
        "#ax.set_ylim(0,6)\n",
        "#ax.set_xlim(0.982,0.991)\n",
        "ax.set_xlim(0, 784)\n",
        "plt.bar(x=np.arange(0,784,1),height=Xinput_rev[879,:], color = 'black', alpha = 0.5, width = 5.0) #879 is 3\n",
        "ax.set_xlabel('Pixel Number', fontsize = 16)\n",
        "plt.xticks(fontsize=14);\n",
        "plt.yticks(fontsize=14);\n",
        "\n",
        "ax = fig.add_subplot(2, 2, 3)\n",
        "#ax.set_ylim(0,6)\n",
        "#ax.set_xlim(0.982,0.991)\n",
        "ax.set_xlim(0, 784)\n",
        "plt.bar(x=np.arange(0,784,1),height=Xinput_rev[78,:], color = 'black', alpha = 0.5, width = 5.0)\n",
        "ax.set_xlabel('Pixel Number', fontsize = 16)\n",
        "plt.xticks(fontsize=14);\n",
        "plt.yticks(fontsize=14);\n",
        "\n",
        "ax = fig.add_subplot(2, 2, 4)\n",
        "#ax.set_ylim(0,6)\n",
        "#ax.set_xlim(0.982,0.991)\n",
        "ax.set_xlim(0, 784)\n",
        "plt.bar(x=np.arange(0,784,1),height=Xinput_rev[111,:], color = 'black', alpha = 0.5, width = 5.0)\n",
        "ax.set_xlabel('Pixel Number', fontsize = 16)\n",
        "plt.xticks(fontsize=14);\n",
        "plt.yticks(fontsize=14);\n",
        "\n",
        "\n"
      ],
      "execution_count": 0,
      "outputs": [
        {
          "output_type": "display_data",
          "data": {
            "text/plain": [
              "<matplotlib.figure.Figure at 0x2024556f358>"
            ]
          },
          "metadata": {
            "tags": []
          }
        },
        {
          "output_type": "display_data",
          "data": {
            "image/png": "[encoded data removed]",
            "text/plain": [
              "<matplotlib.figure.Figure at 0x2024556f320>"
            ]
          },
          "metadata": {
            "tags": []
          }
        }
      ]
    },
    {
      "metadata": {
        "id": "eXVivSKa4ZI8",
        "colab_type": "text"
      },
      "cell_type": "markdown",
      "source": [
        "Is very interesting to note that all images look the same. Even without knowing what digit they are is rather simple to recognize that they must be the same digit!"
      ]
    },
    {
      "metadata": {
        "id": "mTTDWudd4ZI9",
        "colab_type": "text"
      },
      "cell_type": "markdown",
      "source": [
        "### Another example of digit 3"
      ]
    },
    {
      "metadata": {
        "id": "rkdZD2Gi4ZI-",
        "colab_type": "code",
        "colab": {},
        "outputId": "d671e0a8-0ccd-479b-8212-9a57f25451b9"
      },
      "cell_type": "code",
      "source": [
        "plt.rc('font', family='arial')\n",
        "plt.rc('xtick', labelsize='x-small')\n",
        "plt.rc('ytick', labelsize='x-small')\n",
        "    \n",
        "plt.tight_layout()\n",
        "\n",
        "idx = 123\n",
        "\n",
        "fig = plt.figure(figsize=(14,6))\n",
        "ax = fig.add_subplot(1, 2, 1)\n",
        "\n",
        "some_digit = Xinput[idx,:]\n",
        "some_digit_image = some_digit.reshape(28,28)\n",
        "\n",
        "ax.imshow(some_digit_image, cmap = matplotlib.cm.binary, interpolation = \"nearest\")\n",
        "plt.axis(\"off\")\n",
        "\n",
        "var_shaped = Xinput_rev[idx,:]\n",
        "#var_shaped = np.ravel(some_digit_image, order='F')\n",
        "\n",
        "\n",
        "ax = fig.add_subplot(1, 2, 2)\n",
        "#ax.set_ylim(0,6)\n",
        "#ax.set_xlim(0.982,0.991)\n",
        "plt.bar(x=np.arange(0,784,1),height=var_shaped, color = 'black', alpha = 0.5, width = 5.0)\n",
        "ax.set_xlabel('Pixel Number', fontsize = 16)\n",
        "ax.set_ylabel('Gray Value', fontsize = 16)\n",
        "plt.xticks(fontsize=14);\n",
        "plt.yticks(fontsize=14);\n",
        "\n",
        "\n"
      ],
      "execution_count": 0,
      "outputs": [
        {
          "output_type": "display_data",
          "data": {
            "text/plain": [
              "<matplotlib.figure.Figure at 0x202456ade80>"
            ]
          },
          "metadata": {
            "tags": []
          }
        },
        {
          "output_type": "display_data",
          "data": {
            "image/png": "[encoded data removed]",
            "text/plain": [
              "<matplotlib.figure.Figure at 0x20245708940>"
            ]
          },
          "metadata": {
            "tags": []
          }
        }
      ]
    },
    {
      "metadata": {
        "id": "XsVhUNdA4ZJB",
        "colab_type": "text"
      },
      "cell_type": "markdown",
      "source": [
        "### Digit 8"
      ]
    },
    {
      "metadata": {
        "id": "w6T4YjwM4ZJC",
        "colab_type": "text"
      },
      "cell_type": "markdown",
      "source": [
        "Now let's have a look at digit 2 and how it differs from digit 1"
      ]
    },
    {
      "metadata": {
        "id": "phs7FAMi4ZJC",
        "colab_type": "code",
        "colab": {},
        "outputId": "6115b9d1-9705-4a80-9c6b-98639b355b90"
      },
      "cell_type": "code",
      "source": [
        "plt.rc('font', family='arial')\n",
        "plt.rc('xtick', labelsize='x-small')\n",
        "plt.rc('ytick', labelsize='x-small')\n",
        "    \n",
        "plt.tight_layout()\n",
        "\n",
        "idx = 9000\n",
        "\n",
        "fig = plt.figure(figsize=(12,5))\n",
        "ax = fig.add_subplot(1, 2, 1)\n",
        "\n",
        "some_digit = Xinput[idx,:]\n",
        "some_digit_image = some_digit.reshape(28,28)\n",
        "\n",
        "ax.imshow(some_digit_image, cmap = matplotlib.cm.binary, interpolation = \"nearest\")\n",
        "plt.axis(\"off\")\n",
        "\n",
        "var_shaped = Xinput_rev[idx,:]\n",
        "\n",
        "ax = fig.add_subplot(1, 2, 2)\n",
        "#ax.set_ylim(0,6)\n",
        "#ax.set_xlim(0.982,0.991)\n",
        "ax.set_xlim(0, 784)\n",
        "plt.bar(x=np.arange(0,784,1),height=var_shaped, color = 'black', alpha = 0.5, width = 5.0)\n",
        "ax.set_xlabel('Pixel Number', fontsize = 16)\n",
        "ax.set_ylabel('Gray Value', fontsize = 16)\n",
        "plt.xticks(fontsize=14);\n",
        "plt.yticks(fontsize=14);"
      ],
      "execution_count": 0,
      "outputs": [
        {
          "output_type": "display_data",
          "data": {
            "text/plain": [
              "<matplotlib.figure.Figure at 0x20248109da0>"
            ]
          },
          "metadata": {
            "tags": []
          }
        },
        {
          "output_type": "display_data",
          "data": {
            "image/png": "[encoded data removed]",
            "text/plain": [
              "<matplotlib.figure.Figure at 0x202479b4a20>"
            ]
          },
          "metadata": {
            "tags": []
          }
        }
      ]
    },
    {
      "metadata": {
        "id": "26_iLPsV4ZJE",
        "colab_type": "text"
      },
      "cell_type": "markdown",
      "source": [
        "### Let's check some 8s"
      ]
    },
    {
      "metadata": {
        "id": "imrNNq-x4ZJF",
        "colab_type": "code",
        "colab": {},
        "outputId": "f046615d-690c-4649-ca67-9862c41cbd3d"
      },
      "cell_type": "code",
      "source": [
        "np.where(yinput == 8)"
      ],
      "execution_count": 0,
      "outputs": [
        {
          "output_type": "execute_result",
          "data": {
            "text/plain": [
              "(array([ 6131,  6132,  6133, ..., 13963, 13964, 13965], dtype=int64),)"
            ]
          },
          "metadata": {
            "tags": []
          },
          "execution_count": 16
        }
      ]
    },
    {
      "metadata": {
        "id": "8gnwUoYB4ZJH",
        "colab_type": "code",
        "colab": {},
        "outputId": "2f6150cc-d20a-4076-f371-f7b9d4389311"
      },
      "cell_type": "code",
      "source": [
        "plt.rc('font', family='arial')\n",
        "plt.rc('xtick', labelsize='x-small')\n",
        "plt.rc('ytick', labelsize='x-small')\n",
        "    \n",
        "plt.tight_layout()\n",
        "\n",
        "fig = plt.figure(figsize=(12, 9))\n",
        "ax = fig.add_subplot(2, 2, 1)\n",
        "plt.bar(x=np.arange(0,784,1),height=Xinput_rev[6131,:], color = 'black', alpha = 0.5, width = 5.0)\n",
        "#ax.set_ylim(0,6)\n",
        "ax.set_xlim(0, 784)\n",
        "ax.set_xlabel('Pixel Number', fontsize = 16)\n",
        "ax.set_ylabel('Gray Value', fontsize = 16)\n",
        "plt.xticks(fontsize=14);\n",
        "plt.yticks(fontsize=14);\n",
        "\n",
        "ax = fig.add_subplot(2, 2, 2)\n",
        "#ax.set_ylim(0,6)\n",
        "#ax.set_xlim(0.982,0.991)\n",
        "ax.set_xlim(0, 784)\n",
        "plt.bar(x=np.arange(0,784,1),height=Xinput_rev[6132,:], color = 'black', alpha = 0.5, width = 5.0)\n",
        "ax.set_xlabel('Pixel Number', fontsize = 16)\n",
        "plt.xticks(fontsize=14);\n",
        "plt.yticks(fontsize=14);\n",
        "\n",
        "ax = fig.add_subplot(2, 2, 3)\n",
        "#ax.set_ylim(0,6)\n",
        "#ax.set_xlim(0.982,0.991)\n",
        "ax.set_xlim(0, 784)\n",
        "plt.bar(x=np.arange(0,784,1),height=Xinput_rev[6133,:], color = 'black', alpha = 0.5, width = 5.0)\n",
        "ax.set_xlabel('Pixel Number', fontsize = 16)\n",
        "ax.set_ylabel('Gray Value', fontsize = 16)\n",
        "plt.xticks(fontsize=14);\n",
        "plt.yticks(fontsize=14);\n",
        "\n",
        "ax = fig.add_subplot(2, 2, 4)\n",
        "#ax.set_ylim(0,6)\n",
        "#ax.set_xlim(0.982,0.991)\n",
        "ax.set_xlim(0, 784)\n",
        "plt.bar(x=np.arange(0,784,1),height=Xinput_rev[6134,:], color = 'black', alpha = 0.5, width = 5.0)\n",
        "ax.set_xlabel('Pixel Number', fontsize = 16)\n",
        "\n",
        "plt.xticks(fontsize=14);\n",
        "plt.yticks(fontsize=14);\n"
      ],
      "execution_count": 0,
      "outputs": [
        {
          "output_type": "display_data",
          "data": {
            "text/plain": [
              "<matplotlib.figure.Figure at 0x20245891f60>"
            ]
          },
          "metadata": {
            "tags": []
          }
        },
        {
          "output_type": "display_data",
          "data": {
            "image/png": "[encoded data removed]",
            "text/plain": [
              "<matplotlib.figure.Figure at 0x202458910b8>"
            ]
          },
          "metadata": {
            "tags": []
          }
        }
      ]
    },
    {
      "metadata": {
        "id": "93ASYPir4ZJJ",
        "colab_type": "code",
        "colab": {},
        "outputId": "4e47f0c3-d614-4b07-ab4e-5661a716ff4a"
      },
      "cell_type": "code",
      "source": [
        "some_digit = Xinput_rev[7665,:]\n",
        "\n",
        "some_digit_image = some_digit.reshape(28,28)\n",
        "plt.figure(figsize=(12,7))\n",
        "\n",
        "plt.imshow(some_digit_image, cmap = matplotlib.cm.binary, interpolation = \"nearest\")\n",
        "plt.axis(\"off\")\n",
        "plt.show()"
      ],
      "execution_count": 0,
      "outputs": [
        {
          "output_type": "display_data",
          "data": {
            "image/png": "[encoded data removed]",
            "text/plain": [
              "<matplotlib.figure.Figure at 0x2024799f9e8>"
            ]
          },
          "metadata": {
            "tags": []
          }
        }
      ]
    },
    {
      "metadata": {
        "id": "VgJ6CJJS4ZJM",
        "colab_type": "code",
        "colab": {},
        "outputId": "f9031fe3-86fd-4180-a833-ec3e107d233a"
      },
      "cell_type": "code",
      "source": [
        "some_digit = Xinput_rev[123,:]\n",
        "\n",
        "some_digit_image = some_digit.reshape(28,28)\n",
        "plt.figure(figsize=(12,7))\n",
        "plt.imshow(some_digit_image, cmap = matplotlib.cm.binary, interpolation = \"nearest\")\n",
        "plt.axis(\"off\")\n",
        "plt.show()"
      ],
      "execution_count": 0,
      "outputs": [
        {
          "output_type": "display_data",
          "data": {
            "image/png": "[encoded data removed]",
            "text/plain": [
              "<matplotlib.figure.Figure at 0x20248307b00>"
            ]
          },
          "metadata": {
            "tags": []
          }
        }
      ]
    },
    {
      "metadata": {
        "id": "K07MXfuS4ZJO",
        "colab_type": "text"
      },
      "cell_type": "markdown",
      "source": [
        "as expected we get lots of white pixels. But that does not tell us much, it actually hide the real useful information. So let's remove the really white pixel from the histogram"
      ]
    },
    {
      "metadata": {
        "id": "YKkaLt8U4ZJP",
        "colab_type": "text"
      },
      "cell_type": "markdown",
      "source": [
        "# New features"
      ]
    },
    {
      "metadata": {
        "id": "gwoFAEmB4ZJP",
        "colab_type": "code",
        "colab": {}
      },
      "cell_type": "code",
      "source": [
        "left = np.sum(Xinput_rev[:,0:400], axis = 1)\n",
        "right = np.sum(Xinput_rev[:,400:784], axis = 1)\n",
        "\n",
        "ratio = np.divide(right, left)\n",
        "sum_all = np.sum(Xinput_rev, axis = 1)"
      ],
      "execution_count": 0,
      "outputs": []
    },
    {
      "metadata": {
        "id": "4PH18x5i4ZJS",
        "colab_type": "text"
      },
      "cell_type": "markdown",
      "source": [
        "Now let's see how they differ between ones and twos"
      ]
    },
    {
      "metadata": {
        "id": "muws_hiN4ZJS",
        "colab_type": "code",
        "colab": {}
      },
      "cell_type": "code",
      "source": [
        "left3 = left[yinput == 3]\n",
        "left8 = left[yinput == 8]\n",
        "\n",
        "ratio3 = ratio[yinput == 3]\n",
        "ratio8 = ratio[yinput == 8]\n",
        "\n",
        "right3 = right[yinput == 3]\n",
        "right8 =  right[yinput == 8]\n",
        "\n",
        "all3 = sum_all[yinput == 3]\n",
        "all8 = sum_all[yinput == 8]"
      ],
      "execution_count": 0,
      "outputs": []
    },
    {
      "metadata": {
        "id": "DAXDEtD24ZJU",
        "colab_type": "code",
        "colab": {},
        "outputId": "b95d15d9-2675-463d-b76b-09e7d9ae51c5"
      },
      "cell_type": "code",
      "source": [
        "plt.rc('font', family='arial')\n",
        "plt.rc('xtick', labelsize='x-small')\n",
        "plt.rc('ytick', labelsize='x-small')\n",
        "\n",
        "plt.figure(figsize=(12,7))\n",
        "plt.hist(ratio3, bins = 30, alpha = 0.2, color = 'red', label = 'Digit 3 - left pixel ratio [0,400]/[401, 784]')\n",
        "plt.hist(ratio8, bins = 30, alpha = 0.2, color = 'blue', label = 'Digit 8 - left pixel ratio [0,400]/[401, 784]')\n",
        "plt.legend(bbox_to_anchor=(1.05, 1), loc=2, borderaxespad=0., fontsize = 16)\n",
        "plt.xlabel('ratio [0,400]/[401, 784]', fontsize = 16)\n",
        "plt.ylabel('Count', fontsize = 16)\n",
        "plt.tick_params(labelsize=16)\n",
        "plt.show()"
      ],
      "execution_count": 0,
      "outputs": [
        {
          "output_type": "display_data",
          "data": {
            "image/png": "[encoded data removed]",
            "text/plain": [
              "<matplotlib.figure.Figure at 0x20245777e48>"
            ]
          },
          "metadata": {
            "tags": []
          }
        }
      ]
    },
    {
      "metadata": {
        "id": "uso69tj84ZJX",
        "colab_type": "text"
      },
      "cell_type": "markdown",
      "source": [
        "## Predictions"
      ]
    },
    {
      "metadata": {
        "id": "PZMM1rHd4ZJX",
        "colab_type": "text"
      },
      "cell_type": "markdown",
      "source": [
        "We could decide that if the value of ```left``` lies below 7500 is a one and if above is a two."
      ]
    },
    {
      "metadata": {
        "id": "sVgqam974ZJY",
        "colab_type": "code",
        "colab": {}
      },
      "cell_type": "code",
      "source": [
        "pred = ratio > 1.2\n",
        "yinput_scaled = yinput == 3"
      ],
      "execution_count": 0,
      "outputs": []
    },
    {
      "metadata": {
        "id": "7Ol1m1ln4ZJa",
        "colab_type": "code",
        "colab": {},
        "outputId": "7cfa6caa-e2d2-48b9-d098-309fd8bd5057"
      },
      "cell_type": "code",
      "source": [
        "np.mean(pred == yinput_scaled)"
      ],
      "execution_count": 0,
      "outputs": [
        {
          "output_type": "execute_result",
          "data": {
            "text/plain": [
              "0.71759988543605902"
            ]
          },
          "metadata": {
            "tags": []
          },
          "execution_count": 24
        }
      ]
    },
    {
      "metadata": {
        "id": "5uC4aYuc4ZJd",
        "colab_type": "text"
      },
      "cell_type": "markdown",
      "source": [
        "Out of curiosity we could try to find the best values for example for the right sum of pixels"
      ]
    },
    {
      "metadata": {
        "id": "EFmutE_m4ZJd",
        "colab_type": "code",
        "colab": {},
        "outputId": "87cff31b-9c8f-4785-c4b1-84a0860d96d8"
      },
      "cell_type": "code",
      "source": [
        "chosen_value = 0\n",
        "accuracy = 0\n",
        "for i in np.arange (0, 2.0, 0.01):\n",
        "    pred = ratio > i\n",
        "    accuracy_ = np.mean(pred == yinput_scaled)\n",
        "    if (accuracy_ > accuracy ):\n",
        "        accuracy = accuracy_\n",
        "        chosen_value = i\n",
        "        \n",
        "print ('i', chosen_value)\n",
        "print('accuracy', accuracy)"
      ],
      "execution_count": 0,
      "outputs": [
        {
          "output_type": "stream",
          "text": [
            "i 1.19\n",
            "accuracy 0.718459114994\n"
          ],
          "name": "stdout"
        }
      ]
    }
  ]
}