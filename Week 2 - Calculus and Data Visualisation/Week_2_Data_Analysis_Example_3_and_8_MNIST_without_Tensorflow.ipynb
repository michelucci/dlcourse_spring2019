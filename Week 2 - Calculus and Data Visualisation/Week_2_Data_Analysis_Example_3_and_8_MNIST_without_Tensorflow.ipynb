{
  "nbformat": 4,
  "nbformat_minor": 0,
  "metadata": {
    "colab": {
      "name": "Week 2 - Data Analysis Example-3 and 8 MNIST without Tensorflow.ipynb",
      "version": "0.3.2",
      "provenance": [],
      "collapsed_sections": [],
      "include_colab_link": true
    },
    "kernelspec": {
      "display_name": "Python 3",
      "language": "python",
      "name": "python3"
    }
  },
  "cells": [
    {
      "cell_type": "markdown",
      "metadata": {
        "id": "view-in-github",
        "colab_type": "text"
      },
      "source": [
        "<a href=\"https://colab.research.google.com/github/michelucci/zhaw-dlcourse-spring2019/blob/master/Week%202%20-%20Calculus%20and%20Data%20Visualisation/Week_2_Data_Analysis_Example_3_and_8_MNIST_without_Tensorflow.ipynb\" target=\"_parent\"><img src=\"https://colab.research.google.com/assets/colab-badge.svg\" alt=\"Open In Colab\"/></a>"
      ]
    },
    {
      "metadata": {
        "id": "y_H2WJbO4ZIK",
        "colab_type": "text"
      },
      "cell_type": "markdown",
      "source": [
        "# Neural Networks and Deep Learning for Life Sciences and Health Applications - An introductory course about theoretical fundamentals, case studies and implementations in python and tensorflow "
      ]
    },
    {
      "metadata": {
        "id": "oduGZMLT4ZIM",
        "colab_type": "text"
      },
      "cell_type": "markdown",
      "source": [
        "(C) Umberto Michelucci 2018 - umberto.michelucci@gmail.com \n",
        "\n",
        "github repository: https://github.com/michelucci/zhaw-dlcourse-spring2019\n",
        "\n",
        "Spring Semester 2019"
      ]
    },
    {
      "metadata": {
        "id": "2PFQZUc94ZIN",
        "colab_type": "text"
      },
      "cell_type": "markdown",
      "source": [
        "## Libraries"
      ]
    },
    {
      "metadata": {
        "id": "4iKJBMD24ZIO",
        "colab_type": "code",
        "colab": {}
      },
      "cell_type": "code",
      "source": [
        "import numpy as np\n",
        "from sklearn.datasets import fetch_mldata\n",
        "\n",
        "%matplotlib inline\n",
        "\n",
        "import matplotlib\n",
        "import matplotlib.pyplot as plt\n",
        "\n",
        "from random import *"
      ],
      "execution_count": 0,
      "outputs": []
    },
    {
      "metadata": {
        "id": "ijKs1yQ14ZIR",
        "colab_type": "text"
      },
      "cell_type": "markdown",
      "source": [
        "## Data preparation"
      ]
    },
    {
      "metadata": {
        "id": "hMtHPwnr4ZIS",
        "colab_type": "text"
      },
      "cell_type": "markdown",
      "source": [
        "To get MNIST data we use the function fetch_mldata, in the datasets package. Let's get all the dataset, and then we will select only the digits we want."
      ]
    },
    {
      "metadata": {
        "id": "g65LbpmkK0c5",
        "colab_type": "code",
        "colab": {}
      },
      "cell_type": "code",
      "source": [
        "import tensorflow as tf\n",
        "mnist = tf.keras.datasets.mnist\n",
        "\n",
        "(x_train, y_train),(x_test, y_test) = mnist.load_data()\n",
        "x_train, x_test = x_train / 255.0, x_test / 255.0"
      ],
      "execution_count": 0,
      "outputs": []
    },
    {
      "metadata": {
        "id": "R-ZFTX_y4ZIT",
        "colab_type": "code",
        "colab": {}
      },
      "cell_type": "code",
      "source": [
        "Xinput_,yinput_ = x_train, y_train\n",
        "\n",
        "Xinput_ = x_train.reshape(60000,784)\n",
        "yinput_ = y_train.reshape(60000,)"
      ],
      "execution_count": 0,
      "outputs": []
    },
    {
      "metadata": {
        "id": "QrxheS3n4ZIY",
        "colab_type": "code",
        "colab": {}
      },
      "cell_type": "code",
      "source": [
        "Xinput_,yinput_ = mnist[\"data\"], mnist[\"target\"]"
      ],
      "execution_count": 0,
      "outputs": []
    },
    {
      "metadata": {
        "id": "xVcbeKvv4ZIa",
        "colab_type": "code",
        "outputId": "dbe2a32f-98eb-4580-ccb0-bae418397472",
        "colab": {
          "base_uri": "https://localhost:8080/",
          "height": 36
        }
      },
      "cell_type": "code",
      "source": [
        "Xinput_.shape"
      ],
      "execution_count": 4,
      "outputs": [
        {
          "output_type": "execute_result",
          "data": {
            "text/plain": [
              "(60000, 784)"
            ]
          },
          "metadata": {
            "tags": []
          },
          "execution_count": 4
        }
      ]
    },
    {
      "metadata": {
        "id": "fzCq3Eii4ZId",
        "colab_type": "code",
        "outputId": "cd3ed351-43aa-4883-8b5e-af3b91b6c142",
        "colab": {
          "base_uri": "https://localhost:8080/",
          "height": 36
        }
      },
      "cell_type": "code",
      "source": [
        "yinput_.shape"
      ],
      "execution_count": 5,
      "outputs": [
        {
          "output_type": "execute_result",
          "data": {
            "text/plain": [
              "(60000,)"
            ]
          },
          "metadata": {
            "tags": []
          },
          "execution_count": 5
        }
      ]
    },
    {
      "metadata": {
        "id": "HBx4gQ8j4ZIg",
        "colab_type": "text"
      },
      "cell_type": "markdown",
      "source": [
        "To know how many digits we have we can run this simple code"
      ]
    },
    {
      "metadata": {
        "id": "sFO95OpG4ZIh",
        "colab_type": "code",
        "outputId": "3253a7c2-783f-4ed3-e746-276974c372d2",
        "colab": {
          "base_uri": "https://localhost:8080/",
          "height": 193
        }
      },
      "cell_type": "code",
      "source": [
        "total = 0\n",
        "for i in range(10):\n",
        "    print (\"digit\", i, \"appear\", np.count_nonzero(yinput_ == i), \"times\")"
      ],
      "execution_count": 6,
      "outputs": [
        {
          "output_type": "stream",
          "text": [
            "digit 0 appear 5923 times\n",
            "digit 1 appear 6742 times\n",
            "digit 2 appear 5958 times\n",
            "digit 3 appear 6131 times\n",
            "digit 4 appear 5842 times\n",
            "digit 5 appear 5421 times\n",
            "digit 6 appear 5918 times\n",
            "digit 7 appear 6265 times\n",
            "digit 8 appear 5851 times\n",
            "digit 9 appear 5949 times\n"
          ],
          "name": "stdout"
        }
      ]
    },
    {
      "metadata": {
        "id": "SMhcPMmV4ZIj",
        "colab_type": "code",
        "outputId": "d15cbfd8-2610-4872-d9f4-f2dd4f332fa2",
        "colab": {
          "base_uri": "https://localhost:8080/",
          "height": 52
        }
      },
      "cell_type": "code",
      "source": [
        "total = 0\n",
        "for i in range(2):\n",
        "    print (\"digit\", i, \"makes\", np.around(np.count_nonzero(yinput_ == i)/70000.0*100.0, decimals=1), \"% of the 70000 observations\")"
      ],
      "execution_count": 7,
      "outputs": [
        {
          "output_type": "stream",
          "text": [
            "digit 0 makes 8.5 % of the 70000 observations\n",
            "digit 1 makes 9.6 % of the 70000 observations\n"
          ],
          "name": "stdout"
        }
      ]
    },
    {
      "metadata": {
        "id": "UzNGexat4ZIm",
        "colab_type": "text"
      },
      "cell_type": "markdown",
      "source": [
        "# Select only digits 3 and 8"
      ]
    },
    {
      "metadata": {
        "id": "J9X1t1KR4ZIn",
        "colab_type": "code",
        "colab": {}
      },
      "cell_type": "code",
      "source": [
        "Xinput = Xinput_[np.any([yinput_ == 3,yinput_ == 8], axis = 0)]\n",
        "yinput = yinput_[np.any([yinput_ == 3,yinput_ == 8], axis = 0)]"
      ],
      "execution_count": 0,
      "outputs": []
    },
    {
      "metadata": {
        "id": "02-sae0z4ZIp",
        "colab_type": "code",
        "colab": {}
      },
      "cell_type": "code",
      "source": [
        "Xinput_rev = np.ndarray(Xinput.shape)\n",
        "for i in range(Xinput.shape[0]):\n",
        "    tmp = Xinput[i,:].reshape(28,28)\n",
        "    Xinput_rev[i,:] = (np.ravel(tmp, order='F') > 230/255.0)"
      ],
      "execution_count": 0,
      "outputs": []
    },
    {
      "metadata": {
        "id": "Pinj2RLY4ZIt",
        "colab_type": "text"
      },
      "cell_type": "markdown",
      "source": [
        "Are there digits completely empty now?"
      ]
    },
    {
      "metadata": {
        "id": "D6QoLfZJ4ZIu",
        "colab_type": "code",
        "outputId": "0891328f-6d77-4010-9c79-3c5502ec70cf",
        "colab": {
          "base_uri": "https://localhost:8080/",
          "height": 36
        }
      },
      "cell_type": "code",
      "source": [
        "np.sum(np.sum(Xinput_rev, axis = 1) == 0)"
      ],
      "execution_count": 25,
      "outputs": [
        {
          "output_type": "execute_result",
          "data": {
            "text/plain": [
              "0"
            ]
          },
          "metadata": {
            "tags": []
          },
          "execution_count": 25
        }
      ]
    },
    {
      "metadata": {
        "id": "36XU696c4ZIx",
        "colab_type": "code",
        "outputId": "738cabb1-9c73-4725-c79c-d5bc58552cef",
        "colab": {
          "base_uri": "https://localhost:8080/",
          "height": 428
        }
      },
      "cell_type": "code",
      "source": [
        "some_digit = Xinput_rev[123,:]\n",
        "\n",
        "some_digit_image = some_digit.reshape(28,28)\n",
        "\n",
        "plt.figure(figsize=(10,7))\n",
        "plt.imshow(some_digit_image, cmap = matplotlib.cm.binary, interpolation = \"nearest\")\n",
        "plt.axis(\"off\")\n",
        "plt.show()"
      ],
      "execution_count": 28,
      "outputs": [
        {
          "output_type": "display_data",
          "data": {
            "image/png": "[encoded data removed]",
            "text/plain": [
              "<Figure size 720x504 with 1 Axes>"
            ]
          },
          "metadata": {
            "tags": []
          }
        }
      ]
    },
    {
      "metadata": {
        "id": "-5sLYyTy4ZIz",
        "colab_type": "code",
        "outputId": "5b4e21d5-9100-460d-c352-bfb0f4e352e8",
        "colab": {
          "base_uri": "https://localhost:8080/",
          "height": 52
        }
      },
      "cell_type": "code",
      "source": [
        "print(Xinput.shape)\n",
        "print(yinput.shape)"
      ],
      "execution_count": 29,
      "outputs": [
        {
          "output_type": "stream",
          "text": [
            "(11982, 784)\n",
            "(11982,)\n"
          ],
          "name": "stdout"
        }
      ]
    },
    {
      "metadata": {
        "id": "LuK3YnBr4ZI3",
        "colab_type": "text"
      },
      "cell_type": "markdown",
      "source": [
        "# Manual data analysis"
      ]
    },
    {
      "metadata": {
        "id": "pZZML1oY4ZI4",
        "colab_type": "text"
      },
      "cell_type": "markdown",
      "source": [
        "Now let's check how our data is looking at after transforming the 2-D images into a 1-D vectors, that have 784 components (remember that our images are 28x28)."
      ]
    },
    {
      "metadata": {
        "id": "PyovmR9G4ZI4",
        "colab_type": "code",
        "outputId": "3e70f3ac-2ab4-4465-9439-ee5d6bcee065",
        "colab": {
          "base_uri": "https://localhost:8080/",
          "height": 640
        }
      },
      "cell_type": "code",
      "source": [
        "plt.rc('font', family='arial')\n",
        "plt.rc('xtick', labelsize='x-small')\n",
        "plt.rc('ytick', labelsize='x-small')\n",
        "    \n",
        "plt.tight_layout()\n",
        "\n",
        "fig = plt.figure(figsize=(12,9))\n",
        "ax = fig.add_subplot(2, 2, 1)\n",
        "plt.bar(x=np.arange(0,784,1),height=Xinput_rev[555,:], color = 'black', alpha = 0.5, width = 5.0) # 555 is 3\n",
        "#ax.set_ylim(0,6)\n",
        "ax.set_xlim(0, 784)\n",
        "ax.set_xlabel('Pixel Number', fontsize = 16)\n",
        "ax.set_ylabel('Gray Value', fontsize = 16)\n",
        "plt.xticks(fontsize=14);\n",
        "plt.yticks(fontsize=14);\n",
        "\n",
        "\n",
        "ax = fig.add_subplot(2, 2, 2)\n",
        "#ax.set_ylim(0,6)\n",
        "#ax.set_xlim(0.982,0.991)\n",
        "ax.set_xlim(0, 784)\n",
        "plt.bar(x=np.arange(0,784,1),height=Xinput_rev[879,:], color = 'black', alpha = 0.5, width = 5.0) #879 is 3\n",
        "ax.set_xlabel('Pixel Number', fontsize = 16)\n",
        "plt.xticks(fontsize=14);\n",
        "plt.yticks(fontsize=14);\n",
        "\n",
        "ax = fig.add_subplot(2, 2, 3)\n",
        "#ax.set_ylim(0,6)\n",
        "#ax.set_xlim(0.982,0.991)\n",
        "ax.set_xlim(0, 784)\n",
        "plt.bar(x=np.arange(0,784,1),height=Xinput_rev[78,:], color = 'black', alpha = 0.5, width = 5.0)\n",
        "ax.set_xlabel('Pixel Number', fontsize = 16)\n",
        "plt.xticks(fontsize=14);\n",
        "plt.yticks(fontsize=14);\n",
        "\n",
        "ax = fig.add_subplot(2, 2, 4)\n",
        "#ax.set_ylim(0,6)\n",
        "#ax.set_xlim(0.982,0.991)\n",
        "ax.set_xlim(0, 784)\n",
        "plt.bar(x=np.arange(0,784,1),height=Xinput_rev[111,:], color = 'black', alpha = 0.5, width = 5.0)\n",
        "ax.set_xlabel('Pixel Number', fontsize = 16)\n",
        "plt.xticks(fontsize=14);\n",
        "plt.yticks(fontsize=14);\n",
        "\n",
        "\n"
      ],
      "execution_count": 30,
      "outputs": [
        {
          "output_type": "display_data",
          "data": {
            "text/plain": [
              "<Figure size 432x288 with 0 Axes>"
            ]
          },
          "metadata": {
            "tags": []
          }
        },
        {
          "output_type": "stream",
          "text": [
            "/usr/local/lib/python3.6/dist-packages/matplotlib/font_manager.py:1241: UserWarning: findfont: Font family ['arial'] not found. Falling back to DejaVu Sans.\n",
            "  (prop.get_family(), self.defaultFamily[fontext]))\n"
          ],
          "name": "stderr"
        },
        {
          "output_type": "display_data",
          "data": {
            "image/png": "[encoded data removed]",
            "text/plain": [
              "<Figure size 864x648 with 4 Axes>"
            ]
          },
          "metadata": {
            "tags": []
          }
        }
      ]
    },
    {
      "metadata": {
        "id": "eXVivSKa4ZI8",
        "colab_type": "text"
      },
      "cell_type": "markdown",
      "source": [
        "Is very interesting to note that all images look the same. Even without knowing what digit they are is rather simple to recognize that they must be the same digit!"
      ]
    },
    {
      "metadata": {
        "id": "mTTDWudd4ZI9",
        "colab_type": "text"
      },
      "cell_type": "markdown",
      "source": [
        "### Another example of digit 3"
      ]
    },
    {
      "metadata": {
        "id": "rkdZD2Gi4ZI-",
        "colab_type": "code",
        "outputId": "97e7bb99-06b1-45e0-ea73-ccc663fef6a6",
        "colab": {
          "base_uri": "https://localhost:8080/",
          "height": 416
        }
      },
      "cell_type": "code",
      "source": [
        "plt.rc('font', family='arial')\n",
        "plt.rc('xtick', labelsize='x-small')\n",
        "plt.rc('ytick', labelsize='x-small')\n",
        "    \n",
        "plt.tight_layout()\n",
        "\n",
        "idx = 124\n",
        "\n",
        "fig = plt.figure(figsize=(14,6))\n",
        "ax = fig.add_subplot(1, 2, 1)\n",
        "\n",
        "some_digit = Xinput[idx,:]\n",
        "some_digit_image = some_digit.reshape(28,28)\n",
        "\n",
        "ax.imshow(some_digit_image, cmap = matplotlib.cm.binary, interpolation = \"nearest\")\n",
        "plt.axis(\"off\")\n",
        "\n",
        "var_shaped = Xinput_rev[idx,:]\n",
        "#var_shaped = np.ravel(some_digit_image, order='F')\n",
        "\n",
        "\n",
        "ax = fig.add_subplot(1, 2, 2)\n",
        "#ax.set_ylim(0,6)\n",
        "#ax.set_xlim(0.982,0.991)\n",
        "plt.bar(x=np.arange(0,784,1),height=var_shaped, color = 'black', alpha = 0.5, width = 5.0)\n",
        "ax.set_xlabel('Pixel Number', fontsize = 16)\n",
        "ax.set_ylabel('Gray Value', fontsize = 16)\n",
        "plt.xticks(fontsize=14);\n",
        "plt.yticks(fontsize=14);\n",
        "\n",
        "\n"
      ],
      "execution_count": 32,
      "outputs": [
        {
          "output_type": "display_data",
          "data": {
            "text/plain": [
              "<Figure size 432x288 with 0 Axes>"
            ]
          },
          "metadata": {
            "tags": []
          }
        },
        {
          "output_type": "display_data",
          "data": {
            "image/png": "[encoded data removed]",
            "text/plain": [
              "<Figure size 1008x432 with 2 Axes>"
            ]
          },
          "metadata": {
            "tags": []
          }
        }
      ]
    },
    {
      "metadata": {
        "id": "XsVhUNdA4ZJB",
        "colab_type": "text"
      },
      "cell_type": "markdown",
      "source": [
        "### Digit 8"
      ]
    },
    {
      "metadata": {
        "id": "w6T4YjwM4ZJC",
        "colab_type": "text"
      },
      "cell_type": "markdown",
      "source": [
        "Now let's have a look at digit 2 and how it differs from digit 1"
      ]
    },
    {
      "metadata": {
        "id": "phs7FAMi4ZJC",
        "colab_type": "code",
        "outputId": "d7fed192-e14f-4155-b406-ce611d943b96",
        "colab": {
          "base_uri": "https://localhost:8080/",
          "height": 360
        }
      },
      "cell_type": "code",
      "source": [
        "plt.rc('font', family='arial')\n",
        "plt.rc('xtick', labelsize='x-small')\n",
        "plt.rc('ytick', labelsize='x-small')\n",
        "    \n",
        "plt.tight_layout()\n",
        "\n",
        "idx = 123\n",
        "\n",
        "fig = plt.figure(figsize=(12,5))\n",
        "ax = fig.add_subplot(1, 2, 1)\n",
        "\n",
        "some_digit = Xinput[idx,:]\n",
        "some_digit_image = some_digit.reshape(28,28)\n",
        "\n",
        "ax.imshow(some_digit_image, cmap = matplotlib.cm.binary, interpolation = \"nearest\")\n",
        "plt.axis(\"off\")\n",
        "\n",
        "var_shaped = Xinput_rev[idx,:]\n",
        "\n",
        "ax = fig.add_subplot(1, 2, 2)\n",
        "#ax.set_ylim(0,6)\n",
        "#ax.set_xlim(0.982,0.991)\n",
        "ax.set_xlim(0, 784)\n",
        "plt.bar(x=np.arange(0,784,1),height=var_shaped, color = 'black', alpha = 0.5, width = 5.0)\n",
        "ax.set_xlabel('Pixel Number', fontsize = 16)\n",
        "ax.set_ylabel('Gray Value', fontsize = 16)\n",
        "plt.xticks(fontsize=14);\n",
        "plt.yticks(fontsize=14);"
      ],
      "execution_count": 33,
      "outputs": [
        {
          "output_type": "display_data",
          "data": {
            "text/plain": [
              "<Figure size 432x288 with 0 Axes>"
            ]
          },
          "metadata": {
            "tags": []
          }
        },
        {
          "output_type": "display_data",
          "data": {
            "image/png": "[encoded data removed]",
            "text/plain": [
              "<Figure size 864x360 with 2 Axes>"
            ]
          },
          "metadata": {
            "tags": []
          }
        }
      ]
    },
    {
      "metadata": {
        "id": "26_iLPsV4ZJE",
        "colab_type": "text"
      },
      "cell_type": "markdown",
      "source": [
        "### Let's check some 8s"
      ]
    },
    {
      "metadata": {
        "id": "imrNNq-x4ZJF",
        "colab_type": "code",
        "outputId": "ea61dfcd-4538-4d96-9c13-6a18050eca61",
        "colab": {
          "base_uri": "https://localhost:8080/",
          "height": 36
        }
      },
      "cell_type": "code",
      "source": [
        "np.where(yinput == 8)"
      ],
      "execution_count": 34,
      "outputs": [
        {
          "output_type": "execute_result",
          "data": {
            "text/plain": [
              "(array([    3,     6,     7, ..., 11978, 11979, 11981]),)"
            ]
          },
          "metadata": {
            "tags": []
          },
          "execution_count": 34
        }
      ]
    },
    {
      "metadata": {
        "id": "8gnwUoYB4ZJH",
        "colab_type": "code",
        "outputId": "9efb0184-8369-4993-db4a-99dbc3515c0d",
        "colab": {
          "base_uri": "https://localhost:8080/",
          "height": 577
        }
      },
      "cell_type": "code",
      "source": [
        "plt.rc('font', family='arial')\n",
        "plt.rc('xtick', labelsize='x-small')\n",
        "plt.rc('ytick', labelsize='x-small')\n",
        "    \n",
        "plt.tight_layout()\n",
        "\n",
        "fig = plt.figure(figsize=(12, 9))\n",
        "ax = fig.add_subplot(2, 2, 1)\n",
        "plt.bar(x=np.arange(0,784,1),height=Xinput_rev[11978,:], color = 'black', alpha = 0.5, width = 5.0)\n",
        "#ax.set_ylim(0,6)\n",
        "ax.set_xlim(0, 784)\n",
        "ax.set_xlabel('Pixel Number', fontsize = 16)\n",
        "ax.set_ylabel('Gray Value', fontsize = 16)\n",
        "plt.xticks(fontsize=14);\n",
        "plt.yticks(fontsize=14);\n",
        "\n",
        "ax = fig.add_subplot(2, 2, 2)\n",
        "#ax.set_ylim(0,6)\n",
        "#ax.set_xlim(0.982,0.991)\n",
        "ax.set_xlim(0, 784)\n",
        "plt.bar(x=np.arange(0,784,1),height=Xinput_rev[11979,:], color = 'black', alpha = 0.5, width = 5.0)\n",
        "ax.set_xlabel('Pixel Number', fontsize = 16)\n",
        "plt.xticks(fontsize=14);\n",
        "plt.yticks(fontsize=14);\n",
        "\n",
        "ax = fig.add_subplot(2, 2, 3)\n",
        "#ax.set_ylim(0,6)\n",
        "#ax.set_xlim(0.982,0.991)\n",
        "ax.set_xlim(0, 784)\n",
        "plt.bar(x=np.arange(0,784,1),height=Xinput_rev[11981,:], color = 'black', alpha = 0.5, width = 5.0)\n",
        "ax.set_xlabel('Pixel Number', fontsize = 16)\n",
        "ax.set_ylabel('Gray Value', fontsize = 16)\n",
        "plt.xticks(fontsize=14);\n",
        "plt.yticks(fontsize=14);\n",
        "\n",
        "ax = fig.add_subplot(2, 2, 4)\n",
        "#ax.set_ylim(0,6)\n",
        "#ax.set_xlim(0.982,0.991)\n",
        "ax.set_xlim(0, 784)\n",
        "plt.bar(x=np.arange(0,784,1),height=Xinput_rev[6,:], color = 'black', alpha = 0.5, width = 5.0)\n",
        "ax.set_xlabel('Pixel Number', fontsize = 16)\n",
        "\n",
        "plt.xticks(fontsize=14);\n",
        "plt.yticks(fontsize=14);\n"
      ],
      "execution_count": 35,
      "outputs": [
        {
          "output_type": "display_data",
          "data": {
            "text/plain": [
              "<Figure size 432x288 with 0 Axes>"
            ]
          },
          "metadata": {
            "tags": []
          }
        },
        {
          "output_type": "display_data",
          "data": {
            "image/png": "[encoded data removed]",
            "text/plain": [
              "<Figure size 864x648 with 4 Axes>"
            ]
          },
          "metadata": {
            "tags": []
          }
        }
      ]
    },
    {
      "metadata": {
        "id": "93ASYPir4ZJJ",
        "colab_type": "code",
        "outputId": "8ea9be60-6f76-48ab-f5c8-442304c95ac9",
        "colab": {
          "base_uri": "https://localhost:8080/",
          "height": 424
        }
      },
      "cell_type": "code",
      "source": [
        "some_digit = Xinput_rev[7665,:]\n",
        "\n",
        "some_digit_image = some_digit.reshape(28,28)\n",
        "plt.figure(figsize=(12,7))\n",
        "\n",
        "plt.imshow(some_digit_image, cmap = matplotlib.cm.binary, interpolation = \"nearest\")\n",
        "plt.axis(\"off\")\n",
        "plt.show()"
      ],
      "execution_count": 36,
      "outputs": [
        {
          "output_type": "display_data",
          "data": {
            "image/png": "[encoded data removed]",
            "text/plain": [
              "<Figure size 864x504 with 1 Axes>"
            ]
          },
          "metadata": {
            "tags": []
          }
        }
      ]
    },
    {
      "metadata": {
        "id": "VgJ6CJJS4ZJM",
        "colab_type": "code",
        "outputId": "f8203382-29ea-42fa-fe2c-19de22cca638",
        "colab": {
          "base_uri": "https://localhost:8080/",
          "height": 424
        }
      },
      "cell_type": "code",
      "source": [
        "some_digit = Xinput_rev[124,:]\n",
        "\n",
        "some_digit_image = some_digit.reshape(28,28)\n",
        "plt.figure(figsize=(12,7))\n",
        "plt.imshow(some_digit_image, cmap = matplotlib.cm.binary, interpolation = \"nearest\")\n",
        "plt.axis(\"off\")\n",
        "plt.show()"
      ],
      "execution_count": 38,
      "outputs": [
        {
          "output_type": "display_data",
          "data": {
            "image/png": "[encoded data removed]",
            "text/plain": [
              "<Figure size 864x504 with 1 Axes>"
            ]
          },
          "metadata": {
            "tags": []
          }
        }
      ]
    },
    {
      "metadata": {
        "id": "K07MXfuS4ZJO",
        "colab_type": "text"
      },
      "cell_type": "markdown",
      "source": [
        "as expected we get lots of white pixels. But that does not tell us much, it actually hide the real useful information. So let's remove the really white pixel from the histogram"
      ]
    },
    {
      "metadata": {
        "id": "YKkaLt8U4ZJP",
        "colab_type": "text"
      },
      "cell_type": "markdown",
      "source": [
        "# New features"
      ]
    },
    {
      "metadata": {
        "id": "gwoFAEmB4ZJP",
        "colab_type": "code",
        "colab": {}
      },
      "cell_type": "code",
      "source": [
        "left = np.sum(Xinput_rev[:,0:400], axis = 1)\n",
        "right = np.sum(Xinput_rev[:,400:784], axis = 1)\n",
        "\n",
        "ratio = np.divide(right, left)\n",
        "sum_all = np.sum(Xinput_rev, axis = 1)"
      ],
      "execution_count": 0,
      "outputs": []
    },
    {
      "metadata": {
        "id": "4PH18x5i4ZJS",
        "colab_type": "text"
      },
      "cell_type": "markdown",
      "source": [
        "Now let's see how they differ between ones and twos"
      ]
    },
    {
      "metadata": {
        "id": "muws_hiN4ZJS",
        "colab_type": "code",
        "colab": {}
      },
      "cell_type": "code",
      "source": [
        "left3 = left[yinput == 3]\n",
        "left8 = left[yinput == 8]\n",
        "\n",
        "ratio3 = ratio[yinput == 3]\n",
        "ratio8 = ratio[yinput == 8]\n",
        "\n",
        "right3 = right[yinput == 3]\n",
        "right8 =  right[yinput == 8]\n",
        "\n",
        "all3 = sum_all[yinput == 3]\n",
        "all8 = sum_all[yinput == 8]"
      ],
      "execution_count": 0,
      "outputs": []
    },
    {
      "metadata": {
        "id": "DAXDEtD24ZJU",
        "colab_type": "code",
        "outputId": "35bd631a-d737-4066-ec37-03432af43a9b",
        "colab": {
          "base_uri": "https://localhost:8080/",
          "height": 472
        }
      },
      "cell_type": "code",
      "source": [
        "plt.rc('font', family='arial')\n",
        "plt.rc('xtick', labelsize='x-small')\n",
        "plt.rc('ytick', labelsize='x-small')\n",
        "\n",
        "plt.figure(figsize=(12,7))\n",
        "plt.hist(ratio3, bins = 30, alpha = 0.2, color = 'red', label = 'Digit 3 - left pixel ratio [0,400]/[401, 784]')\n",
        "plt.hist(ratio8, bins = 30, alpha = 0.2, color = 'blue', label = 'Digit 8 - left pixel ratio [0,400]/[401, 784]')\n",
        "plt.legend(bbox_to_anchor=(1.05, 1), loc=2, borderaxespad=0., fontsize = 16)\n",
        "plt.xlabel('ratio [0,400]/[401, 784]', fontsize = 16)\n",
        "plt.ylabel('Count', fontsize = 16)\n",
        "plt.tick_params(labelsize=16)\n",
        "plt.show()"
      ],
      "execution_count": 41,
      "outputs": [
        {
          "output_type": "display_data",
          "data": {
            "image/png": "[encoded data removed]",
            "text/plain": [
              "<Figure size 864x504 with 1 Axes>"
            ]
          },
          "metadata": {
            "tags": []
          }
        }
      ]
    },
    {
      "metadata": {
        "id": "uso69tj84ZJX",
        "colab_type": "text"
      },
      "cell_type": "markdown",
      "source": [
        "## Predictions"
      ]
    },
    {
      "metadata": {
        "id": "PZMM1rHd4ZJX",
        "colab_type": "text"
      },
      "cell_type": "markdown",
      "source": [
        "We could decide that if the value of ```left``` lies below 7500 is a one and if above is a two."
      ]
    },
    {
      "metadata": {
        "id": "sVgqam974ZJY",
        "colab_type": "code",
        "colab": {}
      },
      "cell_type": "code",
      "source": [
        "pred = ratio > 1.2\n",
        "yinput_scaled = yinput == 3"
      ],
      "execution_count": 0,
      "outputs": []
    },
    {
      "metadata": {
        "id": "7Ol1m1ln4ZJa",
        "colab_type": "code",
        "outputId": "4595a5d3-6a3f-4103-d89d-361ca8f2a875",
        "colab": {
          "base_uri": "https://localhost:8080/",
          "height": 36
        }
      },
      "cell_type": "code",
      "source": [
        "np.mean(pred == yinput_scaled)"
      ],
      "execution_count": 43,
      "outputs": [
        {
          "output_type": "execute_result",
          "data": {
            "text/plain": [
              "0.7165748622934401"
            ]
          },
          "metadata": {
            "tags": []
          },
          "execution_count": 43
        }
      ]
    },
    {
      "metadata": {
        "id": "5uC4aYuc4ZJd",
        "colab_type": "text"
      },
      "cell_type": "markdown",
      "source": [
        "Out of curiosity we could try to find the best values for example for the right sum of pixels"
      ]
    },
    {
      "metadata": {
        "id": "EFmutE_m4ZJd",
        "colab_type": "code",
        "outputId": "ee06d330-b6ff-413e-b144-c2166be82acf",
        "colab": {
          "base_uri": "https://localhost:8080/",
          "height": 52
        }
      },
      "cell_type": "code",
      "source": [
        "chosen_value = 0\n",
        "accuracy = 0\n",
        "for i in np.arange (0, 2.0, 0.01):\n",
        "    pred = ratio > i\n",
        "    accuracy_ = np.mean(pred == yinput_scaled)\n",
        "    if (accuracy_ > accuracy ):\n",
        "        accuracy = accuracy_\n",
        "        chosen_value = i\n",
        "        \n",
        "print ('i', chosen_value)\n",
        "print('accuracy', accuracy)"
      ],
      "execution_count": 44,
      "outputs": [
        {
          "output_type": "stream",
          "text": [
            "i 1.19\n",
            "accuracy 0.7183274912368552\n"
          ],
          "name": "stdout"
        }
      ]
    },
    {
      "metadata": {
        "id": "XT71OdzML9q7",
        "colab_type": "code",
        "colab": {}
      },
      "cell_type": "code",
      "source": [
        ""
      ],
      "execution_count": 0,
      "outputs": []
    }
  ]
}