{
  "nbformat": 4,
  "nbformat_minor": 0,
  "metadata": {
    "colab": {
      "name": "Copy of Week 2 - Data Analysis Example.ipynb",
      "version": "0.3.2",
      "provenance": [],
      "collapsed_sections": [],
      "include_colab_link": true
    },
    "kernelspec": {
      "display_name": "Python 3",
      "language": "python",
      "name": "python3"
    }
  },
  "cells": [
    {
      "cell_type": "markdown",
      "metadata": {
        "id": "view-in-github",
        "colab_type": "text"
      },
      "source": [
        "<a href=\"https://colab.research.google.com/github/michelucci/zhaw-dlcourse-spring2019/blob/master/Week%202%20-%20Calculus%20and%20Data%20Visualisation/Week_2_Data_Analysis_Example_MNIST_without_Tensorflow.ipynb\" target=\"_parent\"><img src=\"https://colab.research.google.com/assets/colab-badge.svg\" alt=\"Open In Colab\"/></a>"
      ]
    },
    {
      "metadata": {
        "id": "DYwuFps94fsd",
        "colab_type": "text"
      },
      "cell_type": "markdown",
      "source": [
        "# Neural Networks and Deep Learning for Life Sciences and Health Applications - An introductory course about theoretical fundamentals, case studies and implementations in python and tensorflow "
      ]
    },
    {
      "metadata": {
        "id": "dCj-8Mos4fsg",
        "colab_type": "text"
      },
      "cell_type": "markdown",
      "source": [
        "(C) Umberto Michelucci 2018 - umberto.michelucci@gmail.com \n",
        "\n",
        "github repository: https://github.com/michelucci/zhaw-dlcourse-spring2019\n",
        "\n",
        "Spring Semester 2019"
      ]
    },
    {
      "metadata": {
        "id": "HBOvx-7u4fsh",
        "colab_type": "text"
      },
      "cell_type": "markdown",
      "source": [
        "## Libraries"
      ]
    },
    {
      "metadata": {
        "id": "FAngnFVM4fsi",
        "colab_type": "code",
        "colab": {}
      },
      "cell_type": "code",
      "source": [
        "import numpy as np\n",
        "from sklearn.datasets import fetch_mldata\n",
        "\n",
        "%matplotlib inline\n",
        "\n",
        "import matplotlib\n",
        "import matplotlib.pyplot as plt\n",
        "\n",
        "from random import *"
      ],
      "execution_count": 0,
      "outputs": []
    },
    {
      "metadata": {
        "id": "3SNTm47o4fsm",
        "colab_type": "text"
      },
      "cell_type": "markdown",
      "source": [
        "## Data preparation"
      ]
    },
    {
      "metadata": {
        "id": "RmwY6hjU4fsn",
        "colab_type": "text"
      },
      "cell_type": "markdown",
      "source": [
        "To get MNIST data we use the function fetch_mldata, in the datasets package. Let's get all the dataset, and then we will select only the digits we want."
      ]
    },
    {
      "metadata": {
        "id": "ELPgwsG5GFT6",
        "colab_type": "code",
        "colab": {}
      },
      "cell_type": "code",
      "source": [
        "import tensorflow as tf\n",
        "mnist = tf.keras.datasets.mnist\n",
        "\n",
        "(x_train, y_train),(x_test, y_test) = mnist.load_data()\n",
        "x_train, x_test = x_train / 255.0, x_test / 255.0"
      ],
      "execution_count": 0,
      "outputs": []
    },
    {
      "metadata": {
        "id": "WY3iWBsd4fst",
        "colab_type": "code",
        "colab": {}
      },
      "cell_type": "code",
      "source": [
        "Xinput_,yinput_ = x_train, y_train\n",
        "\n",
        "Xinput_ = x_train.reshape(60000,784)\n",
        "yinput_ = y_train.reshape(60000,)"
      ],
      "execution_count": 0,
      "outputs": []
    },
    {
      "metadata": {
        "id": "mQoUoBoW4fsw",
        "colab_type": "code",
        "outputId": "05ce19f1-386a-4f3e-d2f4-0d16813c3b9b",
        "colab": {
          "base_uri": "https://localhost:8080/",
          "height": 76
        }
      },
      "cell_type": "code",
      "source": [
        "Xinput_.shape"
      ],
      "execution_count": 4,
      "outputs": [
        {
          "output_type": "execute_result",
          "data": {
            "text/plain": [
              "(60000, 784)"
            ]
          },
          "metadata": {
            "tags": []
          },
          "execution_count": 4
        }
      ]
    },
    {
      "metadata": {
        "id": "lYYTicgv4fs0",
        "colab_type": "code",
        "outputId": "cdc7f347-7914-4f61-b650-28e0cf60126d",
        "colab": {
          "base_uri": "https://localhost:8080/",
          "height": 96
        }
      },
      "cell_type": "code",
      "source": [
        "yinput_.shape"
      ],
      "execution_count": 5,
      "outputs": [
        {
          "output_type": "execute_result",
          "data": {
            "text/plain": [
              "(60000,)"
            ]
          },
          "metadata": {
            "tags": []
          },
          "execution_count": 5
        }
      ]
    },
    {
      "metadata": {
        "id": "LSumG4s_4fs3",
        "colab_type": "text"
      },
      "cell_type": "markdown",
      "source": [
        "To know how many digits we have we can run this simple code"
      ]
    },
    {
      "metadata": {
        "id": "mOkfNx984fs3",
        "colab_type": "code",
        "outputId": "208e75eb-0201-43c9-c5c8-09d4c38d72b3",
        "colab": {
          "base_uri": "https://localhost:8080/",
          "height": 253
        }
      },
      "cell_type": "code",
      "source": [
        "total = 0\n",
        "for i in range(10):\n",
        "    print (\"digit\", i, \"appear\", np.count_nonzero(yinput_ == i), \"times\")"
      ],
      "execution_count": 6,
      "outputs": [
        {
          "output_type": "stream",
          "text": [
            "digit 0 appear 5923 times\n",
            "digit 1 appear 6742 times\n",
            "digit 2 appear 5958 times\n",
            "digit 3 appear 6131 times\n",
            "digit 4 appear 5842 times\n",
            "digit 5 appear 5421 times\n",
            "digit 6 appear 5918 times\n",
            "digit 7 appear 6265 times\n",
            "digit 8 appear 5851 times\n",
            "digit 9 appear 5949 times\n"
          ],
          "name": "stdout"
        }
      ]
    },
    {
      "metadata": {
        "id": "He6hYOmA4fs7",
        "colab_type": "code",
        "outputId": "0b30fc8d-8903-4fd7-e776-a8f0ea41a750",
        "colab": {
          "base_uri": "https://localhost:8080/",
          "height": 92
        }
      },
      "cell_type": "code",
      "source": [
        "total = 0\n",
        "for i in range(2):\n",
        "    print (\"digit\", i, \"makes\", np.around(np.count_nonzero(yinput_ == i)/70000.0*100.0, decimals=1), \"% of the 70000 observations\")"
      ],
      "execution_count": 7,
      "outputs": [
        {
          "output_type": "stream",
          "text": [
            "digit 0 makes 8.5 % of the 70000 observations\n",
            "digit 1 makes 9.6 % of the 70000 observations\n"
          ],
          "name": "stdout"
        }
      ]
    },
    {
      "metadata": {
        "id": "7vdtxUfl4fs-",
        "colab_type": "text"
      },
      "cell_type": "markdown",
      "source": [
        "# Select only digits 1 and 2"
      ]
    },
    {
      "metadata": {
        "id": "QqtcsGHo4fs_",
        "colab_type": "code",
        "colab": {}
      },
      "cell_type": "code",
      "source": [
        "Xinput = Xinput_[np.any([yinput_ == 1,yinput_ == 2], axis = 0)]\n",
        "yinput = yinput_[np.any([yinput_ == 1,yinput_ == 2], axis = 0)]"
      ],
      "execution_count": 0,
      "outputs": []
    },
    {
      "metadata": {
        "id": "kI-4KL5F4ftB",
        "colab_type": "text"
      },
      "cell_type": "markdown",
      "source": [
        "As usual we need to rescale the labels"
      ]
    },
    {
      "metadata": {
        "id": "wmXevbJl4ftC",
        "colab_type": "code",
        "colab": {}
      },
      "cell_type": "code",
      "source": [
        "yinput = yinput - 1"
      ],
      "execution_count": 0,
      "outputs": []
    },
    {
      "metadata": {
        "id": "4UxyNLeG4ftE",
        "colab_type": "code",
        "outputId": "5a2618ab-a29c-4775-fd1b-ea10b2270425",
        "colab": {
          "base_uri": "https://localhost:8080/",
          "height": 92
        }
      },
      "cell_type": "code",
      "source": [
        "total = 0\n",
        "for i in range(0,2,1):\n",
        "    print (\"Label\", i, \"makes\", np.around(np.count_nonzero(yinput == i)/14867.0*100.0, decimals=1), \"% of the 14867 observations\")"
      ],
      "execution_count": 10,
      "outputs": [
        {
          "output_type": "stream",
          "text": [
            "Label 0 makes 45.3 % of the 14867 observations\n",
            "Label 1 makes 40.1 % of the 14867 observations\n"
          ],
          "name": "stdout"
        }
      ]
    },
    {
      "metadata": {
        "id": "WltLupcv4ftI",
        "colab_type": "code",
        "colab": {
          "base_uri": "https://localhost:8080/",
          "height": 512
        },
        "outputId": "157e9096-3591-4cba-c2b3-ae33575511e7"
      },
      "cell_type": "code",
      "source": [
        "some_digit = Xinput[556,:]\n",
        "\n",
        "some_digit_image = some_digit.reshape(28,28)\n",
        "\n",
        "plt.figure(figsize=(10,7))\n",
        "plt.imshow(some_digit_image, cmap = matplotlib.cm.binary, interpolation = \"nearest\")\n",
        "plt.axis(\"off\")\n",
        "plt.show()"
      ],
      "execution_count": 15,
      "outputs": [
        {
          "output_type": "stream",
          "text": [
            "/usr/local/lib/python3.6/dist-packages/matplotlib/font_manager.py:1241: UserWarning: findfont: Font family ['arial'] not found. Falling back to DejaVu Sans.\n",
            "  (prop.get_family(), self.defaultFamily[fontext]))\n"
          ],
          "name": "stderr"
        },
        {
          "output_type": "display_data",
          "data": {
            "image/png": "[encoded data removed]",
            "text/plain": [
              "<Figure size 720x504 with 1 Axes>"
            ]
          },
          "metadata": {
            "tags": []
          }
        }
      ]
    },
    {
      "metadata": {
        "id": "eSCEtJRg4ftK",
        "colab_type": "code",
        "outputId": "d9831751-11f8-480b-b856-668cf971198a",
        "colab": {
          "base_uri": "https://localhost:8080/",
          "height": 92
        }
      },
      "cell_type": "code",
      "source": [
        "print(Xinput.shape)\n",
        "print(yinput.shape)"
      ],
      "execution_count": 12,
      "outputs": [
        {
          "output_type": "stream",
          "text": [
            "(12700, 784)\n",
            "(12700,)\n"
          ],
          "name": "stdout"
        }
      ]
    },
    {
      "metadata": {
        "id": "9QURez3O4ftO",
        "colab_type": "text"
      },
      "cell_type": "markdown",
      "source": [
        "# Manual data analysis"
      ]
    },
    {
      "metadata": {
        "id": "P4jglHvc4ftO",
        "colab_type": "text"
      },
      "cell_type": "markdown",
      "source": [
        "Now let's check how our data is looking at after transforming the 2-D images into a 1-D vectors, that have 784 components (remember that our images are 28x28)."
      ]
    },
    {
      "metadata": {
        "id": "D-1dltja4ftQ",
        "colab_type": "code",
        "outputId": "823dc116-c4f8-40b9-d90c-d27567611c6a",
        "colab": {
          "base_uri": "https://localhost:8080/",
          "height": 637
        }
      },
      "cell_type": "code",
      "source": [
        "plt.rc('font', family='arial')\n",
        "plt.rc('xtick', labelsize='x-small')\n",
        "plt.rc('ytick', labelsize='x-small')\n",
        "    \n",
        "plt.tight_layout()\n",
        "\n",
        "fig = plt.figure(figsize=(12,9))\n",
        "ax = fig.add_subplot(2, 2, 1)\n",
        "plt.bar(x=np.arange(0,784,1),height=Xinput[556,:], color = 'black', alpha = 0.5, width = 5.0)\n",
        "#ax.set_ylim(0,6)\n",
        "ax.set_xlim(0, 784)\n",
        "ax.set_xlabel('Pixel Number', fontsize = 16)\n",
        "ax.set_ylabel('Gray Value', fontsize = 16)\n",
        "plt.xticks(fontsize=14);\n",
        "plt.yticks(fontsize=14);\n",
        "\n",
        "\n",
        "ax = fig.add_subplot(2, 2, 2)\n",
        "#ax.set_ylim(0,6)\n",
        "#ax.set_xlim(0.982,0.991)\n",
        "ax.set_xlim(0, 784)\n",
        "plt.bar(x=np.arange(0,784,1),height=Xinput[879,:], color = 'black', alpha = 0.5, width = 5.0)\n",
        "ax.set_xlabel('Pixel Number', fontsize = 16)\n",
        "plt.xticks(fontsize=14);\n",
        "plt.yticks(fontsize=14);\n",
        "\n",
        "ax = fig.add_subplot(2, 2, 3)\n",
        "#ax.set_ylim(0,6)\n",
        "#ax.set_xlim(0.982,0.991)\n",
        "ax.set_xlim(0, 784)\n",
        "plt.bar(x=np.arange(0,784,1),height=Xinput[78,:], color = 'black', alpha = 0.5, width = 5.0)\n",
        "ax.set_xlabel('Pixel Number', fontsize = 16)\n",
        "plt.xticks(fontsize=14);\n",
        "plt.yticks(fontsize=14);\n",
        "\n",
        "ax = fig.add_subplot(2, 2, 4)\n",
        "#ax.set_ylim(0,6)\n",
        "#ax.set_xlim(0.982,0.991)\n",
        "ax.set_xlim(0, 784)\n",
        "plt.bar(x=np.arange(0,784,1),height=Xinput[111,:], color = 'black', alpha = 0.5, width = 5.0)\n",
        "ax.set_xlabel('Pixel Number', fontsize = 16)\n",
        "plt.xticks(fontsize=14);\n",
        "plt.yticks(fontsize=14);\n",
        "\n",
        "\n"
      ],
      "execution_count": 16,
      "outputs": [
        {
          "output_type": "display_data",
          "data": {
            "text/plain": [
              "<Figure size 432x288 with 0 Axes>"
            ]
          },
          "metadata": {
            "tags": []
          }
        },
        {
          "output_type": "display_data",
          "data": {
            "image/png": "[encoded data removed]",
            "text/plain": [
              "<Figure size 864x648 with 4 Axes>"
            ]
          },
          "metadata": {
            "tags": []
          }
        }
      ]
    },
    {
      "metadata": {
        "id": "hOyMLk9-4ftU",
        "colab_type": "text"
      },
      "cell_type": "markdown",
      "source": [
        "Is very interesting to note that all images look the same. Even without knowing what digit they are is rather simple to recognize that they must be the same digit!"
      ]
    },
    {
      "metadata": {
        "id": "MaFJmOea4ftV",
        "colab_type": "text"
      },
      "cell_type": "markdown",
      "source": [
        "### Another example of digit 1"
      ]
    },
    {
      "metadata": {
        "id": "qHxqzGuB4ftW",
        "colab_type": "code",
        "outputId": "ba1c9b8d-794c-40f9-c3bb-b6bc1366cfd5",
        "colab": {
          "base_uri": "https://localhost:8080/",
          "height": 476
        }
      },
      "cell_type": "code",
      "source": [
        "plt.rc('font', family='arial')\n",
        "plt.rc('xtick', labelsize='x-small')\n",
        "plt.rc('ytick', labelsize='x-small')\n",
        "    \n",
        "plt.tight_layout()\n",
        "\n",
        "fig = plt.figure(figsize=(14,6))\n",
        "ax = fig.add_subplot(1, 2, 1)\n",
        "\n",
        "some_digit = Xinput[879,:]\n",
        "some_digit_image = some_digit.reshape(28,28)\n",
        "\n",
        "ax.imshow(some_digit_image, cmap = matplotlib.cm.binary, interpolation = \"nearest\")\n",
        "plt.axis(\"off\")\n",
        "\n",
        "ax = fig.add_subplot(1, 2, 2)\n",
        "#ax.set_ylim(0,6)\n",
        "#ax.set_xlim(0.982,0.991)\n",
        "plt.bar(x=np.arange(0,784,1),height=Xinput[879,:], color = 'black', alpha = 0.5, width = 5.0)\n",
        "ax.set_xlabel('Pixel Number', fontsize = 16)\n",
        "ax.set_ylabel('Gray Value', fontsize = 16)\n",
        "plt.xticks(fontsize=14);\n",
        "plt.yticks(fontsize=14);\n",
        "\n",
        "\n"
      ],
      "execution_count": 17,
      "outputs": [
        {
          "output_type": "display_data",
          "data": {
            "text/plain": [
              "<Figure size 432x288 with 0 Axes>"
            ]
          },
          "metadata": {
            "tags": []
          }
        },
        {
          "output_type": "display_data",
          "data": {
            "image/png": "[encoded data removed]",
            "text/plain": [
              "<Figure size 1008x432 with 2 Axes>"
            ]
          },
          "metadata": {
            "tags": []
          }
        }
      ]
    },
    {
      "metadata": {
        "id": "YUSUxT-v4fta",
        "colab_type": "text"
      },
      "cell_type": "markdown",
      "source": [
        "### Digit 2"
      ]
    },
    {
      "metadata": {
        "id": "HcAPP6RP4fta",
        "colab_type": "text"
      },
      "cell_type": "markdown",
      "source": [
        "Now let's have a look at digit 2 and how it differs from digit 1"
      ]
    },
    {
      "metadata": {
        "id": "fTmqYq4u4ftb",
        "colab_type": "code",
        "outputId": "34c28816-0752-4d44-ec5c-77a5eeab2ba1",
        "colab": {
          "base_uri": "https://localhost:8080/",
          "height": 400
        }
      },
      "cell_type": "code",
      "source": [
        "plt.rc('font', family='arial')\n",
        "plt.rc('xtick', labelsize='x-small')\n",
        "plt.rc('ytick', labelsize='x-small')\n",
        "    \n",
        "plt.tight_layout()\n",
        "\n",
        "fig = plt.figure(figsize=(12,5))\n",
        "ax = fig.add_subplot(1, 2, 1)\n",
        "\n",
        "some_digit = Xinput[555,:]\n",
        "some_digit_image = some_digit.reshape(28,28)\n",
        "\n",
        "ax.imshow(some_digit_image, cmap = matplotlib.cm.binary, interpolation = \"nearest\")\n",
        "plt.axis(\"off\")\n",
        "\n",
        "ax = fig.add_subplot(1, 2, 2)\n",
        "#ax.set_ylim(0,6)\n",
        "#ax.set_xlim(0.982,0.991)\n",
        "ax.set_xlim(0, 784)\n",
        "plt.bar(x=np.arange(0,784,1),height=Xinput[555,:], color = 'black', alpha = 0.5, width = 5.0)\n",
        "ax.set_xlabel('Pixel Number', fontsize = 16)\n",
        "ax.set_ylabel('Gray Value', fontsize = 16)\n",
        "plt.xticks(fontsize=14);\n",
        "plt.yticks(fontsize=14);"
      ],
      "execution_count": 19,
      "outputs": [
        {
          "output_type": "display_data",
          "data": {
            "text/plain": [
              "<Figure size 432x288 with 0 Axes>"
            ]
          },
          "metadata": {
            "tags": []
          }
        },
        {
          "output_type": "display_data",
          "data": {
            "image/png": "[encoded data removed]",
            "text/plain": [
              "<Figure size 864x360 with 2 Axes>"
            ]
          },
          "metadata": {
            "tags": []
          }
        }
      ]
    },
    {
      "metadata": {
        "id": "1N9HIDLF4fte",
        "colab_type": "text"
      },
      "cell_type": "markdown",
      "source": [
        "### Let's check some 2s"
      ]
    },
    {
      "metadata": {
        "id": "zxI77rNt4fte",
        "colab_type": "code",
        "outputId": "2c6e9b5f-d54b-431e-a697-77bbd3bba043",
        "colab": {
          "base_uri": "https://localhost:8080/",
          "height": 76
        }
      },
      "cell_type": "code",
      "source": [
        "np.where(yinput == 1)"
      ],
      "execution_count": 20,
      "outputs": [
        {
          "output_type": "execute_result",
          "data": {
            "text/plain": [
              "(array([    1,     5,     8, ..., 12695, 12697, 12698]),)"
            ]
          },
          "metadata": {
            "tags": []
          },
          "execution_count": 20
        }
      ]
    },
    {
      "metadata": {
        "id": "5en8bCes4ftg",
        "colab_type": "code",
        "outputId": "5da2a82f-53e9-4e5e-fb04-aea85d27fdb0",
        "colab": {
          "base_uri": "https://localhost:8080/",
          "height": 617
        }
      },
      "cell_type": "code",
      "source": [
        "plt.rc('font', family='arial')\n",
        "plt.rc('xtick', labelsize='x-small')\n",
        "plt.rc('ytick', labelsize='x-small')\n",
        "    \n",
        "plt.tight_layout()\n",
        "\n",
        "fig = plt.figure(figsize=(12, 9))\n",
        "ax = fig.add_subplot(2, 2, 1)\n",
        "plt.bar(x=np.arange(0,784,1),height=Xinput[12695,:], color = 'black', alpha = 0.5, width = 5.0)\n",
        "#ax.set_ylim(0,6)\n",
        "ax.set_xlim(0, 784)\n",
        "ax.set_xlabel('Pixel Number', fontsize = 16)\n",
        "ax.set_ylabel('Gray Value', fontsize = 16)\n",
        "plt.xticks(fontsize=14);\n",
        "plt.yticks(fontsize=14);\n",
        "\n",
        "ax = fig.add_subplot(2, 2, 2)\n",
        "#ax.set_ylim(0,6)\n",
        "#ax.set_xlim(0.982,0.991)\n",
        "ax.set_xlim(0, 784)\n",
        "plt.bar(x=np.arange(0,784,1),height=Xinput[12698,:], color = 'black', alpha = 0.5, width = 5.0)\n",
        "ax.set_xlabel('Pixel Number', fontsize = 16)\n",
        "plt.xticks(fontsize=14);\n",
        "plt.yticks(fontsize=14);\n",
        "\n",
        "ax = fig.add_subplot(2, 2, 3)\n",
        "#ax.set_ylim(0,6)\n",
        "#ax.set_xlim(0.982,0.991)\n",
        "ax.set_xlim(0, 784)\n",
        "plt.bar(x=np.arange(0,784,1),height=Xinput[12697,:], color = 'black', alpha = 0.5, width = 5.0)\n",
        "ax.set_xlabel('Pixel Number', fontsize = 16)\n",
        "ax.set_ylabel('Gray Value', fontsize = 16)\n",
        "plt.xticks(fontsize=14);\n",
        "plt.yticks(fontsize=14);\n",
        "\n",
        "ax = fig.add_subplot(2, 2, 4)\n",
        "#ax.set_ylim(0,6)\n",
        "#ax.set_xlim(0.982,0.991)\n",
        "ax.set_xlim(0, 784)\n",
        "plt.bar(x=np.arange(0,784,1),height=Xinput[8,:], color = 'black', alpha = 0.5, width = 5.0)\n",
        "ax.set_xlabel('Pixel Number', fontsize = 16)\n",
        "\n",
        "plt.xticks(fontsize=14);\n",
        "plt.yticks(fontsize=14);\n"
      ],
      "execution_count": 21,
      "outputs": [
        {
          "output_type": "display_data",
          "data": {
            "text/plain": [
              "<Figure size 432x288 with 0 Axes>"
            ]
          },
          "metadata": {
            "tags": []
          }
        },
        {
          "output_type": "display_data",
          "data": {
            "image/png": "[encoded data removed]",
            "text/plain": [
              "<Figure size 864x648 with 4 Axes>"
            ]
          },
          "metadata": {
            "tags": []
          }
        }
      ]
    },
    {
      "metadata": {
        "id": "7AAOVq-W4ftj",
        "colab_type": "code",
        "outputId": "371b0f9d-7866-49a7-a45a-67f8fcecd207",
        "colab": {
          "base_uri": "https://localhost:8080/",
          "height": 464
        }
      },
      "cell_type": "code",
      "source": [
        "some_digit = Xinput[555,:]\n",
        "\n",
        "some_digit_image = some_digit.reshape(28,28)\n",
        "plt.figure(figsize=(12,7))\n",
        "\n",
        "plt.imshow(some_digit_image, cmap = matplotlib.cm.binary, interpolation = \"nearest\")\n",
        "plt.axis(\"off\")\n",
        "plt.show()"
      ],
      "execution_count": 22,
      "outputs": [
        {
          "output_type": "display_data",
          "data": {
            "image/png": "[encoded data removed]",
            "text/plain": [
              "<Figure size 864x504 with 1 Axes>"
            ]
          },
          "metadata": {
            "tags": []
          }
        }
      ]
    },
    {
      "metadata": {
        "id": "8DB-zDTD4ftl",
        "colab_type": "code",
        "outputId": "3dbe7913-0d31-4951-9df5-3707ef98d4dc",
        "colab": {
          "base_uri": "https://localhost:8080/",
          "height": 464
        }
      },
      "cell_type": "code",
      "source": [
        "some_digit = Xinput[556,:]\n",
        "\n",
        "some_digit_image = some_digit.reshape(28,28)\n",
        "plt.figure(figsize=(12,7))\n",
        "plt.imshow(some_digit_image, cmap = matplotlib.cm.binary, interpolation = \"nearest\")\n",
        "plt.axis(\"off\")\n",
        "plt.show()"
      ],
      "execution_count": 24,
      "outputs": [
        {
          "output_type": "display_data",
          "data": {
            "image/png": "[encoded data removed]",
            "text/plain": [
              "<Figure size 864x504 with 1 Axes>"
            ]
          },
          "metadata": {
            "tags": []
          }
        }
      ]
    },
    {
      "metadata": {
        "id": "qetgbuu04fto",
        "colab_type": "text"
      },
      "cell_type": "markdown",
      "source": [
        "# Distributions of gray values"
      ]
    },
    {
      "metadata": {
        "id": "X-bhfwQA4ftp",
        "colab_type": "text"
      },
      "cell_type": "markdown",
      "source": [
        "Now is very instructive to study the distributions of gray values in the different digits to see what we can learn"
      ]
    },
    {
      "metadata": {
        "id": "JDHGmS094ftq",
        "colab_type": "code",
        "outputId": "26e3f182-7343-41fa-b0c0-aa493c230ddc",
        "colab": {
          "base_uri": "https://localhost:8080/",
          "height": 493
        }
      },
      "cell_type": "code",
      "source": [
        "plt.rc('font', family='arial')\n",
        "plt.rc('xtick', labelsize='x-small')\n",
        "plt.rc('ytick', labelsize='x-small')\n",
        "\n",
        "plt.figure(figsize=(12,7))\n",
        "plt.hist(Xinput[123,:], bins = 30) # This is a one\n",
        "plt.tick_params(labelsize=16)\n",
        "plt.show()"
      ],
      "execution_count": 25,
      "outputs": [
        {
          "output_type": "display_data",
          "data": {
            "image/png": "[encoded data removed]",
            "text/plain": [
              "<Figure size 864x504 with 1 Axes>"
            ]
          },
          "metadata": {
            "tags": []
          }
        }
      ]
    },
    {
      "metadata": {
        "id": "-MJyV-Tw4ftt",
        "colab_type": "text"
      },
      "cell_type": "markdown",
      "source": [
        "as expected we get lots of white pixels. But that does not tell us much, it actually hide the real useful information. So let's remove the really white pixel from the histogram"
      ]
    },
    {
      "metadata": {
        "id": "A5dv7Wp74ftt",
        "colab_type": "code",
        "outputId": "f2d06739-a103-47c1-8f20-24ed92bcf37a",
        "colab": {
          "base_uri": "https://localhost:8080/",
          "height": 112
        }
      },
      "cell_type": "code",
      "source": [
        "digone = Xinput[556,:]\n",
        "digtwo = Xinput[555,:]\n",
        "digone = digone[digone > 5/255.0]\n",
        "digtwo = digtwo[digtwo > 5/255.0]\n",
        "\n",
        "print (Xinput[123,:].shape)\n",
        "print (digone.shape)\n",
        "print(digtwo.shape)"
      ],
      "execution_count": 29,
      "outputs": [
        {
          "output_type": "stream",
          "text": [
            "(784,)\n",
            "(85,)\n",
            "(173,)\n"
          ],
          "name": "stdout"
        }
      ]
    },
    {
      "metadata": {
        "id": "TzIMSkK94ftv",
        "colab_type": "code",
        "outputId": "74327eb0-0ddd-460d-dbd6-ba3a47eb9cfd",
        "colab": {
          "base_uri": "https://localhost:8080/",
          "height": 493
        }
      },
      "cell_type": "code",
      "source": [
        "plt.rc('font', family='arial')\n",
        "plt.rc('xtick', labelsize='x-small')\n",
        "plt.rc('ytick', labelsize='x-small')\n",
        "\n",
        "plt.figure(figsize=(12,7))\n",
        "plt.hist(digone, bins = 30, alpha = 0.2, color = 'red', label = 'Digit 1')\n",
        "plt.hist(digtwo, bins = 30, alpha = 0.2, color = 'blue', label = 'Digit 2')\n",
        "plt.legend(bbox_to_anchor=(1.05, 1), loc=2, borderaxespad=0., fontsize = 16)\n",
        "plt.tick_params(labelsize=16)\n",
        "plt.show()"
      ],
      "execution_count": 31,
      "outputs": [
        {
          "output_type": "display_data",
          "data": {
            "image/png": "[encoded data removed]",
            "text/plain": [
              "<Figure size 864x504 with 1 Axes>"
            ]
          },
          "metadata": {
            "tags": []
          }
        }
      ]
    },
    {
      "metadata": {
        "id": "CcBTzlCF4ftx",
        "colab_type": "text"
      },
      "cell_type": "markdown",
      "source": [
        "We can see that the two digits are slightly different but we cannot really use it to our advantage."
      ]
    },
    {
      "metadata": {
        "id": "DV-zC9_U4fty",
        "colab_type": "text"
      },
      "cell_type": "markdown",
      "source": [
        "# Two new features"
      ]
    },
    {
      "metadata": {
        "id": "hXz6x-4I4ft0",
        "colab_type": "text"
      },
      "cell_type": "markdown",
      "source": [
        "Let's define two new features that will allow us to distinguish between a one and a two. Consider the following digit 2 plotted as a 1-d Vector"
      ]
    },
    {
      "metadata": {
        "id": "banbiDSZ4ft1",
        "colab_type": "code",
        "outputId": "7f014986-0af3-41ad-ede1-c78186126f2d",
        "colab": {
          "base_uri": "https://localhost:8080/",
          "height": 421
        }
      },
      "cell_type": "code",
      "source": [
        "plt.rc('font', family='arial')\n",
        "plt.rc('xtick', labelsize='x-small')\n",
        "plt.rc('ytick', labelsize='x-small')\n",
        "    \n",
        "plt.tight_layout()\n",
        "\n",
        "fig = plt.figure(figsize=(12,5))\n",
        "ax = fig.add_subplot(1, 1, 1)\n",
        "\n",
        "some_digit = Xinput[556,:]\n",
        "some_digit_image = some_digit.reshape(28,28)\n",
        "\n",
        "#ax.set_ylim(0,6)\n",
        "#ax.set_xlim(0.982,0.991)\n",
        "ax.set_xlim(0, 784)\n",
        "plt.bar(x=np.arange(0,784,1),height=Xinput[9000,:], color = 'black', alpha = 0.5, width = 5.0)\n",
        "ax.set_xlabel('Pixel Number', fontsize = 16)\n",
        "ax.set_ylabel('Gray Value', fontsize = 16)\n",
        "plt.tick_params(labelsize=16)"
      ],
      "execution_count": 33,
      "outputs": [
        {
          "output_type": "display_data",
          "data": {
            "text/plain": [
              "<Figure size 432x288 with 0 Axes>"
            ]
          },
          "metadata": {
            "tags": []
          }
        },
        {
          "output_type": "display_data",
          "data": {
            "image/png": "[encoded data removed]",
            "text/plain": [
              "<Figure size 864x360 with 1 Axes>"
            ]
          },
          "metadata": {
            "tags": []
          }
        }
      ]
    },
    {
      "metadata": {
        "id": "fkNXyS1g4ft3",
        "colab_type": "text"
      },
      "cell_type": "markdown",
      "source": [
        "You will notice how there are more peaks between 100 and 300 and between 450 and 650. Let's define new features"
      ]
    },
    {
      "metadata": {
        "id": "inPhEdAI4ft3",
        "colab_type": "code",
        "colab": {}
      },
      "cell_type": "code",
      "source": [
        "left = np.sum(Xinput[:,100:300], axis = 1)\n",
        "right = np.sum(Xinput[:,450:650], axis = 1)"
      ],
      "execution_count": 0,
      "outputs": []
    },
    {
      "metadata": {
        "id": "bVjWeiwI4ft4",
        "colab_type": "text"
      },
      "cell_type": "markdown",
      "source": [
        "Now let's see how they differ between ones and twos"
      ]
    },
    {
      "metadata": {
        "id": "ThXWNctf4ft5",
        "colab_type": "code",
        "colab": {}
      },
      "cell_type": "code",
      "source": [
        "leftones = left[yinput == 0]\n",
        "lefttwos = left[yinput == 1]\n",
        "\n",
        "rightones = right[yinput == 0]\n",
        "righttwos =  right[yinput == 1]"
      ],
      "execution_count": 0,
      "outputs": []
    },
    {
      "metadata": {
        "id": "DQZzoVee4ft6",
        "colab_type": "code",
        "outputId": "06cb11a9-cf61-4abd-a392-7683ebaca668",
        "colab": {
          "base_uri": "https://localhost:8080/",
          "height": 508
        }
      },
      "cell_type": "code",
      "source": [
        "plt.rc('font', family='arial')\n",
        "plt.rc('xtick', labelsize='x-small')\n",
        "plt.rc('ytick', labelsize='x-small')\n",
        "\n",
        "plt.figure(figsize=(12,7))\n",
        "plt.hist(leftones, bins = 30, alpha = 0.2, color = 'red', label = 'Digit 1 - left pixel sum')\n",
        "plt.hist(lefttwos, bins = 30, alpha = 0.2, color = 'blue', label = 'Digit 2 - left pixel sum')\n",
        "plt.legend(bbox_to_anchor=(1.05, 1), loc=2, borderaxespad=0., fontsize = 16)\n",
        "plt.xlabel('Sum of gray values for pixels location in [100,299]', fontsize = 16)\n",
        "plt.ylabel('Count', fontsize = 16)\n",
        "plt.tick_params(labelsize=16)\n",
        "plt.show()"
      ],
      "execution_count": 36,
      "outputs": [
        {
          "output_type": "display_data",
          "data": {
            "image/png": "[encoded data removed]",
            "text/plain": [
              "<Figure size 864x504 with 1 Axes>"
            ]
          },
          "metadata": {
            "tags": []
          }
        }
      ]
    },
    {
      "metadata": {
        "id": "o4e65LH54ft8",
        "colab_type": "text"
      },
      "cell_type": "markdown",
      "source": [
        "Now we clearly see a difference! There are many more dark pixels in the are [100,299] for twos than for ones, as expected. Let's check the right part"
      ]
    },
    {
      "metadata": {
        "id": "Z8xKRxHJ4ft9",
        "colab_type": "code",
        "outputId": "57cf465c-ed49-4526-8c75-13852b9dc8b3",
        "colab": {
          "base_uri": "https://localhost:8080/",
          "height": 452
        }
      },
      "cell_type": "code",
      "source": [
        "plt.rc('font', family='arial')\n",
        "plt.rc('xtick', labelsize='x-small')\n",
        "plt.rc('ytick', labelsize='x-small')\n",
        "\n",
        "plt.figure(figsize=(12,7))\n",
        "plt.hist(rightones, bins = 30, alpha = 0.2, color = 'red', label = 'Digit 1 - right pixel sum')\n",
        "plt.hist(righttwos, bins = 30, alpha = 0.2, color = 'blue', label = 'Digit 2 - right pixel sum')\n",
        "plt.legend(bbox_to_anchor=(1.05, 1), loc=2, borderaxespad=0., fontsize = 16)\n",
        "plt.xlabel('Sum of gray values for pixels location in [450,649]', fontsize = 16)\n",
        "plt.ylabel('Count', fontsize = 16)\n",
        "plt.tick_params(labelsize=16)\n",
        "plt.show()"
      ],
      "execution_count": 37,
      "outputs": [
        {
          "output_type": "display_data",
          "data": {
            "image/png": "[encoded data removed]",
            "text/plain": [
              "<Figure size 864x504 with 1 Axes>"
            ]
          },
          "metadata": {
            "tags": []
          }
        }
      ]
    },
    {
      "metadata": {
        "id": "gduX1HK_4ft_",
        "colab_type": "text"
      },
      "cell_type": "markdown",
      "source": [
        "Same situation on the right side. But in this region the different is even more pronounced. Now let's try to use this information to detect ones and twos."
      ]
    },
    {
      "metadata": {
        "id": "UtdDR2104ft_",
        "colab_type": "text"
      },
      "cell_type": "markdown",
      "source": [
        "## Predictions"
      ]
    },
    {
      "metadata": {
        "id": "IngYmjJs4fuA",
        "colab_type": "text"
      },
      "cell_type": "markdown",
      "source": [
        "We could decide that if the value of ```left``` lies below 7500 is a one and if above is a two."
      ]
    },
    {
      "metadata": {
        "id": "wcQIst9X4fuC",
        "colab_type": "code",
        "colab": {}
      },
      "cell_type": "code",
      "source": [
        "pred = left > 6500/255.0"
      ],
      "execution_count": 0,
      "outputs": []
    },
    {
      "metadata": {
        "id": "eXXPQfId4fuE",
        "colab_type": "code",
        "outputId": "7efeec27-12cd-4b03-e7fe-2a8ade586544",
        "colab": {
          "base_uri": "https://localhost:8080/",
          "height": 36
        }
      },
      "cell_type": "code",
      "source": [
        "np.mean(pred == yinput)"
      ],
      "execution_count": 41,
      "outputs": [
        {
          "output_type": "execute_result",
          "data": {
            "text/plain": [
              "0.8588976377952756"
            ]
          },
          "metadata": {
            "tags": []
          },
          "execution_count": 41
        }
      ]
    },
    {
      "metadata": {
        "id": "-GdLcV2W4fuG",
        "colab_type": "text"
      },
      "cell_type": "markdown",
      "source": [
        "and simply in this way we get ca. 86% accuarcy!"
      ]
    },
    {
      "metadata": {
        "id": "IyAv8mRa4fuH",
        "colab_type": "text"
      },
      "cell_type": "markdown",
      "source": [
        "let's now use also the right information."
      ]
    },
    {
      "metadata": {
        "id": "VaOi-rWj4fuH",
        "colab_type": "code",
        "colab": {}
      },
      "cell_type": "code",
      "source": [
        "pred2 = right > 7500/255.0"
      ],
      "execution_count": 0,
      "outputs": []
    },
    {
      "metadata": {
        "id": "vheVHjWC4fuJ",
        "colab_type": "code",
        "outputId": "0842d9d5-8568-4461-d54e-7a473bf28322",
        "colab": {
          "base_uri": "https://localhost:8080/",
          "height": 36
        }
      },
      "cell_type": "code",
      "source": [
        "np.mean(pred2 == yinput)"
      ],
      "execution_count": 43,
      "outputs": [
        {
          "output_type": "execute_result",
          "data": {
            "text/plain": [
              "0.9099212598425197"
            ]
          },
          "metadata": {
            "tags": []
          },
          "execution_count": 43
        }
      ]
    },
    {
      "metadata": {
        "id": "lHQKMrao4fuL",
        "colab_type": "text"
      },
      "cell_type": "markdown",
      "source": [
        "Here is even better! We get up to 90% accuarcy."
      ]
    },
    {
      "metadata": {
        "id": "T9GM8tMC4fuL",
        "colab_type": "text"
      },
      "cell_type": "markdown",
      "source": [
        "Now we could use both informations"
      ]
    },
    {
      "metadata": {
        "id": "hAqQtLJ14fuM",
        "colab_type": "code",
        "colab": {}
      },
      "cell_type": "code",
      "source": [
        "pred = (left > 6500/255.0) & (right > 7500/255.0)"
      ],
      "execution_count": 0,
      "outputs": []
    },
    {
      "metadata": {
        "id": "jw7qVVM-4fuN",
        "colab_type": "code",
        "outputId": "bbc50419-c21a-4863-f08b-a5de7725209e",
        "colab": {
          "base_uri": "https://localhost:8080/",
          "height": 36
        }
      },
      "cell_type": "code",
      "source": [
        "np.mean(pred2 == yinput)"
      ],
      "execution_count": 45,
      "outputs": [
        {
          "output_type": "execute_result",
          "data": {
            "text/plain": [
              "0.9099212598425197"
            ]
          },
          "metadata": {
            "tags": []
          },
          "execution_count": 45
        }
      ]
    },
    {
      "metadata": {
        "id": "ObfAFr374fuO",
        "colab_type": "text"
      },
      "cell_type": "markdown",
      "source": [
        "Out of curiosity we could try to find the best values for example for the right sum of pixels"
      ]
    },
    {
      "metadata": {
        "id": "o4XF3xrJ4fuP",
        "colab_type": "code",
        "outputId": "4d4f69c0-50b8-4156-a82a-c1ffc981be7b",
        "colab": {
          "base_uri": "https://localhost:8080/",
          "height": 52
        }
      },
      "cell_type": "code",
      "source": [
        "chosen_value = 0\n",
        "accuracy = 0\n",
        "for i in range (0, yinput.shape[0]):\n",
        "    pred = right > i\n",
        "    accuracy_ = np.mean(pred == yinput)\n",
        "    if (accuracy_ > accuracy ):\n",
        "        accuracy = accuracy_\n",
        "        chosen_value = i\n",
        "        \n",
        "print ('i', chosen_value)\n",
        "print('accuracy', accuracy)"
      ],
      "execution_count": 46,
      "outputs": [
        {
          "output_type": "stream",
          "text": [
            "i 35\n",
            "accuracy 0.9324409448818898\n"
          ],
          "name": "stdout"
        }
      ]
    },
    {
      "metadata": {
        "id": "GrZJie6e4fuR",
        "colab_type": "text"
      },
      "cell_type": "markdown",
      "source": [
        "nice accuracy. Now let's try the left side"
      ]
    },
    {
      "metadata": {
        "id": "gGKyUnDH4fuS",
        "colab_type": "code",
        "outputId": "8a228ca3-23bc-4b29-b85c-6c0e696b27b6",
        "colab": {
          "base_uri": "https://localhost:8080/",
          "height": 52
        }
      },
      "cell_type": "code",
      "source": [
        "chosen_value = 0\n",
        "accuracy = 0\n",
        "for i in range (0, yinput.shape[0]):\n",
        "    pred = left > i\n",
        "    accuracy_ = np.mean(pred == yinput)\n",
        "    if (accuracy_ > accuracy ):\n",
        "        accuracy = accuracy_\n",
        "        chosen_value = i\n",
        "        \n",
        "print ('i', chosen_value)\n",
        "print('accuracy', accuracy)"
      ],
      "execution_count": 47,
      "outputs": [
        {
          "output_type": "stream",
          "text": [
            "i 26\n",
            "accuracy 0.8583464566929134\n"
          ],
          "name": "stdout"
        }
      ]
    },
    {
      "metadata": {
        "id": "s94zYqmm4fuT",
        "colab_type": "text"
      },
      "cell_type": "markdown",
      "source": [
        "# Conclusions"
      ]
    },
    {
      "metadata": {
        "id": "vKJXaE5t4fuT",
        "colab_type": "text"
      },
      "cell_type": "markdown",
      "source": [
        "Simply summing the gray values on the right side of the image we can detect the digits with an accuracy of 93%. Without any machine learning algorithm.\n",
        "\n",
        "Remember: check the data and learn how it is structured! Then you can design the right model!"
      ]
    },
    {
      "metadata": {
        "id": "kkP0nmCh4fuU",
        "colab_type": "text"
      },
      "cell_type": "markdown",
      "source": [
        "# Exercise 1 (difficulty: medium)"
      ]
    },
    {
      "metadata": {
        "id": "uos51dBu4fuU",
        "colab_type": "text"
      },
      "cell_type": "markdown",
      "source": [
        "Build a classifier, similar to what we have done before, using two other digits. You can choose which one. If you want a challenge try 3 and 8, or 1 and 7."
      ]
    },
    {
      "metadata": {
        "id": "BluYPDTc4fuU",
        "colab_type": "text"
      },
      "cell_type": "markdown",
      "source": [
        "# Exercise 2 (difficulty: hard)"
      ]
    },
    {
      "metadata": {
        "id": "oLxMELek4fuV",
        "colab_type": "text"
      },
      "cell_type": "markdown",
      "source": [
        "Try to build a classifier using 3 digits instead of 2. Choose for example 1,2 and 3."
      ]
    },
    {
      "metadata": {
        "id": "H71HM3CF4fuW",
        "colab_type": "code",
        "colab": {}
      },
      "cell_type": "code",
      "source": [
        ""
      ],
      "execution_count": 0,
      "outputs": []
    }
  ]
}