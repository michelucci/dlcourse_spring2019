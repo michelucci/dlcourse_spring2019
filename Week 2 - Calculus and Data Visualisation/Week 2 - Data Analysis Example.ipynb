{
 "cells": [
  {
   "cell_type": "markdown",
   "metadata": {},
   "source": [
    "# Neural Networks and Deep Learning for Life Sciences and Health Applications - An introductory course about theoretical fundamentals, case studies and implementations in python and tensorflow "
   ]
  },
  {
   "cell_type": "markdown",
   "metadata": {},
   "source": [
    "(C) Umberto Michelucci 2018 - umberto.michelucci@gmail.com \n",
    "\n",
    "github repository: https://github.com/michelucci/zhaw-dlcourse-spring2019\n",
    "\n",
    "Spring Semester 2019"
   ]
  },
  {
   "cell_type": "markdown",
   "metadata": {},
   "source": [
    "## Libraries"
   ]
  },
  {
   "cell_type": "code",
   "execution_count": 1,
   "metadata": {},
   "outputs": [],
   "source": [
    "import numpy as np\n",
    "from sklearn.datasets import fetch_mldata\n",
    "\n",
    "%matplotlib inline\n",
    "\n",
    "import matplotlib\n",
    "import matplotlib.pyplot as plt\n",
    "\n",
    "from random import *"
   ]
  },
  {
   "cell_type": "markdown",
   "metadata": {},
   "source": [
    "## Data preparation"
   ]
  },
  {
   "cell_type": "markdown",
   "metadata": {},
   "source": [
    "To get MNIST data we use the function fetch_mldata, in the datasets package. Let's get all the dataset, and then we will select only the digits we want."
   ]
  },
  {
   "cell_type": "code",
   "execution_count": 2,
   "metadata": {},
   "outputs": [
    {
     "data": {
      "text/plain": [
       "{'COL_NAMES': ['label', 'data'],\n",
       " 'DESCR': 'mldata.org dataset: mnist-original',\n",
       " 'data': array([[0, 0, 0, ..., 0, 0, 0],\n",
       "        [0, 0, 0, ..., 0, 0, 0],\n",
       "        [0, 0, 0, ..., 0, 0, 0],\n",
       "        ..., \n",
       "        [0, 0, 0, ..., 0, 0, 0],\n",
       "        [0, 0, 0, ..., 0, 0, 0],\n",
       "        [0, 0, 0, ..., 0, 0, 0]], dtype=uint8),\n",
       " 'target': array([ 0.,  0.,  0., ...,  9.,  9.,  9.])}"
      ]
     },
     "execution_count": 2,
     "metadata": {},
     "output_type": "execute_result"
    }
   ],
   "source": [
    "mnist = fetch_mldata('MNIST original')\n",
    "mnist"
   ]
  },
  {
   "cell_type": "code",
   "execution_count": 5,
   "metadata": {},
   "outputs": [],
   "source": [
    "Xinput_,yinput_ = mnist[\"data\"], mnist[\"target\"]"
   ]
  },
  {
   "cell_type": "code",
   "execution_count": 6,
   "metadata": {},
   "outputs": [
    {
     "data": {
      "text/plain": [
       "(70000, 784)"
      ]
     },
     "execution_count": 6,
     "metadata": {},
     "output_type": "execute_result"
    }
   ],
   "source": [
    "Xinput_.shape"
   ]
  },
  {
   "cell_type": "code",
   "execution_count": 7,
   "metadata": {},
   "outputs": [
    {
     "data": {
      "text/plain": [
       "(70000,)"
      ]
     },
     "execution_count": 7,
     "metadata": {},
     "output_type": "execute_result"
    }
   ],
   "source": [
    "yinput_.shape"
   ]
  },
  {
   "cell_type": "markdown",
   "metadata": {},
   "source": [
    "To know how many digits we have we can run this simple code"
   ]
  },
  {
   "cell_type": "code",
   "execution_count": 8,
   "metadata": {},
   "outputs": [
    {
     "name": "stdout",
     "output_type": "stream",
     "text": [
      "digit 0 appear 6903 times\n",
      "digit 1 appear 7877 times\n",
      "digit 2 appear 6990 times\n",
      "digit 3 appear 7141 times\n",
      "digit 4 appear 6824 times\n",
      "digit 5 appear 6313 times\n",
      "digit 6 appear 6876 times\n",
      "digit 7 appear 7293 times\n",
      "digit 8 appear 6825 times\n",
      "digit 9 appear 6958 times\n"
     ]
    }
   ],
   "source": [
    "total = 0\n",
    "for i in range(10):\n",
    "    print (\"digit\", i, \"appear\", np.count_nonzero(yinput_ == i), \"times\")"
   ]
  },
  {
   "cell_type": "code",
   "execution_count": 9,
   "metadata": {},
   "outputs": [
    {
     "name": "stdout",
     "output_type": "stream",
     "text": [
      "digit 0 makes 9.9 % of the 70000 observations\n",
      "digit 1 makes 11.3 % of the 70000 observations\n"
     ]
    }
   ],
   "source": [
    "total = 0\n",
    "for i in range(2):\n",
    "    print (\"digit\", i, \"makes\", np.around(np.count_nonzero(yinput_ == i)/70000.0*100.0, decimals=1), \"% of the 70000 observations\")"
   ]
  },
  {
   "cell_type": "markdown",
   "metadata": {},
   "source": [
    "# Select only digits 1 and 2"
   ]
  },
  {
   "cell_type": "code",
   "execution_count": 10,
   "metadata": {},
   "outputs": [],
   "source": [
    "Xinput = Xinput_[np.any([yinput_ == 1,yinput_ == 2], axis = 0)]\n",
    "yinput = yinput_[np.any([yinput_ == 1,yinput_ == 2], axis = 0)]"
   ]
  },
  {
   "cell_type": "markdown",
   "metadata": {},
   "source": [
    "As usual we need to rescale the labels"
   ]
  },
  {
   "cell_type": "code",
   "execution_count": 11,
   "metadata": {},
   "outputs": [],
   "source": [
    "yinput = yinput - 1"
   ]
  },
  {
   "cell_type": "code",
   "execution_count": 12,
   "metadata": {},
   "outputs": [
    {
     "name": "stdout",
     "output_type": "stream",
     "text": [
      "Label 0 makes 53.0 % of the 14867 observations\n",
      "Label 1 makes 47.0 % of the 14867 observations\n"
     ]
    }
   ],
   "source": [
    "total = 0\n",
    "for i in range(0,2,1):\n",
    "    print (\"Label\", i, \"makes\", np.around(np.count_nonzero(yinput == i)/14867.0*100.0, decimals=1), \"% of the 14867 observations\")"
   ]
  },
  {
   "cell_type": "code",
   "execution_count": 13,
   "metadata": {},
   "outputs": [
    {
     "data": {
      "image/png": "[encoded data removed]",
      "text/plain": [
       "<matplotlib.figure.Figure at 0x2b0d1890400>"
      ]
     },
     "metadata": {},
     "output_type": "display_data"
    }
   ],
   "source": [
    "some_digit = Xinput[8999,:]\n",
    "\n",
    "some_digit_image = some_digit.reshape(28,28)\n",
    "\n",
    "plt.figure(figsize=(10,7))\n",
    "plt.imshow(some_digit_image, cmap = matplotlib.cm.binary, interpolation = \"nearest\")\n",
    "plt.axis(\"off\")\n",
    "plt.show()"
   ]
  },
  {
   "cell_type": "code",
   "execution_count": 14,
   "metadata": {},
   "outputs": [
    {
     "name": "stdout",
     "output_type": "stream",
     "text": [
      "(14867, 784)\n",
      "(14867,)\n"
     ]
    }
   ],
   "source": [
    "print(Xinput.shape)\n",
    "print(yinput.shape)"
   ]
  },
  {
   "cell_type": "markdown",
   "metadata": {},
   "source": [
    "# Manual data analysis"
   ]
  },
  {
   "cell_type": "markdown",
   "metadata": {},
   "source": [
    "Now let's check how our data is looking at after transforming the 2-D images into a 1-D vectors, that have 784 components (remember that our images are 28x28)."
   ]
  },
  {
   "cell_type": "code",
   "execution_count": 28,
   "metadata": {},
   "outputs": [
    {
     "data": {
      "text/plain": [
       "<matplotlib.figure.Figure at 0x2b0dfcff940>"
      ]
     },
     "metadata": {},
     "output_type": "display_data"
    },
    {
     "data": {
      "image/png": "[encoded data removed]",
      "text/plain": [
       "<matplotlib.figure.Figure at 0x2b0e166bc18>"
      ]
     },
     "metadata": {},
     "output_type": "display_data"
    }
   ],
   "source": [
    "plt.rc('font', family='arial')\n",
    "plt.rc('xtick', labelsize='x-small')\n",
    "plt.rc('ytick', labelsize='x-small')\n",
    "    \n",
    "plt.tight_layout()\n",
    "\n",
    "fig = plt.figure(figsize=(12,9))\n",
    "ax = fig.add_subplot(2, 2, 1)\n",
    "plt.bar(x=np.arange(0,784,1),height=Xinput[555,:], color = 'black', alpha = 0.5, width = 5.0)\n",
    "#ax.set_ylim(0,6)\n",
    "ax.set_xlim(0, 784)\n",
    "ax.set_xlabel('Pixel Number', fontsize = 16)\n",
    "ax.set_ylabel('Gray Value', fontsize = 16)\n",
    "plt.xticks(fontsize=14);\n",
    "plt.yticks(fontsize=14);\n",
    "\n",
    "\n",
    "ax = fig.add_subplot(2, 2, 2)\n",
    "#ax.set_ylim(0,6)\n",
    "#ax.set_xlim(0.982,0.991)\n",
    "ax.set_xlim(0, 784)\n",
    "plt.bar(x=np.arange(0,784,1),height=Xinput[879,:], color = 'black', alpha = 0.5, width = 5.0)\n",
    "ax.set_xlabel('Pixel Number', fontsize = 16)\n",
    "plt.xticks(fontsize=14);\n",
    "plt.yticks(fontsize=14);\n",
    "\n",
    "ax = fig.add_subplot(2, 2, 3)\n",
    "#ax.set_ylim(0,6)\n",
    "#ax.set_xlim(0.982,0.991)\n",
    "ax.set_xlim(0, 784)\n",
    "plt.bar(x=np.arange(0,784,1),height=Xinput[78,:], color = 'black', alpha = 0.5, width = 5.0)\n",
    "ax.set_xlabel('Pixel Number', fontsize = 16)\n",
    "plt.xticks(fontsize=14);\n",
    "plt.yticks(fontsize=14);\n",
    "\n",
    "ax = fig.add_subplot(2, 2, 4)\n",
    "#ax.set_ylim(0,6)\n",
    "#ax.set_xlim(0.982,0.991)\n",
    "ax.set_xlim(0, 784)\n",
    "plt.bar(x=np.arange(0,784,1),height=Xinput[111,:], color = 'black', alpha = 0.5, width = 5.0)\n",
    "ax.set_xlabel('Pixel Number', fontsize = 16)\n",
    "plt.xticks(fontsize=14);\n",
    "plt.yticks(fontsize=14);\n",
    "\n",
    "\n"
   ]
  },
  {
   "cell_type": "markdown",
   "metadata": {},
   "source": [
    "Is very interesting to note that all images look the same. Even without knowing what digit they are is rather simple to recognize that they must be the same digit!"
   ]
  },
  {
   "cell_type": "markdown",
   "metadata": {},
   "source": [
    "### Another example of digit 1"
   ]
  },
  {
   "cell_type": "code",
   "execution_count": 29,
   "metadata": {},
   "outputs": [
    {
     "data": {
      "text/plain": [
       "<matplotlib.figure.Figure at 0x2b0df5bb2b0>"
      ]
     },
     "metadata": {},
     "output_type": "display_data"
    },
    {
     "data": {
      "image/png": "[encoded data removed]",
      "text/plain": [
       "<matplotlib.figure.Figure at 0x2b0df5bb390>"
      ]
     },
     "metadata": {},
     "output_type": "display_data"
    }
   ],
   "source": [
    "plt.rc('font', family='arial')\n",
    "plt.rc('xtick', labelsize='x-small')\n",
    "plt.rc('ytick', labelsize='x-small')\n",
    "    \n",
    "plt.tight_layout()\n",
    "\n",
    "fig = plt.figure(figsize=(14,6))\n",
    "ax = fig.add_subplot(1, 2, 1)\n",
    "\n",
    "some_digit = Xinput[879,:]\n",
    "some_digit_image = some_digit.reshape(28,28)\n",
    "\n",
    "ax.imshow(some_digit_image, cmap = matplotlib.cm.binary, interpolation = \"nearest\")\n",
    "plt.axis(\"off\")\n",
    "\n",
    "ax = fig.add_subplot(1, 2, 2)\n",
    "#ax.set_ylim(0,6)\n",
    "#ax.set_xlim(0.982,0.991)\n",
    "plt.bar(x=np.arange(0,784,1),height=Xinput[879,:], color = 'black', alpha = 0.5, width = 5.0)\n",
    "ax.set_xlabel('Pixel Number', fontsize = 16)\n",
    "ax.set_ylabel('Gray Value', fontsize = 16)\n",
    "plt.xticks(fontsize=14);\n",
    "plt.yticks(fontsize=14);\n",
    "\n",
    "\n"
   ]
  },
  {
   "cell_type": "markdown",
   "metadata": {},
   "source": [
    "### Digit 2"
   ]
  },
  {
   "cell_type": "markdown",
   "metadata": {},
   "source": [
    "Now let's have a look at digit 2 and how it differs from digit 1"
   ]
  },
  {
   "cell_type": "code",
   "execution_count": 30,
   "metadata": {},
   "outputs": [
    {
     "data": {
      "text/plain": [
       "<matplotlib.figure.Figure at 0x2b0e52b7c88>"
      ]
     },
     "metadata": {},
     "output_type": "display_data"
    },
    {
     "data": {
      "image/png": "[encoded data removed]",
      "text/plain": [
       "<matplotlib.figure.Figure at 0x2b0e525eb00>"
      ]
     },
     "metadata": {},
     "output_type": "display_data"
    }
   ],
   "source": [
    "plt.rc('font', family='arial')\n",
    "plt.rc('xtick', labelsize='x-small')\n",
    "plt.rc('ytick', labelsize='x-small')\n",
    "    \n",
    "plt.tight_layout()\n",
    "\n",
    "fig = plt.figure(figsize=(12,5))\n",
    "ax = fig.add_subplot(1, 2, 1)\n",
    "\n",
    "some_digit = Xinput[8999,:]\n",
    "some_digit_image = some_digit.reshape(28,28)\n",
    "\n",
    "ax.imshow(some_digit_image, cmap = matplotlib.cm.binary, interpolation = \"nearest\")\n",
    "plt.axis(\"off\")\n",
    "\n",
    "ax = fig.add_subplot(1, 2, 2)\n",
    "#ax.set_ylim(0,6)\n",
    "#ax.set_xlim(0.982,0.991)\n",
    "ax.set_xlim(0, 784)\n",
    "plt.bar(x=np.arange(0,784,1),height=Xinput[8999,:], color = 'black', alpha = 0.5, width = 5.0)\n",
    "ax.set_xlabel('Pixel Number', fontsize = 16)\n",
    "ax.set_ylabel('Gray Value', fontsize = 16)\n",
    "plt.xticks(fontsize=14);\n",
    "plt.yticks(fontsize=14);"
   ]
  },
  {
   "cell_type": "markdown",
   "metadata": {},
   "source": [
    "### Let's check some 2s"
   ]
  },
  {
   "cell_type": "code",
   "execution_count": 59,
   "metadata": {},
   "outputs": [
    {
     "data": {
      "text/plain": [
       "(array([ 6742,  6743,  6744, ..., 14864, 14865, 14866], dtype=int64),)"
      ]
     },
     "execution_count": 59,
     "metadata": {},
     "output_type": "execute_result"
    }
   ],
   "source": [
    "np.where(yinput == 1)"
   ]
  },
  {
   "cell_type": "code",
   "execution_count": 32,
   "metadata": {},
   "outputs": [
    {
     "data": {
      "text/plain": [
       "<matplotlib.figure.Figure at 0x2b0e825bf28>"
      ]
     },
     "metadata": {},
     "output_type": "display_data"
    },
    {
     "data": {
      "image/png": "[encoded data removed]",
      "text/plain": [
       "<matplotlib.figure.Figure at 0x2b0e825bef0>"
      ]
     },
     "metadata": {},
     "output_type": "display_data"
    }
   ],
   "source": [
    "plt.rc('font', family='arial')\n",
    "plt.rc('xtick', labelsize='x-small')\n",
    "plt.rc('ytick', labelsize='x-small')\n",
    "    \n",
    "plt.tight_layout()\n",
    "\n",
    "fig = plt.figure(figsize=(12, 9))\n",
    "ax = fig.add_subplot(2, 2, 1)\n",
    "plt.bar(x=np.arange(0,784,1),height=Xinput[6744,:], color = 'black', alpha = 0.5, width = 5.0)\n",
    "#ax.set_ylim(0,6)\n",
    "ax.set_xlim(0, 784)\n",
    "ax.set_xlabel('Pixel Number', fontsize = 16)\n",
    "ax.set_ylabel('Gray Value', fontsize = 16)\n",
    "plt.xticks(fontsize=14);\n",
    "plt.yticks(fontsize=14);\n",
    "\n",
    "ax = fig.add_subplot(2, 2, 2)\n",
    "#ax.set_ylim(0,6)\n",
    "#ax.set_xlim(0.982,0.991)\n",
    "ax.set_xlim(0, 784)\n",
    "plt.bar(x=np.arange(0,784,1),height=Xinput[7465,:], color = 'black', alpha = 0.5, width = 5.0)\n",
    "ax.set_xlabel('Pixel Number', fontsize = 16)\n",
    "plt.xticks(fontsize=14);\n",
    "plt.yticks(fontsize=14);\n",
    "\n",
    "ax = fig.add_subplot(2, 2, 3)\n",
    "#ax.set_ylim(0,6)\n",
    "#ax.set_xlim(0.982,0.991)\n",
    "ax.set_xlim(0, 784)\n",
    "plt.bar(x=np.arange(0,784,1),height=Xinput[8675,:], color = 'black', alpha = 0.5, width = 5.0)\n",
    "ax.set_xlabel('Pixel Number', fontsize = 16)\n",
    "ax.set_ylabel('Gray Value', fontsize = 16)\n",
    "plt.xticks(fontsize=14);\n",
    "plt.yticks(fontsize=14);\n",
    "\n",
    "ax = fig.add_subplot(2, 2, 4)\n",
    "#ax.set_ylim(0,6)\n",
    "#ax.set_xlim(0.982,0.991)\n",
    "ax.set_xlim(0, 784)\n",
    "plt.bar(x=np.arange(0,784,1),height=Xinput[9857,:], color = 'black', alpha = 0.5, width = 5.0)\n",
    "ax.set_xlabel('Pixel Number', fontsize = 16)\n",
    "\n",
    "plt.xticks(fontsize=14);\n",
    "plt.yticks(fontsize=14);\n"
   ]
  },
  {
   "cell_type": "code",
   "execution_count": 71,
   "metadata": {},
   "outputs": [
    {
     "data": {
      "image/png": "[encoded data removed]",
      "text/plain": [
       "<matplotlib.figure.Figure at 0x29297e77828>"
      ]
     },
     "metadata": {},
     "output_type": "display_data"
    }
   ],
   "source": [
    "some_digit = Xinput[7665,:]\n",
    "\n",
    "some_digit_image = some_digit.reshape(28,28)\n",
    "plt.figure(figsize=(12,7))\n",
    "\n",
    "plt.imshow(some_digit_image, cmap = matplotlib.cm.binary, interpolation = \"nearest\")\n",
    "plt.axis(\"off\")\n",
    "plt.show()"
   ]
  },
  {
   "cell_type": "code",
   "execution_count": 72,
   "metadata": {},
   "outputs": [
    {
     "data": {
      "image/png": "[encoded data removed]",
      "text/plain": [
       "<matplotlib.figure.Figure at 0x292977ef240>"
      ]
     },
     "metadata": {},
     "output_type": "display_data"
    }
   ],
   "source": [
    "some_digit = Xinput[123,:]\n",
    "\n",
    "some_digit_image = some_digit.reshape(28,28)\n",
    "plt.figure(figsize=(12,7))\n",
    "plt.imshow(some_digit_image, cmap = matplotlib.cm.binary, interpolation = \"nearest\")\n",
    "plt.axis(\"off\")\n",
    "plt.show()"
   ]
  },
  {
   "cell_type": "markdown",
   "metadata": {},
   "source": [
    "# Distributions of gray values"
   ]
  },
  {
   "cell_type": "markdown",
   "metadata": {},
   "source": [
    "Now is very instructive to study the distributions of gray values in the different digits to see what we can learn"
   ]
  },
  {
   "cell_type": "code",
   "execution_count": 75,
   "metadata": {},
   "outputs": [
    {
     "data": {
      "image/png": "[encoded data removed]",
      "text/plain": [
       "<matplotlib.figure.Figure at 0x292973470b8>"
      ]
     },
     "metadata": {},
     "output_type": "display_data"
    }
   ],
   "source": [
    "plt.rc('font', family='arial')\n",
    "plt.rc('xtick', labelsize='x-small')\n",
    "plt.rc('ytick', labelsize='x-small')\n",
    "\n",
    "plt.figure(figsize=(12,7))\n",
    "plt.hist(Xinput[123,:], bins = 30) # This is a one\n",
    "plt.tick_params(labelsize=16)\n",
    "plt.show()"
   ]
  },
  {
   "cell_type": "markdown",
   "metadata": {},
   "source": [
    "as expected we get lots of white pixels. But that does not tell us much, it actually hide the real useful information. So let's remove the really white pixel from the histogram"
   ]
  },
  {
   "cell_type": "code",
   "execution_count": 85,
   "metadata": {},
   "outputs": [
    {
     "name": "stdout",
     "output_type": "stream",
     "text": [
      "(784,)\n",
      "(77,)\n",
      "(132,)\n"
     ]
    }
   ],
   "source": [
    "digone = Xinput[123,:]\n",
    "digtwo = Xinput[7665,:]\n",
    "digone = digone[digone > 5]\n",
    "digtwo = digtwo[digtwo > 5]\n",
    "\n",
    "print (Xinput[123,:].shape)\n",
    "print (digone.shape)\n",
    "print(digtwo.shape)"
   ]
  },
  {
   "cell_type": "code",
   "execution_count": 96,
   "metadata": {},
   "outputs": [
    {
     "data": {
      "image/png": "[encoded data removed]",
      "text/plain": [
       "<matplotlib.figure.Figure at 0x2929f144080>"
      ]
     },
     "metadata": {},
     "output_type": "display_data"
    }
   ],
   "source": [
    "plt.rc('font', family='arial')\n",
    "plt.rc('xtick', labelsize='x-small')\n",
    "plt.rc('ytick', labelsize='x-small')\n",
    "\n",
    "plt.figure(figsize=(12,7))\n",
    "plt.hist(digone, bins = 30, alpha = 0.2, color = 'red', label = 'Digit 1')\n",
    "plt.hist(digtwo, bins = 30, alpha = 0.2, color = 'blue', label = 'Digit 2')\n",
    "plt.legend(bbox_to_anchor=(1.05, 1), loc=2, borderaxespad=0., fontsize = 16)\n",
    "plt.tick_params(labelsize=16)\n",
    "plt.show()"
   ]
  },
  {
   "cell_type": "markdown",
   "metadata": {},
   "source": [
    "We can see that the two digits are slightly different but we cannot really use it to our advantage."
   ]
  },
  {
   "cell_type": "markdown",
   "metadata": {},
   "source": [
    "# Two new features"
   ]
  },
  {
   "cell_type": "markdown",
   "metadata": {},
   "source": [
    "Let's define two new features that will allow us to distinguish between a one and a two. Consider the following digit 2 plotted as a 1-d Vector"
   ]
  },
  {
   "cell_type": "code",
   "execution_count": 101,
   "metadata": {},
   "outputs": [
    {
     "data": {
      "text/plain": [
       "<matplotlib.figure.Figure at 0x292a114fe48>"
      ]
     },
     "metadata": {},
     "output_type": "display_data"
    },
    {
     "data": {
      "image/png": "[encoded data removed]",
      "text/plain": [
       "<matplotlib.figure.Figure at 0x292a0f2ca20>"
      ]
     },
     "metadata": {},
     "output_type": "display_data"
    }
   ],
   "source": [
    "plt.rc('font', family='arial')\n",
    "plt.rc('xtick', labelsize='x-small')\n",
    "plt.rc('ytick', labelsize='x-small')\n",
    "    \n",
    "plt.tight_layout()\n",
    "\n",
    "fig = plt.figure(figsize=(12,5))\n",
    "ax = fig.add_subplot(1, 1, 1)\n",
    "\n",
    "some_digit = Xinput[9000,:]\n",
    "some_digit_image = some_digit.reshape(28,28)\n",
    "\n",
    "#ax.set_ylim(0,6)\n",
    "#ax.set_xlim(0.982,0.991)\n",
    "ax.set_xlim(0, 784)\n",
    "plt.bar(x=np.arange(0,784,1),height=Xinput[9000,:], color = 'black', alpha = 0.5, width = 5.0)\n",
    "ax.set_xlabel('Pixel Number', fontsize = 16)\n",
    "ax.set_ylabel('Gray Value', fontsize = 16)\n",
    "plt.tick_params(labelsize=16)"
   ]
  },
  {
   "cell_type": "markdown",
   "metadata": {},
   "source": [
    "You will notice how there are more peaks between 100 and 300 and between 450 and 650. Let's define new features"
   ]
  },
  {
   "cell_type": "code",
   "execution_count": 117,
   "metadata": {},
   "outputs": [],
   "source": [
    "left = np.sum(Xinput[:,100:300], axis = 1)\n",
    "right = np.sum(Xinput[:,450:650], axis = 1)"
   ]
  },
  {
   "cell_type": "markdown",
   "metadata": {},
   "source": [
    "Now let's see how they differ between ones and twos"
   ]
  },
  {
   "cell_type": "code",
   "execution_count": 118,
   "metadata": {},
   "outputs": [],
   "source": [
    "leftones = left[yinput == 0]\n",
    "lefttwos = left[yinput == 1]\n",
    "\n",
    "rightones = right[yinput == 0]\n",
    "righttwos =  right[yinput == 1]"
   ]
  },
  {
   "cell_type": "code",
   "execution_count": 147,
   "metadata": {},
   "outputs": [
    {
     "data": {
      "image/png": "[encoded data removed]",
      "text/plain": [
       "<matplotlib.figure.Figure at 0x2929b471198>"
      ]
     },
     "metadata": {},
     "output_type": "display_data"
    }
   ],
   "source": [
    "plt.rc('font', family='arial')\n",
    "plt.rc('xtick', labelsize='x-small')\n",
    "plt.rc('ytick', labelsize='x-small')\n",
    "\n",
    "plt.figure(figsize=(12,7))\n",
    "plt.hist(leftones, bins = 30, alpha = 0.2, color = 'red', label = 'Digit 1 - left pixel sum')\n",
    "plt.hist(lefttwos, bins = 30, alpha = 0.2, color = 'blue', label = 'Digit 2 - left pixel sum')\n",
    "plt.legend(bbox_to_anchor=(1.05, 1), loc=2, borderaxespad=0., fontsize = 16)\n",
    "plt.xlabel('Sum of gray values for pixels location in [100,299]', fontsize = 16)\n",
    "plt.ylabel('Count', fontsize = 16)\n",
    "plt.tick_params(labelsize=16)\n",
    "plt.show()"
   ]
  },
  {
   "cell_type": "markdown",
   "metadata": {},
   "source": [
    "Now we clearly see a difference! There are many more dark pixels in the are [100,299] for twos than for ones, as expected. Let's check the right part"
   ]
  },
  {
   "cell_type": "code",
   "execution_count": 146,
   "metadata": {},
   "outputs": [
    {
     "data": {
      "image/png": "[encoded data removed]",
      "text/plain": [
       "<matplotlib.figure.Figure at 0x2929f2021d0>"
      ]
     },
     "metadata": {},
     "output_type": "display_data"
    }
   ],
   "source": [
    "plt.rc('font', family='arial')\n",
    "plt.rc('xtick', labelsize='x-small')\n",
    "plt.rc('ytick', labelsize='x-small')\n",
    "\n",
    "plt.figure(figsize=(12,7))\n",
    "plt.hist(rightones, bins = 30, alpha = 0.2, color = 'red', label = 'Digit 1 - right pixel sum')\n",
    "plt.hist(righttwos, bins = 30, alpha = 0.2, color = 'blue', label = 'Digit 2 - right pixel sum')\n",
    "plt.legend(bbox_to_anchor=(1.05, 1), loc=2, borderaxespad=0., fontsize = 16)\n",
    "plt.xlabel('Sum of gray values for pixels location in [450,649]', fontsize = 16)\n",
    "plt.ylabel('Count', fontsize = 16)\n",
    "plt.tick_params(labelsize=16)\n",
    "plt.show()"
   ]
  },
  {
   "cell_type": "markdown",
   "metadata": {},
   "source": [
    "Same situation on the right side. But in this region the different is even more pronounced. Now let's try to use this information to detect ones and twos."
   ]
  },
  {
   "cell_type": "markdown",
   "metadata": {},
   "source": [
    "## Predictions"
   ]
  },
  {
   "cell_type": "markdown",
   "metadata": {},
   "source": [
    "We could decide that if the value of ```left``` lies below 7500 is a one and if above is a two."
   ]
  },
  {
   "cell_type": "code",
   "execution_count": 129,
   "metadata": {},
   "outputs": [],
   "source": [
    "pred = left > 6500"
   ]
  },
  {
   "cell_type": "code",
   "execution_count": 130,
   "metadata": {},
   "outputs": [
    {
     "data": {
      "text/plain": [
       "0.85894935091141456"
      ]
     },
     "execution_count": 130,
     "metadata": {},
     "output_type": "execute_result"
    }
   ],
   "source": [
    "np.mean(pred == yinput)"
   ]
  },
  {
   "cell_type": "markdown",
   "metadata": {},
   "source": [
    "and simply in this way we get ca. 86% accuarcy!"
   ]
  },
  {
   "cell_type": "markdown",
   "metadata": {},
   "source": [
    "let's now use also the right information."
   ]
  },
  {
   "cell_type": "code",
   "execution_count": 131,
   "metadata": {},
   "outputs": [],
   "source": [
    "pred2 = right > 7500"
   ]
  },
  {
   "cell_type": "code",
   "execution_count": 132,
   "metadata": {},
   "outputs": [
    {
     "data": {
      "text/plain": [
       "0.90892580883836682"
      ]
     },
     "execution_count": 132,
     "metadata": {},
     "output_type": "execute_result"
    }
   ],
   "source": [
    "np.mean(pred2 == yinput)"
   ]
  },
  {
   "cell_type": "markdown",
   "metadata": {},
   "source": [
    "Here is even better! We get up to 90% accuarcy."
   ]
  },
  {
   "cell_type": "markdown",
   "metadata": {},
   "source": [
    "Now we could use both informations"
   ]
  },
  {
   "cell_type": "code",
   "execution_count": 133,
   "metadata": {},
   "outputs": [],
   "source": [
    "pred = (left > 6500) & (right > 7500)"
   ]
  },
  {
   "cell_type": "code",
   "execution_count": 134,
   "metadata": {},
   "outputs": [
    {
     "data": {
      "text/plain": [
       "0.90892580883836682"
      ]
     },
     "execution_count": 134,
     "metadata": {},
     "output_type": "execute_result"
    }
   ],
   "source": [
    "np.mean(pred2 == yinput)"
   ]
  },
  {
   "cell_type": "markdown",
   "metadata": {},
   "source": [
    "Out of curiosity we could try to find the best values for example for the right sum of pixels"
   ]
  },
  {
   "cell_type": "code",
   "execution_count": 139,
   "metadata": {},
   "outputs": [
    {
     "name": "stdout",
     "output_type": "stream",
     "text": [
      "i 8944\n",
      "accuracy 0.931862514293\n"
     ]
    }
   ],
   "source": [
    "chosen_value = 0\n",
    "accuracy = 0\n",
    "for i in range (0, yinput.shape[0]):\n",
    "    pred = right > i\n",
    "    accuracy_ = np.mean(pred == yinput)\n",
    "    if (accuracy_ > accuracy ):\n",
    "        accuracy = accuracy_\n",
    "        chosen_value = i\n",
    "        \n",
    "print ('i', chosen_value)\n",
    "print('accuracy', accuracy)"
   ]
  },
  {
   "cell_type": "markdown",
   "metadata": {},
   "source": [
    "nice accuracy. Now let's try the left side"
   ]
  },
  {
   "cell_type": "code",
   "execution_count": 140,
   "metadata": {},
   "outputs": [
    {
     "name": "stdout",
     "output_type": "stream",
     "text": [
      "i 6539\n",
      "accuracy 0.85962198157\n"
     ]
    }
   ],
   "source": [
    "chosen_value = 0\n",
    "accuracy = 0\n",
    "for i in range (0, yinput.shape[0]):\n",
    "    pred = left > i\n",
    "    accuracy_ = np.mean(pred == yinput)\n",
    "    if (accuracy_ > accuracy ):\n",
    "        accuracy = accuracy_\n",
    "        chosen_value = i\n",
    "        \n",
    "print ('i', chosen_value)\n",
    "print('accuracy', accuracy)"
   ]
  },
  {
   "cell_type": "markdown",
   "metadata": {},
   "source": [
    "# Conclusions"
   ]
  },
  {
   "cell_type": "markdown",
   "metadata": {},
   "source": [
    "Simply summing the gray values on the right side of the image we can detect the digits with an accuracy of 93%. Without any machine learning algorithm.\n",
    "\n",
    "Remember: check the data and learn how it is structured! Then you can design the right model!"
   ]
  },
  {
   "cell_type": "markdown",
   "metadata": {},
   "source": [
    "# Exercise 1 (difficulty: medium)"
   ]
  },
  {
   "cell_type": "markdown",
   "metadata": {},
   "source": [
    "Build a classifier, similar to what we have done before, using two other digits. You can choose which one. If you want a challenge try 3 and 8, or 1 and 7."
   ]
  },
  {
   "cell_type": "markdown",
   "metadata": {},
   "source": [
    "# Exercise 2 (difficulty: hard)"
   ]
  },
  {
   "cell_type": "markdown",
   "metadata": {},
   "source": [
    "Try to build a classifier using 3 digits instead of 2. Choose for example 1,2 and 3."
   ]
  },
  {
   "cell_type": "code",
   "execution_count": null,
   "metadata": {},
   "outputs": [],
   "source": []
  }
 ],
 "metadata": {
  "kernelspec": {
   "display_name": "Python 3",
   "language": "python",
   "name": "python3"
  },
  "language_info": {
   "codemirror_mode": {
    "name": "ipython",
    "version": 3
   },
   "file_extension": ".py",
   "mimetype": "text/x-python",
   "name": "python",
   "nbconvert_exporter": "python",
   "pygments_lexer": "ipython3",
   "version": "3.7.2"
  }
 },
 "nbformat": 4,
 "nbformat_minor": 2
}
